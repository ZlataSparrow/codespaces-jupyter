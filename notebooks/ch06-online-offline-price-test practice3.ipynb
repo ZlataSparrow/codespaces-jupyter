{
 "cells": [
  {
   "cell_type": "markdown",
   "metadata": {},
   "source": [
    "#### Prepared for Gabor's Data Analysis\n",
    "\n",
    "### Data Analysis for Business, Economics, and Policy\n",
    "by Gabor Bekes and  Gabor Kezdi\n",
    " \n",
    "Cambridge University Press 2021\n",
    "\n",
    "**[gabors-data-analysis.com ](https://gabors-data-analysis.com/)**\n",
    "\n",
    " License: Free to share, modify and use for educational purposes. \n",
    " Not to be used for commercial purposes.\n",
    "\n",
    "### Chapter 06\n",
    "**CH06A Comparing Online and Offline Prices: Testing the Difference**\n",
    "\n",
    "billion-prices dataset dataset\n",
    "\n",
    "version 1.0 2021-05-05"
   ]
  },
  {
   "cell_type": "code",
   "execution_count": 1,
   "metadata": {},
   "outputs": [],
   "source": [
    "import os\n",
    "import sys\n",
    "import warnings\n",
    "\n",
    "import numpy as np\n",
    "import pandas as pd\n",
    "from scipy import stats\n",
    "from mizani.formatters import percent_format\n",
    "from plotnine import *\n",
    "\n",
    "warnings.filterwarnings(\"ignore\")\n"
   ]
  },
  {
   "cell_type": "code",
   "execution_count": 18,
   "metadata": {},
   "outputs": [],
   "source": [
    "data = pd.read_csv(\"/workspaces/codespaces-jupyter/data/online_offline_ALL_clean.csv\", encoding=\"latin1\")\n",
    "# data = pd.read_csv(\"https://osf.io/yhbr5/download\", encoding=\"latin1\")\n"
   ]
  },
  {
   "cell_type": "code",
   "execution_count": 20,
   "metadata": {},
   "outputs": [
    {
     "data": {
      "text/html": [
       "<div>\n",
       "<style scoped>\n",
       "    .dataframe tbody tr th:only-of-type {\n",
       "        vertical-align: middle;\n",
       "    }\n",
       "\n",
       "    .dataframe tbody tr th {\n",
       "        vertical-align: top;\n",
       "    }\n",
       "\n",
       "    .dataframe thead th {\n",
       "        text-align: right;\n",
       "    }\n",
       "</style>\n",
       "<table border=\"1\" class=\"dataframe\">\n",
       "  <thead>\n",
       "    <tr style=\"text-align: right;\">\n",
       "      <th></th>\n",
       "      <th>COUNTRY</th>\n",
       "      <th>retailer</th>\n",
       "      <th>retailer_s</th>\n",
       "      <th>date</th>\n",
       "      <th>day</th>\n",
       "      <th>month</th>\n",
       "      <th>year</th>\n",
       "      <th>id</th>\n",
       "      <th>price</th>\n",
       "      <th>price_online</th>\n",
       "      <th>...</th>\n",
       "      <th>DEVICEID</th>\n",
       "      <th>TIME</th>\n",
       "      <th>ZIPCODE</th>\n",
       "      <th>PHOTO</th>\n",
       "      <th>OTHERSKUITEM</th>\n",
       "      <th>COMMENTS</th>\n",
       "      <th>PRICETYPE</th>\n",
       "      <th>CODE</th>\n",
       "      <th>sale_online</th>\n",
       "      <th>country_s</th>\n",
       "    </tr>\n",
       "  </thead>\n",
       "  <tbody>\n",
       "    <tr>\n",
       "      <th>9430</th>\n",
       "      <td>BRAZIL</td>\n",
       "      <td>14</td>\n",
       "      <td>BRAZIL_14</td>\n",
       "      <td>2015-05-21</td>\n",
       "      <td>21.0</td>\n",
       "      <td>5.0</td>\n",
       "      <td>2015.0</td>\n",
       "      <td>00110099000239</td>\n",
       "      <td>2.39</td>\n",
       "      <td>2.13</td>\n",
       "      <td>...</td>\n",
       "      <td>7237b9177ecc492</td>\n",
       "      <td>17:41</td>\n",
       "      <td>54410010</td>\n",
       "      <td>20150521_174143.jpg</td>\n",
       "      <td>NaN</td>\n",
       "      <td>NaN</td>\n",
       "      <td>NaN</td>\n",
       "      <td>124816.0</td>\n",
       "      <td>NaN</td>\n",
       "      <td>Brazil</td>\n",
       "    </tr>\n",
       "    <tr>\n",
       "      <th>9255</th>\n",
       "      <td>BRAZIL</td>\n",
       "      <td>14</td>\n",
       "      <td>BRAZIL_14</td>\n",
       "      <td>2015-05-09</td>\n",
       "      <td>9.0</td>\n",
       "      <td>5.0</td>\n",
       "      <td>2015.0</td>\n",
       "      <td>00217521000999</td>\n",
       "      <td>9.99</td>\n",
       "      <td>10.69</td>\n",
       "      <td>...</td>\n",
       "      <td>44808be760f4f6ee</td>\n",
       "      <td>21:46</td>\n",
       "      <td>14025-390</td>\n",
       "      <td>20150509_214652.jpg</td>\n",
       "      <td>NaN</td>\n",
       "      <td>NaN</td>\n",
       "      <td>NaN</td>\n",
       "      <td>124816.0</td>\n",
       "      <td>NaN</td>\n",
       "      <td>Brazil</td>\n",
       "    </tr>\n",
       "    <tr>\n",
       "      <th>9256</th>\n",
       "      <td>BRAZIL</td>\n",
       "      <td>14</td>\n",
       "      <td>BRAZIL_14</td>\n",
       "      <td>2015-05-09</td>\n",
       "      <td>9.0</td>\n",
       "      <td>5.0</td>\n",
       "      <td>2015.0</td>\n",
       "      <td>00357852000638</td>\n",
       "      <td>6.38</td>\n",
       "      <td>6.83</td>\n",
       "      <td>...</td>\n",
       "      <td>44808be760f4f6ee</td>\n",
       "      <td>21:59</td>\n",
       "      <td>14025-390</td>\n",
       "      <td>20150509_215913.jpg</td>\n",
       "      <td>NaN</td>\n",
       "      <td>NaN</td>\n",
       "      <td>NaN</td>\n",
       "      <td>124816.0</td>\n",
       "      <td>NaN</td>\n",
       "      <td>Brazil</td>\n",
       "    </tr>\n",
       "    <tr>\n",
       "      <th>9343</th>\n",
       "      <td>BRAZIL</td>\n",
       "      <td>14</td>\n",
       "      <td>BRAZIL_14</td>\n",
       "      <td>2015-05-20</td>\n",
       "      <td>20.0</td>\n",
       "      <td>5.0</td>\n",
       "      <td>2015.0</td>\n",
       "      <td>00357968000599</td>\n",
       "      <td>5.99</td>\n",
       "      <td>5.98</td>\n",
       "      <td>...</td>\n",
       "      <td>7237b9177ecc492</td>\n",
       "      <td>14:55</td>\n",
       "      <td>54410010</td>\n",
       "      <td>20150520_145531.jpg</td>\n",
       "      <td>NaN</td>\n",
       "      <td>NaN</td>\n",
       "      <td>NaN</td>\n",
       "      <td>124816.0</td>\n",
       "      <td>NaN</td>\n",
       "      <td>Brazil</td>\n",
       "    </tr>\n",
       "    <tr>\n",
       "      <th>9536</th>\n",
       "      <td>BRAZIL</td>\n",
       "      <td>14</td>\n",
       "      <td>BRAZIL_14</td>\n",
       "      <td>2015-06-06</td>\n",
       "      <td>6.0</td>\n",
       "      <td>6.0</td>\n",
       "      <td>2015.0</td>\n",
       "      <td>00642822</td>\n",
       "      <td>14.59</td>\n",
       "      <td>15.61</td>\n",
       "      <td>...</td>\n",
       "      <td>482397ad9a915ece</td>\n",
       "      <td>15:16</td>\n",
       "      <td>05417001</td>\n",
       "      <td>20150606_151626.jpg</td>\n",
       "      <td>NaN</td>\n",
       "      <td>NaN</td>\n",
       "      <td>NaN</td>\n",
       "      <td>124816.0</td>\n",
       "      <td>NaN</td>\n",
       "      <td>Brazil</td>\n",
       "    </tr>\n",
       "    <tr>\n",
       "      <th>...</th>\n",
       "      <td>...</td>\n",
       "      <td>...</td>\n",
       "      <td>...</td>\n",
       "      <td>...</td>\n",
       "      <td>...</td>\n",
       "      <td>...</td>\n",
       "      <td>...</td>\n",
       "      <td>...</td>\n",
       "      <td>...</td>\n",
       "      <td>...</td>\n",
       "      <td>...</td>\n",
       "      <td>...</td>\n",
       "      <td>...</td>\n",
       "      <td>...</td>\n",
       "      <td>...</td>\n",
       "      <td>...</td>\n",
       "      <td>...</td>\n",
       "      <td>...</td>\n",
       "      <td>...</td>\n",
       "      <td>...</td>\n",
       "      <td>...</td>\n",
       "    </tr>\n",
       "    <tr>\n",
       "      <th>9453</th>\n",
       "      <td>BRAZIL</td>\n",
       "      <td>14</td>\n",
       "      <td>BRAZIL_14</td>\n",
       "      <td>2015-05-21</td>\n",
       "      <td>21.0</td>\n",
       "      <td>5.0</td>\n",
       "      <td>2015.0</td>\n",
       "      <td>A5178964000000455</td>\n",
       "      <td>4.55</td>\n",
       "      <td>5.34</td>\n",
       "      <td>...</td>\n",
       "      <td>7237b9177ecc492</td>\n",
       "      <td>17:14</td>\n",
       "      <td>54410010</td>\n",
       "      <td>20150521_171520.jpg</td>\n",
       "      <td>NaN</td>\n",
       "      <td>NaN</td>\n",
       "      <td>NaN</td>\n",
       "      <td>124816.0</td>\n",
       "      <td>NaN</td>\n",
       "      <td>Brazil</td>\n",
       "    </tr>\n",
       "    <tr>\n",
       "      <th>9428</th>\n",
       "      <td>BRAZIL</td>\n",
       "      <td>14</td>\n",
       "      <td>BRAZIL_14</td>\n",
       "      <td>2015-05-20</td>\n",
       "      <td>20.0</td>\n",
       "      <td>5.0</td>\n",
       "      <td>2015.0</td>\n",
       "      <td>A5191161000008990</td>\n",
       "      <td>89.90</td>\n",
       "      <td>49.90</td>\n",
       "      <td>...</td>\n",
       "      <td>7237b9177ecc492</td>\n",
       "      <td>14:41</td>\n",
       "      <td>54410010</td>\n",
       "      <td>20150520_144118.jpg</td>\n",
       "      <td>NaN</td>\n",
       "      <td>NaN</td>\n",
       "      <td>NaN</td>\n",
       "      <td>124816.0</td>\n",
       "      <td>NaN</td>\n",
       "      <td>Brazil</td>\n",
       "    </tr>\n",
       "    <tr>\n",
       "      <th>9454</th>\n",
       "      <td>BRAZIL</td>\n",
       "      <td>14</td>\n",
       "      <td>BRAZIL_14</td>\n",
       "      <td>2015-05-21</td>\n",
       "      <td>21.0</td>\n",
       "      <td>5.0</td>\n",
       "      <td>2015.0</td>\n",
       "      <td>A5666102000000509</td>\n",
       "      <td>5.09</td>\n",
       "      <td>5.45</td>\n",
       "      <td>...</td>\n",
       "      <td>7237b9177ecc492</td>\n",
       "      <td>17:07</td>\n",
       "      <td>54410010</td>\n",
       "      <td>20150521_170724.jpg</td>\n",
       "      <td>NaN</td>\n",
       "      <td>NaN</td>\n",
       "      <td>NaN</td>\n",
       "      <td>124816.0</td>\n",
       "      <td>NaN</td>\n",
       "      <td>Brazil</td>\n",
       "    </tr>\n",
       "    <tr>\n",
       "      <th>9455</th>\n",
       "      <td>BRAZIL</td>\n",
       "      <td>14</td>\n",
       "      <td>BRAZIL_14</td>\n",
       "      <td>2015-05-21</td>\n",
       "      <td>21.0</td>\n",
       "      <td>5.0</td>\n",
       "      <td>2015.0</td>\n",
       "      <td>A5944590000001990</td>\n",
       "      <td>19.90</td>\n",
       "      <td>21.29</td>\n",
       "      <td>...</td>\n",
       "      <td>7237b9177ecc492</td>\n",
       "      <td>17:08</td>\n",
       "      <td>54410010</td>\n",
       "      <td>20150521_170842.jpg</td>\n",
       "      <td>NaN</td>\n",
       "      <td>NaN</td>\n",
       "      <td>NaN</td>\n",
       "      <td>124816.0</td>\n",
       "      <td>NaN</td>\n",
       "      <td>Brazil</td>\n",
       "    </tr>\n",
       "    <tr>\n",
       "      <th>9429</th>\n",
       "      <td>BRAZIL</td>\n",
       "      <td>14</td>\n",
       "      <td>BRAZIL_14</td>\n",
       "      <td>2015-05-20</td>\n",
       "      <td>20.0</td>\n",
       "      <td>5.0</td>\n",
       "      <td>2015.0</td>\n",
       "      <td>A6817664000000399</td>\n",
       "      <td>3.99</td>\n",
       "      <td>4.06</td>\n",
       "      <td>...</td>\n",
       "      <td>7237b9177ecc492</td>\n",
       "      <td>14:54</td>\n",
       "      <td>54410010</td>\n",
       "      <td>20150520_145434.jpg</td>\n",
       "      <td>NaN</td>\n",
       "      <td>NaN</td>\n",
       "      <td>NaN</td>\n",
       "      <td>124816.0</td>\n",
       "      <td>NaN</td>\n",
       "      <td>Brazil</td>\n",
       "    </tr>\n",
       "  </tbody>\n",
       "</table>\n",
       "<p>1193 rows × 21 columns</p>\n",
       "</div>"
      ],
      "text/plain": [
       "     COUNTRY  retailer retailer_s        date   day  month    year  \\\n",
       "9430  BRAZIL        14  BRAZIL_14  2015-05-21  21.0    5.0  2015.0   \n",
       "9255  BRAZIL        14  BRAZIL_14  2015-05-09   9.0    5.0  2015.0   \n",
       "9256  BRAZIL        14  BRAZIL_14  2015-05-09   9.0    5.0  2015.0   \n",
       "9343  BRAZIL        14  BRAZIL_14  2015-05-20  20.0    5.0  2015.0   \n",
       "9536  BRAZIL        14  BRAZIL_14  2015-06-06   6.0    6.0  2015.0   \n",
       "...      ...       ...        ...         ...   ...    ...     ...   \n",
       "9453  BRAZIL        14  BRAZIL_14  2015-05-21  21.0    5.0  2015.0   \n",
       "9428  BRAZIL        14  BRAZIL_14  2015-05-20  20.0    5.0  2015.0   \n",
       "9454  BRAZIL        14  BRAZIL_14  2015-05-21  21.0    5.0  2015.0   \n",
       "9455  BRAZIL        14  BRAZIL_14  2015-05-21  21.0    5.0  2015.0   \n",
       "9429  BRAZIL        14  BRAZIL_14  2015-05-20  20.0    5.0  2015.0   \n",
       "\n",
       "                     id  price  price_online  ...          DEVICEID   TIME  \\\n",
       "9430     00110099000239   2.39          2.13  ...   7237b9177ecc492  17:41   \n",
       "9255     00217521000999   9.99         10.69  ...  44808be760f4f6ee  21:46   \n",
       "9256     00357852000638   6.38          6.83  ...  44808be760f4f6ee  21:59   \n",
       "9343     00357968000599   5.99          5.98  ...   7237b9177ecc492  14:55   \n",
       "9536           00642822  14.59         15.61  ...  482397ad9a915ece  15:16   \n",
       "...                 ...    ...           ...  ...               ...    ...   \n",
       "9453  A5178964000000455   4.55          5.34  ...   7237b9177ecc492  17:14   \n",
       "9428  A5191161000008990  89.90         49.90  ...   7237b9177ecc492  14:41   \n",
       "9454  A5666102000000509   5.09          5.45  ...   7237b9177ecc492  17:07   \n",
       "9455  A5944590000001990  19.90         21.29  ...   7237b9177ecc492  17:08   \n",
       "9429  A6817664000000399   3.99          4.06  ...   7237b9177ecc492  14:54   \n",
       "\n",
       "        ZIPCODE                PHOTO OTHERSKUITEM COMMENTS PRICETYPE  \\\n",
       "9430   54410010  20150521_174143.jpg          NaN      NaN       NaN   \n",
       "9255  14025-390  20150509_214652.jpg          NaN      NaN       NaN   \n",
       "9256  14025-390  20150509_215913.jpg          NaN      NaN       NaN   \n",
       "9343   54410010  20150520_145531.jpg          NaN      NaN       NaN   \n",
       "9536   05417001  20150606_151626.jpg          NaN      NaN       NaN   \n",
       "...         ...                  ...          ...      ...       ...   \n",
       "9453   54410010  20150521_171520.jpg          NaN      NaN       NaN   \n",
       "9428   54410010  20150520_144118.jpg          NaN      NaN       NaN   \n",
       "9454   54410010  20150521_170724.jpg          NaN      NaN       NaN   \n",
       "9455   54410010  20150521_170842.jpg          NaN      NaN       NaN   \n",
       "9429   54410010  20150520_145434.jpg          NaN      NaN       NaN   \n",
       "\n",
       "          CODE  sale_online  country_s  \n",
       "9430  124816.0          NaN     Brazil  \n",
       "9255  124816.0          NaN     Brazil  \n",
       "9256  124816.0          NaN     Brazil  \n",
       "9343  124816.0          NaN     Brazil  \n",
       "9536  124816.0          NaN     Brazil  \n",
       "...        ...          ...        ...  \n",
       "9453  124816.0          NaN     Brazil  \n",
       "9428  124816.0          NaN     Brazil  \n",
       "9454  124816.0          NaN     Brazil  \n",
       "9455  124816.0          NaN     Brazil  \n",
       "9429  124816.0          NaN     Brazil  \n",
       "\n",
       "[1193 rows x 21 columns]"
      ]
     },
     "execution_count": 20,
     "metadata": {},
     "output_type": "execute_result"
    }
   ],
   "source": [
    "same_day_ids = data.groupby(\"id\")[\"date\"].nunique()\n",
    "same_day_ids = same_day_ids[same_day_ids == 1].index\n",
    "\n",
    "data = data.loc[\n",
    "    (data[\"id\"].isin(same_day_ids)) &\n",
    "    (data[\"COUNTRY\"] == \"BRAZIL\") &\n",
    "    (data[\"sale_online\"].isnull()) &\n",
    "    (data[\"price\"].notna()) &\n",
    "    (data[\"price_online\"].notna())\n",
    "]\n",
    "data = data.sort_values(by=\"id\", ascending=True)\n",
    "\n",
    "data"
   ]
  },
  {
   "cell_type": "code",
   "execution_count": 21,
   "metadata": {},
   "outputs": [
    {
     "data": {
      "text/html": [
       "<div>\n",
       "<style scoped>\n",
       "    .dataframe tbody tr th:only-of-type {\n",
       "        vertical-align: middle;\n",
       "    }\n",
       "\n",
       "    .dataframe tbody tr th {\n",
       "        vertical-align: top;\n",
       "    }\n",
       "\n",
       "    .dataframe thead th {\n",
       "        text-align: right;\n",
       "    }\n",
       "</style>\n",
       "<table border=\"1\" class=\"dataframe\">\n",
       "  <thead>\n",
       "    <tr style=\"text-align: right;\">\n",
       "      <th></th>\n",
       "      <th>COUNTRY</th>\n",
       "      <th>retailer</th>\n",
       "      <th>retailer_s</th>\n",
       "      <th>date</th>\n",
       "      <th>day</th>\n",
       "      <th>month</th>\n",
       "      <th>year</th>\n",
       "      <th>id</th>\n",
       "      <th>price</th>\n",
       "      <th>price_online</th>\n",
       "      <th>...</th>\n",
       "      <th>DEVICEID</th>\n",
       "      <th>TIME</th>\n",
       "      <th>ZIPCODE</th>\n",
       "      <th>PHOTO</th>\n",
       "      <th>OTHERSKUITEM</th>\n",
       "      <th>COMMENTS</th>\n",
       "      <th>PRICETYPE</th>\n",
       "      <th>CODE</th>\n",
       "      <th>sale_online</th>\n",
       "      <th>country_s</th>\n",
       "    </tr>\n",
       "  </thead>\n",
       "  <tbody>\n",
       "  </tbody>\n",
       "</table>\n",
       "<p>0 rows × 21 columns</p>\n",
       "</div>"
      ],
      "text/plain": [
       "Empty DataFrame\n",
       "Columns: [COUNTRY, retailer, retailer_s, date, day, month, year, id, price, price_online, imputed, DEVICEID, TIME, ZIPCODE, PHOTO, OTHERSKUITEM, COMMENTS, PRICETYPE, CODE, sale_online, country_s]\n",
       "Index: []\n",
       "\n",
       "[0 rows x 21 columns]"
      ]
     },
     "execution_count": 21,
     "metadata": {},
     "output_type": "execute_result"
    }
   ],
   "source": [
    "# Show products with duplicate 'id' values (not unique products)\n",
    "duplicate_products = data[data.duplicated(subset='id', keep=False)]\n",
    "duplicate_products"
   ]
  },
  {
   "cell_type": "code",
   "execution_count": null,
   "metadata": {},
   "outputs": [],
   "source": [
    "# Drop obvious errors\n",
    "#data = data.loc[data[\"price\"] < 1000]"
   ]
  },
  {
   "cell_type": "code",
   "execution_count": 22,
   "metadata": {},
   "outputs": [
    {
     "data": {
      "text/plain": [
       "count    1193.000000\n",
       "mean      -29.895833\n",
       "std       131.134274\n",
       "min     -1630.000000\n",
       "25%       -10.000000\n",
       "50%         0.000000\n",
       "75%         0.000000\n",
       "max      1799.000000\n",
       "Name: diff, dtype: float64"
      ]
     },
     "execution_count": 22,
     "metadata": {},
     "output_type": "execute_result"
    }
   ],
   "source": [
    "# Compare variables\n",
    "data[\"diff\"] = data[\"price_online\"] - data[\"price\"]\n",
    "descr = data[\"diff\"].describe()\n",
    "descr"
   ]
  },
  {
   "cell_type": "code",
   "execution_count": 24,
   "metadata": {},
   "outputs": [],
   "source": [
    "#data[data[\"diff\"] > 0]"
   ]
  },
  {
   "cell_type": "code",
   "execution_count": 25,
   "metadata": {},
   "outputs": [
    {
     "data": {
      "text/html": [
       "<div>\n",
       "<style scoped>\n",
       "    .dataframe tbody tr th:only-of-type {\n",
       "        vertical-align: middle;\n",
       "    }\n",
       "\n",
       "    .dataframe tbody tr th {\n",
       "        vertical-align: top;\n",
       "    }\n",
       "\n",
       "    .dataframe thead th {\n",
       "        text-align: right;\n",
       "    }\n",
       "</style>\n",
       "<table border=\"1\" class=\"dataframe\">\n",
       "  <thead>\n",
       "    <tr style=\"text-align: right;\">\n",
       "      <th></th>\n",
       "      <th>COUNTRY</th>\n",
       "      <th>retailer</th>\n",
       "      <th>retailer_s</th>\n",
       "      <th>date</th>\n",
       "      <th>day</th>\n",
       "      <th>month</th>\n",
       "      <th>year</th>\n",
       "      <th>id</th>\n",
       "      <th>price</th>\n",
       "      <th>price_online</th>\n",
       "      <th>...</th>\n",
       "      <th>TIME</th>\n",
       "      <th>ZIPCODE</th>\n",
       "      <th>PHOTO</th>\n",
       "      <th>OTHERSKUITEM</th>\n",
       "      <th>COMMENTS</th>\n",
       "      <th>PRICETYPE</th>\n",
       "      <th>CODE</th>\n",
       "      <th>sale_online</th>\n",
       "      <th>country_s</th>\n",
       "      <th>diff</th>\n",
       "    </tr>\n",
       "  </thead>\n",
       "  <tbody>\n",
       "    <tr>\n",
       "      <th>9180</th>\n",
       "      <td>BRAZIL</td>\n",
       "      <td>13</td>\n",
       "      <td>BRAZIL_13</td>\n",
       "      <td>2015-10-05</td>\n",
       "      <td>5.0</td>\n",
       "      <td>10.0</td>\n",
       "      <td>2015.0</td>\n",
       "      <td>124352200</td>\n",
       "      <td>1890.0</td>\n",
       "      <td>260.0</td>\n",
       "      <td>...</td>\n",
       "      <td>09:46</td>\n",
       "      <td>12230000</td>\n",
       "      <td>20151005_094645.jpg</td>\n",
       "      <td>NaN</td>\n",
       "      <td>NaN</td>\n",
       "      <td>NaN</td>\n",
       "      <td>124816.0</td>\n",
       "      <td>NaN</td>\n",
       "      <td>Brazil</td>\n",
       "      <td>-1630.0</td>\n",
       "    </tr>\n",
       "  </tbody>\n",
       "</table>\n",
       "<p>1 rows × 22 columns</p>\n",
       "</div>"
      ],
      "text/plain": [
       "     COUNTRY  retailer retailer_s        date  day  month    year         id  \\\n",
       "9180  BRAZIL        13  BRAZIL_13  2015-10-05  5.0   10.0  2015.0  124352200   \n",
       "\n",
       "       price  price_online  ...   TIME   ZIPCODE                PHOTO  \\\n",
       "9180  1890.0         260.0  ...  09:46  12230000  20151005_094645.jpg   \n",
       "\n",
       "     OTHERSKUITEM COMMENTS PRICETYPE      CODE sale_online  country_s    diff  \n",
       "9180          NaN      NaN       NaN  124816.0         NaN     Brazil -1630.0  \n",
       "\n",
       "[1 rows x 22 columns]"
      ]
     },
     "execution_count": 25,
     "metadata": {},
     "output_type": "execute_result"
    }
   ],
   "source": [
    "data_min = data[data[\"diff\"] == data[\"diff\"].min()]\n",
    "data_min"
   ]
  },
  {
   "cell_type": "code",
   "execution_count": 27,
   "metadata": {},
   "outputs": [
    {
     "data": {
      "text/plain": [
       "(np.float64(-29.9), 1193)"
      ]
     },
     "execution_count": 27,
     "metadata": {},
     "output_type": "execute_result"
    }
   ],
   "source": [
    "# Statistic with n observations (products) in the data:\n",
    "# products count\n",
    "# using pandas nunique for clarity:\n",
    "# data[\"id\"].nunique()\n",
    "#well i was intitally foing analysis among unique products id.unique but realized authors of the textbook skipped this part and did across all samples - 6439\n",
    "#which does not make sense to me\n",
    "\n",
    "l=len(data[\"id\"].unique())\n",
    "l2=len(data)\n",
    "\n",
    "# statistic mean(diff)\n",
    "\n",
    "pdiff_mean=data[\"diff\"].sum()/l #I think should be right\n",
    "s=round(data[\"diff\"].sum()/l2,2) #lol\n",
    "\n",
    "s,l2"
   ]
  },
  {
   "cell_type": "code",
   "execution_count": 28,
   "metadata": {},
   "outputs": [
    {
     "data": {
      "image/png": "[encoded data removed]"
     },
     "metadata": {
      "image/png": {
       "height": 800,
       "width": 1400
      }
     },
     "output_type": "display_data"
    }
   ],
   "source": [
    "price_min = data[\"diff\"].min()\n",
    "price_max = data[\"diff\"].max()\n",
    "(\n",
    "    ggplot(data, aes(\"diff\"))\n",
    "    + geom_histogram(\n",
    "        binwidth=5,\n",
    "        boundary=0,\n",
    "        fill=\"blue\",\n",
    "        size=0.5,\n",
    "        alpha=0.8,\n",
    "        show_legend=False,\n",
    "        na_rm=True,\n",
    "        closed=\"left\",\n",
    "    )\n",
    "    + labs(x=\"Online - offline price difference (US dollars)\", y=\"Frequency\")\n",
    "    + theme_bw()\n",
    "    + scale_x_continuous(limits=(price_min, price_max), breaks=np.arange(price_min, price_max, 300))\n",
    "    + scale_y_continuous(limits=(0, 50), breaks=np.arange(0, 100, 5), expand=(0.01, 0.01))\n",
    "    + geom_segment(aes(x=300, y=500, xend=415, yend=20), arrow=arrow())\n",
    "    + geom_segment(aes(x=-280, y=500, xend=-380, yend=20), arrow=arrow())\n",
    "    + annotate(\"text\", x=-300, y=700, label=\"min value= -380\", size=11.5)\n",
    "    + geom_vline(xintercept=0, linetype=\"dashed\", color=\"red\")  # Add 0 line to x axis\n",
    "    + theme(figure_size=(14, 8))\n",
    ")\n"
   ]
  },
  {
   "cell_type": "code",
   "execution_count": null,
   "metadata": {},
   "outputs": [
    {
     "data": {
      "text/plain": [
       "count    786.000000\n",
       "mean       0.176045\n",
       "std        0.932630\n",
       "min       -4.100000\n",
       "25%        0.000000\n",
       "50%        0.000000\n",
       "75%        0.000000\n",
       "max        4.610000\n",
       "Name: diff, dtype: float64"
      ]
     },
     "execution_count": 29,
     "metadata": {},
     "output_type": "execute_result"
    }
   ],
   "source": [
    "# 4.99999 not 5 -- needed because of data imported from stata may be stored wierdly.\n",
    "data1 = data.loc[abs(data[\"diff\"]) < 4.999999]\n",
    "data1[\"diff\"].describe()\n"
   ]
  },
  {
   "cell_type": "code",
   "execution_count": 30,
   "metadata": {},
   "outputs": [
    {
     "data": {
      "text/html": [
       "<div>\n",
       "<style scoped>\n",
       "    .dataframe tbody tr th:only-of-type {\n",
       "        vertical-align: middle;\n",
       "    }\n",
       "\n",
       "    .dataframe tbody tr th {\n",
       "        vertical-align: top;\n",
       "    }\n",
       "\n",
       "    .dataframe thead th {\n",
       "        text-align: right;\n",
       "    }\n",
       "</style>\n",
       "<table border=\"1\" class=\"dataframe\">\n",
       "  <thead>\n",
       "    <tr style=\"text-align: right;\">\n",
       "      <th></th>\n",
       "      <th>COUNTRY</th>\n",
       "      <th>retailer</th>\n",
       "      <th>retailer_s</th>\n",
       "      <th>date</th>\n",
       "      <th>day</th>\n",
       "      <th>month</th>\n",
       "      <th>year</th>\n",
       "      <th>id</th>\n",
       "      <th>price</th>\n",
       "      <th>price_online</th>\n",
       "      <th>...</th>\n",
       "      <th>TIME</th>\n",
       "      <th>ZIPCODE</th>\n",
       "      <th>PHOTO</th>\n",
       "      <th>OTHERSKUITEM</th>\n",
       "      <th>COMMENTS</th>\n",
       "      <th>PRICETYPE</th>\n",
       "      <th>CODE</th>\n",
       "      <th>sale_online</th>\n",
       "      <th>country_s</th>\n",
       "      <th>diff</th>\n",
       "    </tr>\n",
       "  </thead>\n",
       "  <tbody>\n",
       "    <tr>\n",
       "      <th>9430</th>\n",
       "      <td>BRAZIL</td>\n",
       "      <td>14</td>\n",
       "      <td>BRAZIL_14</td>\n",
       "      <td>2015-05-21</td>\n",
       "      <td>21.0</td>\n",
       "      <td>5.0</td>\n",
       "      <td>2015.0</td>\n",
       "      <td>00110099000239</td>\n",
       "      <td>2.39</td>\n",
       "      <td>2.13</td>\n",
       "      <td>...</td>\n",
       "      <td>17:41</td>\n",
       "      <td>54410010</td>\n",
       "      <td>20150521_174143.jpg</td>\n",
       "      <td>NaN</td>\n",
       "      <td>NaN</td>\n",
       "      <td>NaN</td>\n",
       "      <td>124816.0</td>\n",
       "      <td>NaN</td>\n",
       "      <td>Brazil</td>\n",
       "      <td>-0.26</td>\n",
       "    </tr>\n",
       "    <tr>\n",
       "      <th>9255</th>\n",
       "      <td>BRAZIL</td>\n",
       "      <td>14</td>\n",
       "      <td>BRAZIL_14</td>\n",
       "      <td>2015-05-09</td>\n",
       "      <td>9.0</td>\n",
       "      <td>5.0</td>\n",
       "      <td>2015.0</td>\n",
       "      <td>00217521000999</td>\n",
       "      <td>9.99</td>\n",
       "      <td>10.69</td>\n",
       "      <td>...</td>\n",
       "      <td>21:46</td>\n",
       "      <td>14025-390</td>\n",
       "      <td>20150509_214652.jpg</td>\n",
       "      <td>NaN</td>\n",
       "      <td>NaN</td>\n",
       "      <td>NaN</td>\n",
       "      <td>124816.0</td>\n",
       "      <td>NaN</td>\n",
       "      <td>Brazil</td>\n",
       "      <td>0.70</td>\n",
       "    </tr>\n",
       "    <tr>\n",
       "      <th>9256</th>\n",
       "      <td>BRAZIL</td>\n",
       "      <td>14</td>\n",
       "      <td>BRAZIL_14</td>\n",
       "      <td>2015-05-09</td>\n",
       "      <td>9.0</td>\n",
       "      <td>5.0</td>\n",
       "      <td>2015.0</td>\n",
       "      <td>00357852000638</td>\n",
       "      <td>6.38</td>\n",
       "      <td>6.83</td>\n",
       "      <td>...</td>\n",
       "      <td>21:59</td>\n",
       "      <td>14025-390</td>\n",
       "      <td>20150509_215913.jpg</td>\n",
       "      <td>NaN</td>\n",
       "      <td>NaN</td>\n",
       "      <td>NaN</td>\n",
       "      <td>124816.0</td>\n",
       "      <td>NaN</td>\n",
       "      <td>Brazil</td>\n",
       "      <td>0.45</td>\n",
       "    </tr>\n",
       "    <tr>\n",
       "      <th>9343</th>\n",
       "      <td>BRAZIL</td>\n",
       "      <td>14</td>\n",
       "      <td>BRAZIL_14</td>\n",
       "      <td>2015-05-20</td>\n",
       "      <td>20.0</td>\n",
       "      <td>5.0</td>\n",
       "      <td>2015.0</td>\n",
       "      <td>00357968000599</td>\n",
       "      <td>5.99</td>\n",
       "      <td>5.98</td>\n",
       "      <td>...</td>\n",
       "      <td>14:55</td>\n",
       "      <td>54410010</td>\n",
       "      <td>20150520_145531.jpg</td>\n",
       "      <td>NaN</td>\n",
       "      <td>NaN</td>\n",
       "      <td>NaN</td>\n",
       "      <td>124816.0</td>\n",
       "      <td>NaN</td>\n",
       "      <td>Brazil</td>\n",
       "      <td>-0.01</td>\n",
       "    </tr>\n",
       "    <tr>\n",
       "      <th>9536</th>\n",
       "      <td>BRAZIL</td>\n",
       "      <td>14</td>\n",
       "      <td>BRAZIL_14</td>\n",
       "      <td>2015-06-06</td>\n",
       "      <td>6.0</td>\n",
       "      <td>6.0</td>\n",
       "      <td>2015.0</td>\n",
       "      <td>00642822</td>\n",
       "      <td>14.59</td>\n",
       "      <td>15.61</td>\n",
       "      <td>...</td>\n",
       "      <td>15:16</td>\n",
       "      <td>05417001</td>\n",
       "      <td>20150606_151626.jpg</td>\n",
       "      <td>NaN</td>\n",
       "      <td>NaN</td>\n",
       "      <td>NaN</td>\n",
       "      <td>124816.0</td>\n",
       "      <td>NaN</td>\n",
       "      <td>Brazil</td>\n",
       "      <td>1.02</td>\n",
       "    </tr>\n",
       "    <tr>\n",
       "      <th>...</th>\n",
       "      <td>...</td>\n",
       "      <td>...</td>\n",
       "      <td>...</td>\n",
       "      <td>...</td>\n",
       "      <td>...</td>\n",
       "      <td>...</td>\n",
       "      <td>...</td>\n",
       "      <td>...</td>\n",
       "      <td>...</td>\n",
       "      <td>...</td>\n",
       "      <td>...</td>\n",
       "      <td>...</td>\n",
       "      <td>...</td>\n",
       "      <td>...</td>\n",
       "      <td>...</td>\n",
       "      <td>...</td>\n",
       "      <td>...</td>\n",
       "      <td>...</td>\n",
       "      <td>...</td>\n",
       "      <td>...</td>\n",
       "      <td>...</td>\n",
       "    </tr>\n",
       "    <tr>\n",
       "      <th>9452</th>\n",
       "      <td>BRAZIL</td>\n",
       "      <td>14</td>\n",
       "      <td>BRAZIL_14</td>\n",
       "      <td>2015-05-21</td>\n",
       "      <td>21.0</td>\n",
       "      <td>5.0</td>\n",
       "      <td>2015.0</td>\n",
       "      <td>A4888567000000199</td>\n",
       "      <td>1.99</td>\n",
       "      <td>2.99</td>\n",
       "      <td>...</td>\n",
       "      <td>17:33</td>\n",
       "      <td>54410010</td>\n",
       "      <td>20150521_173322.jpg</td>\n",
       "      <td>NaN</td>\n",
       "      <td>NaN</td>\n",
       "      <td>NaN</td>\n",
       "      <td>124816.0</td>\n",
       "      <td>NaN</td>\n",
       "      <td>Brazil</td>\n",
       "      <td>1.00</td>\n",
       "    </tr>\n",
       "    <tr>\n",
       "      <th>9453</th>\n",
       "      <td>BRAZIL</td>\n",
       "      <td>14</td>\n",
       "      <td>BRAZIL_14</td>\n",
       "      <td>2015-05-21</td>\n",
       "      <td>21.0</td>\n",
       "      <td>5.0</td>\n",
       "      <td>2015.0</td>\n",
       "      <td>A5178964000000455</td>\n",
       "      <td>4.55</td>\n",
       "      <td>5.34</td>\n",
       "      <td>...</td>\n",
       "      <td>17:14</td>\n",
       "      <td>54410010</td>\n",
       "      <td>20150521_171520.jpg</td>\n",
       "      <td>NaN</td>\n",
       "      <td>NaN</td>\n",
       "      <td>NaN</td>\n",
       "      <td>124816.0</td>\n",
       "      <td>NaN</td>\n",
       "      <td>Brazil</td>\n",
       "      <td>0.79</td>\n",
       "    </tr>\n",
       "    <tr>\n",
       "      <th>9454</th>\n",
       "      <td>BRAZIL</td>\n",
       "      <td>14</td>\n",
       "      <td>BRAZIL_14</td>\n",
       "      <td>2015-05-21</td>\n",
       "      <td>21.0</td>\n",
       "      <td>5.0</td>\n",
       "      <td>2015.0</td>\n",
       "      <td>A5666102000000509</td>\n",
       "      <td>5.09</td>\n",
       "      <td>5.45</td>\n",
       "      <td>...</td>\n",
       "      <td>17:07</td>\n",
       "      <td>54410010</td>\n",
       "      <td>20150521_170724.jpg</td>\n",
       "      <td>NaN</td>\n",
       "      <td>NaN</td>\n",
       "      <td>NaN</td>\n",
       "      <td>124816.0</td>\n",
       "      <td>NaN</td>\n",
       "      <td>Brazil</td>\n",
       "      <td>0.36</td>\n",
       "    </tr>\n",
       "    <tr>\n",
       "      <th>9455</th>\n",
       "      <td>BRAZIL</td>\n",
       "      <td>14</td>\n",
       "      <td>BRAZIL_14</td>\n",
       "      <td>2015-05-21</td>\n",
       "      <td>21.0</td>\n",
       "      <td>5.0</td>\n",
       "      <td>2015.0</td>\n",
       "      <td>A5944590000001990</td>\n",
       "      <td>19.90</td>\n",
       "      <td>21.29</td>\n",
       "      <td>...</td>\n",
       "      <td>17:08</td>\n",
       "      <td>54410010</td>\n",
       "      <td>20150521_170842.jpg</td>\n",
       "      <td>NaN</td>\n",
       "      <td>NaN</td>\n",
       "      <td>NaN</td>\n",
       "      <td>124816.0</td>\n",
       "      <td>NaN</td>\n",
       "      <td>Brazil</td>\n",
       "      <td>1.39</td>\n",
       "    </tr>\n",
       "    <tr>\n",
       "      <th>9429</th>\n",
       "      <td>BRAZIL</td>\n",
       "      <td>14</td>\n",
       "      <td>BRAZIL_14</td>\n",
       "      <td>2015-05-20</td>\n",
       "      <td>20.0</td>\n",
       "      <td>5.0</td>\n",
       "      <td>2015.0</td>\n",
       "      <td>A6817664000000399</td>\n",
       "      <td>3.99</td>\n",
       "      <td>4.06</td>\n",
       "      <td>...</td>\n",
       "      <td>14:54</td>\n",
       "      <td>54410010</td>\n",
       "      <td>20150520_145434.jpg</td>\n",
       "      <td>NaN</td>\n",
       "      <td>NaN</td>\n",
       "      <td>NaN</td>\n",
       "      <td>124816.0</td>\n",
       "      <td>NaN</td>\n",
       "      <td>Brazil</td>\n",
       "      <td>0.07</td>\n",
       "    </tr>\n",
       "  </tbody>\n",
       "</table>\n",
       "<p>786 rows × 22 columns</p>\n",
       "</div>"
      ],
      "text/plain": [
       "     COUNTRY  retailer retailer_s        date   day  month    year  \\\n",
       "9430  BRAZIL        14  BRAZIL_14  2015-05-21  21.0    5.0  2015.0   \n",
       "9255  BRAZIL        14  BRAZIL_14  2015-05-09   9.0    5.0  2015.0   \n",
       "9256  BRAZIL        14  BRAZIL_14  2015-05-09   9.0    5.0  2015.0   \n",
       "9343  BRAZIL        14  BRAZIL_14  2015-05-20  20.0    5.0  2015.0   \n",
       "9536  BRAZIL        14  BRAZIL_14  2015-06-06   6.0    6.0  2015.0   \n",
       "...      ...       ...        ...         ...   ...    ...     ...   \n",
       "9452  BRAZIL        14  BRAZIL_14  2015-05-21  21.0    5.0  2015.0   \n",
       "9453  BRAZIL        14  BRAZIL_14  2015-05-21  21.0    5.0  2015.0   \n",
       "9454  BRAZIL        14  BRAZIL_14  2015-05-21  21.0    5.0  2015.0   \n",
       "9455  BRAZIL        14  BRAZIL_14  2015-05-21  21.0    5.0  2015.0   \n",
       "9429  BRAZIL        14  BRAZIL_14  2015-05-20  20.0    5.0  2015.0   \n",
       "\n",
       "                     id  price  price_online  ...   TIME    ZIPCODE  \\\n",
       "9430     00110099000239   2.39          2.13  ...  17:41   54410010   \n",
       "9255     00217521000999   9.99         10.69  ...  21:46  14025-390   \n",
       "9256     00357852000638   6.38          6.83  ...  21:59  14025-390   \n",
       "9343     00357968000599   5.99          5.98  ...  14:55   54410010   \n",
       "9536           00642822  14.59         15.61  ...  15:16   05417001   \n",
       "...                 ...    ...           ...  ...    ...        ...   \n",
       "9452  A4888567000000199   1.99          2.99  ...  17:33   54410010   \n",
       "9453  A5178964000000455   4.55          5.34  ...  17:14   54410010   \n",
       "9454  A5666102000000509   5.09          5.45  ...  17:07   54410010   \n",
       "9455  A5944590000001990  19.90         21.29  ...  17:08   54410010   \n",
       "9429  A6817664000000399   3.99          4.06  ...  14:54   54410010   \n",
       "\n",
       "                    PHOTO OTHERSKUITEM COMMENTS PRICETYPE      CODE  \\\n",
       "9430  20150521_174143.jpg          NaN      NaN       NaN  124816.0   \n",
       "9255  20150509_214652.jpg          NaN      NaN       NaN  124816.0   \n",
       "9256  20150509_215913.jpg          NaN      NaN       NaN  124816.0   \n",
       "9343  20150520_145531.jpg          NaN      NaN       NaN  124816.0   \n",
       "9536  20150606_151626.jpg          NaN      NaN       NaN  124816.0   \n",
       "...                   ...          ...      ...       ...       ...   \n",
       "9452  20150521_173322.jpg          NaN      NaN       NaN  124816.0   \n",
       "9453  20150521_171520.jpg          NaN      NaN       NaN  124816.0   \n",
       "9454  20150521_170724.jpg          NaN      NaN       NaN  124816.0   \n",
       "9455  20150521_170842.jpg          NaN      NaN       NaN  124816.0   \n",
       "9429  20150520_145434.jpg          NaN      NaN       NaN  124816.0   \n",
       "\n",
       "     sale_online  country_s  diff  \n",
       "9430         NaN     Brazil -0.26  \n",
       "9255         NaN     Brazil  0.70  \n",
       "9256         NaN     Brazil  0.45  \n",
       "9343         NaN     Brazil -0.01  \n",
       "9536         NaN     Brazil  1.02  \n",
       "...          ...        ...   ...  \n",
       "9452         NaN     Brazil  1.00  \n",
       "9453         NaN     Brazil  0.79  \n",
       "9454         NaN     Brazil  0.36  \n",
       "9455         NaN     Brazil  1.39  \n",
       "9429         NaN     Brazil  0.07  \n",
       "\n",
       "[786 rows x 22 columns]"
      ]
     },
     "execution_count": 30,
     "metadata": {},
     "output_type": "execute_result"
    }
   ],
   "source": [
    "data1"
   ]
  },
  {
   "cell_type": "code",
   "execution_count": 32,
   "metadata": {},
   "outputs": [
    {
     "data": {
      "image/png": "[encoded data removed]"
     },
     "metadata": {
      "image/png": {
       "height": 480,
       "width": 640
      }
     },
     "output_type": "display_data"
    }
   ],
   "source": [
    "(\n",
    "    ggplot(data, aes(\"diff\"))\n",
    "    + geom_histogram(\n",
    "        binwidth=0.1,\n",
    "        center=0,\n",
    "        color=\"green\",\n",
    "        fill=\"yellow\",\n",
    "        size=0.25,\n",
    "        alpha=0.8,\n",
    "        show_legend=False,\n",
    "        na_rm=True,\n",
    "    )\n",
    "    + labs(x=\"Online - offline price difference (US dollars)\", y=\"Frequency\")\n",
    "    + theme_bw()\n",
    "    + scale_x_continuous(limits=(price_min, price_max), breaks=np.arange(price_min, price_max, 300))\n",
    "    + scale_y_continuous(limits=(0,25), expand=(0.00, 0.00))\n",
    ")\n"
   ]
  },
  {
   "cell_type": "code",
   "execution_count": 35,
   "metadata": {},
   "outputs": [
    {
     "data": {
      "text/plain": [
       "COUNTRY         567\n",
       "retailer        567\n",
       "retailer_s      567\n",
       "date            567\n",
       "day             567\n",
       "month           567\n",
       "year            567\n",
       "id              567\n",
       "price           567\n",
       "price_online    567\n",
       "imputed         460\n",
       "DEVICEID        567\n",
       "TIME            567\n",
       "ZIPCODE         567\n",
       "PHOTO           567\n",
       "OTHERSKUITEM     26\n",
       "COMMENTS          7\n",
       "PRICETYPE        12\n",
       "CODE            567\n",
       "sale_online       0\n",
       "country_s       567\n",
       "diff            567\n",
       "dtype: int64"
      ]
     },
     "execution_count": 35,
     "metadata": {},
     "output_type": "execute_result"
    }
   ],
   "source": [
    "data_0 = data[(data[\"diff\"] >= -0.2) & (data[\"diff\"] <= 0.2)]\n",
    "data_0.count()"
   ]
  },
  {
   "cell_type": "markdown",
   "metadata": {},
   "source": [
    "## t statistics"
   ]
  },
  {
   "cell_type": "code",
   "execution_count": 36,
   "metadata": {},
   "outputs": [
    {
     "data": {
      "text/plain": [
       "np.float64(29.896)"
      ]
     },
     "execution_count": 36,
     "metadata": {},
     "output_type": "execute_result"
    }
   ],
   "source": [
    "# calc mean\n",
    "mean=-round(data[\"diff\"].mean(),3)\n",
    "mean"
   ]
  },
  {
   "cell_type": "code",
   "execution_count": 37,
   "metadata": {},
   "outputs": [
    {
     "data": {
      "text/plain": [
       "np.float64(3.797)"
      ]
     },
     "execution_count": 37,
     "metadata": {},
     "output_type": "execute_result"
    }
   ],
   "source": [
    "#calc SE\n",
    "#SE = (1 / sqrt (n)) * std\n",
    "std = round(data[\"diff\"].std(), 3)\n",
    "n = data[\"diff\"].count()\n",
    "SE = round((1 / np.sqrt(n)) * std,3)\n",
    "SE"
   ]
  },
  {
   "cell_type": "code",
   "execution_count": 39,
   "metadata": {},
   "outputs": [
    {
     "name": "stdout",
     "output_type": "stream",
     "text": [
      "t stat is outside ❌ the critical point range — reject H0\n"
     ]
    },
    {
     "data": {
      "text/plain": [
       "(1192,\n",
       " np.float64(-7.873584408743745),\n",
       " np.float64(1.9619561329444188),\n",
       " np.float64(-1.9619561329444188))"
      ]
     },
     "execution_count": 39,
     "metadata": {},
     "output_type": "execute_result"
    }
   ],
   "source": [
    "#calc t test\n",
    "# How many standard errors your sample mean is away from the value you’re testing (the null hypothesis)\n",
    "\n",
    "#✅ If the t-statistic is big (far from 0):\n",
    "#That means your sample mean is very different from what you expected under the null hypothesis — so, you're more likely to reject the null.\n",
    "\n",
    "#❌ If the t-statistic is small (close to 0):\n",
    "#That means your sample mean is close to what you expected — so you’re more likely to keep (fail to reject) the null.\n",
    "\n",
    "\n",
    "# WHEN YOU REJECT THE NULL HYPOSTHESIS, \n",
    "# You have enough evidence to say there is an effect (or a difference, or a relationship — depending on what you're testing).\n",
    "\n",
    "# t calcukatuion:\n",
    "t = -mean/SE\n",
    "\n",
    "# critical value for t calculation:\n",
    "alpha = 0.05\n",
    "df = l2-1 #degrees of freedom\n",
    "t_crit = stats.t.ppf(1-alpha/2,df)\n",
    "\n",
    "\n",
    "if -t_crit <= t <= t_crit:\n",
    "\tprint(\"t stat is in ✅ critical points range — do not reject H0\")\n",
    "else:\n",
    "\tprint(\"t stat is outside ❌ the critical point range — reject H0\")\n",
    "df, t, t_crit, -t_crit\n",
    "# here we dont reject the null hyp of 0 diff"
   ]
  },
  {
   "cell_type": "code",
   "execution_count": 40,
   "metadata": {},
   "outputs": [
    {
     "name": "stdout",
     "output_type": "stream",
     "text": [
      "There is 0.0000000000 % chance you’d get a result like this if there was really no difference.\n",
      "Unlikely under H₀ — Reject H0\n"
     ]
    },
    {
     "data": {
      "text/plain": [
       "np.float64(7.658108376880721e-15)"
      ]
     },
     "execution_count": 40,
     "metadata": {},
     "output_type": "execute_result"
    }
   ],
   "source": [
    "from scipy import stats\n",
    "\n",
    "# Calculate the p-value for the mean difference using a one-sample t-test\n",
    "\n",
    "#If p is small (e.g. < 0.05), it means your observed result is very unlikely under the null hypothesis → we reject H₀.\n",
    "\n",
    "#If p is large, it means your result could easily happen even if the null is true → we don’t reject H₀.\n",
    "\n",
    "\n",
    "p_value = stats.ttest_1samp(data[\"diff\"], 0).pvalue\n",
    "p_value\n",
    "\n",
    "print(f\"There is {p_value *100 :.10f} % chance you’d get a result like this if there was really no difference.\")\n",
    "if p_value <= 0.05:\n",
    "\tprint(\"Unlikely under H₀ — Reject H0\")\n",
    "else:\n",
    "\tprint(\"Could happen under H₀ — Do not reject H0\")\n",
    "p_value"
   ]
  },
  {
   "cell_type": "markdown",
   "metadata": {},
   "source": [
    "## Conf Interval"
   ]
  },
  {
   "cell_type": "code",
   "execution_count": 41,
   "metadata": {},
   "outputs": [
    {
     "name": "stdout",
     "output_type": "stream",
     "text": [
      "Approximate 95% CI using SE*2: [22.3020, 37.4900]\n"
     ]
    }
   ],
   "source": [
    "ci_lower_se = mean - 2 * SE\n",
    "ci_upper_se = mean + 2 * SE\n",
    "\n",
    "print(f\"Approximate 95% CI using SE*2: [{ci_lower_se:.4f}, {ci_upper_se:.4f}]\")"
   ]
  },
  {
   "cell_type": "code",
   "execution_count": null,
   "metadata": {
    "tags": []
   },
   "outputs": [
    {
     "data": {
      "text/plain": [
       "TtestResult(statistic=np.float64(0.4372481266029261), pvalue=np.float64(0.6619460766193054), df=np.int64(6438))"
      ]
     },
     "execution_count": 21,
     "metadata": {},
     "output_type": "execute_result"
    }
   ],
   "source": [
    "# HYPOTHESIS\n",
    "from scipy import stats\n",
    "\n",
    "stats.ttest_1samp(data[\"diff\"], 0)\n"
   ]
  },
  {
   "cell_type": "code",
   "execution_count": null,
   "metadata": {},
   "outputs": [],
   "source": [
    "def t_test_1samp(series, mu=0):\n",
    "    \"\"\"\n",
    "    This is a function to calculate t_test for 1 sample.\n",
    "    Return: tuple of 2 elements, first is sample mean, second is t test object from scipy\n",
    "    \"\"\"\n",
    "    return (np.mean(series), stats.ttest_1samp(series, mu))\n"
   ]
  },
  {
   "cell_type": "code",
   "execution_count": null,
   "metadata": {},
   "outputs": [],
   "source": [
    "# MULTIPLE HYPOTHESES\n",
    "spd = [data.loc[data[\"retailer\"] == x] for x in set(data[\"retailer\"])]\n",
    "out = [(set(x[\"retailer\"]), t_test_1samp(x[\"diff\"], 0)) for x in spd]"
   ]
  },
  {
   "cell_type": "code",
   "execution_count": null,
   "metadata": {},
   "outputs": [
    {
     "data": {
      "text/plain": [
       "[({44},\n",
       "  (np.float64(3.73675),\n",
       "   TtestResult(statistic=np.float64(2.0970967695735117), pvalue=np.float64(0.038102345149389), df=np.int64(119)))),\n",
       " ({45},\n",
       "  (np.float64(-1.2166300366300367),\n",
       "   TtestResult(statistic=np.float64(-1.2271928388565805), pvalue=np.float64(0.22027995382690432), df=np.int64(545)))),\n",
       " ({46},\n",
       "  (np.float64(-0.4290707648320227),\n",
       "   TtestResult(statistic=np.float64(-11.641716539786147), pvalue=np.float64(5.8008651517374406e-30), df=np.int64(1398)))),\n",
       " ({47},\n",
       "  (np.float64(0.051625239005736144),\n",
       "   TtestResult(statistic=np.float64(1.6613855468290473), pvalue=np.float64(0.09723645884012402), df=np.int64(522)))),\n",
       " ({48},\n",
       "  (np.float64(0.42059701492537316),\n",
       "   TtestResult(statistic=np.float64(2.132197897818741), pvalue=np.float64(0.03390329067089751), df=np.int64(267)))),\n",
       " ({49},\n",
       "  (np.float64(2.410042735042735),\n",
       "   TtestResult(statistic=np.float64(1.2798236568799926), pvalue=np.float64(0.20187999009028337), df=np.int64(233)))),\n",
       " ({50},\n",
       "  (np.float64(0.606011673151751),\n",
       "   TtestResult(statistic=np.float64(1.6405334895253019), pvalue=np.float64(0.10150724842940248), df=np.int64(513)))),\n",
       " ({51},\n",
       "  (np.float64(0.28394321766561514),\n",
       "   TtestResult(statistic=np.float64(1.8754817018086298), pvalue=np.float64(0.06164839346391054), df=np.int64(316)))),\n",
       " ({53},\n",
       "  (np.float64(-0.9704273504273504),\n",
       "   TtestResult(statistic=np.float64(-2.7305459292926293), pvalue=np.float64(0.00731009963636678), df=np.int64(116)))),\n",
       " ({54},\n",
       "  (np.float64(-0.02752293577981653),\n",
       "   TtestResult(statistic=np.float64(-0.25336201919865803), pvalue=np.float64(0.8004701402078858), df=np.int64(108)))),\n",
       " ({56},\n",
       "  (np.float64(-0.48571428571428577),\n",
       "   TtestResult(statistic=np.float64(-2.6522599342109534), pvalue=np.float64(0.03791395309485158), df=np.int64(6)))),\n",
       " ({57},\n",
       "  (np.float64(0.9323955119214586),\n",
       "   TtestResult(statistic=np.float64(3.911425728405225), pvalue=np.float64(0.00010053731293869892), df=np.int64(712)))),\n",
       " ({58},\n",
       "  (np.float64(-0.168949494949495),\n",
       "   TtestResult(statistic=np.float64(-7.031604745018549), pvalue=np.float64(6.8305950050812234e-12), df=np.int64(494)))),\n",
       " ({59},\n",
       "  (np.float64(-0.5278311965811966),\n",
       "   TtestResult(statistic=np.float64(-3.0192400270571738), pvalue=np.float64(0.0026029022858653893), df=np.int64(935)))),\n",
       " ({60},\n",
       "  (np.float64(-0.13846153846153847),\n",
       "   TtestResult(statistic=np.float64(-0.3917210971460755), pvalue=np.float64(0.6965655987786239), df=np.int64(64)))),\n",
       " ({62},\n",
       "  (np.float64(1.3613157894736843),\n",
       "   TtestResult(statistic=np.float64(1.5579432479712532), pvalue=np.float64(0.12345670125446077), df=np.int64(75))))]"
      ]
     },
     "execution_count": 24,
     "metadata": {},
     "output_type": "execute_result"
    }
   ],
   "source": [
    "out\n"
   ]
  },
  {
   "cell_type": "code",
   "execution_count": null,
   "metadata": {},
   "outputs": [
    {
     "data": {
      "text/html": [
       "<div>\n",
       "<style scoped>\n",
       "    .dataframe tbody tr th:only-of-type {\n",
       "        vertical-align: middle;\n",
       "    }\n",
       "\n",
       "    .dataframe tbody tr th {\n",
       "        vertical-align: top;\n",
       "    }\n",
       "\n",
       "    .dataframe thead th {\n",
       "        text-align: right;\n",
       "    }\n",
       "</style>\n",
       "<table border=\"1\" class=\"dataframe\">\n",
       "  <thead>\n",
       "    <tr style=\"text-align: right;\">\n",
       "      <th></th>\n",
       "      <th>retailer</th>\n",
       "      <th>estimate</th>\n",
       "      <th>t_stat</th>\n",
       "      <th>p.value</th>\n",
       "    </tr>\n",
       "  </thead>\n",
       "  <tbody>\n",
       "    <tr>\n",
       "      <th>0</th>\n",
       "      <td>44</td>\n",
       "      <td>3.737</td>\n",
       "      <td>2.097097</td>\n",
       "      <td>0.0381</td>\n",
       "    </tr>\n",
       "    <tr>\n",
       "      <th>1</th>\n",
       "      <td>45</td>\n",
       "      <td>-1.217</td>\n",
       "      <td>-1.227193</td>\n",
       "      <td>0.2203</td>\n",
       "    </tr>\n",
       "    <tr>\n",
       "      <th>2</th>\n",
       "      <td>46</td>\n",
       "      <td>-0.429</td>\n",
       "      <td>-11.641717</td>\n",
       "      <td>0.0000</td>\n",
       "    </tr>\n",
       "    <tr>\n",
       "      <th>3</th>\n",
       "      <td>47</td>\n",
       "      <td>0.052</td>\n",
       "      <td>1.661386</td>\n",
       "      <td>0.0972</td>\n",
       "    </tr>\n",
       "    <tr>\n",
       "      <th>4</th>\n",
       "      <td>48</td>\n",
       "      <td>0.421</td>\n",
       "      <td>2.132198</td>\n",
       "      <td>0.0339</td>\n",
       "    </tr>\n",
       "    <tr>\n",
       "      <th>5</th>\n",
       "      <td>49</td>\n",
       "      <td>2.410</td>\n",
       "      <td>1.279824</td>\n",
       "      <td>0.2019</td>\n",
       "    </tr>\n",
       "    <tr>\n",
       "      <th>6</th>\n",
       "      <td>50</td>\n",
       "      <td>0.606</td>\n",
       "      <td>1.640533</td>\n",
       "      <td>0.1015</td>\n",
       "    </tr>\n",
       "    <tr>\n",
       "      <th>7</th>\n",
       "      <td>51</td>\n",
       "      <td>0.284</td>\n",
       "      <td>1.875482</td>\n",
       "      <td>0.0616</td>\n",
       "    </tr>\n",
       "    <tr>\n",
       "      <th>8</th>\n",
       "      <td>53</td>\n",
       "      <td>-0.970</td>\n",
       "      <td>-2.730546</td>\n",
       "      <td>0.0073</td>\n",
       "    </tr>\n",
       "    <tr>\n",
       "      <th>9</th>\n",
       "      <td>54</td>\n",
       "      <td>-0.028</td>\n",
       "      <td>-0.253362</td>\n",
       "      <td>0.8005</td>\n",
       "    </tr>\n",
       "    <tr>\n",
       "      <th>10</th>\n",
       "      <td>56</td>\n",
       "      <td>-0.486</td>\n",
       "      <td>-2.652260</td>\n",
       "      <td>0.0379</td>\n",
       "    </tr>\n",
       "    <tr>\n",
       "      <th>11</th>\n",
       "      <td>57</td>\n",
       "      <td>0.932</td>\n",
       "      <td>3.911426</td>\n",
       "      <td>0.0001</td>\n",
       "    </tr>\n",
       "    <tr>\n",
       "      <th>12</th>\n",
       "      <td>58</td>\n",
       "      <td>-0.169</td>\n",
       "      <td>-7.031605</td>\n",
       "      <td>0.0000</td>\n",
       "    </tr>\n",
       "    <tr>\n",
       "      <th>13</th>\n",
       "      <td>59</td>\n",
       "      <td>-0.528</td>\n",
       "      <td>-3.019240</td>\n",
       "      <td>0.0026</td>\n",
       "    </tr>\n",
       "    <tr>\n",
       "      <th>14</th>\n",
       "      <td>60</td>\n",
       "      <td>-0.138</td>\n",
       "      <td>-0.391721</td>\n",
       "      <td>0.6966</td>\n",
       "    </tr>\n",
       "    <tr>\n",
       "      <th>15</th>\n",
       "      <td>62</td>\n",
       "      <td>1.361</td>\n",
       "      <td>1.557943</td>\n",
       "      <td>0.1235</td>\n",
       "    </tr>\n",
       "  </tbody>\n",
       "</table>\n",
       "</div>"
      ],
      "text/plain": [
       "    retailer  estimate     t_stat  p.value\n",
       "0         44     3.737   2.097097   0.0381\n",
       "1         45    -1.217  -1.227193   0.2203\n",
       "2         46    -0.429 -11.641717   0.0000\n",
       "3         47     0.052   1.661386   0.0972\n",
       "4         48     0.421   2.132198   0.0339\n",
       "5         49     2.410   1.279824   0.2019\n",
       "6         50     0.606   1.640533   0.1015\n",
       "7         51     0.284   1.875482   0.0616\n",
       "8         53    -0.970  -2.730546   0.0073\n",
       "9         54    -0.028  -0.253362   0.8005\n",
       "10        56    -0.486  -2.652260   0.0379\n",
       "11        57     0.932   3.911426   0.0001\n",
       "12        58    -0.169  -7.031605   0.0000\n",
       "13        59    -0.528  -3.019240   0.0026\n",
       "14        60    -0.138  -0.391721   0.6966\n",
       "15        62     1.361   1.557943   0.1235"
      ]
     },
     "execution_count": 30,
     "metadata": {},
     "output_type": "execute_result"
    }
   ],
   "source": [
    "# Create a summary DataFrame from 'out'\n",
    "import pandas as pd\n",
    "\n",
    "# Extract relevant info from 'out'\n",
    "table_out = pd.DataFrame([\n",
    "\t{\n",
    "\t\t\"retailer\": list(retailer_set)[0] if len(retailer_set) == 1 else str(retailer_set),\n",
    "\t\t\"estimate\": result[0],\n",
    "\t\t\"t_stat\": result[1].statistic,\n",
    "\t\t\"p.value\": result[1].pvalue\n",
    "\t}\n",
    "\tfor retailer_set, result in out\n",
    "])\n",
    "\n",
    "# Round the columns as needed\n",
    "table_out_rounded = table_out.copy()\n",
    "table_out_rounded[\"estimate\"] = table_out_rounded[\"estimate\"].round(3)\n",
    "table_out_rounded[\"p.value\"] = table_out_rounded[\"p.value\"].round(4)\n",
    "table_out_rounded\n"
   ]
  },
  {
   "cell_type": "code",
   "execution_count": null,
   "metadata": {},
   "outputs": [
    {
     "name": "stdout",
     "output_type": "stream",
     "text": [
      "2.10092204024096\n"
     ]
    }
   ],
   "source": [
    "from scipy.stats import t\n",
    "\n",
    "# Example: two samples of size 10 → df = 10 + 10 - 2 = 18\n",
    "df = 18\n",
    "confidence = 0.95\n",
    "\n",
    "# For two-sided test: divide alpha by 2\n",
    "alpha = 1 - confidence\n",
    "t_crit = t.ppf(1 - alpha/2, df)\n",
    "\n",
    "print(t_crit)\n"
   ]
  },
  {
   "cell_type": "markdown",
   "metadata": {},
   "source": [
    "# t test another example\n",
    "\n",
    "## with outlier = 100"
   ]
  },
  {
   "cell_type": "code",
   "execution_count": null,
   "metadata": {},
   "outputs": [],
   "source": [
    "# some groups\n",
    "\n",
    "a1 = {10, 11, 12, 13, 14, 100}\n",
    "b1 = {10, 11, 12, 13, 14, 15}"
   ]
  },
  {
   "cell_type": "code",
   "execution_count": null,
   "metadata": {},
   "outputs": [
    {
     "data": {
      "text/plain": [
       "(np.float64(26.666666666666668),\n",
       " np.float64(12.5),\n",
       " np.float64(12.0),\n",
       " [10, 11, 12, 13, 14])"
      ]
     },
     "execution_count": 109,
     "metadata": {},
     "output_type": "execute_result"
    }
   ],
   "source": [
    "# finding mean\n",
    "\n",
    "a1_mean = np.mean(list(a1)) # with outlier\n",
    "b1_mean = np.mean(list(b1))\n",
    "\n",
    "\n",
    "a1_list = list(a1) # without outlier\n",
    "a1_excl_last = a1_list[-5:6]\n",
    "a1_mean_out = np.mean(a1_excl_last)\n",
    "\n",
    "a1_mean, b1_mean,a1_mean_out,a1_excl_last"
   ]
  },
  {
   "cell_type": "code",
   "execution_count": null,
   "metadata": {},
   "outputs": [
    {
     "data": {
      "text/plain": [
       "(6, 5)"
      ]
     },
     "execution_count": 110,
     "metadata": {},
     "output_type": "execute_result"
    }
   ],
   "source": [
    "# calc n-s\n",
    "ab1n = len(a1)\n",
    "a1n = len(a1_excl_last)\n",
    "\n",
    "ab1n,a1n"
   ]
  },
  {
   "cell_type": "code",
   "execution_count": null,
   "metadata": {},
   "outputs": [
    {
     "data": {
      "text/plain": [
       "(np.float64(13.417270517812037), np.float64(0.9413347497628626))"
      ]
     },
     "execution_count": 123,
     "metadata": {},
     "output_type": "execute_result"
    }
   ],
   "source": [
    "# calc SE \n",
    "\n",
    "a1_std = np.std(list(a1))\n",
    "b1_std = np.std(list(b1))\n",
    "a1_std_out = np.std(a1_excl_last)\n",
    "\n",
    "#a1_std,b1_std,a1_std_out\n",
    "\n",
    "# with outlier\n",
    "SE_out_1 = np.sqrt((a1_std**2)/ab1n + (b1_std**2)/ab1n)\n",
    "\n",
    "# without outlier\n",
    "SE_nout_1 = np.sqrt((a1_std_out**2)/a1n + (b1_std**2)/ab1n)\n",
    "\n",
    "SE_out_1, SE_nout_1"
   ]
  },
  {
   "cell_type": "code",
   "execution_count": null,
   "metadata": {},
   "outputs": [
    {
     "data": {
      "text/plain": [
       "(np.float64(1.055853099768673), np.float64(17.740766506502602))"
      ]
     },
     "execution_count": 115,
     "metadata": {},
     "output_type": "execute_result"
    }
   ],
   "source": [
    "# Calc t\n",
    "t_out = (a1_mean - b1_mean) / SE_out_1\n",
    "t_nout = (a1_mean2 - b1_mean) / SE_nout_1\n",
    "t_out, t_nout"
   ]
  },
  {
   "cell_type": "code",
   "execution_count": null,
   "metadata": {},
   "outputs": [
    {
     "name": "stdout",
     "output_type": "stream",
     "text": [
      "2.1788128296634177 2.200985160082949\n"
     ]
    }
   ],
   "source": [
    "# calc t crit\n",
    "\n",
    "df_out = 12\n",
    "df_nout = 11\n",
    "confidence = 0.95\n",
    "\n",
    "# For two-sided test: divide alpha by 2\n",
    "alpha = 1 - confidence\n",
    "t_crit_out = t.ppf(1 - alpha/2, df_out)\n",
    "t_crit_nout = t.ppf(1 - alpha/2, df_nout)\n",
    "\n",
    "print(t_crit_out, t_crit_nout)"
   ]
  },
  {
   "cell_type": "code",
   "execution_count": null,
   "metadata": {},
   "outputs": [
    {
     "name": "stdout",
     "output_type": "stream",
     "text": [
      "With outlier: [-25.95, 54.28]\n",
      "Without outlier: [-33.01, 66.41]\n"
     ]
    }
   ],
   "source": [
    "#calc Confidence Interval \n",
    "\n",
    "\n",
    "# For a1 and b1 (with outlier)\n",
    "ci_lower_out = (a1_mean - b1_mean) - t_crit_out * SE_out\n",
    "ci_upper_out = (a1_mean - b1_mean) + t_crit_out * SE_out\n",
    "\n",
    "# For a1_excl_last and b1 (without outlier)\n",
    "ci_lower_nout = (a1_mean2 - b1_mean) - t_crit_nout * SE_nout\n",
    "ci_upper_nout = (a1_mean2 - b1_mean) + t_crit_nout * SE_nout\n",
    "\n",
    "print(f\"With outlier: [{ci_lower_out:.2f}, {ci_upper_out:.2f}]\")\n",
    "print(f\"Without outlier: [{ci_lower_nout:.2f}, {ci_upper_nout:.2f}]\")\n"
   ]
  },
  {
   "cell_type": "markdown",
   "metadata": {},
   "source": [
    "# t test another example\n",
    "\n",
    "## with outlier = 200"
   ]
  },
  {
   "cell_type": "code",
   "execution_count": null,
   "metadata": {},
   "outputs": [],
   "source": [
    "# some groups\n",
    "\n",
    "a2 = {10, 11, 4000, 13, 500, 600}\n",
    "b2 = {0, 1, 2, 3, 4, 1}"
   ]
  },
  {
   "cell_type": "code",
   "execution_count": null,
   "metadata": {},
   "outputs": [
    {
     "data": {
      "text/plain": [
       "(np.float64(855.6666666666666),\n",
       " np.float64(2.0),\n",
       " np.float64(12.0),\n",
       " [10, 11, 12, 13, 14])"
      ]
     },
     "execution_count": 157,
     "metadata": {},
     "output_type": "execute_result"
    }
   ],
   "source": [
    "# finding mean\n",
    "\n",
    "a2_mean = np.mean(list(a2)) # with outlier\n",
    "b2_mean = np.mean(list(b2))\n",
    "\n",
    "\n",
    "a2_list = list(a2)\n",
    "a2_excl_last = a1_list[-5:6] # without outlier\n",
    "a2_mean2 = np.mean(a2_excl_last)\n",
    "\n",
    "a2_mean, b2_mean,a2_mean2,a2_excl_last"
   ]
  },
  {
   "cell_type": "code",
   "execution_count": null,
   "metadata": {},
   "outputs": [
    {
     "data": {
      "text/plain": [
       "(6, 5)"
      ]
     },
     "execution_count": 158,
     "metadata": {},
     "output_type": "execute_result"
    }
   ],
   "source": [
    "# calc n-s\n",
    "ab2n = len(a1)\n",
    "a2n = len(a1_excl_last)\n",
    "\n",
    "ab2n,a2n"
   ]
  },
  {
   "cell_type": "code",
   "execution_count": null,
   "metadata": {},
   "outputs": [
    {
     "data": {
      "text/plain": [
       "(np.float64(582.5568482830507), np.float64(0.8563488385776754))"
      ]
     },
     "execution_count": 159,
     "metadata": {},
     "output_type": "execute_result"
    }
   ],
   "source": [
    "# calc SE \n",
    "\n",
    "a2_std = np.std(list(a2))\n",
    "b2_std = np.std(list(b2))\n",
    "a2_std_out = np.std(a1_excl_last)\n",
    "\n",
    "#a2_std,b2_std,a2_std_out\n",
    "\n",
    "# with outlier\n",
    "SE_out_2 = np.sqrt((a2_std**2)/ab2n + (b2_std**2)/ab2n)\n",
    "\n",
    "# without outlier\n",
    "SE_nout_2 = np.sqrt((a2_std_out**2)/a2n + (b2_std**2)/ab2n)\n",
    "\n",
    "SE_out_2, SE_nout_2"
   ]
  },
  {
   "cell_type": "code",
   "execution_count": null,
   "metadata": {},
   "outputs": [
    {
     "data": {
      "text/plain": [
       "(np.float64(1.4653791628793795), np.float64(11.677484162422843))"
      ]
     },
     "execution_count": 163,
     "metadata": {},
     "output_type": "execute_result"
    }
   ],
   "source": [
    "# Calc t\n",
    "\n",
    "t_out2 = (a2_mean - b2_mean) / SE_out_2\n",
    "t_nout2 = (a2_mean2 - b2_mean) / SE_nout_2\n",
    "t_out2, t_nout2"
   ]
  },
  {
   "cell_type": "code",
   "execution_count": null,
   "metadata": {},
   "outputs": [
    {
     "name": "stdout",
     "output_type": "stream",
     "text": [
      "2.1788128296634177 2.200985160082949\n"
     ]
    }
   ],
   "source": [
    "# calc t crit\n",
    "\n",
    "df_out = 12\n",
    "df_nout = 11\n",
    "confidence = 0.95\n",
    "\n",
    "# For two-sided test: divide alpha by 2\n",
    "alpha = 1 - confidence\n",
    "t_crit_out = t.ppf(1 - alpha/2, df_out)\n",
    "t_crit_nout = t.ppf(1 - alpha/2, df_nout)\n",
    "\n",
    "print(t_crit_out, t_crit_nout)"
   ]
  },
  {
   "cell_type": "code",
   "execution_count": null,
   "metadata": {},
   "outputs": [
    {
     "name": "stdout",
     "output_type": "stream",
     "text": [
      "With outlier: [-415.62, 2122.95]\n",
      "Without outlier: [8.12, 11.88]\n"
     ]
    }
   ],
   "source": [
    "#calc Confidence Interval \n",
    "\n",
    "\n",
    "# For a1 and b1 (with outlier)\n",
    "ci_lower_out2 = (a2_mean - b2_mean) - t_crit_out * SE_out_2\n",
    "ci_upper_out2 = (a2_mean - b2_mean) + t_crit_out * SE_out_2\n",
    "\n",
    "# For a1_excl_last and b1 (without outlier)\n",
    "ci_lower_nout2 = (a2_mean2 - b2_mean) - t_crit_nout * SE_nout_2\n",
    "ci_upper_nout2 = (a2_mean2 - b2_mean) + t_crit_nout * SE_nout_2\n",
    "_\n",
    "print(f\"With outlier: [{ci_lower_out2:.2f}, {ci_upper_out2:.2f}]\")\n",
    "print(f\"Without outlier: [{ci_lower_nout2:.2f}, {ci_upper_nout2:.2f}]\")\n"
   ]
  },
  {
   "cell_type": "code",
   "execution_count": null,
   "metadata": {},
   "outputs": [],
   "source": [
    "# Re-import required libraries after code execution state reset\n",
    "import numpy as np\n",
    "import scipy.stats as stats\n",
    "import pandas as pd\n",
    "\n",
    "\n",
    "# Define the two groups as lists (not sets)\n",
    "a2 = [10, 11, 4000, 13, 500, 600]\n",
    "b2 = [0, 1, 2, 3, 4, 1]\n",
    "\n",
    "# Step 1: Calculate means\n",
    "a2_mean = np.mean(a2)\n",
    "b2_mean = np.mean(b2)\n",
    "\n",
    "# Step 2: Calculate standard deviations\n",
    "a2_std = np.std(a2, ddof=1)\n",
    "b2_std = np.std(b2, ddof=1)\n",
    "\n",
    "# Step 3: Calculate sample sizes\n",
    "n_a2 = len(a2)\n",
    "n_b2 = len(b2)\n",
    "\n",
    "# Step 4: Calculate Standard Error of the difference in means\n",
    "SE = np.sqrt((a2_std**2 / n_a2) + (b2_std**2 / n_b2))\n",
    "\n",
    "# Step 5: Calculate t-statistic\n",
    "t_stat = (a2_mean - b2_mean) / SE\n",
    "\n",
    "# Step 6: Calculate degrees of freedom using Welch-Satterthwaite approximation\n",
    "df = ( (a2_std**2 / n_a2) + (b2_std**2 / n_b2) )**2 / \\\n",
    "     ( ((a2_std**2 / n_a2)**2) / (n_a2 - 1) + ((b2_std**2 / n_b2)**2) / (n_b2 - 1) )\n",
    "\n",
    "# Step 7: Calculate p-value (two-sided test)\n",
    "p_value = 2 * (1 - stats.t.cdf(abs(t_stat), df=df))\n",
    "\n",
    "# Step 8: Critical t value for 95% confidence\n",
    "confidence = 0.95\n",
    "alpha = 1 - confidence\n",
    "t_crit = stats.t.ppf(1 - alpha/2, df=df)\n",
    "\n",
    "# Step 9: Confidence Interval\n",
    "ci_lower = (a2_mean - b2_mean) - t_crit * SE\n",
    "ci_upper = (a2_mean - b2_mean) + t_crit * SE\n",
    "\n",
    "\n",
    "\n"
   ]
  }
 ],
 "metadata": {
  "kernelspec": {
   "display_name": "Python 3",
   "language": "python",
   "name": "python3"
  },
  "language_info": {
   "codemirror_mode": {
    "name": "ipython",
    "version": 3
   },
   "file_extension": ".py",
   "mimetype": "text/x-python",
   "name": "python",
   "nbconvert_exporter": "python",
   "pygments_lexer": "ipython3",
   "version": "3.12.1"
  }
 },
 "nbformat": 4,
 "nbformat_minor": 4
}
