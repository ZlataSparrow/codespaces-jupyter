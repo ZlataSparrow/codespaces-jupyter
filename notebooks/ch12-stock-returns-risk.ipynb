{
 "cells": [
  {
   "cell_type": "markdown",
   "metadata": {},
   "source": [
    "#### Prepared for Gabor's Data Analysis\n",
    "\n",
    "### Data Analysis for Business, Economics, and Policy\n",
    "by Gabor Bekes and  Gabor Kezdi\n",
    " \n",
    "Cambridge University Press 2021\n",
    "\n",
    "**[gabors-data-analysis.com ](https://gabors-data-analysis.com/)**\n",
    "\n",
    " License: Free to share, modify and use for educational purposes. \n",
    " Not to be used for commercial purposes.\n",
    " \n",
    "### CHAPTER 12\n",
    "**CH12 Returns on a company stock and market returns**\n",
    "\n",
    "version 1.0 2021-05-31\n",
    " \n",
    " "
   ]
  },
  {
   "cell_type": "code",
   "execution_count": 41,
   "metadata": {},
   "outputs": [],
   "source": [
    "import os\n",
    "import sys\n",
    "import warnings\n",
    "from datetime import datetime\n",
    "\n",
    "import numpy as np\n",
    "import pandas as pd\n",
    "import matplotlib.pyplot as plt\n",
    "import statsmodels.formula.api as smf\n",
    "\n",
    "from mizani.breaks import date_breaks\n",
    "from mizani.formatters import date_format\n",
    "from mizani.formatters import percent_format\n",
    "from plotnine import *\n",
    "from stargazer.stargazer import Stargazer\n",
    "\n",
    "warnings.filterwarnings(\"ignore\")\n"
   ]
  },
  {
   "cell_type": "code",
   "execution_count": 42,
   "metadata": {},
   "outputs": [],
   "source": [
    "stock_data = pd.read_csv(\"/workspaces/codespaces-jupyter/data/ready_sp500_45_cos.csv\")"
   ]
  },
  {
   "cell_type": "code",
   "execution_count": 43,
   "metadata": {},
   "outputs": [
    {
     "data": {
      "text/html": [
       "<div>\n",
       "<style scoped>\n",
       "    .dataframe tbody tr th:only-of-type {\n",
       "        vertical-align: middle;\n",
       "    }\n",
       "\n",
       "    .dataframe tbody tr th {\n",
       "        vertical-align: top;\n",
       "    }\n",
       "\n",
       "    .dataframe thead th {\n",
       "        text-align: right;\n",
       "    }\n",
       "</style>\n",
       "<table border=\"1\" class=\"dataframe\">\n",
       "  <thead>\n",
       "    <tr style=\"text-align: right;\">\n",
       "      <th></th>\n",
       "      <th>ticker</th>\n",
       "      <th>ref.date</th>\n",
       "      <th>price.open</th>\n",
       "      <th>price.close</th>\n",
       "      <th>price.adjusted</th>\n",
       "      <th>price.low</th>\n",
       "      <th>price.high</th>\n",
       "      <th>volume</th>\n",
       "    </tr>\n",
       "  </thead>\n",
       "  <tbody>\n",
       "    <tr>\n",
       "      <th>0</th>\n",
       "      <td>ACN</td>\n",
       "      <td>2001-07-19</td>\n",
       "      <td>15.10</td>\n",
       "      <td>15.17</td>\n",
       "      <td>11.497672</td>\n",
       "      <td>15.00</td>\n",
       "      <td>15.29</td>\n",
       "      <td>34994300.0</td>\n",
       "    </tr>\n",
       "    <tr>\n",
       "      <th>1</th>\n",
       "      <td>ACN</td>\n",
       "      <td>2001-07-20</td>\n",
       "      <td>15.05</td>\n",
       "      <td>15.01</td>\n",
       "      <td>11.376402</td>\n",
       "      <td>14.80</td>\n",
       "      <td>15.05</td>\n",
       "      <td>9238500.0</td>\n",
       "    </tr>\n",
       "    <tr>\n",
       "      <th>2</th>\n",
       "      <td>ACN</td>\n",
       "      <td>2001-07-23</td>\n",
       "      <td>15.00</td>\n",
       "      <td>15.00</td>\n",
       "      <td>11.368821</td>\n",
       "      <td>14.55</td>\n",
       "      <td>15.01</td>\n",
       "      <td>7501000.0</td>\n",
       "    </tr>\n",
       "    <tr>\n",
       "      <th>3</th>\n",
       "      <td>ACN</td>\n",
       "      <td>2001-07-24</td>\n",
       "      <td>14.95</td>\n",
       "      <td>14.86</td>\n",
       "      <td>11.262713</td>\n",
       "      <td>14.70</td>\n",
       "      <td>14.97</td>\n",
       "      <td>3537300.0</td>\n",
       "    </tr>\n",
       "    <tr>\n",
       "      <th>4</th>\n",
       "      <td>ACN</td>\n",
       "      <td>2001-07-25</td>\n",
       "      <td>14.70</td>\n",
       "      <td>14.95</td>\n",
       "      <td>11.330926</td>\n",
       "      <td>14.65</td>\n",
       "      <td>14.95</td>\n",
       "      <td>4208100.0</td>\n",
       "    </tr>\n",
       "  </tbody>\n",
       "</table>\n",
       "</div>"
      ],
      "text/plain": [
       "  ticker    ref.date  price.open  price.close  price.adjusted  price.low  \\\n",
       "0    ACN  2001-07-19       15.10        15.17       11.497672      15.00   \n",
       "1    ACN  2001-07-20       15.05        15.01       11.376402      14.80   \n",
       "2    ACN  2001-07-23       15.00        15.00       11.368821      14.55   \n",
       "3    ACN  2001-07-24       14.95        14.86       11.262713      14.70   \n",
       "4    ACN  2001-07-25       14.70        14.95       11.330926      14.65   \n",
       "\n",
       "   price.high      volume  \n",
       "0       15.29  34994300.0  \n",
       "1       15.05   9238500.0  \n",
       "2       15.01   7501000.0  \n",
       "3       14.97   3537300.0  \n",
       "4       14.95   4208100.0  "
      ]
     },
     "execution_count": 43,
     "metadata": {},
     "output_type": "execute_result"
    }
   ],
   "source": [
    "stock_data.head()"
   ]
  },
  {
   "cell_type": "code",
   "execution_count": 44,
   "metadata": {},
   "outputs": [
    {
     "data": {
      "text/plain": [
       "array(['ACN', 'ADBE', 'AMD', 'AKAM', 'ADS', 'APH', 'ADI', 'ANSS', 'AAPL',\n",
       "       'AMAT', 'ANET', 'ADSK', 'ADP', 'AVGO', 'BR', 'CDNS', 'CSCO',\n",
       "       'CTXS', 'CTSH', 'GLW', 'DXC', 'FFIV', 'FIS', 'FISV', 'FLT', 'FLIR',\n",
       "       'FTNT', 'IT', 'GPN', 'HPE', 'HPQ', 'INTC', 'IBM', 'INTU', 'IPGP',\n",
       "       'JKHY', 'JNPR', 'KEYS', 'KLAC', 'LRCX', 'LDOS', 'MA', 'MXIM',\n",
       "       'MCHP', 'MU', 'MSFT', 'MSI', 'NTAP', 'NVDA', 'ORCL', 'PAYX',\n",
       "       'PYPL', 'QRVO', 'QCOM', 'CRM', 'STX', 'SWKS', 'SYMC', 'SNPS',\n",
       "       'TEL', 'TXN', 'TSS', 'VRSN', 'V', 'WDC', 'WU', 'XRX', 'XLNX'],\n",
       "      dtype=object)"
      ]
     },
     "execution_count": 44,
     "metadata": {},
     "output_type": "execute_result"
    }
   ],
   "source": [
    "stock_data[\"ticker\"].unique()"
   ]
  },
  {
   "cell_type": "code",
   "execution_count": 45,
   "metadata": {},
   "outputs": [],
   "source": [
    "MSFT = stock_data[stock_data[\"ticker\"] == \"MSFT\"]"
   ]
  },
  {
   "cell_type": "code",
   "execution_count": 46,
   "metadata": {},
   "outputs": [],
   "source": [
    "p_MSFT = (\n",
    "    MSFT[[\"ref.date\", \"price.close\"]]\n",
    "    .rename(columns={\"ref.date\": \"date\"})\n",
    "    .reset_index(drop=True)\n",
    ")"
   ]
  },
  {
   "cell_type": "code",
   "execution_count": 47,
   "metadata": {},
   "outputs": [],
   "source": [
    "p_MSFT[\"date\"] = pd.to_datetime(p_MSFT[\"date\"])\n"
   ]
  },
  {
   "cell_type": "code",
   "execution_count": 48,
   "metadata": {},
   "outputs": [
    {
     "data": {
      "text/html": [
       "<div>\n",
       "<style scoped>\n",
       "    .dataframe tbody tr th:only-of-type {\n",
       "        vertical-align: middle;\n",
       "    }\n",
       "\n",
       "    .dataframe tbody tr th {\n",
       "        vertical-align: top;\n",
       "    }\n",
       "\n",
       "    .dataframe thead th {\n",
       "        text-align: right;\n",
       "    }\n",
       "</style>\n",
       "<table border=\"1\" class=\"dataframe\">\n",
       "  <thead>\n",
       "    <tr style=\"text-align: right;\">\n",
       "      <th></th>\n",
       "      <th>date</th>\n",
       "      <th>price.close</th>\n",
       "    </tr>\n",
       "  </thead>\n",
       "  <tbody>\n",
       "    <tr>\n",
       "      <th>0</th>\n",
       "      <td>1997-12-29</td>\n",
       "      <td>15.789063</td>\n",
       "    </tr>\n",
       "    <tr>\n",
       "      <th>1</th>\n",
       "      <td>1997-12-30</td>\n",
       "      <td>16.281250</td>\n",
       "    </tr>\n",
       "    <tr>\n",
       "      <th>2</th>\n",
       "      <td>1997-12-31</td>\n",
       "      <td>16.156250</td>\n",
       "    </tr>\n",
       "    <tr>\n",
       "      <th>3</th>\n",
       "      <td>1998-01-02</td>\n",
       "      <td>16.390625</td>\n",
       "    </tr>\n",
       "    <tr>\n",
       "      <th>4</th>\n",
       "      <td>1998-01-05</td>\n",
       "      <td>16.296875</td>\n",
       "    </tr>\n",
       "  </tbody>\n",
       "</table>\n",
       "</div>"
      ],
      "text/plain": [
       "        date  price.close\n",
       "0 1997-12-29    15.789063\n",
       "1 1997-12-30    16.281250\n",
       "2 1997-12-31    16.156250\n",
       "3 1998-01-02    16.390625\n",
       "4 1998-01-05    16.296875"
      ]
     },
     "execution_count": 48,
     "metadata": {},
     "output_type": "execute_result"
    }
   ],
   "source": [
    "p_MSFT.head()"
   ]
  },
  {
   "cell_type": "code",
   "execution_count": 49,
   "metadata": {},
   "outputs": [],
   "source": [
    "sp500_index = pd.read_csv(\"/workspaces/codespaces-jupyter/data/ready_sp500_index.csv\")"
   ]
  },
  {
   "cell_type": "code",
   "execution_count": 50,
   "metadata": {},
   "outputs": [],
   "source": [
    "p_SP500 = (\n",
    "    sp500_index[[\"ref.date\", \"price.close\"]]\n",
    "    .rename(columns={\"ref.date\": \"date\"})\n",
    "    .reset_index(drop=True)\n",
    ")"
   ]
  },
  {
   "cell_type": "code",
   "execution_count": 51,
   "metadata": {},
   "outputs": [],
   "source": [
    "p_SP500[\"date\"] = pd.to_datetime(p_SP500[\"date\"])"
   ]
  },
  {
   "cell_type": "code",
   "execution_count": 52,
   "metadata": {},
   "outputs": [],
   "source": [
    "data_daily = (\n",
    "    pd.merge(p_SP500, p_MSFT, how=\"inner\", on=\"date\")\n",
    "    .rename(columns={\"price.close_x\": \"p_SP500\", \"price.close_y\": \"p_MSFT\"})\n",
    "    .reset_index(drop=True)\n",
    ")"
   ]
  },
  {
   "cell_type": "code",
   "execution_count": 53,
   "metadata": {},
   "outputs": [],
   "source": [
    "data_daily = data_daily[\n",
    "    (data_daily[\"date\"] >= \"1997-12-31\") & (data_daily[\"date\"] <= \"2018-12-31\")\n",
    "]"
   ]
  },
  {
   "cell_type": "code",
   "execution_count": 54,
   "metadata": {},
   "outputs": [],
   "source": [
    "data_daily[\"year\"] = data_daily[\"date\"].dt.year"
   ]
  },
  {
   "cell_type": "code",
   "execution_count": 55,
   "metadata": {},
   "outputs": [],
   "source": [
    "data_daily[\"month\"] = data_daily[\"date\"].dt.month"
   ]
  },
  {
   "cell_type": "code",
   "execution_count": 56,
   "metadata": {},
   "outputs": [],
   "source": [
    "data_daily.to_csv(\"stock-prices-daily.csv\")"
   ]
  },
  {
   "cell_type": "markdown",
   "metadata": {},
   "source": [
    "# PART I: Graphs"
   ]
  },
  {
   "cell_type": "code",
   "execution_count": 57,
   "metadata": {},
   "outputs": [],
   "source": [
    "data_daily[\"lnp_MSFT\"] = data_daily[\"p_MSFT\"].map(lambda x: np.log(x))"
   ]
  },
  {
   "cell_type": "code",
   "execution_count": 58,
   "metadata": {},
   "outputs": [],
   "source": [
    "data_daily[\"lnp_SP500\"] = data_daily[\"p_SP500\"].map(lambda x: np.log(x))"
   ]
  },
  {
   "cell_type": "code",
   "execution_count": 59,
   "metadata": {},
   "outputs": [],
   "source": [
    "limits = datetime(1998, 1, 1), datetime(2018, 1, 1)"
   ]
  },
  {
   "cell_type": "code",
   "execution_count": 60,
   "metadata": {},
   "outputs": [],
   "source": [
    "breaks = date_breaks(\"2 year\")"
   ]
  },
  {
   "cell_type": "markdown",
   "metadata": {},
   "source": [
    "### Figure 12.2 Stock prices, daily time series"
   ]
  },
  {
   "cell_type": "markdown",
   "metadata": {},
   "source": [
    "For time series data, plotnine wants the index to start from 0"
   ]
  },
  {
   "cell_type": "code",
   "execution_count": 61,
   "metadata": {},
   "outputs": [],
   "source": [
    "data_daily = data_daily.reset_index(drop=True)"
   ]
  },
  {
   "cell_type": "code",
   "execution_count": 62,
   "metadata": {},
   "outputs": [
    {
     "data": {
      "text/html": [
       "<div>\n",
       "<style scoped>\n",
       "    .dataframe tbody tr th:only-of-type {\n",
       "        vertical-align: middle;\n",
       "    }\n",
       "\n",
       "    .dataframe tbody tr th {\n",
       "        vertical-align: top;\n",
       "    }\n",
       "\n",
       "    .dataframe thead th {\n",
       "        text-align: right;\n",
       "    }\n",
       "</style>\n",
       "<table border=\"1\" class=\"dataframe\">\n",
       "  <thead>\n",
       "    <tr style=\"text-align: right;\">\n",
       "      <th></th>\n",
       "      <th>date</th>\n",
       "      <th>p_SP500</th>\n",
       "      <th>p_MSFT</th>\n",
       "      <th>year</th>\n",
       "      <th>month</th>\n",
       "      <th>lnp_MSFT</th>\n",
       "      <th>lnp_SP500</th>\n",
       "    </tr>\n",
       "  </thead>\n",
       "  <tbody>\n",
       "    <tr>\n",
       "      <th>0</th>\n",
       "      <td>1997-12-31</td>\n",
       "      <td>970.429993</td>\n",
       "      <td>16.156250</td>\n",
       "      <td>1997</td>\n",
       "      <td>12</td>\n",
       "      <td>2.782307</td>\n",
       "      <td>6.877739</td>\n",
       "    </tr>\n",
       "    <tr>\n",
       "      <th>1</th>\n",
       "      <td>1998-01-02</td>\n",
       "      <td>975.039978</td>\n",
       "      <td>16.390625</td>\n",
       "      <td>1998</td>\n",
       "      <td>1</td>\n",
       "      <td>2.796710</td>\n",
       "      <td>6.882478</td>\n",
       "    </tr>\n",
       "    <tr>\n",
       "      <th>2</th>\n",
       "      <td>1998-01-05</td>\n",
       "      <td>977.070007</td>\n",
       "      <td>16.296875</td>\n",
       "      <td>1998</td>\n",
       "      <td>1</td>\n",
       "      <td>2.790973</td>\n",
       "      <td>6.884558</td>\n",
       "    </tr>\n",
       "    <tr>\n",
       "      <th>3</th>\n",
       "      <td>1998-01-06</td>\n",
       "      <td>966.580017</td>\n",
       "      <td>16.390625</td>\n",
       "      <td>1998</td>\n",
       "      <td>1</td>\n",
       "      <td>2.796710</td>\n",
       "      <td>6.873764</td>\n",
       "    </tr>\n",
       "    <tr>\n",
       "      <th>4</th>\n",
       "      <td>1998-01-07</td>\n",
       "      <td>964.000000</td>\n",
       "      <td>16.195313</td>\n",
       "      <td>1998</td>\n",
       "      <td>1</td>\n",
       "      <td>2.784722</td>\n",
       "      <td>6.871091</td>\n",
       "    </tr>\n",
       "    <tr>\n",
       "      <th>...</th>\n",
       "      <td>...</td>\n",
       "      <td>...</td>\n",
       "      <td>...</td>\n",
       "      <td>...</td>\n",
       "      <td>...</td>\n",
       "      <td>...</td>\n",
       "      <td>...</td>\n",
       "    </tr>\n",
       "    <tr>\n",
       "      <th>5279</th>\n",
       "      <td>2018-12-24</td>\n",
       "      <td>2351.100098</td>\n",
       "      <td>94.129997</td>\n",
       "      <td>2018</td>\n",
       "      <td>12</td>\n",
       "      <td>4.544677</td>\n",
       "      <td>7.762639</td>\n",
       "    </tr>\n",
       "    <tr>\n",
       "      <th>5280</th>\n",
       "      <td>2018-12-26</td>\n",
       "      <td>2467.699951</td>\n",
       "      <td>100.559998</td>\n",
       "      <td>2018</td>\n",
       "      <td>12</td>\n",
       "      <td>4.610755</td>\n",
       "      <td>7.811042</td>\n",
       "    </tr>\n",
       "    <tr>\n",
       "      <th>5281</th>\n",
       "      <td>2018-12-27</td>\n",
       "      <td>2488.830078</td>\n",
       "      <td>101.180000</td>\n",
       "      <td>2018</td>\n",
       "      <td>12</td>\n",
       "      <td>4.616901</td>\n",
       "      <td>7.819568</td>\n",
       "    </tr>\n",
       "    <tr>\n",
       "      <th>5282</th>\n",
       "      <td>2018-12-28</td>\n",
       "      <td>2485.739990</td>\n",
       "      <td>100.389999</td>\n",
       "      <td>2018</td>\n",
       "      <td>12</td>\n",
       "      <td>4.609063</td>\n",
       "      <td>7.818326</td>\n",
       "    </tr>\n",
       "    <tr>\n",
       "      <th>5283</th>\n",
       "      <td>2018-12-31</td>\n",
       "      <td>2506.850098</td>\n",
       "      <td>101.570000</td>\n",
       "      <td>2018</td>\n",
       "      <td>12</td>\n",
       "      <td>4.620748</td>\n",
       "      <td>7.826782</td>\n",
       "    </tr>\n",
       "  </tbody>\n",
       "</table>\n",
       "<p>5284 rows × 7 columns</p>\n",
       "</div>"
      ],
      "text/plain": [
       "           date      p_SP500      p_MSFT  year  month  lnp_MSFT  lnp_SP500\n",
       "0    1997-12-31   970.429993   16.156250  1997     12  2.782307   6.877739\n",
       "1    1998-01-02   975.039978   16.390625  1998      1  2.796710   6.882478\n",
       "2    1998-01-05   977.070007   16.296875  1998      1  2.790973   6.884558\n",
       "3    1998-01-06   966.580017   16.390625  1998      1  2.796710   6.873764\n",
       "4    1998-01-07   964.000000   16.195313  1998      1  2.784722   6.871091\n",
       "...         ...          ...         ...   ...    ...       ...        ...\n",
       "5279 2018-12-24  2351.100098   94.129997  2018     12  4.544677   7.762639\n",
       "5280 2018-12-26  2467.699951  100.559998  2018     12  4.610755   7.811042\n",
       "5281 2018-12-27  2488.830078  101.180000  2018     12  4.616901   7.819568\n",
       "5282 2018-12-28  2485.739990  100.389999  2018     12  4.609063   7.818326\n",
       "5283 2018-12-31  2506.850098  101.570000  2018     12  4.620748   7.826782\n",
       "\n",
       "[5284 rows x 7 columns]"
      ]
     },
     "execution_count": 62,
     "metadata": {},
     "output_type": "execute_result"
    }
   ],
   "source": [
    "data_daily"
   ]
  },
  {
   "cell_type": "markdown",
   "metadata": {},
   "source": [
    "(a) Microsoft"
   ]
  },
  {
   "cell_type": "code",
   "execution_count": 63,
   "metadata": {},
   "outputs": [
    {
     "data": {
      "image/png": "[encoded data removed]",
      "text/plain": [
       "<Figure size 1200x600 with 1 Axes>"
      ]
     },
     "metadata": {},
     "output_type": "display_data"
    }
   ],
   "source": [
    "plt.figure(figsize=(12, 6))\n",
    "plt.plot(data_daily[\"date\"], data_daily[\"p_MSFT\"], color=\"tab:blue\", linewidth=0.8)\n",
    "plt.ylim(0, 120)\n",
    "plt.yticks(np.arange(0, 121, 20))\n",
    "plt.xlim(limits)\n",
    "years = np.linspace(1998, 2018, 6, dtype=int)\n",
    "plt.xticks([pd.Timestamp(f\"{y}-01-01\") for y in years], years)\n",
    "plt.xlabel(\"Date (day)\")\n",
    "plt.ylabel(\"Microsoft stock price (US dollars)\")\n",
    "plt.title(\"Microsoft Stock Price (Daily)\")\n",
    "plt.grid(True, linestyle='--', alpha=0.5)\n",
    "plt.tight_layout()\n",
    "plt.show()"
   ]
  },
  {
   "cell_type": "markdown",
   "metadata": {},
   "source": [
    "(b) S&P500 index"
   ]
  },
  {
   "cell_type": "code",
   "execution_count": 64,
   "metadata": {},
   "outputs": [
    {
     "data": {
      "image/png": "[encoded data removed]",
      "text/plain": [
       "<Figure size 1200x600 with 1 Axes>"
      ]
     },
     "metadata": {},
     "output_type": "display_data"
    }
   ],
   "source": [
    "plt.figure(figsize=(12, 6))\n",
    "plt.plot(data_daily[\"date\"], data_daily[\"p_SP500\"], color=\"tab:blue\", linewidth=0.8)\n",
    "plt.ylim(0, 3001)\n",
    "plt.yticks(np.arange(500, 3000, 500))\n",
    "plt.xlim(limits)\n",
    "years = np.linspace(1998, 2018, 6, dtype=int)\n",
    "plt.xticks([pd.Timestamp(f\"{y}-01-01\") for y in years], years)\n",
    "plt.xlabel(\"Date (day)\")\n",
    "plt.ylabel(\"S&P 500 Stock Market Index\")\n",
    "plt.title(\"S&P 500 Stock Market Index (Daily)\")\n",
    "plt.grid(True, linestyle='--', alpha=0.5)\n",
    "plt.tight_layout()\n",
    "plt.show()"
   ]
  },
  {
   "cell_type": "code",
   "execution_count": 65,
   "metadata": {},
   "outputs": [
    {
     "name": "stdout",
     "output_type": "stream",
     "text": [
      "Requirement already satisfied: arch in /usr/local/python/3.12.1/lib/python3.12/site-packages (7.2.0)\n",
      "Requirement already satisfied: numpy>=1.22.3 in /home/codespace/.local/lib/python3.12/site-packages (from arch) (2.2.5)\n",
      "Requirement already satisfied: scipy>=1.8 in /home/codespace/.local/lib/python3.12/site-packages (from arch) (1.15.2)\n",
      "Requirement already satisfied: pandas>=1.4 in /usr/local/python/3.12.1/lib/python3.12/site-packages (from arch) (2.2.2)\n",
      "Requirement already satisfied: statsmodels>=0.12 in /usr/local/python/3.12.1/lib/python3.12/site-packages (from arch) (0.14.4)\n",
      "Requirement already satisfied: python-dateutil>=2.8.2 in /home/codespace/.local/lib/python3.12/site-packages (from pandas>=1.4->arch) (2.9.0.post0)\n",
      "Requirement already satisfied: pytz>=2020.1 in /home/codespace/.local/lib/python3.12/site-packages (from pandas>=1.4->arch) (2025.2)\n",
      "Requirement already satisfied: tzdata>=2022.7 in /home/codespace/.local/lib/python3.12/site-packages (from pandas>=1.4->arch) (2025.2)\n",
      "Requirement already satisfied: six>=1.5 in /home/codespace/.local/lib/python3.12/site-packages (from python-dateutil>=2.8.2->pandas>=1.4->arch) (1.17.0)\n",
      "Requirement already satisfied: patsy>=0.5.6 in /usr/local/python/3.12.1/lib/python3.12/site-packages (from statsmodels>=0.12->arch) (1.0.1)\n",
      "Requirement already satisfied: packaging>=21.3 in /home/codespace/.local/lib/python3.12/site-packages (from statsmodels>=0.12->arch) (25.0)\n",
      "Note: you may need to restart the kernel to use updated packages.\n"
     ]
    }
   ],
   "source": [
    "%pip install arch\n",
    "from arch.unitroot import PhillipsPerron"
   ]
  },
  {
   "cell_type": "markdown",
   "metadata": {},
   "source": [
    "### Phillips Perron Unit Root\n",
    "\n",
    "testing whether the Microsoft stock price series is stationary or not. If the test result shows a unit root, the series is non-stationary (its mean and variance change over time)\n",
    "\n",
    "\n",
    "The Phillips-Perron test checks if a time series is stationary or has a unit root (is non-stationary).\n",
    "\n",
    "If a series has a unit root, its mean and variance can change over time (like a random walk).\n",
    "If it is stationary, its statistical properties stay the same over time.\n",
    "In simple words:\n",
    "Phillips-Perron tells you if your data (like stock prices) \"wanders\" over time or stays around a constant average. This is important for deciding how to model and forecast time series data."
   ]
  },
  {
   "cell_type": "code",
   "execution_count": 66,
   "metadata": {},
   "outputs": [
    {
     "name": "stdout",
     "output_type": "stream",
     "text": [
      "     Phillips-Perron Test (Z-rho)    \n",
      "=====================================\n",
      "Test Statistic                  2.287\n",
      "P-value                         0.994\n",
      "Lags                               32\n",
      "-------------------------------------\n",
      "\n",
      "Trend: No Trend\n",
      "Critical Values: -13.24 (1%), -7.79 (5%), -5.54 (10%)\n",
      "Null Hypothesis: The process contains a unit root.\n",
      "Alternative Hypothesis: The process is weakly stationary.\n"
     ]
    }
   ],
   "source": [
    "print(PhillipsPerron(data_daily[\"p_MSFT\"], lags=32, test_type=\"rho\", trend=\"n\"))"
   ]
  },
  {
   "cell_type": "code",
   "execution_count": 67,
   "metadata": {},
   "outputs": [
    {
     "name": "stdout",
     "output_type": "stream",
     "text": [
      "     Phillips-Perron Test (Z-rho)    \n",
      "=====================================\n",
      "Test Statistic                  2.245\n",
      "P-value                         0.998\n",
      "Lags                               32\n",
      "-------------------------------------\n",
      "\n",
      "Trend: Constant\n",
      "Critical Values: -20.60 (1%), -14.08 (5%), -11.24 (10%)\n",
      "Null Hypothesis: The process contains a unit root.\n",
      "Alternative Hypothesis: The process is weakly stationary.\n"
     ]
    }
   ],
   "source": [
    "print(PhillipsPerron(data_daily[\"p_MSFT\"], lags=32, test_type=\"rho\", trend=\"c\"))\n"
   ]
  },
  {
   "cell_type": "code",
   "execution_count": 68,
   "metadata": {},
   "outputs": [
    {
     "name": "stdout",
     "output_type": "stream",
     "text": [
      "     Phillips-Perron Test (Z-rho)    \n",
      "=====================================\n",
      "Test Statistic                 -0.092\n",
      "P-value                         0.995\n",
      "Lags                               32\n",
      "-------------------------------------\n",
      "\n",
      "Trend: Constant and Linear Time Trend\n",
      "Critical Values: -29.31 (1%), -21.69 (5%), -18.23 (10%)\n",
      "Null Hypothesis: The process contains a unit root.\n",
      "Alternative Hypothesis: The process is weakly stationary.\n"
     ]
    }
   ],
   "source": [
    "print(PhillipsPerron(data_daily[\"p_MSFT\"], lags=32, test_type=\"rho\", trend=\"ct\"))"
   ]
  },
  {
   "cell_type": "code",
   "execution_count": 69,
   "metadata": {},
   "outputs": [
    {
     "name": "stdout",
     "output_type": "stream",
     "text": [
      "     Phillips-Perron Test (Z-rho)    \n",
      "=====================================\n",
      "Test Statistic                  0.908\n",
      "P-value                         0.892\n",
      "Lags                               32\n",
      "-------------------------------------\n",
      "\n",
      "Trend: No Trend\n",
      "Critical Values: -13.24 (1%), -7.79 (5%), -5.54 (10%)\n",
      "Null Hypothesis: The process contains a unit root.\n",
      "Alternative Hypothesis: The process is weakly stationary.\n",
      "     Phillips-Perron Test (Z-rho)    \n",
      "=====================================\n",
      "Test Statistic                 -0.292\n",
      "P-value                         0.940\n",
      "Lags                               32\n",
      "-------------------------------------\n",
      "\n",
      "Trend: Constant\n",
      "Critical Values: -20.60 (1%), -14.08 (5%), -11.24 (10%)\n",
      "Null Hypothesis: The process contains a unit root.\n",
      "Alternative Hypothesis: The process is weakly stationary.\n"
     ]
    },
    {
     "data": {
      "text/plain": [
       "(None,)"
      ]
     },
     "execution_count": 69,
     "metadata": {},
     "output_type": "execute_result"
    }
   ],
   "source": [
    "print(PhillipsPerron(data_daily[\"p_SP500\"], lags=32, test_type=\"rho\", trend=\"n\")),\n",
    "print(PhillipsPerron(data_daily[\"p_SP500\"], lags=32, test_type=\"rho\", trend=\"c\")),"
   ]
  },
  {
   "cell_type": "code",
   "execution_count": 70,
   "metadata": {},
   "outputs": [
    {
     "name": "stdout",
     "output_type": "stream",
     "text": [
      "     Phillips-Perron Test (Z-rho)    \n",
      "=====================================\n",
      "Test Statistic                 -3.943\n",
      "P-value                         0.894\n",
      "Lags                               32\n",
      "-------------------------------------\n",
      "\n",
      "Trend: Constant and Linear Time Trend\n",
      "Critical Values: -29.31 (1%), -21.69 (5%), -18.23 (10%)\n",
      "Null Hypothesis: The process contains a unit root.\n",
      "Alternative Hypothesis: The process is weakly stationary.\n"
     ]
    },
    {
     "data": {
      "text/plain": [
       "(None,)"
      ]
     },
     "execution_count": 70,
     "metadata": {},
     "output_type": "execute_result"
    }
   ],
   "source": [
    "print(PhillipsPerron(data_daily[\"p_SP500\"], lags=32, test_type=\"rho\", trend=\"ct\")),"
   ]
  },
  {
   "cell_type": "code",
   "execution_count": 71,
   "metadata": {},
   "outputs": [],
   "source": [
    "data_daily[\"l.p_MSFT\"] = data_daily[\"p_MSFT\"].shift()\n",
    "data_daily[\"l.p_SP500\"] = data_daily[\"p_SP500\"].shift()\n",
    "data_daily[\"d.p_MSFT\"] = data_daily[\"p_MSFT\"] - data_daily[\"l.p_MSFT\"]\n",
    "data_daily[\"d.p_SP500\"] = data_daily[\"p_SP500\"] - data_daily[\"l.p_SP500\"]\n",
    "data_daily[\"PctRetMSFT\"] = data_daily[\"d.p_MSFT\"] / data_daily[\"l.p_MSFT\"] * 100\n",
    "data_daily[\"PctRetSP500\"] = data_daily[\"d.p_SP500\"] / data_daily[\"l.p_SP500\"] * 100"
   ]
  },
  {
   "cell_type": "code",
   "execution_count": 72,
   "metadata": {},
   "outputs": [],
   "source": [
    "data_daily[\"d.lnp_MSFT\"] = np.log(data_daily[\"p_MSFT\"]) - np.log(\n",
    "    data_daily[\"p_MSFT\"].shift()\n",
    ")\n",
    "data_daily[\"d.lnp_SP500\"] = np.log(data_daily[\"p_SP500\"]) - np.log(\n",
    "    data_daily[\"p_SP500\"].shift()\n",
    ")"
   ]
  },
  {
   "cell_type": "code",
   "execution_count": 73,
   "metadata": {},
   "outputs": [],
   "source": [
    "data_monthly = (\n",
    "    data_daily[[\"date\", \"year\", \"month\", \"p_SP500\", \"p_MSFT\"]]\n",
    "    .groupby(data_daily[\"date\"].dt.to_period(\"M\"))\n",
    "    .last()\n",
    "    .reset_index(drop=True)\n",
    ")"
   ]
  },
  {
   "cell_type": "code",
   "execution_count": 74,
   "metadata": {},
   "outputs": [
    {
     "data": {
      "text/html": [
       "<div>\n",
       "<style scoped>\n",
       "    .dataframe tbody tr th:only-of-type {\n",
       "        vertical-align: middle;\n",
       "    }\n",
       "\n",
       "    .dataframe tbody tr th {\n",
       "        vertical-align: top;\n",
       "    }\n",
       "\n",
       "    .dataframe thead th {\n",
       "        text-align: right;\n",
       "    }\n",
       "</style>\n",
       "<table border=\"1\" class=\"dataframe\">\n",
       "  <thead>\n",
       "    <tr style=\"text-align: right;\">\n",
       "      <th></th>\n",
       "      <th>date</th>\n",
       "      <th>year</th>\n",
       "      <th>month</th>\n",
       "      <th>p_SP500</th>\n",
       "      <th>p_MSFT</th>\n",
       "    </tr>\n",
       "  </thead>\n",
       "  <tbody>\n",
       "    <tr>\n",
       "      <th>0</th>\n",
       "      <td>1997-12-31</td>\n",
       "      <td>1997</td>\n",
       "      <td>12</td>\n",
       "      <td>970.429993</td>\n",
       "      <td>16.156250</td>\n",
       "    </tr>\n",
       "    <tr>\n",
       "      <th>1</th>\n",
       "      <td>1998-01-30</td>\n",
       "      <td>1998</td>\n",
       "      <td>1</td>\n",
       "      <td>980.280029</td>\n",
       "      <td>18.648438</td>\n",
       "    </tr>\n",
       "    <tr>\n",
       "      <th>2</th>\n",
       "      <td>1998-02-27</td>\n",
       "      <td>1998</td>\n",
       "      <td>2</td>\n",
       "      <td>1049.339966</td>\n",
       "      <td>21.187500</td>\n",
       "    </tr>\n",
       "    <tr>\n",
       "      <th>3</th>\n",
       "      <td>1998-03-31</td>\n",
       "      <td>1998</td>\n",
       "      <td>3</td>\n",
       "      <td>1101.750000</td>\n",
       "      <td>22.375000</td>\n",
       "    </tr>\n",
       "    <tr>\n",
       "      <th>4</th>\n",
       "      <td>1998-04-30</td>\n",
       "      <td>1998</td>\n",
       "      <td>4</td>\n",
       "      <td>1111.750000</td>\n",
       "      <td>22.531250</td>\n",
       "    </tr>\n",
       "    <tr>\n",
       "      <th>...</th>\n",
       "      <td>...</td>\n",
       "      <td>...</td>\n",
       "      <td>...</td>\n",
       "      <td>...</td>\n",
       "      <td>...</td>\n",
       "    </tr>\n",
       "    <tr>\n",
       "      <th>248</th>\n",
       "      <td>2018-08-31</td>\n",
       "      <td>2018</td>\n",
       "      <td>8</td>\n",
       "      <td>2901.520020</td>\n",
       "      <td>112.330002</td>\n",
       "    </tr>\n",
       "    <tr>\n",
       "      <th>249</th>\n",
       "      <td>2018-09-28</td>\n",
       "      <td>2018</td>\n",
       "      <td>9</td>\n",
       "      <td>2913.979980</td>\n",
       "      <td>114.370003</td>\n",
       "    </tr>\n",
       "    <tr>\n",
       "      <th>250</th>\n",
       "      <td>2018-10-31</td>\n",
       "      <td>2018</td>\n",
       "      <td>10</td>\n",
       "      <td>2711.739990</td>\n",
       "      <td>106.809998</td>\n",
       "    </tr>\n",
       "    <tr>\n",
       "      <th>251</th>\n",
       "      <td>2018-11-30</td>\n",
       "      <td>2018</td>\n",
       "      <td>11</td>\n",
       "      <td>2760.169922</td>\n",
       "      <td>110.889999</td>\n",
       "    </tr>\n",
       "    <tr>\n",
       "      <th>252</th>\n",
       "      <td>2018-12-31</td>\n",
       "      <td>2018</td>\n",
       "      <td>12</td>\n",
       "      <td>2506.850098</td>\n",
       "      <td>101.570000</td>\n",
       "    </tr>\n",
       "  </tbody>\n",
       "</table>\n",
       "<p>253 rows × 5 columns</p>\n",
       "</div>"
      ],
      "text/plain": [
       "          date  year  month      p_SP500      p_MSFT\n",
       "0   1997-12-31  1997     12   970.429993   16.156250\n",
       "1   1998-01-30  1998      1   980.280029   18.648438\n",
       "2   1998-02-27  1998      2  1049.339966   21.187500\n",
       "3   1998-03-31  1998      3  1101.750000   22.375000\n",
       "4   1998-04-30  1998      4  1111.750000   22.531250\n",
       "..         ...   ...    ...          ...         ...\n",
       "248 2018-08-31  2018      8  2901.520020  112.330002\n",
       "249 2018-09-28  2018      9  2913.979980  114.370003\n",
       "250 2018-10-31  2018     10  2711.739990  106.809998\n",
       "251 2018-11-30  2018     11  2760.169922  110.889999\n",
       "252 2018-12-31  2018     12  2506.850098  101.570000\n",
       "\n",
       "[253 rows x 5 columns]"
      ]
     },
     "execution_count": 74,
     "metadata": {},
     "output_type": "execute_result"
    }
   ],
   "source": [
    "data_monthly"
   ]
  },
  {
   "cell_type": "code",
   "execution_count": 75,
   "metadata": {},
   "outputs": [],
   "source": [
    "data_monthly[\"l.p_MSFT\"] = data_monthly[\"p_MSFT\"].shift()\n",
    "data_monthly[\"l.p_SP500\"] = data_monthly[\"p_SP500\"].shift()\n",
    "data_monthly[\"d.p_MSFT\"] = data_monthly[\"p_MSFT\"] - data_monthly[\"l.p_MSFT\"]\n",
    "data_monthly[\"d.p_SP500\"] = data_monthly[\"p_SP500\"] - data_monthly[\"l.p_SP500\"]\n",
    "data_monthly[\"PctRetMSFT\"] = data_monthly[\"d.p_MSFT\"] / data_monthly[\"l.p_MSFT\"] * 100\n",
    "data_monthly[\"PctRetSP500\"] = (\n",
    "    data_monthly[\"d.p_SP500\"] / data_monthly[\"l.p_SP500\"] * 100\n",
    ")"
   ]
  },
  {
   "cell_type": "code",
   "execution_count": 76,
   "metadata": {},
   "outputs": [],
   "source": [
    "data_monthly[\"d.lnp_MSFT\"] = np.log(data_monthly[\"p_MSFT\"]) - np.log(\n",
    "    data_monthly[\"p_MSFT\"].shift()\n",
    ")\n",
    "data_monthly[\"d.lnp_SP500\"] = np.log(data_monthly[\"p_SP500\"]) - np.log(\n",
    "    data_monthly[\"p_SP500\"].shift()\n",
    ")"
   ]
  },
  {
   "cell_type": "code",
   "execution_count": 77,
   "metadata": {},
   "outputs": [
    {
     "data": {
      "text/html": [
       "<div>\n",
       "<style scoped>\n",
       "    .dataframe tbody tr th:only-of-type {\n",
       "        vertical-align: middle;\n",
       "    }\n",
       "\n",
       "    .dataframe tbody tr th {\n",
       "        vertical-align: top;\n",
       "    }\n",
       "\n",
       "    .dataframe thead th {\n",
       "        text-align: right;\n",
       "    }\n",
       "</style>\n",
       "<table border=\"1\" class=\"dataframe\">\n",
       "  <thead>\n",
       "    <tr style=\"text-align: right;\">\n",
       "      <th></th>\n",
       "      <th>date</th>\n",
       "      <th>p_SP500</th>\n",
       "      <th>p_MSFT</th>\n",
       "      <th>year</th>\n",
       "      <th>month</th>\n",
       "      <th>lnp_MSFT</th>\n",
       "      <th>lnp_SP500</th>\n",
       "      <th>l.p_MSFT</th>\n",
       "      <th>l.p_SP500</th>\n",
       "      <th>d.p_MSFT</th>\n",
       "      <th>d.p_SP500</th>\n",
       "      <th>PctRetMSFT</th>\n",
       "      <th>PctRetSP500</th>\n",
       "      <th>d.lnp_MSFT</th>\n",
       "      <th>d.lnp_SP500</th>\n",
       "    </tr>\n",
       "  </thead>\n",
       "  <tbody>\n",
       "    <tr>\n",
       "      <th>0</th>\n",
       "      <td>1997-12-31</td>\n",
       "      <td>970.429993</td>\n",
       "      <td>16.156250</td>\n",
       "      <td>1997</td>\n",
       "      <td>12</td>\n",
       "      <td>2.782307</td>\n",
       "      <td>6.877739</td>\n",
       "      <td>NaN</td>\n",
       "      <td>NaN</td>\n",
       "      <td>NaN</td>\n",
       "      <td>NaN</td>\n",
       "      <td>NaN</td>\n",
       "      <td>NaN</td>\n",
       "      <td>NaN</td>\n",
       "      <td>NaN</td>\n",
       "    </tr>\n",
       "    <tr>\n",
       "      <th>1</th>\n",
       "      <td>1998-01-02</td>\n",
       "      <td>975.039978</td>\n",
       "      <td>16.390625</td>\n",
       "      <td>1998</td>\n",
       "      <td>1</td>\n",
       "      <td>2.796710</td>\n",
       "      <td>6.882478</td>\n",
       "      <td>16.156250</td>\n",
       "      <td>970.429993</td>\n",
       "      <td>0.234375</td>\n",
       "      <td>4.609985</td>\n",
       "      <td>1.450677</td>\n",
       "      <td>0.475046</td>\n",
       "      <td>0.014403</td>\n",
       "      <td>0.004739</td>\n",
       "    </tr>\n",
       "    <tr>\n",
       "      <th>2</th>\n",
       "      <td>1998-01-05</td>\n",
       "      <td>977.070007</td>\n",
       "      <td>16.296875</td>\n",
       "      <td>1998</td>\n",
       "      <td>1</td>\n",
       "      <td>2.790973</td>\n",
       "      <td>6.884558</td>\n",
       "      <td>16.390625</td>\n",
       "      <td>975.039978</td>\n",
       "      <td>-0.093750</td>\n",
       "      <td>2.030029</td>\n",
       "      <td>-0.571973</td>\n",
       "      <td>0.208200</td>\n",
       "      <td>-0.005736</td>\n",
       "      <td>0.002080</td>\n",
       "    </tr>\n",
       "    <tr>\n",
       "      <th>3</th>\n",
       "      <td>1998-01-06</td>\n",
       "      <td>966.580017</td>\n",
       "      <td>16.390625</td>\n",
       "      <td>1998</td>\n",
       "      <td>1</td>\n",
       "      <td>2.796710</td>\n",
       "      <td>6.873764</td>\n",
       "      <td>16.296875</td>\n",
       "      <td>977.070007</td>\n",
       "      <td>0.093750</td>\n",
       "      <td>-10.489990</td>\n",
       "      <td>0.575264</td>\n",
       "      <td>-1.073617</td>\n",
       "      <td>0.005736</td>\n",
       "      <td>-0.010794</td>\n",
       "    </tr>\n",
       "    <tr>\n",
       "      <th>4</th>\n",
       "      <td>1998-01-07</td>\n",
       "      <td>964.000000</td>\n",
       "      <td>16.195313</td>\n",
       "      <td>1998</td>\n",
       "      <td>1</td>\n",
       "      <td>2.784722</td>\n",
       "      <td>6.871091</td>\n",
       "      <td>16.390625</td>\n",
       "      <td>966.580017</td>\n",
       "      <td>-0.195312</td>\n",
       "      <td>-2.580017</td>\n",
       "      <td>-1.191608</td>\n",
       "      <td>-0.266922</td>\n",
       "      <td>-0.011988</td>\n",
       "      <td>-0.002673</td>\n",
       "    </tr>\n",
       "  </tbody>\n",
       "</table>\n",
       "</div>"
      ],
      "text/plain": [
       "        date     p_SP500     p_MSFT  year  month  lnp_MSFT  lnp_SP500  \\\n",
       "0 1997-12-31  970.429993  16.156250  1997     12  2.782307   6.877739   \n",
       "1 1998-01-02  975.039978  16.390625  1998      1  2.796710   6.882478   \n",
       "2 1998-01-05  977.070007  16.296875  1998      1  2.790973   6.884558   \n",
       "3 1998-01-06  966.580017  16.390625  1998      1  2.796710   6.873764   \n",
       "4 1998-01-07  964.000000  16.195313  1998      1  2.784722   6.871091   \n",
       "\n",
       "    l.p_MSFT   l.p_SP500  d.p_MSFT  d.p_SP500  PctRetMSFT  PctRetSP500  \\\n",
       "0        NaN         NaN       NaN        NaN         NaN          NaN   \n",
       "1  16.156250  970.429993  0.234375   4.609985    1.450677     0.475046   \n",
       "2  16.390625  975.039978 -0.093750   2.030029   -0.571973     0.208200   \n",
       "3  16.296875  977.070007  0.093750 -10.489990    0.575264    -1.073617   \n",
       "4  16.390625  966.580017 -0.195312  -2.580017   -1.191608    -0.266922   \n",
       "\n",
       "   d.lnp_MSFT  d.lnp_SP500  \n",
       "0         NaN          NaN  \n",
       "1    0.014403     0.004739  \n",
       "2   -0.005736     0.002080  \n",
       "3    0.005736    -0.010794  \n",
       "4   -0.011988    -0.002673  "
      ]
     },
     "execution_count": 77,
     "metadata": {},
     "output_type": "execute_result"
    }
   ],
   "source": [
    "data_daily.head()"
   ]
  },
  {
   "cell_type": "code",
   "execution_count": 78,
   "metadata": {},
   "outputs": [
    {
     "data": {
      "text/html": [
       "<div>\n",
       "<style scoped>\n",
       "    .dataframe tbody tr th:only-of-type {\n",
       "        vertical-align: middle;\n",
       "    }\n",
       "\n",
       "    .dataframe tbody tr th {\n",
       "        vertical-align: top;\n",
       "    }\n",
       "\n",
       "    .dataframe thead th {\n",
       "        text-align: right;\n",
       "    }\n",
       "</style>\n",
       "<table border=\"1\" class=\"dataframe\">\n",
       "  <thead>\n",
       "    <tr style=\"text-align: right;\">\n",
       "      <th></th>\n",
       "      <th>date</th>\n",
       "      <th>year</th>\n",
       "      <th>month</th>\n",
       "      <th>p_SP500</th>\n",
       "      <th>p_MSFT</th>\n",
       "      <th>l.p_MSFT</th>\n",
       "      <th>l.p_SP500</th>\n",
       "      <th>d.p_MSFT</th>\n",
       "      <th>d.p_SP500</th>\n",
       "      <th>PctRetMSFT</th>\n",
       "      <th>PctRetSP500</th>\n",
       "      <th>d.lnp_MSFT</th>\n",
       "      <th>d.lnp_SP500</th>\n",
       "    </tr>\n",
       "  </thead>\n",
       "  <tbody>\n",
       "    <tr>\n",
       "      <th>0</th>\n",
       "      <td>1997-12-31</td>\n",
       "      <td>1997</td>\n",
       "      <td>12</td>\n",
       "      <td>970.429993</td>\n",
       "      <td>16.156250</td>\n",
       "      <td>NaN</td>\n",
       "      <td>NaN</td>\n",
       "      <td>NaN</td>\n",
       "      <td>NaN</td>\n",
       "      <td>NaN</td>\n",
       "      <td>NaN</td>\n",
       "      <td>NaN</td>\n",
       "      <td>NaN</td>\n",
       "    </tr>\n",
       "    <tr>\n",
       "      <th>1</th>\n",
       "      <td>1998-01-30</td>\n",
       "      <td>1998</td>\n",
       "      <td>1</td>\n",
       "      <td>980.280029</td>\n",
       "      <td>18.648438</td>\n",
       "      <td>16.156250</td>\n",
       "      <td>970.429993</td>\n",
       "      <td>2.492188</td>\n",
       "      <td>9.850036</td>\n",
       "      <td>15.425535</td>\n",
       "      <td>1.015018</td>\n",
       "      <td>0.143455</td>\n",
       "      <td>0.010099</td>\n",
       "    </tr>\n",
       "    <tr>\n",
       "      <th>2</th>\n",
       "      <td>1998-02-27</td>\n",
       "      <td>1998</td>\n",
       "      <td>2</td>\n",
       "      <td>1049.339966</td>\n",
       "      <td>21.187500</td>\n",
       "      <td>18.648438</td>\n",
       "      <td>980.280029</td>\n",
       "      <td>2.539062</td>\n",
       "      <td>69.059937</td>\n",
       "      <td>13.615414</td>\n",
       "      <td>7.044919</td>\n",
       "      <td>0.127649</td>\n",
       "      <td>0.068078</td>\n",
       "    </tr>\n",
       "    <tr>\n",
       "      <th>3</th>\n",
       "      <td>1998-03-31</td>\n",
       "      <td>1998</td>\n",
       "      <td>3</td>\n",
       "      <td>1101.750000</td>\n",
       "      <td>22.375000</td>\n",
       "      <td>21.187500</td>\n",
       "      <td>1049.339966</td>\n",
       "      <td>1.187500</td>\n",
       "      <td>52.410034</td>\n",
       "      <td>5.604720</td>\n",
       "      <td>4.994571</td>\n",
       "      <td>0.054533</td>\n",
       "      <td>0.048738</td>\n",
       "    </tr>\n",
       "    <tr>\n",
       "      <th>4</th>\n",
       "      <td>1998-04-30</td>\n",
       "      <td>1998</td>\n",
       "      <td>4</td>\n",
       "      <td>1111.750000</td>\n",
       "      <td>22.531250</td>\n",
       "      <td>22.375000</td>\n",
       "      <td>1101.750000</td>\n",
       "      <td>0.156250</td>\n",
       "      <td>10.000000</td>\n",
       "      <td>0.698324</td>\n",
       "      <td>0.907647</td>\n",
       "      <td>0.006959</td>\n",
       "      <td>0.009036</td>\n",
       "    </tr>\n",
       "  </tbody>\n",
       "</table>\n",
       "</div>"
      ],
      "text/plain": [
       "        date  year  month      p_SP500     p_MSFT   l.p_MSFT    l.p_SP500  \\\n",
       "0 1997-12-31  1997     12   970.429993  16.156250        NaN          NaN   \n",
       "1 1998-01-30  1998      1   980.280029  18.648438  16.156250   970.429993   \n",
       "2 1998-02-27  1998      2  1049.339966  21.187500  18.648438   980.280029   \n",
       "3 1998-03-31  1998      3  1101.750000  22.375000  21.187500  1049.339966   \n",
       "4 1998-04-30  1998      4  1111.750000  22.531250  22.375000  1101.750000   \n",
       "\n",
       "   d.p_MSFT  d.p_SP500  PctRetMSFT  PctRetSP500  d.lnp_MSFT  d.lnp_SP500  \n",
       "0       NaN        NaN         NaN          NaN         NaN          NaN  \n",
       "1  2.492188   9.850036   15.425535     1.015018    0.143455     0.010099  \n",
       "2  2.539062  69.059937   13.615414     7.044919    0.127649     0.068078  \n",
       "3  1.187500  52.410034    5.604720     4.994571    0.054533     0.048738  \n",
       "4  0.156250  10.000000    0.698324     0.907647    0.006959     0.009036  "
      ]
     },
     "execution_count": 78,
     "metadata": {},
     "output_type": "execute_result"
    }
   ],
   "source": [
    "data_monthly.head()"
   ]
  },
  {
   "cell_type": "code",
   "execution_count": 81,
   "metadata": {},
   "outputs": [
    {
     "data": {
      "image/png": "[encoded data removed]",
      "text/plain": [
       "<Figure size 800x600 with 1 Axes>"
      ]
     },
     "metadata": {},
     "output_type": "display_data"
    }
   ],
   "source": [
    "plt.figure(figsize=(8, 6))\n",
    "plt.plot(data_monthly[\"date\"], data_monthly[\"p_MSFT\"], color=\"tab:blue\", linewidth=0.8)\n",
    "plt.ylim(0, 121)\n",
    "plt.yticks(np.arange(0, 120, 20))\n",
    "plt.xlim(limits)\n",
    "years = np.linspace(1998, 2018, 6, dtype=int)\n",
    "plt.xticks([pd.Timestamp(f\"{y}-01-01\") for y in years], years)\n",
    "plt.xlabel(\"Date (Month)\")\n",
    "plt.ylabel(\"Microsoft stock price (US dollars)\", x=\"Date (Month)\")\n",
    "plt.title(\"Microsoft Stock Price (Monthly)\")\n",
    "plt.grid(True, linestyle='--', alpha=0.5)\n",
    "plt.tight_layout()\n",
    "plt.show()"
   ]
  },
  {
   "cell_type": "code",
   "execution_count": 80,
   "metadata": {},
   "outputs": [
    {
     "ename": "NameError",
     "evalue": "name 'color' is not defined",
     "output_type": "error",
     "traceback": [
      "\u001b[31m---------------------------------------------------------------------------\u001b[39m",
      "\u001b[31mNameError\u001b[39m                                 Traceback (most recent call last)",
      "\u001b[36mCell\u001b[39m\u001b[36m \u001b[39m\u001b[32mIn[80]\u001b[39m\u001b[32m, line 3\u001b[39m\n\u001b[32m      1\u001b[39m (\n\u001b[32m      2\u001b[39m     ggplot(data_monthly)\n\u001b[32m----> \u001b[39m\u001b[32m3\u001b[39m     + geom_line(aes(\u001b[33m\"\u001b[39m\u001b[33mdate\u001b[39m\u001b[33m\"\u001b[39m, \u001b[33m\"\u001b[39m\u001b[33mp_MSFT\u001b[39m\u001b[33m\"\u001b[39m), color=\u001b[43mcolor\u001b[49m[\u001b[32m0\u001b[39m], size=\u001b[32m0.5\u001b[39m)\n\u001b[32m      4\u001b[39m     + scale_y_continuous(expand=[\u001b[32m0.01\u001b[39m, \u001b[32m0.01\u001b[39m], limits=[\u001b[32m0\u001b[39m, \u001b[32m120\u001b[39m], breaks=seq(\u001b[32m0\u001b[39m, \u001b[32m120\u001b[39m, \u001b[32m20\u001b[39m))\n\u001b[32m      5\u001b[39m     + scale_x_date(breaks=breaks(limits)[::\u001b[32m2\u001b[39m], labels=date_format(\u001b[33m\"\u001b[39m\u001b[33m1\u001b[39m\u001b[33m%\u001b[39m\u001b[33mb\u001b[39m\u001b[33m%\u001b[39m\u001b[33mY\u001b[39m\u001b[33m\"\u001b[39m))\n\u001b[32m      6\u001b[39m     + labs(y=\u001b[33m\"\u001b[39m\u001b[33mMicrosoft stock price (US dollars)\u001b[39m\u001b[33m\"\u001b[39m, x=\u001b[33m\"\u001b[39m\u001b[33mDate (Month)\u001b[39m\u001b[33m\"\u001b[39m)\n\u001b[32m      7\u001b[39m     + theme_bw()\n\u001b[32m      8\u001b[39m )\n",
      "\u001b[31mNameError\u001b[39m: name 'color' is not defined"
     ]
    }
   ],
   "source": [
    "(\n",
    "    ggplot(data_monthly)\n",
    "    + geom_line(aes(\"date\", \"p_MSFT\"), color=color[0], size=0.5)\n",
    "    + scale_y_continuous(expand=[0.01, 0.01], limits=[0, 120], breaks=seq(0, 120, 20))\n",
    "    + scale_x_date(breaks=breaks(limits)[::2], labels=date_format(\"1%b%Y\"))\n",
    "    + labs(y=\"Microsoft stock price (US dollars)\", x=\"Date (Month)\")\n",
    "    + theme_bw()\n",
    ")\n"
   ]
  },
  {
   "cell_type": "code",
   "execution_count": null,
   "metadata": {},
   "outputs": [],
   "source": [
    "(\n",
    "    ggplot(data_monthly)\n",
    "    + geom_line(aes(\"date\", \"p_SP500\"), color=color[0], size=0.5)\n",
    "    + scale_y_continuous(\n",
    "        expand=[0.01, 0.01], limits=[500, 3000], breaks=seq(500, 3000, 500)\n",
    "    )\n",
    "    + scale_x_date(breaks=breaks(limits)[::2], labels=date_format(\"1%b%Y\"))\n",
    "    + labs(y=\"S&P500 stock market index (US dollars)\", x=\"Date (Month)\")\n",
    "    + theme_bw()\n",
    ")\n"
   ]
  },
  {
   "cell_type": "code",
   "execution_count": null,
   "metadata": {},
   "outputs": [],
   "source": [
    "print(PhillipsPerron(data_daily[\"p_MSFT\"], lags=32, test_type=\"rho\", trend=\"n\"))\n",
    "print(PhillipsPerron(data_daily[\"p_MSFT\"], lags=32, test_type=\"rho\", trend=\"c\"))\n",
    "print(PhillipsPerron(data_daily[\"p_MSFT\"], lags=32, test_type=\"rho\", trend=\"ct\"))\n"
   ]
  },
  {
   "cell_type": "code",
   "execution_count": null,
   "metadata": {},
   "outputs": [],
   "source": [
    "print(PhillipsPerron(data_daily[\"p_SP500\"], lags=32, test_type=\"rho\", trend=\"n\"))\n",
    "print(PhillipsPerron(data_daily[\"p_SP500\"], lags=32, test_type=\"rho\", trend=\"c\"))\n",
    "print(PhillipsPerron(data_daily[\"p_SP500\"], lags=32, test_type=\"rho\", trend=\"ct\"))\n"
   ]
  },
  {
   "cell_type": "code",
   "execution_count": null,
   "metadata": {},
   "outputs": [],
   "source": [
    "(\n",
    "    ggplot(data_monthly)\n",
    "    + geom_line(aes(\"date\", \"PctRetMSFT\"), color=color[0], size=0.5)\n",
    "    + scale_x_date(breaks=breaks(limits)[::2], labels=date_format(\"1%b%Y\"))\n",
    "    + geom_hline(yintercept=1.13, color=color[2], size=0.8)\n",
    "    + labs(y=\"Microsoft monthly returns (percent)\", x=\"Date (Month)\")\n",
    "    + ylim(-40, 40)\n",
    "    + theme_bw()\n",
    ")\n"
   ]
  },
  {
   "cell_type": "code",
   "execution_count": null,
   "metadata": {},
   "outputs": [],
   "source": [
    "(\n",
    "    ggplot(data_monthly)\n",
    "    + geom_line(aes(\"date\", \"PctRetSP500\"), color=color[0], size=0.5)\n",
    "    + scale_x_date(breaks=breaks(limits)[::2], labels=date_format(\"1%b%Y\"))\n",
    "    + geom_hline(yintercept=1.13, color=color[2], size=0.8)\n",
    "    + labs(y=\"S&P500 index monthly returns (percent)\", x=\"Date (Month)\")\n",
    "    + ylim(-40, 40)\n",
    "    + theme_bw()\n",
    ")\n"
   ]
  },
  {
   "cell_type": "code",
   "execution_count": null,
   "metadata": {},
   "outputs": [],
   "source": [
    "data_monthly.head(2)\n"
   ]
  },
  {
   "cell_type": "code",
   "execution_count": null,
   "metadata": {},
   "outputs": [],
   "source": [
    "print(\n",
    "    PhillipsPerron(\n",
    "        data_monthly.loc[1:, \"PctRetMSFT\"], lags=5, test_type=\"rho\", trend=\"n\"\n",
    "    )\n",
    ")\n",
    "print(\n",
    "    PhillipsPerron(\n",
    "        data_monthly.loc[1:, \"PctRetMSFT\"], lags=5, test_type=\"rho\", trend=\"c\"\n",
    "    )\n",
    ")\n",
    "print(\n",
    "    PhillipsPerron(\n",
    "        data_monthly.loc[1:, \"PctRetMSFT\"], lags=5, test_type=\"rho\", trend=\"ct\"\n",
    "    )\n",
    ")\n"
   ]
  },
  {
   "cell_type": "code",
   "execution_count": null,
   "metadata": {},
   "outputs": [],
   "source": [
    "print(\n",
    "    PhillipsPerron(\n",
    "        data_monthly.loc[1:, \"PctRetSP500\"], lags=5, test_type=\"rho\", trend=\"n\"\n",
    "    )\n",
    ")\n",
    "print(\n",
    "    PhillipsPerron(\n",
    "        data_monthly.loc[1:, \"PctRetSP500\"], lags=5, test_type=\"rho\", trend=\"c\"\n",
    "    )\n",
    ")\n",
    "print(\n",
    "    PhillipsPerron(\n",
    "        data_monthly.loc[1:, \"PctRetSP500\"], lags=5, test_type=\"rho\", trend=\"ct\"\n",
    "    )\n",
    ")\n"
   ]
  },
  {
   "cell_type": "markdown",
   "metadata": {},
   "source": [
    "### Table 12.1 Descriptive statistics on monthly returns"
   ]
  },
  {
   "cell_type": "code",
   "execution_count": null,
   "metadata": {},
   "outputs": [],
   "source": [
    "results = (\n",
    "    data_monthly[[\"PctRetMSFT\", \"PctRetSP500\"]]\n",
    "    .describe()\n",
    "    .T[[\"min\", \"max\", \"mean\", \"std\", \"count\"]]\n",
    "    .rename(columns={\"std\": \"sd\", \"count\": \"N\"})\n",
    ")\n",
    "results.index = [\"Monthly returns on Microsoft (%)\", \"Monthly returns on S&P500 (%)\"]\n",
    "results.round(1)\n"
   ]
  },
  {
   "cell_type": "code",
   "execution_count": null,
   "metadata": {},
   "outputs": [],
   "source": [
    "reg1 = smf.ols(\"PctRetMSFT ~ PctRetSP500\", data=data_monthly).fit()\n",
    "reg2 = smf.ols(\n",
    "    \"d_lnp_MSFT ~ d_lnp_SP500\",\n",
    "    data=data_monthly.rename(\n",
    "        columns={\"d.lnp_MSFT\": \"d_lnp_MSFT\", \"d.lnp_SP500\": \"d_lnp_SP500\"}\n",
    "    ),\n",
    ").fit()\n",
    "reg3 = smf.ols(\"PctRetMSFT ~ PctRetSP500\", data=data_daily).fit()\n",
    "reg4 = smf.ols(\n",
    "    \"d_lnp_MSFT ~ d_lnp_SP500\",\n",
    "    data=data_daily.rename(\n",
    "        columns={\"d.lnp_MSFT\": \"d_lnp_MSFT\", \"d.lnp_SP500\": \"d_lnp_SP500\"}\n",
    "    ),\n",
    ").fit()\n"
   ]
  },
  {
   "cell_type": "code",
   "execution_count": null,
   "metadata": {},
   "outputs": [],
   "source": [
    "print(reg1.get_robustcov_results(cov_type=\"HC1\").summary())\n"
   ]
  },
  {
   "cell_type": "code",
   "execution_count": null,
   "metadata": {},
   "outputs": [],
   "source": [
    "(\n",
    "    ggplot(data_monthly, aes(x=\"PctRetSP500\", y=\"PctRetMSFT / 100\"))\n",
    "    + geom_point(color=color[0])\n",
    "    + geom_smooth(method=\"lm\", se=False, color=color[1])\n",
    "    + labs(\n",
    "        x=\"S&P500 index monthly returns (percent)\",\n",
    "        y=\"Microsoft stock monthly returns (percent)\",\n",
    "    )\n",
    "    + scale_y_continuous(labels=percent_format())\n",
    "    + theme_bw()\n",
    "    + geom_segment(\n",
    "        aes(x=-20, y=-0.2, xend=20, yend=0.2),\n",
    "        color=color[2],\n",
    "        size=0.5,\n",
    "        linetype=\"dashed\",\n",
    "    )\n",
    "    + geom_segment(aes(x=10, y=0.3, xend=17, yend=0.17), color=color[2], arrow=arrow())\n",
    "    + annotate(\n",
    "        \"text\", x=10, y=0.32, size=7, label=\"45 degree line for beta=1\", color=color[2]\n",
    "    )\n",
    "    + geom_segment(\n",
    "        aes(x=-10, y=-0.23, xend=-15, yend=-0.18), color=color[1], arrow=arrow()\n",
    "    )\n",
    "    + annotate(\n",
    "        \"text\", x=-10, y=-0.25, size=7, color=color[1], label=\"reg line, beta=1.26\"\n",
    "    )\n",
    ")"
   ]
  },
  {
   "cell_type": "code",
   "execution_count": null,
   "metadata": {},
   "outputs": [],
   "source": [
    "data_monthly_tidy = pd.melt(\n",
    "    data_monthly[[\"date\", \"PctRetMSFT\", \"PctRetSP500\"]],\n",
    "    id_vars=[\"date\"],\n",
    "    var_name=\"index\",\n",
    "    value_name=\"pct_return\",\n",
    ")\n"
   ]
  },
  {
   "cell_type": "code",
   "execution_count": null,
   "metadata": {},
   "outputs": [],
   "source": [
    "(\n",
    "    ggplot(data_monthly_tidy)\n",
    "    + geom_line(aes(x=\"date\", y=\"pct_return / 100\", color=\"index\"), size=0.5)\n",
    "    + scale_color_manual(\n",
    "        name=\"\", values=[color[0], color[1]], labels=[\"Microsoft\", \"S&P500\"]\n",
    "    )\n",
    "    + labs(x=\"Date (month)\", y=\"Monthly returns (percent)\")\n",
    "    + scale_y_continuous(limits=(-0.40, 0.40), labels=percent_format())\n",
    "    + scale_x_date(breaks=breaks(limits)[::2], labels=date_format(\"1%b%Y\"))\n",
    "    + theme_bw()\n",
    "    + theme(\n",
    "        legend_position=(0.74, 0.2),\n",
    "        legend_direction=\"horizontal\",\n",
    "        legend_background=element_blank(),\n",
    "        legend_title=element_blank()\n",
    "    )\n",
    ")"
   ]
  },
  {
   "cell_type": "code",
   "execution_count": null,
   "metadata": {},
   "outputs": [],
   "source": [
    "data_monthly_tidy_17_18 = data_monthly_tidy.loc[\n",
    "    data_monthly_tidy[\"date\"] > \"2017-01-01\"\n",
    "]"
   ]
  },
  {
   "cell_type": "code",
   "execution_count": null,
   "metadata": {},
   "outputs": [],
   "source": [
    "breaks = date_breaks('6 month')\n",
    "limits = datetime(2017, 1, 1), datetime(2019, 1, 1)"
   ]
  },
  {
   "cell_type": "code",
   "execution_count": null,
   "metadata": {},
   "outputs": [],
   "source": [
    "(\n",
    "    ggplot(data_monthly_tidy_17_18.reset_index())\n",
    "    + geom_line(aes(x=\"date\", y=\"pct_return / 100\", color=\"index\"), size=0.5)\n",
    "    + scale_color_manual(\n",
    "        name=\"\", values=[color[0], color[1]], labels=[\"Microsoft\", \"S&P500\"]\n",
    "    )\n",
    "    + labs(x=\"Date (month)\", y=\"Monthly returns (percent)\")\n",
    "    + scale_y_continuous(\n",
    "        expand=[0.01, 0.01],\n",
    "        limits=[-0.12, 0.12],\n",
    "        breaks=seq(-0.12, 0.12, 0.04),\n",
    "        labels=percent_format(),\n",
    "    )\n",
    "    + scale_x_date(breaks=breaks(limits), labels=date_format(\"%b%Y\"))\n",
    "    + theme_bw()\n",
    "    + theme(\n",
    "        legend_position=(0.74, 0.2),\n",
    "        legend_direction=\"horizontal\",\n",
    "        legend_background=element_blank(),\n",
    "        legend_title=element_blank(),\n",
    "    )\n",
    ")"
   ]
  },
  {
   "cell_type": "code",
   "execution_count": null,
   "metadata": {},
   "outputs": [],
   "source": [
    "# Regressions\n"
   ]
  },
  {
   "cell_type": "code",
   "execution_count": null,
   "metadata": {},
   "outputs": [],
   "source": [
    "print(reg2.get_robustcov_results(cov_type=\"HC1\").summary())\n"
   ]
  },
  {
   "cell_type": "code",
   "execution_count": null,
   "metadata": {},
   "outputs": [],
   "source": [
    "print(reg3.get_robustcov_results(cov_type=\"HC1\").summary())\n"
   ]
  },
  {
   "cell_type": "code",
   "execution_count": null,
   "metadata": {},
   "outputs": [],
   "source": [
    "print(reg4.get_robustcov_results(cov_type=\"HC1\").summary())\n"
   ]
  },
  {
   "cell_type": "code",
   "execution_count": null,
   "metadata": {},
   "outputs": [],
   "source": [
    "reg1 = smf.ols(\"PctRetMSFT ~ PctRetSP500\", data=data_monthly).fit()\n",
    "reg2 = smf.ols(\n",
    "    \"d_lnp_MSFT ~ d_lnp_SP500\",\n",
    "    data=data_monthly.rename(\n",
    "        columns={\"d.lnp_MSFT\": \"d_lnp_MSFT\", \"d.lnp_SP500\": \"d_lnp_SP500\"}\n",
    "    ),\n",
    ").fit()\n",
    "reg3 = smf.ols(\"PctRetMSFT ~ PctRetSP500\", data=data_daily).fit()\n",
    "reg4 = smf.ols(\n",
    "    \"d_lnp_MSFT ~ d_lnp_SP500\",\n",
    "    data=data_daily.rename(\n",
    "        columns={\"d.lnp_MSFT\": \"d_lnp_MSFT\", \"d.lnp_SP500\": \"d_lnp_SP500\"}\n",
    "    ),\n",
    ").fit()\n"
   ]
  },
  {
   "cell_type": "markdown",
   "metadata": {},
   "source": [
    "### Table 12.3 Returns on Microsoft and market returns: alternative measurements"
   ]
  },
  {
   "cell_type": "code",
   "execution_count": null,
   "metadata": {},
   "outputs": [],
   "source": [
    "stargazer = Stargazer([reg1, reg2, reg3, reg4])\n",
    "stargazer.covariate_order([\"PctRetSP500\", \"d_lnp_SP500\", \"Intercept\"])\n",
    "stargazer.rename_covariates(\n",
    "    {\n",
    "        \"Intercept\": \"Constant\",\n",
    "        \"PctRetSP500\": \"S&P500 returns\",\n",
    "        \"d_lnp_SP500\": \"S&P500 returns\",\n",
    "    }\n",
    ")\n",
    "stargazer.custom_columns(\n",
    "    [\n",
    "        \"Monthly pct change\",\n",
    "        \"Monthly log change\",\n",
    "        \"Daily pct change\",\n",
    "        \"Daily log change\",\n",
    "    ],\n",
    "    [1, 1, 1, 1],\n",
    ")\n",
    "stargazer\n"
   ]
  },
  {
   "cell_type": "code",
   "execution_count": null,
   "metadata": {},
   "outputs": [],
   "source": []
  }
 ],
 "metadata": {
  "kernelspec": {
   "display_name": "Python 3",
   "language": "python",
   "name": "python3"
  },
  "language_info": {
   "codemirror_mode": {
    "name": "ipython",
    "version": 3
   },
   "file_extension": ".py",
   "mimetype": "text/x-python",
   "name": "python",
   "nbconvert_exporter": "python",
   "pygments_lexer": "ipython3",
   "version": "3.12.1"
  }
 },
 "nbformat": 4,
 "nbformat_minor": 2
}
