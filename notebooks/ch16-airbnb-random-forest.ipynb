{
 "cells": [
  {
   "cell_type": "markdown",
   "metadata": {},
   "source": [
    "#### Prepared for Gabor's Data Analysis\n",
    "\n",
    "### Data Analysis for Business, Economics, and Policy\n",
    "by Gabor Bekes and Gabor Kezdi\n",
    " \n",
    "Cambridge University Press 2021\n",
    "\n",
    "**[gabors-data-analysis.com ](https://gabors-data-analysis.com/)**\n",
    "\n",
    " License: Free to share, modify and use for educational purposes. \n",
    " Not to be used for commercial purposes.\n",
    "\n",
    "### Chapter 16\n",
    "**CH16A Predicting apartment prices with random forest**\n",
    "\n",
    "using the airbnb dataset\n",
    "\n",
    "version 0.92 2021-07-05"
   ]
  },
  {
   "cell_type": "code",
   "execution_count": 54,
   "metadata": {},
   "outputs": [],
   "source": [
    "import os\n",
    "import sys\n",
    "import warnings\n",
    "from pathlib import Path\n",
    "\n",
    "import matplotlib.pyplot as plt\n",
    "import numpy as np\n",
    "import pandas as pd\n",
    "import seaborn as sns\n",
    "\n",
    "from mizani.formatters import percent_format\n",
    "from patsy import dmatrices\n",
    "from plotnine import *\n",
    "from sklearn.compose import ColumnTransformer\n",
    "from sklearn.ensemble import RandomForestRegressor\n",
    "from sklearn.inspection import (\n",
    "    partial_dependence,\n",
    "    permutation_importance\n",
    ")\n",
    "from sklearn.metrics import mean_squared_error\n",
    "from sklearn.model_selection import GridSearchCV, RandomizedSearchCV, train_test_split\n",
    "from sklearn.pipeline import Pipeline\n",
    "from sklearn.preprocessing import OneHotEncoder\n"
   ]
  },
  {
   "cell_type": "markdown",
   "metadata": {},
   "source": [
    "## PART I\n",
    "### Loading and preparing data \n",
    "----------------------------------------------"
   ]
  },
  {
   "cell_type": "code",
   "execution_count": 55,
   "metadata": {},
   "outputs": [],
   "source": [
    "# !!! make sure you have run ch16-airbnb-prepare-london.ipynb before\n",
    "area = \"london\"\n",
    "data = pd.read_csv(\"/workspaces/codespaces-jupyter/notebooks/airbnb_london_workfile_adj.csv\")\n",
    "data = data.loc[data.price.notna(), :]\n"
   ]
  },
  {
   "cell_type": "code",
   "execution_count": 56,
   "metadata": {},
   "outputs": [],
   "source": [
    "def count_missing_values(df):\n",
    "    return df.isna().sum()[df.isna().sum() > 0]"
   ]
  },
  {
   "cell_type": "code",
   "execution_count": 57,
   "metadata": {},
   "outputs": [
    {
     "data": {
      "text/plain": [
       "Series([], dtype: int64)"
      ]
     },
     "execution_count": 57,
     "metadata": {},
     "output_type": "execute_result"
    }
   ],
   "source": [
    "count_missing_values(data)"
   ]
  },
  {
   "cell_type": "code",
   "execution_count": 58,
   "metadata": {},
   "outputs": [
    {
     "data": {
      "text/plain": [
       "np.False_"
      ]
     },
     "execution_count": 58,
     "metadata": {},
     "output_type": "execute_result"
    }
   ],
   "source": [
    "# OR \n",
    "\n",
    "data.isna().any().any()"
   ]
  },
  {
   "cell_type": "code",
   "execution_count": 59,
   "metadata": {},
   "outputs": [],
   "source": [
    "# Sample definition and preparation ---------------------------------------\n",
    "\n",
    "# We focus on normal apartments, n<8\n",
    "data = data.loc[lambda x: x[\"n_accommodates\"] < 8]\n"
   ]
  },
  {
   "cell_type": "code",
   "execution_count": 60,
   "metadata": {},
   "outputs": [],
   "source": [
    "# copy a variable - purpose later, see at variable importance\n",
    "data = data.assign(n_accommodates_copy=data.n_accommodates)"
   ]
  },
  {
   "cell_type": "code",
   "execution_count": 61,
   "metadata": {},
   "outputs": [
    {
     "data": {
      "text/html": [
       "<div>\n",
       "<style scoped>\n",
       "    .dataframe tbody tr th:only-of-type {\n",
       "        vertical-align: middle;\n",
       "    }\n",
       "\n",
       "    .dataframe tbody tr th {\n",
       "        vertical-align: top;\n",
       "    }\n",
       "\n",
       "    .dataframe thead th {\n",
       "        text-align: right;\n",
       "    }\n",
       "</style>\n",
       "<table border=\"1\" class=\"dataframe\">\n",
       "  <thead>\n",
       "    <tr style=\"text-align: right;\">\n",
       "      <th></th>\n",
       "      <th>usd_price_day</th>\n",
       "      <th>n_accommodates</th>\n",
       "      <th>n_bathrooms</th>\n",
       "      <th>n_review_scores_rating</th>\n",
       "      <th>n_number_of_reviews</th>\n",
       "      <th>n_guests_included</th>\n",
       "      <th>n_reviews_per_month</th>\n",
       "      <th>n_extra_people</th>\n",
       "      <th>n_minimum_nights</th>\n",
       "      <th>n_beds</th>\n",
       "      <th>...</th>\n",
       "      <th>flag_review_scores_rating</th>\n",
       "      <th>flag_reviews_per_month</th>\n",
       "      <th>flag_n_number_of_reviews</th>\n",
       "      <th>ln_days_since</th>\n",
       "      <th>ln_days_since2</th>\n",
       "      <th>ln_days_since3</th>\n",
       "      <th>n_days_since2</th>\n",
       "      <th>n_days_since3</th>\n",
       "      <th>ln_review_scores_rating</th>\n",
       "      <th>n_accommodates_copy</th>\n",
       "    </tr>\n",
       "  </thead>\n",
       "  <tbody>\n",
       "    <tr>\n",
       "      <th>count</th>\n",
       "      <td>49826.000000</td>\n",
       "      <td>49826.000000</td>\n",
       "      <td>49826.000000</td>\n",
       "      <td>49826.000000</td>\n",
       "      <td>49826.000000</td>\n",
       "      <td>49826.000000</td>\n",
       "      <td>49826.000000</td>\n",
       "      <td>49826.00000</td>\n",
       "      <td>49826.000000</td>\n",
       "      <td>49826.000000</td>\n",
       "      <td>...</td>\n",
       "      <td>49826.000000</td>\n",
       "      <td>49826.000000</td>\n",
       "      <td>49826.0</td>\n",
       "      <td>49826.000000</td>\n",
       "      <td>49826.000000</td>\n",
       "      <td>49826.000000</td>\n",
       "      <td>4.982600e+04</td>\n",
       "      <td>4.982600e+04</td>\n",
       "      <td>49826.000000</td>\n",
       "      <td>49826.000000</td>\n",
       "    </tr>\n",
       "    <tr>\n",
       "      <th>mean</th>\n",
       "      <td>88.984044</td>\n",
       "      <td>2.838759</td>\n",
       "      <td>1.224260</td>\n",
       "      <td>92.458616</td>\n",
       "      <td>12.340144</td>\n",
       "      <td>1.356180</td>\n",
       "      <td>1.138253</td>\n",
       "      <td>6.50873</td>\n",
       "      <td>3.300947</td>\n",
       "      <td>1.585959</td>\n",
       "      <td>...</td>\n",
       "      <td>0.318850</td>\n",
       "      <td>0.303998</td>\n",
       "      <td>0.0</td>\n",
       "      <td>5.713297</td>\n",
       "      <td>33.456371</td>\n",
       "      <td>199.607207</td>\n",
       "      <td>2.931985e+05</td>\n",
       "      <td>3.046539e+08</td>\n",
       "      <td>4.520910</td>\n",
       "      <td>2.838759</td>\n",
       "    </tr>\n",
       "    <tr>\n",
       "      <th>std</th>\n",
       "      <td>70.515089</td>\n",
       "      <td>1.494748</td>\n",
       "      <td>0.466448</td>\n",
       "      <td>8.418474</td>\n",
       "      <td>25.889935</td>\n",
       "      <td>0.879263</td>\n",
       "      <td>1.238156</td>\n",
       "      <td>12.31549</td>\n",
       "      <td>29.578062</td>\n",
       "      <td>0.927501</td>\n",
       "      <td>...</td>\n",
       "      <td>0.466035</td>\n",
       "      <td>0.459986</td>\n",
       "      <td>0.0</td>\n",
       "      <td>0.902564</td>\n",
       "      <td>9.506988</td>\n",
       "      <td>80.264045</td>\n",
       "      <td>5.640361e+05</td>\n",
       "      <td>9.636140e+08</td>\n",
       "      <td>0.120421</td>\n",
       "      <td>1.494748</td>\n",
       "    </tr>\n",
       "    <tr>\n",
       "      <th>min</th>\n",
       "      <td>8.000000</td>\n",
       "      <td>1.000000</td>\n",
       "      <td>0.000000</td>\n",
       "      <td>20.000000</td>\n",
       "      <td>0.000000</td>\n",
       "      <td>1.000000</td>\n",
       "      <td>0.010000</td>\n",
       "      <td>0.00000</td>\n",
       "      <td>1.000000</td>\n",
       "      <td>0.000000</td>\n",
       "      <td>...</td>\n",
       "      <td>0.000000</td>\n",
       "      <td>0.000000</td>\n",
       "      <td>0.0</td>\n",
       "      <td>0.000000</td>\n",
       "      <td>0.000000</td>\n",
       "      <td>0.000000</td>\n",
       "      <td>0.000000e+00</td>\n",
       "      <td>0.000000e+00</td>\n",
       "      <td>2.995732</td>\n",
       "      <td>1.000000</td>\n",
       "    </tr>\n",
       "    <tr>\n",
       "      <th>25%</th>\n",
       "      <td>41.000000</td>\n",
       "      <td>2.000000</td>\n",
       "      <td>1.000000</td>\n",
       "      <td>92.000000</td>\n",
       "      <td>0.000000</td>\n",
       "      <td>1.000000</td>\n",
       "      <td>0.470000</td>\n",
       "      <td>0.00000</td>\n",
       "      <td>1.000000</td>\n",
       "      <td>1.000000</td>\n",
       "      <td>...</td>\n",
       "      <td>0.000000</td>\n",
       "      <td>0.000000</td>\n",
       "      <td>0.0</td>\n",
       "      <td>5.433722</td>\n",
       "      <td>29.525335</td>\n",
       "      <td>160.432461</td>\n",
       "      <td>5.198400e+04</td>\n",
       "      <td>1.185235e+07</td>\n",
       "      <td>4.521789</td>\n",
       "      <td>2.000000</td>\n",
       "    </tr>\n",
       "    <tr>\n",
       "      <th>50%</th>\n",
       "      <td>70.000000</td>\n",
       "      <td>2.000000</td>\n",
       "      <td>1.000000</td>\n",
       "      <td>94.000000</td>\n",
       "      <td>3.000000</td>\n",
       "      <td>1.000000</td>\n",
       "      <td>0.770000</td>\n",
       "      <td>0.00000</td>\n",
       "      <td>2.000000</td>\n",
       "      <td>1.000000</td>\n",
       "      <td>...</td>\n",
       "      <td>0.000000</td>\n",
       "      <td>0.000000</td>\n",
       "      <td>0.0</td>\n",
       "      <td>5.793014</td>\n",
       "      <td>33.559007</td>\n",
       "      <td>194.407782</td>\n",
       "      <td>1.069290e+05</td>\n",
       "      <td>3.496578e+07</td>\n",
       "      <td>4.543295</td>\n",
       "      <td>2.000000</td>\n",
       "    </tr>\n",
       "    <tr>\n",
       "      <th>75%</th>\n",
       "      <td>110.000000</td>\n",
       "      <td>4.000000</td>\n",
       "      <td>1.000000</td>\n",
       "      <td>97.000000</td>\n",
       "      <td>12.000000</td>\n",
       "      <td>1.000000</td>\n",
       "      <td>1.170000</td>\n",
       "      <td>10.00000</td>\n",
       "      <td>3.000000</td>\n",
       "      <td>2.000000</td>\n",
       "      <td>...</td>\n",
       "      <td>1.000000</td>\n",
       "      <td>1.000000</td>\n",
       "      <td>0.0</td>\n",
       "      <td>6.224558</td>\n",
       "      <td>38.745128</td>\n",
       "      <td>241.171311</td>\n",
       "      <td>2.540160e+05</td>\n",
       "      <td>1.280241e+08</td>\n",
       "      <td>4.574711</td>\n",
       "      <td>4.000000</td>\n",
       "    </tr>\n",
       "    <tr>\n",
       "      <th>max</th>\n",
       "      <td>999.000000</td>\n",
       "      <td>7.000000</td>\n",
       "      <td>8.000000</td>\n",
       "      <td>100.000000</td>\n",
       "      <td>396.000000</td>\n",
       "      <td>16.000000</td>\n",
       "      <td>15.000000</td>\n",
       "      <td>240.00000</td>\n",
       "      <td>5000.000000</td>\n",
       "      <td>16.000000</td>\n",
       "      <td>...</td>\n",
       "      <td>1.000000</td>\n",
       "      <td>1.000000</td>\n",
       "      <td>0.0</td>\n",
       "      <td>7.909489</td>\n",
       "      <td>62.560024</td>\n",
       "      <td>494.817853</td>\n",
       "      <td>7.409284e+06</td>\n",
       "      <td>2.016807e+10</td>\n",
       "      <td>4.605170</td>\n",
       "      <td>7.000000</td>\n",
       "    </tr>\n",
       "  </tbody>\n",
       "</table>\n",
       "<p>8 rows × 79 columns</p>\n",
       "</div>"
      ],
      "text/plain": [
       "       usd_price_day  n_accommodates   n_bathrooms  n_review_scores_rating  \\\n",
       "count   49826.000000    49826.000000  49826.000000            49826.000000   \n",
       "mean       88.984044        2.838759      1.224260               92.458616   \n",
       "std        70.515089        1.494748      0.466448                8.418474   \n",
       "min         8.000000        1.000000      0.000000               20.000000   \n",
       "25%        41.000000        2.000000      1.000000               92.000000   \n",
       "50%        70.000000        2.000000      1.000000               94.000000   \n",
       "75%       110.000000        4.000000      1.000000               97.000000   \n",
       "max       999.000000        7.000000      8.000000              100.000000   \n",
       "\n",
       "       n_number_of_reviews  n_guests_included  n_reviews_per_month  \\\n",
       "count         49826.000000       49826.000000         49826.000000   \n",
       "mean             12.340144           1.356180             1.138253   \n",
       "std              25.889935           0.879263             1.238156   \n",
       "min               0.000000           1.000000             0.010000   \n",
       "25%               0.000000           1.000000             0.470000   \n",
       "50%               3.000000           1.000000             0.770000   \n",
       "75%              12.000000           1.000000             1.170000   \n",
       "max             396.000000          16.000000            15.000000   \n",
       "\n",
       "       n_extra_people  n_minimum_nights        n_beds  ...  \\\n",
       "count     49826.00000      49826.000000  49826.000000  ...   \n",
       "mean          6.50873          3.300947      1.585959  ...   \n",
       "std          12.31549         29.578062      0.927501  ...   \n",
       "min           0.00000          1.000000      0.000000  ...   \n",
       "25%           0.00000          1.000000      1.000000  ...   \n",
       "50%           0.00000          2.000000      1.000000  ...   \n",
       "75%          10.00000          3.000000      2.000000  ...   \n",
       "max         240.00000       5000.000000     16.000000  ...   \n",
       "\n",
       "       flag_review_scores_rating  flag_reviews_per_month  \\\n",
       "count               49826.000000            49826.000000   \n",
       "mean                    0.318850                0.303998   \n",
       "std                     0.466035                0.459986   \n",
       "min                     0.000000                0.000000   \n",
       "25%                     0.000000                0.000000   \n",
       "50%                     0.000000                0.000000   \n",
       "75%                     1.000000                1.000000   \n",
       "max                     1.000000                1.000000   \n",
       "\n",
       "       flag_n_number_of_reviews  ln_days_since  ln_days_since2  \\\n",
       "count                   49826.0   49826.000000    49826.000000   \n",
       "mean                        0.0       5.713297       33.456371   \n",
       "std                         0.0       0.902564        9.506988   \n",
       "min                         0.0       0.000000        0.000000   \n",
       "25%                         0.0       5.433722       29.525335   \n",
       "50%                         0.0       5.793014       33.559007   \n",
       "75%                         0.0       6.224558       38.745128   \n",
       "max                         0.0       7.909489       62.560024   \n",
       "\n",
       "       ln_days_since3  n_days_since2  n_days_since3  ln_review_scores_rating  \\\n",
       "count    49826.000000   4.982600e+04   4.982600e+04             49826.000000   \n",
       "mean       199.607207   2.931985e+05   3.046539e+08                 4.520910   \n",
       "std         80.264045   5.640361e+05   9.636140e+08                 0.120421   \n",
       "min          0.000000   0.000000e+00   0.000000e+00                 2.995732   \n",
       "25%        160.432461   5.198400e+04   1.185235e+07                 4.521789   \n",
       "50%        194.407782   1.069290e+05   3.496578e+07                 4.543295   \n",
       "75%        241.171311   2.540160e+05   1.280241e+08                 4.574711   \n",
       "max        494.817853   7.409284e+06   2.016807e+10                 4.605170   \n",
       "\n",
       "       n_accommodates_copy  \n",
       "count         49826.000000  \n",
       "mean              2.838759  \n",
       "std               1.494748  \n",
       "min               1.000000  \n",
       "25%               2.000000  \n",
       "50%               2.000000  \n",
       "75%               4.000000  \n",
       "max               7.000000  \n",
       "\n",
       "[8 rows x 79 columns]"
      ]
     },
     "execution_count": 61,
     "metadata": {},
     "output_type": "execute_result"
    }
   ],
   "source": [
    "# basic descr stat -------------------------------------------\n",
    "data.describe()"
   ]
  },
  {
   "cell_type": "code",
   "execution_count": 62,
   "metadata": {},
   "outputs": [
    {
     "data": {
      "text/plain": [
       "count    49826.000000\n",
       "mean        88.984044\n",
       "std         70.515089\n",
       "min          8.000000\n",
       "25%         41.000000\n",
       "50%         70.000000\n",
       "75%        110.000000\n",
       "max        999.000000\n",
       "Name: price, dtype: float64"
      ]
     },
     "execution_count": 62,
     "metadata": {},
     "output_type": "execute_result"
    }
   ],
   "source": [
    "data.price.describe()"
   ]
  },
  {
   "cell_type": "code",
   "execution_count": 63,
   "metadata": {},
   "outputs": [
    {
     "data": {
      "text/plain": [
       "f_room_type\n",
       "Entire home/apt    24938\n",
       "Private room       24351\n",
       "Shared room          537\n",
       "Name: count, dtype: int64"
      ]
     },
     "execution_count": 63,
     "metadata": {},
     "output_type": "execute_result"
    }
   ],
   "source": [
    "data.f_room_type.value_counts()"
   ]
  },
  {
   "cell_type": "code",
   "execution_count": 64,
   "metadata": {},
   "outputs": [
    {
     "data": {
      "text/plain": [
       "f_property_type\n",
       "Apartment    37467\n",
       "House        12359\n",
       "Name: count, dtype: int64"
      ]
     },
     "execution_count": 64,
     "metadata": {},
     "output_type": "execute_result"
    }
   ],
   "source": [
    "data.f_property_type.value_counts()"
   ]
  },
  {
   "cell_type": "code",
   "execution_count": 65,
   "metadata": {},
   "outputs": [
    {
     "data": {
      "text/plain": [
       "f_number_of_reviews\n",
       "[1.0, 51.0)      31575\n",
       "[0.0, 1.0)       15147\n",
       "[51.0, 396.0)     3103\n",
       "1                    1\n",
       "Name: count, dtype: int64"
      ]
     },
     "execution_count": 65,
     "metadata": {},
     "output_type": "execute_result"
    }
   ],
   "source": [
    "data.f_number_of_reviews.value_counts()"
   ]
  },
  {
   "cell_type": "code",
   "execution_count": 66,
   "metadata": {},
   "outputs": [],
   "source": [
    "# create train and holdout samples -------------------------------------------\n",
    "# train is where we do it all, incl CV\n",
    "\n",
    "# First pick a smaller than usual training set so that models run faster and check if works\n",
    "# If works, start anew without these two lines\n"
   ]
  },
  {
   "cell_type": "code",
   "execution_count": 67,
   "metadata": {},
   "outputs": [],
   "source": [
    "data_train, data_holdout = train_test_split(data, train_size=0.7, random_state=42)"
   ]
  },
  {
   "cell_type": "code",
   "execution_count": 68,
   "metadata": {},
   "outputs": [
    {
     "data": {
      "text/plain": [
       "((34878, 92), (14948, 92))"
      ]
     },
     "execution_count": 68,
     "metadata": {},
     "output_type": "execute_result"
    }
   ],
   "source": [
    "data_train.shape, data_holdout.shape"
   ]
  },
  {
   "cell_type": "code",
   "execution_count": 69,
   "metadata": {},
   "outputs": [],
   "source": [
    "# Basic Variables inc neighnourhood\n",
    "basic_vars = [\n",
    "    \"n_accommodates\",\n",
    "    \"n_beds\",\n",
    "    \"n_days_since\",\n",
    "    \"f_property_type\",\n",
    "    \"f_room_type\",\n",
    "    \"f_bathroom\",\n",
    "    \"f_cancellation_policy\",\n",
    "    \"f_bed_type\",\n",
    "    \"f_neighbourhood_cleansed\",\n",
    "]\n",
    "\n",
    "# reviews\n",
    "reviews = [\n",
    "    \"n_number_of_reviews\",\n",
    "    \"flag_n_number_of_reviews\",\n",
    "    \"n_review_scores_rating\",\n",
    "    \"flag_review_scores_rating\",\n",
    "]\n",
    "\n",
    "# Dummy variables\n",
    "amenities = [col for col in data if col.startswith(\"d_\")]\n",
    "\n",
    "# interactions for the LASSO\n",
    "# from ch14\n",
    "X1 = [\n",
    "    \"n_accommodates:f_property_type\",\n",
    "    \"f_room_type:f_property_type\",\n",
    "    \"f_room_type:d_familykidfriendly\",\n",
    "    \"d_airconditioning:f_property_type\",\n",
    "    \"d_cats:f_property_type\",\n",
    "    \"d_dogs:f_property_type\",\n",
    "]\n",
    "# with boroughs\n",
    "X2 = [\n",
    "    \"f_property_type:f_neighbourhood_cleansed\",\n",
    "    \"f_room_type:f_neighbourhood_cleansed\",\n",
    "    \"n_accommodates:f_neighbourhood_cleansed\",\n",
    "]\n"
   ]
  },
  {
   "cell_type": "code",
   "execution_count": 70,
   "metadata": {},
   "outputs": [],
   "source": [
    "predictors_1 = basic_vars\n",
    "predictors_2 = basic_vars + reviews + amenities\n",
    "predictors_E = basic_vars + reviews + amenities + X1 + X2"
   ]
  },
  {
   "cell_type": "markdown",
   "metadata": {},
   "source": [
    "## PART II\n",
    "### RANDOM FORESTS \n",
    "-------------------------------------------------------"
   ]
  },
  {
   "cell_type": "markdown",
   "metadata": {},
   "source": [
    "**Note:** n_estimators=500 in the R code.\n",
    "\n",
    "Here, we set it to 30 because the model runs mutch faster, and this does not change the results substantively here – however in other cases might."
   ]
  },
  {
   "cell_type": "code",
   "execution_count": 71,
   "metadata": {},
   "outputs": [],
   "source": [
    "# NOTE: set number of cores you want to run models\n",
    "ncores = 7"
   ]
  },
  {
   "cell_type": "code",
   "execution_count": 72,
   "metadata": {},
   "outputs": [
    {
     "name": "stdout",
     "output_type": "stream",
     "text": [
      "Fitting 5 folds for each of 6 candidates, totalling 30 fits\n",
      "[CV 1/5] END max_features=5, min_samples_split=6;, score=-45.984 total time=   0.4s\n",
      "[CV 2/5] END max_features=5, min_samples_split=6;, score=-45.114 total time=   0.4s\n",
      "[CV 3/5] END max_features=5, min_samples_split=6;, score=-46.043 total time=   0.4s\n",
      "[CV 4/5] END max_features=5, min_samples_split=6;, score=-43.664 total time=   0.4s\n",
      "[CV 5/5] END max_features=5, min_samples_split=6;, score=-46.533 total time=   0.4s\n",
      "[CV 1/5] END max_features=5, min_samples_split=11;, score=-45.866 total time=   0.3s\n",
      "[CV 2/5] END max_features=5, min_samples_split=11;, score=-45.493 total time=   0.3s\n",
      "[CV 3/5] END max_features=5, min_samples_split=11;, score=-46.421 total time=   0.4s\n",
      "[CV 4/5] END max_features=5, min_samples_split=11;, score=-43.752 total time=   0.3s\n",
      "[CV 5/5] END max_features=5, min_samples_split=11;, score=-47.210 total time=   0.3s\n",
      "[CV 1/5] END max_features=7, min_samples_split=6;, score=-45.572 total time=   0.4s\n",
      "[CV 2/5] END max_features=7, min_samples_split=6;, score=-45.002 total time=   0.4s\n",
      "[CV 3/5] END max_features=7, min_samples_split=6;, score=-45.076 total time=   0.5s\n",
      "[CV 4/5] END max_features=7, min_samples_split=6;, score=-42.822 total time=   0.5s\n",
      "[CV 5/5] END max_features=7, min_samples_split=6;, score=-45.825 total time=   0.4s\n",
      "[CV 1/5] END max_features=7, min_samples_split=11;, score=-45.544 total time=   0.4s\n",
      "[CV 2/5] END max_features=7, min_samples_split=11;, score=-44.707 total time=   0.4s\n",
      "[CV 3/5] END max_features=7, min_samples_split=11;, score=-45.230 total time=   0.4s\n",
      "[CV 4/5] END max_features=7, min_samples_split=11;, score=-43.003 total time=   0.4s\n",
      "[CV 5/5] END max_features=7, min_samples_split=11;, score=-46.700 total time=   0.4s\n",
      "[CV 1/5] END max_features=9, min_samples_split=6;, score=-45.420 total time=   0.5s\n",
      "[CV 2/5] END max_features=9, min_samples_split=6;, score=-44.949 total time=   0.5s\n",
      "[CV 3/5] END max_features=9, min_samples_split=6;, score=-45.168 total time=   0.5s\n",
      "[CV 4/5] END max_features=9, min_samples_split=6;, score=-42.566 total time=   0.5s\n",
      "[CV 5/5] END max_features=9, min_samples_split=6;, score=-45.740 total time=   0.4s\n",
      "[CV 1/5] END max_features=9, min_samples_split=11;, score=-45.325 total time=   0.4s\n",
      "[CV 2/5] END max_features=9, min_samples_split=11;, score=-44.931 total time=   0.4s\n",
      "[CV 3/5] END max_features=9, min_samples_split=11;, score=-45.030 total time=   0.4s\n",
      "[CV 4/5] END max_features=9, min_samples_split=11;, score=-42.844 total time=   0.4s\n",
      "[CV 5/5] END max_features=9, min_samples_split=11;, score=-45.904 total time=   0.4s\n"
     ]
    }
   ],
   "source": [
    "rfr = RandomForestRegressor(\n",
    "    random_state=42,\n",
    "    criterion=\"squared_error\",\n",
    "    n_estimators=30, #here yes\n",
    "    oob_score=True,\n",
    "    n_jobs=ncores,\n",
    ")\n",
    "\n",
    "tune_grid = {\"max_features\": [5, 7, 9], \n",
    "             \"min_samples_split\": [6, 11]}\n",
    "\n",
    "rf_random = GridSearchCV(\n",
    "    rfr, tune_grid, cv=5, scoring=\"neg_root_mean_squared_error\", verbose=3\n",
    ")\n",
    "\n",
    "y, X = dmatrices(\"price ~ \" + \" + \".join(predictors_2), data_train)\n",
    "\n",
    "rf_model_1 = rf_random.fit(X, y.ravel())\n"
   ]
  },
  {
   "cell_type": "code",
   "execution_count": 74,
   "metadata": {},
   "outputs": [
    {
     "name": "stdout",
     "output_type": "stream",
     "text": [
      "Fitting 5 folds for each of 9 candidates, totalling 45 fits\n",
      "[CV 1/5] END max_features=8, min_samples_split=6;, score=-45.475 total time=   0.5s\n",
      "[CV 2/5] END max_features=8, min_samples_split=6;, score=-44.447 total time=   0.5s\n",
      "[CV 3/5] END max_features=8, min_samples_split=6;, score=-44.723 total time=   0.5s\n",
      "[CV 4/5] END max_features=8, min_samples_split=6;, score=-42.442 total time=   0.5s\n",
      "[CV 5/5] END max_features=8, min_samples_split=6;, score=-45.982 total time=   0.4s\n",
      "[CV 1/5] END max_features=8, min_samples_split=11;, score=-45.321 total time=   0.4s\n",
      "[CV 2/5] END max_features=8, min_samples_split=11;, score=-44.445 total time=   0.4s\n",
      "[CV 3/5] END max_features=8, min_samples_split=11;, score=-45.078 total time=   0.4s\n",
      "[CV 4/5] END max_features=8, min_samples_split=11;, score=-43.297 total time=   0.4s\n",
      "[CV 5/5] END max_features=8, min_samples_split=11;, score=-45.742 total time=   0.4s\n",
      "[CV 1/5] END max_features=8, min_samples_split=16;, score=-45.299 total time=   0.4s\n",
      "[CV 2/5] END max_features=8, min_samples_split=16;, score=-45.023 total time=   0.4s\n",
      "[CV 3/5] END max_features=8, min_samples_split=16;, score=-45.215 total time=   0.4s\n",
      "[CV 4/5] END max_features=8, min_samples_split=16;, score=-43.130 total time=   0.4s\n",
      "[CV 5/5] END max_features=8, min_samples_split=16;, score=-46.283 total time=   0.4s\n",
      "[CV 1/5] END max_features=10, min_samples_split=6;, score=-44.803 total time=   0.6s\n",
      "[CV 2/5] END max_features=10, min_samples_split=6;, score=-44.523 total time=   0.5s\n",
      "[CV 3/5] END max_features=10, min_samples_split=6;, score=-44.614 total time=   0.5s\n",
      "[CV 4/5] END max_features=10, min_samples_split=6;, score=-43.012 total time=   0.5s\n",
      "[CV 5/5] END max_features=10, min_samples_split=6;, score=-45.296 total time=   0.5s\n",
      "[CV 1/5] END max_features=10, min_samples_split=11;, score=-45.243 total time=   0.4s\n",
      "[CV 2/5] END max_features=10, min_samples_split=11;, score=-44.583 total time=   0.4s\n",
      "[CV 3/5] END max_features=10, min_samples_split=11;, score=-44.955 total time=   0.5s\n",
      "[CV 4/5] END max_features=10, min_samples_split=11;, score=-42.747 total time=   0.4s\n",
      "[CV 5/5] END max_features=10, min_samples_split=11;, score=-45.943 total time=   0.6s\n",
      "[CV 1/5] END max_features=10, min_samples_split=16;, score=-45.411 total time=   0.5s\n",
      "[CV 2/5] END max_features=10, min_samples_split=16;, score=-44.492 total time=   0.4s\n",
      "[CV 3/5] END max_features=10, min_samples_split=16;, score=-45.003 total time=   0.4s\n",
      "[CV 4/5] END max_features=10, min_samples_split=16;, score=-42.932 total time=   0.4s\n",
      "[CV 5/5] END max_features=10, min_samples_split=16;, score=-45.912 total time=   0.4s\n",
      "[CV 1/5] END max_features=12, min_samples_split=6;, score=-44.887 total time=   0.5s\n",
      "[CV 2/5] END max_features=12, min_samples_split=6;, score=-44.412 total time=   0.6s\n",
      "[CV 3/5] END max_features=12, min_samples_split=6;, score=-44.287 total time=   0.5s\n",
      "[CV 4/5] END max_features=12, min_samples_split=6;, score=-42.616 total time=   0.5s\n",
      "[CV 5/5] END max_features=12, min_samples_split=6;, score=-45.229 total time=   0.5s\n",
      "[CV 1/5] END max_features=12, min_samples_split=11;, score=-44.907 total time=   0.5s\n",
      "[CV 2/5] END max_features=12, min_samples_split=11;, score=-44.540 total time=   0.6s\n",
      "[CV 3/5] END max_features=12, min_samples_split=11;, score=-44.681 total time=   0.5s\n",
      "[CV 4/5] END max_features=12, min_samples_split=11;, score=-42.513 total time=   0.5s\n",
      "[CV 5/5] END max_features=12, min_samples_split=11;, score=-45.424 total time=   0.5s\n",
      "[CV 1/5] END max_features=12, min_samples_split=16;, score=-45.014 total time=   0.5s\n",
      "[CV 2/5] END max_features=12, min_samples_split=16;, score=-44.632 total time=   0.5s\n",
      "[CV 3/5] END max_features=12, min_samples_split=16;, score=-44.665 total time=   0.5s\n",
      "[CV 4/5] END max_features=12, min_samples_split=16;, score=-42.576 total time=   0.4s\n",
      "[CV 5/5] END max_features=12, min_samples_split=16;, score=-45.383 total time=   0.5s\n"
     ]
    }
   ],
   "source": [
    "rfr = RandomForestRegressor(\n",
    "    random_state=42,\n",
    "    criterion=\"squared_error\",  # It calculates the MSE before and after the split. If splitting reduces the total MSE, it’s a good split.\n",
    "    n_estimators=30,         # Number of trees in the forest\n",
    "    oob_score=True,          # Use out-of-bag samples to estimate test error\n",
    "    n_jobs=ncores,           # Use multiple CPU cores (parallel processing)\n",
    ")\n",
    "tune_grid = {\n",
    "    \"max_features\": [8, 10, 12],\n",
    "    \"min_samples_split\": [6, 11, 16],\n",
    "}\n",
    "\n",
    "rf_random = GridSearchCV(\n",
    "    rfr,\n",
    "    tune_grid,\n",
    "    cv=5,\n",
    "    scoring=\"neg_root_mean_squared_error\",\n",
    "    verbose=3,\n",
    ")\n",
    "\n",
    "y, X = dmatrices(\"price ~ \" + \" + \".join(predictors_2), data_train)\n",
    "\n",
    "rf_model_2 = rf_random.fit(X, y.ravel())\n"
   ]
  },
  {
   "cell_type": "code",
   "execution_count": 75,
   "metadata": {},
   "outputs": [
    {
     "name": "stdout",
     "output_type": "stream",
     "text": [
      "{'mean_fit_time': array([0.45460343, 0.37476954, 0.36025558, 0.4824317 , 0.43935065,\n",
      "       0.40924387, 0.51982179, 0.48476801, 0.43622646]), 'std_fit_time': array([0.02191051, 0.00481794, 0.01469921, 0.03008167, 0.04135014,\n",
      "       0.03290323, 0.01482531, 0.04610225, 0.01359905]), 'mean_score_time': array([0.02568283, 0.0252337 , 0.02518439, 0.02492962, 0.029076  ,\n",
      "       0.02456851, 0.02693357, 0.02524443, 0.02471724]), 'std_score_time': array([0.0008252 , 0.00060867, 0.00126885, 0.00057159, 0.00917008,\n",
      "       0.0003587 , 0.00065275, 0.00059333, 0.00046995]), 'param_max_features': masked_array(data=[8, 8, 8, 10, 10, 10, 12, 12, 12],\n",
      "             mask=[False, False, False, False, False, False, False, False,\n",
      "                   False],\n",
      "       fill_value=999999), 'param_min_samples_split': masked_array(data=[6, 11, 16, 6, 11, 16, 6, 11, 16],\n",
      "             mask=[False, False, False, False, False, False, False, False,\n",
      "                   False],\n",
      "       fill_value=999999), 'params': [{'max_features': 8, 'min_samples_split': 6}, {'max_features': 8, 'min_samples_split': 11}, {'max_features': 8, 'min_samples_split': 16}, {'max_features': 10, 'min_samples_split': 6}, {'max_features': 10, 'min_samples_split': 11}, {'max_features': 10, 'min_samples_split': 16}, {'max_features': 12, 'min_samples_split': 6}, {'max_features': 12, 'min_samples_split': 11}, {'max_features': 12, 'min_samples_split': 16}], 'split0_test_score': array([-45.47527448, -45.32061737, -45.29917099, -44.80322002,\n",
      "       -45.24316598, -45.41064966, -44.88698634, -44.90662793,\n",
      "       -45.01374599]), 'split1_test_score': array([-44.44676674, -44.44508062, -45.02290242, -44.5225335 ,\n",
      "       -44.58277005, -44.49200741, -44.41199708, -44.54035012,\n",
      "       -44.63194051]), 'split2_test_score': array([-44.72253573, -45.07838229, -45.21545536, -44.61399234,\n",
      "       -44.95465164, -45.00286026, -44.28732817, -44.68090035,\n",
      "       -44.66500726]), 'split3_test_score': array([-42.44194284, -43.29713056, -43.12957214, -43.01157239,\n",
      "       -42.7468828 , -42.93247484, -42.6160737 , -42.5131872 ,\n",
      "       -42.57563515]), 'split4_test_score': array([-45.98178944, -45.74203906, -46.28296221, -45.29596141,\n",
      "       -45.94300461, -45.91174009, -45.2286595 , -45.42368594,\n",
      "       -45.38278348]), 'mean_test_score': array([-44.61366185, -44.77664998, -44.99001262, -44.44945593,\n",
      "       -44.69409502, -44.74994645, -44.28620896, -44.41295031,\n",
      "       -44.45382248]), 'std_test_score': array([1.21410217, 0.85062741, 1.02766166, 0.76702571, 1.07081021,\n",
      "       1.02176261, 0.90048011, 0.99623611, 0.97779298]), 'rank_test_score': array([5, 8, 9, 3, 6, 7, 1, 2, 4], dtype=int32)}\n"
     ]
    }
   ],
   "source": [
    "print(rf_model_2.cv_results_)"
   ]
  },
  {
   "cell_type": "markdown",
   "metadata": {},
   "source": [
    "### Table 16.1 Random forest RMSE by tuning parameters"
   ]
  },
  {
   "cell_type": "code",
   "execution_count": 76,
   "metadata": {},
   "outputs": [
    {
     "data": {
      "text/html": [
       "<div>\n",
       "<style scoped>\n",
       "    .dataframe tbody tr th:only-of-type {\n",
       "        vertical-align: middle;\n",
       "    }\n",
       "\n",
       "    .dataframe tbody tr th {\n",
       "        vertical-align: top;\n",
       "    }\n",
       "\n",
       "    .dataframe thead th {\n",
       "        text-align: right;\n",
       "    }\n",
       "</style>\n",
       "<table border=\"1\" class=\"dataframe\">\n",
       "  <thead>\n",
       "    <tr style=\"text-align: right;\">\n",
       "      <th>Variables</th>\n",
       "      <th>5</th>\n",
       "      <th>7</th>\n",
       "      <th>9</th>\n",
       "    </tr>\n",
       "    <tr>\n",
       "      <th>Min_nodes</th>\n",
       "      <th></th>\n",
       "      <th></th>\n",
       "      <th></th>\n",
       "    </tr>\n",
       "  </thead>\n",
       "  <tbody>\n",
       "    <tr>\n",
       "      <th>5</th>\n",
       "      <td>45.468</td>\n",
       "      <td>44.860</td>\n",
       "      <td>44.769</td>\n",
       "    </tr>\n",
       "    <tr>\n",
       "      <th>10</th>\n",
       "      <td>45.748</td>\n",
       "      <td>45.037</td>\n",
       "      <td>44.807</td>\n",
       "    </tr>\n",
       "  </tbody>\n",
       "</table>\n",
       "</div>"
      ],
      "text/plain": [
       "Variables       5       7       9\n",
       "Min_nodes                        \n",
       "5          45.468  44.860  44.769\n",
       "10         45.748  45.037  44.807"
      ]
     },
     "execution_count": 76,
     "metadata": {},
     "output_type": "execute_result"
    }
   ],
   "source": [
    "pd.DataFrame(rf_model_1.cv_results_)[\n",
    "    [\"param_max_features\", \"param_min_samples_split\", \"mean_test_score\"]\n",
    "].assign(\n",
    "    mean_test_score=lambda x: x[\"mean_test_score\"] * -1,\n",
    "    Variables=lambda x: x[\"param_max_features\"],\n",
    "    Min_nodes=lambda x: x[\"param_min_samples_split\"] - 1,\n",
    ").pivot(\n",
    "    index=\"Min_nodes\", columns=\"Variables\", values=\"mean_test_score\"\n",
    ").round(\n",
    "    3\n",
    ")"
   ]
  },
  {
   "cell_type": "code",
   "execution_count": 77,
   "metadata": {},
   "outputs": [
    {
     "data": {
      "text/html": [
       "<div>\n",
       "<style scoped>\n",
       "    .dataframe tbody tr th:only-of-type {\n",
       "        vertical-align: middle;\n",
       "    }\n",
       "\n",
       "    .dataframe tbody tr th {\n",
       "        vertical-align: top;\n",
       "    }\n",
       "\n",
       "    .dataframe thead th {\n",
       "        text-align: right;\n",
       "    }\n",
       "</style>\n",
       "<table border=\"1\" class=\"dataframe\">\n",
       "  <thead>\n",
       "    <tr style=\"text-align: right;\">\n",
       "      <th>Variables</th>\n",
       "      <th>8</th>\n",
       "      <th>10</th>\n",
       "      <th>12</th>\n",
       "    </tr>\n",
       "    <tr>\n",
       "      <th>Min_nodes</th>\n",
       "      <th></th>\n",
       "      <th></th>\n",
       "      <th></th>\n",
       "    </tr>\n",
       "  </thead>\n",
       "  <tbody>\n",
       "    <tr>\n",
       "      <th>5</th>\n",
       "      <td>44.614</td>\n",
       "      <td>44.449</td>\n",
       "      <td>44.286</td>\n",
       "    </tr>\n",
       "    <tr>\n",
       "      <th>10</th>\n",
       "      <td>44.777</td>\n",
       "      <td>44.694</td>\n",
       "      <td>44.413</td>\n",
       "    </tr>\n",
       "    <tr>\n",
       "      <th>15</th>\n",
       "      <td>44.990</td>\n",
       "      <td>44.750</td>\n",
       "      <td>44.454</td>\n",
       "    </tr>\n",
       "  </tbody>\n",
       "</table>\n",
       "</div>"
      ],
      "text/plain": [
       "Variables      8       10      12\n",
       "Min_nodes                        \n",
       "5          44.614  44.449  44.286\n",
       "10         44.777  44.694  44.413\n",
       "15         44.990  44.750  44.454"
      ]
     },
     "execution_count": 77,
     "metadata": {},
     "output_type": "execute_result"
    }
   ],
   "source": [
    "pd.DataFrame(rf_model_2.cv_results_)[\n",
    "    [\"param_max_features\", \"param_min_samples_split\", \"mean_test_score\"]\n",
    "].assign(\n",
    "    mean_test_score=lambda x: x[\"mean_test_score\"] * -1,\n",
    "    Variables=lambda x: x[\"param_max_features\"],\n",
    "    Min_nodes=lambda x: x[\"param_min_samples_split\"] - 1,\n",
    ").pivot(\n",
    "    index=\"Min_nodes\", columns=\"Variables\", values=\"mean_test_score\"\n",
    ").round(\n",
    "    3\n",
    ")\n"
   ]
  },
  {
   "cell_type": "code",
   "execution_count": 78,
   "metadata": {},
   "outputs": [
    {
     "data": {
      "text/html": [
       "<div>\n",
       "<style scoped>\n",
       "    .dataframe tbody tr th:only-of-type {\n",
       "        vertical-align: middle;\n",
       "    }\n",
       "\n",
       "    .dataframe tbody tr th {\n",
       "        vertical-align: top;\n",
       "    }\n",
       "\n",
       "    .dataframe thead th {\n",
       "        text-align: right;\n",
       "    }\n",
       "</style>\n",
       "<table border=\"1\" class=\"dataframe\">\n",
       "  <thead>\n",
       "    <tr style=\"text-align: right;\">\n",
       "      <th></th>\n",
       "      <th>Min vars</th>\n",
       "      <th>Min nodes</th>\n",
       "    </tr>\n",
       "  </thead>\n",
       "  <tbody>\n",
       "    <tr>\n",
       "      <th>Model A</th>\n",
       "      <td>9</td>\n",
       "      <td>5</td>\n",
       "    </tr>\n",
       "    <tr>\n",
       "      <th>Model B</th>\n",
       "      <td>12</td>\n",
       "      <td>5</td>\n",
       "    </tr>\n",
       "  </tbody>\n",
       "</table>\n",
       "</div>"
      ],
      "text/plain": [
       "         Min vars  Min nodes\n",
       "Model A         9          5\n",
       "Model B        12          5"
      ]
     },
     "execution_count": 78,
     "metadata": {},
     "output_type": "execute_result"
    }
   ],
   "source": [
    "pd.DataFrame(\n",
    "    {\n",
    "        \"Min vars\": [\n",
    "            rf_model_1.best_estimator_.max_features,\n",
    "            rf_model_2.best_estimator_.max_features,\n",
    "        ],\n",
    "        \"Min nodes\": [\n",
    "            rf_model_1.best_estimator_.min_samples_split - 1,\n",
    "            rf_model_2.best_estimator_.min_samples_split - 1,\n",
    "        ],\n",
    "    },\n",
    "    [\"Model A\", \"Model B\"],\n",
    ")\n"
   ]
  },
  {
   "cell_type": "code",
   "execution_count": 79,
   "metadata": {},
   "outputs": [
    {
     "name": "stdout",
     "output_type": "stream",
     "text": [
      "{'max_features': 12, 'min_samples_split': 6}\n",
      "44.28620895799135\n"
     ]
    }
   ],
   "source": [
    "# Confirm best parameters and their score:\n",
    "print(rf_model_2.best_params_)\n",
    "print(-rf_model_2.best_score_)"
   ]
  },
  {
   "cell_type": "code",
   "execution_count": 80,
   "metadata": {},
   "outputs": [
    {
     "data": {
      "text/html": [
       "<div>\n",
       "<style scoped>\n",
       "    .dataframe tbody tr th:only-of-type {\n",
       "        vertical-align: middle;\n",
       "    }\n",
       "\n",
       "    .dataframe tbody tr th {\n",
       "        vertical-align: top;\n",
       "    }\n",
       "\n",
       "    .dataframe thead th {\n",
       "        text-align: right;\n",
       "    }\n",
       "</style>\n",
       "<table border=\"1\" class=\"dataframe\">\n",
       "  <thead>\n",
       "    <tr style=\"text-align: right;\">\n",
       "      <th></th>\n",
       "      <th>RMSE</th>\n",
       "    </tr>\n",
       "  </thead>\n",
       "  <tbody>\n",
       "    <tr>\n",
       "      <th>Model A</th>\n",
       "      <td>44.769</td>\n",
       "    </tr>\n",
       "    <tr>\n",
       "      <th>Model B</th>\n",
       "      <td>44.286</td>\n",
       "    </tr>\n",
       "  </tbody>\n",
       "</table>\n",
       "</div>"
      ],
      "text/plain": [
       "           RMSE\n",
       "Model A  44.769\n",
       "Model B  44.286"
      ]
     },
     "execution_count": 80,
     "metadata": {},
     "output_type": "execute_result"
    }
   ],
   "source": [
    "# Use .best_score_ instead of grabbing raw min from cv_results_\n",
    "rf_model_1_rmse = -rf_model_1.best_score_  # Note: .best_score_ is already the highest (least negative)\n",
    "rf_model_2_rmse = -rf_model_2.best_score_\n",
    "\n",
    "pd.DataFrame(\n",
    "    {\"RMSE\": [rf_model_1_rmse, rf_model_2_rmse]},\n",
    "    index=[\"Model A\", \"Model B\"]\n",
    ").round(3)"
   ]
  },
  {
   "cell_type": "code",
   "execution_count": 81,
   "metadata": {},
   "outputs": [
    {
     "data": {
      "text/html": [
       "<div>\n",
       "<style scoped>\n",
       "    .dataframe tbody tr th:only-of-type {\n",
       "        vertical-align: middle;\n",
       "    }\n",
       "\n",
       "    .dataframe tbody tr th {\n",
       "        vertical-align: top;\n",
       "    }\n",
       "\n",
       "    .dataframe thead th {\n",
       "        text-align: right;\n",
       "    }\n",
       "</style>\n",
       "<table border=\"1\" class=\"dataframe\">\n",
       "  <thead>\n",
       "    <tr style=\"text-align: right;\">\n",
       "      <th></th>\n",
       "      <th>RMSE</th>\n",
       "    </tr>\n",
       "  </thead>\n",
       "  <tbody>\n",
       "    <tr>\n",
       "      <th>Model A</th>\n",
       "      <td>45.748</td>\n",
       "    </tr>\n",
       "    <tr>\n",
       "      <th>Model B</th>\n",
       "      <td>44.990</td>\n",
       "    </tr>\n",
       "  </tbody>\n",
       "</table>\n",
       "</div>"
      ],
      "text/plain": [
       "           RMSE\n",
       "Model A  45.748\n",
       "Model B  44.990"
      ]
     },
     "execution_count": 81,
     "metadata": {},
     "output_type": "execute_result"
    }
   ],
   "source": [
    "rf_model_1_rmse = rf_model_1.cv_results_[\"mean_test_score\"].min() * -1\n",
    "rf_model_2_rmse = rf_model_2.cv_results_[\"mean_test_score\"].min() * -1\n",
    "\n",
    "pd.DataFrame(\n",
    "    {\"RMSE\": [rf_model_1_rmse, rf_model_2_rmse]}, [\"Model A\", \"Model B\"]\n",
    ").round(3)"
   ]
  },
  {
   "cell_type": "markdown",
   "metadata": {},
   "source": [
    "## PART III\n",
    "### MODEL DIAGNOSTICS \n",
    "---"
   ]
  },
  {
   "cell_type": "code",
   "execution_count": 82,
   "metadata": {},
   "outputs": [],
   "source": [
    "rf_model_2_var_imp_df = (\n",
    "    pd.DataFrame(\n",
    "        rf_model_2.best_estimator_.feature_importances_, X.design_info.column_names\n",
    "    )\n",
    "    .reset_index()\n",
    "    .rename({\"index\": \"varname\", 0: \"imp\"}, axis=1)\n",
    "    .assign(factor=lambda x: x[\"varname\"].str.startswith(\"f_\"))\n",
    "    .assign(\n",
    "        imp_percentage=lambda x: x[\"imp\"] / x[\"imp\"].sum(),\n",
    "        varname=lambda x: x.varname.str.replace(\n",
    "            \"f_room_type[T.\", \"Room type:\", regex=False\n",
    "        )\n",
    "        .str.replace(\"f_neighbourhood_cleansed[T.\", \"Borough:\", regex=False)\n",
    "        .str.replace(\"f_cancellation_policy[T.\", \"Cancelation policy:\", regex=False)\n",
    "        .str.replace(\"f_bed_type[T.\", \"Bed type:\", regex=False)\n",
    "        .str.replace(\"f_property_type[T.\", \"Property type:\", regex=False)\n",
    "        .str.replace(\"]\", \"\", regex=False),\n",
    "    )\n",
    "    .sort_values(by=[\"imp\"], ascending=False)\n",
    ")"
   ]
  },
  {
   "cell_type": "code",
   "execution_count": 83,
   "metadata": {},
   "outputs": [
    {
     "data": {
      "text/plain": [
       "array([0.00000000e+00, 1.12032383e-02, 1.54044830e-01, 4.99554084e-03,\n",
       "       2.27960713e-04, 4.14834780e-02, 6.31837715e-02, 4.68494563e-03,\n",
       "       1.36465644e-02, 8.53717563e-04, 1.42086395e-03, 1.00594399e-04,\n",
       "       1.60048981e-03, 3.73580814e-04, 6.37867324e-03, 2.03906463e-03,\n",
       "       6.00720100e-04, 3.60988331e-03, 2.89326049e-04, 1.14179663e-03,\n",
       "       2.94462208e-03, 2.60995014e-03, 1.35876976e-03, 2.45501935e-04,\n",
       "       2.36325717e-04, 3.89425490e-04, 1.73116128e-03, 2.81493926e-03,\n",
       "       2.66914316e-02, 3.14460578e-04, 2.45268631e-03, 1.79247104e-03,\n",
       "       3.11309863e-03, 1.82233463e-03, 1.66081477e-03, 2.81990816e-03,\n",
       "       2.47803789e-03, 9.50028210e-05, 4.73294654e-03, 1.80057600e-03,\n",
       "       2.69613601e-03, 2.80119694e-02, 1.48557973e-01, 9.58076797e-02,\n",
       "       2.57130895e-02, 2.52020796e-02, 0.00000000e+00, 1.90916162e-02,\n",
       "       8.16451560e-03, 5.98953284e-03, 1.26292602e-02, 6.14201476e-03,\n",
       "       6.95195880e-03, 7.56288531e-03, 7.32664415e-03, 1.06118437e-03,\n",
       "       1.11355763e-03, 3.68038062e-03, 3.18602612e-04, 1.23764208e-02,\n",
       "       7.86028104e-03, 5.65880308e-03, 2.27207959e-02, 6.86336559e-03,\n",
       "       6.05831449e-03, 1.02726871e-02, 1.33520856e-05, 2.85808254e-03,\n",
       "       7.01691520e-03, 5.77761723e-03, 3.23586047e-03, 3.88351398e-03,\n",
       "       7.02692692e-03, 6.85795940e-03, 8.08363014e-03, 2.19369004e-04,\n",
       "       2.22348276e-03, 6.28347099e-03, 6.41098263e-03, 1.72576506e-03,\n",
       "       3.14503299e-04, 9.94093262e-05, 4.10835528e-03, 2.53153317e-03,\n",
       "       3.14975928e-03, 3.17532565e-03, 1.03642046e-03, 5.45473165e-03,\n",
       "       2.21638136e-03, 6.41450609e-03, 1.65248349e-04, 5.80820503e-03,\n",
       "       4.54179811e-03, 2.86290912e-03, 3.06795218e-02, 4.99680617e-03,\n",
       "       1.49708137e-03, 3.98350684e-03, 3.53181666e-03])"
      ]
     },
     "execution_count": 83,
     "metadata": {},
     "output_type": "execute_result"
    }
   ],
   "source": [
    "rf_model_2.best_estimator_.feature_importances_"
   ]
  },
  {
   "cell_type": "code",
   "execution_count": 84,
   "metadata": {},
   "outputs": [
    {
     "data": {
      "text/html": [
       "<div>\n",
       "<style scoped>\n",
       "    .dataframe tbody tr th:only-of-type {\n",
       "        vertical-align: middle;\n",
       "    }\n",
       "\n",
       "    .dataframe tbody tr th {\n",
       "        vertical-align: top;\n",
       "    }\n",
       "\n",
       "    .dataframe thead th {\n",
       "        text-align: right;\n",
       "    }\n",
       "</style>\n",
       "<table border=\"1\" class=\"dataframe\">\n",
       "  <thead>\n",
       "    <tr style=\"text-align: right;\">\n",
       "      <th></th>\n",
       "      <th>varname</th>\n",
       "      <th>imp</th>\n",
       "      <th>factor</th>\n",
       "      <th>imp_percentage</th>\n",
       "    </tr>\n",
       "  </thead>\n",
       "  <tbody>\n",
       "    <tr>\n",
       "      <th>2</th>\n",
       "      <td>Room type:Private room</td>\n",
       "      <td>0.154045</td>\n",
       "      <td>True</td>\n",
       "      <td>0.154045</td>\n",
       "    </tr>\n",
       "    <tr>\n",
       "      <th>42</th>\n",
       "      <td>n_accommodates</td>\n",
       "      <td>0.148558</td>\n",
       "      <td>False</td>\n",
       "      <td>0.148558</td>\n",
       "    </tr>\n",
       "    <tr>\n",
       "      <th>43</th>\n",
       "      <td>n_beds</td>\n",
       "      <td>0.095808</td>\n",
       "      <td>False</td>\n",
       "      <td>0.095808</td>\n",
       "    </tr>\n",
       "    <tr>\n",
       "      <th>6</th>\n",
       "      <td>f_bathroom[T.[2, 10)</td>\n",
       "      <td>0.063184</td>\n",
       "      <td>True</td>\n",
       "      <td>0.063184</td>\n",
       "    </tr>\n",
       "    <tr>\n",
       "      <th>5</th>\n",
       "      <td>f_bathroom[T.[1, 2)</td>\n",
       "      <td>0.041483</td>\n",
       "      <td>True</td>\n",
       "      <td>0.041483</td>\n",
       "    </tr>\n",
       "    <tr>\n",
       "      <th>...</th>\n",
       "      <td>...</td>\n",
       "      <td>...</td>\n",
       "      <td>...</td>\n",
       "      <td>...</td>\n",
       "    </tr>\n",
       "    <tr>\n",
       "      <th>81</th>\n",
       "      <td>d_paidparkingoffpremises</td>\n",
       "      <td>0.000099</td>\n",
       "      <td>False</td>\n",
       "      <td>0.000099</td>\n",
       "    </tr>\n",
       "    <tr>\n",
       "      <th>37</th>\n",
       "      <td>Borough:Sutton</td>\n",
       "      <td>0.000095</td>\n",
       "      <td>True</td>\n",
       "      <td>0.000095</td>\n",
       "    </tr>\n",
       "    <tr>\n",
       "      <th>66</th>\n",
       "      <td>d_freeparkingonstreet</td>\n",
       "      <td>0.000013</td>\n",
       "      <td>False</td>\n",
       "      <td>0.000013</td>\n",
       "    </tr>\n",
       "    <tr>\n",
       "      <th>0</th>\n",
       "      <td>Intercept</td>\n",
       "      <td>0.000000</td>\n",
       "      <td>False</td>\n",
       "      <td>0.000000</td>\n",
       "    </tr>\n",
       "    <tr>\n",
       "      <th>46</th>\n",
       "      <td>flag_n_number_of_reviews</td>\n",
       "      <td>0.000000</td>\n",
       "      <td>False</td>\n",
       "      <td>0.000000</td>\n",
       "    </tr>\n",
       "  </tbody>\n",
       "</table>\n",
       "<p>99 rows × 4 columns</p>\n",
       "</div>"
      ],
      "text/plain": [
       "                     varname       imp  factor  imp_percentage\n",
       "2     Room type:Private room  0.154045    True        0.154045\n",
       "42            n_accommodates  0.148558   False        0.148558\n",
       "43                    n_beds  0.095808   False        0.095808\n",
       "6       f_bathroom[T.[2, 10)  0.063184    True        0.063184\n",
       "5        f_bathroom[T.[1, 2)  0.041483    True        0.041483\n",
       "..                       ...       ...     ...             ...\n",
       "81  d_paidparkingoffpremises  0.000099   False        0.000099\n",
       "37            Borough:Sutton  0.000095    True        0.000095\n",
       "66     d_freeparkingonstreet  0.000013   False        0.000013\n",
       "0                  Intercept  0.000000   False        0.000000\n",
       "46  flag_n_number_of_reviews  0.000000   False        0.000000\n",
       "\n",
       "[99 rows x 4 columns]"
      ]
     },
     "execution_count": 84,
     "metadata": {},
     "output_type": "execute_result"
    }
   ],
   "source": [
    "rf_model_2_var_imp_df"
   ]
  },
  {
   "cell_type": "markdown",
   "metadata": {},
   "source": [
    "#### 1) full varimp plot, above a cutoff"
   ]
  },
  {
   "cell_type": "code",
   "execution_count": 85,
   "metadata": {},
   "outputs": [
    {
     "data": {
      "image/png": "[encoded data removed]",
      "text/plain": [
       "<Figure size 800x600 with 1 Axes>"
      ]
     },
     "metadata": {},
     "output_type": "display_data"
    }
   ],
   "source": [
    "cutoff = 0.013\n",
    "df_plot = rf_model_2_var_imp_df.loc[rf_model_2_var_imp_df.imp > cutoff].copy()\n",
    "df_plot = df_plot.sort_values('imp_percentage', ascending=False)\n",
    "\n",
    "plt.figure(figsize=(8, 6))\n",
    "sns.barplot(\n",
    "    data=df_plot,\n",
    "    x='imp_percentage',\n",
    "    y='varname',\n",
    "    color='C0'\n",
    ")\n",
    "plt.xlabel('Importance (Percent)')\n",
    "plt.ylabel('Variable Name')\n",
    "plt.xlim(0, df_plot['imp_percentage'].max() * 1.1)\n",
    "plt.gca().xaxis.set_major_formatter(plt.FuncFormatter(lambda x, _: '{:.0%}'.format(x)))\n",
    "plt.title('Variable Importance (cutoff > 0.013)')\n",
    "plt.tight_layout()\n",
    "plt.show()\n"
   ]
  },
  {
   "cell_type": "code",
   "execution_count": 86,
   "metadata": {},
   "outputs": [
    {
     "data": {
      "image/png": "[encoded data removed]",
      "text/plain": [
       "<Figure size 800x600 with 1 Axes>"
      ]
     },
     "metadata": {},
     "output_type": "display_data"
    }
   ],
   "source": [
    "plt.figure(figsize=(8, 6))\n",
    "sns.barplot(\n",
    "    data=df_plot.sort_values('imp_percentage', ascending=False),\n",
    "    x='imp_percentage',\n",
    "    y='varname',\n",
    "    color='C0'\n",
    ")\n",
    "plt.xlabel('Importance (Percent)')\n",
    "plt.ylabel('Variable Name')\n",
    "plt.xlim(0, df_plot['imp_percentage'].max() * 1.1)\n",
    "plt.gca().xaxis.set_major_formatter(plt.FuncFormatter(lambda x, _: '{:.0%}'.format(x)))\n",
    "plt.title('Variable Importance (cutoff > 0.013)')\n",
    "plt.tight_layout()\n",
    "plt.show()\n"
   ]
  },
  {
   "cell_type": "markdown",
   "metadata": {},
   "source": [
    "#### 2) full varimp plot, top 10 onl"
   ]
  },
  {
   "cell_type": "code",
   "execution_count": null,
   "metadata": {},
   "outputs": [],
   "source": [
    "rf_model_2_var_imp_df.iloc[:10, :]"
   ]
  },
  {
   "cell_type": "code",
   "execution_count": null,
   "metadata": {},
   "outputs": [],
   "source": [
    "plt.figure(figsize=(8, 6))\n",
    "sns.barplot(\n",
    "    data=df_plot.sort_values('imp_percentage', ascending=False),\n",
    "    x='imp_percentage',\n",
    "    y='varname',\n",
    "    color='C0'\n",
    ")\n",
    "plt.xlabel('Importance (Percent)')\n",
    "plt.ylabel('Variable Name')\n",
    "plt.xlim(0, df_plot['imp_percentage'].max() * 1.1)\n",
    "plt.gca().xaxis.set_major_formatter(plt.FuncFormatter(lambda x, _: '{:.0%}'.format(x)))\n",
    "plt.title('Variable Importance (cutoff > 0.013)')\n",
    "plt.tight_layout()\n",
    "plt.show()\n"
   ]
  },
  {
   "cell_type": "code",
   "execution_count": null,
   "metadata": {},
   "outputs": [],
   "source": [
    "import matplotlib.pyplot as plt\n",
    "\n",
    "fig, ax = plt.subplots(figsize=(8, 6))\n",
    "sorted_df = df_plot.sort_values('imp_percentage', ascending=True)\n",
    "ax.barh(sorted_df['varname'], sorted_df['imp_percentage'], color='C0')\n",
    "ax.set_xlabel('Importance (Percent)')\n",
    "ax.set_ylabel('Variable Name')\n",
    "ax.set_xlim(0, sorted_df['imp_percentage'].max() * 1.1)\n",
    "ax.set_title('Variable Importance (cutoff > 0.013)')\n",
    "ax.xaxis.set_major_formatter(plt.FuncFormatter(lambda x, _: '{:.0%}'.format(x)))\n",
    "plt.tight_layout()\n",
    "plt.show()\n"
   ]
  },
  {
   "cell_type": "markdown",
   "metadata": {},
   "source": [
    "#### 3) grouped variable importance - keep binaries created off factors together\n",
    "\n",
    "First we do this by summing up the individual importances of factors - this is not correct, but it's in the first edition.\n",
    "\n",
    "However, simply summing up the individual importances of each dummy could underestimate the importance of the qualitative variable. This occurs because omitting a single category might not significantly impact performance as the remaining correlated categories can still provide the model with the necessary information. To address this issue, we need to assess the impact of including the entire categorical variable, not just the individual dummies. We can create a pipeline which first encodes the categorical variables into dummy variables, then trains the model on the encoded data. Finally, we can employ a model-agnostic feature importance technique on this entire pipeline to estimate the contribution of each variable, including the qualitative variable as a whole.\n",
    " \n",
    "Model-agnostic feature importance techniques are methods used to determine the importance of features in a model, regardless of the model type. These techniques work by assessing the impact of each feature on the model's predictions without relying on the internal workings of the model. One such technique is permutation feature importance, which randomly shuffles the values of variables and measures how much the fit of the prediction is decreased."
   ]
  },
  {
   "cell_type": "code",
   "execution_count": null,
   "metadata": {},
   "outputs": [],
   "source": [
    "categorical_columns = [col for col in predictors_2 if col.startswith(\"f_\")]\n",
    "numerical_columns = [col for col in predictors_2 if col not in categorical_columns]"
   ]
  },
  {
   "cell_type": "markdown",
   "metadata": {},
   "source": [
    "**Summing up individual importances of factors - first edition**"
   ]
  },
  {
   "cell_type": "code",
   "execution_count": null,
   "metadata": {},
   "outputs": [],
   "source": [
    "rf_model_2_var_imp_df_grouped = (\n",
    "    pd.DataFrame(\n",
    "        rf_model_2.best_estimator_.feature_importances_, X.design_info.column_names\n",
    "    )\n",
    "    .reset_index()\n",
    "    .rename({\"index\": \"varname\", 0: \"imp\"}, axis=1)\n",
    "    .assign(varname=lambda x: x[\"varname\"].str.split(\"[\").str[0])\n",
    "    .sort_values(by=[\"imp\"], ascending=False)\n",
    "    .groupby(\"varname\")[[\"imp\"]]\n",
    "    .sum()\n",
    "    .reset_index()\n",
    "    .assign(imp_percentage=lambda x: x[\"imp\"] / x[\"imp\"].sum())\n",
    "    .sort_values(by=[\"imp\"], ascending=False)\n",
    ")"
   ]
  },
  {
   "cell_type": "code",
   "execution_count": null,
   "metadata": {},
   "outputs": [],
   "source": [
    "\n",
    "\n",
    "top10 = rf_model_2_var_imp_df_grouped.head(10).sort_values('imp_percentage', ascending=True)\n",
    "fig, ax = plt.subplots(figsize=(8, 6))\n",
    "ax.hlines(y=top10['varname'], xmin=0, xmax=top10['imp_percentage'], color='C0', linewidth=2)\n",
    "ax.plot(top10['imp_percentage'], top10['varname'], 'o', color='C0', markersize=8)\n",
    "ax.set_xlabel('Importance (Percent)')\n",
    "ax.set_ylabel('Variable Name')\n",
    "ax.set_title('Top 10 most important variable - factor variables summed')\n",
    "ax.xaxis.set_major_formatter(plt.FuncFormatter(lambda x, _: '{:.0%}'.format(x)))\n",
    "plt.tight_layout()\n",
    "plt.show()\n"
   ]
  },
  {
   "cell_type": "markdown",
   "metadata": {},
   "source": [
    "**OneHotEncoding and training the RandomForest model in a pipeline and calculating permutation importance - second edition**"
   ]
  },
  {
   "cell_type": "code",
   "execution_count": null,
   "metadata": {},
   "outputs": [],
   "source": [
    "categorical_encoder = OneHotEncoder(handle_unknown=\"ignore\")\n",
    "\n",
    "preprocessing = ColumnTransformer(\n",
    "    [\n",
    "        (\"cat\", categorical_encoder, categorical_columns),\n",
    "        (\"num\", \"passthrough\", numerical_columns),\n",
    "    ]\n",
    ")\n",
    "\n",
    "rf_best_pipeline = Pipeline(\n",
    "    [\n",
    "        (\"preprocess\", preprocessing),\n",
    "        (\"regressor\", rf_model_2.best_estimator_),  # put best model to pipeline\n",
    "    ]\n",
    ")\n"
   ]
  },
  {
   "cell_type": "code",
   "execution_count": null,
   "metadata": {},
   "outputs": [],
   "source": [
    "rf_best_pipeline.fit(data_train[predictors_2], data_train.price)\n"
   ]
  },
  {
   "cell_type": "code",
   "execution_count": null,
   "metadata": {},
   "outputs": [],
   "source": [
    "# This takes a while\n",
    "result = permutation_importance(\n",
    "    rf_best_pipeline,\n",
    "    data_train[predictors_2],\n",
    "    data_train.price,\n",
    "    n_repeats=10,\n",
    "    random_state=45,\n",
    "    n_jobs=-1,\n",
    ")\n"
   ]
  },
  {
   "cell_type": "code",
   "execution_count": null,
   "metadata": {},
   "outputs": [],
   "source": [
    "grouped_imp = (\n",
    "    pd.DataFrame(result.importances_mean, data_train[predictors_2].columns)\n",
    "    .reset_index()\n",
    "    .rename({\"index\": \"varname\", 0: \"imp\"}, axis=1)\n",
    "    .assign(imp_percentage=lambda x: x[\"imp\"] / x[\"imp\"].sum())\n",
    "    .sort_values(by=[\"imp\"], ascending=False)\n",
    ")"
   ]
  },
  {
   "cell_type": "code",
   "execution_count": null,
   "metadata": {},
   "outputs": [],
   "source": [
    "(\n",
    "    ggplot(\n",
    "        grouped_imp.head(10),\n",
    "        aes(x=\"reorder(varname, imp)\", y=\"imp_percentage\"),\n",
    "    )\n",
    "    + geom_point(color=color[0], size=2.5)\n",
    "    + geom_segment(\n",
    "        aes(x=\"varname\", xend=\"varname\", y=0, yend=\"imp_percentage\"),\n",
    "        color=color[0],\n",
    "        size=2,\n",
    "    )\n",
    "    + ylab(\"Importance (Percent)\")\n",
    "    + xlab(\"Variable Name\")\n",
    "    + coord_flip()\n",
    "    + ggtitle(\"Top 10 most important variable calculated with permutation importance\")\n",
    "    + scale_y_continuous(labels=percent_format())\n",
    "    + theme_bw()\n",
    ")"
   ]
  },
  {
   "cell_type": "markdown",
   "metadata": {},
   "source": [
    "## Partial Dependence Plots \n",
    "-------------------------------------------------------\n"
   ]
  },
  {
   "cell_type": "code",
   "execution_count": null,
   "metadata": {},
   "outputs": [],
   "source": [
    "# Note: easy way, sklearn has plot_partial_dependence function\n",
    "# we do this on holdout set!\n",
    "plot_partial_dependence(\n",
    "    rf_best_pipeline,\n",
    "    data_holdout[predictors_2],\n",
    "    [\"n_accommodates\"],\n",
    "    feature_names=data_holdout[predictors_2].columns,\n",
    "    line_kw={\"marker\": \"o\", \"color\": color[0]},\n",
    ")\n",
    "plt.grid()\n",
    "plt.ylim(70, 130)\n",
    "plt.show()\n"
   ]
  },
  {
   "cell_type": "code",
   "execution_count": null,
   "metadata": {},
   "outputs": [],
   "source": [
    "# replicate the exact book figure with plotnine\n",
    "accom_pdp = partial_dependence(\n",
    "    rf_best_pipeline, data_holdout[predictors_2], [\"n_accommodates\"], kind=\"average\"\n",
    ")\n",
    "\n",
    "accom_pdp = (\n",
    "    pd.DataFrame(accom_pdp[\"average\"], columns=accom_pdp[\"values\"][0].tolist())\n",
    "    .T.reset_index()\n",
    "    .rename({0: \"Predicted price\", \"index\": \"Accomodates (person)\"}, axis=1)\n",
    ")\n",
    "\n",
    "(\n",
    "    ggplot(accom_pdp, aes(x=\"Accomodates (person)\", y=\"Predicted price\"))\n",
    "    + geom_point(color=color[0], size=2)\n",
    "    + geom_line(color=color[0], size=1)\n",
    "    + scale_y_continuous(limits=[70, 120], breaks=seq(70, 121, 10))\n",
    "    + scale_x_continuous(breaks=range(1, 8))\n",
    "    + theme_bw()\n",
    ")\n"
   ]
  },
  {
   "cell_type": "code",
   "execution_count": null,
   "metadata": {},
   "outputs": [],
   "source": [
    "roomtype_pdp = partial_dependence(\n",
    "    rf_best_pipeline, data_holdout[predictors_2], [\"f_room_type\"], kind=\"average\"\n",
    ")\n",
    "\n",
    "roomtype_pdp = (\n",
    "    pd.DataFrame(roomtype_pdp[\"average\"], columns=roomtype_pdp[\"values\"][0].tolist())\n",
    "    .T.reset_index()\n",
    "    .rename({0: \"Predicted price\", \"index\": \"Room type\"}, axis=1)\n",
    ")\n",
    "\n",
    "(\n",
    "    ggplot(roomtype_pdp, aes(x=\"Room type\", y=\"Predicted price\"))\n",
    "    + geom_point(color=color[0], size=2)\n",
    "    + scale_y_continuous(limits=[60, 120], breaks=seq(60, 121, 10))\n",
    "    + theme_bw()\n",
    ")\n"
   ]
  },
  {
   "cell_type": "markdown",
   "metadata": {},
   "source": [
    "### Subsample performance: RMSE / mean(y) \n",
    "---------------------------------------\n",
    "NOTE  we do this on the holdout set.\n"
   ]
  },
  {
   "cell_type": "code",
   "execution_count": null,
   "metadata": {},
   "outputs": [],
   "source": [
    "data_holdout_w_prediction = data_holdout.assign(\n",
    "    predicted_price=rf_best_pipeline.predict(data_holdout[predictors_2])\n",
    ")\n"
   ]
  },
  {
   "cell_type": "markdown",
   "metadata": {},
   "source": [
    "create nice summary table of heterogeneity"
   ]
  },
  {
   "cell_type": "code",
   "execution_count": null,
   "metadata": {},
   "outputs": [],
   "source": [
    "def calculate_rmse(groupby_obj):\n",
    "    return (\n",
    "        groupby_obj.apply(\n",
    "            lambda x: mean_squared_error(x.predicted_price, x.price, squared=False),\n",
    "        )\n",
    "        .to_frame(name=\"rmse\")\n",
    "        .assign(mean_price=groupby_obj.apply(lambda x: np.mean(x.price)).values)\n",
    "        .assign(rmse_norm=lambda x: x.rmse / x.mean_price)\n",
    "        .round(2)\n",
    "    )\n"
   ]
  },
  {
   "cell_type": "code",
   "execution_count": null,
   "metadata": {},
   "outputs": [],
   "source": [
    "# cheaper or more expensive flats - not used in book\n",
    "grouped_object = data_holdout_w_prediction.assign(\n",
    "    is_low_size=lambda x: np.where(x.n_accommodates <= 3, \"small apt\", \"large apt\")\n",
    ").groupby(\"is_low_size\")\n",
    "accom_subset = calculate_rmse(grouped_object)\n"
   ]
  },
  {
   "cell_type": "code",
   "execution_count": null,
   "metadata": {},
   "outputs": [],
   "source": [
    "grouped_object = data_holdout_w_prediction.loc[\n",
    "    lambda x: x.f_neighbourhood_cleansed.isin(\n",
    "        [\n",
    "            \"Westminster\",\n",
    "            \"Camden\",\n",
    "            \"Kensington and Chelsea\",\n",
    "            \"Tower Hamlets\",\n",
    "            \"Hackney\",\n",
    "            \"Newham\",\n",
    "        ]\n",
    "    )\n",
    "].groupby(\"f_neighbourhood_cleansed\")\n",
    "neightbourhood_subset = calculate_rmse(grouped_object)\n"
   ]
  },
  {
   "cell_type": "code",
   "execution_count": null,
   "metadata": {},
   "outputs": [],
   "source": [
    "grouped_object = data_holdout_w_prediction.loc[\n",
    "    lambda x: x.f_property_type.isin([\"Apartment\", \"House\"])\n",
    "].groupby(\"f_property_type\")\n",
    "proptype_subset = calculate_rmse(grouped_object)\n"
   ]
  },
  {
   "cell_type": "code",
   "execution_count": null,
   "metadata": {},
   "outputs": [],
   "source": [
    "all_holdout = (\n",
    "    pd.DataFrame(\n",
    "        [\n",
    "            mean_squared_error(\n",
    "                data_holdout_w_prediction.price,\n",
    "                data_holdout_w_prediction.predicted_price,\n",
    "                squared=False,\n",
    "            ),\n",
    "            data_holdout_w_prediction.price.mean(),\n",
    "        ],\n",
    "        index=[\"rmse\", \"mean_price\"],\n",
    "    )\n",
    "    .T.assign(rmse_norm=lambda x: x.rmse / x.mean_price)\n",
    "    .round(2)\n",
    ")\n",
    "all_holdout.index = [\"All\"]\n"
   ]
  },
  {
   "cell_type": "code",
   "execution_count": null,
   "metadata": {},
   "outputs": [],
   "source": [
    "type_rows = pd.DataFrame(\n",
    "    None,\n",
    "    index=[\"Apartment size\", \"Type\", \"Borough\"],\n",
    "    columns=[\"rmse\", \"mean_price\", \"rmse_norm\"],\n",
    ").fillna(\"\")\n"
   ]
  },
  {
   "cell_type": "markdown",
   "metadata": {},
   "source": [
    "### Table 16.2 Performance across subsamples"
   ]
  },
  {
   "cell_type": "code",
   "execution_count": null,
   "metadata": {},
   "outputs": [],
   "source": [
    "pd.concat(\n",
    "    [\n",
    "        type_rows.iloc[[0]],\n",
    "        accom_subset,\n",
    "        type_rows.iloc[[1]],\n",
    "        proptype_subset,\n",
    "        type_rows.iloc[[2]],\n",
    "        neightbourhood_subset,\n",
    "        all_holdout,\n",
    "    ]\n",
    ")\n"
   ]
  },
  {
   "cell_type": "markdown",
   "metadata": {},
   "source": [
    "## PART IV\n",
    "### HORSERACE: compare with other models \n",
    "-----------------------------------------------"
   ]
  },
  {
   "cell_type": "markdown",
   "metadata": {},
   "source": [
    "1. OLS with dummies for area\n",
    "\n",
    " using model B"
   ]
  },
  {
   "cell_type": "code",
   "execution_count": null,
   "metadata": {},
   "outputs": [],
   "source": [
    "from sklearn.linear_model import LinearRegression\n",
    "from sklearn.metrics import mean_squared_error\n"
   ]
  },
  {
   "cell_type": "code",
   "execution_count": null,
   "metadata": {},
   "outputs": [],
   "source": [
    "y, X = dmatrices(\"price ~ \" + \" + \".join(predictors_2), data_train)\n",
    "\n",
    "ols_model = LinearRegression().fit(X, y)\n",
    "\n",
    "# y_test, X_test = dmatrices(\"price ~ \" + \" + \".join(predictors_2), data_holdout)\n",
    "\n",
    "y_hat = ols_model.predict(X)\n",
    "\n",
    "ols_rmse = mean_squared_error(y, y_hat, squared=False)\n",
    "ols_rmse\n"
   ]
  },
  {
   "cell_type": "code",
   "execution_count": null,
   "metadata": {},
   "outputs": [],
   "source": [
    "ols_model_coeffs_df = pd.DataFrame(\n",
    "    ols_model.coef_.tolist()[0],\n",
    "    index=X.design_info.column_names,\n",
    "    columns=[\"ols_coefficient\"],\n",
    ").assign(ols_coefficient=lambda x: x.ols_coefficient.round(3))\n"
   ]
  },
  {
   "cell_type": "code",
   "execution_count": null,
   "metadata": {},
   "outputs": [],
   "source": [
    "ols_model_coeffs_df\n"
   ]
  },
  {
   "cell_type": "markdown",
   "metadata": {},
   "source": [
    "2.  LASSO\n",
    "\n",
    "using extended model w interactions"
   ]
  },
  {
   "cell_type": "code",
   "execution_count": null,
   "metadata": {},
   "outputs": [],
   "source": [
    "from sklearn.linear_model import ElasticNet\n"
   ]
  },
  {
   "cell_type": "markdown",
   "metadata": {},
   "source": [
    "The parameter l1_ratio corresponds to alpha in the glmnet R package while alpha corresponds to the lambda parameter in glmnet. Specifically, l1_ratio = 1 is the lasso penalty. Currently, l1_ratio <= 0.01 is not reliable, unless you supply your own sequence of alpha.\n",
    "\n",
    "https://scikit-learn.org/stable/modules/generated/sklearn.linear_model.ElasticNet.html"
   ]
  },
  {
   "cell_type": "code",
   "execution_count": null,
   "metadata": {},
   "outputs": [],
   "source": [
    "lasso_model = ElasticNet(l1_ratio=1, normalize=True, fit_intercept=True)\n"
   ]
  },
  {
   "cell_type": "code",
   "execution_count": null,
   "metadata": {},
   "outputs": [],
   "source": [
    "lasso_model_cv = GridSearchCV(\n",
    "    lasso_model,\n",
    "    {\"alpha\": [i / 100 for i in range(1, 26, 1)]},\n",
    "    cv=5,\n",
    "    scoring=\"neg_root_mean_squared_error\",\n",
    "    verbose=3,\n",
    ")\n"
   ]
  },
  {
   "cell_type": "code",
   "execution_count": null,
   "metadata": {},
   "outputs": [],
   "source": [
    "y, X = dmatrices(\"price ~ \" + \" + \".join(predictors_E), data_train)\n"
   ]
  },
  {
   "cell_type": "code",
   "execution_count": null,
   "metadata": {},
   "outputs": [],
   "source": [
    "lasso_model_cv.fit(X, y.ravel())\n"
   ]
  },
  {
   "cell_type": "code",
   "execution_count": null,
   "metadata": {},
   "outputs": [],
   "source": [
    "pd.DataFrame(\n",
    "    lasso_model_cv.best_estimator_.coef_.tolist(),\n",
    "    index=X.design_info.column_names,\n",
    "    columns=[\"lasso_coefficient\"],\n",
    ").assign(lasso_coefficient=lambda x: x.lasso_coefficient.round(3)).loc[\n",
    "    lambda x: x.lasso_coefficient != 0\n",
    "]\n"
   ]
  },
  {
   "cell_type": "code",
   "execution_count": null,
   "metadata": {
    "scrolled": true
   },
   "outputs": [],
   "source": [
    "lasso_rmse = (\n",
    "    pd.DataFrame(lasso_model_cv.cv_results_)\n",
    "    .loc[lambda x: x.param_alpha == lasso_model_cv.best_estimator_.alpha]\n",
    "    .mean_test_score.values[0]\n",
    "    * -1\n",
    ")\n",
    "lasso_rmse\n"
   ]
  },
  {
   "cell_type": "markdown",
   "metadata": {},
   "source": [
    "3. CART model"
   ]
  },
  {
   "cell_type": "code",
   "execution_count": null,
   "metadata": {},
   "outputs": [],
   "source": [
    "from sklearn.tree import DecisionTreeClassifier\n"
   ]
  },
  {
   "cell_type": "code",
   "execution_count": null,
   "metadata": {},
   "outputs": [],
   "source": [
    "y, X = dmatrices(\"price ~ \" + \" + \".join(predictors_2), data_train)\n"
   ]
  },
  {
   "cell_type": "code",
   "execution_count": null,
   "metadata": {},
   "outputs": [],
   "source": [
    "cart_model = DecisionTreeClassifier(random_state=2018, criterion=\"gini\")\n"
   ]
  },
  {
   "cell_type": "code",
   "execution_count": null,
   "metadata": {},
   "outputs": [],
   "source": [
    "# Get potential ccp_alpha parameters\n",
    "\n",
    "path = cart_model.cost_complexity_pruning_path(X, y.ravel())\n",
    "ccp_alphas, impurities = path.ccp_alphas, path.impurities\n"
   ]
  },
  {
   "cell_type": "code",
   "execution_count": null,
   "metadata": {},
   "outputs": [],
   "source": [
    "# apply random search to select a \"best\" alpha\n",
    "# RandomizedSearchCV does not calculate all potential alphas, just a random subset\n",
    "\n",
    "cart_model_cv = RandomizedSearchCV(\n",
    "    cart_model,\n",
    "    {\"ccp_alpha\": ccp_alphas},\n",
    "    cv=5,\n",
    "    scoring=\"neg_root_mean_squared_error\",\n",
    "    verbose=3,\n",
    ")\n",
    "\n",
    "\n",
    "cart_model_cv.fit(X, y.ravel())\n"
   ]
  },
  {
   "cell_type": "code",
   "execution_count": null,
   "metadata": {},
   "outputs": [],
   "source": [
    "cart_rmse = (\n",
    "    pd.DataFrame(cart_model_cv.cv_results_)\n",
    "    .loc[lambda x: x.param_ccp_alpha == cart_model_cv.best_estimator_.ccp_alpha]\n",
    "    .mean_test_score.values[0]\n",
    "    * -1\n",
    ")\n",
    "cart_rmse\n"
   ]
  },
  {
   "cell_type": "markdown",
   "metadata": {},
   "source": [
    "4. GBM\n",
    "\n",
    "**NOTE:** These models run for a **very long time** -- needs further investigations."
   ]
  },
  {
   "cell_type": "code",
   "execution_count": null,
   "metadata": {},
   "outputs": [],
   "source": [
    "from sklearn.ensemble import GradientBoostingRegressor\n"
   ]
  },
  {
   "cell_type": "code",
   "execution_count": null,
   "metadata": {},
   "outputs": [],
   "source": [
    "gbm = GradientBoostingRegressor(learning_rate=0.1, min_samples_split=20)\n",
    "\n",
    "tune_grid = {\"n_estimators\": [i for i in range(200, 500, 50)], \"max_depth\": [1, 5, 10]}\n",
    "\n",
    "gbm_model_cv = GridSearchCV(\n",
    "    gbm, tune_grid, cv=5, scoring=\"neg_root_mean_squared_error\", verbose=10, n_jobs=-1\n",
    ")\n"
   ]
  },
  {
   "cell_type": "code",
   "execution_count": null,
   "metadata": {},
   "outputs": [],
   "source": [
    "categorical_columns = [col for col in predictors_2 if col.startswith(\"f_\")]\n",
    "numerical_columns = [col for col in predictors_2 if col not in categorical_columns]\n",
    "\n",
    "categorical_encoder = OneHotEncoder(handle_unknown=\"ignore\")\n",
    "\n",
    "preprocessing = ColumnTransformer(\n",
    "    [\n",
    "        (\"cat\", categorical_encoder, categorical_columns),\n",
    "        (\"num\", \"passthrough\", numerical_columns),\n",
    "    ]\n",
    ")\n",
    "\n",
    "gbm_pipe = Pipeline(\n",
    "    [(\"preprocess\", preprocessing), (\"regressor\", gbm_model_cv)], verbose=True\n",
    ")\n"
   ]
  },
  {
   "cell_type": "code",
   "execution_count": null,
   "metadata": {},
   "outputs": [],
   "source": [
    "gbm_pipe.fit(data_train[predictors_2], data_train.price)\n"
   ]
  },
  {
   "cell_type": "code",
   "execution_count": null,
   "metadata": {},
   "outputs": [],
   "source": [
    "gbm_rmse = gbm_pipe.steps[-1][1].best_score_ * -1"
   ]
  },
  {
   "cell_type": "markdown",
   "metadata": {},
   "source": [
    "the next will be in final model, loads of tuning"
   ]
  },
  {
   "cell_type": "code",
   "execution_count": null,
   "metadata": {},
   "outputs": [],
   "source": [
    "gbm_broad = GradientBoostingRegressor()\n"
   ]
  },
  {
   "cell_type": "code",
   "execution_count": null,
   "metadata": {},
   "outputs": [],
   "source": [
    "tune_grid = {\n",
    "    \"n_estimators\": [i for i in range(50, 500, 50)],\n",
    "    \"max_depth\": [1, 5, 10],\n",
    "    \"learning_rate\": [0.02, 0.05, 0.1, 0.15, 0.2],\n",
    "    \"min_samples_split\": [5, 10, 20, 30],\n",
    "}\n",
    "\n",
    "gbm_model_cv_broad = GridSearchCV(\n",
    "    gbm_broad,\n",
    "    tune_grid,\n",
    "    cv=5,\n",
    "    scoring=\"neg_root_mean_squared_error\",\n",
    "    verbose=10,\n",
    ")\n"
   ]
  },
  {
   "cell_type": "code",
   "execution_count": null,
   "metadata": {},
   "outputs": [],
   "source": [
    "categorical_columns = [col for col in predictors_2 if col.startswith(\"f_\")]\n",
    "numerical_columns = [col for col in predictors_2 if col not in categorical_columns]\n",
    "\n",
    "categorical_encoder = OneHotEncoder(handle_unknown=\"ignore\")\n",
    "\n",
    "preprocessing = ColumnTransformer(\n",
    "    [\n",
    "        (\"cat\", categorical_encoder, categorical_columns),\n",
    "        (\"num\", \"passthrough\", numerical_columns),\n",
    "    ]\n",
    ")\n",
    "\n",
    "gbm_pipe_broad = Pipeline(\n",
    "    [(\"preprocess\", preprocessing), (\"regressor\", gbm_model_cv_broad)], verbose=True\n",
    ")\n"
   ]
  },
  {
   "cell_type": "code",
   "execution_count": null,
   "metadata": {},
   "outputs": [],
   "source": [
    "gbm_pipe_broad.fit(data_train[predictors_2], data_train.price)\n"
   ]
  },
  {
   "cell_type": "code",
   "execution_count": null,
   "metadata": {},
   "outputs": [],
   "source": [
    "gbm_broad_rmse = gbm_pipe_broad.steps[-1][1].best_score_ * -1"
   ]
  },
  {
   "cell_type": "markdown",
   "metadata": {},
   "source": [
    "### Table 16.3 Predictive performance of different models"
   ]
  },
  {
   "cell_type": "code",
   "execution_count": null,
   "metadata": {},
   "outputs": [],
   "source": [
    "pd.DataFrame(\n",
    "    {\n",
    "        \"Model\": [\n",
    "            \"Linear regression (OLS)\",\n",
    "            \"Linear regression (LASSO)\",\n",
    "            \"Regression Tree (CART)\",\n",
    "            \"Random forest (basic tuning)\",\n",
    "            \"Random forest (autotuned)\",\n",
    "            \"GBM (basic tuning)\",\n",
    "            \"GBM (broad tuning)\",\n",
    "        ],\n",
    "        \"RMSE\": [\n",
    "            ols_rmse,\n",
    "            lasso_rmse,\n",
    "            cart_rmse,\n",
    "            rf_model_1_rmse,\n",
    "            rf_model_2_rmse,\n",
    "            gbm_rmse,\n",
    "            gbm_broad_rmse,\n",
    "        ],\n",
    "    }\n",
    ").round(1)"
   ]
  },
  {
   "cell_type": "code",
   "execution_count": null,
   "metadata": {},
   "outputs": [],
   "source": []
  }
 ],
 "metadata": {
  "kernelspec": {
   "display_name": "Python 3",
   "language": "python",
   "name": "python3"
  },
  "language_info": {
   "codemirror_mode": {
    "name": "ipython",
    "version": 3
   },
   "file_extension": ".py",
   "mimetype": "text/x-python",
   "name": "python",
   "nbconvert_exporter": "python",
   "pygments_lexer": "ipython3",
   "version": "3.12.1"
  }
 },
 "nbformat": 4,
 "nbformat_minor": 4
}
