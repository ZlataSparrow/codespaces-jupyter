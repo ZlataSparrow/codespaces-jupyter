{
 "cells": [
  {
   "cell_type": "markdown",
   "metadata": {},
   "source": [
    "#### Prepared for Gabor's Data Analysis\n",
    "\n",
    "### Data Analysis for Business, Economics, and Policy\n",
    "by Gabor Bekes and Gabor Kezdi\n",
    " \n",
    "Cambridge University Press 2021\n",
    "\n",
    "**[gabors-data-analysis.com ](https://gabors-data-analysis.com/)**\n",
    "\n",
    " License: Free to share, modify and use for educational purposes. \n",
    " Not to be used for commercial purposes.\n",
    "\n",
    "### Chapter 16\n",
    "**CH16A Predicting apartment prices with random forest**\n",
    "\n",
    "using the airbnb dataset\n",
    "\n",
    "version 0.92 2021-07-05"
   ]
  },
  {
   "cell_type": "code",
   "execution_count": 1,
   "metadata": {},
   "outputs": [],
   "source": [
    "import os\n",
    "import sys\n",
    "import warnings\n",
    "from pathlib import Path\n",
    "\n",
    "import matplotlib.pyplot as plt\n",
    "import numpy as np\n",
    "import pandas as pd\n",
    "from mizani.formatters import percent_format\n",
    "from patsy import dmatrices\n",
    "from plotnine import *\n",
    "from sklearn.compose import ColumnTransformer\n",
    "from sklearn.ensemble import RandomForestRegressor\n",
    "from sklearn.inspection import (\n",
    "    partial_dependence,\n",
    "    permutation_importance\n",
    ")\n",
    "from sklearn.metrics import mean_squared_error\n",
    "from sklearn.model_selection import GridSearchCV, RandomizedSearchCV, train_test_split\n",
    "from sklearn.pipeline import Pipeline\n",
    "from sklearn.preprocessing import OneHotEncoder\n"
   ]
  },
  {
   "cell_type": "markdown",
   "metadata": {},
   "source": [
    "## PART I\n",
    "### Loading and preparing data \n",
    "----------------------------------------------"
   ]
  },
  {
   "cell_type": "code",
   "execution_count": 2,
   "metadata": {},
   "outputs": [],
   "source": [
    "# !!! make sure you have run ch16-airbnb-prepare-london.ipynb before\n",
    "area = \"london\"\n",
    "data = pd.read_csv(\"/workspaces/codespaces-jupyter/notebooks/airbnb_london_workfile_adj.csv\")\n",
    "data = data.loc[data.price.notna(), :]\n"
   ]
  },
  {
   "cell_type": "code",
   "execution_count": 3,
   "metadata": {},
   "outputs": [],
   "source": [
    "def count_missing_values(df):\n",
    "    return df.isna().sum()[df.isna().sum() > 0]"
   ]
  },
  {
   "cell_type": "code",
   "execution_count": 4,
   "metadata": {},
   "outputs": [
    {
     "data": {
      "text/plain": [
       "Series([], dtype: int64)"
      ]
     },
     "execution_count": 4,
     "metadata": {},
     "output_type": "execute_result"
    }
   ],
   "source": [
    "count_missing_values(data)"
   ]
  },
  {
   "cell_type": "code",
   "execution_count": 5,
   "metadata": {},
   "outputs": [
    {
     "data": {
      "text/plain": [
       "np.False_"
      ]
     },
     "execution_count": 5,
     "metadata": {},
     "output_type": "execute_result"
    }
   ],
   "source": [
    "# OR \n",
    "\n",
    "data.isna().any().any()"
   ]
  },
  {
   "cell_type": "code",
   "execution_count": 6,
   "metadata": {},
   "outputs": [],
   "source": [
    "# Sample definition and preparation ---------------------------------------\n",
    "\n",
    "# We focus on normal apartments, n<8\n",
    "data = data.loc[lambda x: x[\"n_accommodates\"] < 8]\n"
   ]
  },
  {
   "cell_type": "code",
   "execution_count": 7,
   "metadata": {},
   "outputs": [],
   "source": [
    "# copy a variable - purpose later, see at variable importance\n",
    "data = data.assign(n_accommodates_copy=data.n_accommodates)"
   ]
  },
  {
   "cell_type": "code",
   "execution_count": 8,
   "metadata": {},
   "outputs": [
    {
     "data": {
      "text/html": [
       "<div>\n",
       "<style scoped>\n",
       "    .dataframe tbody tr th:only-of-type {\n",
       "        vertical-align: middle;\n",
       "    }\n",
       "\n",
       "    .dataframe tbody tr th {\n",
       "        vertical-align: top;\n",
       "    }\n",
       "\n",
       "    .dataframe thead th {\n",
       "        text-align: right;\n",
       "    }\n",
       "</style>\n",
       "<table border=\"1\" class=\"dataframe\">\n",
       "  <thead>\n",
       "    <tr style=\"text-align: right;\">\n",
       "      <th></th>\n",
       "      <th>usd_price_day</th>\n",
       "      <th>n_accommodates</th>\n",
       "      <th>n_bathrooms</th>\n",
       "      <th>n_review_scores_rating</th>\n",
       "      <th>n_number_of_reviews</th>\n",
       "      <th>n_guests_included</th>\n",
       "      <th>n_reviews_per_month</th>\n",
       "      <th>n_extra_people</th>\n",
       "      <th>n_minimum_nights</th>\n",
       "      <th>n_beds</th>\n",
       "      <th>...</th>\n",
       "      <th>flag_review_scores_rating</th>\n",
       "      <th>flag_reviews_per_month</th>\n",
       "      <th>flag_n_number_of_reviews</th>\n",
       "      <th>ln_days_since</th>\n",
       "      <th>ln_days_since2</th>\n",
       "      <th>ln_days_since3</th>\n",
       "      <th>n_days_since2</th>\n",
       "      <th>n_days_since3</th>\n",
       "      <th>ln_review_scores_rating</th>\n",
       "      <th>n_accommodates_copy</th>\n",
       "    </tr>\n",
       "  </thead>\n",
       "  <tbody>\n",
       "    <tr>\n",
       "      <th>count</th>\n",
       "      <td>49826.000000</td>\n",
       "      <td>49826.000000</td>\n",
       "      <td>49826.000000</td>\n",
       "      <td>49826.000000</td>\n",
       "      <td>49826.000000</td>\n",
       "      <td>49826.000000</td>\n",
       "      <td>49826.000000</td>\n",
       "      <td>49826.00000</td>\n",
       "      <td>49826.000000</td>\n",
       "      <td>49826.000000</td>\n",
       "      <td>...</td>\n",
       "      <td>49826.000000</td>\n",
       "      <td>49826.000000</td>\n",
       "      <td>49826.0</td>\n",
       "      <td>49826.000000</td>\n",
       "      <td>49826.000000</td>\n",
       "      <td>49826.000000</td>\n",
       "      <td>4.982600e+04</td>\n",
       "      <td>4.982600e+04</td>\n",
       "      <td>49826.000000</td>\n",
       "      <td>49826.000000</td>\n",
       "    </tr>\n",
       "    <tr>\n",
       "      <th>mean</th>\n",
       "      <td>88.984044</td>\n",
       "      <td>2.838759</td>\n",
       "      <td>1.224260</td>\n",
       "      <td>92.458616</td>\n",
       "      <td>12.340144</td>\n",
       "      <td>1.356180</td>\n",
       "      <td>1.138253</td>\n",
       "      <td>6.50873</td>\n",
       "      <td>3.300947</td>\n",
       "      <td>1.585959</td>\n",
       "      <td>...</td>\n",
       "      <td>0.318850</td>\n",
       "      <td>0.303998</td>\n",
       "      <td>0.0</td>\n",
       "      <td>5.713297</td>\n",
       "      <td>33.456371</td>\n",
       "      <td>199.607207</td>\n",
       "      <td>2.931985e+05</td>\n",
       "      <td>3.046539e+08</td>\n",
       "      <td>4.520910</td>\n",
       "      <td>2.838759</td>\n",
       "    </tr>\n",
       "    <tr>\n",
       "      <th>std</th>\n",
       "      <td>70.515089</td>\n",
       "      <td>1.494748</td>\n",
       "      <td>0.466448</td>\n",
       "      <td>8.418474</td>\n",
       "      <td>25.889935</td>\n",
       "      <td>0.879263</td>\n",
       "      <td>1.238156</td>\n",
       "      <td>12.31549</td>\n",
       "      <td>29.578062</td>\n",
       "      <td>0.927501</td>\n",
       "      <td>...</td>\n",
       "      <td>0.466035</td>\n",
       "      <td>0.459986</td>\n",
       "      <td>0.0</td>\n",
       "      <td>0.902564</td>\n",
       "      <td>9.506988</td>\n",
       "      <td>80.264045</td>\n",
       "      <td>5.640361e+05</td>\n",
       "      <td>9.636140e+08</td>\n",
       "      <td>0.120421</td>\n",
       "      <td>1.494748</td>\n",
       "    </tr>\n",
       "    <tr>\n",
       "      <th>min</th>\n",
       "      <td>8.000000</td>\n",
       "      <td>1.000000</td>\n",
       "      <td>0.000000</td>\n",
       "      <td>20.000000</td>\n",
       "      <td>0.000000</td>\n",
       "      <td>1.000000</td>\n",
       "      <td>0.010000</td>\n",
       "      <td>0.00000</td>\n",
       "      <td>1.000000</td>\n",
       "      <td>0.000000</td>\n",
       "      <td>...</td>\n",
       "      <td>0.000000</td>\n",
       "      <td>0.000000</td>\n",
       "      <td>0.0</td>\n",
       "      <td>0.000000</td>\n",
       "      <td>0.000000</td>\n",
       "      <td>0.000000</td>\n",
       "      <td>0.000000e+00</td>\n",
       "      <td>0.000000e+00</td>\n",
       "      <td>2.995732</td>\n",
       "      <td>1.000000</td>\n",
       "    </tr>\n",
       "    <tr>\n",
       "      <th>25%</th>\n",
       "      <td>41.000000</td>\n",
       "      <td>2.000000</td>\n",
       "      <td>1.000000</td>\n",
       "      <td>92.000000</td>\n",
       "      <td>0.000000</td>\n",
       "      <td>1.000000</td>\n",
       "      <td>0.470000</td>\n",
       "      <td>0.00000</td>\n",
       "      <td>1.000000</td>\n",
       "      <td>1.000000</td>\n",
       "      <td>...</td>\n",
       "      <td>0.000000</td>\n",
       "      <td>0.000000</td>\n",
       "      <td>0.0</td>\n",
       "      <td>5.433722</td>\n",
       "      <td>29.525335</td>\n",
       "      <td>160.432461</td>\n",
       "      <td>5.198400e+04</td>\n",
       "      <td>1.185235e+07</td>\n",
       "      <td>4.521789</td>\n",
       "      <td>2.000000</td>\n",
       "    </tr>\n",
       "    <tr>\n",
       "      <th>50%</th>\n",
       "      <td>70.000000</td>\n",
       "      <td>2.000000</td>\n",
       "      <td>1.000000</td>\n",
       "      <td>94.000000</td>\n",
       "      <td>3.000000</td>\n",
       "      <td>1.000000</td>\n",
       "      <td>0.770000</td>\n",
       "      <td>0.00000</td>\n",
       "      <td>2.000000</td>\n",
       "      <td>1.000000</td>\n",
       "      <td>...</td>\n",
       "      <td>0.000000</td>\n",
       "      <td>0.000000</td>\n",
       "      <td>0.0</td>\n",
       "      <td>5.793014</td>\n",
       "      <td>33.559007</td>\n",
       "      <td>194.407782</td>\n",
       "      <td>1.069290e+05</td>\n",
       "      <td>3.496578e+07</td>\n",
       "      <td>4.543295</td>\n",
       "      <td>2.000000</td>\n",
       "    </tr>\n",
       "    <tr>\n",
       "      <th>75%</th>\n",
       "      <td>110.000000</td>\n",
       "      <td>4.000000</td>\n",
       "      <td>1.000000</td>\n",
       "      <td>97.000000</td>\n",
       "      <td>12.000000</td>\n",
       "      <td>1.000000</td>\n",
       "      <td>1.170000</td>\n",
       "      <td>10.00000</td>\n",
       "      <td>3.000000</td>\n",
       "      <td>2.000000</td>\n",
       "      <td>...</td>\n",
       "      <td>1.000000</td>\n",
       "      <td>1.000000</td>\n",
       "      <td>0.0</td>\n",
       "      <td>6.224558</td>\n",
       "      <td>38.745128</td>\n",
       "      <td>241.171311</td>\n",
       "      <td>2.540160e+05</td>\n",
       "      <td>1.280241e+08</td>\n",
       "      <td>4.574711</td>\n",
       "      <td>4.000000</td>\n",
       "    </tr>\n",
       "    <tr>\n",
       "      <th>max</th>\n",
       "      <td>999.000000</td>\n",
       "      <td>7.000000</td>\n",
       "      <td>8.000000</td>\n",
       "      <td>100.000000</td>\n",
       "      <td>396.000000</td>\n",
       "      <td>16.000000</td>\n",
       "      <td>15.000000</td>\n",
       "      <td>240.00000</td>\n",
       "      <td>5000.000000</td>\n",
       "      <td>16.000000</td>\n",
       "      <td>...</td>\n",
       "      <td>1.000000</td>\n",
       "      <td>1.000000</td>\n",
       "      <td>0.0</td>\n",
       "      <td>7.909489</td>\n",
       "      <td>62.560024</td>\n",
       "      <td>494.817853</td>\n",
       "      <td>7.409284e+06</td>\n",
       "      <td>2.016807e+10</td>\n",
       "      <td>4.605170</td>\n",
       "      <td>7.000000</td>\n",
       "    </tr>\n",
       "  </tbody>\n",
       "</table>\n",
       "<p>8 rows × 79 columns</p>\n",
       "</div>"
      ],
      "text/plain": [
       "       usd_price_day  n_accommodates   n_bathrooms  n_review_scores_rating  \\\n",
       "count   49826.000000    49826.000000  49826.000000            49826.000000   \n",
       "mean       88.984044        2.838759      1.224260               92.458616   \n",
       "std        70.515089        1.494748      0.466448                8.418474   \n",
       "min         8.000000        1.000000      0.000000               20.000000   \n",
       "25%        41.000000        2.000000      1.000000               92.000000   \n",
       "50%        70.000000        2.000000      1.000000               94.000000   \n",
       "75%       110.000000        4.000000      1.000000               97.000000   \n",
       "max       999.000000        7.000000      8.000000              100.000000   \n",
       "\n",
       "       n_number_of_reviews  n_guests_included  n_reviews_per_month  \\\n",
       "count         49826.000000       49826.000000         49826.000000   \n",
       "mean             12.340144           1.356180             1.138253   \n",
       "std              25.889935           0.879263             1.238156   \n",
       "min               0.000000           1.000000             0.010000   \n",
       "25%               0.000000           1.000000             0.470000   \n",
       "50%               3.000000           1.000000             0.770000   \n",
       "75%              12.000000           1.000000             1.170000   \n",
       "max             396.000000          16.000000            15.000000   \n",
       "\n",
       "       n_extra_people  n_minimum_nights        n_beds  ...  \\\n",
       "count     49826.00000      49826.000000  49826.000000  ...   \n",
       "mean          6.50873          3.300947      1.585959  ...   \n",
       "std          12.31549         29.578062      0.927501  ...   \n",
       "min           0.00000          1.000000      0.000000  ...   \n",
       "25%           0.00000          1.000000      1.000000  ...   \n",
       "50%           0.00000          2.000000      1.000000  ...   \n",
       "75%          10.00000          3.000000      2.000000  ...   \n",
       "max         240.00000       5000.000000     16.000000  ...   \n",
       "\n",
       "       flag_review_scores_rating  flag_reviews_per_month  \\\n",
       "count               49826.000000            49826.000000   \n",
       "mean                    0.318850                0.303998   \n",
       "std                     0.466035                0.459986   \n",
       "min                     0.000000                0.000000   \n",
       "25%                     0.000000                0.000000   \n",
       "50%                     0.000000                0.000000   \n",
       "75%                     1.000000                1.000000   \n",
       "max                     1.000000                1.000000   \n",
       "\n",
       "       flag_n_number_of_reviews  ln_days_since  ln_days_since2  \\\n",
       "count                   49826.0   49826.000000    49826.000000   \n",
       "mean                        0.0       5.713297       33.456371   \n",
       "std                         0.0       0.902564        9.506988   \n",
       "min                         0.0       0.000000        0.000000   \n",
       "25%                         0.0       5.433722       29.525335   \n",
       "50%                         0.0       5.793014       33.559007   \n",
       "75%                         0.0       6.224558       38.745128   \n",
       "max                         0.0       7.909489       62.560024   \n",
       "\n",
       "       ln_days_since3  n_days_since2  n_days_since3  ln_review_scores_rating  \\\n",
       "count    49826.000000   4.982600e+04   4.982600e+04             49826.000000   \n",
       "mean       199.607207   2.931985e+05   3.046539e+08                 4.520910   \n",
       "std         80.264045   5.640361e+05   9.636140e+08                 0.120421   \n",
       "min          0.000000   0.000000e+00   0.000000e+00                 2.995732   \n",
       "25%        160.432461   5.198400e+04   1.185235e+07                 4.521789   \n",
       "50%        194.407782   1.069290e+05   3.496578e+07                 4.543295   \n",
       "75%        241.171311   2.540160e+05   1.280241e+08                 4.574711   \n",
       "max        494.817853   7.409284e+06   2.016807e+10                 4.605170   \n",
       "\n",
       "       n_accommodates_copy  \n",
       "count         49826.000000  \n",
       "mean              2.838759  \n",
       "std               1.494748  \n",
       "min               1.000000  \n",
       "25%               2.000000  \n",
       "50%               2.000000  \n",
       "75%               4.000000  \n",
       "max               7.000000  \n",
       "\n",
       "[8 rows x 79 columns]"
      ]
     },
     "execution_count": 8,
     "metadata": {},
     "output_type": "execute_result"
    }
   ],
   "source": [
    "# basic descr stat -------------------------------------------\n",
    "data.describe()"
   ]
  },
  {
   "cell_type": "code",
   "execution_count": 9,
   "metadata": {},
   "outputs": [
    {
     "data": {
      "text/plain": [
       "count    49826.000000\n",
       "mean        88.984044\n",
       "std         70.515089\n",
       "min          8.000000\n",
       "25%         41.000000\n",
       "50%         70.000000\n",
       "75%        110.000000\n",
       "max        999.000000\n",
       "Name: price, dtype: float64"
      ]
     },
     "execution_count": 9,
     "metadata": {},
     "output_type": "execute_result"
    }
   ],
   "source": [
    "data.price.describe()"
   ]
  },
  {
   "cell_type": "code",
   "execution_count": 10,
   "metadata": {},
   "outputs": [
    {
     "data": {
      "text/plain": [
       "f_room_type\n",
       "Entire home/apt    24938\n",
       "Private room       24351\n",
       "Shared room          537\n",
       "Name: count, dtype: int64"
      ]
     },
     "execution_count": 10,
     "metadata": {},
     "output_type": "execute_result"
    }
   ],
   "source": [
    "data.f_room_type.value_counts()"
   ]
  },
  {
   "cell_type": "code",
   "execution_count": 11,
   "metadata": {},
   "outputs": [
    {
     "data": {
      "text/plain": [
       "f_property_type\n",
       "Apartment    37467\n",
       "House        12359\n",
       "Name: count, dtype: int64"
      ]
     },
     "execution_count": 11,
     "metadata": {},
     "output_type": "execute_result"
    }
   ],
   "source": [
    "data.f_property_type.value_counts()"
   ]
  },
  {
   "cell_type": "code",
   "execution_count": 12,
   "metadata": {},
   "outputs": [
    {
     "data": {
      "text/plain": [
       "f_number_of_reviews\n",
       "[1.0, 51.0)      31575\n",
       "[0.0, 1.0)       15147\n",
       "[51.0, 396.0)     3103\n",
       "1                    1\n",
       "Name: count, dtype: int64"
      ]
     },
     "execution_count": 12,
     "metadata": {},
     "output_type": "execute_result"
    }
   ],
   "source": [
    "data.f_number_of_reviews.value_counts()"
   ]
  },
  {
   "cell_type": "code",
   "execution_count": 13,
   "metadata": {},
   "outputs": [],
   "source": [
    "# create train and holdout samples -------------------------------------------\n",
    "# train is where we do it all, incl CV\n",
    "\n",
    "# First pick a smaller than usual training set so that models run faster and check if works\n",
    "# If works, start anew without these two lines\n"
   ]
  },
  {
   "cell_type": "code",
   "execution_count": 14,
   "metadata": {},
   "outputs": [],
   "source": [
    "data_train, data_holdout = train_test_split(data, train_size=0.7, random_state=42)"
   ]
  },
  {
   "cell_type": "code",
   "execution_count": 15,
   "metadata": {},
   "outputs": [
    {
     "data": {
      "text/plain": [
       "((34878, 92), (14948, 92))"
      ]
     },
     "execution_count": 15,
     "metadata": {},
     "output_type": "execute_result"
    }
   ],
   "source": [
    "data_train.shape, data_holdout.shape"
   ]
  },
  {
   "cell_type": "code",
   "execution_count": 16,
   "metadata": {},
   "outputs": [],
   "source": [
    "# Basic Variables inc neighnourhood\n",
    "basic_vars = [\n",
    "    \"n_accommodates\",\n",
    "    \"n_beds\",\n",
    "    \"n_days_since\",\n",
    "    \"f_property_type\",\n",
    "    \"f_room_type\",\n",
    "    \"f_bathroom\",\n",
    "    \"f_cancellation_policy\",\n",
    "    \"f_bed_type\",\n",
    "    \"f_neighbourhood_cleansed\",\n",
    "]\n",
    "\n",
    "# reviews\n",
    "reviews = [\n",
    "    \"n_number_of_reviews\",\n",
    "    \"flag_n_number_of_reviews\",\n",
    "    \"n_review_scores_rating\",\n",
    "    \"flag_review_scores_rating\",\n",
    "]\n",
    "\n",
    "# Dummy variables\n",
    "amenities = [col for col in data if col.startswith(\"d_\")]\n",
    "\n",
    "# interactions for the LASSO\n",
    "# from ch14\n",
    "X1 = [\n",
    "    \"n_accommodates:f_property_type\",\n",
    "    \"f_room_type:f_property_type\",\n",
    "    \"f_room_type:d_familykidfriendly\",\n",
    "    \"d_airconditioning:f_property_type\",\n",
    "    \"d_cats:f_property_type\",\n",
    "    \"d_dogs:f_property_type\",\n",
    "]\n",
    "# with boroughs\n",
    "X2 = [\n",
    "    \"f_property_type:f_neighbourhood_cleansed\",\n",
    "    \"f_room_type:f_neighbourhood_cleansed\",\n",
    "    \"n_accommodates:f_neighbourhood_cleansed\",\n",
    "]\n"
   ]
  },
  {
   "cell_type": "code",
   "execution_count": 17,
   "metadata": {},
   "outputs": [],
   "source": [
    "predictors_1 = basic_vars\n",
    "predictors_2 = basic_vars + reviews + amenities\n",
    "predictors_E = basic_vars + reviews + amenities + X1 + X2"
   ]
  },
  {
   "cell_type": "markdown",
   "metadata": {},
   "source": [
    "## PART II\n",
    "### RANDOM FORESTS \n",
    "-------------------------------------------------------"
   ]
  },
  {
   "cell_type": "markdown",
   "metadata": {},
   "source": [
    "**Note:** n_estimators=500 in the R code.\n",
    "\n",
    "Here, we set it to 30 because the model runs mutch faster, and this does not change the results substantively here – however in other cases might."
   ]
  },
  {
   "cell_type": "code",
   "execution_count": 18,
   "metadata": {},
   "outputs": [],
   "source": [
    "# NOTE: set number of cores you want to run models\n",
    "ncores = 7"
   ]
  },
  {
   "cell_type": "code",
   "execution_count": 19,
   "metadata": {},
   "outputs": [
    {
     "name": "stdout",
     "output_type": "stream",
     "text": [
      "Fitting 5 folds for each of 6 candidates, totalling 30 fits\n",
      "[CV 1/5] END max_features=5, min_samples_split=6;, score=-45.984 total time=   0.4s\n",
      "[CV 2/5] END max_features=5, min_samples_split=6;, score=-45.114 total time=   0.4s\n",
      "[CV 3/5] END max_features=5, min_samples_split=6;, score=-46.043 total time=   0.4s\n"
     ]
    },
    {
     "name": "stdout",
     "output_type": "stream",
     "text": [
      "[CV 4/5] END max_features=5, min_samples_split=6;, score=-43.664 total time=   0.5s\n",
      "[CV 5/5] END max_features=5, min_samples_split=6;, score=-46.533 total time=   0.4s\n",
      "[CV 1/5] END max_features=5, min_samples_split=11;, score=-45.866 total time=   0.4s\n",
      "[CV 2/5] END max_features=5, min_samples_split=11;, score=-45.493 total time=   0.3s\n",
      "[CV 3/5] END max_features=5, min_samples_split=11;, score=-46.421 total time=   0.4s\n",
      "[CV 4/5] END max_features=5, min_samples_split=11;, score=-43.752 total time=   0.3s\n",
      "[CV 5/5] END max_features=5, min_samples_split=11;, score=-47.210 total time=   0.3s\n",
      "[CV 1/5] END max_features=7, min_samples_split=6;, score=-45.572 total time=   0.4s\n",
      "[CV 2/5] END max_features=7, min_samples_split=6;, score=-45.002 total time=   0.4s\n",
      "[CV 3/5] END max_features=7, min_samples_split=6;, score=-45.076 total time=   0.4s\n",
      "[CV 4/5] END max_features=7, min_samples_split=6;, score=-42.822 total time=   0.4s\n",
      "[CV 5/5] END max_features=7, min_samples_split=6;, score=-45.825 total time=   0.4s\n",
      "[CV 1/5] END max_features=7, min_samples_split=11;, score=-45.544 total time=   0.4s\n",
      "[CV 2/5] END max_features=7, min_samples_split=11;, score=-44.707 total time=   0.4s\n",
      "[CV 3/5] END max_features=7, min_samples_split=11;, score=-45.230 total time=   0.4s\n",
      "[CV 4/5] END max_features=7, min_samples_split=11;, score=-43.003 total time=   0.4s\n",
      "[CV 5/5] END max_features=7, min_samples_split=11;, score=-46.700 total time=   0.4s\n",
      "[CV 1/5] END max_features=9, min_samples_split=6;, score=-45.420 total time=   0.5s\n",
      "[CV 2/5] END max_features=9, min_samples_split=6;, score=-44.949 total time=   0.5s\n",
      "[CV 3/5] END max_features=9, min_samples_split=6;, score=-45.168 total time=   0.4s\n",
      "[CV 4/5] END max_features=9, min_samples_split=6;, score=-42.566 total time=   0.4s\n",
      "[CV 5/5] END max_features=9, min_samples_split=6;, score=-45.740 total time=   0.4s\n",
      "[CV 1/5] END max_features=9, min_samples_split=11;, score=-45.325 total time=   0.4s\n",
      "[CV 2/5] END max_features=9, min_samples_split=11;, score=-44.931 total time=   0.4s\n",
      "[CV 3/5] END max_features=9, min_samples_split=11;, score=-45.030 total time=   0.4s\n",
      "[CV 4/5] END max_features=9, min_samples_split=11;, score=-42.844 total time=   0.5s\n",
      "[CV 5/5] END max_features=9, min_samples_split=11;, score=-45.904 total time=   0.4s\n"
     ]
    }
   ],
   "source": [
    "rfr = RandomForestRegressor(\n",
    "    random_state=42,\n",
    "    criterion=\"squared_error\",\n",
    "    n_estimators=30, #here yes\n",
    "    oob_score=True,\n",
    "    n_jobs=ncores,\n",
    ")\n",
    "\n",
    "tune_grid = {\"max_features\": [5, 7, 9], \n",
    "             \"min_samples_split\": [6, 11]}\n",
    "\n",
    "rf_random = GridSearchCV(\n",
    "    rfr, tune_grid, cv=5, scoring=\"neg_root_mean_squared_error\", verbose=3\n",
    ")\n",
    "\n",
    "y, X = dmatrices(\"price ~ \" + \" + \".join(predictors_2), data_train)\n",
    "\n",
    "rf_model_1 = rf_random.fit(X, y.ravel())\n"
   ]
  },
  {
   "cell_type": "code",
   "execution_count": 20,
   "metadata": {},
   "outputs": [
    {
     "name": "stdout",
     "output_type": "stream",
     "text": [
      "Fitting 5 folds for each of 9 candidates, totalling 45 fits\n",
      "[CV 1/5] END max_features=8, min_samples_split=6;, score=-45.475 total time=   0.4s\n",
      "[CV 2/5] END max_features=8, min_samples_split=6;, score=-44.447 total time=   0.4s\n",
      "[CV 3/5] END max_features=8, min_samples_split=6;, score=-44.723 total time=   0.4s\n",
      "[CV 4/5] END max_features=8, min_samples_split=6;, score=-42.442 total time=   0.4s\n",
      "[CV 5/5] END max_features=8, min_samples_split=6;, score=-45.982 total time=   0.4s\n",
      "[CV 1/5] END max_features=8, min_samples_split=11;, score=-45.321 total time=   0.4s\n",
      "[CV 2/5] END max_features=8, min_samples_split=11;, score=-44.445 total time=   0.4s\n",
      "[CV 3/5] END max_features=8, min_samples_split=11;, score=-45.078 total time=   0.5s\n",
      "[CV 4/5] END max_features=8, min_samples_split=11;, score=-43.297 total time=   0.4s\n",
      "[CV 5/5] END max_features=8, min_samples_split=11;, score=-45.742 total time=   0.4s\n",
      "[CV 1/5] END max_features=8, min_samples_split=16;, score=-45.299 total time=   0.4s\n",
      "[CV 2/5] END max_features=8, min_samples_split=16;, score=-45.023 total time=   0.4s\n",
      "[CV 3/5] END max_features=8, min_samples_split=16;, score=-45.215 total time=   0.4s\n",
      "[CV 4/5] END max_features=8, min_samples_split=16;, score=-43.130 total time=   0.4s\n",
      "[CV 5/5] END max_features=8, min_samples_split=16;, score=-46.283 total time=   0.4s\n",
      "[CV 1/5] END max_features=10, min_samples_split=6;, score=-44.803 total time=   0.5s\n",
      "[CV 2/5] END max_features=10, min_samples_split=6;, score=-44.523 total time=   0.5s\n",
      "[CV 3/5] END max_features=10, min_samples_split=6;, score=-44.614 total time=   0.5s\n",
      "[CV 4/5] END max_features=10, min_samples_split=6;, score=-43.012 total time=   0.5s\n",
      "[CV 5/5] END max_features=10, min_samples_split=6;, score=-45.296 total time=   0.5s\n",
      "[CV 1/5] END max_features=10, min_samples_split=11;, score=-45.243 total time=   0.4s\n",
      "[CV 2/5] END max_features=10, min_samples_split=11;, score=-44.583 total time=   0.4s\n",
      "[CV 3/5] END max_features=10, min_samples_split=11;, score=-44.955 total time=   0.5s\n",
      "[CV 4/5] END max_features=10, min_samples_split=11;, score=-42.747 total time=   0.4s\n",
      "[CV 5/5] END max_features=10, min_samples_split=11;, score=-45.943 total time=   0.4s\n",
      "[CV 1/5] END max_features=10, min_samples_split=16;, score=-45.411 total time=   0.4s\n",
      "[CV 2/5] END max_features=10, min_samples_split=16;, score=-44.492 total time=   0.4s\n",
      "[CV 3/5] END max_features=10, min_samples_split=16;, score=-45.003 total time=   0.4s\n",
      "[CV 4/5] END max_features=10, min_samples_split=16;, score=-42.932 total time=   0.4s\n",
      "[CV 5/5] END max_features=10, min_samples_split=16;, score=-45.912 total time=   0.4s\n",
      "[CV 1/5] END max_features=12, min_samples_split=6;, score=-44.887 total time=   0.6s\n",
      "[CV 2/5] END max_features=12, min_samples_split=6;, score=-44.412 total time=   0.5s\n",
      "[CV 3/5] END max_features=12, min_samples_split=6;, score=-44.287 total time=   0.6s\n",
      "[CV 4/5] END max_features=12, min_samples_split=6;, score=-42.616 total time=   0.6s\n",
      "[CV 5/5] END max_features=12, min_samples_split=6;, score=-45.229 total time=   0.6s\n",
      "[CV 1/5] END max_features=12, min_samples_split=11;, score=-44.907 total time=   0.5s\n",
      "[CV 2/5] END max_features=12, min_samples_split=11;, score=-44.540 total time=   0.5s\n",
      "[CV 3/5] END max_features=12, min_samples_split=11;, score=-44.681 total time=   0.5s\n",
      "[CV 4/5] END max_features=12, min_samples_split=11;, score=-42.513 total time=   0.5s\n",
      "[CV 5/5] END max_features=12, min_samples_split=11;, score=-45.424 total time=   0.5s\n",
      "[CV 1/5] END max_features=12, min_samples_split=16;, score=-45.014 total time=   0.5s\n",
      "[CV 2/5] END max_features=12, min_samples_split=16;, score=-44.632 total time=   0.4s\n",
      "[CV 3/5] END max_features=12, min_samples_split=16;, score=-44.665 total time=   0.5s\n",
      "[CV 4/5] END max_features=12, min_samples_split=16;, score=-42.576 total time=   0.4s\n",
      "[CV 5/5] END max_features=12, min_samples_split=16;, score=-45.383 total time=   0.5s\n"
     ]
    }
   ],
   "source": [
    "rfr = RandomForestRegressor(\n",
    "    random_state=42,\n",
    "    criterion=\"squared_error\",  # It calculates the MSE before and after the split. If splitting reduces the total MSE, it’s a good split.\n",
    "    n_estimators=30,         # Number of trees in the forest\n",
    "    oob_score=True,          # Use out-of-bag samples to estimate test error\n",
    "    n_jobs=ncores,           # Use multiple CPU cores (parallel processing)\n",
    ")\n",
    "tune_grid = {\n",
    "    \"max_features\": [8, 10, 12],\n",
    "    \"min_samples_split\": [6, 11, 16],\n",
    "}\n",
    "\n",
    "rf_random = GridSearchCV(\n",
    "    rfr,\n",
    "    tune_grid,\n",
    "    cv=5,\n",
    "    scoring=\"neg_root_mean_squared_error\",\n",
    "    verbose=3,\n",
    ")\n",
    "\n",
    "y, X = dmatrices(\"price ~ \" + \" + \".join(predictors_2), data_train)\n",
    "\n",
    "rf_model_2 = rf_random.fit(X, y.ravel())\n"
   ]
  },
  {
   "cell_type": "markdown",
   "metadata": {},
   "source": [
    "### Table 16.1 Random forest RMSE by tuning parameters"
   ]
  },
  {
   "cell_type": "code",
   "execution_count": 21,
   "metadata": {},
   "outputs": [
    {
     "data": {
      "text/html": [
       "<div>\n",
       "<style scoped>\n",
       "    .dataframe tbody tr th:only-of-type {\n",
       "        vertical-align: middle;\n",
       "    }\n",
       "\n",
       "    .dataframe tbody tr th {\n",
       "        vertical-align: top;\n",
       "    }\n",
       "\n",
       "    .dataframe thead th {\n",
       "        text-align: right;\n",
       "    }\n",
       "</style>\n",
       "<table border=\"1\" class=\"dataframe\">\n",
       "  <thead>\n",
       "    <tr style=\"text-align: right;\">\n",
       "      <th>Variables</th>\n",
       "      <th>5</th>\n",
       "      <th>7</th>\n",
       "      <th>9</th>\n",
       "    </tr>\n",
       "    <tr>\n",
       "      <th>Min_nodes</th>\n",
       "      <th></th>\n",
       "      <th></th>\n",
       "      <th></th>\n",
       "    </tr>\n",
       "  </thead>\n",
       "  <tbody>\n",
       "    <tr>\n",
       "      <th>5</th>\n",
       "      <td>45.47</td>\n",
       "      <td>44.86</td>\n",
       "      <td>44.77</td>\n",
       "    </tr>\n",
       "    <tr>\n",
       "      <th>10</th>\n",
       "      <td>45.75</td>\n",
       "      <td>45.04</td>\n",
       "      <td>44.81</td>\n",
       "    </tr>\n",
       "  </tbody>\n",
       "</table>\n",
       "</div>"
      ],
      "text/plain": [
       "Variables      5      7      9\n",
       "Min_nodes                     \n",
       "5          45.47  44.86  44.77\n",
       "10         45.75  45.04  44.81"
      ]
     },
     "execution_count": 21,
     "metadata": {},
     "output_type": "execute_result"
    }
   ],
   "source": [
    "pd.DataFrame(rf_model_1.cv_results_)[\n",
    "    [\"param_max_features\", \"param_min_samples_split\", \"mean_test_score\"]\n",
    "].assign(\n",
    "    mean_test_score=lambda x: x[\"mean_test_score\"] * -1,\n",
    "    Variables=lambda x: x[\"param_max_features\"],\n",
    "    Min_nodes=lambda x: x[\"param_min_samples_split\"] - 1,\n",
    ").pivot(\n",
    "    index=\"Min_nodes\", columns=\"Variables\", values=\"mean_test_score\"\n",
    ").round(\n",
    "    2\n",
    ")"
   ]
  },
  {
   "cell_type": "code",
   "execution_count": 22,
   "metadata": {},
   "outputs": [
    {
     "data": {
      "text/html": [
       "<div>\n",
       "<style scoped>\n",
       "    .dataframe tbody tr th:only-of-type {\n",
       "        vertical-align: middle;\n",
       "    }\n",
       "\n",
       "    .dataframe tbody tr th {\n",
       "        vertical-align: top;\n",
       "    }\n",
       "\n",
       "    .dataframe thead th {\n",
       "        text-align: right;\n",
       "    }\n",
       "</style>\n",
       "<table border=\"1\" class=\"dataframe\">\n",
       "  <thead>\n",
       "    <tr style=\"text-align: right;\">\n",
       "      <th>Variables</th>\n",
       "      <th>8</th>\n",
       "      <th>10</th>\n",
       "      <th>12</th>\n",
       "    </tr>\n",
       "    <tr>\n",
       "      <th>Min_nodes</th>\n",
       "      <th></th>\n",
       "      <th></th>\n",
       "      <th></th>\n",
       "    </tr>\n",
       "  </thead>\n",
       "  <tbody>\n",
       "    <tr>\n",
       "      <th>5</th>\n",
       "      <td>44.61</td>\n",
       "      <td>44.45</td>\n",
       "      <td>44.29</td>\n",
       "    </tr>\n",
       "    <tr>\n",
       "      <th>10</th>\n",
       "      <td>44.78</td>\n",
       "      <td>44.69</td>\n",
       "      <td>44.41</td>\n",
       "    </tr>\n",
       "    <tr>\n",
       "      <th>15</th>\n",
       "      <td>44.99</td>\n",
       "      <td>44.75</td>\n",
       "      <td>44.45</td>\n",
       "    </tr>\n",
       "  </tbody>\n",
       "</table>\n",
       "</div>"
      ],
      "text/plain": [
       "Variables     8      10     12\n",
       "Min_nodes                     \n",
       "5          44.61  44.45  44.29\n",
       "10         44.78  44.69  44.41\n",
       "15         44.99  44.75  44.45"
      ]
     },
     "execution_count": 22,
     "metadata": {},
     "output_type": "execute_result"
    }
   ],
   "source": [
    "pd.DataFrame(rf_model_2.cv_results_)[\n",
    "    [\"param_max_features\", \"param_min_samples_split\", \"mean_test_score\"]\n",
    "].assign(\n",
    "    mean_test_score=lambda x: x[\"mean_test_score\"] * -1,\n",
    "    Variables=lambda x: x[\"param_max_features\"],\n",
    "    Min_nodes=lambda x: x[\"param_min_samples_split\"] - 1,\n",
    ").pivot(\n",
    "    index=\"Min_nodes\", columns=\"Variables\", values=\"mean_test_score\"\n",
    ").round(\n",
    "    2\n",
    ")\n"
   ]
  },
  {
   "cell_type": "code",
   "execution_count": 23,
   "metadata": {},
   "outputs": [
    {
     "data": {
      "text/html": [
       "<div>\n",
       "<style scoped>\n",
       "    .dataframe tbody tr th:only-of-type {\n",
       "        vertical-align: middle;\n",
       "    }\n",
       "\n",
       "    .dataframe tbody tr th {\n",
       "        vertical-align: top;\n",
       "    }\n",
       "\n",
       "    .dataframe thead th {\n",
       "        text-align: right;\n",
       "    }\n",
       "</style>\n",
       "<table border=\"1\" class=\"dataframe\">\n",
       "  <thead>\n",
       "    <tr style=\"text-align: right;\">\n",
       "      <th></th>\n",
       "      <th>Min vars</th>\n",
       "      <th>Min nodes</th>\n",
       "    </tr>\n",
       "  </thead>\n",
       "  <tbody>\n",
       "    <tr>\n",
       "      <th>Model A</th>\n",
       "      <td>9</td>\n",
       "      <td>5</td>\n",
       "    </tr>\n",
       "    <tr>\n",
       "      <th>Model B</th>\n",
       "      <td>12</td>\n",
       "      <td>5</td>\n",
       "    </tr>\n",
       "  </tbody>\n",
       "</table>\n",
       "</div>"
      ],
      "text/plain": [
       "         Min vars  Min nodes\n",
       "Model A         9          5\n",
       "Model B        12          5"
      ]
     },
     "execution_count": 23,
     "metadata": {},
     "output_type": "execute_result"
    }
   ],
   "source": [
    "pd.DataFrame(\n",
    "    {\n",
    "        \"Min vars\": [\n",
    "            rf_model_1.best_estimator_.max_features,\n",
    "            rf_model_2.best_estimator_.max_features,\n",
    "        ],\n",
    "        \"Min nodes\": [\n",
    "            rf_model_1.best_estimator_.min_samples_split - 1,\n",
    "            rf_model_2.best_estimator_.min_samples_split - 1,\n",
    "        ],\n",
    "    },\n",
    "    [\"Model A\", \"Model B\"],\n",
    ")\n"
   ]
  },
  {
   "cell_type": "code",
   "execution_count": 24,
   "metadata": {},
   "outputs": [
    {
     "name": "stdout",
     "output_type": "stream",
     "text": [
      "{'max_features': 12, 'min_samples_split': 6}\n",
      "44.28620895799135\n"
     ]
    }
   ],
   "source": [
    "# Confirm best parameters and their score:\n",
    "print(rf_model_2.best_params_)\n",
    "print(-rf_model_2.best_score_)"
   ]
  },
  {
   "cell_type": "code",
   "execution_count": 25,
   "metadata": {},
   "outputs": [
    {
     "data": {
      "text/html": [
       "<div>\n",
       "<style scoped>\n",
       "    .dataframe tbody tr th:only-of-type {\n",
       "        vertical-align: middle;\n",
       "    }\n",
       "\n",
       "    .dataframe tbody tr th {\n",
       "        vertical-align: top;\n",
       "    }\n",
       "\n",
       "    .dataframe thead th {\n",
       "        text-align: right;\n",
       "    }\n",
       "</style>\n",
       "<table border=\"1\" class=\"dataframe\">\n",
       "  <thead>\n",
       "    <tr style=\"text-align: right;\">\n",
       "      <th></th>\n",
       "      <th>RMSE</th>\n",
       "    </tr>\n",
       "  </thead>\n",
       "  <tbody>\n",
       "    <tr>\n",
       "      <th>Model A</th>\n",
       "      <td>44.769</td>\n",
       "    </tr>\n",
       "    <tr>\n",
       "      <th>Model B</th>\n",
       "      <td>44.286</td>\n",
       "    </tr>\n",
       "  </tbody>\n",
       "</table>\n",
       "</div>"
      ],
      "text/plain": [
       "           RMSE\n",
       "Model A  44.769\n",
       "Model B  44.286"
      ]
     },
     "execution_count": 25,
     "metadata": {},
     "output_type": "execute_result"
    }
   ],
   "source": [
    "from sklearn.metrics import mean_squared_error\n",
    "\n",
    "# Use .best_score_ instead of grabbing raw min from cv_results_\n",
    "rf_model_1_rmse = -rf_model_1.best_score_  # Note: .best_score_ is already the highest (least negative)\n",
    "rf_model_2_rmse = -rf_model_2.best_score_\n",
    "\n",
    "pd.DataFrame(\n",
    "    {\"RMSE\": [rf_model_1_rmse, rf_model_2_rmse]},\n",
    "    index=[\"Model A\", \"Model B\"]\n",
    ").round(3)"
   ]
  },
  {
   "cell_type": "code",
   "execution_count": 26,
   "metadata": {},
   "outputs": [
    {
     "data": {
      "text/html": [
       "<div>\n",
       "<style scoped>\n",
       "    .dataframe tbody tr th:only-of-type {\n",
       "        vertical-align: middle;\n",
       "    }\n",
       "\n",
       "    .dataframe tbody tr th {\n",
       "        vertical-align: top;\n",
       "    }\n",
       "\n",
       "    .dataframe thead th {\n",
       "        text-align: right;\n",
       "    }\n",
       "</style>\n",
       "<table border=\"1\" class=\"dataframe\">\n",
       "  <thead>\n",
       "    <tr style=\"text-align: right;\">\n",
       "      <th></th>\n",
       "      <th>RMSE</th>\n",
       "    </tr>\n",
       "  </thead>\n",
       "  <tbody>\n",
       "    <tr>\n",
       "      <th>Model A</th>\n",
       "      <td>45.748</td>\n",
       "    </tr>\n",
       "    <tr>\n",
       "      <th>Model B</th>\n",
       "      <td>44.990</td>\n",
       "    </tr>\n",
       "  </tbody>\n",
       "</table>\n",
       "</div>"
      ],
      "text/plain": [
       "           RMSE\n",
       "Model A  45.748\n",
       "Model B  44.990"
      ]
     },
     "execution_count": 26,
     "metadata": {},
     "output_type": "execute_result"
    }
   ],
   "source": [
    "rf_model_1_rmse = rf_model_1.cv_results_[\"mean_test_score\"].min() * -1\n",
    "rf_model_2_rmse = rf_model_2.cv_results_[\"mean_test_score\"].min() * -1\n",
    "\n",
    "pd.DataFrame(\n",
    "    {\"RMSE\": [rf_model_1_rmse, rf_model_2_rmse]}, [\"Model A\", \"Model B\"]\n",
    ").round(3)"
   ]
  },
  {
   "cell_type": "markdown",
   "metadata": {},
   "source": [
    "## PART III\n",
    "### MODEL DIAGNOSTICS \n",
    "---"
   ]
  },
  {
   "cell_type": "code",
   "execution_count": 27,
   "metadata": {},
   "outputs": [],
   "source": [
    "rf_model_2_var_imp_df = (\n",
    "    pd.DataFrame(\n",
    "        rf_model_2.best_estimator_.feature_importances_, X.design_info.column_names\n",
    "    )\n",
    "    .reset_index()\n",
    "    .rename({\"index\": \"varname\", 0: \"imp\"}, axis=1)\n",
    "    .assign(factor=lambda x: x[\"varname\"].str.startswith(\"f_\"))\n",
    "    .assign(\n",
    "        imp_percentage=lambda x: x[\"imp\"] / x[\"imp\"].sum(),\n",
    "        varname=lambda x: x.varname.str.replace(\n",
    "            \"f_room_type[T.\", \"Room type:\", regex=False\n",
    "        )\n",
    "        .str.replace(\"f_neighbourhood_cleansed[T.\", \"Borough:\", regex=False)\n",
    "        .str.replace(\"f_cancellation_policy[T.\", \"Cancelation policy:\", regex=False)\n",
    "        .str.replace(\"f_bed_type[T.\", \"Bed type:\", regex=False)\n",
    "        .str.replace(\"f_property_type[T.\", \"Property type:\", regex=False)\n",
    "        .str.replace(\"]\", \"\", regex=False),\n",
    "    )\n",
    "    .sort_values(by=[\"imp\"], ascending=False)\n",
    ")"
   ]
  },
  {
   "cell_type": "markdown",
   "metadata": {},
   "source": [
    "#### 1) full varimp plot, above a cutoff"
   ]
  },
  {
   "cell_type": "code",
   "execution_count": 31,
   "metadata": {},
   "outputs": [
    {
     "data": {
      "image/png": "[encoded data removed]",
      "text/plain": [
       "<Figure size 800x600 with 1 Axes>"
      ]
     },
     "metadata": {},
     "output_type": "display_data"
    }
   ],
   "source": [
    "cutoff = 0.013\n",
    "df_plot = rf_model_2_var_imp_df.loc[rf_model_2_var_imp_df.imp > cutoff].copy()\n",
    "df_plot = df_plot.sort_values('imp_percentage', ascending=False)\n",
    "\n",
    "plt.figure(figsize=(8, 6))\n",
    "sns.barplot(\n",
    "    data=df_plot,\n",
    "    x='imp_percentage',\n",
    "    y='varname',\n",
    "    color='C0'\n",
    ")\n",
    "plt.xlabel('Importance (Percent)')\n",
    "plt.ylabel('Variable Name')\n",
    "plt.xlim(0, df_plot['imp_percentage'].max() * 1.1)\n",
    "plt.gca().xaxis.set_major_formatter(plt.FuncFormatter(lambda x, _: '{:.0%}'.format(x)))\n",
    "plt.title('Variable Importance (cutoff > 0.013)')\n",
    "plt.tight_layout()\n",
    "plt.show()\n"
   ]
  },
  {
   "cell_type": "code",
   "execution_count": 32,
   "metadata": {},
   "outputs": [
    {
     "data": {
      "image/png": "[encoded data removed]",
      "text/plain": [
       "<Figure size 800x600 with 1 Axes>"
      ]
     },
     "metadata": {},
     "output_type": "display_data"
    }
   ],
   "source": [
    "import seaborn as sns\n",
    "\n",
    "import matplotlib.pyplot as plt\n",
    "\n",
    "plt.figure(figsize=(8, 6))\n",
    "sns.barplot(\n",
    "    data=df_plot.sort_values('imp_percentage', ascending=False),\n",
    "    x='imp_percentage',\n",
    "    y='varname',\n",
    "    color='C0'\n",
    ")\n",
    "plt.xlabel('Importance (Percent)')\n",
    "plt.ylabel('Variable Name')\n",
    "plt.xlim(0, df_plot['imp_percentage'].max() * 1.1)\n",
    "plt.gca().xaxis.set_major_formatter(plt.FuncFormatter(lambda x, _: '{:.0%}'.format(x)))\n",
    "plt.title('Variable Importance (cutoff > 0.013)')\n",
    "plt.tight_layout()\n",
    "plt.show()\n"
   ]
  },
  {
   "cell_type": "markdown",
   "metadata": {},
   "source": [
    "#### 2) full varimp plot, top 10 onl"
   ]
  },
  {
   "cell_type": "code",
   "execution_count": 33,
   "metadata": {},
   "outputs": [
    {
     "data": {
      "text/html": [
       "<div>\n",
       "<style scoped>\n",
       "    .dataframe tbody tr th:only-of-type {\n",
       "        vertical-align: middle;\n",
       "    }\n",
       "\n",
       "    .dataframe tbody tr th {\n",
       "        vertical-align: top;\n",
       "    }\n",
       "\n",
       "    .dataframe thead th {\n",
       "        text-align: right;\n",
       "    }\n",
       "</style>\n",
       "<table border=\"1\" class=\"dataframe\">\n",
       "  <thead>\n",
       "    <tr style=\"text-align: right;\">\n",
       "      <th></th>\n",
       "      <th>varname</th>\n",
       "      <th>imp</th>\n",
       "      <th>factor</th>\n",
       "      <th>imp_percentage</th>\n",
       "    </tr>\n",
       "  </thead>\n",
       "  <tbody>\n",
       "    <tr>\n",
       "      <th>2</th>\n",
       "      <td>Room type:Private room</td>\n",
       "      <td>0.154045</td>\n",
       "      <td>True</td>\n",
       "      <td>0.154045</td>\n",
       "    </tr>\n",
       "    <tr>\n",
       "      <th>42</th>\n",
       "      <td>n_accommodates</td>\n",
       "      <td>0.148558</td>\n",
       "      <td>False</td>\n",
       "      <td>0.148558</td>\n",
       "    </tr>\n",
       "    <tr>\n",
       "      <th>43</th>\n",
       "      <td>n_beds</td>\n",
       "      <td>0.095808</td>\n",
       "      <td>False</td>\n",
       "      <td>0.095808</td>\n",
       "    </tr>\n",
       "    <tr>\n",
       "      <th>6</th>\n",
       "      <td>f_bathroom[T.[2, 10)</td>\n",
       "      <td>0.063184</td>\n",
       "      <td>True</td>\n",
       "      <td>0.063184</td>\n",
       "    </tr>\n",
       "    <tr>\n",
       "      <th>5</th>\n",
       "      <td>f_bathroom[T.[1, 2)</td>\n",
       "      <td>0.041483</td>\n",
       "      <td>True</td>\n",
       "      <td>0.041483</td>\n",
       "    </tr>\n",
       "    <tr>\n",
       "      <th>94</th>\n",
       "      <td>d_tv</td>\n",
       "      <td>0.030680</td>\n",
       "      <td>False</td>\n",
       "      <td>0.030680</td>\n",
       "    </tr>\n",
       "    <tr>\n",
       "      <th>41</th>\n",
       "      <td>Borough:Westminster</td>\n",
       "      <td>0.028012</td>\n",
       "      <td>True</td>\n",
       "      <td>0.028012</td>\n",
       "    </tr>\n",
       "    <tr>\n",
       "      <th>28</th>\n",
       "      <td>Borough:Kensington and Chelsea</td>\n",
       "      <td>0.026691</td>\n",
       "      <td>True</td>\n",
       "      <td>0.026691</td>\n",
       "    </tr>\n",
       "    <tr>\n",
       "      <th>44</th>\n",
       "      <td>n_days_since</td>\n",
       "      <td>0.025713</td>\n",
       "      <td>False</td>\n",
       "      <td>0.025713</td>\n",
       "    </tr>\n",
       "    <tr>\n",
       "      <th>45</th>\n",
       "      <td>n_number_of_reviews</td>\n",
       "      <td>0.025202</td>\n",
       "      <td>False</td>\n",
       "      <td>0.025202</td>\n",
       "    </tr>\n",
       "  </tbody>\n",
       "</table>\n",
       "</div>"
      ],
      "text/plain": [
       "                           varname       imp  factor  imp_percentage\n",
       "2           Room type:Private room  0.154045    True        0.154045\n",
       "42                  n_accommodates  0.148558   False        0.148558\n",
       "43                          n_beds  0.095808   False        0.095808\n",
       "6             f_bathroom[T.[2, 10)  0.063184    True        0.063184\n",
       "5              f_bathroom[T.[1, 2)  0.041483    True        0.041483\n",
       "94                            d_tv  0.030680   False        0.030680\n",
       "41             Borough:Westminster  0.028012    True        0.028012\n",
       "28  Borough:Kensington and Chelsea  0.026691    True        0.026691\n",
       "44                    n_days_since  0.025713   False        0.025713\n",
       "45             n_number_of_reviews  0.025202   False        0.025202"
      ]
     },
     "execution_count": 33,
     "metadata": {},
     "output_type": "execute_result"
    }
   ],
   "source": [
    "rf_model_2_var_imp_df.iloc[:10, :]"
   ]
  },
  {
   "cell_type": "code",
   "execution_count": null,
   "metadata": {},
   "outputs": [],
   "source": [
    "plt.figure(figsize=(8, 6))\n",
    "sns.barplot(\n",
    "    data=df_plot.sort_values('imp_percentage', ascending=False),\n",
    "    x='imp_percentage',\n",
    "    y='varname',\n",
    "    color='C0'\n",
    ")\n",
    "plt.xlabel('Importance (Percent)')\n",
    "plt.ylabel('Variable Name')\n",
    "plt.xlim(0, df_plot['imp_percentage'].max() * 1.1)\n",
    "plt.gca().xaxis.set_major_formatter(plt.FuncFormatter(lambda x, _: '{:.0%}'.format(x)))\n",
    "plt.title('Variable Importance (cutoff > 0.013)')\n",
    "plt.tight_layout()\n",
    "plt.show()\n"
   ]
  },
  {
   "cell_type": "code",
   "execution_count": 34,
   "metadata": {},
   "outputs": [
    {
     "data": {
      "image/png": "[encoded data removed]",
      "text/plain": [
       "<Figure size 800x600 with 1 Axes>"
      ]
     },
     "metadata": {},
     "output_type": "display_data"
    }
   ],
   "source": [
    "import matplotlib.pyplot as plt\n",
    "\n",
    "fig, ax = plt.subplots(figsize=(8, 6))\n",
    "sorted_df = df_plot.sort_values('imp_percentage', ascending=True)\n",
    "ax.barh(sorted_df['varname'], sorted_df['imp_percentage'], color='C0')\n",
    "ax.set_xlabel('Importance (Percent)')\n",
    "ax.set_ylabel('Variable Name')\n",
    "ax.set_xlim(0, sorted_df['imp_percentage'].max() * 1.1)\n",
    "ax.set_title('Variable Importance (cutoff > 0.013)')\n",
    "ax.xaxis.set_major_formatter(plt.FuncFormatter(lambda x, _: '{:.0%}'.format(x)))\n",
    "plt.tight_layout()\n",
    "plt.show()\n"
   ]
  },
  {
   "cell_type": "markdown",
   "metadata": {},
   "source": [
    "#### 3) grouped variable importance - keep binaries created off factors together\n",
    "\n",
    "First we do this by summing up the individual importances of factors - this is not correct, but it's in the first edition.\n",
    "\n",
    "However, simply summing up the individual importances of each dummy could underestimate the importance of the qualitative variable. This occurs because omitting a single category might not significantly impact performance as the remaining correlated categories can still provide the model with the necessary information. To address this issue, we need to assess the impact of including the entire categorical variable, not just the individual dummies. We can create a pipeline which first encodes the categorical variables into dummy variables, then trains the model on the encoded data. Finally, we can employ a model-agnostic feature importance technique on this entire pipeline to estimate the contribution of each variable, including the qualitative variable as a whole.\n",
    " \n",
    "Model-agnostic feature importance techniques are methods used to determine the importance of features in a model, regardless of the model type. These techniques work by assessing the impact of each feature on the model's predictions without relying on the internal workings of the model. One such technique is permutation feature importance, which randomly shuffles the values of variables and measures how much the fit of the prediction is decreased."
   ]
  },
  {
   "cell_type": "code",
   "execution_count": 35,
   "metadata": {},
   "outputs": [],
   "source": [
    "categorical_columns = [col for col in predictors_2 if col.startswith(\"f_\")]\n",
    "numerical_columns = [col for col in predictors_2 if col not in categorical_columns]"
   ]
  },
  {
   "cell_type": "markdown",
   "metadata": {},
   "source": [
    "**Summing up individual importances of factors - first edition**"
   ]
  },
  {
   "cell_type": "code",
   "execution_count": 36,
   "metadata": {},
   "outputs": [],
   "source": [
    "rf_model_2_var_imp_df_grouped = (\n",
    "    pd.DataFrame(\n",
    "        rf_model_2.best_estimator_.feature_importances_, X.design_info.column_names\n",
    "    )\n",
    "    .reset_index()\n",
    "    .rename({\"index\": \"varname\", 0: \"imp\"}, axis=1)\n",
    "    .assign(varname=lambda x: x[\"varname\"].str.split(\"[\").str[0])\n",
    "    .sort_values(by=[\"imp\"], ascending=False)\n",
    "    .groupby(\"varname\")[[\"imp\"]]\n",
    "    .sum()\n",
    "    .reset_index()\n",
    "    .assign(imp_percentage=lambda x: x[\"imp\"] / x[\"imp\"].sum())\n",
    "    .sort_values(by=[\"imp\"], ascending=False)\n",
    ")"
   ]
  },
  {
   "cell_type": "code",
   "execution_count": null,
   "metadata": {},
   "outputs": [
    {
     "data": {
      "image/png": "[encoded data removed]",
      "text/plain": [
       "<Figure size 640x480 with 1 Axes>"
      ]
     },
     "metadata": {},
     "output_type": "display_data"
    },
    {
     "data": {
      "text/plain": [
       "<ggplot: (814799333)>"
      ]
     },
     "execution_count": 148,
     "metadata": {},
     "output_type": "execute_result"
    }
   ],
   "source": [
    "import matplotlib.pyplot as plt\n",
    "\n",
    "top10 = rf_model_2_var_imp_df_grouped.head(10).sort_values('imp_percentage', ascending=True)\n",
    "fig, ax = plt.subplots(figsize=(8, 6))\n",
    "ax.hlines(y=top10['varname'], xmin=0, xmax=top10['imp_percentage'], color='C0', linewidth=2)\n",
    "ax.plot(top10['imp_percentage'], top10['varname'], 'o', color='C0', markersize=8)\n",
    "ax.set_xlabel('Importance (Percent)')\n",
    "ax.set_ylabel('Variable Name')\n",
    "ax.set_title('Top 10 most important variable - factor variables summed')\n",
    "ax.xaxis.set_major_formatter(plt.FuncFormatter(lambda x, _: '{:.0%}'.format(x)))\n",
    "plt.tight_layout()\n",
    "plt.show()\n"
   ]
  },
  {
   "cell_type": "markdown",
   "metadata": {},
   "source": [
    "**OneHotEncoding and training the RandomForest model in a pipeline and calculating permutation importance - second edition**"
   ]
  },
  {
   "cell_type": "code",
   "execution_count": null,
   "metadata": {},
   "outputs": [],
   "source": [
    "categorical_encoder = OneHotEncoder(handle_unknown=\"ignore\")\n",
    "\n",
    "preprocessing = ColumnTransformer(\n",
    "    [\n",
    "        (\"cat\", categorical_encoder, categorical_columns),\n",
    "        (\"num\", \"passthrough\", numerical_columns),\n",
    "    ]\n",
    ")\n",
    "\n",
    "rf_best_pipeline = Pipeline(\n",
    "    [\n",
    "        (\"preprocess\", preprocessing),\n",
    "        (\"regressor\", rf_model_2.best_estimator_),  # put best model to pipeline\n",
    "    ]\n",
    ")\n"
   ]
  },
  {
   "cell_type": "code",
   "execution_count": null,
   "metadata": {},
   "outputs": [
    {
     "data": {
      "text/html": [
       "<style>#sk-container-id-3 {color: black;background-color: white;}#sk-container-id-3 pre{padding: 0;}#sk-container-id-3 div.sk-toggleable {background-color: white;}#sk-container-id-3 label.sk-toggleable__label {cursor: pointer;display: block;width: 100%;margin-bottom: 0;padding: 0.3em;box-sizing: border-box;text-align: center;}#sk-container-id-3 label.sk-toggleable__label-arrow:before {content: \"▸\";float: left;margin-right: 0.25em;color: #696969;}#sk-container-id-3 label.sk-toggleable__label-arrow:hover:before {color: black;}#sk-container-id-3 div.sk-estimator:hover label.sk-toggleable__label-arrow:before {color: black;}#sk-container-id-3 div.sk-toggleable__content {max-height: 0;max-width: 0;overflow: hidden;text-align: left;background-color: #f0f8ff;}#sk-container-id-3 div.sk-toggleable__content pre {margin: 0.2em;color: black;border-radius: 0.25em;background-color: #f0f8ff;}#sk-container-id-3 input.sk-toggleable__control:checked~div.sk-toggleable__content {max-height: 200px;max-width: 100%;overflow: auto;}#sk-container-id-3 input.sk-toggleable__control:checked~label.sk-toggleable__label-arrow:before {content: \"▾\";}#sk-container-id-3 div.sk-estimator input.sk-toggleable__control:checked~label.sk-toggleable__label {background-color: #d4ebff;}#sk-container-id-3 div.sk-label input.sk-toggleable__control:checked~label.sk-toggleable__label {background-color: #d4ebff;}#sk-container-id-3 input.sk-hidden--visually {border: 0;clip: rect(1px 1px 1px 1px);clip: rect(1px, 1px, 1px, 1px);height: 1px;margin: -1px;overflow: hidden;padding: 0;position: absolute;width: 1px;}#sk-container-id-3 div.sk-estimator {font-family: monospace;background-color: #f0f8ff;border: 1px dotted black;border-radius: 0.25em;box-sizing: border-box;margin-bottom: 0.5em;}#sk-container-id-3 div.sk-estimator:hover {background-color: #d4ebff;}#sk-container-id-3 div.sk-parallel-item::after {content: \"\";width: 100%;border-bottom: 1px solid gray;flex-grow: 1;}#sk-container-id-3 div.sk-label:hover label.sk-toggleable__label {background-color: #d4ebff;}#sk-container-id-3 div.sk-serial::before {content: \"\";position: absolute;border-left: 1px solid gray;box-sizing: border-box;top: 0;bottom: 0;left: 50%;z-index: 0;}#sk-container-id-3 div.sk-serial {display: flex;flex-direction: column;align-items: center;background-color: white;padding-right: 0.2em;padding-left: 0.2em;position: relative;}#sk-container-id-3 div.sk-item {position: relative;z-index: 1;}#sk-container-id-3 div.sk-parallel {display: flex;align-items: stretch;justify-content: center;background-color: white;position: relative;}#sk-container-id-3 div.sk-item::before, #sk-container-id-3 div.sk-parallel-item::before {content: \"\";position: absolute;border-left: 1px solid gray;box-sizing: border-box;top: 0;bottom: 0;left: 50%;z-index: -1;}#sk-container-id-3 div.sk-parallel-item {display: flex;flex-direction: column;z-index: 1;position: relative;background-color: white;}#sk-container-id-3 div.sk-parallel-item:first-child::after {align-self: flex-end;width: 50%;}#sk-container-id-3 div.sk-parallel-item:last-child::after {align-self: flex-start;width: 50%;}#sk-container-id-3 div.sk-parallel-item:only-child::after {width: 0;}#sk-container-id-3 div.sk-dashed-wrapped {border: 1px dashed gray;margin: 0 0.4em 0.5em 0.4em;box-sizing: border-box;padding-bottom: 0.4em;background-color: white;}#sk-container-id-3 div.sk-label label {font-family: monospace;font-weight: bold;display: inline-block;line-height: 1.2em;}#sk-container-id-3 div.sk-label-container {text-align: center;}#sk-container-id-3 div.sk-container {/* jupyter's `normalize.less` sets `[hidden] { display: none; }` but bootstrap.min.css set `[hidden] { display: none !important; }` so we also need the `!important` here to be able to override the default hidden behavior on the sphinx rendered scikit-learn.org. See: https://github.com/scikit-learn/scikit-learn/issues/21755 */display: inline-block !important;position: relative;}#sk-container-id-3 div.sk-text-repr-fallback {display: none;}</style><div id=\"sk-container-id-3\" class=\"sk-top-container\"><div class=\"sk-text-repr-fallback\"><pre>Pipeline(steps=[(&#x27;preprocess&#x27;,\n",
       "                 ColumnTransformer(transformers=[(&#x27;cat&#x27;,\n",
       "                                                  OneHotEncoder(handle_unknown=&#x27;ignore&#x27;),\n",
       "                                                  [&#x27;f_property_type&#x27;,\n",
       "                                                   &#x27;f_room_type&#x27;, &#x27;f_bathroom&#x27;,\n",
       "                                                   &#x27;f_cancellation_policy&#x27;,\n",
       "                                                   &#x27;f_bed_type&#x27;,\n",
       "                                                   &#x27;f_neighbourhood_cleansed&#x27;]),\n",
       "                                                 (&#x27;num&#x27;, &#x27;passthrough&#x27;,\n",
       "                                                  [&#x27;n_accommodates&#x27;, &#x27;n_beds&#x27;,\n",
       "                                                   &#x27;n_days_since&#x27;,\n",
       "                                                   &#x27;n_number_of_reviews&#x27;,\n",
       "                                                   &#x27;flag_n_number_of_reviews&#x27;,\n",
       "                                                   &#x27;n_review_scores_r...\n",
       "                                                   &#x27;d_doormanentry&#x27;, &#x27;d_dryer&#x27;,\n",
       "                                                   &#x27;d_elevatorinbuilding&#x27;,\n",
       "                                                   &#x27;d_essentials&#x27;,\n",
       "                                                   &#x27;d_familykidfriendly&#x27;,\n",
       "                                                   &#x27;d_fireextinguisher&#x27;,\n",
       "                                                   &#x27;d_firstaidkit&#x27;,\n",
       "                                                   &#x27;d_freeparkingonpremises&#x27;,\n",
       "                                                   &#x27;d_freeparkingonstreet&#x27;,\n",
       "                                                   &#x27;d_gym&#x27;, &#x27;d_hairdryer&#x27;,\n",
       "                                                   &#x27;d_hangers&#x27;, &#x27;d_heating&#x27;,\n",
       "                                                   &#x27;d_hottub&#x27;, ...])])),\n",
       "                (&#x27;regressor&#x27;,\n",
       "                 RandomForestRegressor(max_features=12, min_samples_split=6,\n",
       "                                       n_estimators=30, n_jobs=7,\n",
       "                                       oob_score=True, random_state=42))])</pre><b>In a Jupyter environment, please rerun this cell to show the HTML representation or trust the notebook. <br />On GitHub, the HTML representation is unable to render, please try loading this page with nbviewer.org.</b></div><div class=\"sk-container\" hidden><div class=\"sk-item sk-dashed-wrapped\"><div class=\"sk-label-container\"><div class=\"sk-label sk-toggleable\"><input class=\"sk-toggleable__control sk-hidden--visually\" id=\"sk-estimator-id-15\" type=\"checkbox\" ><label for=\"sk-estimator-id-15\" class=\"sk-toggleable__label sk-toggleable__label-arrow\">Pipeline</label><div class=\"sk-toggleable__content\"><pre>Pipeline(steps=[(&#x27;preprocess&#x27;,\n",
       "                 ColumnTransformer(transformers=[(&#x27;cat&#x27;,\n",
       "                                                  OneHotEncoder(handle_unknown=&#x27;ignore&#x27;),\n",
       "                                                  [&#x27;f_property_type&#x27;,\n",
       "                                                   &#x27;f_room_type&#x27;, &#x27;f_bathroom&#x27;,\n",
       "                                                   &#x27;f_cancellation_policy&#x27;,\n",
       "                                                   &#x27;f_bed_type&#x27;,\n",
       "                                                   &#x27;f_neighbourhood_cleansed&#x27;]),\n",
       "                                                 (&#x27;num&#x27;, &#x27;passthrough&#x27;,\n",
       "                                                  [&#x27;n_accommodates&#x27;, &#x27;n_beds&#x27;,\n",
       "                                                   &#x27;n_days_since&#x27;,\n",
       "                                                   &#x27;n_number_of_reviews&#x27;,\n",
       "                                                   &#x27;flag_n_number_of_reviews&#x27;,\n",
       "                                                   &#x27;n_review_scores_r...\n",
       "                                                   &#x27;d_doormanentry&#x27;, &#x27;d_dryer&#x27;,\n",
       "                                                   &#x27;d_elevatorinbuilding&#x27;,\n",
       "                                                   &#x27;d_essentials&#x27;,\n",
       "                                                   &#x27;d_familykidfriendly&#x27;,\n",
       "                                                   &#x27;d_fireextinguisher&#x27;,\n",
       "                                                   &#x27;d_firstaidkit&#x27;,\n",
       "                                                   &#x27;d_freeparkingonpremises&#x27;,\n",
       "                                                   &#x27;d_freeparkingonstreet&#x27;,\n",
       "                                                   &#x27;d_gym&#x27;, &#x27;d_hairdryer&#x27;,\n",
       "                                                   &#x27;d_hangers&#x27;, &#x27;d_heating&#x27;,\n",
       "                                                   &#x27;d_hottub&#x27;, ...])])),\n",
       "                (&#x27;regressor&#x27;,\n",
       "                 RandomForestRegressor(max_features=12, min_samples_split=6,\n",
       "                                       n_estimators=30, n_jobs=7,\n",
       "                                       oob_score=True, random_state=42))])</pre></div></div></div><div class=\"sk-serial\"><div class=\"sk-item sk-dashed-wrapped\"><div class=\"sk-label-container\"><div class=\"sk-label sk-toggleable\"><input class=\"sk-toggleable__control sk-hidden--visually\" id=\"sk-estimator-id-16\" type=\"checkbox\" ><label for=\"sk-estimator-id-16\" class=\"sk-toggleable__label sk-toggleable__label-arrow\">preprocess: ColumnTransformer</label><div class=\"sk-toggleable__content\"><pre>ColumnTransformer(transformers=[(&#x27;cat&#x27;, OneHotEncoder(handle_unknown=&#x27;ignore&#x27;),\n",
       "                                 [&#x27;f_property_type&#x27;, &#x27;f_room_type&#x27;,\n",
       "                                  &#x27;f_bathroom&#x27;, &#x27;f_cancellation_policy&#x27;,\n",
       "                                  &#x27;f_bed_type&#x27;, &#x27;f_neighbourhood_cleansed&#x27;]),\n",
       "                                (&#x27;num&#x27;, &#x27;passthrough&#x27;,\n",
       "                                 [&#x27;n_accommodates&#x27;, &#x27;n_beds&#x27;, &#x27;n_days_since&#x27;,\n",
       "                                  &#x27;n_number_of_reviews&#x27;,\n",
       "                                  &#x27;flag_n_number_of_reviews&#x27;,\n",
       "                                  &#x27;n_review_scores_rating&#x27;,\n",
       "                                  &#x27;flag_review_scores_rat...\n",
       "                                  &#x27;d_24hourcheckin&#x27;, &#x27;d_airconditioning&#x27;,\n",
       "                                  &#x27;d_breakfast&#x27;, &#x27;d_buzzerwirelessintercom&#x27;,\n",
       "                                  &#x27;d_cabletv&#x27;, &#x27;d_carbonmonoxidedetector&#x27;,\n",
       "                                  &#x27;d_cats&#x27;, &#x27;d_dogs&#x27;, &#x27;d_doorman&#x27;,\n",
       "                                  &#x27;d_doormanentry&#x27;, &#x27;d_dryer&#x27;,\n",
       "                                  &#x27;d_elevatorinbuilding&#x27;, &#x27;d_essentials&#x27;,\n",
       "                                  &#x27;d_familykidfriendly&#x27;, &#x27;d_fireextinguisher&#x27;,\n",
       "                                  &#x27;d_firstaidkit&#x27;, &#x27;d_freeparkingonpremises&#x27;,\n",
       "                                  &#x27;d_freeparkingonstreet&#x27;, &#x27;d_gym&#x27;,\n",
       "                                  &#x27;d_hairdryer&#x27;, &#x27;d_hangers&#x27;, &#x27;d_heating&#x27;,\n",
       "                                  &#x27;d_hottub&#x27;, ...])])</pre></div></div></div><div class=\"sk-parallel\"><div class=\"sk-parallel-item\"><div class=\"sk-item\"><div class=\"sk-label-container\"><div class=\"sk-label sk-toggleable\"><input class=\"sk-toggleable__control sk-hidden--visually\" id=\"sk-estimator-id-17\" type=\"checkbox\" ><label for=\"sk-estimator-id-17\" class=\"sk-toggleable__label sk-toggleable__label-arrow\">cat</label><div class=\"sk-toggleable__content\"><pre>[&#x27;f_property_type&#x27;, &#x27;f_room_type&#x27;, &#x27;f_bathroom&#x27;, &#x27;f_cancellation_policy&#x27;, &#x27;f_bed_type&#x27;, &#x27;f_neighbourhood_cleansed&#x27;]</pre></div></div></div><div class=\"sk-serial\"><div class=\"sk-item\"><div class=\"sk-estimator sk-toggleable\"><input class=\"sk-toggleable__control sk-hidden--visually\" id=\"sk-estimator-id-18\" type=\"checkbox\" ><label for=\"sk-estimator-id-18\" class=\"sk-toggleable__label sk-toggleable__label-arrow\">OneHotEncoder</label><div class=\"sk-toggleable__content\"><pre>OneHotEncoder(handle_unknown=&#x27;ignore&#x27;)</pre></div></div></div></div></div></div><div class=\"sk-parallel-item\"><div class=\"sk-item\"><div class=\"sk-label-container\"><div class=\"sk-label sk-toggleable\"><input class=\"sk-toggleable__control sk-hidden--visually\" id=\"sk-estimator-id-19\" type=\"checkbox\" ><label for=\"sk-estimator-id-19\" class=\"sk-toggleable__label sk-toggleable__label-arrow\">num</label><div class=\"sk-toggleable__content\"><pre>[&#x27;n_accommodates&#x27;, &#x27;n_beds&#x27;, &#x27;n_days_since&#x27;, &#x27;n_number_of_reviews&#x27;, &#x27;flag_n_number_of_reviews&#x27;, &#x27;n_review_scores_rating&#x27;, &#x27;flag_review_scores_rating&#x27;, &#x27;d_24hourcheckin&#x27;, &#x27;d_airconditioning&#x27;, &#x27;d_breakfast&#x27;, &#x27;d_buzzerwirelessintercom&#x27;, &#x27;d_cabletv&#x27;, &#x27;d_carbonmonoxidedetector&#x27;, &#x27;d_cats&#x27;, &#x27;d_dogs&#x27;, &#x27;d_doorman&#x27;, &#x27;d_doormanentry&#x27;, &#x27;d_dryer&#x27;, &#x27;d_elevatorinbuilding&#x27;, &#x27;d_essentials&#x27;, &#x27;d_familykidfriendly&#x27;, &#x27;d_fireextinguisher&#x27;, &#x27;d_firstaidkit&#x27;, &#x27;d_freeparkingonpremises&#x27;, &#x27;d_freeparkingonstreet&#x27;, &#x27;d_gym&#x27;, &#x27;d_hairdryer&#x27;, &#x27;d_hangers&#x27;, &#x27;d_heating&#x27;, &#x27;d_hottub&#x27;, &#x27;d_indoorfireplace&#x27;, &#x27;d_internet&#x27;, &#x27;d_iron&#x27;, &#x27;d_keypad&#x27;, &#x27;d_kitchen&#x27;, &#x27;d_laptopfriendlyworkspace&#x27;, &#x27;d_lockonbedroomdoor&#x27;, &#x27;d_lockbox&#x27;, &#x27;d_otherpets&#x27;, &#x27;d_paidparkingoffpremises&#x27;, &#x27;d_petsallowed&#x27;, &#x27;d_petsliveonthisproperty&#x27;, &#x27;d_pool&#x27;, &#x27;d_privateentrance&#x27;, &#x27;d_privatelivingroom&#x27;, &#x27;d_safetycard&#x27;, &#x27;d_selfcheckin&#x27;, &#x27;d_shampoo&#x27;, &#x27;d_smartlock&#x27;, &#x27;d_smokedetector&#x27;, &#x27;d_smokingallowed&#x27;, &#x27;d_suitableforevents&#x27;, &#x27;d_tv&#x27;, &#x27;d_washer&#x27;, &#x27;d_washerdryer&#x27;, &#x27;d_wheelchairaccessible&#x27;, &#x27;d_wirelessinternet&#x27;]</pre></div></div></div><div class=\"sk-serial\"><div class=\"sk-item\"><div class=\"sk-estimator sk-toggleable\"><input class=\"sk-toggleable__control sk-hidden--visually\" id=\"sk-estimator-id-20\" type=\"checkbox\" ><label for=\"sk-estimator-id-20\" class=\"sk-toggleable__label sk-toggleable__label-arrow\">passthrough</label><div class=\"sk-toggleable__content\"><pre>passthrough</pre></div></div></div></div></div></div></div></div><div class=\"sk-item\"><div class=\"sk-estimator sk-toggleable\"><input class=\"sk-toggleable__control sk-hidden--visually\" id=\"sk-estimator-id-21\" type=\"checkbox\" ><label for=\"sk-estimator-id-21\" class=\"sk-toggleable__label sk-toggleable__label-arrow\">RandomForestRegressor</label><div class=\"sk-toggleable__content\"><pre>RandomForestRegressor(max_features=12, min_samples_split=6, n_estimators=30,\n",
       "                      n_jobs=7, oob_score=True, random_state=42)</pre></div></div></div></div></div></div></div>"
      ],
      "text/plain": [
       "Pipeline(steps=[('preprocess',\n",
       "                 ColumnTransformer(transformers=[('cat',\n",
       "                                                  OneHotEncoder(handle_unknown='ignore'),\n",
       "                                                  ['f_property_type',\n",
       "                                                   'f_room_type', 'f_bathroom',\n",
       "                                                   'f_cancellation_policy',\n",
       "                                                   'f_bed_type',\n",
       "                                                   'f_neighbourhood_cleansed']),\n",
       "                                                 ('num', 'passthrough',\n",
       "                                                  ['n_accommodates', 'n_beds',\n",
       "                                                   'n_days_since',\n",
       "                                                   'n_number_of_reviews',\n",
       "                                                   'flag_n_number_of_reviews',\n",
       "                                                   'n_review_scores_r...\n",
       "                                                   'd_doormanentry', 'd_dryer',\n",
       "                                                   'd_elevatorinbuilding',\n",
       "                                                   'd_essentials',\n",
       "                                                   'd_familykidfriendly',\n",
       "                                                   'd_fireextinguisher',\n",
       "                                                   'd_firstaidkit',\n",
       "                                                   'd_freeparkingonpremises',\n",
       "                                                   'd_freeparkingonstreet',\n",
       "                                                   'd_gym', 'd_hairdryer',\n",
       "                                                   'd_hangers', 'd_heating',\n",
       "                                                   'd_hottub', ...])])),\n",
       "                ('regressor',\n",
       "                 RandomForestRegressor(max_features=12, min_samples_split=6,\n",
       "                                       n_estimators=30, n_jobs=7,\n",
       "                                       oob_score=True, random_state=42))])"
      ]
     },
     "execution_count": 143,
     "metadata": {},
     "output_type": "execute_result"
    }
   ],
   "source": [
    "rf_best_pipeline.fit(data_train[predictors_2], data_train.price)\n"
   ]
  },
  {
   "cell_type": "code",
   "execution_count": null,
   "metadata": {},
   "outputs": [],
   "source": [
    "# This takes a while\n",
    "result = permutation_importance(\n",
    "    rf_best_pipeline,\n",
    "    data_train[predictors_2],\n",
    "    data_train.price,\n",
    "    n_repeats=10,\n",
    "    random_state=45,\n",
    "    n_jobs=-1,\n",
    ")\n"
   ]
  },
  {
   "cell_type": "code",
   "execution_count": null,
   "metadata": {},
   "outputs": [],
   "source": [
    "grouped_imp = (\n",
    "    pd.DataFrame(result.importances_mean, data_train[predictors_2].columns)\n",
    "    .reset_index()\n",
    "    .rename({\"index\": \"varname\", 0: \"imp\"}, axis=1)\n",
    "    .assign(imp_percentage=lambda x: x[\"imp\"] / x[\"imp\"].sum())\n",
    "    .sort_values(by=[\"imp\"], ascending=False)\n",
    ")"
   ]
  },
  {
   "cell_type": "code",
   "execution_count": null,
   "metadata": {},
   "outputs": [
    {
     "data": {
      "image/png": "[encoded data removed]",
      "text/plain": [
       "<Figure size 640x480 with 1 Axes>"
      ]
     },
     "metadata": {},
     "output_type": "display_data"
    },
    {
     "data": {
      "text/plain": [
       "<ggplot: (393124997)>"
      ]
     },
     "execution_count": 150,
     "metadata": {},
     "output_type": "execute_result"
    }
   ],
   "source": [
    "(\n",
    "    ggplot(\n",
    "        grouped_imp.head(10),\n",
    "        aes(x=\"reorder(varname, imp)\", y=\"imp_percentage\"),\n",
    "    )\n",
    "    + geom_point(color=color[0], size=2.5)\n",
    "    + geom_segment(\n",
    "        aes(x=\"varname\", xend=\"varname\", y=0, yend=\"imp_percentage\"),\n",
    "        color=color[0],\n",
    "        size=2,\n",
    "    )\n",
    "    + ylab(\"Importance (Percent)\")\n",
    "    + xlab(\"Variable Name\")\n",
    "    + coord_flip()\n",
    "    + ggtitle(\"Top 10 most important variable calculated with permutation importance\")\n",
    "    + scale_y_continuous(labels=percent_format())\n",
    "    + theme_bw()\n",
    ")"
   ]
  },
  {
   "cell_type": "markdown",
   "metadata": {},
   "source": [
    "## Partial Dependence Plots \n",
    "-------------------------------------------------------\n"
   ]
  },
  {
   "cell_type": "code",
   "execution_count": null,
   "metadata": {},
   "outputs": [
    {
     "data": {
      "image/png": "[encoded data removed]",
      "text/plain": [
       "<Figure size 640x480 with 2 Axes>"
      ]
     },
     "metadata": {},
     "output_type": "display_data"
    }
   ],
   "source": [
    "# Note: easy way, sklearn has plot_partial_dependence function\n",
    "# we do this on holdout set!\n",
    "plot_partial_dependence(\n",
    "    rf_best_pipeline,\n",
    "    data_holdout[predictors_2],\n",
    "    [\"n_accommodates\"],\n",
    "    feature_names=data_holdout[predictors_2].columns,\n",
    "    line_kw={\"marker\": \"o\", \"color\": color[0]},\n",
    ")\n",
    "plt.grid()\n",
    "plt.ylim(70, 130)\n",
    "plt.show()\n"
   ]
  },
  {
   "cell_type": "code",
   "execution_count": null,
   "metadata": {},
   "outputs": [
    {
     "data": {
      "image/png": "[encoded data removed]",
      "text/plain": [
       "<Figure size 640x480 with 1 Axes>"
      ]
     },
     "metadata": {},
     "output_type": "display_data"
    },
    {
     "data": {
      "text/plain": [
       "<ggplot: (380740816)>"
      ]
     },
     "execution_count": 34,
     "metadata": {},
     "output_type": "execute_result"
    }
   ],
   "source": [
    "# replicate the exact book figure with plotnine\n",
    "accom_pdp = partial_dependence(\n",
    "    rf_best_pipeline, data_holdout[predictors_2], [\"n_accommodates\"], kind=\"average\"\n",
    ")\n",
    "\n",
    "accom_pdp = (\n",
    "    pd.DataFrame(accom_pdp[\"average\"], columns=accom_pdp[\"values\"][0].tolist())\n",
    "    .T.reset_index()\n",
    "    .rename({0: \"Predicted price\", \"index\": \"Accomodates (person)\"}, axis=1)\n",
    ")\n",
    "\n",
    "(\n",
    "    ggplot(accom_pdp, aes(x=\"Accomodates (person)\", y=\"Predicted price\"))\n",
    "    + geom_point(color=color[0], size=2)\n",
    "    + geom_line(color=color[0], size=1)\n",
    "    + scale_y_continuous(limits=[70, 120], breaks=seq(70, 121, 10))\n",
    "    + scale_x_continuous(breaks=range(1, 8))\n",
    "    + theme_bw()\n",
    ")\n"
   ]
  },
  {
   "cell_type": "code",
   "execution_count": null,
   "metadata": {},
   "outputs": [
    {
     "data": {
      "image/png": "[encoded data removed]",
      "text/plain": [
       "<Figure size 640x480 with 1 Axes>"
      ]
     },
     "metadata": {},
     "output_type": "display_data"
    },
    {
     "data": {
      "text/plain": [
       "<ggplot: (380778674)>"
      ]
     },
     "execution_count": 35,
     "metadata": {},
     "output_type": "execute_result"
    }
   ],
   "source": [
    "roomtype_pdp = partial_dependence(\n",
    "    rf_best_pipeline, data_holdout[predictors_2], [\"f_room_type\"], kind=\"average\"\n",
    ")\n",
    "\n",
    "roomtype_pdp = (\n",
    "    pd.DataFrame(roomtype_pdp[\"average\"], columns=roomtype_pdp[\"values\"][0].tolist())\n",
    "    .T.reset_index()\n",
    "    .rename({0: \"Predicted price\", \"index\": \"Room type\"}, axis=1)\n",
    ")\n",
    "\n",
    "(\n",
    "    ggplot(roomtype_pdp, aes(x=\"Room type\", y=\"Predicted price\"))\n",
    "    + geom_point(color=color[0], size=2)\n",
    "    + scale_y_continuous(limits=[60, 120], breaks=seq(60, 121, 10))\n",
    "    + theme_bw()\n",
    ")\n"
   ]
  },
  {
   "cell_type": "markdown",
   "metadata": {},
   "source": [
    "### Subsample performance: RMSE / mean(y) \n",
    "---------------------------------------\n",
    "NOTE  we do this on the holdout set.\n"
   ]
  },
  {
   "cell_type": "code",
   "execution_count": null,
   "metadata": {},
   "outputs": [],
   "source": [
    "data_holdout_w_prediction = data_holdout.assign(\n",
    "    predicted_price=rf_best_pipeline.predict(data_holdout[predictors_2])\n",
    ")\n"
   ]
  },
  {
   "cell_type": "markdown",
   "metadata": {},
   "source": [
    "create nice summary table of heterogeneity"
   ]
  },
  {
   "cell_type": "code",
   "execution_count": null,
   "metadata": {},
   "outputs": [],
   "source": [
    "def calculate_rmse(groupby_obj):\n",
    "    return (\n",
    "        groupby_obj.apply(\n",
    "            lambda x: mean_squared_error(x.predicted_price, x.price, squared=False),\n",
    "        )\n",
    "        .to_frame(name=\"rmse\")\n",
    "        .assign(mean_price=groupby_obj.apply(lambda x: np.mean(x.price)).values)\n",
    "        .assign(rmse_norm=lambda x: x.rmse / x.mean_price)\n",
    "        .round(2)\n",
    "    )\n"
   ]
  },
  {
   "cell_type": "code",
   "execution_count": null,
   "metadata": {},
   "outputs": [],
   "source": [
    "# cheaper or more expensive flats - not used in book\n",
    "grouped_object = data_holdout_w_prediction.assign(\n",
    "    is_low_size=lambda x: np.where(x.n_accommodates <= 3, \"small apt\", \"large apt\")\n",
    ").groupby(\"is_low_size\")\n",
    "accom_subset = calculate_rmse(grouped_object)\n"
   ]
  },
  {
   "cell_type": "code",
   "execution_count": null,
   "metadata": {},
   "outputs": [],
   "source": [
    "grouped_object = data_holdout_w_prediction.loc[\n",
    "    lambda x: x.f_neighbourhood_cleansed.isin(\n",
    "        [\n",
    "            \"Westminster\",\n",
    "            \"Camden\",\n",
    "            \"Kensington and Chelsea\",\n",
    "            \"Tower Hamlets\",\n",
    "            \"Hackney\",\n",
    "            \"Newham\",\n",
    "        ]\n",
    "    )\n",
    "].groupby(\"f_neighbourhood_cleansed\")\n",
    "neightbourhood_subset = calculate_rmse(grouped_object)\n"
   ]
  },
  {
   "cell_type": "code",
   "execution_count": null,
   "metadata": {},
   "outputs": [],
   "source": [
    "grouped_object = data_holdout_w_prediction.loc[\n",
    "    lambda x: x.f_property_type.isin([\"Apartment\", \"House\"])\n",
    "].groupby(\"f_property_type\")\n",
    "proptype_subset = calculate_rmse(grouped_object)\n"
   ]
  },
  {
   "cell_type": "code",
   "execution_count": null,
   "metadata": {},
   "outputs": [],
   "source": [
    "all_holdout = (\n",
    "    pd.DataFrame(\n",
    "        [\n",
    "            mean_squared_error(\n",
    "                data_holdout_w_prediction.price,\n",
    "                data_holdout_w_prediction.predicted_price,\n",
    "                squared=False,\n",
    "            ),\n",
    "            data_holdout_w_prediction.price.mean(),\n",
    "        ],\n",
    "        index=[\"rmse\", \"mean_price\"],\n",
    "    )\n",
    "    .T.assign(rmse_norm=lambda x: x.rmse / x.mean_price)\n",
    "    .round(2)\n",
    ")\n",
    "all_holdout.index = [\"All\"]\n"
   ]
  },
  {
   "cell_type": "code",
   "execution_count": null,
   "metadata": {},
   "outputs": [],
   "source": [
    "type_rows = pd.DataFrame(\n",
    "    None,\n",
    "    index=[\"Apartment size\", \"Type\", \"Borough\"],\n",
    "    columns=[\"rmse\", \"mean_price\", \"rmse_norm\"],\n",
    ").fillna(\"\")\n"
   ]
  },
  {
   "cell_type": "markdown",
   "metadata": {},
   "source": [
    "### Table 16.2 Performance across subsamples"
   ]
  },
  {
   "cell_type": "code",
   "execution_count": null,
   "metadata": {},
   "outputs": [
    {
     "data": {
      "text/html": [
       "<div>\n",
       "<style scoped>\n",
       "    .dataframe tbody tr th:only-of-type {\n",
       "        vertical-align: middle;\n",
       "    }\n",
       "\n",
       "    .dataframe tbody tr th {\n",
       "        vertical-align: top;\n",
       "    }\n",
       "\n",
       "    .dataframe thead th {\n",
       "        text-align: right;\n",
       "    }\n",
       "</style>\n",
       "<table border=\"1\" class=\"dataframe\">\n",
       "  <thead>\n",
       "    <tr style=\"text-align: right;\">\n",
       "      <th></th>\n",
       "      <th>rmse</th>\n",
       "      <th>mean_price</th>\n",
       "      <th>rmse_norm</th>\n",
       "    </tr>\n",
       "  </thead>\n",
       "  <tbody>\n",
       "    <tr>\n",
       "      <th>Apartment size</th>\n",
       "      <td></td>\n",
       "      <td></td>\n",
       "      <td></td>\n",
       "    </tr>\n",
       "    <tr>\n",
       "      <th>large apt</th>\n",
       "      <td>65.25</td>\n",
       "      <td>144.06</td>\n",
       "      <td>0.45</td>\n",
       "    </tr>\n",
       "    <tr>\n",
       "      <th>small apt</th>\n",
       "      <td>30.98</td>\n",
       "      <td>62.86</td>\n",
       "      <td>0.49</td>\n",
       "    </tr>\n",
       "    <tr>\n",
       "      <th>Type</th>\n",
       "      <td></td>\n",
       "      <td></td>\n",
       "      <td></td>\n",
       "    </tr>\n",
       "    <tr>\n",
       "      <th>Apartment</th>\n",
       "      <td>43.23</td>\n",
       "      <td>93.19</td>\n",
       "      <td>0.46</td>\n",
       "    </tr>\n",
       "    <tr>\n",
       "      <th>House</th>\n",
       "      <td>50.06</td>\n",
       "      <td>77.49</td>\n",
       "      <td>0.65</td>\n",
       "    </tr>\n",
       "    <tr>\n",
       "      <th>Borough</th>\n",
       "      <td></td>\n",
       "      <td></td>\n",
       "      <td></td>\n",
       "    </tr>\n",
       "    <tr>\n",
       "      <th>Camden</th>\n",
       "      <td>52.52</td>\n",
       "      <td>105.01</td>\n",
       "      <td>0.5</td>\n",
       "    </tr>\n",
       "    <tr>\n",
       "      <th>Hackney</th>\n",
       "      <td>38.75</td>\n",
       "      <td>76.05</td>\n",
       "      <td>0.51</td>\n",
       "    </tr>\n",
       "    <tr>\n",
       "      <th>Kensington and Chelsea</th>\n",
       "      <td>65.96</td>\n",
       "      <td>143.55</td>\n",
       "      <td>0.46</td>\n",
       "    </tr>\n",
       "    <tr>\n",
       "      <th>Newham</th>\n",
       "      <td>29.7</td>\n",
       "      <td>61.57</td>\n",
       "      <td>0.48</td>\n",
       "    </tr>\n",
       "    <tr>\n",
       "      <th>Tower Hamlets</th>\n",
       "      <td>35.51</td>\n",
       "      <td>74.25</td>\n",
       "      <td>0.48</td>\n",
       "    </tr>\n",
       "    <tr>\n",
       "      <th>Westminster</th>\n",
       "      <td>63.69</td>\n",
       "      <td>131.43</td>\n",
       "      <td>0.48</td>\n",
       "    </tr>\n",
       "    <tr>\n",
       "      <th>All</th>\n",
       "      <td>45.06</td>\n",
       "      <td>89.21</td>\n",
       "      <td>0.51</td>\n",
       "    </tr>\n",
       "  </tbody>\n",
       "</table>\n",
       "</div>"
      ],
      "text/plain": [
       "                         rmse mean_price rmse_norm\n",
       "Apartment size                                    \n",
       "large apt               65.25     144.06      0.45\n",
       "small apt               30.98      62.86      0.49\n",
       "Type                                              \n",
       "Apartment               43.23      93.19      0.46\n",
       "House                   50.06      77.49      0.65\n",
       "Borough                                           \n",
       "Camden                  52.52     105.01       0.5\n",
       "Hackney                 38.75      76.05      0.51\n",
       "Kensington and Chelsea  65.96     143.55      0.46\n",
       "Newham                   29.7      61.57      0.48\n",
       "Tower Hamlets           35.51      74.25      0.48\n",
       "Westminster             63.69     131.43      0.48\n",
       "All                     45.06      89.21      0.51"
      ]
     },
     "execution_count": 43,
     "metadata": {},
     "output_type": "execute_result"
    }
   ],
   "source": [
    "pd.concat(\n",
    "    [\n",
    "        type_rows.iloc[[0]],\n",
    "        accom_subset,\n",
    "        type_rows.iloc[[1]],\n",
    "        proptype_subset,\n",
    "        type_rows.iloc[[2]],\n",
    "        neightbourhood_subset,\n",
    "        all_holdout,\n",
    "    ]\n",
    ")\n"
   ]
  },
  {
   "cell_type": "markdown",
   "metadata": {},
   "source": [
    "## PART IV\n",
    "### HORSERACE: compare with other models \n",
    "-----------------------------------------------"
   ]
  },
  {
   "cell_type": "markdown",
   "metadata": {},
   "source": [
    "1. OLS with dummies for area\n",
    "\n",
    " using model B"
   ]
  },
  {
   "cell_type": "code",
   "execution_count": null,
   "metadata": {},
   "outputs": [],
   "source": [
    "from sklearn.linear_model import LinearRegression\n",
    "from sklearn.metrics import mean_squared_error\n"
   ]
  },
  {
   "cell_type": "code",
   "execution_count": null,
   "metadata": {},
   "outputs": [
    {
     "data": {
      "text/plain": [
       "47.15367981281546"
      ]
     },
     "execution_count": 56,
     "metadata": {},
     "output_type": "execute_result"
    }
   ],
   "source": [
    "y, X = dmatrices(\"price ~ \" + \" + \".join(predictors_2), data_train)\n",
    "\n",
    "ols_model = LinearRegression().fit(X, y)\n",
    "\n",
    "# y_test, X_test = dmatrices(\"price ~ \" + \" + \".join(predictors_2), data_holdout)\n",
    "\n",
    "y_hat = ols_model.predict(X)\n",
    "\n",
    "ols_rmse = mean_squared_error(y, y_hat, squared=False)\n",
    "ols_rmse\n"
   ]
  },
  {
   "cell_type": "code",
   "execution_count": null,
   "metadata": {},
   "outputs": [],
   "source": [
    "ols_model_coeffs_df = pd.DataFrame(\n",
    "    ols_model.coef_.tolist()[0],\n",
    "    index=X.design_info.column_names,\n",
    "    columns=[\"ols_coefficient\"],\n",
    ").assign(ols_coefficient=lambda x: x.ols_coefficient.round(3))\n"
   ]
  },
  {
   "cell_type": "code",
   "execution_count": null,
   "metadata": {},
   "outputs": [
    {
     "data": {
      "text/html": [
       "<div>\n",
       "<style scoped>\n",
       "    .dataframe tbody tr th:only-of-type {\n",
       "        vertical-align: middle;\n",
       "    }\n",
       "\n",
       "    .dataframe tbody tr th {\n",
       "        vertical-align: top;\n",
       "    }\n",
       "\n",
       "    .dataframe thead th {\n",
       "        text-align: right;\n",
       "    }\n",
       "</style>\n",
       "<table border=\"1\" class=\"dataframe\">\n",
       "  <thead>\n",
       "    <tr style=\"text-align: right;\">\n",
       "      <th></th>\n",
       "      <th>ols_coefficient</th>\n",
       "    </tr>\n",
       "  </thead>\n",
       "  <tbody>\n",
       "    <tr>\n",
       "      <th>Intercept</th>\n",
       "      <td>-0.000</td>\n",
       "    </tr>\n",
       "    <tr>\n",
       "      <th>f_property_type[T.House]</th>\n",
       "      <td>7.384</td>\n",
       "    </tr>\n",
       "    <tr>\n",
       "      <th>f_room_type[T.Private room]</th>\n",
       "      <td>-34.916</td>\n",
       "    </tr>\n",
       "    <tr>\n",
       "      <th>f_room_type[T.Shared room]</th>\n",
       "      <td>-44.568</td>\n",
       "    </tr>\n",
       "    <tr>\n",
       "      <th>f_cancellation_policy[T.moderate]</th>\n",
       "      <td>-1.296</td>\n",
       "    </tr>\n",
       "    <tr>\n",
       "      <th>...</th>\n",
       "      <td>...</td>\n",
       "    </tr>\n",
       "    <tr>\n",
       "      <th>d_tv</th>\n",
       "      <td>6.066</td>\n",
       "    </tr>\n",
       "    <tr>\n",
       "      <th>d_washer</th>\n",
       "      <td>-4.694</td>\n",
       "    </tr>\n",
       "    <tr>\n",
       "      <th>d_washerdryer</th>\n",
       "      <td>80.073</td>\n",
       "    </tr>\n",
       "    <tr>\n",
       "      <th>d_wheelchairaccessible</th>\n",
       "      <td>-1.931</td>\n",
       "    </tr>\n",
       "    <tr>\n",
       "      <th>d_wirelessinternet</th>\n",
       "      <td>-1.520</td>\n",
       "    </tr>\n",
       "  </tbody>\n",
       "</table>\n",
       "<p>97 rows × 1 columns</p>\n",
       "</div>"
      ],
      "text/plain": [
       "                                   ols_coefficient\n",
       "Intercept                                   -0.000\n",
       "f_property_type[T.House]                     7.384\n",
       "f_room_type[T.Private room]                -34.916\n",
       "f_room_type[T.Shared room]                 -44.568\n",
       "f_cancellation_policy[T.moderate]           -1.296\n",
       "...                                            ...\n",
       "d_tv                                         6.066\n",
       "d_washer                                    -4.694\n",
       "d_washerdryer                               80.073\n",
       "d_wheelchairaccessible                      -1.931\n",
       "d_wirelessinternet                          -1.520\n",
       "\n",
       "[97 rows x 1 columns]"
      ]
     },
     "execution_count": 58,
     "metadata": {},
     "output_type": "execute_result"
    }
   ],
   "source": [
    "ols_model_coeffs_df\n"
   ]
  },
  {
   "cell_type": "markdown",
   "metadata": {},
   "source": [
    "2.  LASSO\n",
    "\n",
    "using extended model w interactions"
   ]
  },
  {
   "cell_type": "code",
   "execution_count": null,
   "metadata": {},
   "outputs": [],
   "source": [
    "from sklearn.linear_model import ElasticNet\n"
   ]
  },
  {
   "cell_type": "markdown",
   "metadata": {},
   "source": [
    "The parameter l1_ratio corresponds to alpha in the glmnet R package while alpha corresponds to the lambda parameter in glmnet. Specifically, l1_ratio = 1 is the lasso penalty. Currently, l1_ratio <= 0.01 is not reliable, unless you supply your own sequence of alpha.\n",
    "\n",
    "https://scikit-learn.org/stable/modules/generated/sklearn.linear_model.ElasticNet.html"
   ]
  },
  {
   "cell_type": "code",
   "execution_count": null,
   "metadata": {},
   "outputs": [],
   "source": [
    "lasso_model = ElasticNet(l1_ratio=1, normalize=True, fit_intercept=True)\n"
   ]
  },
  {
   "cell_type": "code",
   "execution_count": null,
   "metadata": {},
   "outputs": [],
   "source": [
    "lasso_model_cv = GridSearchCV(\n",
    "    lasso_model,\n",
    "    {\"alpha\": [i / 100 for i in range(1, 26, 1)]},\n",
    "    cv=5,\n",
    "    scoring=\"neg_root_mean_squared_error\",\n",
    "    verbose=3,\n",
    ")\n"
   ]
  },
  {
   "cell_type": "code",
   "execution_count": null,
   "metadata": {},
   "outputs": [],
   "source": [
    "y, X = dmatrices(\"price ~ \" + \" + \".join(predictors_E), data_train)\n"
   ]
  },
  {
   "cell_type": "code",
   "execution_count": null,
   "metadata": {},
   "outputs": [
    {
     "name": "stdout",
     "output_type": "stream",
     "text": [
      "Fitting 5 folds for each of 25 candidates, totalling 125 fits\n",
      "[CV 1/5] END ......................alpha=0.01;, score=-48.060 total time=   0.5s\n",
      "[CV 2/5] END ......................alpha=0.01;, score=-46.621 total time=   0.6s\n",
      "[CV 3/5] END ......................alpha=0.01;, score=-47.374 total time=   0.6s\n",
      "[CV 4/5] END ......................alpha=0.01;, score=-45.666 total time=   0.5s\n",
      "[CV 5/5] END ......................alpha=0.01;, score=-48.527 total time=   0.6s\n",
      "[CV 1/5] END ......................alpha=0.02;, score=-49.666 total time=   0.4s\n",
      "[CV 2/5] END ......................alpha=0.02;, score=-48.011 total time=   0.4s\n",
      "[CV 3/5] END ......................alpha=0.02;, score=-48.783 total time=   0.4s\n",
      "[CV 4/5] END ......................alpha=0.02;, score=-47.267 total time=   0.5s\n",
      "[CV 5/5] END ......................alpha=0.02;, score=-50.198 total time=   0.4s\n",
      "[CV 1/5] END ......................alpha=0.03;, score=-50.921 total time=   0.3s\n",
      "[CV 2/5] END ......................alpha=0.03;, score=-49.145 total time=   0.3s\n",
      "[CV 3/5] END ......................alpha=0.03;, score=-49.937 total time=   0.2s\n",
      "[CV 4/5] END ......................alpha=0.03;, score=-48.551 total time=   0.3s\n",
      "[CV 5/5] END ......................alpha=0.03;, score=-51.459 total time=   0.2s\n",
      "[CV 1/5] END ......................alpha=0.04;, score=-52.010 total time=   0.3s\n",
      "[CV 2/5] END ......................alpha=0.04;, score=-50.040 total time=   0.3s\n",
      "[CV 3/5] END ......................alpha=0.04;, score=-51.083 total time=   0.2s\n",
      "[CV 4/5] END ......................alpha=0.04;, score=-49.630 total time=   0.2s\n",
      "[CV 5/5] END ......................alpha=0.04;, score=-52.641 total time=   0.1s\n",
      "[CV 1/5] END ......................alpha=0.05;, score=-52.758 total time=   0.1s\n",
      "[CV 2/5] END ......................alpha=0.05;, score=-50.669 total time=   0.1s\n",
      "[CV 3/5] END ......................alpha=0.05;, score=-51.970 total time=   0.2s\n",
      "[CV 4/5] END ......................alpha=0.05;, score=-50.442 total time=   0.1s\n",
      "[CV 5/5] END ......................alpha=0.05;, score=-53.520 total time=   0.2s\n",
      "[CV 1/5] END ......................alpha=0.06;, score=-53.649 total time=   0.2s\n",
      "[CV 2/5] END ......................alpha=0.06;, score=-51.419 total time=   0.1s\n",
      "[CV 3/5] END ......................alpha=0.06;, score=-52.970 total time=   0.2s\n",
      "[CV 4/5] END ......................alpha=0.06;, score=-51.365 total time=   0.2s\n",
      "[CV 5/5] END ......................alpha=0.06;, score=-54.543 total time=   0.3s\n",
      "[CV 1/5] END ......................alpha=0.07;, score=-54.683 total time=   0.2s\n",
      "[CV 2/5] END ......................alpha=0.07;, score=-52.320 total time=   0.3s\n",
      "[CV 3/5] END ......................alpha=0.07;, score=-54.113 total time=   0.2s\n",
      "[CV 4/5] END ......................alpha=0.07;, score=-52.430 total time=   0.1s\n",
      "[CV 5/5] END ......................alpha=0.07;, score=-55.721 total time=   0.1s\n",
      "[CV 1/5] END ......................alpha=0.08;, score=-55.852 total time=   0.3s\n",
      "[CV 2/5] END ......................alpha=0.08;, score=-53.364 total time=   0.3s\n",
      "[CV 3/5] END ......................alpha=0.08;, score=-55.391 total time=   0.2s\n",
      "[CV 4/5] END ......................alpha=0.08;, score=-53.630 total time=   0.2s\n",
      "[CV 5/5] END ......................alpha=0.08;, score=-57.021 total time=   0.3s\n",
      "[CV 1/5] END ......................alpha=0.09;, score=-56.783 total time=   0.2s\n",
      "[CV 2/5] END ......................alpha=0.09;, score=-54.226 total time=   0.3s\n",
      "[CV 3/5] END ......................alpha=0.09;, score=-56.250 total time=   0.2s\n",
      "[CV 4/5] END ......................alpha=0.09;, score=-54.565 total time=   0.2s\n",
      "[CV 5/5] END ......................alpha=0.09;, score=-57.842 total time=   0.2s\n",
      "[CV 1/5] END .......................alpha=0.1;, score=-57.424 total time=   0.2s\n",
      "[CV 2/5] END .......................alpha=0.1;, score=-54.915 total time=   0.1s\n",
      "[CV 3/5] END .......................alpha=0.1;, score=-56.865 total time=   0.2s\n",
      "[CV 4/5] END .......................alpha=0.1;, score=-55.339 total time=   0.2s\n",
      "[CV 5/5] END .......................alpha=0.1;, score=-58.519 total time=   0.2s\n",
      "[CV 1/5] END ......................alpha=0.11;, score=-58.060 total time=   0.2s\n",
      "[CV 2/5] END ......................alpha=0.11;, score=-55.501 total time=   0.2s\n",
      "[CV 3/5] END ......................alpha=0.11;, score=-57.506 total time=   0.2s\n",
      "[CV 4/5] END ......................alpha=0.11;, score=-56.021 total time=   0.1s\n",
      "[CV 5/5] END ......................alpha=0.11;, score=-59.173 total time=   0.2s\n",
      "[CV 1/5] END ......................alpha=0.12;, score=-58.748 total time=   0.2s\n",
      "[CV 2/5] END ......................alpha=0.12;, score=-56.143 total time=   0.1s\n",
      "[CV 3/5] END ......................alpha=0.12;, score=-58.200 total time=   0.1s\n",
      "[CV 4/5] END ......................alpha=0.12;, score=-56.755 total time=   0.1s\n",
      "[CV 5/5] END ......................alpha=0.12;, score=-59.877 total time=   0.2s\n",
      "[CV 1/5] END ......................alpha=0.13;, score=-59.486 total time=   0.2s\n",
      "[CV 2/5] END ......................alpha=0.13;, score=-56.839 total time=   0.1s\n",
      "[CV 3/5] END ......................alpha=0.13;, score=-58.945 total time=   0.1s\n",
      "[CV 4/5] END ......................alpha=0.13;, score=-57.539 total time=   0.2s\n",
      "[CV 5/5] END ......................alpha=0.13;, score=-60.632 total time=   0.1s\n",
      "[CV 1/5] END ......................alpha=0.14;, score=-60.273 total time=   0.2s\n",
      "[CV 2/5] END ......................alpha=0.14;, score=-57.586 total time=   0.2s\n",
      "[CV 3/5] END ......................alpha=0.14;, score=-59.740 total time=   0.1s\n",
      "[CV 4/5] END ......................alpha=0.14;, score=-58.370 total time=   0.1s\n",
      "[CV 5/5] END ......................alpha=0.14;, score=-61.435 total time=   0.1s\n",
      "[CV 1/5] END ......................alpha=0.15;, score=-61.107 total time=   0.1s\n",
      "[CV 2/5] END ......................alpha=0.15;, score=-58.383 total time=   0.2s\n",
      "[CV 3/5] END ......................alpha=0.15;, score=-60.582 total time=   0.1s\n",
      "[CV 4/5] END ......................alpha=0.15;, score=-59.247 total time=   0.2s\n",
      "[CV 5/5] END ......................alpha=0.15;, score=-62.283 total time=   0.2s\n",
      "[CV 1/5] END ......................alpha=0.16;, score=-61.985 total time=   0.1s\n",
      "[CV 2/5] END ......................alpha=0.16;, score=-59.228 total time=   0.2s\n",
      "[CV 3/5] END ......................alpha=0.16;, score=-61.470 total time=   0.1s\n",
      "[CV 4/5] END ......................alpha=0.16;, score=-60.167 total time=   0.1s\n",
      "[CV 5/5] END ......................alpha=0.16;, score=-63.177 total time=   0.1s\n",
      "[CV 1/5] END ......................alpha=0.17;, score=-62.906 total time=   0.1s\n",
      "[CV 2/5] END ......................alpha=0.17;, score=-60.118 total time=   0.1s\n",
      "[CV 3/5] END ......................alpha=0.17;, score=-62.401 total time=   0.1s\n",
      "[CV 4/5] END ......................alpha=0.17;, score=-61.130 total time=   0.2s\n",
      "[CV 5/5] END ......................alpha=0.17;, score=-64.112 total time=   0.2s\n",
      "[CV 1/5] END ......................alpha=0.18;, score=-63.868 total time=   0.2s\n",
      "[CV 2/5] END ......................alpha=0.18;, score=-61.052 total time=   0.2s\n",
      "[CV 3/5] END ......................alpha=0.18;, score=-63.373 total time=   0.1s\n",
      "[CV 4/5] END ......................alpha=0.18;, score=-62.132 total time=   0.2s\n",
      "[CV 5/5] END ......................alpha=0.18;, score=-65.089 total time=   0.2s\n",
      "[CV 1/5] END ......................alpha=0.19;, score=-64.839 total time=   0.2s\n",
      "[CV 2/5] END ......................alpha=0.19;, score=-62.007 total time=   0.1s\n",
      "[CV 3/5] END ......................alpha=0.19;, score=-64.380 total time=   0.2s\n",
      "[CV 4/5] END ......................alpha=0.19;, score=-63.134 total time=   0.1s\n",
      "[CV 5/5] END ......................alpha=0.19;, score=-66.104 total time=   0.2s\n",
      "[CV 1/5] END .......................alpha=0.2;, score=-65.675 total time=   0.1s\n",
      "[CV 2/5] END .......................alpha=0.2;, score=-62.808 total time=   0.1s\n",
      "[CV 3/5] END .......................alpha=0.2;, score=-65.230 total time=   0.1s\n",
      "[CV 4/5] END .......................alpha=0.2;, score=-63.992 total time=   0.1s\n",
      "[CV 5/5] END .......................alpha=0.2;, score=-67.007 total time=   0.1s\n",
      "[CV 1/5] END ......................alpha=0.21;, score=-66.543 total time=   0.1s\n"
     ]
    },
    {
     "name": "stdout",
     "output_type": "stream",
     "text": [
      "[CV 2/5] END ......................alpha=0.21;, score=-63.643 total time=   0.1s\n",
      "[CV 3/5] END ......................alpha=0.21;, score=-66.111 total time=   0.1s\n",
      "[CV 4/5] END ......................alpha=0.21;, score=-64.880 total time=   0.1s\n",
      "[CV 5/5] END ......................alpha=0.21;, score=-67.910 total time=   0.1s\n",
      "[CV 1/5] END ......................alpha=0.22;, score=-67.441 total time=   0.1s\n",
      "[CV 2/5] END ......................alpha=0.22;, score=-64.509 total time=   0.1s\n",
      "[CV 3/5] END ......................alpha=0.22;, score=-67.022 total time=   0.1s\n",
      "[CV 4/5] END ......................alpha=0.22;, score=-65.796 total time=   0.1s\n",
      "[CV 5/5] END ......................alpha=0.22;, score=-68.842 total time=   0.2s\n",
      "[CV 1/5] END ......................alpha=0.23;, score=-68.368 total time=   0.1s\n",
      "[CV 2/5] END ......................alpha=0.23;, score=-65.407 total time=   0.1s\n",
      "[CV 3/5] END ......................alpha=0.23;, score=-67.963 total time=   0.1s\n",
      "[CV 4/5] END ......................alpha=0.23;, score=-66.741 total time=   0.1s\n",
      "[CV 5/5] END ......................alpha=0.23;, score=-69.804 total time=   0.1s\n",
      "[CV 1/5] END ......................alpha=0.24;, score=-69.324 total time=   0.1s\n",
      "[CV 2/5] END ......................alpha=0.24;, score=-66.334 total time=   0.1s\n",
      "[CV 3/5] END ......................alpha=0.24;, score=-68.932 total time=   0.1s\n",
      "[CV 4/5] END ......................alpha=0.24;, score=-67.712 total time=   0.1s\n",
      "[CV 5/5] END ......................alpha=0.24;, score=-70.793 total time=   0.1s\n",
      "[CV 1/5] END ......................alpha=0.25;, score=-70.307 total time=   0.1s\n",
      "[CV 2/5] END ......................alpha=0.25;, score=-67.289 total time=   0.1s\n",
      "[CV 3/5] END ......................alpha=0.25;, score=-69.927 total time=   0.1s\n",
      "[CV 4/5] END ......................alpha=0.25;, score=-68.708 total time=   0.1s\n",
      "[CV 5/5] END ......................alpha=0.25;, score=-71.809 total time=   0.1s\n"
     ]
    },
    {
     "data": {
      "text/html": [
       "<style>#sk-container-id-2 {color: black;background-color: white;}#sk-container-id-2 pre{padding: 0;}#sk-container-id-2 div.sk-toggleable {background-color: white;}#sk-container-id-2 label.sk-toggleable__label {cursor: pointer;display: block;width: 100%;margin-bottom: 0;padding: 0.3em;box-sizing: border-box;text-align: center;}#sk-container-id-2 label.sk-toggleable__label-arrow:before {content: \"▸\";float: left;margin-right: 0.25em;color: #696969;}#sk-container-id-2 label.sk-toggleable__label-arrow:hover:before {color: black;}#sk-container-id-2 div.sk-estimator:hover label.sk-toggleable__label-arrow:before {color: black;}#sk-container-id-2 div.sk-toggleable__content {max-height: 0;max-width: 0;overflow: hidden;text-align: left;background-color: #f0f8ff;}#sk-container-id-2 div.sk-toggleable__content pre {margin: 0.2em;color: black;border-radius: 0.25em;background-color: #f0f8ff;}#sk-container-id-2 input.sk-toggleable__control:checked~div.sk-toggleable__content {max-height: 200px;max-width: 100%;overflow: auto;}#sk-container-id-2 input.sk-toggleable__control:checked~label.sk-toggleable__label-arrow:before {content: \"▾\";}#sk-container-id-2 div.sk-estimator input.sk-toggleable__control:checked~label.sk-toggleable__label {background-color: #d4ebff;}#sk-container-id-2 div.sk-label input.sk-toggleable__control:checked~label.sk-toggleable__label {background-color: #d4ebff;}#sk-container-id-2 input.sk-hidden--visually {border: 0;clip: rect(1px 1px 1px 1px);clip: rect(1px, 1px, 1px, 1px);height: 1px;margin: -1px;overflow: hidden;padding: 0;position: absolute;width: 1px;}#sk-container-id-2 div.sk-estimator {font-family: monospace;background-color: #f0f8ff;border: 1px dotted black;border-radius: 0.25em;box-sizing: border-box;margin-bottom: 0.5em;}#sk-container-id-2 div.sk-estimator:hover {background-color: #d4ebff;}#sk-container-id-2 div.sk-parallel-item::after {content: \"\";width: 100%;border-bottom: 1px solid gray;flex-grow: 1;}#sk-container-id-2 div.sk-label:hover label.sk-toggleable__label {background-color: #d4ebff;}#sk-container-id-2 div.sk-serial::before {content: \"\";position: absolute;border-left: 1px solid gray;box-sizing: border-box;top: 0;bottom: 0;left: 50%;z-index: 0;}#sk-container-id-2 div.sk-serial {display: flex;flex-direction: column;align-items: center;background-color: white;padding-right: 0.2em;padding-left: 0.2em;position: relative;}#sk-container-id-2 div.sk-item {position: relative;z-index: 1;}#sk-container-id-2 div.sk-parallel {display: flex;align-items: stretch;justify-content: center;background-color: white;position: relative;}#sk-container-id-2 div.sk-item::before, #sk-container-id-2 div.sk-parallel-item::before {content: \"\";position: absolute;border-left: 1px solid gray;box-sizing: border-box;top: 0;bottom: 0;left: 50%;z-index: -1;}#sk-container-id-2 div.sk-parallel-item {display: flex;flex-direction: column;z-index: 1;position: relative;background-color: white;}#sk-container-id-2 div.sk-parallel-item:first-child::after {align-self: flex-end;width: 50%;}#sk-container-id-2 div.sk-parallel-item:last-child::after {align-self: flex-start;width: 50%;}#sk-container-id-2 div.sk-parallel-item:only-child::after {width: 0;}#sk-container-id-2 div.sk-dashed-wrapped {border: 1px dashed gray;margin: 0 0.4em 0.5em 0.4em;box-sizing: border-box;padding-bottom: 0.4em;background-color: white;}#sk-container-id-2 div.sk-label label {font-family: monospace;font-weight: bold;display: inline-block;line-height: 1.2em;}#sk-container-id-2 div.sk-label-container {text-align: center;}#sk-container-id-2 div.sk-container {/* jupyter's `normalize.less` sets `[hidden] { display: none; }` but bootstrap.min.css set `[hidden] { display: none !important; }` so we also need the `!important` here to be able to override the default hidden behavior on the sphinx rendered scikit-learn.org. See: https://github.com/scikit-learn/scikit-learn/issues/21755 */display: inline-block !important;position: relative;}#sk-container-id-2 div.sk-text-repr-fallback {display: none;}</style><div id=\"sk-container-id-2\" class=\"sk-top-container\"><div class=\"sk-text-repr-fallback\"><pre>GridSearchCV(cv=5, estimator=ElasticNet(l1_ratio=1, normalize=True),\n",
       "             param_grid={&#x27;alpha&#x27;: [0.01, 0.02, 0.03, 0.04, 0.05, 0.06, 0.07,\n",
       "                                   0.08, 0.09, 0.1, 0.11, 0.12, 0.13, 0.14,\n",
       "                                   0.15, 0.16, 0.17, 0.18, 0.19, 0.2, 0.21,\n",
       "                                   0.22, 0.23, 0.24, 0.25]},\n",
       "             scoring=&#x27;neg_root_mean_squared_error&#x27;, verbose=3)</pre><b>In a Jupyter environment, please rerun this cell to show the HTML representation or trust the notebook. <br />On GitHub, the HTML representation is unable to render, please try loading this page with nbviewer.org.</b></div><div class=\"sk-container\" hidden><div class=\"sk-item sk-dashed-wrapped\"><div class=\"sk-label-container\"><div class=\"sk-label sk-toggleable\"><input class=\"sk-toggleable__control sk-hidden--visually\" id=\"sk-estimator-id-8\" type=\"checkbox\" ><label for=\"sk-estimator-id-8\" class=\"sk-toggleable__label sk-toggleable__label-arrow\">GridSearchCV</label><div class=\"sk-toggleable__content\"><pre>GridSearchCV(cv=5, estimator=ElasticNet(l1_ratio=1, normalize=True),\n",
       "             param_grid={&#x27;alpha&#x27;: [0.01, 0.02, 0.03, 0.04, 0.05, 0.06, 0.07,\n",
       "                                   0.08, 0.09, 0.1, 0.11, 0.12, 0.13, 0.14,\n",
       "                                   0.15, 0.16, 0.17, 0.18, 0.19, 0.2, 0.21,\n",
       "                                   0.22, 0.23, 0.24, 0.25]},\n",
       "             scoring=&#x27;neg_root_mean_squared_error&#x27;, verbose=3)</pre></div></div></div><div class=\"sk-parallel\"><div class=\"sk-parallel-item\"><div class=\"sk-item\"><div class=\"sk-label-container\"><div class=\"sk-label sk-toggleable\"><input class=\"sk-toggleable__control sk-hidden--visually\" id=\"sk-estimator-id-9\" type=\"checkbox\" ><label for=\"sk-estimator-id-9\" class=\"sk-toggleable__label sk-toggleable__label-arrow\">estimator: ElasticNet</label><div class=\"sk-toggleable__content\"><pre>ElasticNet(l1_ratio=1, normalize=True)</pre></div></div></div><div class=\"sk-serial\"><div class=\"sk-item\"><div class=\"sk-estimator sk-toggleable\"><input class=\"sk-toggleable__control sk-hidden--visually\" id=\"sk-estimator-id-10\" type=\"checkbox\" ><label for=\"sk-estimator-id-10\" class=\"sk-toggleable__label sk-toggleable__label-arrow\">ElasticNet</label><div class=\"sk-toggleable__content\"><pre>ElasticNet(l1_ratio=1, normalize=True)</pre></div></div></div></div></div></div></div></div></div></div>"
      ],
      "text/plain": [
       "GridSearchCV(cv=5, estimator=ElasticNet(l1_ratio=1, normalize=True),\n",
       "             param_grid={'alpha': [0.01, 0.02, 0.03, 0.04, 0.05, 0.06, 0.07,\n",
       "                                   0.08, 0.09, 0.1, 0.11, 0.12, 0.13, 0.14,\n",
       "                                   0.15, 0.16, 0.17, 0.18, 0.19, 0.2, 0.21,\n",
       "                                   0.22, 0.23, 0.24, 0.25]},\n",
       "             scoring='neg_root_mean_squared_error', verbose=3)"
      ]
     },
     "execution_count": 63,
     "metadata": {},
     "output_type": "execute_result"
    }
   ],
   "source": [
    "lasso_model_cv.fit(X, y.ravel())\n"
   ]
  },
  {
   "cell_type": "code",
   "execution_count": null,
   "metadata": {},
   "outputs": [
    {
     "data": {
      "text/html": [
       "<div>\n",
       "<style scoped>\n",
       "    .dataframe tbody tr th:only-of-type {\n",
       "        vertical-align: middle;\n",
       "    }\n",
       "\n",
       "    .dataframe tbody tr th {\n",
       "        vertical-align: top;\n",
       "    }\n",
       "\n",
       "    .dataframe thead th {\n",
       "        text-align: right;\n",
       "    }\n",
       "</style>\n",
       "<table border=\"1\" class=\"dataframe\">\n",
       "  <thead>\n",
       "    <tr style=\"text-align: right;\">\n",
       "      <th></th>\n",
       "      <th>lasso_coefficient</th>\n",
       "    </tr>\n",
       "  </thead>\n",
       "  <tbody>\n",
       "    <tr>\n",
       "      <th>f_room_type[T.Private room]</th>\n",
       "      <td>-34.621</td>\n",
       "    </tr>\n",
       "    <tr>\n",
       "      <th>f_room_type[T.Shared room]</th>\n",
       "      <td>-28.398</td>\n",
       "    </tr>\n",
       "    <tr>\n",
       "      <th>f_cancellation_policy[T.strict]</th>\n",
       "      <td>1.787</td>\n",
       "    </tr>\n",
       "    <tr>\n",
       "      <th>f_neighbourhood_cleansed[T.City of London]</th>\n",
       "      <td>12.601</td>\n",
       "    </tr>\n",
       "    <tr>\n",
       "      <th>f_room_type[T.Private room]:f_property_type[T.House]</th>\n",
       "      <td>-4.161</td>\n",
       "    </tr>\n",
       "    <tr>\n",
       "      <th>f_property_type[T.House]:f_neighbourhood_cleansed[T.Kensington and Chelsea]</th>\n",
       "      <td>34.572</td>\n",
       "    </tr>\n",
       "    <tr>\n",
       "      <th>n_accommodates</th>\n",
       "      <td>11.893</td>\n",
       "    </tr>\n",
       "    <tr>\n",
       "      <th>n_accommodates:f_property_type[T.House]</th>\n",
       "      <td>2.031</td>\n",
       "    </tr>\n",
       "    <tr>\n",
       "      <th>n_accommodates:f_neighbourhood_cleansed[T.Camden]</th>\n",
       "      <td>3.890</td>\n",
       "    </tr>\n",
       "    <tr>\n",
       "      <th>n_accommodates:f_neighbourhood_cleansed[T.City of London]</th>\n",
       "      <td>1.551</td>\n",
       "    </tr>\n",
       "    <tr>\n",
       "      <th>n_accommodates:f_neighbourhood_cleansed[T.Croydon]</th>\n",
       "      <td>-0.905</td>\n",
       "    </tr>\n",
       "    <tr>\n",
       "      <th>n_accommodates:f_neighbourhood_cleansed[T.Hammersmith and Fulham]</th>\n",
       "      <td>0.203</td>\n",
       "    </tr>\n",
       "    <tr>\n",
       "      <th>n_accommodates:f_neighbourhood_cleansed[T.Haringey]</th>\n",
       "      <td>-0.403</td>\n",
       "    </tr>\n",
       "    <tr>\n",
       "      <th>n_accommodates:f_neighbourhood_cleansed[T.Islington]</th>\n",
       "      <td>0.364</td>\n",
       "    </tr>\n",
       "    <tr>\n",
       "      <th>n_accommodates:f_neighbourhood_cleansed[T.Kensington and Chelsea]</th>\n",
       "      <td>10.730</td>\n",
       "    </tr>\n",
       "    <tr>\n",
       "      <th>n_accommodates:f_neighbourhood_cleansed[T.Lewisham]</th>\n",
       "      <td>-2.259</td>\n",
       "    </tr>\n",
       "    <tr>\n",
       "      <th>n_accommodates:f_neighbourhood_cleansed[T.Richmond upon Thames]</th>\n",
       "      <td>1.016</td>\n",
       "    </tr>\n",
       "    <tr>\n",
       "      <th>n_accommodates:f_neighbourhood_cleansed[T.Waltham Forest]</th>\n",
       "      <td>-2.231</td>\n",
       "    </tr>\n",
       "    <tr>\n",
       "      <th>n_accommodates:f_neighbourhood_cleansed[T.Westminster]</th>\n",
       "      <td>10.120</td>\n",
       "    </tr>\n",
       "    <tr>\n",
       "      <th>n_beds</th>\n",
       "      <td>3.186</td>\n",
       "    </tr>\n",
       "    <tr>\n",
       "      <th>f_bathroom</th>\n",
       "      <td>22.825</td>\n",
       "    </tr>\n",
       "    <tr>\n",
       "      <th>flag_n_number_of_reviews</th>\n",
       "      <td>6.208</td>\n",
       "    </tr>\n",
       "    <tr>\n",
       "      <th>n_review_scores_rating</th>\n",
       "      <td>0.138</td>\n",
       "    </tr>\n",
       "    <tr>\n",
       "      <th>flag_review_scores_rating</th>\n",
       "      <td>4.625</td>\n",
       "    </tr>\n",
       "    <tr>\n",
       "      <th>d_airconditioning</th>\n",
       "      <td>14.262</td>\n",
       "    </tr>\n",
       "    <tr>\n",
       "      <th>d_cabletv</th>\n",
       "      <td>3.532</td>\n",
       "    </tr>\n",
       "    <tr>\n",
       "      <th>d_dryer</th>\n",
       "      <td>4.720</td>\n",
       "    </tr>\n",
       "    <tr>\n",
       "      <th>d_elevatorinbuilding</th>\n",
       "      <td>3.702</td>\n",
       "    </tr>\n",
       "    <tr>\n",
       "      <th>d_freeparkingonpremises</th>\n",
       "      <td>-3.899</td>\n",
       "    </tr>\n",
       "    <tr>\n",
       "      <th>d_heating</th>\n",
       "      <td>-0.741</td>\n",
       "    </tr>\n",
       "    <tr>\n",
       "      <th>d_indoorfireplace</th>\n",
       "      <td>3.896</td>\n",
       "    </tr>\n",
       "    <tr>\n",
       "      <th>d_lockonbedroomdoor</th>\n",
       "      <td>-0.929</td>\n",
       "    </tr>\n",
       "    <tr>\n",
       "      <th>d_smokingallowed</th>\n",
       "      <td>-0.817</td>\n",
       "    </tr>\n",
       "    <tr>\n",
       "      <th>d_tv</th>\n",
       "      <td>4.002</td>\n",
       "    </tr>\n",
       "    <tr>\n",
       "      <th>d_washerdryer</th>\n",
       "      <td>22.259</td>\n",
       "    </tr>\n",
       "  </tbody>\n",
       "</table>\n",
       "</div>"
      ],
      "text/plain": [
       "                                                    lasso_coefficient\n",
       "f_room_type[T.Private room]                                   -34.621\n",
       "f_room_type[T.Shared room]                                    -28.398\n",
       "f_cancellation_policy[T.strict]                                 1.787\n",
       "f_neighbourhood_cleansed[T.City of London]                     12.601\n",
       "f_room_type[T.Private room]:f_property_type[T.H...             -4.161\n",
       "f_property_type[T.House]:f_neighbourhood_cleans...             34.572\n",
       "n_accommodates                                                 11.893\n",
       "n_accommodates:f_property_type[T.House]                         2.031\n",
       "n_accommodates:f_neighbourhood_cleansed[T.Camden]               3.890\n",
       "n_accommodates:f_neighbourhood_cleansed[T.City ...              1.551\n",
       "n_accommodates:f_neighbourhood_cleansed[T.Croydon]             -0.905\n",
       "n_accommodates:f_neighbourhood_cleansed[T.Hamme...              0.203\n",
       "n_accommodates:f_neighbourhood_cleansed[T.Harin...             -0.403\n",
       "n_accommodates:f_neighbourhood_cleansed[T.Islin...              0.364\n",
       "n_accommodates:f_neighbourhood_cleansed[T.Kensi...             10.730\n",
       "n_accommodates:f_neighbourhood_cleansed[T.Lewis...             -2.259\n",
       "n_accommodates:f_neighbourhood_cleansed[T.Richm...              1.016\n",
       "n_accommodates:f_neighbourhood_cleansed[T.Walth...             -2.231\n",
       "n_accommodates:f_neighbourhood_cleansed[T.Westm...             10.120\n",
       "n_beds                                                          3.186\n",
       "f_bathroom                                                     22.825\n",
       "flag_n_number_of_reviews                                        6.208\n",
       "n_review_scores_rating                                          0.138\n",
       "flag_review_scores_rating                                       4.625\n",
       "d_airconditioning                                              14.262\n",
       "d_cabletv                                                       3.532\n",
       "d_dryer                                                         4.720\n",
       "d_elevatorinbuilding                                            3.702\n",
       "d_freeparkingonpremises                                        -3.899\n",
       "d_heating                                                      -0.741\n",
       "d_indoorfireplace                                               3.896\n",
       "d_lockonbedroomdoor                                            -0.929\n",
       "d_smokingallowed                                               -0.817\n",
       "d_tv                                                            4.002\n",
       "d_washerdryer                                                  22.259"
      ]
     },
     "execution_count": 64,
     "metadata": {},
     "output_type": "execute_result"
    }
   ],
   "source": [
    "pd.DataFrame(\n",
    "    lasso_model_cv.best_estimator_.coef_.tolist(),\n",
    "    index=X.design_info.column_names,\n",
    "    columns=[\"lasso_coefficient\"],\n",
    ").assign(lasso_coefficient=lambda x: x.lasso_coefficient.round(3)).loc[\n",
    "    lambda x: x.lasso_coefficient != 0\n",
    "]\n"
   ]
  },
  {
   "cell_type": "code",
   "execution_count": null,
   "metadata": {
    "scrolled": true
   },
   "outputs": [
    {
     "data": {
      "text/plain": [
       "47.24976190971253"
      ]
     },
     "execution_count": 65,
     "metadata": {},
     "output_type": "execute_result"
    }
   ],
   "source": [
    "lasso_rmse = (\n",
    "    pd.DataFrame(lasso_model_cv.cv_results_)\n",
    "    .loc[lambda x: x.param_alpha == lasso_model_cv.best_estimator_.alpha]\n",
    "    .mean_test_score.values[0]\n",
    "    * -1\n",
    ")\n",
    "lasso_rmse\n"
   ]
  },
  {
   "cell_type": "markdown",
   "metadata": {},
   "source": [
    "3. CART model"
   ]
  },
  {
   "cell_type": "code",
   "execution_count": null,
   "metadata": {},
   "outputs": [],
   "source": [
    "from sklearn.tree import DecisionTreeClassifier\n"
   ]
  },
  {
   "cell_type": "code",
   "execution_count": null,
   "metadata": {},
   "outputs": [],
   "source": [
    "y, X = dmatrices(\"price ~ \" + \" + \".join(predictors_2), data_train)\n"
   ]
  },
  {
   "cell_type": "code",
   "execution_count": null,
   "metadata": {},
   "outputs": [],
   "source": [
    "cart_model = DecisionTreeClassifier(random_state=2018, criterion=\"gini\")\n"
   ]
  },
  {
   "cell_type": "code",
   "execution_count": null,
   "metadata": {},
   "outputs": [],
   "source": [
    "# Get potential ccp_alpha parameters\n",
    "\n",
    "path = cart_model.cost_complexity_pruning_path(X, y.ravel())\n",
    "ccp_alphas, impurities = path.ccp_alphas, path.impurities\n"
   ]
  },
  {
   "cell_type": "code",
   "execution_count": null,
   "metadata": {},
   "outputs": [
    {
     "name": "stdout",
     "output_type": "stream",
     "text": [
      "Fitting 5 folds for each of 10 candidates, totalling 50 fits\n",
      "[CV 1/5] END .ccp_alpha=3.583921096393142e-05;, score=-61.543 total time=   0.9s\n",
      "[CV 2/5] END .ccp_alpha=3.583921096393142e-05;, score=-61.428 total time=   0.8s\n",
      "[CV 3/5] END .ccp_alpha=3.583921096393142e-05;, score=-63.502 total time=   0.8s\n",
      "[CV 4/5] END .ccp_alpha=3.583921096393142e-05;, score=-59.553 total time=   1.2s\n",
      "[CV 5/5] END .ccp_alpha=3.583921096393142e-05;, score=-61.131 total time=   1.2s\n",
      "[CV 1/5] END ccp_alpha=2.8671368771145135e-05;, score=-61.582 total time=   0.8s\n",
      "[CV 2/5] END ccp_alpha=2.8671368771145135e-05;, score=-61.532 total time=   0.9s\n",
      "[CV 3/5] END ccp_alpha=2.8671368771145135e-05;, score=-63.607 total time=   0.8s\n",
      "[CV 4/5] END ccp_alpha=2.8671368771145135e-05;, score=-65.984 total time=   0.8s\n",
      "[CV 5/5] END ccp_alpha=2.8671368771145135e-05;, score=-62.293 total time=   1.0s\n",
      "[CV 1/5] END .ccp_alpha=4.013991627960319e-05;, score=-58.368 total time=   1.6s\n",
      "[CV 2/5] END .ccp_alpha=4.013991627960319e-05;, score=-63.297 total time=   1.2s\n",
      "[CV 3/5] END .ccp_alpha=4.013991627960319e-05;, score=-61.116 total time=   1.2s\n",
      "[CV 4/5] END .ccp_alpha=4.013991627960319e-05;, score=-59.023 total time=   1.2s\n",
      "[CV 5/5] END .ccp_alpha=4.013991627960319e-05;, score=-61.030 total time=   1.2s\n",
      "[CV 1/5] END ccp_alpha=4.3007053156717706e-05;, score=-58.009 total time=   1.2s\n",
      "[CV 2/5] END ccp_alpha=4.3007053156717706e-05;, score=-63.066 total time=   1.2s\n",
      "[CV 3/5] END ccp_alpha=4.3007053156717706e-05;, score=-61.106 total time=   1.2s\n",
      "[CV 4/5] END ccp_alpha=4.3007053156717706e-05;, score=-58.454 total time=   1.2s\n",
      "[CV 5/5] END ccp_alpha=4.3007053156717706e-05;, score=-60.760 total time=   1.2s\n",
      "[CV 1/5] END .ccp_alpha=4.459990697733689e-05;, score=-58.011 total time=   1.2s\n",
      "[CV 2/5] END .ccp_alpha=4.459990697733689e-05;, score=-62.885 total time=   1.2s\n",
      "[CV 3/5] END .ccp_alpha=4.459990697733689e-05;, score=-60.483 total time=   1.3s\n",
      "[CV 4/5] END .ccp_alpha=4.459990697733689e-05;, score=-58.783 total time=   1.2s\n",
      "[CV 5/5] END .ccp_alpha=4.459990697733689e-05;, score=-59.785 total time=   1.2s\n",
      "[CV 1/5] END .ccp_alpha=4.178178098701067e-05;, score=-58.552 total time=   1.2s\n",
      "[CV 2/5] END .ccp_alpha=4.178178098701067e-05;, score=-63.192 total time=   1.2s\n",
      "[CV 3/5] END .ccp_alpha=4.178178098701067e-05;, score=-61.108 total time=   1.2s\n",
      "[CV 4/5] END .ccp_alpha=4.178178098701067e-05;, score=-58.646 total time=   1.2s\n",
      "[CV 5/5] END .ccp_alpha=4.178178098701067e-05;, score=-60.782 total time=   1.2s\n",
      "[CV 1/5] END ccp_alpha=2.8671368771145135e-05;, score=-61.582 total time=   0.8s\n",
      "[CV 2/5] END ccp_alpha=2.8671368771145135e-05;, score=-61.532 total time=   0.8s\n",
      "[CV 3/5] END ccp_alpha=2.8671368771145135e-05;, score=-63.607 total time=   0.8s\n",
      "[CV 4/5] END ccp_alpha=2.8671368771145135e-05;, score=-65.984 total time=   0.8s\n",
      "[CV 5/5] END ccp_alpha=2.8671368771145135e-05;, score=-62.293 total time=   0.8s\n",
      "[CV 1/5] END ccp_alpha=2.8671368771145135e-05;, score=-61.582 total time=   0.8s\n",
      "[CV 2/5] END ccp_alpha=2.8671368771145135e-05;, score=-61.532 total time=   0.8s\n",
      "[CV 3/5] END ccp_alpha=2.8671368771145135e-05;, score=-63.607 total time=   0.8s\n",
      "[CV 4/5] END ccp_alpha=2.8671368771145135e-05;, score=-65.984 total time=   0.9s\n",
      "[CV 5/5] END ccp_alpha=2.8671368771145135e-05;, score=-62.293 total time=   0.9s\n",
      "[CV 1/5] END ccp_alpha=3.8228491694860175e-05;, score=-58.419 total time=   1.2s\n",
      "[CV 2/5] END ccp_alpha=3.8228491694860175e-05;, score=-63.338 total time=   1.2s\n",
      "[CV 3/5] END ccp_alpha=3.8228491694860175e-05;, score=-61.083 total time=   1.2s\n",
      "[CV 4/5] END ccp_alpha=3.8228491694860175e-05;, score=-59.543 total time=   1.2s\n",
      "[CV 5/5] END ccp_alpha=3.8228491694860175e-05;, score=-61.169 total time=   1.2s\n",
      "[CV 1/5] END ccp_alpha=3.8228491694860175e-05;, score=-58.419 total time=   1.2s\n",
      "[CV 2/5] END ccp_alpha=3.8228491694860175e-05;, score=-63.338 total time=   1.2s\n",
      "[CV 3/5] END ccp_alpha=3.8228491694860175e-05;, score=-61.083 total time=   1.2s\n",
      "[CV 4/5] END ccp_alpha=3.8228491694860175e-05;, score=-59.543 total time=   1.2s\n",
      "[CV 5/5] END ccp_alpha=3.8228491694860175e-05;, score=-61.169 total time=   1.2s\n"
     ]
    },
    {
     "data": {
      "text/html": [
       "<style>#sk-container-id-3 {color: black;background-color: white;}#sk-container-id-3 pre{padding: 0;}#sk-container-id-3 div.sk-toggleable {background-color: white;}#sk-container-id-3 label.sk-toggleable__label {cursor: pointer;display: block;width: 100%;margin-bottom: 0;padding: 0.3em;box-sizing: border-box;text-align: center;}#sk-container-id-3 label.sk-toggleable__label-arrow:before {content: \"▸\";float: left;margin-right: 0.25em;color: #696969;}#sk-container-id-3 label.sk-toggleable__label-arrow:hover:before {color: black;}#sk-container-id-3 div.sk-estimator:hover label.sk-toggleable__label-arrow:before {color: black;}#sk-container-id-3 div.sk-toggleable__content {max-height: 0;max-width: 0;overflow: hidden;text-align: left;background-color: #f0f8ff;}#sk-container-id-3 div.sk-toggleable__content pre {margin: 0.2em;color: black;border-radius: 0.25em;background-color: #f0f8ff;}#sk-container-id-3 input.sk-toggleable__control:checked~div.sk-toggleable__content {max-height: 200px;max-width: 100%;overflow: auto;}#sk-container-id-3 input.sk-toggleable__control:checked~label.sk-toggleable__label-arrow:before {content: \"▾\";}#sk-container-id-3 div.sk-estimator input.sk-toggleable__control:checked~label.sk-toggleable__label {background-color: #d4ebff;}#sk-container-id-3 div.sk-label input.sk-toggleable__control:checked~label.sk-toggleable__label {background-color: #d4ebff;}#sk-container-id-3 input.sk-hidden--visually {border: 0;clip: rect(1px 1px 1px 1px);clip: rect(1px, 1px, 1px, 1px);height: 1px;margin: -1px;overflow: hidden;padding: 0;position: absolute;width: 1px;}#sk-container-id-3 div.sk-estimator {font-family: monospace;background-color: #f0f8ff;border: 1px dotted black;border-radius: 0.25em;box-sizing: border-box;margin-bottom: 0.5em;}#sk-container-id-3 div.sk-estimator:hover {background-color: #d4ebff;}#sk-container-id-3 div.sk-parallel-item::after {content: \"\";width: 100%;border-bottom: 1px solid gray;flex-grow: 1;}#sk-container-id-3 div.sk-label:hover label.sk-toggleable__label {background-color: #d4ebff;}#sk-container-id-3 div.sk-serial::before {content: \"\";position: absolute;border-left: 1px solid gray;box-sizing: border-box;top: 0;bottom: 0;left: 50%;z-index: 0;}#sk-container-id-3 div.sk-serial {display: flex;flex-direction: column;align-items: center;background-color: white;padding-right: 0.2em;padding-left: 0.2em;position: relative;}#sk-container-id-3 div.sk-item {position: relative;z-index: 1;}#sk-container-id-3 div.sk-parallel {display: flex;align-items: stretch;justify-content: center;background-color: white;position: relative;}#sk-container-id-3 div.sk-item::before, #sk-container-id-3 div.sk-parallel-item::before {content: \"\";position: absolute;border-left: 1px solid gray;box-sizing: border-box;top: 0;bottom: 0;left: 50%;z-index: -1;}#sk-container-id-3 div.sk-parallel-item {display: flex;flex-direction: column;z-index: 1;position: relative;background-color: white;}#sk-container-id-3 div.sk-parallel-item:first-child::after {align-self: flex-end;width: 50%;}#sk-container-id-3 div.sk-parallel-item:last-child::after {align-self: flex-start;width: 50%;}#sk-container-id-3 div.sk-parallel-item:only-child::after {width: 0;}#sk-container-id-3 div.sk-dashed-wrapped {border: 1px dashed gray;margin: 0 0.4em 0.5em 0.4em;box-sizing: border-box;padding-bottom: 0.4em;background-color: white;}#sk-container-id-3 div.sk-label label {font-family: monospace;font-weight: bold;display: inline-block;line-height: 1.2em;}#sk-container-id-3 div.sk-label-container {text-align: center;}#sk-container-id-3 div.sk-container {/* jupyter's `normalize.less` sets `[hidden] { display: none; }` but bootstrap.min.css set `[hidden] { display: none !important; }` so we also need the `!important` here to be able to override the default hidden behavior on the sphinx rendered scikit-learn.org. See: https://github.com/scikit-learn/scikit-learn/issues/21755 */display: inline-block !important;position: relative;}#sk-container-id-3 div.sk-text-repr-fallback {display: none;}</style><div id=\"sk-container-id-3\" class=\"sk-top-container\"><div class=\"sk-text-repr-fallback\"><pre>RandomizedSearchCV(cv=5, estimator=DecisionTreeClassifier(random_state=2018),\n",
       "                   param_distributions={&#x27;ccp_alpha&#x27;: array([0.00000000e+00, 2.40598899e-06, 2.86713688e-06, ...,\n",
       "       9.49341420e-04, 1.09022941e-03, 1.00707174e-02])},\n",
       "                   scoring=&#x27;neg_root_mean_squared_error&#x27;, verbose=3)</pre><b>In a Jupyter environment, please rerun this cell to show the HTML representation or trust the notebook. <br />On GitHub, the HTML representation is unable to render, please try loading this page with nbviewer.org.</b></div><div class=\"sk-container\" hidden><div class=\"sk-item sk-dashed-wrapped\"><div class=\"sk-label-container\"><div class=\"sk-label sk-toggleable\"><input class=\"sk-toggleable__control sk-hidden--visually\" id=\"sk-estimator-id-11\" type=\"checkbox\" ><label for=\"sk-estimator-id-11\" class=\"sk-toggleable__label sk-toggleable__label-arrow\">RandomizedSearchCV</label><div class=\"sk-toggleable__content\"><pre>RandomizedSearchCV(cv=5, estimator=DecisionTreeClassifier(random_state=2018),\n",
       "                   param_distributions={&#x27;ccp_alpha&#x27;: array([0.00000000e+00, 2.40598899e-06, 2.86713688e-06, ...,\n",
       "       9.49341420e-04, 1.09022941e-03, 1.00707174e-02])},\n",
       "                   scoring=&#x27;neg_root_mean_squared_error&#x27;, verbose=3)</pre></div></div></div><div class=\"sk-parallel\"><div class=\"sk-parallel-item\"><div class=\"sk-item\"><div class=\"sk-label-container\"><div class=\"sk-label sk-toggleable\"><input class=\"sk-toggleable__control sk-hidden--visually\" id=\"sk-estimator-id-12\" type=\"checkbox\" ><label for=\"sk-estimator-id-12\" class=\"sk-toggleable__label sk-toggleable__label-arrow\">estimator: DecisionTreeClassifier</label><div class=\"sk-toggleable__content\"><pre>DecisionTreeClassifier(random_state=2018)</pre></div></div></div><div class=\"sk-serial\"><div class=\"sk-item\"><div class=\"sk-estimator sk-toggleable\"><input class=\"sk-toggleable__control sk-hidden--visually\" id=\"sk-estimator-id-13\" type=\"checkbox\" ><label for=\"sk-estimator-id-13\" class=\"sk-toggleable__label sk-toggleable__label-arrow\">DecisionTreeClassifier</label><div class=\"sk-toggleable__content\"><pre>DecisionTreeClassifier(random_state=2018)</pre></div></div></div></div></div></div></div></div></div></div>"
      ],
      "text/plain": [
       "RandomizedSearchCV(cv=5, estimator=DecisionTreeClassifier(random_state=2018),\n",
       "                   param_distributions={'ccp_alpha': array([0.00000000e+00, 2.40598899e-06, 2.86713688e-06, ...,\n",
       "       9.49341420e-04, 1.09022941e-03, 1.00707174e-02])},\n",
       "                   scoring='neg_root_mean_squared_error', verbose=3)"
      ]
     },
     "execution_count": 70,
     "metadata": {},
     "output_type": "execute_result"
    }
   ],
   "source": [
    "# apply random search to select a \"best\" alpha\n",
    "# RandomizedSearchCV does not calculate all potential alphas, just a random subset\n",
    "\n",
    "cart_model_cv = RandomizedSearchCV(\n",
    "    cart_model,\n",
    "    {\"ccp_alpha\": ccp_alphas},\n",
    "    cv=5,\n",
    "    scoring=\"neg_root_mean_squared_error\",\n",
    "    verbose=3,\n",
    ")\n",
    "\n",
    "\n",
    "cart_model_cv.fit(X, y.ravel())\n"
   ]
  },
  {
   "cell_type": "code",
   "execution_count": null,
   "metadata": {},
   "outputs": [
    {
     "data": {
      "text/plain": [
       "59.98927856677494"
      ]
     },
     "execution_count": 71,
     "metadata": {},
     "output_type": "execute_result"
    }
   ],
   "source": [
    "cart_rmse = (\n",
    "    pd.DataFrame(cart_model_cv.cv_results_)\n",
    "    .loc[lambda x: x.param_ccp_alpha == cart_model_cv.best_estimator_.ccp_alpha]\n",
    "    .mean_test_score.values[0]\n",
    "    * -1\n",
    ")\n",
    "cart_rmse\n"
   ]
  },
  {
   "cell_type": "markdown",
   "metadata": {},
   "source": [
    "4. GBM\n",
    "\n",
    "**NOTE:** These models run for a **very long time** -- needs further investigations."
   ]
  },
  {
   "cell_type": "code",
   "execution_count": null,
   "metadata": {},
   "outputs": [],
   "source": [
    "from sklearn.ensemble import GradientBoostingRegressor\n"
   ]
  },
  {
   "cell_type": "code",
   "execution_count": null,
   "metadata": {},
   "outputs": [],
   "source": [
    "gbm = GradientBoostingRegressor(learning_rate=0.1, min_samples_split=20)\n",
    "\n",
    "tune_grid = {\"n_estimators\": [i for i in range(200, 500, 50)], \"max_depth\": [1, 5, 10]}\n",
    "\n",
    "gbm_model_cv = GridSearchCV(\n",
    "    gbm, tune_grid, cv=5, scoring=\"neg_root_mean_squared_error\", verbose=10, n_jobs=-1\n",
    ")\n"
   ]
  },
  {
   "cell_type": "code",
   "execution_count": null,
   "metadata": {},
   "outputs": [],
   "source": [
    "categorical_columns = [col for col in predictors_2 if col.startswith(\"f_\")]\n",
    "numerical_columns = [col for col in predictors_2 if col not in categorical_columns]\n",
    "\n",
    "categorical_encoder = OneHotEncoder(handle_unknown=\"ignore\")\n",
    "\n",
    "preprocessing = ColumnTransformer(\n",
    "    [\n",
    "        (\"cat\", categorical_encoder, categorical_columns),\n",
    "        (\"num\", \"passthrough\", numerical_columns),\n",
    "    ]\n",
    ")\n",
    "\n",
    "gbm_pipe = Pipeline(\n",
    "    [(\"preprocess\", preprocessing), (\"regressor\", gbm_model_cv)], verbose=True\n",
    ")\n"
   ]
  },
  {
   "cell_type": "code",
   "execution_count": null,
   "metadata": {},
   "outputs": [],
   "source": [
    "gbm_pipe.fit(data_train[predictors_2], data_train.price)\n"
   ]
  },
  {
   "cell_type": "code",
   "execution_count": null,
   "metadata": {},
   "outputs": [],
   "source": [
    "gbm_rmse = gbm_pipe.steps[-1][1].best_score_ * -1"
   ]
  },
  {
   "cell_type": "markdown",
   "metadata": {},
   "source": [
    "the next will be in final model, loads of tuning"
   ]
  },
  {
   "cell_type": "code",
   "execution_count": null,
   "metadata": {},
   "outputs": [],
   "source": [
    "gbm_broad = GradientBoostingRegressor()\n"
   ]
  },
  {
   "cell_type": "code",
   "execution_count": null,
   "metadata": {},
   "outputs": [],
   "source": [
    "tune_grid = {\n",
    "    \"n_estimators\": [i for i in range(50, 500, 50)],\n",
    "    \"max_depth\": [1, 5, 10],\n",
    "    \"learning_rate\": [0.02, 0.05, 0.1, 0.15, 0.2],\n",
    "    \"min_samples_split\": [5, 10, 20, 30],\n",
    "}\n",
    "\n",
    "gbm_model_cv_broad = GridSearchCV(\n",
    "    gbm_broad,\n",
    "    tune_grid,\n",
    "    cv=5,\n",
    "    scoring=\"neg_root_mean_squared_error\",\n",
    "    verbose=10,\n",
    ")\n"
   ]
  },
  {
   "cell_type": "code",
   "execution_count": null,
   "metadata": {},
   "outputs": [],
   "source": [
    "categorical_columns = [col for col in predictors_2 if col.startswith(\"f_\")]\n",
    "numerical_columns = [col for col in predictors_2 if col not in categorical_columns]\n",
    "\n",
    "categorical_encoder = OneHotEncoder(handle_unknown=\"ignore\")\n",
    "\n",
    "preprocessing = ColumnTransformer(\n",
    "    [\n",
    "        (\"cat\", categorical_encoder, categorical_columns),\n",
    "        (\"num\", \"passthrough\", numerical_columns),\n",
    "    ]\n",
    ")\n",
    "\n",
    "gbm_pipe_broad = Pipeline(\n",
    "    [(\"preprocess\", preprocessing), (\"regressor\", gbm_model_cv_broad)], verbose=True\n",
    ")\n"
   ]
  },
  {
   "cell_type": "code",
   "execution_count": null,
   "metadata": {},
   "outputs": [],
   "source": [
    "gbm_pipe_broad.fit(data_train[predictors_2], data_train.price)\n"
   ]
  },
  {
   "cell_type": "code",
   "execution_count": null,
   "metadata": {},
   "outputs": [],
   "source": [
    "gbm_broad_rmse = gbm_pipe_broad.steps[-1][1].best_score_ * -1"
   ]
  },
  {
   "cell_type": "markdown",
   "metadata": {},
   "source": [
    "### Table 16.3 Predictive performance of different models"
   ]
  },
  {
   "cell_type": "code",
   "execution_count": null,
   "metadata": {},
   "outputs": [
    {
     "data": {
      "text/html": [
       "<div>\n",
       "<style scoped>\n",
       "    .dataframe tbody tr th:only-of-type {\n",
       "        vertical-align: middle;\n",
       "    }\n",
       "\n",
       "    .dataframe tbody tr th {\n",
       "        vertical-align: top;\n",
       "    }\n",
       "\n",
       "    .dataframe thead th {\n",
       "        text-align: right;\n",
       "    }\n",
       "</style>\n",
       "<table border=\"1\" class=\"dataframe\">\n",
       "  <thead>\n",
       "    <tr style=\"text-align: right;\">\n",
       "      <th></th>\n",
       "      <th>Model</th>\n",
       "      <th>RMSE</th>\n",
       "    </tr>\n",
       "  </thead>\n",
       "  <tbody>\n",
       "    <tr>\n",
       "      <th>0</th>\n",
       "      <td>Linear regression (OLS)</td>\n",
       "      <td>47.1</td>\n",
       "    </tr>\n",
       "    <tr>\n",
       "      <th>1</th>\n",
       "      <td>Linear regression (LASSO)</td>\n",
       "      <td>45.9</td>\n",
       "    </tr>\n",
       "    <tr>\n",
       "      <th>2</th>\n",
       "      <td>Regression Tree (CART)</td>\n",
       "      <td>56.4</td>\n",
       "    </tr>\n",
       "    <tr>\n",
       "      <th>3</th>\n",
       "      <td>Random forest (basic tuning)</td>\n",
       "      <td>45.8</td>\n",
       "    </tr>\n",
       "    <tr>\n",
       "      <th>4</th>\n",
       "      <td>Random forest (autotuned)</td>\n",
       "      <td>45.0</td>\n",
       "    </tr>\n",
       "    <tr>\n",
       "      <th>5</th>\n",
       "      <td>GBM (basic tuning)</td>\n",
       "      <td>43.8</td>\n",
       "    </tr>\n",
       "    <tr>\n",
       "      <th>6</th>\n",
       "      <td>GBM (broad tuning)</td>\n",
       "      <td>43.6</td>\n",
       "    </tr>\n",
       "  </tbody>\n",
       "</table>\n",
       "</div>"
      ],
      "text/plain": [
       "                          Model  RMSE\n",
       "0       Linear regression (OLS)  47.1\n",
       "1     Linear regression (LASSO)  45.9\n",
       "2        Regression Tree (CART)  56.4\n",
       "3  Random forest (basic tuning)  45.8\n",
       "4     Random forest (autotuned)  45.0\n",
       "5            GBM (basic tuning)  43.8\n",
       "6            GBM (broad tuning)  43.6"
      ]
     },
     "execution_count": 3,
     "metadata": {},
     "output_type": "execute_result"
    }
   ],
   "source": [
    "pd.DataFrame(\n",
    "    {\n",
    "        \"Model\": [\n",
    "            \"Linear regression (OLS)\",\n",
    "            \"Linear regression (LASSO)\",\n",
    "            \"Regression Tree (CART)\",\n",
    "            \"Random forest (basic tuning)\",\n",
    "            \"Random forest (autotuned)\",\n",
    "            \"GBM (basic tuning)\",\n",
    "            \"GBM (broad tuning)\",\n",
    "        ],\n",
    "        \"RMSE\": [\n",
    "            ols_rmse,\n",
    "            lasso_rmse,\n",
    "            cart_rmse,\n",
    "            rf_model_1_rmse,\n",
    "            rf_model_2_rmse,\n",
    "            gbm_rmse,\n",
    "            gbm_broad_rmse,\n",
    "        ],\n",
    "    }\n",
    ").round(1)"
   ]
  },
  {
   "cell_type": "code",
   "execution_count": null,
   "metadata": {},
   "outputs": [],
   "source": []
  }
 ],
 "metadata": {
  "kernelspec": {
   "display_name": "Python 3",
   "language": "python",
   "name": "python3"
  },
  "language_info": {
   "codemirror_mode": {
    "name": "ipython",
    "version": 3
   },
   "file_extension": ".py",
   "mimetype": "text/x-python",
   "name": "python",
   "nbconvert_exporter": "python",
   "pygments_lexer": "ipython3",
   "version": "3.12.1"
  }
 },
 "nbformat": 4,
 "nbformat_minor": 4
}
