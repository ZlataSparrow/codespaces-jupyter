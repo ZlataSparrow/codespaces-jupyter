# %% [markdown]
# #### Prepared for Gabor's Data Analysis
# 
# ### Data Analysis for Business, Economics, and Policy
# by Gabor Bekes and  Gabor Kezdi
#  
# Cambridge University Press 2021
# 
# **[gabors-data-analysis.com ](https://gabors-data-analysis.com/)**
# 
#  License: Free to share, modify and use for educational purposes. 
#  Not to be used for commercial purposes.
# 
# ### Chapter 03
# **CH03B Comparing hotel prices in Europe: Vienna vs. London**
# eight-income-distributions  dataset
# 
# version 1.0 2021-05-05

# %% [markdown]
# ### Import libraries and set folders

# %%
import os
import sys
import warnings

import numpy as np
import pandas as pd
import matplotlib.pyplot as plt
from mizani.formatters import percent_format
from plotnine import *

from plotnine import *
from plotnine.scales import scale_x_continuous, scale_y_continuous
from plotnine.labels import labs
from plotnine.themes import theme_bw
from plotnine.positions import position_dodge
from mizani.formatters import percent_format
import pandas as pd
import numpy as np

warnings.filterwarnings("ignore")

# %%
# Current script folder
current_path = os.getcwd()
dirname = current_path.split("da_case_studies")[0]

# location folders
data_in = dirname + "da_data_repo/hotels-vienna/clean/"
data_out = dirname + "da_case_studies/ch03-hotels-vienna-explore/"
output = dirname + "da_case_studies/ch03-hotels-vienna-explore/output/"
func = dirname + "da_case_studies/ch00-tech-prep/"
sys.path.append(func)

# %%
# Import the prewritten helper functions
from py_helper_functions import *

# %%
# load vienna
vienna = pd.read_csv("/workspaces/codespaces-jupyter/data/hotels-vienna.csv")
#vienna = pd.read_csv("https://osf.io/y6jvb/download")

# %%
vienna.columns

# %% [markdown]
# ## Figures 1a and 1b
# 
# apply filters: Hotels

# %%
vienna["accommodation_type"].value_counts()

# %%
vienna_cut = vienna.loc[vienna["accommodation_type"] == "Hotel"]

# %%
vienna_cut.columns

# %%
import pandas as pd
from plotnine import *
(
    ggplot(vienna_cut, aes(x="stars"))
    + geom_bar(fill="#3498db", color="white")
    + geom_text(
        aes(label="..count.."),
        stat="count",
        va="bottom",  # vertical alignment
        format_string='{:.0f}'  # integer formatting
    )
    + labs(title="Number of Hotels by Star Rating", x="Star Rating", y="Count")
    + scale_x_continuous(breaks=np.arange(1, 6, 1), limits=[0.5, 5.5])
    + theme_bw()
)

# %%
# Check the data types of all columns in the DataFrame
print(vienna_cut.dtypes)

# %%
# Show unique values in the 'stars' column
print(vienna_cut['stars'].unique())

# %%
unique_stars = sorted(vienna_cut['stars'].dropna().unique())
unique_stars

# %%
# Calculate relative frequency
rel_freq = vienna_cut['stars'].value_counts(normalize=True).sort_index() * 100
unique_stars = sorted(vienna_cut['stars'].dropna().unique())

# Plot
fig, ax = plt.subplots(figsize=(15, 6))
bars = ax.bar(unique_stars, rel_freq.values, color="#3498db", edgecolor="white", width=0.3)


# Add labels above bars
ax.bar_label(bars, labels=[f"{val:.1f}%" for val in rel_freq.values], padding=3)

# Formatting
ax.set_xlabel("Star Rating")
ax.set_ylabel("Percent")
ax.set_title("Relative Frequency (%) of Hotels by Star Rating")
ax.set_xticks(unique_stars)
ax.set_ylim(0, rel_freq.max() + 10)
ax.grid(axis='y', linestyle='--', alpha=0.7)

plt.show()



# %%
freq = vienna_cut['stars'].value_counts()
freq


# %%
unique_stars = freq.index
unique_stars

# %%
# Calculate sums for all star ratings
star_sums = vienna_cut.groupby('stars')['stars'].count()

print(star_sums)

# %%
import matplotlib.pyplot as plt
import numpy as np

freq = vienna_cut['stars'].value_counts()
unique_stars = freq.index

# Plot
fig, ax = plt.subplots(figsize=(15, 6))
bars = ax.bar(unique_stars, freq, color="#3498db", edgecolor="white", width=0.3)


# Add labels above bars
ax.bar_label(bars, labels=[f"{val:.0f}" for val in freq], padding=3)

# Formatting
ax.set_xlabel("Star Rating")
ax.set_ylabel("Frequency")
ax.set_title("Absolute Frequency of Star Ratings in Hotels in Vienna")
ax.set_xticks(unique_stars)
ax.set_ylim(0, freq.max() + 10)
ax.grid(axis='y', linestyle='--', alpha=0.7)

plt.show()


# %%
# load vienna
vienna = pd.read_csv("/workspaces/codespaces-jupyter/data/hotels-vienna.csv")
vienna_cut.shape

# %%
vienna_cut = vienna.loc[
    (vienna["accommodation_type"] == "Hotel")
     & (vienna["stars"] >= 3)
     & (vienna["stars"] <= 4)]
vienna_cut.shape[0]

# %%
vienna_cut.columns

# %%
max_price=vienna_cut['price'].max()

# %%
max_price=vienna_cut['price'].max()
max_price

# %%
max_price_index = vienna_cut['price'].idxmax()

vienna_cut = vienna_cut.drop(max_price_index)

vienna_cut

# %%
max_price=vienna_cut['price'].max()
max_price

# %% [markdown]
# ### Distributions
# 
# Apply filters:  3-4 stars, less than 8miles from center, without 1000 euro extreme value
# 

# %% [markdown]
# #### Figure 3.2 a)

# %%
x_ticks = np.arange(0, 501, 50)

# Calculate frequency for the price column
freq = vienna_cut['price'].value_counts().sort_index()

# Plot
fig, ax = plt.subplots(figsize=(15, 6))
ax.hist(vienna_cut['price'], bins=np.arange(0, 501), color="#3498db", edgecolor="white")

# Add labels above bars
#ax.bar_label(bars, labels=[f"{val:.0f}" for val in freq.values], padding=3)

# Formatting
ax.set_xlabel("Price (US Dollars)")
ax.set_ylabel("Frequency")
ax.set_title("Frequency of Hotels by Price")
ax.set_xticks(x_ticks)  # Set x-axis ticks
ax.set_ylim(0, freq.max() +1)
ax.grid(axis='y', linestyle='--', alpha=0.7)

plt.show()

# %% [markdown]
# #### Figure 3.2 b)

# %%
x_ticks = np.arange(0, 501, 50)

# Plot histogram with 10-dollar wide bins
fig, ax = plt.subplots(figsize=(15, 6))
ax.hist(vienna_cut['price'], bins=np.arange(0, 501, 10), color="#3498db", edgecolor="white")

# Formatting
ax.set_xlabel("Price (US Dollars)")
ax.set_ylabel("Frequency")
ax.set_title("Frequency of Hotels by Price")
ax.set_xticks(x_ticks)  # Set x-axis ticks
ax.set_ylim(0, 40)  # Set y-axis limit to 9
ax.grid(axis='y', linestyle='--', alpha=0.7)

plt.show()

# %% [markdown]
# ### Figure 3 a,b

# %%
x_ticks = np.arange(0, 501, 50)

# Plot histogram with 10-dollar wide bins
fig, ax = plt.subplots(figsize=(15, 6))
ax.hist(vienna_cut['price'], bins=np.arange(0, 501, 40), color="#3498db", edgecolor="white")

# Formatting
ax.set_xlabel("Price (US Dollars)")
ax.set_ylabel("Frequency")
ax.set_title("Frequency of Hotels by Price")
ax.set_xticks(x_ticks)  # Set x-axis ticks
ax.set_ylim(0, 120)  # Set y-axis limit to 9
ax.grid(axis='y', linestyle='--', alpha=0.7)

plt.show()

# %%
x_ticks = np.arange(0, 501, 50)

# Plot histogram with 10-dollar wide bins
fig, ax = plt.subplots(figsize=(15, 6))
ax.hist(vienna_cut['price'], bins=np.arange(0, 501, 80), color="#3498db", edgecolor="white")

# Formatting
ax.set_xlabel("Price (US Dollars)")
ax.set_ylabel("Frequency")
ax.set_title("Frequency of Hotels by Price")
ax.set_xticks(x_ticks)  # Set x-axis ticks
ax.set_ylim(0, 150)  # Set y-axis limit to 9
ax.grid(axis='y', linestyle='--', alpha=0.7)

plt.show()

# %% [markdown]
# ### Extreme values
# 
# Apply filters: 3-4 stars, less than 8miles from center, without 1000 euro extreme value
# 

# %%
vienna_cut = vienna.loc[
    (vienna["accommodation_type"] == "Hotel")
    & (vienna["stars"] >= 3)
    & (vienna["stars"] <= 4)
    & (vienna["stars"].notna())
    & (vienna["price"] <= 1000)
]

# %% [markdown]
# ####  Figure 3.4

# %%
(
    ggplot(vienna_cut, aes(x="distance"))
    + geom_histogram(
        y="stat(count)/sum(stat(count))",
        binwidth=0.5,
        fill=color[0],
        color="white",
        boundary=0,
        closed="left",
    )
    + labs(x="Distance to city center (miles)", y="Frequency")
    + scale_x_continuous(expand=[0.0, 0.0], limits=[0, 14], breaks=seq(0, 14, 2))
    + scale_y_continuous(expand=[0.0, 0.0], limits=[0, 60], breaks=seq(0, 60, 10))
    + theme_bw()
)


# %% [markdown]
# with annotation

# %%
(
    ggplot(vienna_cut, aes(x="distance"))
    + geom_histogram(
        y="stat(count)/sum(stat(count))",
        binwidth=0.5,
        fill=color[0],
        color="white",
        boundary=0,
        closed="left",
    )
    + labs(x="Distance to city center (miles)", y="Frequency")
    + scale_x_continuous(expand=[0.0, 0.0], limits=[0, 14], breaks=seq(0, 14, 2))
    + scale_y_continuous(expand=[0.0, 0.0], limits=[0, 60], breaks=seq(0, 60, 10))
    + geom_segment(aes(x=8.2, y=0, xend=8.2, yend=60), color=color[1], size=1)
    + annotate("text", x=11, y=29, label="Too far out", size=10)
    + annotate(
        geom="rect", xmin=8.2, xmax=14, ymin=0, ymax=60, alpha=0.1, fill="yellow"
    )
    + theme_bw()
)


# %% [markdown]
#  look at actual city

# %%
vienna_cut['city_actual'].value_counts()

# %% [markdown]
#  ### Figure price with extreme
#  Apply filters:  3-4 stars, less than 8miles from center, without 1000 euro extreme value

# %%
vienna_cut = vienna.loc[
    (vienna["accommodation_type"] == "Hotel")
    & (vienna["stars"] >= 3)
    & (vienna["stars"] <= 4)
    & (vienna["stars"].notna())
]

# %%
(
    ggplot(vienna_cut, aes(x="price"))
    + geom_histogram(
        y="stat(count)/sum(stat(count))",
        binwidth=20,
        fill=color[0],
        color="white",
        boundary=0,
        closed="right",
    )
    + labs(x="Price (US dollars)", y="Frequency")
    + scale_x_continuous(
        expand=[0.00, 0.00], limits=[0, 1000], breaks=seq(0, 1000, 100)
    )
    + expand_limits(x=0.00, y=0.00)
    + theme_bw()
)


# %%



