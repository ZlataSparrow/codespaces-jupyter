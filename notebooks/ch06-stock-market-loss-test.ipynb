{
 "cells": [
  {
   "cell_type": "markdown",
   "id": "f0ecf2f6",
   "metadata": {},
   "source": [
    "#### Prepared for Gabor's Data Analysis\n",
    "\n",
    "### Data Analysis for Business, Economics, and Policy\n",
    "by Gabor Bekes and  Gabor Kezdi\n",
    " \n",
    "Cambridge University Press 2021\n",
    "\n",
    "**[gabors-data-analysis.com ](https://gabors-data-analysis.com/)**\n",
    "\n",
    " License: Free to share, modify and use for educational purposes. \n",
    " Not to be used for commercial purposes.\n",
    "\n",
    "### Chapter 05\n",
    "**CH05A What Likelihood of Loss to Expect on a Stock Portfolio?**\n",
    "\n",
    "using the sp500 dataset\n",
    "\n",
    "version 0.91 2021-10-21"
   ]
  },
  {
   "cell_type": "code",
   "execution_count": 1,
   "id": "0adb08a8",
   "metadata": {},
   "outputs": [],
   "source": [
    "import os\n",
    "import sys\n",
    "import warnings\n",
    "\n",
    "import numpy as np\n",
    "import pandas as pd\n",
    "from scipy import stats\n",
    "\n",
    "warnings.filterwarnings(\"ignore\")\n"
   ]
  },
  {
   "cell_type": "code",
   "execution_count": 13,
   "id": "995509fe",
   "metadata": {},
   "outputs": [],
   "source": [
    "sp500 = pd.read_csv(\"/workspaces/codespaces-jupyter/data/SP500_2006_16_data.csv\")\n",
    "# sp500 = pd.read_csv(\"https://osf.io/h64z2/download\")"
   ]
  },
  {
   "cell_type": "code",
   "execution_count": 14,
   "id": "3ee11bc5",
   "metadata": {},
   "outputs": [
    {
     "data": {
      "text/html": [
       "<div>\n",
       "<style scoped>\n",
       "    .dataframe tbody tr th:only-of-type {\n",
       "        vertical-align: middle;\n",
       "    }\n",
       "\n",
       "    .dataframe tbody tr th {\n",
       "        vertical-align: top;\n",
       "    }\n",
       "\n",
       "    .dataframe thead th {\n",
       "        text-align: right;\n",
       "    }\n",
       "</style>\n",
       "<table border=\"1\" class=\"dataframe\">\n",
       "  <thead>\n",
       "    <tr style=\"text-align: right;\">\n",
       "      <th></th>\n",
       "      <th>DATE</th>\n",
       "      <th>VALUE</th>\n",
       "    </tr>\n",
       "  </thead>\n",
       "  <tbody>\n",
       "    <tr>\n",
       "      <th>0</th>\n",
       "      <td>2006-08-25</td>\n",
       "      <td>1295.09</td>\n",
       "    </tr>\n",
       "    <tr>\n",
       "      <th>1</th>\n",
       "      <td>2006-08-28</td>\n",
       "      <td>1301.78</td>\n",
       "    </tr>\n",
       "    <tr>\n",
       "      <th>2</th>\n",
       "      <td>2006-08-29</td>\n",
       "      <td>1304.28</td>\n",
       "    </tr>\n",
       "    <tr>\n",
       "      <th>3</th>\n",
       "      <td>2006-08-30</td>\n",
       "      <td>1304.27</td>\n",
       "    </tr>\n",
       "    <tr>\n",
       "      <th>4</th>\n",
       "      <td>2006-08-31</td>\n",
       "      <td>1303.82</td>\n",
       "    </tr>\n",
       "    <tr>\n",
       "      <th>...</th>\n",
       "      <td>...</td>\n",
       "      <td>...</td>\n",
       "    </tr>\n",
       "    <tr>\n",
       "      <th>2606</th>\n",
       "      <td>2016-08-22</td>\n",
       "      <td>2182.64</td>\n",
       "    </tr>\n",
       "    <tr>\n",
       "      <th>2607</th>\n",
       "      <td>2016-08-23</td>\n",
       "      <td>2186.90</td>\n",
       "    </tr>\n",
       "    <tr>\n",
       "      <th>2608</th>\n",
       "      <td>2016-08-24</td>\n",
       "      <td>2175.44</td>\n",
       "    </tr>\n",
       "    <tr>\n",
       "      <th>2609</th>\n",
       "      <td>2016-08-25</td>\n",
       "      <td>2172.47</td>\n",
       "    </tr>\n",
       "    <tr>\n",
       "      <th>2610</th>\n",
       "      <td>2016-08-26</td>\n",
       "      <td>2169.04</td>\n",
       "    </tr>\n",
       "  </tbody>\n",
       "</table>\n",
       "<p>2611 rows × 2 columns</p>\n",
       "</div>"
      ],
      "text/plain": [
       "            DATE    VALUE\n",
       "0     2006-08-25  1295.09\n",
       "1     2006-08-28  1301.78\n",
       "2     2006-08-29  1304.28\n",
       "3     2006-08-30  1304.27\n",
       "4     2006-08-31  1303.82\n",
       "...          ...      ...\n",
       "2606  2016-08-22  2182.64\n",
       "2607  2016-08-23  2186.90\n",
       "2608  2016-08-24  2175.44\n",
       "2609  2016-08-25  2172.47\n",
       "2610  2016-08-26  2169.04\n",
       "\n",
       "[2611 rows x 2 columns]"
      ]
     },
     "execution_count": 14,
     "metadata": {},
     "output_type": "execute_result"
    }
   ],
   "source": [
    "sp500"
   ]
  },
  {
   "cell_type": "code",
   "execution_count": 15,
   "id": "a7377b5f",
   "metadata": {},
   "outputs": [],
   "source": [
    "sp500 = sp500.replace(\"\", np.nan).replace(\"#N/A\", np.nan).dropna().reset_index(drop=True)"
   ]
  },
  {
   "cell_type": "code",
   "execution_count": 16,
   "id": "da6e95c8",
   "metadata": {},
   "outputs": [],
   "source": [
    "sp500[\"pct_return\"] = sp500[\"VALUE\"].pct_change() * 100\n"
   ]
  },
  {
   "cell_type": "code",
   "execution_count": 17,
   "id": "bd72bad0",
   "metadata": {},
   "outputs": [],
   "source": [
    "sp500.loc[1:, \"loss5\"] = np.where(sp500[\"pct_return\"].dropna() < -5, 1, 0)"
   ]
  },
  {
   "cell_type": "code",
   "execution_count": 18,
   "id": "50977f4d",
   "metadata": {},
   "outputs": [
    {
     "data": {
      "text/html": [
       "<div>\n",
       "<style scoped>\n",
       "    .dataframe tbody tr th:only-of-type {\n",
       "        vertical-align: middle;\n",
       "    }\n",
       "\n",
       "    .dataframe tbody tr th {\n",
       "        vertical-align: top;\n",
       "    }\n",
       "\n",
       "    .dataframe thead th {\n",
       "        text-align: right;\n",
       "    }\n",
       "</style>\n",
       "<table border=\"1\" class=\"dataframe\">\n",
       "  <thead>\n",
       "    <tr style=\"text-align: right;\">\n",
       "      <th></th>\n",
       "      <th>DATE</th>\n",
       "      <th>VALUE</th>\n",
       "      <th>pct_return</th>\n",
       "      <th>loss5</th>\n",
       "    </tr>\n",
       "  </thead>\n",
       "  <tbody>\n",
       "    <tr>\n",
       "      <th>0</th>\n",
       "      <td>2006-08-25</td>\n",
       "      <td>1295.09</td>\n",
       "      <td>NaN</td>\n",
       "      <td>NaN</td>\n",
       "    </tr>\n",
       "    <tr>\n",
       "      <th>1</th>\n",
       "      <td>2006-08-28</td>\n",
       "      <td>1301.78</td>\n",
       "      <td>0.516566</td>\n",
       "      <td>0.0</td>\n",
       "    </tr>\n",
       "    <tr>\n",
       "      <th>2</th>\n",
       "      <td>2006-08-29</td>\n",
       "      <td>1304.28</td>\n",
       "      <td>0.192045</td>\n",
       "      <td>0.0</td>\n",
       "    </tr>\n",
       "    <tr>\n",
       "      <th>3</th>\n",
       "      <td>2006-08-30</td>\n",
       "      <td>1304.27</td>\n",
       "      <td>-0.000767</td>\n",
       "      <td>0.0</td>\n",
       "    </tr>\n",
       "    <tr>\n",
       "      <th>4</th>\n",
       "      <td>2006-08-31</td>\n",
       "      <td>1303.82</td>\n",
       "      <td>-0.034502</td>\n",
       "      <td>0.0</td>\n",
       "    </tr>\n",
       "    <tr>\n",
       "      <th>...</th>\n",
       "      <td>...</td>\n",
       "      <td>...</td>\n",
       "      <td>...</td>\n",
       "      <td>...</td>\n",
       "    </tr>\n",
       "    <tr>\n",
       "      <th>2514</th>\n",
       "      <td>2016-08-22</td>\n",
       "      <td>2182.64</td>\n",
       "      <td>-0.056322</td>\n",
       "      <td>0.0</td>\n",
       "    </tr>\n",
       "    <tr>\n",
       "      <th>2515</th>\n",
       "      <td>2016-08-23</td>\n",
       "      <td>2186.90</td>\n",
       "      <td>0.195176</td>\n",
       "      <td>0.0</td>\n",
       "    </tr>\n",
       "    <tr>\n",
       "      <th>2516</th>\n",
       "      <td>2016-08-24</td>\n",
       "      <td>2175.44</td>\n",
       "      <td>-0.524029</td>\n",
       "      <td>0.0</td>\n",
       "    </tr>\n",
       "    <tr>\n",
       "      <th>2517</th>\n",
       "      <td>2016-08-25</td>\n",
       "      <td>2172.47</td>\n",
       "      <td>-0.136524</td>\n",
       "      <td>0.0</td>\n",
       "    </tr>\n",
       "    <tr>\n",
       "      <th>2518</th>\n",
       "      <td>2016-08-26</td>\n",
       "      <td>2169.04</td>\n",
       "      <td>-0.157885</td>\n",
       "      <td>0.0</td>\n",
       "    </tr>\n",
       "  </tbody>\n",
       "</table>\n",
       "<p>2519 rows × 4 columns</p>\n",
       "</div>"
      ],
      "text/plain": [
       "            DATE    VALUE  pct_return  loss5\n",
       "0     2006-08-25  1295.09         NaN    NaN\n",
       "1     2006-08-28  1301.78    0.516566    0.0\n",
       "2     2006-08-29  1304.28    0.192045    0.0\n",
       "3     2006-08-30  1304.27   -0.000767    0.0\n",
       "4     2006-08-31  1303.82   -0.034502    0.0\n",
       "...          ...      ...         ...    ...\n",
       "2514  2016-08-22  2182.64   -0.056322    0.0\n",
       "2515  2016-08-23  2186.90    0.195176    0.0\n",
       "2516  2016-08-24  2175.44   -0.524029    0.0\n",
       "2517  2016-08-25  2172.47   -0.136524    0.0\n",
       "2518  2016-08-26  2169.04   -0.157885    0.0\n",
       "\n",
       "[2519 rows x 4 columns]"
      ]
     },
     "execution_count": 18,
     "metadata": {},
     "output_type": "execute_result"
    }
   ],
   "source": [
    "sp500"
   ]
  },
  {
   "cell_type": "code",
   "execution_count": 22,
   "id": "1e85618a",
   "metadata": {},
   "outputs": [
    {
     "data": {
      "text/html": [
       "<div>\n",
       "<style scoped>\n",
       "    .dataframe tbody tr th:only-of-type {\n",
       "        vertical-align: middle;\n",
       "    }\n",
       "\n",
       "    .dataframe tbody tr th {\n",
       "        vertical-align: top;\n",
       "    }\n",
       "\n",
       "    .dataframe thead th {\n",
       "        text-align: right;\n",
       "    }\n",
       "</style>\n",
       "<table border=\"1\" class=\"dataframe\">\n",
       "  <thead>\n",
       "    <tr style=\"text-align: right;\">\n",
       "      <th></th>\n",
       "      <th>DATE</th>\n",
       "      <th>VALUE</th>\n",
       "      <th>pct_return</th>\n",
       "      <th>loss5</th>\n",
       "    </tr>\n",
       "  </thead>\n",
       "  <tbody>\n",
       "    <tr>\n",
       "      <th>526</th>\n",
       "      <td>2008-09-29</td>\n",
       "      <td>1106.39</td>\n",
       "      <td>-8.789705</td>\n",
       "      <td>1.0</td>\n",
       "    </tr>\n",
       "    <tr>\n",
       "      <th>532</th>\n",
       "      <td>2008-10-07</td>\n",
       "      <td>996.23</td>\n",
       "      <td>-5.739481</td>\n",
       "      <td>1.0</td>\n",
       "    </tr>\n",
       "    <tr>\n",
       "      <th>534</th>\n",
       "      <td>2008-10-09</td>\n",
       "      <td>909.92</td>\n",
       "      <td>-7.616708</td>\n",
       "      <td>1.0</td>\n",
       "    </tr>\n",
       "    <tr>\n",
       "      <th>538</th>\n",
       "      <td>2008-10-15</td>\n",
       "      <td>907.84</td>\n",
       "      <td>-9.034980</td>\n",
       "      <td>1.0</td>\n",
       "    </tr>\n",
       "    <tr>\n",
       "      <th>543</th>\n",
       "      <td>2008-10-22</td>\n",
       "      <td>896.78</td>\n",
       "      <td>-6.101251</td>\n",
       "      <td>1.0</td>\n",
       "    </tr>\n",
       "    <tr>\n",
       "      <th>553</th>\n",
       "      <td>2008-11-05</td>\n",
       "      <td>952.77</td>\n",
       "      <td>-5.267711</td>\n",
       "      <td>1.0</td>\n",
       "    </tr>\n",
       "    <tr>\n",
       "      <th>554</th>\n",
       "      <td>2008-11-06</td>\n",
       "      <td>904.88</td>\n",
       "      <td>-5.026397</td>\n",
       "      <td>1.0</td>\n",
       "    </tr>\n",
       "    <tr>\n",
       "      <th>558</th>\n",
       "      <td>2008-11-12</td>\n",
       "      <td>852.30</td>\n",
       "      <td>-5.189388</td>\n",
       "      <td>1.0</td>\n",
       "    </tr>\n",
       "    <tr>\n",
       "      <th>563</th>\n",
       "      <td>2008-11-19</td>\n",
       "      <td>806.58</td>\n",
       "      <td>-6.115560</td>\n",
       "      <td>1.0</td>\n",
       "    </tr>\n",
       "    <tr>\n",
       "      <th>564</th>\n",
       "      <td>2008-11-20</td>\n",
       "      <td>752.44</td>\n",
       "      <td>-6.712291</td>\n",
       "      <td>1.0</td>\n",
       "    </tr>\n",
       "    <tr>\n",
       "      <th>570</th>\n",
       "      <td>2008-12-01</td>\n",
       "      <td>816.21</td>\n",
       "      <td>-8.929528</td>\n",
       "      <td>1.0</td>\n",
       "    </tr>\n",
       "    <tr>\n",
       "      <th>603</th>\n",
       "      <td>2009-01-20</td>\n",
       "      <td>805.22</td>\n",
       "      <td>-5.281607</td>\n",
       "      <td>1.0</td>\n",
       "    </tr>\n",
       "    <tr>\n",
       "      <th>1246</th>\n",
       "      <td>2011-08-08</td>\n",
       "      <td>1119.46</td>\n",
       "      <td>-6.663443</td>\n",
       "      <td>1.0</td>\n",
       "    </tr>\n",
       "  </tbody>\n",
       "</table>\n",
       "</div>"
      ],
      "text/plain": [
       "            DATE    VALUE  pct_return  loss5\n",
       "526   2008-09-29  1106.39   -8.789705    1.0\n",
       "532   2008-10-07   996.23   -5.739481    1.0\n",
       "534   2008-10-09   909.92   -7.616708    1.0\n",
       "538   2008-10-15   907.84   -9.034980    1.0\n",
       "543   2008-10-22   896.78   -6.101251    1.0\n",
       "553   2008-11-05   952.77   -5.267711    1.0\n",
       "554   2008-11-06   904.88   -5.026397    1.0\n",
       "558   2008-11-12   852.30   -5.189388    1.0\n",
       "563   2008-11-19   806.58   -6.115560    1.0\n",
       "564   2008-11-20   752.44   -6.712291    1.0\n",
       "570   2008-12-01   816.21   -8.929528    1.0\n",
       "603   2009-01-20   805.22   -5.281607    1.0\n",
       "1246  2011-08-08  1119.46   -6.663443    1.0"
      ]
     },
     "execution_count": 22,
     "metadata": {},
     "output_type": "execute_result"
    }
   ],
   "source": [
    "# Show rows where loss5 is less than or equal to -5\n",
    "sp500[sp500[\"loss5\"] == 1]"
   ]
  },
  {
   "cell_type": "code",
   "execution_count": 7,
   "id": "4ce18d01",
   "metadata": {},
   "outputs": [
    {
     "data": {
      "text/plain": [
       "1       0.0\n",
       "2       0.0\n",
       "3       0.0\n",
       "4       0.0\n",
       "5       0.0\n",
       "       ... \n",
       "2514    0.0\n",
       "2515    0.0\n",
       "2516    0.0\n",
       "2517    0.0\n",
       "2518    0.0\n",
       "Name: loss5, Length: 2518, dtype: float64"
      ]
     },
     "execution_count": 7,
     "metadata": {},
     "output_type": "execute_result"
    }
   ],
   "source": [
    "sp500.loc[1:, \"loss5\"]"
   ]
  },
  {
   "cell_type": "code",
   "execution_count": null,
   "id": "856049a6",
   "metadata": {},
   "outputs": [],
   "source": [
    "mean=sp500[\"loss5\"].mean()\n",
    "H0 = 0.01 #hyposthesiized population mean \n",
    "s = sp500[\"loss5\"].std()\n",
    "n = sp500[\"loss5\"].count()\n",
    "SE = s/np.sqrt(n)"
   ]
  },
  {
   "cell_type": "code",
   "execution_count": 32,
   "id": "0360d66e",
   "metadata": {},
   "outputs": [
    {
     "data": {
      "text/plain": [
       "np.float64(43.17929430924014)"
      ]
     },
     "execution_count": 32,
     "metadata": {},
     "output_type": "execute_result"
    }
   ],
   "source": [
    "t_stat = (mean - H0)/SE\n",
    "t_stat"
   ]
  },
  {
   "cell_type": "code",
   "execution_count": 6,
   "id": "6a1e1c93",
   "metadata": {},
   "outputs": [
    {
     "data": {
      "text/plain": [
       "TtestResult(statistic=np.float64(-3.3862058433914672), pvalue=np.float64(0.0007195412199398962), df=np.int64(2517))"
      ]
     },
     "execution_count": 6,
     "metadata": {},
     "output_type": "execute_result"
    }
   ],
   "source": [
    "# t-test to show p-value of two sided. One sided p-value is p/2\n",
    "stats.ttest_1samp(sp500[\"loss5\"], popmean=0.01, nan_policy=\"omit\")"
   ]
  },
  {
   "cell_type": "code",
   "execution_count": 11,
   "id": "67f1310e",
   "metadata": {},
   "outputs": [
    {
     "data": {
      "text/plain": [
       "0.005163"
      ]
     },
     "execution_count": 11,
     "metadata": {},
     "output_type": "execute_result"
    }
   ],
   "source": [
    "sp500[\"loss5\"].mean().round(6)\n"
   ]
  }
 ],
 "metadata": {
  "kernelspec": {
   "display_name": "Python 3",
   "language": "python",
   "name": "python3"
  },
  "language_info": {
   "codemirror_mode": {
    "name": "ipython",
    "version": 3
   },
   "file_extension": ".py",
   "mimetype": "text/x-python",
   "name": "python",
   "nbconvert_exporter": "python",
   "pygments_lexer": "ipython3",
   "version": "3.12.1"
  }
 },
 "nbformat": 4,
 "nbformat_minor": 5
}
