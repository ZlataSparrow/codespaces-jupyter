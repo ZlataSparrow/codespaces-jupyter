{
 "cells": [
  {
   "cell_type": "markdown",
   "metadata": {},
   "source": [
    "#### Prepared for Gabor's Data Analysis\n",
    "\n",
    "### Data Analysis for Business, Economics, and Policy\n",
    "by Gabor Bekes and Gabor Kezdi\n",
    " \n",
    "Cambridge University Press 2021\n",
    "\n",
    "**[gabors-data-analysis.com ](https://gabors-data-analysis.com/)**\n",
    "\n",
    " License: Free to share, modify and use for educational purposes. \n",
    " Not to be used for commercial purposes.\n",
    "\n",
    "### Chapter 10\n",
    "**CH10B Finding a good deal among hotels with multiple regression**\n",
    "\n",
    "using the hotels-vienna dataset\n",
    "\n",
    "version 1.0 2021-05-05"
   ]
  },
  {
   "cell_type": "code",
   "execution_count": null,
   "metadata": {},
   "outputs": [],
   "source": [
    "import os\n",
    "from pathlib import Path\n",
    "import sys\n",
    "import warnings\n",
    "\n",
    "import numpy as np\n",
    "import pandas as pd\n",
    "from mizani.formatters import percent_format\n",
    "from plotnine import *\n",
    "from patsy import dmatrices\n",
    "import statsmodels.api as sm\n",
    "import statsmodels.formula.api as smf\n",
    "from stargazer.stargazer import Stargazer\n",
    "from IPython.core.display import HTML\n",
    "\n",
    "import seaborn as sns\n",
    "import matplotlib.pyplot as plt\n",
    "\n",
    "warnings.filterwarnings(\"ignore\")\n"
   ]
  },
  {
   "cell_type": "code",
   "execution_count": 44,
   "metadata": {},
   "outputs": [],
   "source": [
    "hotels = pd.read_csv(os.path.join(\"/workspaces/codespaces-jupyter/data/hotels-europe_features.csv\"))\n",
    "price = pd.read_csv(os.path.join(\"/workspaces/codespaces-jupyter/data/hotels-europe_price.csv\"))\n",
    "hotels = hotels.merge(price, on=\"hotel_id\", how=\"left\")"
   ]
  },
  {
   "cell_type": "code",
   "execution_count": 45,
   "metadata": {},
   "outputs": [
    {
     "data": {
      "text/plain": [
       "accommodation_type\n",
       "Hotel                  100722\n",
       "Apartment               16992\n",
       "Guest House              9927\n",
       "Bed and breakfast        6316\n",
       "Hostel                   6226\n",
       "Apart-hotel              3672\n",
       "Vacation home Condo      1536\n",
       "Pension                  1084\n",
       "Inn                      1010\n",
       "Country House              89\n",
       "Palace                     67\n",
       "Villa                      64\n",
       "Caravan Park               60\n",
       "Resort                     60\n",
       "House boat                 31\n",
       "Pousada                    28\n",
       "Motel                      25\n",
       "Cabin / Lodge              14\n",
       "Cottage                    12\n",
       "Chalet                     11\n",
       "All inclusive               5\n",
       "Castle                      5\n",
       "Name: count, dtype: int64"
      ]
     },
     "execution_count": 45,
     "metadata": {},
     "output_type": "execute_result"
    }
   ],
   "source": [
    "hotels[\"accommodation_type\"].value_counts()"
   ]
  },
  {
   "cell_type": "code",
   "execution_count": 46,
   "metadata": {},
   "outputs": [
    {
     "data": {
      "text/plain": [
       "Index(['hotel_id', 'city', 'distance', 'stars', 'rating', 'country',\n",
       "       'city_actual', 'rating_reviewcount', 'center1label', 'center2label',\n",
       "       'neighbourhood', 'ratingta', 'ratingta_count', 'distance_alter',\n",
       "       'accommodation_type', 'price', 'offer', 'offer_cat', 'year', 'month',\n",
       "       'weekend', 'holiday', 'nnights', 'scarce_room'],\n",
       "      dtype='object')"
      ]
     },
     "execution_count": 46,
     "metadata": {},
     "output_type": "execute_result"
    }
   ],
   "source": [
    "hotels.columns"
   ]
  },
  {
   "cell_type": "code",
   "execution_count": 47,
   "metadata": {},
   "outputs": [],
   "source": [
    "hotels = hotels.loc[\n",
    "    lambda x: (x[\"accommodation_type\"] == \"Hotel\")\n",
    "    & (x[\"city_actual\"] == \"Rome\")\n",
    "    & (x[\"stars\"] >= 3)\n",
    "    & (x[\"stars\"] <= 4)\n",
    "    #& (x[\"price\"] <= 600)\n",
    "    & (x[\"stars\"].notnull())\n",
    "]"
   ]
  },
  {
   "cell_type": "code",
   "execution_count": 48,
   "metadata": {},
   "outputs": [
    {
     "data": {
      "text/plain": [
       "4138"
      ]
     },
     "execution_count": 48,
     "metadata": {},
     "output_type": "execute_result"
    }
   ],
   "source": [
    "len(hotels)"
   ]
  },
  {
   "cell_type": "code",
   "execution_count": 49,
   "metadata": {},
   "outputs": [
    {
     "data": {
      "text/plain": [
       "count    4112.000000\n",
       "mean        3.884655\n",
       "std         0.443725\n",
       "min         2.500000\n",
       "25%         3.700000\n",
       "50%         3.900000\n",
       "75%         4.100000\n",
       "max         4.800000\n",
       "Name: rating, dtype: float64"
      ]
     },
     "execution_count": 49,
     "metadata": {},
     "output_type": "execute_result"
    }
   ],
   "source": [
    "hotels[\"rating\"].describe()"
   ]
  },
  {
   "cell_type": "code",
   "execution_count": 50,
   "metadata": {},
   "outputs": [
    {
     "data": {
      "image/png": "[encoded data removed]",
      "text/plain": [
       "<Figure size 800x500 with 1 Axes>"
      ]
     },
     "metadata": {},
     "output_type": "display_data"
    }
   ],
   "source": [
    "plt.figure(figsize=(8, 5))\n",
    "sns.histplot(hotels[\"rating\"], bins=20, color=\"blue\", edgecolor=\"black\")\n",
    "plt.title(\"Histogram of Hotel Ratings\")\n",
    "plt.xlabel(\"Rating\")\n",
    "plt.ylabel(\"Count\")\n",
    "plt.tight_layout()\n",
    "plt.show()"
   ]
  },
  {
   "cell_type": "code",
   "execution_count": 55,
   "metadata": {},
   "outputs": [
    {
     "data": {
      "text/plain": [
       "count    4112.000000\n",
       "mean        3.884655\n",
       "std         0.443725\n",
       "min         2.500000\n",
       "25%         3.700000\n",
       "50%         3.900000\n",
       "75%         4.100000\n",
       "max         4.800000\n",
       "Name: rating, dtype: float64"
      ]
     },
     "execution_count": 55,
     "metadata": {},
     "output_type": "execute_result"
    }
   ],
   "source": [
    "hotels.dropna(inplace=True)\n",
    "hotels\n",
    "hotels[\"rating\"].describe()"
   ]
  },
  {
   "cell_type": "code",
   "execution_count": 60,
   "metadata": {},
   "outputs": [
    {
     "data": {
      "text/plain": [
       "high_rating\n",
       "0    2089\n",
       "1    2023\n",
       "Name: count, dtype: int64"
      ]
     },
     "execution_count": 60,
     "metadata": {},
     "output_type": "execute_result"
    }
   ],
   "source": [
    "hotels[\"high_rating\"] = np.where(hotels[\"rating\"] >= 4, 1, 0)\n",
    "hotels[\"high_rating\"].value_counts()"
   ]
  },
  {
   "cell_type": "code",
   "execution_count": 63,
   "metadata": {},
   "outputs": [
    {
     "data": {
      "text/html": [
       "<div>\n",
       "<style scoped>\n",
       "    .dataframe tbody tr th:only-of-type {\n",
       "        vertical-align: middle;\n",
       "    }\n",
       "\n",
       "    .dataframe tbody tr th {\n",
       "        vertical-align: top;\n",
       "    }\n",
       "\n",
       "    .dataframe thead th {\n",
       "        text-align: right;\n",
       "    }\n",
       "</style>\n",
       "<table border=\"1\" class=\"dataframe\">\n",
       "  <thead>\n",
       "    <tr style=\"text-align: right;\">\n",
       "      <th></th>\n",
       "      <th>111312</th>\n",
       "      <th>111313</th>\n",
       "      <th>111314</th>\n",
       "      <th>111315</th>\n",
       "      <th>111316</th>\n",
       "    </tr>\n",
       "  </thead>\n",
       "  <tbody>\n",
       "    <tr>\n",
       "      <th>hotel_id</th>\n",
       "      <td>15166</td>\n",
       "      <td>15166</td>\n",
       "      <td>15166</td>\n",
       "      <td>15166</td>\n",
       "      <td>15167</td>\n",
       "    </tr>\n",
       "    <tr>\n",
       "      <th>city</th>\n",
       "      <td>Rome</td>\n",
       "      <td>Rome</td>\n",
       "      <td>Rome</td>\n",
       "      <td>Rome</td>\n",
       "      <td>Rome</td>\n",
       "    </tr>\n",
       "    <tr>\n",
       "      <th>distance</th>\n",
       "      <td>3.2</td>\n",
       "      <td>3.2</td>\n",
       "      <td>3.2</td>\n",
       "      <td>3.2</td>\n",
       "      <td>3.2</td>\n",
       "    </tr>\n",
       "    <tr>\n",
       "      <th>stars</th>\n",
       "      <td>4.0</td>\n",
       "      <td>4.0</td>\n",
       "      <td>4.0</td>\n",
       "      <td>4.0</td>\n",
       "      <td>4.0</td>\n",
       "    </tr>\n",
       "    <tr>\n",
       "      <th>rating</th>\n",
       "      <td>3.5</td>\n",
       "      <td>3.5</td>\n",
       "      <td>3.5</td>\n",
       "      <td>3.5</td>\n",
       "      <td>3.5</td>\n",
       "    </tr>\n",
       "    <tr>\n",
       "      <th>country</th>\n",
       "      <td>Italy</td>\n",
       "      <td>Italy</td>\n",
       "      <td>Italy</td>\n",
       "      <td>Italy</td>\n",
       "      <td>Italy</td>\n",
       "    </tr>\n",
       "    <tr>\n",
       "      <th>city_actual</th>\n",
       "      <td>Rome</td>\n",
       "      <td>Rome</td>\n",
       "      <td>Rome</td>\n",
       "      <td>Rome</td>\n",
       "      <td>Rome</td>\n",
       "    </tr>\n",
       "    <tr>\n",
       "      <th>rating_reviewcount</th>\n",
       "      <td>19.0</td>\n",
       "      <td>19.0</td>\n",
       "      <td>19.0</td>\n",
       "      <td>19.0</td>\n",
       "      <td>19.0</td>\n",
       "    </tr>\n",
       "    <tr>\n",
       "      <th>center1label</th>\n",
       "      <td>City centre</td>\n",
       "      <td>City centre</td>\n",
       "      <td>City centre</td>\n",
       "      <td>City centre</td>\n",
       "      <td>City centre</td>\n",
       "    </tr>\n",
       "    <tr>\n",
       "      <th>center2label</th>\n",
       "      <td>Palazzo Madama</td>\n",
       "      <td>Palazzo Madama</td>\n",
       "      <td>Palazzo Madama</td>\n",
       "      <td>Palazzo Madama</td>\n",
       "      <td>Grotta del Bue Marino</td>\n",
       "    </tr>\n",
       "    <tr>\n",
       "      <th>neighbourhood</th>\n",
       "      <td>Aurelio</td>\n",
       "      <td>Aurelio</td>\n",
       "      <td>Aurelio</td>\n",
       "      <td>Aurelio</td>\n",
       "      <td>Aurelio</td>\n",
       "    </tr>\n",
       "    <tr>\n",
       "      <th>ratingta</th>\n",
       "      <td>3.5</td>\n",
       "      <td>3.5</td>\n",
       "      <td>3.5</td>\n",
       "      <td>3.5</td>\n",
       "      <td>3.5</td>\n",
       "    </tr>\n",
       "    <tr>\n",
       "      <th>ratingta_count</th>\n",
       "      <td>300.0</td>\n",
       "      <td>300.0</td>\n",
       "      <td>300.0</td>\n",
       "      <td>300.0</td>\n",
       "      <td>300.0</td>\n",
       "    </tr>\n",
       "    <tr>\n",
       "      <th>distance_alter</th>\n",
       "      <td>2.9</td>\n",
       "      <td>2.9</td>\n",
       "      <td>2.9</td>\n",
       "      <td>2.9</td>\n",
       "      <td>4.2</td>\n",
       "    </tr>\n",
       "    <tr>\n",
       "      <th>accommodation_type</th>\n",
       "      <td>Hotel</td>\n",
       "      <td>Hotel</td>\n",
       "      <td>Hotel</td>\n",
       "      <td>Hotel</td>\n",
       "      <td>Hotel</td>\n",
       "    </tr>\n",
       "    <tr>\n",
       "      <th>price</th>\n",
       "      <td>119</td>\n",
       "      <td>128</td>\n",
       "      <td>385</td>\n",
       "      <td>119</td>\n",
       "      <td>69</td>\n",
       "    </tr>\n",
       "    <tr>\n",
       "      <th>offer</th>\n",
       "      <td>1</td>\n",
       "      <td>0</td>\n",
       "      <td>1</td>\n",
       "      <td>1</td>\n",
       "      <td>1</td>\n",
       "    </tr>\n",
       "    <tr>\n",
       "      <th>offer_cat</th>\n",
       "      <td>1-15% offer</td>\n",
       "      <td>0% no offer</td>\n",
       "      <td>15-50% offer</td>\n",
       "      <td>1-15% offer</td>\n",
       "      <td>15-50% offer</td>\n",
       "    </tr>\n",
       "    <tr>\n",
       "      <th>year</th>\n",
       "      <td>2018</td>\n",
       "      <td>2018</td>\n",
       "      <td>2017</td>\n",
       "      <td>2018</td>\n",
       "      <td>2018</td>\n",
       "    </tr>\n",
       "    <tr>\n",
       "      <th>month</th>\n",
       "      <td>6</td>\n",
       "      <td>5</td>\n",
       "      <td>12</td>\n",
       "      <td>3</td>\n",
       "      <td>2</td>\n",
       "    </tr>\n",
       "    <tr>\n",
       "      <th>weekend</th>\n",
       "      <td>1</td>\n",
       "      <td>1</td>\n",
       "      <td>0</td>\n",
       "      <td>1</td>\n",
       "      <td>1</td>\n",
       "    </tr>\n",
       "    <tr>\n",
       "      <th>holiday</th>\n",
       "      <td>0</td>\n",
       "      <td>0</td>\n",
       "      <td>1</td>\n",
       "      <td>0</td>\n",
       "      <td>0</td>\n",
       "    </tr>\n",
       "    <tr>\n",
       "      <th>nnights</th>\n",
       "      <td>1</td>\n",
       "      <td>1</td>\n",
       "      <td>4</td>\n",
       "      <td>1</td>\n",
       "      <td>1</td>\n",
       "    </tr>\n",
       "    <tr>\n",
       "      <th>scarce_room</th>\n",
       "      <td>0</td>\n",
       "      <td>0</td>\n",
       "      <td>0</td>\n",
       "      <td>0</td>\n",
       "      <td>0</td>\n",
       "    </tr>\n",
       "    <tr>\n",
       "      <th>high_rating</th>\n",
       "      <td>0</td>\n",
       "      <td>0</td>\n",
       "      <td>0</td>\n",
       "      <td>0</td>\n",
       "      <td>0</td>\n",
       "    </tr>\n",
       "  </tbody>\n",
       "</table>\n",
       "</div>"
      ],
      "text/plain": [
       "                            111312          111313          111314  \\\n",
       "hotel_id                     15166           15166           15166   \n",
       "city                          Rome            Rome            Rome   \n",
       "distance                       3.2             3.2             3.2   \n",
       "stars                          4.0             4.0             4.0   \n",
       "rating                         3.5             3.5             3.5   \n",
       "country                      Italy           Italy           Italy   \n",
       "city_actual                   Rome            Rome            Rome   \n",
       "rating_reviewcount            19.0            19.0            19.0   \n",
       "center1label           City centre     City centre     City centre   \n",
       "center2label        Palazzo Madama  Palazzo Madama  Palazzo Madama   \n",
       "neighbourhood              Aurelio         Aurelio         Aurelio   \n",
       "ratingta                       3.5             3.5             3.5   \n",
       "ratingta_count               300.0           300.0           300.0   \n",
       "distance_alter                 2.9             2.9             2.9   \n",
       "accommodation_type           Hotel           Hotel           Hotel   \n",
       "price                          119             128             385   \n",
       "offer                            1               0               1   \n",
       "offer_cat              1-15% offer     0% no offer    15-50% offer   \n",
       "year                          2018            2018            2017   \n",
       "month                            6               5              12   \n",
       "weekend                          1               1               0   \n",
       "holiday                          0               0               1   \n",
       "nnights                          1               1               4   \n",
       "scarce_room                      0               0               0   \n",
       "high_rating                      0               0               0   \n",
       "\n",
       "                            111315                 111316  \n",
       "hotel_id                     15166                  15167  \n",
       "city                          Rome                   Rome  \n",
       "distance                       3.2                    3.2  \n",
       "stars                          4.0                    4.0  \n",
       "rating                         3.5                    3.5  \n",
       "country                      Italy                  Italy  \n",
       "city_actual                   Rome                   Rome  \n",
       "rating_reviewcount            19.0                   19.0  \n",
       "center1label           City centre            City centre  \n",
       "center2label        Palazzo Madama  Grotta del Bue Marino  \n",
       "neighbourhood              Aurelio                Aurelio  \n",
       "ratingta                       3.5                    3.5  \n",
       "ratingta_count               300.0                  300.0  \n",
       "distance_alter                 2.9                    4.2  \n",
       "accommodation_type           Hotel                  Hotel  \n",
       "price                          119                     69  \n",
       "offer                            1                      1  \n",
       "offer_cat              1-15% offer           15-50% offer  \n",
       "year                          2018                   2018  \n",
       "month                            3                      2  \n",
       "weekend                          1                      1  \n",
       "holiday                          0                      0  \n",
       "nnights                          1                      1  \n",
       "scarce_room                      0                      0  \n",
       "high_rating                      0                      0  "
      ]
     },
     "execution_count": 63,
     "metadata": {},
     "output_type": "execute_result"
    }
   ],
   "source": [
    "hotels.head().T"
   ]
  },
  {
   "cell_type": "markdown",
   "metadata": {},
   "source": [
    "### Linear Probability"
   ]
  },
  {
   "cell_type": "code",
   "execution_count": null,
   "metadata": {},
   "outputs": [
    {
     "data": {
      "text/plain": [
       "(<class 'statsmodels.iolib.summary.Summary'>\n",
       " \"\"\"\n",
       "                             OLS Regression Results                            \n",
       " ==============================================================================\n",
       " Dep. Variable:            high_rating   R-squared:                       0.030\n",
       " Model:                            OLS   Adj. R-squared:                  0.029\n",
       " Method:                 Least Squares   F-statistic:                     194.8\n",
       " Date:                Wed, 16 Jul 2025   Prob (F-statistic):           2.72e-43\n",
       " Time:                        18:18:10   Log-Likelihood:                -2922.2\n",
       " No. Observations:                4112   AIC:                             5848.\n",
       " Df Residuals:                    4110   BIC:                             5861.\n",
       " Df Model:                           1                                         \n",
       " Covariance Type:                  HC1                                         \n",
       " ==============================================================================\n",
       "                  coef    std err          z      P>|z|      [0.025      0.975]\n",
       " ------------------------------------------------------------------------------\n",
       " Intercept      0.5660      0.010     58.319      0.000       0.547       0.585\n",
       " distance      -0.0394      0.003    -13.957      0.000      -0.045      -0.034\n",
       " ==============================================================================\n",
       " Omnibus:                    15142.848   Durbin-Watson:                   0.255\n",
       " Prob(Omnibus):                  0.000   Jarque-Bera (JB):              626.782\n",
       " Skew:                           0.006   Prob(JB):                    7.87e-137\n",
       " Kurtosis:                       1.087   Cond. No.                         4.01\n",
       " ==============================================================================\n",
       " \n",
       " Notes:\n",
       " [1] Standard Errors are heteroscedasticity robust (HC1)\n",
       " \"\"\",)"
      ]
     },
     "execution_count": 68,
     "metadata": {},
     "output_type": "execute_result"
    }
   ],
   "source": [
    "# does distance affect probablity of being high rated hotel?\n",
    "\n",
    "lpm_hr1 = smf.ols(\"high_rating ~ distance\", data=hotels).fit(cov_type=\"HC1\")\n",
    "lpm_hr1.summary(),"
   ]
  },
  {
   "cell_type": "code",
   "execution_count": 69,
   "metadata": {},
   "outputs": [
    {
     "data": {
      "text/plain": [
       "(<class 'statsmodels.iolib.summary.Summary'>\n",
       " \"\"\"\n",
       "                             OLS Regression Results                            \n",
       " ==============================================================================\n",
       " Dep. Variable:            high_rating   R-squared:                       0.019\n",
       " Model:                            OLS   Adj. R-squared:                  0.019\n",
       " Method:                 Least Squares   F-statistic:                     81.02\n",
       " Date:                Wed, 16 Jul 2025   Prob (F-statistic):           3.34e-19\n",
       " Time:                        18:19:29   Log-Likelihood:                -2943.8\n",
       " No. Observations:                4112   AIC:                             5892.\n",
       " Df Residuals:                    4110   BIC:                             5904.\n",
       " Df Model:                           1                                         \n",
       " Covariance Type:                  HC1                                         \n",
       " ==============================================================================\n",
       "                  coef    std err          z      P>|z|      [0.025      0.975]\n",
       " ------------------------------------------------------------------------------\n",
       " Intercept      0.0059      0.055      0.109      0.913      -0.101       0.113\n",
       " stars          0.1393      0.015      9.001      0.000       0.109       0.170\n",
       " ==============================================================================\n",
       " Omnibus:                    15068.680   Durbin-Watson:                   0.251\n",
       " Prob(Omnibus):                  0.000   Jarque-Bera (JB):              632.365\n",
       " Skew:                           0.032   Prob(JB):                    4.83e-138\n",
       " Kurtosis:                       1.080   Cond. No.                         26.9\n",
       " ==============================================================================\n",
       " \n",
       " Notes:\n",
       " [1] Standard Errors are heteroscedasticity robust (HC1)\n",
       " \"\"\",)"
      ]
     },
     "execution_count": 69,
     "metadata": {},
     "output_type": "execute_result"
    }
   ],
   "source": [
    "# does stars affect probablity of being high rated hotel?\n",
    "\n",
    "lpm_hr2 = smf.ols(\"high_rating ~ stars\", data=hotels).fit(cov_type=\"HC1\")\n",
    "lpm_hr2.summary(),"
   ]
  },
  {
   "cell_type": "code",
   "execution_count": 70,
   "metadata": {},
   "outputs": [
    {
     "data": {
      "text/plain": [
       "(<class 'statsmodels.iolib.summary.Summary'>\n",
       " \"\"\"\n",
       "                             OLS Regression Results                            \n",
       " ==============================================================================\n",
       " Dep. Variable:            high_rating   R-squared:                       0.038\n",
       " Model:                            OLS   Adj. R-squared:                  0.038\n",
       " Method:                 Least Squares   F-statistic:                     195.6\n",
       " Date:                Wed, 16 Jul 2025   Prob (F-statistic):           1.91e-43\n",
       " Time:                        18:20:15   Log-Likelihood:                -2903.8\n",
       " No. Observations:                4112   AIC:                             5812.\n",
       " Df Residuals:                    4110   BIC:                             5824.\n",
       " Df Model:                           1                                         \n",
       " Covariance Type:                  HC1                                         \n",
       " ==============================================================================\n",
       "                  coef    std err          z      P>|z|      [0.025      0.975]\n",
       " ------------------------------------------------------------------------------\n",
       " Intercept      0.3843      0.011     35.071      0.000       0.363       0.406\n",
       " price          0.0005   3.92e-05     13.984      0.000       0.000       0.001\n",
       " ==============================================================================\n",
       " Omnibus:                    15511.093   Durbin-Watson:                   0.322\n",
       " Prob(Omnibus):                  0.000   Jarque-Bera (JB):              605.958\n",
       " Skew:                           0.050   Prob(JB):                    2.62e-132\n",
       " Kurtosis:                       1.122   Cond. No.                         395.\n",
       " ==============================================================================\n",
       " \n",
       " Notes:\n",
       " [1] Standard Errors are heteroscedasticity robust (HC1)\n",
       " \"\"\",)"
      ]
     },
     "execution_count": 70,
     "metadata": {},
     "output_type": "execute_result"
    }
   ],
   "source": [
    "# does price affect probablity of being high rated hotel?\n",
    "\n",
    "lpm_hr3 = smf.ols(\"high_rating ~ price\", data=hotels).fit(cov_type=\"HC1\")\n",
    "lpm_hr3.summary(),"
   ]
  },
  {
   "cell_type": "code",
   "execution_count": 73,
   "metadata": {},
   "outputs": [
    {
     "data": {
      "text/plain": [
       "(<class 'statsmodels.iolib.summary.Summary'>\n",
       " \"\"\"\n",
       "                             OLS Regression Results                            \n",
       " ==============================================================================\n",
       " Dep. Variable:            high_rating   R-squared:                       0.071\n",
       " Model:                            OLS   Adj. R-squared:                  0.070\n",
       " Method:                 Least Squares   F-statistic:                     144.3\n",
       " Date:                Wed, 16 Jul 2025   Prob (F-statistic):           6.35e-89\n",
       " Time:                        18:21:17   Log-Likelihood:                -2832.3\n",
       " No. Observations:                4112   AIC:                             5673.\n",
       " Df Residuals:                    4108   BIC:                             5698.\n",
       " Df Model:                           3                                         \n",
       " Covariance Type:                  HC1                                         \n",
       " ==============================================================================\n",
       "                  coef    std err          z      P>|z|      [0.025      0.975]\n",
       " ------------------------------------------------------------------------------\n",
       " Intercept      0.0377      0.053      0.706      0.480      -0.067       0.142\n",
       " distance      -0.0338      0.003    -11.724      0.000      -0.039      -0.028\n",
       " price          0.0004    3.9e-05     10.391      0.000       0.000       0.000\n",
       " stars          0.1257      0.015      8.217      0.000       0.096       0.156\n",
       " ==============================================================================\n",
       " Omnibus:                    17052.523   Durbin-Watson:                   0.296\n",
       " Prob(Omnibus):                  0.000   Jarque-Bera (JB):              532.659\n",
       " Skew:                           0.030   Prob(JB):                    2.16e-116\n",
       " Kurtosis:                       1.238   Cond. No.                     1.95e+03\n",
       " ==============================================================================\n",
       " \n",
       " Notes:\n",
       " [1] Standard Errors are heteroscedasticity robust (HC1)\n",
       " [2] The condition number is large, 1.95e+03. This might indicate that there are\n",
       " strong multicollinearity or other numerical problems.\n",
       " \"\"\",)"
      ]
     },
     "execution_count": 73,
     "metadata": {},
     "output_type": "execute_result"
    }
   ],
   "source": [
    "# commine all\n",
    "\n",
    "lpm_hr4 = smf.ols(\"high_rating ~ distance + price + stars\", data=hotels).fit(cov_type=\"HC1\")\n",
    "lpm_hr4.summary(),"
   ]
  },
  {
   "cell_type": "markdown",
   "metadata": {},
   "source": [
    "### Logit Model"
   ]
  },
  {
   "cell_type": "code",
   "execution_count": 75,
   "metadata": {},
   "outputs": [],
   "source": [
    "# creating matrixes for regressions\n",
    "\n",
    "y1, X1 = dmatrices(\"high_rating ~ distance\",hotels)\n",
    "y2, X2 = dmatrices(\"high_rating ~ price\",hotels)\n",
    "y3, X3 = dmatrices(\"high_rating ~ stars\",hotels)\n",
    "y4, X4 = dmatrices(\"high_rating ~ distance + price + rating\",hotels)"
   ]
  },
  {
   "cell_type": "code",
   "execution_count": null,
   "metadata": {},
   "outputs": [],
   "source": [
    "# GLM logit\n",
    "logit1 = sm.GLM(y1, X1, family=sm.families.Binomial(link=sm.genmod.families.links.logit()))\n",
    "logit1 = logit.fit()\n",
    "\n",
    "\n",
    "logit2 = sm.GLM(y2, X2, family=sm.families.Binomial(link=sm.genmod.families.links.logit()))\n",
    "logit2 = logit2.fit()\n",
    "\n",
    "\n",
    "logit3 = sm.GLM(y3, X3, family=sm.families.Binomial(link=sm.genmod.families.links.logit()))\n",
    "logit3 = logit3.fit()\n",
    "\n",
    "\n",
    "logit4 = sm.GLM(y4, X4, family=sm.families.Binomial(link=sm.genmod.families.links.logit()))\n",
    "logit4 = logit4.fit()\n"
   ]
  },
  {
   "cell_type": "code",
   "execution_count": 82,
   "metadata": {},
   "outputs": [
    {
     "data": {
      "text/plain": [
       "(np.float64(0.24252460191159034),\n",
       " np.float64(0.23943876472078562),\n",
       " np.float64(0.24510257698808405),\n",
       " np.float64(1.0431723178816166e-24))"
      ]
     },
     "execution_count": 82,
     "metadata": {},
     "output_type": "execute_result"
    }
   ],
   "source": [
    "from sklearn.metrics import brier_score_loss\n",
    "\n",
    "# Get predicted probabilities for each model\n",
    "probs1 = logit1.predict(X1)\n",
    "probs2 = logit2.predict(X2)\n",
    "probs3 = logit3.predict(X3)\n",
    "probs4 = logit4.predict(X4)\n",
    "\n",
    "# True labels\n",
    "y_true = y1.ravel()\n",
    "\n",
    "# Calculate Brier scores\n",
    "brier1 = brier_score_loss(y_true, probs1)\n",
    "brier2 = brier_score_loss(y_true, probs2)\n",
    "brier3 = brier_score_loss(y_true, probs3)\n",
    "brier4 = brier_score_loss(y_true, probs4)\n",
    "\n",
    "brier1, brier2, brier3, brier4"
   ]
  },
  {
   "cell_type": "code",
   "execution_count": 84,
   "metadata": {},
   "outputs": [
    {
     "data": {
      "text/plain": [
       "(<class 'statsmodels.iolib.summary.Summary'>\n",
       " \"\"\"\n",
       "                  Generalized Linear Model Regression Results                  \n",
       " ==============================================================================\n",
       " Dep. Variable:            high_rating   No. Observations:                 4112\n",
       " Model:                            GLM   Df Residuals:                     4110\n",
       " Model Family:                Binomial   Df Model:                            1\n",
       " Link Function:                  logit   Scale:                          1.0000\n",
       " Method:                          IRLS   Log-Likelihood:                -2762.7\n",
       " Date:                Wed, 16 Jul 2025   Deviance:                       5525.5\n",
       " Time:                        18:30:51   Pearson chi2:                 4.14e+03\n",
       " No. Iterations:                     4   Pseudo R-squ. (CS):            0.04141\n",
       " Covariance Type:            nonrobust                                         \n",
       " ==============================================================================\n",
       "                  coef    std err          z      P>|z|      [0.025      0.975]\n",
       " ------------------------------------------------------------------------------\n",
       " Intercept     -0.5398      0.052    -10.392      0.000      -0.642      -0.438\n",
       " price          0.0027      0.000     11.751      0.000       0.002       0.003\n",
       " ==============================================================================\n",
       " \"\"\",)"
      ]
     },
     "execution_count": 84,
     "metadata": {},
     "output_type": "execute_result"
    }
   ],
   "source": [
    "logit2.summary(),"
   ]
  },
  {
   "cell_type": "markdown",
   "metadata": {},
   "source": [
    "### Probit Model"
   ]
  },
  {
   "cell_type": "code",
   "execution_count": 85,
   "metadata": {},
   "outputs": [],
   "source": [
    "# GLM logit\n",
    "probit1 = sm.GLM(y1, X1, family=sm.families.Binomial(link=sm.genmod.families.links.probit()))\n",
    "probit1 = probit1.fit()\n",
    "\n",
    "\n",
    "probit2 = sm.GLM(y2, X2, family=sm.families.Binomial(link=sm.genmod.families.links.probit()))\n",
    "probit2 = probit2.fit()\n",
    "\n",
    "\n",
    "probit3 = sm.GLM(y3, X3, family=sm.families.Binomial(link=sm.genmod.families.links.probit()))\n",
    "probit3 = probit3.fit()\n",
    "\n",
    "\n",
    "probit4 = sm.GLM(y4, X4, family=sm.families.Binomial(link=sm.genmod.families.links.probit()))\n",
    "probit4 = probit4.fit()"
   ]
  },
  {
   "cell_type": "code",
   "execution_count": 86,
   "metadata": {},
   "outputs": [
    {
     "data": {
      "text/plain": [
       "(<class 'statsmodels.iolib.summary.Summary'>\n",
       " \"\"\"\n",
       "                  Generalized Linear Model Regression Results                  \n",
       " ==============================================================================\n",
       " Dep. Variable:            high_rating   No. Observations:                 4112\n",
       " Model:                            GLM   Df Residuals:                     4110\n",
       " Model Family:                Binomial   Df Model:                            1\n",
       " Link Function:                 probit   Scale:                          1.0000\n",
       " Method:                          IRLS   Log-Likelihood:                -2783.7\n",
       " Date:                Wed, 16 Jul 2025   Deviance:                       5567.5\n",
       " Time:                        18:42:49   Pearson chi2:                 4.10e+03\n",
       " No. Iterations:                     4   Pseudo R-squ. (CS):            0.03158\n",
       " Covariance Type:            nonrobust                                         \n",
       " ==============================================================================\n",
       "                  coef    std err          z      P>|z|      [0.025      0.975]\n",
       " ------------------------------------------------------------------------------\n",
       " Intercept      0.1852      0.027      6.917      0.000       0.133       0.238\n",
       " distance      -0.1126      0.010    -10.940      0.000      -0.133      -0.092\n",
       " ==============================================================================\n",
       " \"\"\",)"
      ]
     },
     "execution_count": 86,
     "metadata": {},
     "output_type": "execute_result"
    }
   ],
   "source": [
    "probit1.summary(),"
   ]
  },
  {
   "cell_type": "code",
   "execution_count": 88,
   "metadata": {},
   "outputs": [
    {
     "data": {
      "text/plain": [
       "(<class 'statsmodels.iolib.summary.Summary'>\n",
       " \"\"\"\n",
       "                  Generalized Linear Model Regression Results                  \n",
       " ==============================================================================\n",
       " Dep. Variable:            high_rating   No. Observations:                 4112\n",
       " Model:                            GLM   Df Residuals:                     4110\n",
       " Model Family:                Binomial   Df Model:                            1\n",
       " Link Function:                 probit   Scale:                          1.0000\n",
       " Method:                          IRLS   Log-Likelihood:                -2764.0\n",
       " Date:                Wed, 16 Jul 2025   Deviance:                       5528.0\n",
       " Time:                        18:43:27   Pearson chi2:                 4.14e+03\n",
       " No. Iterations:                     4   Pseudo R-squ. (CS):            0.04082\n",
       " Covariance Type:            nonrobust                                         \n",
       " ==============================================================================\n",
       "                  coef    std err          z      P>|z|      [0.025      0.975]\n",
       " ------------------------------------------------------------------------------\n",
       " Intercept     -0.3256      0.031    -10.347      0.000      -0.387      -0.264\n",
       " price          0.0016      0.000     12.009      0.000       0.001       0.002\n",
       " ==============================================================================\n",
       " \"\"\",)"
      ]
     },
     "execution_count": 88,
     "metadata": {},
     "output_type": "execute_result"
    }
   ],
   "source": [
    "probit2.summary(),"
   ]
  },
  {
   "cell_type": "code",
   "execution_count": 89,
   "metadata": {},
   "outputs": [
    {
     "data": {
      "text/plain": [
       "(<class 'statsmodels.iolib.summary.Summary'>\n",
       " \"\"\"\n",
       "                  Generalized Linear Model Regression Results                  \n",
       " ==============================================================================\n",
       " Dep. Variable:            high_rating   No. Observations:                 4112\n",
       " Model:                            GLM   Df Residuals:                     4110\n",
       " Model Family:                Binomial   Df Model:                            1\n",
       " Link Function:                 probit   Scale:                          1.0000\n",
       " Method:                          IRLS   Log-Likelihood:                -2809.8\n",
       " Date:                Wed, 16 Jul 2025   Deviance:                       5619.6\n",
       " Time:                        18:43:37   Pearson chi2:                 4.11e+03\n",
       " No. Iterations:                     4   Pseudo R-squ. (CS):            0.01921\n",
       " Covariance Type:            nonrobust                                         \n",
       " ==============================================================================\n",
       "                  coef    std err          z      P>|z|      [0.025      0.975]\n",
       " ------------------------------------------------------------------------------\n",
       " Intercept     -1.2451      0.139     -8.966      0.000      -1.517      -0.973\n",
       " stars          0.3511      0.039      8.912      0.000       0.274       0.428\n",
       " ==============================================================================\n",
       " \"\"\",)"
      ]
     },
     "execution_count": 89,
     "metadata": {},
     "output_type": "execute_result"
    }
   ],
   "source": [
    "probit3.summary(),"
   ]
  },
  {
   "cell_type": "code",
   "execution_count": 91,
   "metadata": {},
   "outputs": [
    {
     "data": {
      "text/plain": [
       "(<class 'statsmodels.iolib.summary.Summary'>\n",
       " \"\"\"\n",
       "                  Generalized Linear Model Regression Results                  \n",
       " ==============================================================================\n",
       " Dep. Variable:            high_rating   No. Observations:                 4112\n",
       " Model:                            GLM   Df Residuals:                     4108\n",
       " Model Family:                Binomial   Df Model:                            3\n",
       " Link Function:                 probit   Scale:                          1.0000\n",
       " Method:                          IRLS   Log-Likelihood:                    nan\n",
       " Date:                Wed, 16 Jul 2025   Deviance:                   3.2870e-09\n",
       " Time:                        18:43:51   Pearson chi2:                 1.64e-09\n",
       " No. Iterations:                    30   Pseudo R-squ. (CS):                nan\n",
       " Covariance Type:            nonrobust                                         \n",
       " ==============================================================================\n",
       "                  coef    std err          z      P>|z|      [0.025      0.975]\n",
       " ------------------------------------------------------------------------------\n",
       " Intercept   -551.4647   1.69e+05     -0.003      0.997   -3.31e+05     3.3e+05\n",
       " distance      -0.0043    913.440  -4.76e-06      1.000   -1790.313    1790.304\n",
       " price       5.355e-06     14.705   3.64e-07      1.000     -28.821      28.821\n",
       " rating       139.6223   4.27e+04      0.003      0.997   -8.35e+04    8.38e+04\n",
       " ==============================================================================\n",
       " \"\"\",)"
      ]
     },
     "execution_count": 91,
     "metadata": {},
     "output_type": "execute_result"
    }
   ],
   "source": [
    "probit4.summary(),"
   ]
  },
  {
   "cell_type": "code",
   "execution_count": 72,
   "metadata": {},
   "outputs": [
    {
     "ename": "PatsyError",
     "evalue": "Error evaluating factor: NameError: name 'lnprice' is not defined\n    lnprice ~ rating\n    ^^^^^^^",
     "output_type": "error",
     "traceback": [
      "\u001b[31m---------------------------------------------------------------------------\u001b[39m",
      "\u001b[31mNameError\u001b[39m                                 Traceback (most recent call last)",
      "\u001b[36mFile \u001b[39m\u001b[32m/usr/local/python/3.12.1/lib/python3.12/site-packages/patsy/compat.py:40\u001b[39m, in \u001b[36mcall_and_wrap_exc\u001b[39m\u001b[34m(msg, origin, f, *args, **kwargs)\u001b[39m\n\u001b[32m     39\u001b[39m \u001b[38;5;28;01mtry\u001b[39;00m:\n\u001b[32m---> \u001b[39m\u001b[32m40\u001b[39m     \u001b[38;5;28;01mreturn\u001b[39;00m \u001b[43mf\u001b[49m\u001b[43m(\u001b[49m\u001b[43m*\u001b[49m\u001b[43margs\u001b[49m\u001b[43m,\u001b[49m\u001b[43m \u001b[49m\u001b[43m*\u001b[49m\u001b[43m*\u001b[49m\u001b[43mkwargs\u001b[49m\u001b[43m)\u001b[49m\n\u001b[32m     41\u001b[39m \u001b[38;5;28;01mexcept\u001b[39;00m \u001b[38;5;167;01mException\u001b[39;00m \u001b[38;5;28;01mas\u001b[39;00m e:\n",
      "\u001b[36mFile \u001b[39m\u001b[32m/usr/local/python/3.12.1/lib/python3.12/site-packages/patsy/eval.py:179\u001b[39m, in \u001b[36mEvalEnvironment.eval\u001b[39m\u001b[34m(self, expr, source_name, inner_namespace)\u001b[39m\n\u001b[32m    178\u001b[39m code = \u001b[38;5;28mcompile\u001b[39m(expr, source_name, \u001b[33m\"\u001b[39m\u001b[33meval\u001b[39m\u001b[33m\"\u001b[39m, \u001b[38;5;28mself\u001b[39m.flags, \u001b[38;5;28;01mFalse\u001b[39;00m)\n\u001b[32m--> \u001b[39m\u001b[32m179\u001b[39m \u001b[38;5;28;01mreturn\u001b[39;00m \u001b[38;5;28;43meval\u001b[39;49m\u001b[43m(\u001b[49m\u001b[43mcode\u001b[49m\u001b[43m,\u001b[49m\u001b[43m \u001b[49m\u001b[43m{\u001b[49m\u001b[43m}\u001b[49m\u001b[43m,\u001b[49m\u001b[43m \u001b[49m\u001b[43mVarLookupDict\u001b[49m\u001b[43m(\u001b[49m\u001b[43m[\u001b[49m\u001b[43minner_namespace\u001b[49m\u001b[43m]\u001b[49m\u001b[43m \u001b[49m\u001b[43m+\u001b[49m\u001b[43m \u001b[49m\u001b[38;5;28;43mself\u001b[39;49m\u001b[43m.\u001b[49m\u001b[43m_namespaces\u001b[49m\u001b[43m)\u001b[49m\u001b[43m)\u001b[49m\n",
      "\u001b[36mFile \u001b[39m\u001b[32m<string>:1\u001b[39m\n",
      "\u001b[31mNameError\u001b[39m: name 'lnprice' is not defined",
      "\nThe above exception was the direct cause of the following exception:\n",
      "\u001b[31mPatsyError\u001b[39m                                Traceback (most recent call last)",
      "\u001b[36mCell\u001b[39m\u001b[36m \u001b[39m\u001b[32mIn[72]\u001b[39m\u001b[32m, line 1\u001b[39m\n\u001b[32m----> \u001b[39m\u001b[32m1\u001b[39m reg0 = \u001b[43msmf\u001b[49m\u001b[43m.\u001b[49m\u001b[43mols\u001b[49m\u001b[43m(\u001b[49m\u001b[33;43m\"\u001b[39;49m\u001b[33;43mlnprice ~ rating\u001b[39;49m\u001b[33;43m\"\u001b[39;49m\u001b[43m,\u001b[49m\u001b[43m \u001b[49m\u001b[43mdata\u001b[49m\u001b[43m=\u001b[49m\u001b[43mhotels\u001b[49m\u001b[43m)\u001b[49m.fit()\n\u001b[32m      2\u001b[39m reg1 = smf.ols(\u001b[33m\"\u001b[39m\u001b[33mlnprice ~ distance\u001b[39m\u001b[33m\"\u001b[39m, data=hotels).fit()\n\u001b[32m      3\u001b[39m reg2 = smf.ols(\u001b[33m\"\u001b[39m\u001b[33mlnprice ~ distance + rating\u001b[39m\u001b[33m\"\u001b[39m, data=hotels).fit()\n",
      "\u001b[36mFile \u001b[39m\u001b[32m/usr/local/python/3.12.1/lib/python3.12/site-packages/statsmodels/base/model.py:203\u001b[39m, in \u001b[36mModel.from_formula\u001b[39m\u001b[34m(cls, formula, data, subset, drop_cols, *args, **kwargs)\u001b[39m\n\u001b[32m    200\u001b[39m \u001b[38;5;28;01mif\u001b[39;00m missing == \u001b[33m'\u001b[39m\u001b[33mnone\u001b[39m\u001b[33m'\u001b[39m:  \u001b[38;5;66;03m# with patsy it's drop or raise. let's raise.\u001b[39;00m\n\u001b[32m    201\u001b[39m     missing = \u001b[33m'\u001b[39m\u001b[33mraise\u001b[39m\u001b[33m'\u001b[39m\n\u001b[32m--> \u001b[39m\u001b[32m203\u001b[39m tmp = \u001b[43mhandle_formula_data\u001b[49m\u001b[43m(\u001b[49m\u001b[43mdata\u001b[49m\u001b[43m,\u001b[49m\u001b[43m \u001b[49m\u001b[38;5;28;43;01mNone\u001b[39;49;00m\u001b[43m,\u001b[49m\u001b[43m \u001b[49m\u001b[43mformula\u001b[49m\u001b[43m,\u001b[49m\u001b[43m \u001b[49m\u001b[43mdepth\u001b[49m\u001b[43m=\u001b[49m\u001b[43meval_env\u001b[49m\u001b[43m,\u001b[49m\n\u001b[32m    204\u001b[39m \u001b[43m                          \u001b[49m\u001b[43mmissing\u001b[49m\u001b[43m=\u001b[49m\u001b[43mmissing\u001b[49m\u001b[43m)\u001b[49m\n\u001b[32m    205\u001b[39m ((endog, exog), missing_idx, design_info) = tmp\n\u001b[32m    206\u001b[39m max_endog = \u001b[38;5;28mcls\u001b[39m._formula_max_endog\n",
      "\u001b[36mFile \u001b[39m\u001b[32m/usr/local/python/3.12.1/lib/python3.12/site-packages/statsmodels/formula/formulatools.py:63\u001b[39m, in \u001b[36mhandle_formula_data\u001b[39m\u001b[34m(Y, X, formula, depth, missing)\u001b[39m\n\u001b[32m     61\u001b[39m \u001b[38;5;28;01melse\u001b[39;00m:\n\u001b[32m     62\u001b[39m     \u001b[38;5;28;01mif\u001b[39;00m data_util._is_using_pandas(Y, \u001b[38;5;28;01mNone\u001b[39;00m):\n\u001b[32m---> \u001b[39m\u001b[32m63\u001b[39m         result = \u001b[43mdmatrices\u001b[49m\u001b[43m(\u001b[49m\u001b[43mformula\u001b[49m\u001b[43m,\u001b[49m\u001b[43m \u001b[49m\u001b[43mY\u001b[49m\u001b[43m,\u001b[49m\u001b[43m \u001b[49m\u001b[43mdepth\u001b[49m\u001b[43m,\u001b[49m\u001b[43m \u001b[49m\u001b[43mreturn_type\u001b[49m\u001b[43m=\u001b[49m\u001b[33;43m'\u001b[39;49m\u001b[33;43mdataframe\u001b[39;49m\u001b[33;43m'\u001b[39;49m\u001b[43m,\u001b[49m\n\u001b[32m     64\u001b[39m \u001b[43m                           \u001b[49m\u001b[43mNA_action\u001b[49m\u001b[43m=\u001b[49m\u001b[43mna_action\u001b[49m\u001b[43m)\u001b[49m\n\u001b[32m     65\u001b[39m     \u001b[38;5;28;01melse\u001b[39;00m:\n\u001b[32m     66\u001b[39m         result = dmatrices(formula, Y, depth, return_type=\u001b[33m'\u001b[39m\u001b[33mdataframe\u001b[39m\u001b[33m'\u001b[39m,\n\u001b[32m     67\u001b[39m                            NA_action=na_action)\n",
      "\u001b[36mFile \u001b[39m\u001b[32m/usr/local/python/3.12.1/lib/python3.12/site-packages/patsy/highlevel.py:319\u001b[39m, in \u001b[36mdmatrices\u001b[39m\u001b[34m(formula_like, data, eval_env, NA_action, return_type)\u001b[39m\n\u001b[32m    309\u001b[39m \u001b[38;5;250m\u001b[39m\u001b[33;03m\"\"\"Construct two design matrices given a formula_like and data.\u001b[39;00m\n\u001b[32m    310\u001b[39m \n\u001b[32m    311\u001b[39m \u001b[33;03mThis function is identical to :func:`dmatrix`, except that it requires\u001b[39;00m\n\u001b[32m   (...)\u001b[39m\u001b[32m    316\u001b[39m \u001b[33;03mSee :func:`dmatrix` for details.\u001b[39;00m\n\u001b[32m    317\u001b[39m \u001b[33;03m\"\"\"\u001b[39;00m\n\u001b[32m    318\u001b[39m eval_env = EvalEnvironment.capture(eval_env, reference=\u001b[32m1\u001b[39m)\n\u001b[32m--> \u001b[39m\u001b[32m319\u001b[39m (lhs, rhs) = \u001b[43m_do_highlevel_design\u001b[49m\u001b[43m(\u001b[49m\n\u001b[32m    320\u001b[39m \u001b[43m    \u001b[49m\u001b[43mformula_like\u001b[49m\u001b[43m,\u001b[49m\u001b[43m \u001b[49m\u001b[43mdata\u001b[49m\u001b[43m,\u001b[49m\u001b[43m \u001b[49m\u001b[43meval_env\u001b[49m\u001b[43m,\u001b[49m\u001b[43m \u001b[49m\u001b[43mNA_action\u001b[49m\u001b[43m,\u001b[49m\u001b[43m \u001b[49m\u001b[43mreturn_type\u001b[49m\n\u001b[32m    321\u001b[39m \u001b[43m\u001b[49m\u001b[43m)\u001b[49m\n\u001b[32m    322\u001b[39m \u001b[38;5;28;01mif\u001b[39;00m lhs.shape[\u001b[32m1\u001b[39m] == \u001b[32m0\u001b[39m:\n\u001b[32m    323\u001b[39m     \u001b[38;5;28;01mraise\u001b[39;00m PatsyError(\u001b[33m\"\u001b[39m\u001b[33mmodel is missing required outcome variables\u001b[39m\u001b[33m\"\u001b[39m)\n",
      "\u001b[36mFile \u001b[39m\u001b[32m/usr/local/python/3.12.1/lib/python3.12/site-packages/patsy/highlevel.py:164\u001b[39m, in \u001b[36m_do_highlevel_design\u001b[39m\u001b[34m(formula_like, data, eval_env, NA_action, return_type)\u001b[39m\n\u001b[32m    161\u001b[39m \u001b[38;5;28;01mdef\u001b[39;00m\u001b[38;5;250m \u001b[39m\u001b[34mdata_iter_maker\u001b[39m():\n\u001b[32m    162\u001b[39m     \u001b[38;5;28;01mreturn\u001b[39;00m \u001b[38;5;28miter\u001b[39m([data])\n\u001b[32m--> \u001b[39m\u001b[32m164\u001b[39m design_infos = \u001b[43m_try_incr_builders\u001b[49m\u001b[43m(\u001b[49m\n\u001b[32m    165\u001b[39m \u001b[43m    \u001b[49m\u001b[43mformula_like\u001b[49m\u001b[43m,\u001b[49m\u001b[43m \u001b[49m\u001b[43mdata_iter_maker\u001b[49m\u001b[43m,\u001b[49m\u001b[43m \u001b[49m\u001b[43meval_env\u001b[49m\u001b[43m,\u001b[49m\u001b[43m \u001b[49m\u001b[43mNA_action\u001b[49m\n\u001b[32m    166\u001b[39m \u001b[43m\u001b[49m\u001b[43m)\u001b[49m\n\u001b[32m    167\u001b[39m \u001b[38;5;28;01mif\u001b[39;00m design_infos \u001b[38;5;129;01mis\u001b[39;00m \u001b[38;5;129;01mnot\u001b[39;00m \u001b[38;5;28;01mNone\u001b[39;00m:\n\u001b[32m    168\u001b[39m     \u001b[38;5;28;01mreturn\u001b[39;00m build_design_matrices(\n\u001b[32m    169\u001b[39m         design_infos, data, NA_action=NA_action, return_type=return_type\n\u001b[32m    170\u001b[39m     )\n",
      "\u001b[36mFile \u001b[39m\u001b[32m/usr/local/python/3.12.1/lib/python3.12/site-packages/patsy/highlevel.py:56\u001b[39m, in \u001b[36m_try_incr_builders\u001b[39m\u001b[34m(formula_like, data_iter_maker, eval_env, NA_action)\u001b[39m\n\u001b[32m     54\u001b[39m \u001b[38;5;28;01mif\u001b[39;00m \u001b[38;5;28misinstance\u001b[39m(formula_like, ModelDesc):\n\u001b[32m     55\u001b[39m     \u001b[38;5;28;01massert\u001b[39;00m \u001b[38;5;28misinstance\u001b[39m(eval_env, EvalEnvironment)\n\u001b[32m---> \u001b[39m\u001b[32m56\u001b[39m     \u001b[38;5;28;01mreturn\u001b[39;00m \u001b[43mdesign_matrix_builders\u001b[49m\u001b[43m(\u001b[49m\n\u001b[32m     57\u001b[39m \u001b[43m        \u001b[49m\u001b[43m[\u001b[49m\u001b[43mformula_like\u001b[49m\u001b[43m.\u001b[49m\u001b[43mlhs_termlist\u001b[49m\u001b[43m,\u001b[49m\u001b[43m \u001b[49m\u001b[43mformula_like\u001b[49m\u001b[43m.\u001b[49m\u001b[43mrhs_termlist\u001b[49m\u001b[43m]\u001b[49m\u001b[43m,\u001b[49m\n\u001b[32m     58\u001b[39m \u001b[43m        \u001b[49m\u001b[43mdata_iter_maker\u001b[49m\u001b[43m,\u001b[49m\n\u001b[32m     59\u001b[39m \u001b[43m        \u001b[49m\u001b[43meval_env\u001b[49m\u001b[43m,\u001b[49m\n\u001b[32m     60\u001b[39m \u001b[43m        \u001b[49m\u001b[43mNA_action\u001b[49m\u001b[43m,\u001b[49m\n\u001b[32m     61\u001b[39m \u001b[43m    \u001b[49m\u001b[43m)\u001b[49m\n\u001b[32m     62\u001b[39m \u001b[38;5;28;01melse\u001b[39;00m:\n\u001b[32m     63\u001b[39m     \u001b[38;5;28;01mreturn\u001b[39;00m \u001b[38;5;28;01mNone\u001b[39;00m\n",
      "\u001b[36mFile \u001b[39m\u001b[32m/usr/local/python/3.12.1/lib/python3.12/site-packages/patsy/build.py:746\u001b[39m, in \u001b[36mdesign_matrix_builders\u001b[39m\u001b[34m(termlists, data_iter_maker, eval_env, NA_action)\u001b[39m\n\u001b[32m    743\u001b[39m factor_states = _factors_memorize(all_factors, data_iter_maker, eval_env)\n\u001b[32m    744\u001b[39m \u001b[38;5;66;03m# Now all the factors have working eval methods, so we can evaluate them\u001b[39;00m\n\u001b[32m    745\u001b[39m \u001b[38;5;66;03m# on some data to find out what type of data they return.\u001b[39;00m\n\u001b[32m--> \u001b[39m\u001b[32m746\u001b[39m (num_column_counts, cat_levels_contrasts) = \u001b[43m_examine_factor_types\u001b[49m\u001b[43m(\u001b[49m\n\u001b[32m    747\u001b[39m \u001b[43m    \u001b[49m\u001b[43mall_factors\u001b[49m\u001b[43m,\u001b[49m\u001b[43m \u001b[49m\u001b[43mfactor_states\u001b[49m\u001b[43m,\u001b[49m\u001b[43m \u001b[49m\u001b[43mdata_iter_maker\u001b[49m\u001b[43m,\u001b[49m\u001b[43m \u001b[49m\u001b[43mNA_action\u001b[49m\n\u001b[32m    748\u001b[39m \u001b[43m\u001b[49m\u001b[43m)\u001b[49m\n\u001b[32m    749\u001b[39m \u001b[38;5;66;03m# Now we need the factor infos, which encapsulate the knowledge of\u001b[39;00m\n\u001b[32m    750\u001b[39m \u001b[38;5;66;03m# how to turn any given factor into a chunk of data:\u001b[39;00m\n\u001b[32m    751\u001b[39m factor_infos = {}\n",
      "\u001b[36mFile \u001b[39m\u001b[32m/usr/local/python/3.12.1/lib/python3.12/site-packages/patsy/build.py:491\u001b[39m, in \u001b[36m_examine_factor_types\u001b[39m\u001b[34m(factors, factor_states, data_iter_maker, NA_action)\u001b[39m\n\u001b[32m    489\u001b[39m \u001b[38;5;28;01mfor\u001b[39;00m data \u001b[38;5;129;01min\u001b[39;00m data_iter_maker():\n\u001b[32m    490\u001b[39m     \u001b[38;5;28;01mfor\u001b[39;00m factor \u001b[38;5;129;01min\u001b[39;00m \u001b[38;5;28mlist\u001b[39m(examine_needed):\n\u001b[32m--> \u001b[39m\u001b[32m491\u001b[39m         value = \u001b[43mfactor\u001b[49m\u001b[43m.\u001b[49m\u001b[43meval\u001b[49m\u001b[43m(\u001b[49m\u001b[43mfactor_states\u001b[49m\u001b[43m[\u001b[49m\u001b[43mfactor\u001b[49m\u001b[43m]\u001b[49m\u001b[43m,\u001b[49m\u001b[43m \u001b[49m\u001b[43mdata\u001b[49m\u001b[43m)\u001b[49m\n\u001b[32m    492\u001b[39m         \u001b[38;5;28;01mif\u001b[39;00m factor \u001b[38;5;129;01min\u001b[39;00m cat_sniffers \u001b[38;5;129;01mor\u001b[39;00m guess_categorical(value):\n\u001b[32m    493\u001b[39m             \u001b[38;5;28;01mif\u001b[39;00m factor \u001b[38;5;129;01mnot\u001b[39;00m \u001b[38;5;129;01min\u001b[39;00m cat_sniffers:\n",
      "\u001b[36mFile \u001b[39m\u001b[32m/usr/local/python/3.12.1/lib/python3.12/site-packages/patsy/eval.py:599\u001b[39m, in \u001b[36mEvalFactor.eval\u001b[39m\u001b[34m(self, memorize_state, data)\u001b[39m\n\u001b[32m    598\u001b[39m \u001b[38;5;28;01mdef\u001b[39;00m\u001b[38;5;250m \u001b[39m\u001b[34meval\u001b[39m(\u001b[38;5;28mself\u001b[39m, memorize_state, data):\n\u001b[32m--> \u001b[39m\u001b[32m599\u001b[39m     \u001b[38;5;28;01mreturn\u001b[39;00m \u001b[38;5;28;43mself\u001b[39;49m\u001b[43m.\u001b[49m\u001b[43m_eval\u001b[49m\u001b[43m(\u001b[49m\u001b[43mmemorize_state\u001b[49m\u001b[43m[\u001b[49m\u001b[33;43m\"\u001b[39;49m\u001b[33;43meval_code\u001b[39;49m\u001b[33;43m\"\u001b[39;49m\u001b[43m]\u001b[49m\u001b[43m,\u001b[49m\u001b[43m \u001b[49m\u001b[43mmemorize_state\u001b[49m\u001b[43m,\u001b[49m\u001b[43m \u001b[49m\u001b[43mdata\u001b[49m\u001b[43m)\u001b[49m\n",
      "\u001b[36mFile \u001b[39m\u001b[32m/usr/local/python/3.12.1/lib/python3.12/site-packages/patsy/eval.py:582\u001b[39m, in \u001b[36mEvalFactor._eval\u001b[39m\u001b[34m(self, code, memorize_state, data)\u001b[39m\n\u001b[32m    580\u001b[39m \u001b[38;5;28;01mdef\u001b[39;00m\u001b[38;5;250m \u001b[39m\u001b[34m_eval\u001b[39m(\u001b[38;5;28mself\u001b[39m, code, memorize_state, data):\n\u001b[32m    581\u001b[39m     inner_namespace = VarLookupDict([data, memorize_state[\u001b[33m\"\u001b[39m\u001b[33mtransforms\u001b[39m\u001b[33m\"\u001b[39m]])\n\u001b[32m--> \u001b[39m\u001b[32m582\u001b[39m     \u001b[38;5;28;01mreturn\u001b[39;00m \u001b[43mcall_and_wrap_exc\u001b[49m\u001b[43m(\u001b[49m\n\u001b[32m    583\u001b[39m \u001b[43m        \u001b[49m\u001b[33;43m\"\u001b[39;49m\u001b[33;43mError evaluating factor\u001b[39;49m\u001b[33;43m\"\u001b[39;49m\u001b[43m,\u001b[49m\n\u001b[32m    584\u001b[39m \u001b[43m        \u001b[49m\u001b[38;5;28;43mself\u001b[39;49m\u001b[43m,\u001b[49m\n\u001b[32m    585\u001b[39m \u001b[43m        \u001b[49m\u001b[43mmemorize_state\u001b[49m\u001b[43m[\u001b[49m\u001b[33;43m\"\u001b[39;49m\u001b[33;43meval_env\u001b[39;49m\u001b[33;43m\"\u001b[39;49m\u001b[43m]\u001b[49m\u001b[43m.\u001b[49m\u001b[43meval\u001b[49m\u001b[43m,\u001b[49m\n\u001b[32m    586\u001b[39m \u001b[43m        \u001b[49m\u001b[43mcode\u001b[49m\u001b[43m,\u001b[49m\n\u001b[32m    587\u001b[39m \u001b[43m        \u001b[49m\u001b[43minner_namespace\u001b[49m\u001b[43m=\u001b[49m\u001b[43minner_namespace\u001b[49m\u001b[43m,\u001b[49m\n\u001b[32m    588\u001b[39m \u001b[43m    \u001b[49m\u001b[43m)\u001b[49m\n",
      "\u001b[36mFile \u001b[39m\u001b[32m/usr/local/python/3.12.1/lib/python3.12/site-packages/patsy/compat.py:43\u001b[39m, in \u001b[36mcall_and_wrap_exc\u001b[39m\u001b[34m(msg, origin, f, *args, **kwargs)\u001b[39m\n\u001b[32m     41\u001b[39m \u001b[38;5;28;01mexcept\u001b[39;00m \u001b[38;5;167;01mException\u001b[39;00m \u001b[38;5;28;01mas\u001b[39;00m e:\n\u001b[32m     42\u001b[39m     new_exc = PatsyError(\u001b[33m\"\u001b[39m\u001b[38;5;132;01m%s\u001b[39;00m\u001b[33m: \u001b[39m\u001b[38;5;132;01m%s\u001b[39;00m\u001b[33m: \u001b[39m\u001b[38;5;132;01m%s\u001b[39;00m\u001b[33m\"\u001b[39m % (msg, e.\u001b[34m__class__\u001b[39m.\u001b[34m__name__\u001b[39m, e), origin)\n\u001b[32m---> \u001b[39m\u001b[32m43\u001b[39m     \u001b[38;5;28;01mraise\u001b[39;00m new_exc \u001b[38;5;28;01mfrom\u001b[39;00m\u001b[38;5;250m \u001b[39m\u001b[34;01me\u001b[39;00m\n",
      "\u001b[31mPatsyError\u001b[39m: Error evaluating factor: NameError: name 'lnprice' is not defined\n    lnprice ~ rating\n    ^^^^^^^"
     ]
    }
   ],
   "source": [
    "reg0 = smf.ols(\"lnprice ~ rating\", data=hotels).fit()\n",
    "reg1 = smf.ols(\"lnprice ~ distance\", data=hotels).fit()\n",
    "reg2 = smf.ols(\"lnprice ~ distance + rating\", data=hotels).fit()"
   ]
  },
  {
   "cell_type": "code",
   "execution_count": 9,
   "metadata": {},
   "outputs": [
    {
     "data": {
      "text/html": [
       "<table style=\"text-align:center\"><tr><td colspan=\"4\" style=\"border-bottom: 1px solid black\"></td></tr>\n",
       "<tr><td style=\"text-align:left\"></td><td colspan=\"3\"><em>Dependent variable: lnprice</em></td></tr><tr><td style=\"text-align:left\"></td><tr><td style=\"text-align:left\"></td><td>(1)</td><td>(2)</td><td>(3)</td></tr>\n",
       "<tr><td colspan=\"4\" style=\"border-bottom: 1px solid black\"></td></tr>\n",
       "\n",
       "<tr><td style=\"text-align:left\">Intercept</td><td>2.846<sup>***</sup></td><td>4.841<sup>***</sup></td><td>3.316<sup>***</sup></td></tr>\n",
       "<tr><td style=\"text-align:left\"></td><td>(0.217)</td><td>(0.035)</td><td>(0.215)</td></tr>\n",
       "<tr><td style=\"text-align:left\">distance</td><td></td><td>-0.131<sup>***</sup></td><td>-0.101<sup>***</sup></td></tr>\n",
       "<tr><td style=\"text-align:left\"></td><td></td><td>(0.018)</td><td>(0.017)</td></tr>\n",
       "<tr><td style=\"text-align:left\">rating</td><td>0.442<sup>***</sup></td><td></td><td>0.365<sup>***</sup></td></tr>\n",
       "<tr><td style=\"text-align:left\"></td><td>(0.053)</td><td></td><td>(0.051)</td></tr>\n",
       "\n",
       "<td colspan=\"4\" style=\"border-bottom: 1px solid black\"></td></tr>\n",
       "<tr><td style=\"text-align: left\">Observations</td><td>207</td><td>207</td><td>207</td></tr><tr><td style=\"text-align: left\">R<sup>2</sup></td><td>0.252</td><td>0.205</td><td>0.365</td></tr><tr><td style=\"text-align: left\">Adjusted R<sup>2</sup></td><td>0.248</td><td>0.201</td><td>0.359</td></tr><tr><td style=\"text-align: left\">Residual Std. Error</td><td>0.292 (df=205)</td><td>0.301 (df=205)</td><td>0.270 (df=204)</td></tr><tr><td style=\"text-align: left\">F Statistic</td><td>69.107<sup>***</sup> (df=1; 205)</td><td>52.895<sup>***</sup> (df=1; 205)</td><td>58.692<sup>***</sup> (df=2; 204)</td></tr>\n",
       "<tr><td colspan=\"4\" style=\"border-bottom: 1px solid black\"></td></tr><tr><td style=\"text-align: left\">Note:</td><td colspan=\"3\" style=\"text-align: right\"><sup>*</sup>p&lt;0.1; <sup>**</sup>p&lt;0.05; <sup>***</sup>p&lt;0.01</td></tr></table>"
      ],
      "text/plain": [
       "<stargazer.stargazer.Stargazer at 0x738840623f50>"
      ]
     },
     "execution_count": 9,
     "metadata": {},
     "output_type": "execute_result"
    }
   ],
   "source": [
    "Stargazer([reg0,reg1,reg2])"
   ]
  },
  {
   "cell_type": "code",
   "execution_count": 10,
   "metadata": {},
   "outputs": [],
   "source": [
    "import pandas as pd\n",
    "import statsmodels.formula.api as smf\n",
    "\n",
    "# Define knots\n",
    "knot1 = 1\n",
    "knot2 = 4\n",
    "\n",
    "# Create piecewise linear spline variables\n",
    "hotels[\"dspline_0\"] = hotels[\"distance\"]\n",
    "hotels[\"dspline_1\"] = (hotels[\"distance\"] - knot1).clip(lower=0)\n",
    "hotels[\"dspline_2\"] = (hotels[\"distance\"] - knot2).clip(lower=0)\n",
    "\n",
    "# Run regression with robust (HC1) standard errors\n",
    "#model = smf.ols(\"lnprice ~ lspline_0 + lspline_1 + lspline_2\", data=hotels).fit(cov_type=\"HC1\")\n",
    "\n",
    "# Display the results\n",
    "#print(model.summary())\n"
   ]
  },
  {
   "cell_type": "code",
   "execution_count": 11,
   "metadata": {},
   "outputs": [
    {
     "data": {
      "text/html": [
       "<div>\n",
       "<style scoped>\n",
       "    .dataframe tbody tr th:only-of-type {\n",
       "        vertical-align: middle;\n",
       "    }\n",
       "\n",
       "    .dataframe tbody tr th {\n",
       "        vertical-align: top;\n",
       "    }\n",
       "\n",
       "    .dataframe thead th {\n",
       "        text-align: right;\n",
       "    }\n",
       "</style>\n",
       "<table border=\"1\" class=\"dataframe\">\n",
       "  <thead>\n",
       "    <tr style=\"text-align: right;\">\n",
       "      <th></th>\n",
       "      <th>country</th>\n",
       "      <th>city_actual</th>\n",
       "      <th>rating_count</th>\n",
       "      <th>center1label</th>\n",
       "      <th>center2label</th>\n",
       "      <th>neighbourhood</th>\n",
       "      <th>price</th>\n",
       "      <th>city</th>\n",
       "      <th>stars</th>\n",
       "      <th>ratingta</th>\n",
       "      <th>...</th>\n",
       "      <th>lnprice</th>\n",
       "      <th>distance2</th>\n",
       "      <th>lndistance</th>\n",
       "      <th>star35</th>\n",
       "      <th>star4</th>\n",
       "      <th>dspline_0</th>\n",
       "      <th>dspline_1</th>\n",
       "      <th>dspline_2</th>\n",
       "      <th>rspline_0</th>\n",
       "      <th>rspline_1</th>\n",
       "    </tr>\n",
       "  </thead>\n",
       "  <tbody>\n",
       "    <tr>\n",
       "      <th>1</th>\n",
       "      <td>Austria</td>\n",
       "      <td>Vienna</td>\n",
       "      <td>189.0</td>\n",
       "      <td>City centre</td>\n",
       "      <td>Donauturm</td>\n",
       "      <td>17. Hernals</td>\n",
       "      <td>81</td>\n",
       "      <td>Vienna</td>\n",
       "      <td>4.0</td>\n",
       "      <td>3.5</td>\n",
       "      <td>...</td>\n",
       "      <td>4.394449</td>\n",
       "      <td>1.7</td>\n",
       "      <td>0.530628</td>\n",
       "      <td>False</td>\n",
       "      <td>True</td>\n",
       "      <td>1.7</td>\n",
       "      <td>0.7</td>\n",
       "      <td>0.0</td>\n",
       "      <td>3.9</td>\n",
       "      <td>0.4</td>\n",
       "    </tr>\n",
       "    <tr>\n",
       "      <th>2</th>\n",
       "      <td>Austria</td>\n",
       "      <td>Vienna</td>\n",
       "      <td>53.0</td>\n",
       "      <td>City centre</td>\n",
       "      <td>Donauturm</td>\n",
       "      <td>Alsergrund</td>\n",
       "      <td>85</td>\n",
       "      <td>Vienna</td>\n",
       "      <td>4.0</td>\n",
       "      <td>3.5</td>\n",
       "      <td>...</td>\n",
       "      <td>4.442651</td>\n",
       "      <td>1.4</td>\n",
       "      <td>0.336472</td>\n",
       "      <td>False</td>\n",
       "      <td>True</td>\n",
       "      <td>1.4</td>\n",
       "      <td>0.4</td>\n",
       "      <td>0.0</td>\n",
       "      <td>3.7</td>\n",
       "      <td>0.2</td>\n",
       "    </tr>\n",
       "    <tr>\n",
       "      <th>3</th>\n",
       "      <td>Austria</td>\n",
       "      <td>Vienna</td>\n",
       "      <td>55.0</td>\n",
       "      <td>City centre</td>\n",
       "      <td>Donauturm</td>\n",
       "      <td>Alsergrund</td>\n",
       "      <td>83</td>\n",
       "      <td>Vienna</td>\n",
       "      <td>3.0</td>\n",
       "      <td>4.0</td>\n",
       "      <td>...</td>\n",
       "      <td>4.418841</td>\n",
       "      <td>1.7</td>\n",
       "      <td>0.530628</td>\n",
       "      <td>False</td>\n",
       "      <td>False</td>\n",
       "      <td>1.7</td>\n",
       "      <td>0.7</td>\n",
       "      <td>0.0</td>\n",
       "      <td>4.0</td>\n",
       "      <td>0.5</td>\n",
       "    </tr>\n",
       "    <tr>\n",
       "      <th>4</th>\n",
       "      <td>Austria</td>\n",
       "      <td>Vienna</td>\n",
       "      <td>33.0</td>\n",
       "      <td>City centre</td>\n",
       "      <td>Donauturm</td>\n",
       "      <td>Alsergrund</td>\n",
       "      <td>82</td>\n",
       "      <td>Vienna</td>\n",
       "      <td>4.0</td>\n",
       "      <td>3.5</td>\n",
       "      <td>...</td>\n",
       "      <td>4.406719</td>\n",
       "      <td>1.2</td>\n",
       "      <td>0.182322</td>\n",
       "      <td>False</td>\n",
       "      <td>True</td>\n",
       "      <td>1.2</td>\n",
       "      <td>0.2</td>\n",
       "      <td>0.0</td>\n",
       "      <td>3.9</td>\n",
       "      <td>0.4</td>\n",
       "    </tr>\n",
       "    <tr>\n",
       "      <th>6</th>\n",
       "      <td>Austria</td>\n",
       "      <td>Vienna</td>\n",
       "      <td>57.0</td>\n",
       "      <td>City centre</td>\n",
       "      <td>Donauturm</td>\n",
       "      <td>Alsergrund</td>\n",
       "      <td>103</td>\n",
       "      <td>Vienna</td>\n",
       "      <td>4.0</td>\n",
       "      <td>3.5</td>\n",
       "      <td>...</td>\n",
       "      <td>4.634729</td>\n",
       "      <td>0.9</td>\n",
       "      <td>-0.105361</td>\n",
       "      <td>False</td>\n",
       "      <td>True</td>\n",
       "      <td>0.9</td>\n",
       "      <td>0.0</td>\n",
       "      <td>0.0</td>\n",
       "      <td>3.9</td>\n",
       "      <td>0.4</td>\n",
       "    </tr>\n",
       "    <tr>\n",
       "      <th>...</th>\n",
       "      <td>...</td>\n",
       "      <td>...</td>\n",
       "      <td>...</td>\n",
       "      <td>...</td>\n",
       "      <td>...</td>\n",
       "      <td>...</td>\n",
       "      <td>...</td>\n",
       "      <td>...</td>\n",
       "      <td>...</td>\n",
       "      <td>...</td>\n",
       "      <td>...</td>\n",
       "      <td>...</td>\n",
       "      <td>...</td>\n",
       "      <td>...</td>\n",
       "      <td>...</td>\n",
       "      <td>...</td>\n",
       "      <td>...</td>\n",
       "      <td>...</td>\n",
       "      <td>...</td>\n",
       "      <td>...</td>\n",
       "      <td>...</td>\n",
       "    </tr>\n",
       "    <tr>\n",
       "      <th>420</th>\n",
       "      <td>Austria</td>\n",
       "      <td>Vienna</td>\n",
       "      <td>77.0</td>\n",
       "      <td>City centre</td>\n",
       "      <td>Donauturm</td>\n",
       "      <td>Wieden</td>\n",
       "      <td>100</td>\n",
       "      <td>Vienna</td>\n",
       "      <td>3.0</td>\n",
       "      <td>4.0</td>\n",
       "      <td>...</td>\n",
       "      <td>4.605170</td>\n",
       "      <td>1.2</td>\n",
       "      <td>0.182322</td>\n",
       "      <td>False</td>\n",
       "      <td>False</td>\n",
       "      <td>1.2</td>\n",
       "      <td>0.2</td>\n",
       "      <td>0.0</td>\n",
       "      <td>4.0</td>\n",
       "      <td>0.5</td>\n",
       "    </tr>\n",
       "    <tr>\n",
       "      <th>421</th>\n",
       "      <td>Austria</td>\n",
       "      <td>Vienna</td>\n",
       "      <td>572.0</td>\n",
       "      <td>City centre</td>\n",
       "      <td>Donauturm</td>\n",
       "      <td>Wieden</td>\n",
       "      <td>95</td>\n",
       "      <td>Vienna</td>\n",
       "      <td>4.0</td>\n",
       "      <td>4.0</td>\n",
       "      <td>...</td>\n",
       "      <td>4.553877</td>\n",
       "      <td>1.5</td>\n",
       "      <td>0.405465</td>\n",
       "      <td>False</td>\n",
       "      <td>True</td>\n",
       "      <td>1.5</td>\n",
       "      <td>0.5</td>\n",
       "      <td>0.0</td>\n",
       "      <td>4.1</td>\n",
       "      <td>0.6</td>\n",
       "    </tr>\n",
       "    <tr>\n",
       "      <th>422</th>\n",
       "      <td>Austria</td>\n",
       "      <td>Vienna</td>\n",
       "      <td>53.0</td>\n",
       "      <td>City centre</td>\n",
       "      <td>Donauturm</td>\n",
       "      <td>Wieden</td>\n",
       "      <td>73</td>\n",
       "      <td>Vienna</td>\n",
       "      <td>3.0</td>\n",
       "      <td>3.0</td>\n",
       "      <td>...</td>\n",
       "      <td>4.290459</td>\n",
       "      <td>1.5</td>\n",
       "      <td>0.405465</td>\n",
       "      <td>False</td>\n",
       "      <td>False</td>\n",
       "      <td>1.5</td>\n",
       "      <td>0.5</td>\n",
       "      <td>0.0</td>\n",
       "      <td>3.4</td>\n",
       "      <td>0.0</td>\n",
       "    </tr>\n",
       "    <tr>\n",
       "      <th>425</th>\n",
       "      <td>Austria</td>\n",
       "      <td>Vienna</td>\n",
       "      <td>112.0</td>\n",
       "      <td>City centre</td>\n",
       "      <td>Donauturm</td>\n",
       "      <td>Wieden</td>\n",
       "      <td>100</td>\n",
       "      <td>Vienna</td>\n",
       "      <td>4.0</td>\n",
       "      <td>4.5</td>\n",
       "      <td>...</td>\n",
       "      <td>4.605170</td>\n",
       "      <td>1.0</td>\n",
       "      <td>0.000000</td>\n",
       "      <td>False</td>\n",
       "      <td>True</td>\n",
       "      <td>1.0</td>\n",
       "      <td>0.0</td>\n",
       "      <td>0.0</td>\n",
       "      <td>4.4</td>\n",
       "      <td>0.9</td>\n",
       "    </tr>\n",
       "    <tr>\n",
       "      <th>426</th>\n",
       "      <td>Austria</td>\n",
       "      <td>Vienna</td>\n",
       "      <td>169.0</td>\n",
       "      <td>City centre</td>\n",
       "      <td>Donauturm</td>\n",
       "      <td>Wieden</td>\n",
       "      <td>58</td>\n",
       "      <td>Vienna</td>\n",
       "      <td>3.0</td>\n",
       "      <td>3.0</td>\n",
       "      <td>...</td>\n",
       "      <td>4.060443</td>\n",
       "      <td>1.4</td>\n",
       "      <td>0.336472</td>\n",
       "      <td>False</td>\n",
       "      <td>False</td>\n",
       "      <td>1.4</td>\n",
       "      <td>0.4</td>\n",
       "      <td>0.0</td>\n",
       "      <td>3.2</td>\n",
       "      <td>0.0</td>\n",
       "    </tr>\n",
       "  </tbody>\n",
       "</table>\n",
       "<p>207 rows × 34 columns</p>\n",
       "</div>"
      ],
      "text/plain": [
       "     country city_actual  rating_count center1label center2label  \\\n",
       "1    Austria      Vienna         189.0  City centre    Donauturm   \n",
       "2    Austria      Vienna          53.0  City centre    Donauturm   \n",
       "3    Austria      Vienna          55.0  City centre    Donauturm   \n",
       "4    Austria      Vienna          33.0  City centre    Donauturm   \n",
       "6    Austria      Vienna          57.0  City centre    Donauturm   \n",
       "..       ...         ...           ...          ...          ...   \n",
       "420  Austria      Vienna          77.0  City centre    Donauturm   \n",
       "421  Austria      Vienna         572.0  City centre    Donauturm   \n",
       "422  Austria      Vienna          53.0  City centre    Donauturm   \n",
       "425  Austria      Vienna         112.0  City centre    Donauturm   \n",
       "426  Austria      Vienna         169.0  City centre    Donauturm   \n",
       "\n",
       "    neighbourhood  price    city  stars  ratingta  ...   lnprice  distance2  \\\n",
       "1     17. Hernals     81  Vienna    4.0       3.5  ...  4.394449        1.7   \n",
       "2      Alsergrund     85  Vienna    4.0       3.5  ...  4.442651        1.4   \n",
       "3      Alsergrund     83  Vienna    3.0       4.0  ...  4.418841        1.7   \n",
       "4      Alsergrund     82  Vienna    4.0       3.5  ...  4.406719        1.2   \n",
       "6      Alsergrund    103  Vienna    4.0       3.5  ...  4.634729        0.9   \n",
       "..            ...    ...     ...    ...       ...  ...       ...        ...   \n",
       "420        Wieden    100  Vienna    3.0       4.0  ...  4.605170        1.2   \n",
       "421        Wieden     95  Vienna    4.0       4.0  ...  4.553877        1.5   \n",
       "422        Wieden     73  Vienna    3.0       3.0  ...  4.290459        1.5   \n",
       "425        Wieden    100  Vienna    4.0       4.5  ...  4.605170        1.0   \n",
       "426        Wieden     58  Vienna    3.0       3.0  ...  4.060443        1.4   \n",
       "\n",
       "     lndistance  star35  star4  dspline_0  dspline_1  dspline_2  rspline_0  \\\n",
       "1      0.530628   False   True        1.7        0.7        0.0        3.9   \n",
       "2      0.336472   False   True        1.4        0.4        0.0        3.7   \n",
       "3      0.530628   False  False        1.7        0.7        0.0        4.0   \n",
       "4      0.182322   False   True        1.2        0.2        0.0        3.9   \n",
       "6     -0.105361   False   True        0.9        0.0        0.0        3.9   \n",
       "..          ...     ...    ...        ...        ...        ...        ...   \n",
       "420    0.182322   False  False        1.2        0.2        0.0        4.0   \n",
       "421    0.405465   False   True        1.5        0.5        0.0        4.1   \n",
       "422    0.405465   False  False        1.5        0.5        0.0        3.4   \n",
       "425    0.000000   False   True        1.0        0.0        0.0        4.4   \n",
       "426    0.336472   False  False        1.4        0.4        0.0        3.2   \n",
       "\n",
       "     rspline_1  \n",
       "1          0.4  \n",
       "2          0.2  \n",
       "3          0.5  \n",
       "4          0.4  \n",
       "6          0.4  \n",
       "..         ...  \n",
       "420        0.5  \n",
       "421        0.6  \n",
       "422        0.0  \n",
       "425        0.9  \n",
       "426        0.0  \n",
       "\n",
       "[207 rows x 34 columns]"
      ]
     },
     "execution_count": 11,
     "metadata": {},
     "output_type": "execute_result"
    }
   ],
   "source": [
    "# Define knot\n",
    "knot = 3.5\n",
    "\n",
    "# Create piecewise linear spline variables for rating\n",
    "hotels[\"rspline_0\"] = hotels[\"rating\"]\n",
    "hotels[\"rspline_1\"] = (hotels[\"rating\"] - knot).clip(lower=0)\n",
    "hotels\n",
    "\n",
    "# Run regression with robust standard errors\n",
    "#model_rating = smf.ols(\"lnprice ~ rspline_0 + rspline_1\", data=hotels).fit(cov_type=\"HC1\")\n",
    "\n",
    "# Display the results\n",
    "#print(model_rating.summary())"
   ]
  },
  {
   "cell_type": "code",
   "execution_count": 12,
   "metadata": {},
   "outputs": [
    {
     "name": "stdout",
     "output_type": "stream",
     "text": [
      "                            OLS Regression Results                            \n",
      "==============================================================================\n",
      "Dep. Variable:                lnprice   R-squared:                       0.550\n",
      "Model:                            OLS   Adj. R-squared:                  0.534\n",
      "Method:                 Least Squares   F-statistic:                     34.76\n",
      "Date:                Wed, 09 Jul 2025   Prob (F-statistic):           2.19e-31\n",
      "Time:                        21:30:43   Log-Likelihood:                 14.744\n",
      "No. Observations:                 207   AIC:                            -13.49\n",
      "Df Residuals:                     199   BIC:                             13.17\n",
      "Df Model:                           7                                         \n",
      "Covariance Type:            nonrobust                                         \n",
      "==================================================================================\n",
      "                     coef    std err          t      P>|t|      [0.025      0.975]\n",
      "----------------------------------------------------------------------------------\n",
      "Intercept          5.1551      0.454     11.355      0.000       4.260       6.050\n",
      "star35[T.True]     0.0174      0.071      0.244      0.808      -0.123       0.158\n",
      "star4[T.True]      0.1496      0.037      4.067      0.000       0.077       0.222\n",
      "dspline_0         -0.4601      0.067     -6.887      0.000      -0.592      -0.328\n",
      "dspline_1          0.4098      0.078      5.247      0.000       0.256       0.564\n",
      "dspline_2          0.1938      0.091      2.132      0.034       0.015       0.373\n",
      "rspline_0         -0.1133      0.132     -0.855      0.393      -0.375       0.148\n",
      "rspline_1          0.4732      0.157      3.022      0.003       0.164       0.782\n",
      "==============================================================================\n",
      "Omnibus:                      108.185   Durbin-Watson:                   1.774\n",
      "Prob(Omnibus):                  0.000   Jarque-Bera (JB):              886.011\n",
      "Skew:                           1.825   Prob(JB):                    4.03e-193\n",
      "Kurtosis:                      12.455   Cond. No.                         142.\n",
      "==============================================================================\n",
      "\n",
      "Notes:\n",
      "[1] Standard Errors assume that the covariance matrix of the errors is correctly specified.\n"
     ]
    }
   ],
   "source": [
    "from patsy import dmatrices\n",
    "import statsmodels.api as sm\n",
    "\n",
    "# Create the design matrices using the manually created spline variables\n",
    "y, X = dmatrices(\n",
    "    \"lnprice ~ dspline_0 + dspline_1 + dspline_2 + rspline_0 + rspline_1 + star35 + star4\",\n",
    "    data=hotels\n",
    ")\n",
    "\n",
    "# Run the OLS regression\n",
    "reg3 = sm.OLS(y, X).fit()\n",
    "\n",
    "# Show the summary\n",
    "print(reg3.summary())\n"
   ]
  },
  {
   "cell_type": "code",
   "execution_count": 13,
   "metadata": {},
   "outputs": [],
   "source": [
    "hotels[\"lnprice_hat\"] = reg3.predict(X)\n",
    "\n",
    "hotels[\"lnprice_resid\"] = hotels[\"lnprice\"] - hotels[\"lnprice_hat\"]\n",
    "\n",
    "hotels[\"bestdeals\"] = hotels.index.isin(\n",
    "    hotels[\"lnprice_resid\"].sort_values(ascending=False).tail().index.values\n",
    ")"
   ]
  },
  {
   "cell_type": "code",
   "execution_count": 14,
   "metadata": {},
   "outputs": [
    {
     "name": "stdout",
     "output_type": "stream",
     "text": [
      "                            OLS Regression Results                            \n",
      "==============================================================================\n",
      "Dep. Variable:                lnprice   R-squared:                       0.371\n",
      "Model:                            OLS   Adj. R-squared:                  0.362\n",
      "Method:                 Least Squares   F-statistic:                     39.97\n",
      "Date:                Wed, 09 Jul 2025   Prob (F-statistic):           2.43e-20\n",
      "Time:                        21:30:43   Log-Likelihood:                -19.879\n",
      "No. Observations:                 207   AIC:                             47.76\n",
      "Df Residuals:                     203   BIC:                             61.09\n",
      "Df Model:                           3                                         \n",
      "Covariance Type:            nonrobust                                         \n",
      "==============================================================================\n",
      "                 coef    std err          t      P>|t|      [0.025      0.975]\n",
      "------------------------------------------------------------------------------\n",
      "Intercept      5.1806      0.060     86.674      0.000       5.063       5.298\n",
      "dspline_0     -0.5993      0.076     -7.925      0.000      -0.748      -0.450\n",
      "dspline_1      0.5241      0.090      5.840      0.000       0.347       0.701\n",
      "dspline_2      0.2483      0.105      2.371      0.019       0.042       0.455\n",
      "==============================================================================\n",
      "Omnibus:                       56.756   Durbin-Watson:                   1.780\n",
      "Prob(Omnibus):                  0.000   Jarque-Bera (JB):              173.809\n",
      "Skew:                           1.122   Prob(JB):                     1.81e-38\n",
      "Kurtosis:                       6.888   Cond. No.                         17.1\n",
      "==============================================================================\n",
      "\n",
      "Notes:\n",
      "[1] Standard Errors assume that the covariance matrix of the errors is correctly specified.\n"
     ]
    }
   ],
   "source": [
    "# Create the design matrices using the manually created spline variables\n",
    "y2, X2 = dmatrices(\n",
    "    \"lnprice ~ dspline_0 + dspline_1 + dspline_2\",\n",
    "    data=hotels\n",
    ")\n",
    "\n",
    "# Run the OLS regression\n",
    "reg4 = sm.OLS(y2, X2).fit()\n",
    "\n",
    "# Show the summary\n",
    "print(reg4.summary())\n"
   ]
  },
  {
   "cell_type": "code",
   "execution_count": 15,
   "metadata": {},
   "outputs": [],
   "source": [
    "#refit reg3 for Stargazer\n",
    "\n",
    "reg3 = smf.ols(\n",
    "     \"lnprice ~ dspline_0 + dspline_1 + dspline_2 + rspline_0 + rspline_1 + star35 + star4\",\n",
    "    data=hotels,\n",
    ").fit()"
   ]
  },
  {
   "cell_type": "code",
   "execution_count": 16,
   "metadata": {},
   "outputs": [
    {
     "data": {
      "text/html": [
       "<table style=\"text-align:center\"><tr><td colspan=\"5\" style=\"border-bottom: 1px solid black\"></td></tr>\n",
       "<tr><td style=\"text-align:left\"></td><td colspan=\"4\"><em>Dependent variable: lnprice</em></td></tr><tr><td style=\"text-align:left\"></td><tr><td style=\"text-align:left\"></td><td>(1)</td><td>(2)</td><td>(3)</td><td>(4)</td></tr>\n",
       "<tr><td colspan=\"5\" style=\"border-bottom: 1px solid black\"></td></tr>\n",
       "\n",
       "<tr><td style=\"text-align:left\">Intercept</td><td>4.841<sup>***</sup></td><td>3.316<sup>***</sup></td><td>5.155<sup>***</sup></td><td>5.181<sup>***</sup></td></tr>\n",
       "<tr><td style=\"text-align:left\"></td><td>(0.035)</td><td>(0.215)</td><td>(0.454)</td><td>(0.060)</td></tr>\n",
       "<tr><td style=\"text-align:left\">distance</td><td>-0.131<sup>***</sup></td><td>-0.101<sup>***</sup></td><td></td><td></td></tr>\n",
       "<tr><td style=\"text-align:left\"></td><td>(0.018)</td><td>(0.017)</td><td></td><td></td></tr>\n",
       "<tr><td style=\"text-align:left\">dspline_0</td><td></td><td></td><td>-0.460<sup>***</sup></td><td>-0.599<sup>***</sup></td></tr>\n",
       "<tr><td style=\"text-align:left\"></td><td></td><td></td><td>(0.067)</td><td>(0.076)</td></tr>\n",
       "<tr><td style=\"text-align:left\">dspline_1</td><td></td><td></td><td>0.410<sup>***</sup></td><td>0.524<sup>***</sup></td></tr>\n",
       "<tr><td style=\"text-align:left\"></td><td></td><td></td><td>(0.078)</td><td>(0.090)</td></tr>\n",
       "<tr><td style=\"text-align:left\">dspline_2</td><td></td><td></td><td>0.194<sup>**</sup></td><td>0.248<sup>**</sup></td></tr>\n",
       "<tr><td style=\"text-align:left\"></td><td></td><td></td><td>(0.091)</td><td>(0.105)</td></tr>\n",
       "<tr><td style=\"text-align:left\">rating</td><td></td><td>0.365<sup>***</sup></td><td></td><td></td></tr>\n",
       "<tr><td style=\"text-align:left\"></td><td></td><td>(0.051)</td><td></td><td></td></tr>\n",
       "<tr><td style=\"text-align:left\">rspline_0</td><td></td><td></td><td>-0.113<sup></sup></td><td></td></tr>\n",
       "<tr><td style=\"text-align:left\"></td><td></td><td></td><td>(0.132)</td><td></td></tr>\n",
       "<tr><td style=\"text-align:left\">rspline_1</td><td></td><td></td><td>0.473<sup>***</sup></td><td></td></tr>\n",
       "<tr><td style=\"text-align:left\"></td><td></td><td></td><td>(0.157)</td><td></td></tr>\n",
       "<tr><td style=\"text-align:left\">star35[T.True]</td><td></td><td></td><td>0.017<sup></sup></td><td></td></tr>\n",
       "<tr><td style=\"text-align:left\"></td><td></td><td></td><td>(0.071)</td><td></td></tr>\n",
       "<tr><td style=\"text-align:left\">star4[T.True]</td><td></td><td></td><td>0.150<sup>***</sup></td><td></td></tr>\n",
       "<tr><td style=\"text-align:left\"></td><td></td><td></td><td>(0.037)</td><td></td></tr>\n",
       "\n",
       "<td colspan=\"5\" style=\"border-bottom: 1px solid black\"></td></tr>\n",
       "<tr><td style=\"text-align: left\">Observations</td><td>207</td><td>207</td><td>207</td><td>207</td></tr><tr><td style=\"text-align: left\">R<sup>2</sup></td><td>0.205</td><td>0.365</td><td>0.550</td><td>0.371</td></tr><tr><td style=\"text-align: left\">Adjusted R<sup>2</sup></td><td>0.201</td><td>0.359</td><td>0.534</td><td>0.362</td></tr><tr><td style=\"text-align: left\">Residual Std. Error</td><td>0.301 (df=205)</td><td>0.270 (df=204)</td><td>0.230 (df=199)</td><td>0.269 (df=203)</td></tr><tr><td style=\"text-align: left\">F Statistic</td><td>52.895<sup>***</sup> (df=1; 205)</td><td>58.692<sup>***</sup> (df=2; 204)</td><td>34.756<sup>***</sup> (df=7; 199)</td><td>39.968<sup>***</sup> (df=3; 203)</td></tr>\n",
       "<tr><td colspan=\"5\" style=\"border-bottom: 1px solid black\"></td></tr><tr><td style=\"text-align: left\">Note:</td><td colspan=\"4\" style=\"text-align: right\"><sup>*</sup>p&lt;0.1; <sup>**</sup>p&lt;0.05; <sup>***</sup>p&lt;0.01</td></tr></table>"
      ],
      "text/plain": [
       "<stargazer.stargazer.Stargazer at 0x738841483b60>"
      ]
     },
     "execution_count": 16,
     "metadata": {},
     "output_type": "execute_result"
    }
   ],
   "source": [
    "# Refit reg4 using smf.ols to ensure compatibility with Stargazer\n",
    "reg4 = smf.ols(\n",
    "\t\"lnprice ~ dspline_0 + dspline_1 + dspline_2\",\n",
    "\tdata=hotels,\n",
    ").fit()\n",
    "\n",
    "Stargazer([reg1, reg2, reg3, reg4])"
   ]
  },
  {
   "cell_type": "markdown",
   "metadata": {},
   "source": [
    "### Figure 10.3 ˆy−y plot for log hotel price"
   ]
  },
  {
   "cell_type": "code",
   "execution_count": 17,
   "metadata": {},
   "outputs": [
    {
     "data": {
      "image/png": "[encoded data removed]",
      "text/plain": [
       "<Figure size 800x600 with 1 Axes>"
      ]
     },
     "metadata": {},
     "output_type": "display_data"
    }
   ],
   "source": [
    "import matplotlib.pyplot as plt\n",
    "\n",
    "plt.figure(figsize=(8, 6))\n",
    "scatter = plt.scatter(\n",
    "    hotels[\"lnprice_hat\"], hotels[\"lnprice\"],\n",
    "    c=hotels[\"bestdeals\"].map({False: \"green\", True: \"red\"}),\n",
    "    s=30, alpha=0.8, label=None\n",
    ")\n",
    "\n",
    "# Highlight best deals with a different marker and color\n",
    "bestdeals = hotels[hotels[\"bestdeals\"]]\n",
    "plt.scatter(\n",
    "    bestdeals[\"lnprice_hat\"], bestdeals[\"lnprice\"],\n",
    "    c=\"red\", s=40, marker=\"o\", label=\"Best deal\"\n",
    ")\n",
    "\n",
    "# 45-degree reference line\n",
    "lims = [\n",
    "    min(hotels[\"lnprice_hat\"].min(), hotels[\"lnprice\"].min()),\n",
    "    max(hotels[\"lnprice_hat\"].max(), hotels[\"lnprice\"].max())\n",
    "]\n",
    "plt.plot(lims, lims, 'k--', color=\"navy\", linewidth=1, label=\"45-degree line\")\n",
    "\n",
    "# Annotate \"Best deal\"\n",
    "if not bestdeals.empty:\n",
    "    bd = bestdeals.iloc[0]\n",
    "    plt.annotate(\n",
    "        \"Best deal\",\n",
    "        xy=(bd[\"lnprice_hat\"], bd[\"lnprice\"]),\n",
    "        xytext=(bd[\"lnprice_hat\"]+0.2, bd[\"lnprice\"]-0.2),\n",
    "        arrowprops=dict(facecolor='black', shrink=0.05, width=1, headwidth=6),\n",
    "        fontsize=12,\n",
    "        color=\"navy\"\n",
    "    )\n",
    "\n",
    "plt.xlabel(\"Predicted ln(price, US dollars)\")\n",
    "plt.ylabel(\"ln(price, US dollars)\")\n",
    "plt.title(\"Figure 10.3: ŷ−y plot for log hotel price\")\n",
    "plt.grid(True)\n",
    "plt.tight_layout()\n",
    "plt.show()"
   ]
  },
  {
   "cell_type": "markdown",
   "metadata": {},
   "source": [
    "### Residual plot - not in the book"
   ]
  },
  {
   "cell_type": "code",
   "execution_count": 18,
   "metadata": {},
   "outputs": [
    {
     "data": {
      "image/png": "[encoded data removed]"
     },
     "metadata": {
      "image/png": {
       "height": 480,
       "width": 640
      }
     },
     "output_type": "display_data"
    }
   ],
   "source": [
    "y_hat_resid_hotels = (\n",
    "    ggplot(data=hotels)\n",
    "    + geom_point(\n",
    "        aes(x=\"lnprice_hat\", y=\"lnprice_resid\"),\n",
    "        color=\"navy\",\n",
    "        size=1,\n",
    "        fill=\"navy\",\n",
    "        alpha=0.6,\n",
    "    )\n",
    "    + geom_smooth(\n",
    "        aes(x=\"lnprice_hat\", y=\"lnprice_resid\"),\n",
    "        method=\"lm\",\n",
    "        color=\"green\",\n",
    "        size=1,\n",
    "        se=False,\n",
    "    )\n",
    "    + labs(x=\"Predicted ln(hotel price, US dollars)\", y=\"Residuals\")\n",
    "    + scale_colour_manual(name=\"\", values=[\"green\", \"black\"])\n",
    "    + theme_bw()\n",
    ")\n",
    "y_hat_resid_hotels"
   ]
  }
 ],
 "metadata": {
  "kernelspec": {
   "display_name": "Python 3",
   "language": "python",
   "name": "python3"
  },
  "language_info": {
   "codemirror_mode": {
    "name": "ipython",
    "version": 3
   },
   "file_extension": ".py",
   "mimetype": "text/x-python",
   "name": "python",
   "nbconvert_exporter": "python",
   "pygments_lexer": "ipython3",
   "version": "3.12.1"
  }
 },
 "nbformat": 4,
 "nbformat_minor": 2
}
