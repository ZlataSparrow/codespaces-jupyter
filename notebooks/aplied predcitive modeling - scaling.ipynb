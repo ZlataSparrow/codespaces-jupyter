{
 "cells": [
  {
   "cell_type": "code",
   "execution_count": null,
   "id": "5bf767f1",
   "metadata": {},
   "outputs": [],
   "source": [
    "import pandas as pd\n",
    "from sklearn.preprocessing import StandardScaler\n",
    "\n",
    "# Original data\n",
    "data = pd.DataFrame({\n",
    "    'height_cm': [160, 170, 180, 190],\n",
    "    'weight_kg': [50, 60, 70, 80]\n",
    "})\n",
    "\n",
    "print(\"📊 Original Data:\")\n",
    "print(data)\n",
    "\n",
    "# Initialize the scaler\n",
    "scaler = StandardScaler()\n",
    "\n",
    "# Fit and transform the data\n",
    "scaled_data = scaler.fit_transform(data)\n",
    "\n",
    "# Put it back into a DataFrame\n",
    "scaled_df = pd.DataFrame(scaled_data, columns=['height_scaled', 'weight_scaled'])\n",
    "\n",
    "print(\"\\n📏 Scaled (Centered + Standardized) Data:\")\n",
    "print(scaled_df)\n"
   ]
  }
 ],
 "metadata": {
  "language_info": {
   "name": "python"
  }
 },
 "nbformat": 4,
 "nbformat_minor": 5
}
