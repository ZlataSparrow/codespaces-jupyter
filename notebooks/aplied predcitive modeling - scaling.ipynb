{
 "cells": [
  {
   "cell_type": "code",
   "execution_count": 1,
   "id": "5bf767f1",
   "metadata": {},
   "outputs": [
    {
     "name": "stdout",
     "output_type": "stream",
     "text": [
      "📊 Original Data:\n",
      "   height_cm  weight_kg\n",
      "0        160         50\n",
      "1        170         60\n",
      "2        180         70\n",
      "3        190         80\n"
     ]
    }
   ],
   "source": [
    "import pandas as pd\n",
    "from sklearn.preprocessing import StandardScaler\n",
    "\n",
    "# Original data\n",
    "data = pd.DataFrame({\n",
    "    'height_cm': [160, 170, 180, 190],\n",
    "    'weight_kg': [50, 60, 70, 80]\n",
    "})\n",
    "\n",
    "print(\"📊 Original Data:\")\n",
    "print(data)"
   ]
  },
  {
   "cell_type": "code",
   "execution_count": null,
   "id": "118f0f2c",
   "metadata": {},
   "outputs": [],
   "source": [
    "# Initialize the scaler\n",
    "scaler = StandardScaler()\n",
    "\n",
    "# Fit and transform the data\n",
    "scaled_data = scaler.fit_transform(data)\n",
    "\n",
    "# Put it back into a DataFrame\n",
    "scaled_df = pd.DataFrame(scaled_data, columns=['height_scaled', 'weight_scaled'])\n",
    "\n",
    "print(\"\\n📏 Scaled (Centered + Standardized) Data:\")\n",
    "print(scaled_df)\n"
   ]
  }
 ],
 "metadata": {
  "kernelspec": {
   "display_name": "Python 3",
   "language": "python",
   "name": "python3"
  },
  "language_info": {
   "codemirror_mode": {
    "name": "ipython",
    "version": 3
   },
   "file_extension": ".py",
   "mimetype": "text/x-python",
   "name": "python",
   "nbconvert_exporter": "python",
   "pygments_lexer": "ipython3",
   "version": "3.12.1"
  }
 },
 "nbformat": 4,
 "nbformat_minor": 5
}
