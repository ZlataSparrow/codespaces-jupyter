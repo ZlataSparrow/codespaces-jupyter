{
 "cells": [
  {
   "cell_type": "code",
   "execution_count": 3,
   "id": "5bf767f1",
   "metadata": {},
   "outputs": [
    {
     "name": "stdout",
     "output_type": "stream",
     "text": [
      "📊 Original Data:\n",
      "   height_cm  weight_kg\n",
      "0        160         50\n",
      "1        170         60\n",
      "2        180         70\n",
      "3        190         80\n"
     ]
    }
   ],
   "source": [
    "import pandas as pd\n",
    "from sklearn.preprocessing import StandardScaler\n",
    "\n",
    "# Original data\n",
    "data = pd.DataFrame({\n",
    "    'height_cm': [160, 170, 180, 190],\n",
    "    'weight_kg': [50, 60, 70, 80]\n",
    "})\n",
    "\n",
    "print(\"📊 Original Data:\")\n",
    "print(data)"
   ]
  },
  {
   "cell_type": "code",
   "execution_count": 13,
   "id": "9de6ec40",
   "metadata": {},
   "outputs": [
    {
     "data": {
      "text/html": [
       "<div>\n",
       "<style scoped>\n",
       "    .dataframe tbody tr th:only-of-type {\n",
       "        vertical-align: middle;\n",
       "    }\n",
       "\n",
       "    .dataframe tbody tr th {\n",
       "        vertical-align: top;\n",
       "    }\n",
       "\n",
       "    .dataframe thead th {\n",
       "        text-align: right;\n",
       "    }\n",
       "</style>\n",
       "<table border=\"1\" class=\"dataframe\">\n",
       "  <thead>\n",
       "    <tr style=\"text-align: right;\">\n",
       "      <th></th>\n",
       "      <th>height_cm</th>\n",
       "      <th>weight_kg</th>\n",
       "      <th>height_cm_avg</th>\n",
       "      <th>weight_kg_avg</th>\n",
       "      <th>heighth_std</th>\n",
       "      <th>weighth_std</th>\n",
       "      <th>scaled_height_cm</th>\n",
       "      <th>scaled_weight_kg</th>\n",
       "    </tr>\n",
       "  </thead>\n",
       "  <tbody>\n",
       "    <tr>\n",
       "      <th>0</th>\n",
       "      <td>160</td>\n",
       "      <td>50</td>\n",
       "      <td>175.0</td>\n",
       "      <td>65.0</td>\n",
       "      <td>12.909944</td>\n",
       "      <td>12.909944</td>\n",
       "      <td>-1.161895</td>\n",
       "      <td>-1.161895</td>\n",
       "    </tr>\n",
       "    <tr>\n",
       "      <th>1</th>\n",
       "      <td>170</td>\n",
       "      <td>60</td>\n",
       "      <td>175.0</td>\n",
       "      <td>65.0</td>\n",
       "      <td>12.909944</td>\n",
       "      <td>12.909944</td>\n",
       "      <td>-0.387298</td>\n",
       "      <td>-0.387298</td>\n",
       "    </tr>\n",
       "    <tr>\n",
       "      <th>2</th>\n",
       "      <td>180</td>\n",
       "      <td>70</td>\n",
       "      <td>175.0</td>\n",
       "      <td>65.0</td>\n",
       "      <td>12.909944</td>\n",
       "      <td>12.909944</td>\n",
       "      <td>0.387298</td>\n",
       "      <td>0.387298</td>\n",
       "    </tr>\n",
       "    <tr>\n",
       "      <th>3</th>\n",
       "      <td>190</td>\n",
       "      <td>80</td>\n",
       "      <td>175.0</td>\n",
       "      <td>65.0</td>\n",
       "      <td>12.909944</td>\n",
       "      <td>12.909944</td>\n",
       "      <td>1.161895</td>\n",
       "      <td>1.161895</td>\n",
       "    </tr>\n",
       "  </tbody>\n",
       "</table>\n",
       "</div>"
      ],
      "text/plain": [
       "   height_cm  weight_kg  height_cm_avg  weight_kg_avg  heighth_std  \\\n",
       "0        160         50          175.0           65.0    12.909944   \n",
       "1        170         60          175.0           65.0    12.909944   \n",
       "2        180         70          175.0           65.0    12.909944   \n",
       "3        190         80          175.0           65.0    12.909944   \n",
       "\n",
       "   weighth_std  scaled_height_cm  scaled_weight_kg  \n",
       "0    12.909944         -1.161895         -1.161895  \n",
       "1    12.909944         -0.387298         -0.387298  \n",
       "2    12.909944          0.387298          0.387298  \n",
       "3    12.909944          1.161895          1.161895  "
      ]
     },
     "execution_count": 13,
     "metadata": {},
     "output_type": "execute_result"
    }
   ],
   "source": [
    "data[\"height_cm_avg\"]= data[\"height_cm\"].mean()\n",
    "data[\"weight_kg_avg\"]= data[\"weight_kg\"].mean() \n",
    "data[\"heighth_std\"]=data[\"height_cm\"].std()\n",
    "data[\"weighth_std\"]=data[\"weight_kg\"].std()   \n",
    "data[\"scaled_height_cm\"] = (data[\"height_cm\"] - data[\"height_cm_avg\"]) / data[\"heighth_std\"]\n",
    "data[\"scaled_weight_kg\"] = (data[\"weight_kg\"] - data[\"weight_kg_avg\"]) / data[\"weighth_std\"]\n",
    "data\n"
   ]
  },
  {
   "cell_type": "code",
   "execution_count": 2,
   "id": "118f0f2c",
   "metadata": {},
   "outputs": [
    {
     "name": "stdout",
     "output_type": "stream",
     "text": [
      "\n",
      "📏 Scaled (Centered + Standardized) Data:\n",
      "   height_scaled  weight_scaled\n",
      "0      -1.341641      -1.341641\n",
      "1      -0.447214      -0.447214\n",
      "2       0.447214       0.447214\n",
      "3       1.341641       1.341641\n"
     ]
    }
   ],
   "source": [
    "# Initialize the scaler\n",
    "scaler = StandardScaler()\n",
    "\n",
    "# Fit and transform the data\n",
    "scaled_data = scaler.fit_transform(data)\n",
    "\n",
    "# Put it back into a DataFrame\n",
    "scaled_df = pd.DataFrame(scaled_data, columns=['height_scaled', 'weight_scaled'])\n",
    "\n",
    "print(\"\\n📏 Scaled (Centered + Standardized) Data:\")\n",
    "print(scaled_df)\n"
   ]
  }
 ],
 "metadata": {
  "kernelspec": {
   "display_name": "Python 3",
   "language": "python",
   "name": "python3"
  },
  "language_info": {
   "codemirror_mode": {
    "name": "ipython",
    "version": 3
   },
   "file_extension": ".py",
   "mimetype": "text/x-python",
   "name": "python",
   "nbconvert_exporter": "python",
   "pygments_lexer": "ipython3",
   "version": "3.12.1"
  }
 },
 "nbformat": 4,
 "nbformat_minor": 5
}
