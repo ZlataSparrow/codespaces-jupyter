{
 "cells": [
  {
   "cell_type": "markdown",
   "metadata": {},
   "source": [
    "#### Prepared for Gabor's Data Analysis\n",
    "\n",
    "### Data Analysis for Business, Economics, and Policy\n",
    "by Gabor Bekes and  Gabor Kezdi\n",
    " \n",
    "Cambridge University Press 2021\n",
    "\n",
    "**[gabors-data-analysis.com ](https://gabors-data-analysis.com/)**\n",
    "\n",
    " License: Free to share, modify and use for educational purposes. \n",
    " Not to be used for commercial purposes.\n",
    "\n",
    "### Chapter 08\n",
    "**CH08C Measurement error in hotel ratings**\n",
    "\n",
    "using the hotels-vienna dataset\n",
    "\n",
    "version 1.0 2021-05-05"
   ]
  },
  {
   "cell_type": "code",
   "execution_count": 1,
   "metadata": {},
   "outputs": [],
   "source": [
    "import os\n",
    "import sys\n",
    "import warnings\n",
    "\n",
    "import numpy as np\n",
    "import pandas as pd\n",
    "from mizani.formatters import percent_format\n",
    "from plotnine import *\n",
    "import statsmodels.formula.api as smf\n",
    "\n",
    "warnings.filterwarnings(\"ignore\")\n"
   ]
  },
  {
   "cell_type": "code",
   "execution_count": 2,
   "metadata": {},
   "outputs": [],
   "source": [
    "# load vienna\n",
    "hotels = pd.read_csv(\"/workspaces/codespaces-jupyter/data/hotels-vienna.csv\")\n",
    "#data = pd.read_csv(\"https://osf.io/y6jvb/download\")"
   ]
  },
  {
   "cell_type": "markdown",
   "metadata": {},
   "source": [
    "#### SAMPLE SELECTION"
   ]
  },
  {
   "cell_type": "code",
   "execution_count": 3,
   "metadata": {},
   "outputs": [],
   "source": [
    "hotels = hotels.loc[\n",
    "    (hotels[\"accommodation_type\"] == \"Hotel\")\n",
    "    & (hotels[\"city_actual\"] == \"Vienna\")\n",
    "    & (hotels[\"stars\"] >= 3)\n",
    "    & (hotels[\"stars\"] <= 4)\n",
    "    & (hotels[\"stars\"].notna())\n",
    "    & (hotels[\"price\"] <= 600)\n",
    "]"
   ]
  },
  {
   "cell_type": "markdown",
   "metadata": {},
   "source": [
    "### Look at measurement error by rating count\n"
   ]
  },
  {
   "cell_type": "code",
   "execution_count": null,
   "metadata": {},
   "outputs": [],
   "source": [
    "hotels[\"lnprice\"] = np.log(hotels[\"price\"])\n"
   ]
  },
  {
   "cell_type": "code",
   "execution_count": 5,
   "metadata": {},
   "outputs": [
    {
     "data": {
      "text/html": [
       "<div>\n",
       "<style scoped>\n",
       "    .dataframe tbody tr th:only-of-type {\n",
       "        vertical-align: middle;\n",
       "    }\n",
       "\n",
       "    .dataframe tbody tr th {\n",
       "        vertical-align: top;\n",
       "    }\n",
       "\n",
       "    .dataframe thead th {\n",
       "        text-align: right;\n",
       "    }\n",
       "</style>\n",
       "<table border=\"1\" class=\"dataframe\">\n",
       "  <thead>\n",
       "    <tr style=\"text-align: right;\">\n",
       "      <th></th>\n",
       "      <th>price</th>\n",
       "      <th>lnprice</th>\n",
       "    </tr>\n",
       "  </thead>\n",
       "  <tbody>\n",
       "    <tr>\n",
       "      <th>count</th>\n",
       "      <td>207.000000</td>\n",
       "      <td>207.000000</td>\n",
       "    </tr>\n",
       "    <tr>\n",
       "      <th>mean</th>\n",
       "      <td>109.975845</td>\n",
       "      <td>4.640219</td>\n",
       "    </tr>\n",
       "    <tr>\n",
       "      <th>std</th>\n",
       "      <td>42.221381</td>\n",
       "      <td>0.336751</td>\n",
       "    </tr>\n",
       "    <tr>\n",
       "      <th>min</th>\n",
       "      <td>50.000000</td>\n",
       "      <td>3.912023</td>\n",
       "    </tr>\n",
       "    <tr>\n",
       "      <th>25%</th>\n",
       "      <td>82.000000</td>\n",
       "      <td>4.406719</td>\n",
       "    </tr>\n",
       "    <tr>\n",
       "      <th>50%</th>\n",
       "      <td>100.000000</td>\n",
       "      <td>4.605170</td>\n",
       "    </tr>\n",
       "    <tr>\n",
       "      <th>75%</th>\n",
       "      <td>129.500000</td>\n",
       "      <td>4.863673</td>\n",
       "    </tr>\n",
       "    <tr>\n",
       "      <th>max</th>\n",
       "      <td>383.000000</td>\n",
       "      <td>5.948035</td>\n",
       "    </tr>\n",
       "  </tbody>\n",
       "</table>\n",
       "</div>"
      ],
      "text/plain": [
       "            price     lnprice\n",
       "count  207.000000  207.000000\n",
       "mean   109.975845    4.640219\n",
       "std     42.221381    0.336751\n",
       "min     50.000000    3.912023\n",
       "25%     82.000000    4.406719\n",
       "50%    100.000000    4.605170\n",
       "75%    129.500000    4.863673\n",
       "max    383.000000    5.948035"
      ]
     },
     "execution_count": 5,
     "metadata": {},
     "output_type": "execute_result"
    }
   ],
   "source": [
    "hotels[[\"price\", \"lnprice\"]].describe()"
   ]
  },
  {
   "cell_type": "code",
   "execution_count": 6,
   "metadata": {},
   "outputs": [
    {
     "data": {
      "text/plain": [
       "(count    207.000000\n",
       " mean     109.975845\n",
       " std       42.221381\n",
       " min       50.000000\n",
       " 25%       82.000000\n",
       " 50%      100.000000\n",
       " 75%      129.500000\n",
       " max      383.000000\n",
       " Name: price, dtype: float64,\n",
       " count    207.000000\n",
       " mean       4.640219\n",
       " std        0.336751\n",
       " min        3.912023\n",
       " 25%        4.406719\n",
       " 50%        4.605170\n",
       " 75%        4.863673\n",
       " max        5.948035\n",
       " Name: lnprice, dtype: float64)"
      ]
     },
     "execution_count": 6,
     "metadata": {},
     "output_type": "execute_result"
    }
   ],
   "source": [
    "hotels[\"price\"].describe(),hotels[\"lnprice\"].describe()"
   ]
  },
  {
   "cell_type": "code",
   "execution_count": 7,
   "metadata": {},
   "outputs": [
    {
     "data": {
      "text/plain": [
       "1      189.0\n",
       "2       53.0\n",
       "3       55.0\n",
       "4       33.0\n",
       "6       57.0\n",
       "       ...  \n",
       "420     77.0\n",
       "421    572.0\n",
       "422     53.0\n",
       "425    112.0\n",
       "426    169.0\n",
       "Name: rating_count, Length: 207, dtype: float64"
      ]
     },
     "execution_count": 7,
     "metadata": {},
     "output_type": "execute_result"
    }
   ],
   "source": [
    "hotels[\"rating_count\"]"
   ]
  },
  {
   "cell_type": "code",
   "execution_count": 8,
   "metadata": {},
   "outputs": [],
   "source": [
    "# define cutoffs\n",
    "k1 = 100\n",
    "k2 = 200"
   ]
  },
  {
   "cell_type": "code",
   "execution_count": 9,
   "metadata": {},
   "outputs": [],
   "source": [
    "reg_ln = smf.ols(\n",
    "    formula=\"lnprice ~ rating\", data=hotels.loc[hotels[\"rating_count\"] < k1, :]\n",
    ")\n",
    "reg_ln_fit = reg_ln.fit()\n",
    "\n",
    "\n",
    "reg = smf.ols(\n",
    "    formula=\"price ~ rating\", data=hotels.loc[hotels[\"rating_count\"] < k1, :]\n",
    ")\n",
    "reg_fit = reg.fit()"
   ]
  },
  {
   "cell_type": "code",
   "execution_count": 36,
   "metadata": {},
   "outputs": [
    {
     "name": "stdout",
     "output_type": "stream",
     "text": [
      "                            OLS Regression Results                            \n",
      "==============================================================================\n",
      "Dep. Variable:                  price   R-squared:                       0.229\n",
      "Model:                            OLS   Adj. R-squared:                  0.219\n",
      "Method:                 Least Squares   F-statistic:                     22.25\n",
      "Date:                Tue, 01 Jul 2025   Prob (F-statistic):           1.08e-05\n",
      "Time:                        01:17:19   Log-Likelihood:                -370.27\n",
      "No. Observations:                  77   AIC:                             744.5\n",
      "Df Residuals:                      75   BIC:                             749.2\n",
      "Df Model:                           1                                         \n",
      "Covariance Type:            nonrobust                                         \n",
      "==============================================================================\n",
      "                 coef    std err          t      P>|t|      [0.025      0.975]\n",
      "------------------------------------------------------------------------------\n",
      "Intercept    -53.2939     32.126     -1.659      0.101    -117.292      10.704\n",
      "rating        38.3178      8.123      4.717      0.000      22.136      54.499\n",
      "==============================================================================\n",
      "Omnibus:                       32.436   Durbin-Watson:                   1.339\n",
      "Prob(Omnibus):                  0.000   Jarque-Bera (JB):               60.647\n",
      "Skew:                           1.583   Prob(JB):                     6.77e-14\n",
      "Kurtosis:                       5.979   Cond. No.                         39.4\n",
      "==============================================================================\n",
      "\n",
      "Notes:\n",
      "[1] Standard Errors assume that the covariance matrix of the errors is correctly specified.\n"
     ]
    }
   ],
   "source": [
    "print(reg_fit.summary())"
   ]
  },
  {
   "cell_type": "code",
   "execution_count": 11,
   "metadata": {
    "scrolled": false
   },
   "outputs": [
    {
     "name": "stdout",
     "output_type": "stream",
     "text": [
      "                            OLS Regression Results                            \n",
      "==============================================================================\n",
      "Dep. Variable:                lnprice   R-squared:                       0.244\n",
      "Model:                            OLS   Adj. R-squared:                  0.234\n",
      "Method:                 Least Squares   F-statistic:                     24.20\n",
      "Date:                Tue, 01 Jul 2025   Prob (F-statistic):           4.99e-06\n",
      "Time:                        01:10:42   Log-Likelihood:                -6.3405\n",
      "No. Observations:                  77   AIC:                             16.68\n",
      "Df Residuals:                      75   BIC:                             21.37\n",
      "Df Model:                           1                                         \n",
      "Covariance Type:            nonrobust                                         \n",
      "==============================================================================\n",
      "                 coef    std err          t      P>|t|      [0.025      0.975]\n",
      "------------------------------------------------------------------------------\n",
      "Intercept      3.1375      0.285     11.025      0.000       2.571       3.704\n",
      "rating         0.3540      0.072      4.920      0.000       0.211       0.497\n",
      "==============================================================================\n",
      "Omnibus:                        5.425   Durbin-Watson:                   1.336\n",
      "Prob(Omnibus):                  0.066   Jarque-Bera (JB):                4.960\n",
      "Skew:                           0.618   Prob(JB):                       0.0837\n",
      "Kurtosis:                       3.145   Cond. No.                         39.4\n",
      "==============================================================================\n",
      "\n",
      "Notes:\n",
      "[1] Standard Errors assume that the covariance matrix of the errors is correctly specified.\n"
     ]
    }
   ],
   "source": [
    "print(reg_ln_fit.summary())"
   ]
  },
  {
   "cell_type": "code",
   "execution_count": 45,
   "metadata": {},
   "outputs": [],
   "source": [
    "hotels[\"yhat\"] = reg_ln_fit.predict(hotels)\n"
   ]
  },
  {
   "cell_type": "code",
   "execution_count": 34,
   "metadata": {},
   "outputs": [
    {
     "data": {
      "text/html": [
       "<table class=\"simpletable\">\n",
       "<caption>OLS Regression Results</caption>\n",
       "<tr>\n",
       "  <th>Dep. Variable:</th>         <td>lnprice</td>     <th>  R-squared:         </th> <td>   0.194</td>\n",
       "</tr>\n",
       "<tr>\n",
       "  <th>Model:</th>                   <td>OLS</td>       <th>  Adj. R-squared:    </th> <td>   0.180</td>\n",
       "</tr>\n",
       "<tr>\n",
       "  <th>Method:</th>             <td>Least Squares</td>  <th>  F-statistic:       </th> <td>   13.52</td>\n",
       "</tr>\n",
       "<tr>\n",
       "  <th>Date:</th>             <td>Tue, 01 Jul 2025</td> <th>  Prob (F-statistic):</th> <td>0.000531</td>\n",
       "</tr>\n",
       "<tr>\n",
       "  <th>Time:</th>                 <td>01:16:44</td>     <th>  Log-Likelihood:    </th> <td> -20.301</td>\n",
       "</tr>\n",
       "<tr>\n",
       "  <th>No. Observations:</th>      <td>    58</td>      <th>  AIC:               </th> <td>   44.60</td>\n",
       "</tr>\n",
       "<tr>\n",
       "  <th>Df Residuals:</th>          <td>    56</td>      <th>  BIC:               </th> <td>   48.72</td>\n",
       "</tr>\n",
       "<tr>\n",
       "  <th>Df Model:</th>              <td>     1</td>      <th>                     </th>     <td> </td>   \n",
       "</tr>\n",
       "<tr>\n",
       "  <th>Covariance Type:</th>      <td>nonrobust</td>    <th>                     </th>     <td> </td>   \n",
       "</tr>\n",
       "</table>\n",
       "<table class=\"simpletable\">\n",
       "<tr>\n",
       "      <td></td>         <th>coef</th>     <th>std err</th>      <th>t</th>      <th>P>|t|</th>  <th>[0.025</th>    <th>0.975]</th>  \n",
       "</tr>\n",
       "<tr>\n",
       "  <th>Intercept</th> <td>    2.9129</td> <td>    0.482</td> <td>    6.038</td> <td> 0.000</td> <td>    1.946</td> <td>    3.879</td>\n",
       "</tr>\n",
       "<tr>\n",
       "  <th>rating</th>    <td>    0.4380</td> <td>    0.119</td> <td>    3.676</td> <td> 0.001</td> <td>    0.199</td> <td>    0.677</td>\n",
       "</tr>\n",
       "</table>\n",
       "<table class=\"simpletable\">\n",
       "<tr>\n",
       "  <th>Omnibus:</th>       <td>19.349</td> <th>  Durbin-Watson:     </th> <td>   1.496</td>\n",
       "</tr>\n",
       "<tr>\n",
       "  <th>Prob(Omnibus):</th> <td> 0.000</td> <th>  Jarque-Bera (JB):  </th> <td>  27.243</td>\n",
       "</tr>\n",
       "<tr>\n",
       "  <th>Skew:</th>          <td> 1.223</td> <th>  Prob(JB):          </th> <td>1.21e-06</td>\n",
       "</tr>\n",
       "<tr>\n",
       "  <th>Kurtosis:</th>      <td> 5.301</td> <th>  Cond. No.          </th> <td>    45.1</td>\n",
       "</tr>\n",
       "</table><br/><br/>Notes:<br/>[1] Standard Errors assume that the covariance matrix of the errors is correctly specified."
      ],
      "text/latex": [
       "\\begin{center}\n",
       "\\begin{tabular}{lclc}\n",
       "\\toprule\n",
       "\\textbf{Dep. Variable:}    &     lnprice      & \\textbf{  R-squared:         } &     0.194   \\\\\n",
       "\\textbf{Model:}            &       OLS        & \\textbf{  Adj. R-squared:    } &     0.180   \\\\\n",
       "\\textbf{Method:}           &  Least Squares   & \\textbf{  F-statistic:       } &     13.52   \\\\\n",
       "\\textbf{Date:}             & Tue, 01 Jul 2025 & \\textbf{  Prob (F-statistic):} &  0.000531   \\\\\n",
       "\\textbf{Time:}             &     01:16:44     & \\textbf{  Log-Likelihood:    } &   -20.301   \\\\\n",
       "\\textbf{No. Observations:} &          58      & \\textbf{  AIC:               } &     44.60   \\\\\n",
       "\\textbf{Df Residuals:}     &          56      & \\textbf{  BIC:               } &     48.72   \\\\\n",
       "\\textbf{Df Model:}         &           1      & \\textbf{                     } &             \\\\\n",
       "\\textbf{Covariance Type:}  &    nonrobust     & \\textbf{                     } &             \\\\\n",
       "\\bottomrule\n",
       "\\end{tabular}\n",
       "\\begin{tabular}{lcccccc}\n",
       "                   & \\textbf{coef} & \\textbf{std err} & \\textbf{t} & \\textbf{P$> |$t$|$} & \\textbf{[0.025} & \\textbf{0.975]}  \\\\\n",
       "\\midrule\n",
       "\\textbf{Intercept} &       2.9129  &        0.482     &     6.038  &         0.000        &        1.946    &        3.879     \\\\\n",
       "\\textbf{rating}    &       0.4380  &        0.119     &     3.676  &         0.001        &        0.199    &        0.677     \\\\\n",
       "\\bottomrule\n",
       "\\end{tabular}\n",
       "\\begin{tabular}{lclc}\n",
       "\\textbf{Omnibus:}       & 19.349 & \\textbf{  Durbin-Watson:     } &    1.496  \\\\\n",
       "\\textbf{Prob(Omnibus):} &  0.000 & \\textbf{  Jarque-Bera (JB):  } &   27.243  \\\\\n",
       "\\textbf{Skew:}          &  1.223 & \\textbf{  Prob(JB):          } & 1.21e-06  \\\\\n",
       "\\textbf{Kurtosis:}      &  5.301 & \\textbf{  Cond. No.          } &     45.1  \\\\\n",
       "\\bottomrule\n",
       "\\end{tabular}\n",
       "%\\caption{OLS Regression Results}\n",
       "\\end{center}\n",
       "\n",
       "Notes: \\newline\n",
       " [1] Standard Errors assume that the covariance matrix of the errors is correctly specified."
      ],
      "text/plain": [
       "<class 'statsmodels.iolib.summary.Summary'>\n",
       "\"\"\"\n",
       "                            OLS Regression Results                            \n",
       "==============================================================================\n",
       "Dep. Variable:                lnprice   R-squared:                       0.194\n",
       "Model:                            OLS   Adj. R-squared:                  0.180\n",
       "Method:                 Least Squares   F-statistic:                     13.52\n",
       "Date:                Tue, 01 Jul 2025   Prob (F-statistic):           0.000531\n",
       "Time:                        01:16:44   Log-Likelihood:                -20.301\n",
       "No. Observations:                  58   AIC:                             44.60\n",
       "Df Residuals:                      56   BIC:                             48.72\n",
       "Df Model:                           1                                         \n",
       "Covariance Type:            nonrobust                                         \n",
       "==============================================================================\n",
       "                 coef    std err          t      P>|t|      [0.025      0.975]\n",
       "------------------------------------------------------------------------------\n",
       "Intercept      2.9129      0.482      6.038      0.000       1.946       3.879\n",
       "rating         0.4380      0.119      3.676      0.001       0.199       0.677\n",
       "==============================================================================\n",
       "Omnibus:                       19.349   Durbin-Watson:                   1.496\n",
       "Prob(Omnibus):                  0.000   Jarque-Bera (JB):               27.243\n",
       "Skew:                           1.223   Prob(JB):                     1.21e-06\n",
       "Kurtosis:                       5.301   Cond. No.                         45.1\n",
       "==============================================================================\n",
       "\n",
       "Notes:\n",
       "[1] Standard Errors assume that the covariance matrix of the errors is correctly specified.\n",
       "\"\"\""
      ]
     },
     "execution_count": 34,
     "metadata": {},
     "output_type": "execute_result"
    }
   ],
   "source": [
    "reg_me2 = smf.ols(\n",
    "    formula=\"lnprice ~ rating\",\n",
    "    data=hotels.loc[(hotels[\"rating_count\"] >= k1) & (hotels[\"rating_count\"] < k2), :],\n",
    ")\n",
    "reg_me_fit2 = reg_me2.fit()\n",
    "reg_me_fit2.summary()"
   ]
  },
  {
   "cell_type": "code",
   "execution_count": 14,
   "metadata": {},
   "outputs": [],
   "source": [
    "hotels[\"yhat2\"] = reg_me_fit2.predict(hotels)\n"
   ]
  },
  {
   "cell_type": "code",
   "execution_count": null,
   "metadata": {},
   "outputs": [
    {
     "data": {
      "text/html": [
       "<table class=\"simpletable\">\n",
       "<caption>OLS Regression Results</caption>\n",
       "<tr>\n",
       "  <th>Dep. Variable:</th>         <td>lnprice</td>     <th>  R-squared:         </th> <td>   0.244</td>\n",
       "</tr>\n",
       "<tr>\n",
       "  <th>Model:</th>                   <td>OLS</td>       <th>  Adj. R-squared:    </th> <td>   0.233</td>\n",
       "</tr>\n",
       "<tr>\n",
       "  <th>Method:</th>             <td>Least Squares</td>  <th>  F-statistic:       </th> <td>   22.60</td>\n",
       "</tr>\n",
       "<tr>\n",
       "  <th>Date:</th>             <td>Tue, 01 Jul 2025</td> <th>  Prob (F-statistic):</th> <td>1.03e-05</td>\n",
       "</tr>\n",
       "<tr>\n",
       "  <th>Time:</th>                 <td>01:17:34</td>     <th>  Log-Likelihood:    </th> <td> -4.1624</td>\n",
       "</tr>\n",
       "<tr>\n",
       "  <th>No. Observations:</th>      <td>    72</td>      <th>  AIC:               </th> <td>   12.32</td>\n",
       "</tr>\n",
       "<tr>\n",
       "  <th>Df Residuals:</th>          <td>    70</td>      <th>  BIC:               </th> <td>   16.88</td>\n",
       "</tr>\n",
       "<tr>\n",
       "  <th>Df Model:</th>              <td>     1</td>      <th>                     </th>     <td> </td>   \n",
       "</tr>\n",
       "<tr>\n",
       "  <th>Covariance Type:</th>      <td>nonrobust</td>    <th>                     </th>     <td> </td>   \n",
       "</tr>\n",
       "</table>\n",
       "<table class=\"simpletable\">\n",
       "<tr>\n",
       "      <td></td>         <th>coef</th>     <th>std err</th>      <th>t</th>      <th>P>|t|</th>  <th>[0.025</th>    <th>0.975]</th>  \n",
       "</tr>\n",
       "<tr>\n",
       "  <th>Intercept</th> <td>    2.3895</td> <td>    0.493</td> <td>    4.849</td> <td> 0.000</td> <td>    1.407</td> <td>    3.372</td>\n",
       "</tr>\n",
       "<tr>\n",
       "  <th>rating</th>    <td>    0.5558</td> <td>    0.117</td> <td>    4.754</td> <td> 0.000</td> <td>    0.323</td> <td>    0.789</td>\n",
       "</tr>\n",
       "</table>\n",
       "<table class=\"simpletable\">\n",
       "<tr>\n",
       "  <th>Omnibus:</th>       <td> 2.670</td> <th>  Durbin-Watson:     </th> <td>   1.499</td>\n",
       "</tr>\n",
       "<tr>\n",
       "  <th>Prob(Omnibus):</th> <td> 0.263</td> <th>  Jarque-Bera (JB):  </th> <td>   1.857</td>\n",
       "</tr>\n",
       "<tr>\n",
       "  <th>Skew:</th>          <td>-0.193</td> <th>  Prob(JB):          </th> <td>   0.395</td>\n",
       "</tr>\n",
       "<tr>\n",
       "  <th>Kurtosis:</th>      <td> 2.314</td> <th>  Cond. No.          </th> <td>    71.6</td>\n",
       "</tr>\n",
       "</table><br/><br/>Notes:<br/>[1] Standard Errors assume that the covariance matrix of the errors is correctly specified."
      ],
      "text/latex": [
       "\\begin{center}\n",
       "\\begin{tabular}{lclc}\n",
       "\\toprule\n",
       "\\textbf{Dep. Variable:}    &     lnprice      & \\textbf{  R-squared:         } &     0.244   \\\\\n",
       "\\textbf{Model:}            &       OLS        & \\textbf{  Adj. R-squared:    } &     0.233   \\\\\n",
       "\\textbf{Method:}           &  Least Squares   & \\textbf{  F-statistic:       } &     22.60   \\\\\n",
       "\\textbf{Date:}             & Tue, 01 Jul 2025 & \\textbf{  Prob (F-statistic):} &  1.03e-05   \\\\\n",
       "\\textbf{Time:}             &     01:17:34     & \\textbf{  Log-Likelihood:    } &   -4.1624   \\\\\n",
       "\\textbf{No. Observations:} &          72      & \\textbf{  AIC:               } &     12.32   \\\\\n",
       "\\textbf{Df Residuals:}     &          70      & \\textbf{  BIC:               } &     16.88   \\\\\n",
       "\\textbf{Df Model:}         &           1      & \\textbf{                     } &             \\\\\n",
       "\\textbf{Covariance Type:}  &    nonrobust     & \\textbf{                     } &             \\\\\n",
       "\\bottomrule\n",
       "\\end{tabular}\n",
       "\\begin{tabular}{lcccccc}\n",
       "                   & \\textbf{coef} & \\textbf{std err} & \\textbf{t} & \\textbf{P$> |$t$|$} & \\textbf{[0.025} & \\textbf{0.975]}  \\\\\n",
       "\\midrule\n",
       "\\textbf{Intercept} &       2.3895  &        0.493     &     4.849  &         0.000        &        1.407    &        3.372     \\\\\n",
       "\\textbf{rating}    &       0.5558  &        0.117     &     4.754  &         0.000        &        0.323    &        0.789     \\\\\n",
       "\\bottomrule\n",
       "\\end{tabular}\n",
       "\\begin{tabular}{lclc}\n",
       "\\textbf{Omnibus:}       &  2.670 & \\textbf{  Durbin-Watson:     } &    1.499  \\\\\n",
       "\\textbf{Prob(Omnibus):} &  0.263 & \\textbf{  Jarque-Bera (JB):  } &    1.857  \\\\\n",
       "\\textbf{Skew:}          & -0.193 & \\textbf{  Prob(JB):          } &    0.395  \\\\\n",
       "\\textbf{Kurtosis:}      &  2.314 & \\textbf{  Cond. No.          } &     71.6  \\\\\n",
       "\\bottomrule\n",
       "\\end{tabular}\n",
       "%\\caption{OLS Regression Results}\n",
       "\\end{center}\n",
       "\n",
       "Notes: \\newline\n",
       " [1] Standard Errors assume that the covariance matrix of the errors is correctly specified."
      ],
      "text/plain": [
       "<class 'statsmodels.iolib.summary.Summary'>\n",
       "\"\"\"\n",
       "                            OLS Regression Results                            \n",
       "==============================================================================\n",
       "Dep. Variable:                lnprice   R-squared:                       0.244\n",
       "Model:                            OLS   Adj. R-squared:                  0.233\n",
       "Method:                 Least Squares   F-statistic:                     22.60\n",
       "Date:                Tue, 01 Jul 2025   Prob (F-statistic):           1.03e-05\n",
       "Time:                        01:17:34   Log-Likelihood:                -4.1624\n",
       "No. Observations:                  72   AIC:                             12.32\n",
       "Df Residuals:                      70   BIC:                             16.88\n",
       "Df Model:                           1                                         \n",
       "Covariance Type:            nonrobust                                         \n",
       "==============================================================================\n",
       "                 coef    std err          t      P>|t|      [0.025      0.975]\n",
       "------------------------------------------------------------------------------\n",
       "Intercept      2.3895      0.493      4.849      0.000       1.407       3.372\n",
       "rating         0.5558      0.117      4.754      0.000       0.323       0.789\n",
       "==============================================================================\n",
       "Omnibus:                        2.670   Durbin-Watson:                   1.499\n",
       "Prob(Omnibus):                  0.263   Jarque-Bera (JB):                1.857\n",
       "Skew:                          -0.193   Prob(JB):                        0.395\n",
       "Kurtosis:                       2.314   Cond. No.                         71.6\n",
       "==============================================================================\n",
       "\n",
       "Notes:\n",
       "[1] Standard Errors assume that the covariance matrix of the errors is correctly specified.\n",
       "\"\"\""
      ]
     },
     "execution_count": 38,
     "metadata": {},
     "output_type": "execute_result"
    }
   ],
   "source": [
    "reg_me3 = smf.ols(\n",
    "    formula=\"lnprice ~ rating\", data=hotels.loc[hotels[\"rating_count\"] >= k2, :]\n",
    ")\n",
    "reg_me_fit3 = reg_me3.fit()\n",
    "reg_me_fit3.summary()"
   ]
  },
  {
   "cell_type": "code",
   "execution_count": null,
   "metadata": {},
   "outputs": [],
   "source": [
    "hotels[\"yhat3\"] = reg_me_fit3.predict(hotels)\n"
   ]
  },
  {
   "cell_type": "code",
   "execution_count": 17,
   "metadata": {},
   "outputs": [
    {
     "name": "stdout",
     "output_type": "stream",
     "text": [
      "                            OLS Regression Results                            \n",
      "==============================================================================\n",
      "Dep. Variable:                  price   R-squared:                       0.278\n",
      "Model:                            OLS   Adj. R-squared:                  0.271\n",
      "Method:                 Least Squares   F-statistic:                     39.29\n",
      "Date:                Tue, 01 Jul 2025   Prob (F-statistic):           3.69e-15\n",
      "Time:                        01:10:42   Log-Likelihood:                -1034.3\n",
      "No. Observations:                 207   AIC:                             2075.\n",
      "Df Residuals:                     204   BIC:                             2085.\n",
      "Df Model:                           2                                         \n",
      "Covariance Type:            nonrobust                                         \n",
      "==============================================================================\n",
      "                 coef    std err          t      P>|t|      [0.025      0.975]\n",
      "------------------------------------------------------------------------------\n",
      "Intercept    -34.1931     28.727     -1.190      0.235     -90.833      22.446\n",
      "rating        39.7302      6.795      5.847      0.000      26.333      53.127\n",
      "distance     -11.0849      2.236     -4.958      0.000     -15.493      -6.677\n",
      "==============================================================================\n",
      "Omnibus:                      168.689   Durbin-Watson:                   1.525\n",
      "Prob(Omnibus):                  0.000   Jarque-Bera (JB):             2905.634\n",
      "Skew:                           2.981   Prob(JB):                         0.00\n",
      "Kurtosis:                      20.359   Cond. No.                         52.7\n",
      "==============================================================================\n",
      "\n",
      "Notes:\n",
      "[1] Standard Errors assume that the covariance matrix of the errors is correctly specified.\n"
     ]
    }
   ],
   "source": [
    "import statsmodels.formula.api as smf\n",
    "\n",
    "# Run OLS regression: price ~ rating + distance\n",
    "reg2 = smf.ols(\n",
    "    formula=\"price ~ rating + distance\",\n",
    "    data=hotels\n",
    ")\n",
    "reg2_fit = reg2.fit()\n",
    "\n",
    "# Print the regression summary\n",
    "print(reg2_fit.summary())\n"
   ]
  },
  {
   "cell_type": "code",
   "execution_count": 63,
   "metadata": {},
   "outputs": [],
   "source": [
    "hotels[\"lnrating\"] = np.log(hotels[\"rating\"])\n",
    "\n",
    "reg_me4 = smf.ols(\n",
    "    formula=\"lnprice ~ lnrating\", data=hotels)\n",
    "reg_me_fit4 = reg_me4.fit()\n",
    "reg_me_fit4.summary()\n",
    "\n",
    "hotels[\"yhat4\"] = reg_me_fit4.predict(hotels)\n"
   ]
  },
  {
   "cell_type": "code",
   "execution_count": 64,
   "metadata": {},
   "outputs": [
    {
     "data": {
      "image/png": "[encoded data removed]"
     },
     "metadata": {
      "image/png": {
       "height": 480,
       "width": 640
      }
     },
     "output_type": "display_data"
    }
   ],
   "source": [
    "(\n",
    "    ggplot(hotels)\n",
    "    + geom_line(aes(x=\"rating\", y=\"yhat\"), color=\"green\", size=1)\n",
    "    + geom_line(aes(x=\"rating\", y=\"yhat3\"), color=\"blue\", size=1)\n",
    "    + geom_line(aes(x=\"rating\", y=\"yhat4\"), color=\"red\", size=1)\n",
    "    + coord_cartesian(xlim=[2, 5], ylim=[3.5, 5])\n",
    "    + expand_limits(x=0.01, y=0.01)\n",
    "    + scale_y_continuous(expand=[0.01, 0.01])\n",
    "    + scale_x_continuous(expand=[0.01, 0.01], limits=[2, 5], breaks=np.arange(2, 5, 0.5))\n",
    "    + labs(x=\"Average rating\", y=\"ln(Hotel price, US dollars)\")\n",
    "    + theme_bw()\n",
    "    + annotate(\n",
    "        \"text\",\n",
    "        x=2.6,\n",
    "        y=4.4,\n",
    "        label=\"More noisy: # of ratings<100\",\n",
    "        size=10,\n",
    "        color=\"green\",\n",
    "    )\n",
    "    + annotate(\n",
    "        \"text\",\n",
    "        x=3.1,\n",
    "        y=3.6,\n",
    "        label=\"Less noisy: # of ratings>200\",\n",
    "        size=10,\n",
    "        color=\"blue\",\n",
    "    )\n",
    ")\n"
   ]
  },
  {
   "cell_type": "code",
   "execution_count": 51,
   "metadata": {},
   "outputs": [
    {
     "name": "stdout",
     "output_type": "stream",
     "text": [
      "                            OLS Regression Results                            \n",
      "==============================================================================\n",
      "Dep. Variable:                lnprice   R-squared:                       0.244\n",
      "Model:                            OLS   Adj. R-squared:                  0.234\n",
      "Method:                 Least Squares   F-statistic:                     24.20\n",
      "Date:                Tue, 01 Jul 2025   Prob (F-statistic):           4.99e-06\n",
      "Time:                        01:20:29   Log-Likelihood:                -6.3405\n",
      "No. Observations:                  77   AIC:                             16.68\n",
      "Df Residuals:                      75   BIC:                             21.37\n",
      "Df Model:                           1                                         \n",
      "Covariance Type:            nonrobust                                         \n",
      "==============================================================================\n",
      "                 coef    std err          t      P>|t|      [0.025      0.975]\n",
      "------------------------------------------------------------------------------\n",
      "Intercept      3.1375      0.285     11.025      0.000       2.571       3.704\n",
      "rating         0.3540      0.072      4.920      0.000       0.211       0.497\n",
      "==============================================================================\n",
      "Omnibus:                        5.425   Durbin-Watson:                   1.336\n",
      "Prob(Omnibus):                  0.066   Jarque-Bera (JB):                4.960\n",
      "Skew:                           0.618   Prob(JB):                       0.0837\n",
      "Kurtosis:                       3.145   Cond. No.                         39.4\n",
      "==============================================================================\n",
      "\n",
      "Notes:\n",
      "[1] Standard Errors assume that the covariance matrix of the errors is correctly specified.\n"
     ]
    }
   ],
   "source": [
    "print(reg_ln_fit.summary())"
   ]
  },
  {
   "cell_type": "code",
   "execution_count": 59,
   "metadata": {},
   "outputs": [
    {
     "name": "stdout",
     "output_type": "stream",
     "text": [
      "                            OLS Regression Results                            \n",
      "==============================================================================\n",
      "Dep. Variable:                lnprice   R-squared:                       0.244\n",
      "Model:                            OLS   Adj. R-squared:                  0.233\n",
      "Method:                 Least Squares   F-statistic:                     22.60\n",
      "Date:                Tue, 01 Jul 2025   Prob (F-statistic):           1.03e-05\n",
      "Time:                        01:23:12   Log-Likelihood:                -4.1624\n",
      "No. Observations:                  72   AIC:                             12.32\n",
      "Df Residuals:                      70   BIC:                             16.88\n",
      "Df Model:                           1                                         \n",
      "Covariance Type:            nonrobust                                         \n",
      "==============================================================================\n",
      "                 coef    std err          t      P>|t|      [0.025      0.975]\n",
      "------------------------------------------------------------------------------\n",
      "Intercept      2.3895      0.493      4.849      0.000       1.407       3.372\n",
      "rating         0.5558      0.117      4.754      0.000       0.323       0.789\n",
      "==============================================================================\n",
      "Omnibus:                        2.670   Durbin-Watson:                   1.499\n",
      "Prob(Omnibus):                  0.263   Jarque-Bera (JB):                1.857\n",
      "Skew:                          -0.193   Prob(JB):                        0.395\n",
      "Kurtosis:                       2.314   Cond. No.                         71.6\n",
      "==============================================================================\n",
      "\n",
      "Notes:\n",
      "[1] Standard Errors assume that the covariance matrix of the errors is correctly specified.\n"
     ]
    }
   ],
   "source": [
    "print(reg_me_fit3.summary())"
   ]
  },
  {
   "cell_type": "code",
   "execution_count": 65,
   "metadata": {},
   "outputs": [
    {
     "name": "stdout",
     "output_type": "stream",
     "text": [
      "                            OLS Regression Results                            \n",
      "==============================================================================\n",
      "Dep. Variable:                lnprice   R-squared:                       0.226\n",
      "Model:                            OLS   Adj. R-squared:                  0.223\n",
      "Method:                 Least Squares   F-statistic:                     60.00\n",
      "Date:                Tue, 01 Jul 2025   Prob (F-statistic):           4.29e-13\n",
      "Time:                        01:33:07   Log-Likelihood:                -41.347\n",
      "No. Observations:                 207   AIC:                             86.69\n",
      "Df Residuals:                     205   BIC:                             93.36\n",
      "Df Model:                           1                                         \n",
      "Covariance Type:            nonrobust                                         \n",
      "==============================================================================\n",
      "                 coef    std err          t      P>|t|      [0.025      0.975]\n",
      "------------------------------------------------------------------------------\n",
      "Intercept      2.4482      0.284      8.628      0.000       1.889       3.008\n",
      "lnrating       1.5711      0.203      7.746      0.000       1.171       1.971\n",
      "==============================================================================\n",
      "Omnibus:                       26.671   Durbin-Watson:                   1.388\n",
      "Prob(Omnibus):                  0.000   Jarque-Bera (JB):               37.463\n",
      "Skew:                           0.783   Prob(JB):                     7.33e-09\n",
      "Kurtosis:                       4.375   Cond. No.                         29.0\n",
      "==============================================================================\n",
      "\n",
      "Notes:\n",
      "[1] Standard Errors assume that the covariance matrix of the errors is correctly specified.\n"
     ]
    }
   ],
   "source": [
    "print(reg_me_fit4.summary())"
   ]
  },
  {
   "cell_type": "code",
   "execution_count": 58,
   "metadata": {},
   "outputs": [
    {
     "name": "stdout",
     "output_type": "stream",
     "text": [
      "count    135.000000\n",
      "mean       3.974815\n",
      "std        0.410809\n",
      "min        2.200000\n",
      "25%        3.700000\n",
      "50%        4.000000\n",
      "75%        4.300000\n",
      "max        4.600000\n",
      "Name: rating, dtype: float64\n",
      "count    72.000000\n",
      "mean      4.206944\n",
      "std       0.263950\n",
      "min       3.400000\n",
      "25%       4.000000\n",
      "50%       4.100000\n",
      "75%       4.400000\n",
      "max       4.800000\n",
      "Name: rating, dtype: float64\n"
     ]
    },
    {
     "data": {
      "text/plain": [
       "(None, None)"
      ]
     },
     "execution_count": 58,
     "metadata": {},
     "output_type": "execute_result"
    }
   ],
   "source": [
    "print(hotels.loc[hotels[\"rating_count\"] < k2, \"rating\"].describe()), print(hotels.loc[hotels[\"rating_count\"] >= k2, \"rating\"].describe())"
   ]
  }
 ],
 "metadata": {
  "kernelspec": {
   "display_name": "Python 3",
   "language": "python",
   "name": "python3"
  },
  "language_info": {
   "codemirror_mode": {
    "name": "ipython",
    "version": 3
   },
   "file_extension": ".py",
   "mimetype": "text/x-python",
   "name": "python",
   "nbconvert_exporter": "python",
   "pygments_lexer": "ipython3",
   "version": "3.12.1"
  }
 },
 "nbformat": 4,
 "nbformat_minor": 4
}
