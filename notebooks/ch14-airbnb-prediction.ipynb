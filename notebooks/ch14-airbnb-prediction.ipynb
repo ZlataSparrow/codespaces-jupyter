{
 "cells": [
  {
   "cell_type": "markdown",
   "metadata": {},
   "source": [
    "#### Prepared for Gabor's Data Analysis\n",
    "\n",
    "### Data Analysis for Business, Economics, and Policy\n",
    "by Gabor Bekes and  Gabor Kezdi\n",
    " \n",
    "Cambridge University Press 2021\n",
    "\n",
    "**[gabors-data-analysis.com ](https://gabors-data-analysis.com/)**\n",
    "\n",
    " License: Free to share, modify and use for educational purposes. \n",
    " Not to be used for commercial purposes.\n",
    "\n",
    "### Chapter 14\n",
    "**CH14B Predicting AirBnB apartment prices: selecting a regression model**\n",
    "\n",
    "using the airbnb dataset\n",
    "\n",
    "version 1.0 2022-10-06"
   ]
  },
  {
   "cell_type": "code",
   "execution_count": 1,
   "metadata": {},
   "outputs": [],
   "source": [
    "import os\n",
    "import sys\n",
    "import warnings\n",
    "\n",
    "import numpy as np\n",
    "import patsy\n",
    "import pandas as pd\n",
    "import statsmodels.formula.api as smf\n",
    "from mizani.formatters import percent_format\n",
    "from plotnine import *\n",
    "\n",
    "import matplotlib.pyplot as plt\n",
    "import seaborn as sns\n",
    "\n",
    "warnings.filterwarnings(\"ignore\")\n"
   ]
  },
  {
   "cell_type": "markdown",
   "metadata": {},
   "source": [
    "### Part 1"
   ]
  },
  {
   "cell_type": "code",
   "execution_count": 2,
   "metadata": {},
   "outputs": [],
   "source": [
    "# !!! make sure you have run ch14_airbnb_prepare.ipynb before\n",
    "data = pd.read_csv(\"/workspaces/codespaces-jupyter/data/airbnb_hackney_workfile_adj.csv\")"
   ]
  },
  {
   "cell_type": "markdown",
   "metadata": {},
   "source": [
    "Quick look at data"
   ]
  },
  {
   "cell_type": "code",
   "execution_count": 3,
   "metadata": {},
   "outputs": [
    {
     "data": {
      "text/html": [
       "<div>\n",
       "<style scoped>\n",
       "    .dataframe tbody tr th:only-of-type {\n",
       "        vertical-align: middle;\n",
       "    }\n",
       "\n",
       "    .dataframe tbody tr th {\n",
       "        vertical-align: top;\n",
       "    }\n",
       "\n",
       "    .dataframe thead th {\n",
       "        text-align: right;\n",
       "    }\n",
       "</style>\n",
       "<table border=\"1\" class=\"dataframe\">\n",
       "  <thead>\n",
       "    <tr style=\"text-align: right;\">\n",
       "      <th></th>\n",
       "      <th>usd_cleaning_fee</th>\n",
       "      <th>usd_price_day</th>\n",
       "      <th>p_host_response_rate</th>\n",
       "      <th>n_accommodates</th>\n",
       "      <th>n_bathrooms</th>\n",
       "      <th>n_review_scores_rating</th>\n",
       "      <th>n_number_of_reviews</th>\n",
       "      <th>n_guests_included</th>\n",
       "      <th>n_reviews_per_month</th>\n",
       "      <th>n_extra_people</th>\n",
       "      <th>...</th>\n",
       "      <th>f_bathroom</th>\n",
       "      <th>ln_number_of_reviews</th>\n",
       "      <th>f_number_of_reviews</th>\n",
       "      <th>ln_days_since</th>\n",
       "      <th>ln_days_since2</th>\n",
       "      <th>ln_days_since3</th>\n",
       "      <th>n_days_since2</th>\n",
       "      <th>n_days_since3</th>\n",
       "      <th>ln_review_scores_rating</th>\n",
       "      <th>f_minimum_nights</th>\n",
       "    </tr>\n",
       "  </thead>\n",
       "  <tbody>\n",
       "    <tr>\n",
       "      <th>count</th>\n",
       "      <td>2769.000000</td>\n",
       "      <td>4496.000000</td>\n",
       "      <td>2970.000000</td>\n",
       "      <td>4496.000000</td>\n",
       "      <td>4487.000000</td>\n",
       "      <td>3073.000000</td>\n",
       "      <td>4496.000000</td>\n",
       "      <td>4496.000000</td>\n",
       "      <td>3147.000000</td>\n",
       "      <td>4496.000000</td>\n",
       "      <td>...</td>\n",
       "      <td>4487.000000</td>\n",
       "      <td>4496.000000</td>\n",
       "      <td>4495.000000</td>\n",
       "      <td>3146.000000</td>\n",
       "      <td>3146.000000</td>\n",
       "      <td>3146.000000</td>\n",
       "      <td>3.147000e+03</td>\n",
       "      <td>3.147000e+03</td>\n",
       "      <td>3073.000000</td>\n",
       "      <td>4495.000000</td>\n",
       "    </tr>\n",
       "    <tr>\n",
       "      <th>mean</th>\n",
       "      <td>31.439870</td>\n",
       "      <td>80.556940</td>\n",
       "      <td>90.924579</td>\n",
       "      <td>2.864324</td>\n",
       "      <td>1.225986</td>\n",
       "      <td>93.323788</td>\n",
       "      <td>10.141904</td>\n",
       "      <td>1.385454</td>\n",
       "      <td>0.946295</td>\n",
       "      <td>5.991770</td>\n",
       "      <td>...</td>\n",
       "      <td>1.150435</td>\n",
       "      <td>1.414416</td>\n",
       "      <td>0.745050</td>\n",
       "      <td>5.813246</td>\n",
       "      <td>34.920619</td>\n",
       "      <td>214.912424</td>\n",
       "      <td>4.386975e+05</td>\n",
       "      <td>5.008933e+08</td>\n",
       "      <td>4.529253</td>\n",
       "      <td>2.029366</td>\n",
       "    </tr>\n",
       "    <tr>\n",
       "      <th>std</th>\n",
       "      <td>25.871418</td>\n",
       "      <td>58.915794</td>\n",
       "      <td>21.642376</td>\n",
       "      <td>1.722148</td>\n",
       "      <td>0.480064</td>\n",
       "      <td>9.133501</td>\n",
       "      <td>22.342473</td>\n",
       "      <td>0.996658</td>\n",
       "      <td>1.143208</td>\n",
       "      <td>11.255617</td>\n",
       "      <td>...</td>\n",
       "      <td>0.379318</td>\n",
       "      <td>1.318117</td>\n",
       "      <td>0.529467</td>\n",
       "      <td>1.061670</td>\n",
       "      <td>11.357470</td>\n",
       "      <td>96.884368</td>\n",
       "      <td>6.959114e+05</td>\n",
       "      <td>1.179754e+09</td>\n",
       "      <td>0.130507</td>\n",
       "      <td>0.838032</td>\n",
       "    </tr>\n",
       "    <tr>\n",
       "      <th>min</th>\n",
       "      <td>4.000000</td>\n",
       "      <td>10.000000</td>\n",
       "      <td>0.000000</td>\n",
       "      <td>1.000000</td>\n",
       "      <td>0.000000</td>\n",
       "      <td>20.000000</td>\n",
       "      <td>0.000000</td>\n",
       "      <td>1.000000</td>\n",
       "      <td>0.020000</td>\n",
       "      <td>0.000000</td>\n",
       "      <td>...</td>\n",
       "      <td>0.000000</td>\n",
       "      <td>0.000000</td>\n",
       "      <td>0.000000</td>\n",
       "      <td>0.000000</td>\n",
       "      <td>0.000000</td>\n",
       "      <td>0.000000</td>\n",
       "      <td>0.000000e+00</td>\n",
       "      <td>0.000000e+00</td>\n",
       "      <td>2.995732</td>\n",
       "      <td>1.000000</td>\n",
       "    </tr>\n",
       "    <tr>\n",
       "      <th>25%</th>\n",
       "      <td>15.000000</td>\n",
       "      <td>40.000000</td>\n",
       "      <td>96.000000</td>\n",
       "      <td>2.000000</td>\n",
       "      <td>1.000000</td>\n",
       "      <td>90.000000</td>\n",
       "      <td>0.000000</td>\n",
       "      <td>1.000000</td>\n",
       "      <td>0.210000</td>\n",
       "      <td>0.000000</td>\n",
       "      <td>...</td>\n",
       "      <td>1.000000</td>\n",
       "      <td>0.000000</td>\n",
       "      <td>0.000000</td>\n",
       "      <td>5.269144</td>\n",
       "      <td>27.763878</td>\n",
       "      <td>146.291911</td>\n",
       "      <td>3.763600e+04</td>\n",
       "      <td>7.301384e+06</td>\n",
       "      <td>4.499810</td>\n",
       "      <td>1.000000</td>\n",
       "    </tr>\n",
       "    <tr>\n",
       "      <th>50%</th>\n",
       "      <td>25.000000</td>\n",
       "      <td>65.000000</td>\n",
       "      <td>100.000000</td>\n",
       "      <td>2.000000</td>\n",
       "      <td>1.000000</td>\n",
       "      <td>96.000000</td>\n",
       "      <td>2.000000</td>\n",
       "      <td>1.000000</td>\n",
       "      <td>0.520000</td>\n",
       "      <td>0.000000</td>\n",
       "      <td>...</td>\n",
       "      <td>1.000000</td>\n",
       "      <td>1.098612</td>\n",
       "      <td>1.000000</td>\n",
       "      <td>6.006350</td>\n",
       "      <td>36.076248</td>\n",
       "      <td>216.686649</td>\n",
       "      <td>1.640250e+05</td>\n",
       "      <td>6.643012e+07</td>\n",
       "      <td>4.564348</td>\n",
       "      <td>2.000000</td>\n",
       "    </tr>\n",
       "    <tr>\n",
       "      <th>75%</th>\n",
       "      <td>40.000000</td>\n",
       "      <td>100.000000</td>\n",
       "      <td>100.000000</td>\n",
       "      <td>4.000000</td>\n",
       "      <td>1.500000</td>\n",
       "      <td>100.000000</td>\n",
       "      <td>10.000000</td>\n",
       "      <td>1.000000</td>\n",
       "      <td>1.190000</td>\n",
       "      <td>10.000000</td>\n",
       "      <td>...</td>\n",
       "      <td>1.000000</td>\n",
       "      <td>2.397895</td>\n",
       "      <td>1.000000</td>\n",
       "      <td>6.512487</td>\n",
       "      <td>42.412491</td>\n",
       "      <td>276.210824</td>\n",
       "      <td>4.529300e+05</td>\n",
       "      <td>3.048232e+08</td>\n",
       "      <td>4.605170</td>\n",
       "      <td>3.000000</td>\n",
       "    </tr>\n",
       "    <tr>\n",
       "      <th>max</th>\n",
       "      <td>500.000000</td>\n",
       "      <td>850.000000</td>\n",
       "      <td>100.000000</td>\n",
       "      <td>16.000000</td>\n",
       "      <td>8.000000</td>\n",
       "      <td>100.000000</td>\n",
       "      <td>290.000000</td>\n",
       "      <td>12.000000</td>\n",
       "      <td>9.729999</td>\n",
       "      <td>200.000000</td>\n",
       "      <td>...</td>\n",
       "      <td>2.000000</td>\n",
       "      <td>5.673323</td>\n",
       "      <td>2.000000</td>\n",
       "      <td>7.773594</td>\n",
       "      <td>60.428771</td>\n",
       "      <td>469.748759</td>\n",
       "      <td>5.650129e+06</td>\n",
       "      <td>1.343036e+10</td>\n",
       "      <td>4.605170</td>\n",
       "      <td>3.000000</td>\n",
       "    </tr>\n",
       "  </tbody>\n",
       "</table>\n",
       "<p>8 rows × 80 columns</p>\n",
       "</div>"
      ],
      "text/plain": [
       "       usd_cleaning_fee  usd_price_day  p_host_response_rate  n_accommodates  \\\n",
       "count       2769.000000    4496.000000           2970.000000     4496.000000   \n",
       "mean          31.439870      80.556940             90.924579        2.864324   \n",
       "std           25.871418      58.915794             21.642376        1.722148   \n",
       "min            4.000000      10.000000              0.000000        1.000000   \n",
       "25%           15.000000      40.000000             96.000000        2.000000   \n",
       "50%           25.000000      65.000000            100.000000        2.000000   \n",
       "75%           40.000000     100.000000            100.000000        4.000000   \n",
       "max          500.000000     850.000000            100.000000       16.000000   \n",
       "\n",
       "       n_bathrooms  n_review_scores_rating  n_number_of_reviews  \\\n",
       "count  4487.000000             3073.000000          4496.000000   \n",
       "mean      1.225986               93.323788            10.141904   \n",
       "std       0.480064                9.133501            22.342473   \n",
       "min       0.000000               20.000000             0.000000   \n",
       "25%       1.000000               90.000000             0.000000   \n",
       "50%       1.000000               96.000000             2.000000   \n",
       "75%       1.500000              100.000000            10.000000   \n",
       "max       8.000000              100.000000           290.000000   \n",
       "\n",
       "       n_guests_included  n_reviews_per_month  n_extra_people  ...  \\\n",
       "count        4496.000000          3147.000000     4496.000000  ...   \n",
       "mean            1.385454             0.946295        5.991770  ...   \n",
       "std             0.996658             1.143208       11.255617  ...   \n",
       "min             1.000000             0.020000        0.000000  ...   \n",
       "25%             1.000000             0.210000        0.000000  ...   \n",
       "50%             1.000000             0.520000        0.000000  ...   \n",
       "75%             1.000000             1.190000       10.000000  ...   \n",
       "max            12.000000             9.729999      200.000000  ...   \n",
       "\n",
       "        f_bathroom  ln_number_of_reviews  f_number_of_reviews  ln_days_since  \\\n",
       "count  4487.000000           4496.000000          4495.000000    3146.000000   \n",
       "mean      1.150435              1.414416             0.745050       5.813246   \n",
       "std       0.379318              1.318117             0.529467       1.061670   \n",
       "min       0.000000              0.000000             0.000000       0.000000   \n",
       "25%       1.000000              0.000000             0.000000       5.269144   \n",
       "50%       1.000000              1.098612             1.000000       6.006350   \n",
       "75%       1.000000              2.397895             1.000000       6.512487   \n",
       "max       2.000000              5.673323             2.000000       7.773594   \n",
       "\n",
       "       ln_days_since2  ln_days_since3  n_days_since2  n_days_since3  \\\n",
       "count     3146.000000     3146.000000   3.147000e+03   3.147000e+03   \n",
       "mean        34.920619      214.912424   4.386975e+05   5.008933e+08   \n",
       "std         11.357470       96.884368   6.959114e+05   1.179754e+09   \n",
       "min          0.000000        0.000000   0.000000e+00   0.000000e+00   \n",
       "25%         27.763878      146.291911   3.763600e+04   7.301384e+06   \n",
       "50%         36.076248      216.686649   1.640250e+05   6.643012e+07   \n",
       "75%         42.412491      276.210824   4.529300e+05   3.048232e+08   \n",
       "max         60.428771      469.748759   5.650129e+06   1.343036e+10   \n",
       "\n",
       "       ln_review_scores_rating  f_minimum_nights  \n",
       "count              3073.000000       4495.000000  \n",
       "mean                  4.529253          2.029366  \n",
       "std                   0.130507          0.838032  \n",
       "min                   2.995732          1.000000  \n",
       "25%                   4.499810          1.000000  \n",
       "50%                   4.564348          2.000000  \n",
       "75%                   4.605170          3.000000  \n",
       "max                   4.605170          3.000000  \n",
       "\n",
       "[8 rows x 80 columns]"
      ]
     },
     "execution_count": 3,
     "metadata": {},
     "output_type": "execute_result"
    }
   ],
   "source": [
    "data.describe()"
   ]
  },
  {
   "cell_type": "markdown",
   "metadata": {},
   "source": [
    "where do we have missing variables now?"
   ]
  },
  {
   "cell_type": "code",
   "execution_count": 4,
   "metadata": {},
   "outputs": [
    {
     "data": {
      "text/plain": [
       "usd_cleaning_fee           1727\n",
       "p_host_response_rate       1526\n",
       "n_bathrooms                   9\n",
       "n_review_scores_rating     1423\n",
       "n_reviews_per_month        1349\n",
       "n_beds                       12\n",
       "n_days_since               1349\n",
       "ln_beds                      12\n",
       "f_bathroom                    9\n",
       "f_number_of_reviews           1\n",
       "ln_days_since              1350\n",
       "ln_days_since2             1350\n",
       "ln_days_since3             1350\n",
       "n_days_since2              1349\n",
       "n_days_since3              1349\n",
       "ln_review_scores_rating    1423\n",
       "f_minimum_nights              1\n",
       "dtype: int64"
      ]
     },
     "execution_count": 4,
     "metadata": {},
     "output_type": "execute_result"
    }
   ],
   "source": [
    "data.isnull().sum().loc[lambda x: x > 0]"
   ]
  },
  {
   "cell_type": "markdown",
   "metadata": {},
   "source": [
    "What to do with missing values?\n",
    "\n",
    "   1. drop if no target (already did)"
   ]
  },
  {
   "cell_type": "code",
   "execution_count": 5,
   "metadata": {},
   "outputs": [],
   "source": [
    "data = data.dropna(subset=[\"price\"])"
   ]
  },
  {
   "cell_type": "markdown",
   "metadata": {},
   "source": [
    " 2. imput when few, not that important"
   ]
  },
  {
   "cell_type": "code",
   "execution_count": 6,
   "metadata": {},
   "outputs": [],
   "source": [
    "data[\"n_bathrooms\"] = data[\"n_bathrooms\"].fillna(np.nanmedian(data[\"n_bathrooms\"]))\n",
    "data[\"n_beds\"] = data[\"n_beds\"].fillna(data[\"n_accommodates\"])\n",
    "data[\"f_bathroom\"] = data[\"f_bathroom\"].fillna(1)\n",
    "data[\"f_minimum_nights\"] = data[\"f_minimum_nights\"].fillna(1)\n",
    "data[\"f_number_of_reviews\"] = data[\"f_number_of_reviews\"].fillna(1)\n",
    "data[\"ln_beds\"] = data[\"ln_beds\"].fillna(0)\n"
   ]
  },
  {
   "cell_type": "code",
   "execution_count": 7,
   "metadata": {},
   "outputs": [
    {
     "data": {
      "text/plain": [
       "count    4496.000000\n",
       "mean        1.225534\n",
       "std         0.479690\n",
       "min         0.000000\n",
       "25%         1.000000\n",
       "50%         1.000000\n",
       "75%         1.500000\n",
       "max         8.000000\n",
       "Name: n_bathrooms, dtype: float64"
      ]
     },
     "execution_count": 7,
     "metadata": {},
     "output_type": "execute_result"
    }
   ],
   "source": [
    "data[\"n_bathrooms\"].describe()\n"
   ]
  },
  {
   "cell_type": "markdown",
   "metadata": {},
   "source": [
    " 3. drop columns when many missing not imortant"
   ]
  },
  {
   "cell_type": "code",
   "execution_count": 8,
   "metadata": {},
   "outputs": [],
   "source": [
    "data = data.drop([\"usd_cleaning_fee\", \"p_host_response_rate\"], axis=1)"
   ]
  },
  {
   "cell_type": "markdown",
   "metadata": {},
   "source": [
    " where do we have missing variables now?"
   ]
  },
  {
   "cell_type": "code",
   "execution_count": 9,
   "metadata": {},
   "outputs": [
    {
     "data": {
      "text/plain": [
       "n_review_scores_rating     1423\n",
       "n_reviews_per_month        1349\n",
       "n_days_since               1349\n",
       "ln_days_since              1350\n",
       "ln_days_since2             1350\n",
       "ln_days_since3             1350\n",
       "n_days_since2              1349\n",
       "n_days_since3              1349\n",
       "ln_review_scores_rating    1423\n",
       "dtype: int64"
      ]
     },
     "execution_count": 9,
     "metadata": {},
     "output_type": "execute_result"
    }
   ],
   "source": [
    "data.isnull().sum().loc[lambda x: x > 0]"
   ]
  },
  {
   "cell_type": "markdown",
   "metadata": {},
   "source": [
    " 4. Replace missing variables re reviews with zero, when no review + add flags"
   ]
  },
  {
   "cell_type": "code",
   "execution_count": 10,
   "metadata": {},
   "outputs": [],
   "source": [
    "for var in [\"flag_days_since\", \"flag_review_scores_rating\", \"flag_reviews_per_month\"]:\n",
    "    data[var] = [int(x) for x in data[var.replace(\"flag\", \"n\")].isna()]"
   ]
  },
  {
   "cell_type": "code",
   "execution_count": 11,
   "metadata": {},
   "outputs": [],
   "source": [
    "data[\"n_days_since\"] = data[\"n_days_since\"].fillna(np.nanmedian(data[\"n_days_since\"]))\n",
    "data[\"n_review_scores_rating\"] = data[\"n_review_scores_rating\"].fillna(\n",
    "    np.nanmedian(data[\"n_review_scores_rating\"])\n",
    ")\n",
    "data[\"n_reviews_per_month\"] = data[\"n_reviews_per_month\"].fillna(\n",
    "    np.nanmedian(data[\"n_reviews_per_month\"])\n",
    ")\n"
   ]
  },
  {
   "cell_type": "code",
   "execution_count": 12,
   "metadata": {},
   "outputs": [
    {
     "data": {
      "text/plain": [
       "flag_days_since\n",
       "0    3147\n",
       "1    1349\n",
       "Name: count, dtype: int64"
      ]
     },
     "execution_count": 12,
     "metadata": {},
     "output_type": "execute_result"
    }
   ],
   "source": [
    "data.flag_days_since.value_counts()"
   ]
  },
  {
   "cell_type": "markdown",
   "metadata": {},
   "source": [
    "Add features -> different functional forms\n",
    "\n",
    "Create variables, measuring the time since: squared, cubic, logs\n"
   ]
  },
  {
   "cell_type": "code",
   "execution_count": 13,
   "metadata": {},
   "outputs": [],
   "source": [
    "data = data.assign(\n",
    "    ln_days_since=lambda x: np.log(x[\"n_days_since\"] + 1),\n",
    "    ln_days_since2=lambda x: np.log(x[\"n_days_since\"] + 1) ** 2,\n",
    "    ln_days_since3=lambda x: np.log(x[\"n_days_since\"] + 1) ** 3,\n",
    "    n_days_since2=lambda x: x[\"n_days_since\"] ** 2,\n",
    "    n_days_since3=lambda x: x[\"n_days_since\"] ** 3,\n",
    "    ln_review_scores_rating=lambda x: np.log(x[\"n_review_scores_rating\"]),\n",
    ").assign(\n",
    "    ln_days_since=lambda x: np.where(\n",
    "        x[\"ln_days_since\"].isnull(), 0, x[\"ln_days_since\"]\n",
    "    ),\n",
    "    ln_days_since2=lambda x: np.where(\n",
    "        x[\"ln_days_since2\"].isnull(), 0, x[\"ln_days_since2\"]\n",
    "    ),\n",
    "    ln_days_since3=lambda x: np.where(\n",
    "        x[\"ln_days_since3\"].isnull(), 0, x[\"ln_days_since3\"]\n",
    "    ),\n",
    ")"
   ]
  },
  {
   "cell_type": "markdown",
   "metadata": {},
   "source": [
    "Look at data"
   ]
  },
  {
   "cell_type": "code",
   "execution_count": 14,
   "metadata": {},
   "outputs": [
    {
     "data": {
      "text/html": [
       "<div>\n",
       "<style scoped>\n",
       "    .dataframe tbody tr th:only-of-type {\n",
       "        vertical-align: middle;\n",
       "    }\n",
       "\n",
       "    .dataframe tbody tr th {\n",
       "        vertical-align: top;\n",
       "    }\n",
       "\n",
       "    .dataframe thead th {\n",
       "        text-align: right;\n",
       "    }\n",
       "</style>\n",
       "<table border=\"1\" class=\"dataframe\">\n",
       "  <thead>\n",
       "    <tr style=\"text-align: right;\">\n",
       "      <th></th>\n",
       "      <th>usd_price_day</th>\n",
       "      <th>n_accommodates</th>\n",
       "      <th>n_bathrooms</th>\n",
       "      <th>n_review_scores_rating</th>\n",
       "      <th>n_number_of_reviews</th>\n",
       "      <th>n_guests_included</th>\n",
       "      <th>n_reviews_per_month</th>\n",
       "      <th>n_extra_people</th>\n",
       "      <th>n_minimum_nights</th>\n",
       "      <th>n_beds</th>\n",
       "      <th>...</th>\n",
       "      <th>ln_days_since</th>\n",
       "      <th>ln_days_since2</th>\n",
       "      <th>ln_days_since3</th>\n",
       "      <th>n_days_since2</th>\n",
       "      <th>n_days_since3</th>\n",
       "      <th>ln_review_scores_rating</th>\n",
       "      <th>f_minimum_nights</th>\n",
       "      <th>flag_days_since</th>\n",
       "      <th>flag_review_scores_rating</th>\n",
       "      <th>flag_reviews_per_month</th>\n",
       "    </tr>\n",
       "  </thead>\n",
       "  <tbody>\n",
       "    <tr>\n",
       "      <th>count</th>\n",
       "      <td>4496.000000</td>\n",
       "      <td>4496.000000</td>\n",
       "      <td>4496.000000</td>\n",
       "      <td>4496.000000</td>\n",
       "      <td>4496.000000</td>\n",
       "      <td>4496.000000</td>\n",
       "      <td>4496.000000</td>\n",
       "      <td>4496.000000</td>\n",
       "      <td>4496.000000</td>\n",
       "      <td>4496.000000</td>\n",
       "      <td>...</td>\n",
       "      <td>4496.000000</td>\n",
       "      <td>4496.000000</td>\n",
       "      <td>4496.000000</td>\n",
       "      <td>4.496000e+03</td>\n",
       "      <td>4.496000e+03</td>\n",
       "      <td>4496.000000</td>\n",
       "      <td>4496.000000</td>\n",
       "      <td>4496.000000</td>\n",
       "      <td>4496.000000</td>\n",
       "      <td>4496.000000</td>\n",
       "    </tr>\n",
       "    <tr>\n",
       "      <th>mean</th>\n",
       "      <td>80.556940</td>\n",
       "      <td>2.864324</td>\n",
       "      <td>1.225534</td>\n",
       "      <td>94.170819</td>\n",
       "      <td>10.141904</td>\n",
       "      <td>1.385454</td>\n",
       "      <td>0.818387</td>\n",
       "      <td>5.991770</td>\n",
       "      <td>3.127002</td>\n",
       "      <td>1.577847</td>\n",
       "      <td>...</td>\n",
       "      <td>5.874549</td>\n",
       "      <td>35.296294</td>\n",
       "      <td>215.650102</td>\n",
       "      <td>3.562836e+05</td>\n",
       "      <td>3.705350e+08</td>\n",
       "      <td>4.540361</td>\n",
       "      <td>2.029137</td>\n",
       "      <td>0.300044</td>\n",
       "      <td>0.316504</td>\n",
       "      <td>0.300044</td>\n",
       "    </tr>\n",
       "    <tr>\n",
       "      <th>std</th>\n",
       "      <td>58.915794</td>\n",
       "      <td>1.722148</td>\n",
       "      <td>0.479690</td>\n",
       "      <td>7.652561</td>\n",
       "      <td>22.342473</td>\n",
       "      <td>0.996658</td>\n",
       "      <td>0.976154</td>\n",
       "      <td>11.255617</td>\n",
       "      <td>6.160668</td>\n",
       "      <td>1.044372</td>\n",
       "      <td>...</td>\n",
       "      <td>0.886647</td>\n",
       "      <td>9.482548</td>\n",
       "      <td>80.906146</td>\n",
       "      <td>5.956503e+05</td>\n",
       "      <td>1.006861e+09</td>\n",
       "      <td>0.109118</td>\n",
       "      <td>0.838079</td>\n",
       "      <td>0.458328</td>\n",
       "      <td>0.465164</td>\n",
       "      <td>0.458328</td>\n",
       "    </tr>\n",
       "    <tr>\n",
       "      <th>min</th>\n",
       "      <td>10.000000</td>\n",
       "      <td>1.000000</td>\n",
       "      <td>0.000000</td>\n",
       "      <td>20.000000</td>\n",
       "      <td>0.000000</td>\n",
       "      <td>1.000000</td>\n",
       "      <td>0.020000</td>\n",
       "      <td>0.000000</td>\n",
       "      <td>1.000000</td>\n",
       "      <td>1.000000</td>\n",
       "      <td>...</td>\n",
       "      <td>0.000000</td>\n",
       "      <td>0.000000</td>\n",
       "      <td>0.000000</td>\n",
       "      <td>0.000000e+00</td>\n",
       "      <td>0.000000e+00</td>\n",
       "      <td>2.995732</td>\n",
       "      <td>1.000000</td>\n",
       "      <td>0.000000</td>\n",
       "      <td>0.000000</td>\n",
       "      <td>0.000000</td>\n",
       "    </tr>\n",
       "    <tr>\n",
       "      <th>25%</th>\n",
       "      <td>40.000000</td>\n",
       "      <td>2.000000</td>\n",
       "      <td>1.000000</td>\n",
       "      <td>93.000000</td>\n",
       "      <td>0.000000</td>\n",
       "      <td>1.000000</td>\n",
       "      <td>0.330000</td>\n",
       "      <td>0.000000</td>\n",
       "      <td>1.000000</td>\n",
       "      <td>1.000000</td>\n",
       "      <td>...</td>\n",
       "      <td>5.551989</td>\n",
       "      <td>30.824581</td>\n",
       "      <td>171.137760</td>\n",
       "      <td>6.592075e+04</td>\n",
       "      <td>1.692525e+07</td>\n",
       "      <td>4.532599</td>\n",
       "      <td>1.000000</td>\n",
       "      <td>0.000000</td>\n",
       "      <td>0.000000</td>\n",
       "      <td>0.000000</td>\n",
       "    </tr>\n",
       "    <tr>\n",
       "      <th>50%</th>\n",
       "      <td>65.000000</td>\n",
       "      <td>2.000000</td>\n",
       "      <td>1.000000</td>\n",
       "      <td>96.000000</td>\n",
       "      <td>2.000000</td>\n",
       "      <td>1.000000</td>\n",
       "      <td>0.520000</td>\n",
       "      <td>0.000000</td>\n",
       "      <td>2.000000</td>\n",
       "      <td>1.000000</td>\n",
       "      <td>...</td>\n",
       "      <td>6.006353</td>\n",
       "      <td>36.076278</td>\n",
       "      <td>216.686868</td>\n",
       "      <td>1.640250e+05</td>\n",
       "      <td>6.643012e+07</td>\n",
       "      <td>4.564348</td>\n",
       "      <td>2.000000</td>\n",
       "      <td>0.000000</td>\n",
       "      <td>0.000000</td>\n",
       "      <td>0.000000</td>\n",
       "    </tr>\n",
       "    <tr>\n",
       "      <th>75%</th>\n",
       "      <td>100.000000</td>\n",
       "      <td>4.000000</td>\n",
       "      <td>1.500000</td>\n",
       "      <td>98.000000</td>\n",
       "      <td>10.000000</td>\n",
       "      <td>1.000000</td>\n",
       "      <td>0.860000</td>\n",
       "      <td>10.000000</td>\n",
       "      <td>3.000000</td>\n",
       "      <td>2.000000</td>\n",
       "      <td>...</td>\n",
       "      <td>6.335054</td>\n",
       "      <td>40.132912</td>\n",
       "      <td>254.244177</td>\n",
       "      <td>3.169690e+05</td>\n",
       "      <td>1.784535e+08</td>\n",
       "      <td>4.584967</td>\n",
       "      <td>3.000000</td>\n",
       "      <td>1.000000</td>\n",
       "      <td>1.000000</td>\n",
       "      <td>1.000000</td>\n",
       "    </tr>\n",
       "    <tr>\n",
       "      <th>max</th>\n",
       "      <td>850.000000</td>\n",
       "      <td>16.000000</td>\n",
       "      <td>8.000000</td>\n",
       "      <td>100.000000</td>\n",
       "      <td>290.000000</td>\n",
       "      <td>12.000000</td>\n",
       "      <td>9.729999</td>\n",
       "      <td>200.000000</td>\n",
       "      <td>180.000000</td>\n",
       "      <td>16.000000</td>\n",
       "      <td>...</td>\n",
       "      <td>7.774015</td>\n",
       "      <td>60.435310</td>\n",
       "      <td>469.825014</td>\n",
       "      <td>5.650129e+06</td>\n",
       "      <td>1.343036e+10</td>\n",
       "      <td>4.605170</td>\n",
       "      <td>3.000000</td>\n",
       "      <td>1.000000</td>\n",
       "      <td>1.000000</td>\n",
       "      <td>1.000000</td>\n",
       "    </tr>\n",
       "  </tbody>\n",
       "</table>\n",
       "<p>8 rows × 81 columns</p>\n",
       "</div>"
      ],
      "text/plain": [
       "       usd_price_day  n_accommodates  n_bathrooms  n_review_scores_rating  \\\n",
       "count    4496.000000     4496.000000  4496.000000             4496.000000   \n",
       "mean       80.556940        2.864324     1.225534               94.170819   \n",
       "std        58.915794        1.722148     0.479690                7.652561   \n",
       "min        10.000000        1.000000     0.000000               20.000000   \n",
       "25%        40.000000        2.000000     1.000000               93.000000   \n",
       "50%        65.000000        2.000000     1.000000               96.000000   \n",
       "75%       100.000000        4.000000     1.500000               98.000000   \n",
       "max       850.000000       16.000000     8.000000              100.000000   \n",
       "\n",
       "       n_number_of_reviews  n_guests_included  n_reviews_per_month  \\\n",
       "count          4496.000000        4496.000000          4496.000000   \n",
       "mean             10.141904           1.385454             0.818387   \n",
       "std              22.342473           0.996658             0.976154   \n",
       "min               0.000000           1.000000             0.020000   \n",
       "25%               0.000000           1.000000             0.330000   \n",
       "50%               2.000000           1.000000             0.520000   \n",
       "75%              10.000000           1.000000             0.860000   \n",
       "max             290.000000          12.000000             9.729999   \n",
       "\n",
       "       n_extra_people  n_minimum_nights       n_beds  ...  ln_days_since  \\\n",
       "count     4496.000000       4496.000000  4496.000000  ...    4496.000000   \n",
       "mean         5.991770          3.127002     1.577847  ...       5.874549   \n",
       "std         11.255617          6.160668     1.044372  ...       0.886647   \n",
       "min          0.000000          1.000000     1.000000  ...       0.000000   \n",
       "25%          0.000000          1.000000     1.000000  ...       5.551989   \n",
       "50%          0.000000          2.000000     1.000000  ...       6.006353   \n",
       "75%         10.000000          3.000000     2.000000  ...       6.335054   \n",
       "max        200.000000        180.000000    16.000000  ...       7.774015   \n",
       "\n",
       "       ln_days_since2  ln_days_since3  n_days_since2  n_days_since3  \\\n",
       "count     4496.000000     4496.000000   4.496000e+03   4.496000e+03   \n",
       "mean        35.296294      215.650102   3.562836e+05   3.705350e+08   \n",
       "std          9.482548       80.906146   5.956503e+05   1.006861e+09   \n",
       "min          0.000000        0.000000   0.000000e+00   0.000000e+00   \n",
       "25%         30.824581      171.137760   6.592075e+04   1.692525e+07   \n",
       "50%         36.076278      216.686868   1.640250e+05   6.643012e+07   \n",
       "75%         40.132912      254.244177   3.169690e+05   1.784535e+08   \n",
       "max         60.435310      469.825014   5.650129e+06   1.343036e+10   \n",
       "\n",
       "       ln_review_scores_rating  f_minimum_nights  flag_days_since  \\\n",
       "count              4496.000000       4496.000000      4496.000000   \n",
       "mean                  4.540361          2.029137         0.300044   \n",
       "std                   0.109118          0.838079         0.458328   \n",
       "min                   2.995732          1.000000         0.000000   \n",
       "25%                   4.532599          1.000000         0.000000   \n",
       "50%                   4.564348          2.000000         0.000000   \n",
       "75%                   4.584967          3.000000         1.000000   \n",
       "max                   4.605170          3.000000         1.000000   \n",
       "\n",
       "       flag_review_scores_rating  flag_reviews_per_month  \n",
       "count                4496.000000             4496.000000  \n",
       "mean                    0.316504                0.300044  \n",
       "std                     0.465164                0.458328  \n",
       "min                     0.000000                0.000000  \n",
       "25%                     0.000000                0.000000  \n",
       "50%                     0.000000                0.000000  \n",
       "75%                     1.000000                1.000000  \n",
       "max                     1.000000                1.000000  \n",
       "\n",
       "[8 rows x 81 columns]"
      ]
     },
     "execution_count": 14,
     "metadata": {},
     "output_type": "execute_result"
    }
   ],
   "source": [
    "data.describe()"
   ]
  },
  {
   "cell_type": "markdown",
   "metadata": {},
   "source": [
    " where do we have missing variables now?"
   ]
  },
  {
   "cell_type": "code",
   "execution_count": 15,
   "metadata": {},
   "outputs": [
    {
     "data": {
      "text/plain": [
       "Series([], dtype: int64)"
      ]
     },
     "execution_count": 15,
     "metadata": {},
     "output_type": "execute_result"
    }
   ],
   "source": [
    "data.isnull().sum().loc[lambda x: x > 0]"
   ]
  },
  {
   "cell_type": "markdown",
   "metadata": {},
   "source": [
    "### Business logic - define our prediction problem"
   ]
  },
  {
   "cell_type": "markdown",
   "metadata": {},
   "source": [
    "Decision\n",
    "\n",
    "Size, we need a normal apartment, 1-7persons"
   ]
  },
  {
   "cell_type": "code",
   "execution_count": 16,
   "metadata": {},
   "outputs": [],
   "source": [
    "data = data.loc[data.n_accommodates < 8]"
   ]
  },
  {
   "cell_type": "code",
   "execution_count": 17,
   "metadata": {},
   "outputs": [],
   "source": [
    "data.to_csv(\"airbnb_hackney_work.csv\", index=False)"
   ]
  },
  {
   "cell_type": "markdown",
   "metadata": {},
   "source": [
    "### Look at some descriptive statistics\n",
    "\n",
    "How is the average price changing in my district by `property_type`, `room_type` and the `bed_type`?"
   ]
  },
  {
   "cell_type": "code",
   "execution_count": 18,
   "metadata": {},
   "outputs": [
    {
     "data": {
      "text/html": [
       "<div>\n",
       "<style scoped>\n",
       "    .dataframe tbody tr th:only-of-type {\n",
       "        vertical-align: middle;\n",
       "    }\n",
       "\n",
       "    .dataframe tbody tr th {\n",
       "        vertical-align: top;\n",
       "    }\n",
       "\n",
       "    .dataframe thead th {\n",
       "        text-align: right;\n",
       "    }\n",
       "</style>\n",
       "<table border=\"1\" class=\"dataframe\">\n",
       "  <thead>\n",
       "    <tr style=\"text-align: right;\">\n",
       "      <th></th>\n",
       "      <th></th>\n",
       "      <th>mean_price</th>\n",
       "    </tr>\n",
       "    <tr>\n",
       "      <th>f_property_type</th>\n",
       "      <th>f_room_type</th>\n",
       "      <th></th>\n",
       "    </tr>\n",
       "  </thead>\n",
       "  <tbody>\n",
       "    <tr>\n",
       "      <th rowspan=\"3\" valign=\"top\">Apartment</th>\n",
       "      <th>Entire home/apt</th>\n",
       "      <td>106.364341</td>\n",
       "    </tr>\n",
       "    <tr>\n",
       "      <th>Private room</th>\n",
       "      <td>48.034439</td>\n",
       "    </tr>\n",
       "    <tr>\n",
       "      <th>Shared room</th>\n",
       "      <td>50.708333</td>\n",
       "    </tr>\n",
       "    <tr>\n",
       "      <th rowspan=\"3\" valign=\"top\">House</th>\n",
       "      <th>Entire home/apt</th>\n",
       "      <td>134.794118</td>\n",
       "    </tr>\n",
       "    <tr>\n",
       "      <th>Private room</th>\n",
       "      <td>42.931487</td>\n",
       "    </tr>\n",
       "    <tr>\n",
       "      <th>Shared room</th>\n",
       "      <td>38.666667</td>\n",
       "    </tr>\n",
       "  </tbody>\n",
       "</table>\n",
       "</div>"
      ],
      "text/plain": [
       "                                 mean_price\n",
       "f_property_type f_room_type                \n",
       "Apartment       Entire home/apt  106.364341\n",
       "                Private room      48.034439\n",
       "                Shared room       50.708333\n",
       "House           Entire home/apt  134.794118\n",
       "                Private room      42.931487\n",
       "                Shared room       38.666667"
      ]
     },
     "execution_count": 18,
     "metadata": {},
     "output_type": "execute_result"
    }
   ],
   "source": [
    "data.groupby([\"f_property_type\", \"f_room_type\"]).agg(mean_price=(\"price\", np.mean))"
   ]
  },
  {
   "cell_type": "code",
   "execution_count": 19,
   "metadata": {},
   "outputs": [
    {
     "data": {
      "text/html": [
       "<div>\n",
       "<style scoped>\n",
       "    .dataframe tbody tr th:only-of-type {\n",
       "        vertical-align: middle;\n",
       "    }\n",
       "\n",
       "    .dataframe tbody tr th {\n",
       "        vertical-align: top;\n",
       "    }\n",
       "\n",
       "    .dataframe thead th {\n",
       "        text-align: right;\n",
       "    }\n",
       "</style>\n",
       "<table border=\"1\" class=\"dataframe\">\n",
       "  <thead>\n",
       "    <tr style=\"text-align: right;\">\n",
       "      <th></th>\n",
       "      <th>mean_price</th>\n",
       "    </tr>\n",
       "    <tr>\n",
       "      <th>f_bed_type</th>\n",
       "      <th></th>\n",
       "    </tr>\n",
       "  </thead>\n",
       "  <tbody>\n",
       "    <tr>\n",
       "      <th>Couch</th>\n",
       "      <td>49.091954</td>\n",
       "    </tr>\n",
       "    <tr>\n",
       "      <th>Real Bed</th>\n",
       "      <td>77.838365</td>\n",
       "    </tr>\n",
       "  </tbody>\n",
       "</table>\n",
       "</div>"
      ],
      "text/plain": [
       "            mean_price\n",
       "f_bed_type            \n",
       "Couch        49.091954\n",
       "Real Bed     77.838365"
      ]
     },
     "execution_count": 19,
     "metadata": {},
     "output_type": "execute_result"
    }
   ],
   "source": [
    "data.groupby([\"f_bed_type\"]).agg(mean_price=(\"price\", np.mean))"
   ]
  },
  {
   "cell_type": "code",
   "execution_count": 20,
   "metadata": {},
   "outputs": [
    {
     "data": {
      "text/plain": [
       "count    4393.000000\n",
       "mean       77.269064\n",
       "std        53.265471\n",
       "min        10.000000\n",
       "25%        40.000000\n",
       "50%        65.000000\n",
       "75%        99.000000\n",
       "max       850.000000\n",
       "Name: price, dtype: float64"
      ]
     },
     "execution_count": 20,
     "metadata": {},
     "output_type": "execute_result"
    }
   ],
   "source": [
    "data.price.describe()"
   ]
  },
  {
   "cell_type": "markdown",
   "metadata": {},
   "source": [
    " NB all graphs, we exclude  extreme values of price"
   ]
  },
  {
   "cell_type": "code",
   "execution_count": 21,
   "metadata": {},
   "outputs": [],
   "source": [
    "datau = data.loc[data.price < 400]"
   ]
  },
  {
   "cell_type": "markdown",
   "metadata": {},
   "source": [
    "Histograms price\n",
    "\n",
    "Distribution of price by type below 400"
   ]
  },
  {
   "cell_type": "markdown",
   "metadata": {},
   "source": [
    "### Figure 14.3 Airbnb apartment price and ln price distributions.\n",
    "\n",
    "(a) Price"
   ]
  },
  {
   "cell_type": "code",
   "execution_count": 22,
   "metadata": {},
   "outputs": [
    {
     "data": {
      "image/png": "[encoded data removed]",
      "text/plain": [
       "<Figure size 800x500 with 1 Axes>"
      ]
     },
     "metadata": {},
     "output_type": "display_data"
    }
   ],
   "source": [
    "plt.figure(figsize=(8, 5))\n",
    "plt.hist(datau[\"price\"], bins=40, color=\"skyblue\", edgecolor=\"black\", alpha=0.8, weights=np.ones(len(datau)) / len(datau))\n",
    "plt.xlabel(\"Price (US dollars)\")\n",
    "plt.ylabel(\"Percent\")\n",
    "plt.title(\"Price Distribution (%)\")\n",
    "plt.xlim(0, 400)\n",
    "plt.ylim(0, 0.15)\n",
    "plt.yticks(np.arange(0, 0.16, 0.03), [f\"{int(x*100)}%\" \n",
    "                                      for x in np.arange(0, 0.16, 0.03)])\n",
    "plt.xticks(np.arange(0, 401, 50))\n",
    "plt.tight_layout()\n",
    "plt.show()\n"
   ]
  },
  {
   "cell_type": "code",
   "execution_count": 23,
   "metadata": {},
   "outputs": [
    {
     "data": {
      "image/png": "[encoded data removed]",
      "text/plain": [
       "<Figure size 800x500 with 1 Axes>"
      ]
     },
     "metadata": {},
     "output_type": "display_data"
    }
   ],
   "source": [
    "plt.figure(figsize=(8, 5))\n",
    "plt.hist(datau[\"ln_price\"], bins=20, color=\"skyblue\", edgecolor=\"black\", alpha=0.8, weights=np.ones(len(datau)) / len(datau))\n",
    "plt.xlabel(\"Price (US dollars)\")\n",
    "plt.ylabel(\"Percent\")\n",
    "plt.title(\"Price Distribution (%)\")\n",
    "plt.xlim(2, 6)\n",
    "plt.ylim(0, 0.15)\n",
    "plt.yticks(np.arange(0, 0.16, 0.03), [f\"{int(x*100)}%\" \n",
    "                                      for x in np.arange(0, 0.16, 0.03)])\n",
    "plt.xticks(np.arange(2.4, 6,0.6))\n",
    "plt.tight_layout()\n",
    "plt.show()\n"
   ]
  },
  {
   "cell_type": "markdown",
   "metadata": {},
   "source": [
    "### Figure 14.4 Airbnb apartment price distribution by important features\n",
    "\n",
    "(a) Price by room type"
   ]
  },
  {
   "cell_type": "code",
   "execution_count": 37,
   "metadata": {},
   "outputs": [
    {
     "data": {
      "image/png": "[encoded data removed]",
      "text/plain": [
       "<Figure size 640x480 with 1 Axes>"
      ]
     },
     "metadata": {},
     "output_type": "display_data"
    }
   ],
   "source": [
    "import seaborn as sns\n",
    "import matplotlib as mpl\n",
    "import matplotlib.pyplot as plt\n",
    "import matplotlib.ticker as mtick\n",
    "sns.set_style(\"whitegrid\")\n",
    "\n",
    "datau[\"f_room_type\"] = pd.Categorical(\n",
    "    datau[\"f_room_type\"], categories=sorted(set(datau[\"f_room_type\"]), reverse=False)\n",
    ")\n",
    "\n",
    "fig, ax = plt.subplots()\n",
    "sns.boxplot(data=datau, x=\"f_room_type\", y=\"price\", width=0.8, ax=ax, showfliers=False)\n",
    "\n",
    "box_line_col = [\"green\", \"navy\", \"purple\"]\n",
    "for i, box_col in enumerate(box_line_col):\n",
    "    mybox = ax.patches[i]\n",
    "    mybox.set_facecolor(mpl.colors.to_rgba(box_col, 0.3))\n",
    "    mybox.set_edgecolor(box_col)\n",
    "    for j in range(i * 5, i * 5 + 5):\n",
    "        line = ax.lines[j]\n",
    "        line.set_color(box_col)\n",
    "\n",
    "plt.ylabel(\"Price (US dollars)\", size=12)\n",
    "plt.xlabel(\"Room type\", size=12)\n",
    "plt.yticks(np.arange(0, 300, 50))\n",
    "add_margin(ax, x=0.1, y=0.01)\n",
    "plt.show()"
   ]
  },
  {
   "cell_type": "markdown",
   "metadata": {},
   "source": [
    "(b) Price by number of people accommodated and apartment versus house in US dollars"
   ]
  },
  {
   "cell_type": "code",
   "execution_count": 44,
   "metadata": {},
   "outputs": [],
   "source": [
    "datau[\"n_accommodates\"] = datau[\"n_accommodates\"].astype(int).astype(\"category\")"
   ]
  },
  {
   "cell_type": "code",
   "execution_count": 45,
   "metadata": {},
   "outputs": [
    {
     "data": {
      "image/png": "[encoded data removed]",
      "text/plain": [
       "<Figure size 640x480 with 1 Axes>"
      ]
     },
     "metadata": {},
     "output_type": "display_data"
    }
   ],
   "source": [
    "fig, ax = plt.subplots()\n",
    "# Create the boxplot\n",
    "sns.boxplot(\n",
    "    x='n_accommodates',\n",
    "    y='price',\n",
    "    hue='f_property_type',\n",
    "    data=datau,\n",
    "    showfliers = False,\n",
    "    palette={'Apartment': \"green\", 'House': \"navy\"}\n",
    ")\n",
    "\n",
    "\n",
    "for patch in ax.patches:\n",
    "    r, g, b, _ = patch.get_facecolor()\n",
    "    patch.set_facecolor((r, g, b, 0.7))\n",
    "    patch.set_edgecolor((r, g, b, 0.7))\n",
    "\n",
    "\n",
    "for i in range(0,int(len(ax.lines)/2)):\n",
    "    ax.lines[i].set_color(\"green\")\n",
    "\n",
    "for i in range(int(len(ax.lines)/2),len(ax.lines)):\n",
    "    ax.lines[i].set_color(\"navy\")\n",
    "\n",
    "ax.legend(bbox_to_anchor=(0.4, 0.85), framealpha=0)\n",
    "leg = ax.get_legend()\n",
    "leg.set_title(None)\n",
    "leg.legend_handles[0].set_color(\"green\")\n",
    "leg.legend_handles[1].set_color(\"navy\")\n",
    "\n",
    "plt.ylabel(\"Price (US dollars)\", size=12)\n",
    "plt.xlabel(\"Guests accommodated\", size=12)\n",
    "plt.yticks(np.arange(0, 401, 50))\n",
    "add_margin(ax, x=0.01, y=0.01)\n",
    "plt.show()"
   ]
  },
  {
   "cell_type": "markdown",
   "metadata": {},
   "source": [
    "### Part2"
   ]
  },
  {
   "cell_type": "code",
   "execution_count": 46,
   "metadata": {},
   "outputs": [],
   "source": [
    "data = pd.read_csv(\"airbnb_hackney_work.csv\")"
   ]
  },
  {
   "cell_type": "code",
   "execution_count": 48,
   "metadata": {},
   "outputs": [
    {
     "data": {
      "text/html": [
       "<div>\n",
       "<style scoped>\n",
       "    .dataframe tbody tr th:only-of-type {\n",
       "        vertical-align: middle;\n",
       "    }\n",
       "\n",
       "    .dataframe tbody tr th {\n",
       "        vertical-align: top;\n",
       "    }\n",
       "\n",
       "    .dataframe thead th {\n",
       "        text-align: right;\n",
       "    }\n",
       "</style>\n",
       "<table border=\"1\" class=\"dataframe\">\n",
       "  <thead>\n",
       "    <tr style=\"text-align: right;\">\n",
       "      <th></th>\n",
       "      <th>f_property_type</th>\n",
       "      <th>f_room_type</th>\n",
       "      <th>f_room_type2</th>\n",
       "      <th>f_cancellation_policy</th>\n",
       "      <th>f_bed_type</th>\n",
       "      <th>f_neighbourhood_cleansed</th>\n",
       "      <th>usd_price_day</th>\n",
       "      <th>n_accommodates</th>\n",
       "      <th>n_bathrooms</th>\n",
       "      <th>n_review_scores_rating</th>\n",
       "      <th>...</th>\n",
       "      <th>ln_days_since</th>\n",
       "      <th>ln_days_since2</th>\n",
       "      <th>ln_days_since3</th>\n",
       "      <th>n_days_since2</th>\n",
       "      <th>n_days_since3</th>\n",
       "      <th>ln_review_scores_rating</th>\n",
       "      <th>f_minimum_nights</th>\n",
       "      <th>flag_days_since</th>\n",
       "      <th>flag_review_scores_rating</th>\n",
       "      <th>flag_reviews_per_month</th>\n",
       "    </tr>\n",
       "  </thead>\n",
       "  <tbody>\n",
       "    <tr>\n",
       "      <th>0</th>\n",
       "      <td>Apartment</td>\n",
       "      <td>Private room</td>\n",
       "      <td>Private</td>\n",
       "      <td>flexible</td>\n",
       "      <td>Real Bed</td>\n",
       "      <td>Hackney</td>\n",
       "      <td>65.0</td>\n",
       "      <td>2.0</td>\n",
       "      <td>1.5</td>\n",
       "      <td>92.0</td>\n",
       "      <td>...</td>\n",
       "      <td>7.291656</td>\n",
       "      <td>53.168250</td>\n",
       "      <td>387.684602</td>\n",
       "      <td>2152089.0</td>\n",
       "      <td>3.157115e+09</td>\n",
       "      <td>4.521789</td>\n",
       "      <td>1.0</td>\n",
       "      <td>0</td>\n",
       "      <td>0</td>\n",
       "      <td>0</td>\n",
       "    </tr>\n",
       "    <tr>\n",
       "      <th>1</th>\n",
       "      <td>House</td>\n",
       "      <td>Private room</td>\n",
       "      <td>Private</td>\n",
       "      <td>moderate</td>\n",
       "      <td>Real Bed</td>\n",
       "      <td>Hackney</td>\n",
       "      <td>30.0</td>\n",
       "      <td>2.0</td>\n",
       "      <td>3.0</td>\n",
       "      <td>90.0</td>\n",
       "      <td>...</td>\n",
       "      <td>6.352629</td>\n",
       "      <td>40.355900</td>\n",
       "      <td>256.366078</td>\n",
       "      <td>328329.0</td>\n",
       "      <td>1.881325e+08</td>\n",
       "      <td>4.499810</td>\n",
       "      <td>1.0</td>\n",
       "      <td>0</td>\n",
       "      <td>0</td>\n",
       "      <td>0</td>\n",
       "    </tr>\n",
       "    <tr>\n",
       "      <th>2</th>\n",
       "      <td>Apartment</td>\n",
       "      <td>Private room</td>\n",
       "      <td>Private</td>\n",
       "      <td>moderate</td>\n",
       "      <td>Couch</td>\n",
       "      <td>Hackney</td>\n",
       "      <td>150.0</td>\n",
       "      <td>7.0</td>\n",
       "      <td>1.5</td>\n",
       "      <td>97.0</td>\n",
       "      <td>...</td>\n",
       "      <td>7.461640</td>\n",
       "      <td>55.676077</td>\n",
       "      <td>415.434868</td>\n",
       "      <td>3024121.0</td>\n",
       "      <td>5.258946e+09</td>\n",
       "      <td>4.574711</td>\n",
       "      <td>2.0</td>\n",
       "      <td>0</td>\n",
       "      <td>0</td>\n",
       "      <td>0</td>\n",
       "    </tr>\n",
       "    <tr>\n",
       "      <th>3</th>\n",
       "      <td>House</td>\n",
       "      <td>Private room</td>\n",
       "      <td>Private</td>\n",
       "      <td>moderate</td>\n",
       "      <td>Real Bed</td>\n",
       "      <td>Hackney</td>\n",
       "      <td>29.0</td>\n",
       "      <td>2.0</td>\n",
       "      <td>1.5</td>\n",
       "      <td>94.0</td>\n",
       "      <td>...</td>\n",
       "      <td>6.386879</td>\n",
       "      <td>40.792227</td>\n",
       "      <td>260.535034</td>\n",
       "      <td>351649.0</td>\n",
       "      <td>2.085279e+08</td>\n",
       "      <td>4.543295</td>\n",
       "      <td>1.0</td>\n",
       "      <td>0</td>\n",
       "      <td>0</td>\n",
       "      <td>0</td>\n",
       "    </tr>\n",
       "    <tr>\n",
       "      <th>4</th>\n",
       "      <td>Apartment</td>\n",
       "      <td>Entire home/apt</td>\n",
       "      <td>Entire/Apt</td>\n",
       "      <td>moderate</td>\n",
       "      <td>Real Bed</td>\n",
       "      <td>Hackney</td>\n",
       "      <td>65.0</td>\n",
       "      <td>2.0</td>\n",
       "      <td>1.0</td>\n",
       "      <td>88.0</td>\n",
       "      <td>...</td>\n",
       "      <td>7.288928</td>\n",
       "      <td>53.128467</td>\n",
       "      <td>387.249554</td>\n",
       "      <td>2140369.0</td>\n",
       "      <td>3.131360e+09</td>\n",
       "      <td>4.477337</td>\n",
       "      <td>2.0</td>\n",
       "      <td>0</td>\n",
       "      <td>0</td>\n",
       "      <td>0</td>\n",
       "    </tr>\n",
       "    <tr>\n",
       "      <th>...</th>\n",
       "      <td>...</td>\n",
       "      <td>...</td>\n",
       "      <td>...</td>\n",
       "      <td>...</td>\n",
       "      <td>...</td>\n",
       "      <td>...</td>\n",
       "      <td>...</td>\n",
       "      <td>...</td>\n",
       "      <td>...</td>\n",
       "      <td>...</td>\n",
       "      <td>...</td>\n",
       "      <td>...</td>\n",
       "      <td>...</td>\n",
       "      <td>...</td>\n",
       "      <td>...</td>\n",
       "      <td>...</td>\n",
       "      <td>...</td>\n",
       "      <td>...</td>\n",
       "      <td>...</td>\n",
       "      <td>...</td>\n",
       "      <td>...</td>\n",
       "    </tr>\n",
       "    <tr>\n",
       "      <th>4388</th>\n",
       "      <td>Apartment</td>\n",
       "      <td>Private room</td>\n",
       "      <td>Private</td>\n",
       "      <td>moderate</td>\n",
       "      <td>Real Bed</td>\n",
       "      <td>Hackney</td>\n",
       "      <td>52.0</td>\n",
       "      <td>2.0</td>\n",
       "      <td>1.0</td>\n",
       "      <td>96.0</td>\n",
       "      <td>...</td>\n",
       "      <td>6.102559</td>\n",
       "      <td>37.241221</td>\n",
       "      <td>227.266736</td>\n",
       "      <td>198916.0</td>\n",
       "      <td>8.871654e+07</td>\n",
       "      <td>4.564348</td>\n",
       "      <td>1.0</td>\n",
       "      <td>0</td>\n",
       "      <td>0</td>\n",
       "      <td>0</td>\n",
       "    </tr>\n",
       "    <tr>\n",
       "      <th>4389</th>\n",
       "      <td>Apartment</td>\n",
       "      <td>Entire home/apt</td>\n",
       "      <td>Entire/Apt</td>\n",
       "      <td>flexible</td>\n",
       "      <td>Real Bed</td>\n",
       "      <td>Hackney</td>\n",
       "      <td>69.0</td>\n",
       "      <td>2.0</td>\n",
       "      <td>1.0</td>\n",
       "      <td>89.0</td>\n",
       "      <td>...</td>\n",
       "      <td>5.332719</td>\n",
       "      <td>28.437890</td>\n",
       "      <td>151.651269</td>\n",
       "      <td>42436.0</td>\n",
       "      <td>8.741816e+06</td>\n",
       "      <td>4.488636</td>\n",
       "      <td>3.0</td>\n",
       "      <td>0</td>\n",
       "      <td>0</td>\n",
       "      <td>0</td>\n",
       "    </tr>\n",
       "    <tr>\n",
       "      <th>4390</th>\n",
       "      <td>Apartment</td>\n",
       "      <td>Private room</td>\n",
       "      <td>Private</td>\n",
       "      <td>flexible</td>\n",
       "      <td>Real Bed</td>\n",
       "      <td>Hackney</td>\n",
       "      <td>40.0</td>\n",
       "      <td>2.0</td>\n",
       "      <td>1.0</td>\n",
       "      <td>96.0</td>\n",
       "      <td>...</td>\n",
       "      <td>3.970292</td>\n",
       "      <td>15.763218</td>\n",
       "      <td>62.584576</td>\n",
       "      <td>2704.0</td>\n",
       "      <td>1.406080e+05</td>\n",
       "      <td>4.564348</td>\n",
       "      <td>1.0</td>\n",
       "      <td>0</td>\n",
       "      <td>1</td>\n",
       "      <td>0</td>\n",
       "    </tr>\n",
       "    <tr>\n",
       "      <th>4391</th>\n",
       "      <td>House</td>\n",
       "      <td>Entire home/apt</td>\n",
       "      <td>Entire/Apt</td>\n",
       "      <td>flexible</td>\n",
       "      <td>Real Bed</td>\n",
       "      <td>Hackney</td>\n",
       "      <td>70.0</td>\n",
       "      <td>2.0</td>\n",
       "      <td>1.0</td>\n",
       "      <td>100.0</td>\n",
       "      <td>...</td>\n",
       "      <td>5.407172</td>\n",
       "      <td>29.237507</td>\n",
       "      <td>158.092220</td>\n",
       "      <td>49284.0</td>\n",
       "      <td>1.094105e+07</td>\n",
       "      <td>4.605170</td>\n",
       "      <td>1.0</td>\n",
       "      <td>0</td>\n",
       "      <td>0</td>\n",
       "      <td>0</td>\n",
       "    </tr>\n",
       "    <tr>\n",
       "      <th>4392</th>\n",
       "      <td>Apartment</td>\n",
       "      <td>Entire home/apt</td>\n",
       "      <td>Entire/Apt</td>\n",
       "      <td>moderate</td>\n",
       "      <td>Real Bed</td>\n",
       "      <td>Hackney</td>\n",
       "      <td>220.0</td>\n",
       "      <td>4.0</td>\n",
       "      <td>1.0</td>\n",
       "      <td>93.0</td>\n",
       "      <td>...</td>\n",
       "      <td>7.450661</td>\n",
       "      <td>55.512346</td>\n",
       "      <td>413.603662</td>\n",
       "      <td>2958400.0</td>\n",
       "      <td>5.088448e+09</td>\n",
       "      <td>4.532599</td>\n",
       "      <td>1.0</td>\n",
       "      <td>0</td>\n",
       "      <td>0</td>\n",
       "      <td>0</td>\n",
       "    </tr>\n",
       "  </tbody>\n",
       "</table>\n",
       "<p>4393 rows × 91 columns</p>\n",
       "</div>"
      ],
      "text/plain": [
       "     f_property_type      f_room_type f_room_type2 f_cancellation_policy  \\\n",
       "0          Apartment     Private room      Private              flexible   \n",
       "1              House     Private room      Private              moderate   \n",
       "2          Apartment     Private room      Private              moderate   \n",
       "3              House     Private room      Private              moderate   \n",
       "4          Apartment  Entire home/apt   Entire/Apt              moderate   \n",
       "...              ...              ...          ...                   ...   \n",
       "4388       Apartment     Private room      Private              moderate   \n",
       "4389       Apartment  Entire home/apt   Entire/Apt              flexible   \n",
       "4390       Apartment     Private room      Private              flexible   \n",
       "4391           House  Entire home/apt   Entire/Apt              flexible   \n",
       "4392       Apartment  Entire home/apt   Entire/Apt              moderate   \n",
       "\n",
       "     f_bed_type f_neighbourhood_cleansed  usd_price_day  n_accommodates  \\\n",
       "0      Real Bed                  Hackney           65.0             2.0   \n",
       "1      Real Bed                  Hackney           30.0             2.0   \n",
       "2         Couch                  Hackney          150.0             7.0   \n",
       "3      Real Bed                  Hackney           29.0             2.0   \n",
       "4      Real Bed                  Hackney           65.0             2.0   \n",
       "...         ...                      ...            ...             ...   \n",
       "4388   Real Bed                  Hackney           52.0             2.0   \n",
       "4389   Real Bed                  Hackney           69.0             2.0   \n",
       "4390   Real Bed                  Hackney           40.0             2.0   \n",
       "4391   Real Bed                  Hackney           70.0             2.0   \n",
       "4392   Real Bed                  Hackney          220.0             4.0   \n",
       "\n",
       "      n_bathrooms  n_review_scores_rating  ...  ln_days_since  ln_days_since2  \\\n",
       "0             1.5                    92.0  ...       7.291656       53.168250   \n",
       "1             3.0                    90.0  ...       6.352629       40.355900   \n",
       "2             1.5                    97.0  ...       7.461640       55.676077   \n",
       "3             1.5                    94.0  ...       6.386879       40.792227   \n",
       "4             1.0                    88.0  ...       7.288928       53.128467   \n",
       "...           ...                     ...  ...            ...             ...   \n",
       "4388          1.0                    96.0  ...       6.102559       37.241221   \n",
       "4389          1.0                    89.0  ...       5.332719       28.437890   \n",
       "4390          1.0                    96.0  ...       3.970292       15.763218   \n",
       "4391          1.0                   100.0  ...       5.407172       29.237507   \n",
       "4392          1.0                    93.0  ...       7.450661       55.512346   \n",
       "\n",
       "      ln_days_since3  n_days_since2  n_days_since3  ln_review_scores_rating  \\\n",
       "0         387.684602      2152089.0   3.157115e+09                 4.521789   \n",
       "1         256.366078       328329.0   1.881325e+08                 4.499810   \n",
       "2         415.434868      3024121.0   5.258946e+09                 4.574711   \n",
       "3         260.535034       351649.0   2.085279e+08                 4.543295   \n",
       "4         387.249554      2140369.0   3.131360e+09                 4.477337   \n",
       "...              ...            ...            ...                      ...   \n",
       "4388      227.266736       198916.0   8.871654e+07                 4.564348   \n",
       "4389      151.651269        42436.0   8.741816e+06                 4.488636   \n",
       "4390       62.584576         2704.0   1.406080e+05                 4.564348   \n",
       "4391      158.092220        49284.0   1.094105e+07                 4.605170   \n",
       "4392      413.603662      2958400.0   5.088448e+09                 4.532599   \n",
       "\n",
       "      f_minimum_nights  flag_days_since  flag_review_scores_rating  \\\n",
       "0                  1.0                0                          0   \n",
       "1                  1.0                0                          0   \n",
       "2                  2.0                0                          0   \n",
       "3                  1.0                0                          0   \n",
       "4                  2.0                0                          0   \n",
       "...                ...              ...                        ...   \n",
       "4388               1.0                0                          0   \n",
       "4389               3.0                0                          0   \n",
       "4390               1.0                0                          1   \n",
       "4391               1.0                0                          0   \n",
       "4392               1.0                0                          0   \n",
       "\n",
       "      flag_reviews_per_month  \n",
       "0                          0  \n",
       "1                          0  \n",
       "2                          0  \n",
       "3                          0  \n",
       "4                          0  \n",
       "...                      ...  \n",
       "4388                       0  \n",
       "4389                       0  \n",
       "4390                       0  \n",
       "4391                       0  \n",
       "4392                       0  \n",
       "\n",
       "[4393 rows x 91 columns]"
      ]
     },
     "execution_count": 48,
     "metadata": {},
     "output_type": "execute_result"
    }
   ],
   "source": [
    "data"
   ]
  },
  {
   "cell_type": "markdown",
   "metadata": {},
   "source": [
    "### Setting up models\n",
    "\n",
    "Basic variables"
   ]
  },
  {
   "cell_type": "code",
   "execution_count": null,
   "metadata": {},
   "outputs": [],
   "source": [
    "basic_lev = (\n",
    "    \"n_accommodates\",\n",
    "    \"n_beds\",\n",
    "    \"f_property_type\",\n",
    "    \"f_room_type\",\n",
    "    \"n_days_since\",\n",
    "    \"flag_days_since\",\n",
    ")\n",
    "basic_add = (\"f_bathroom\", \"f_cancellation_policy\", \"f_bed_type\")\n",
    "reviews = (\"f_number_of_reviews\", \"n_review_scores_rating\", \"flag_review_scores_rating\")\n",
    "poly_lev = (\"n_accommodates2\", \"n_days_since2\", \"n_days_since3\")\n",
    "# not use p_host_response_rate due to missing obs\n",
    "amenities = tuple(list(data.filter(regex=\"^d_.*\")))\n"
   ]
  },
  {
   "cell_type": "markdown",
   "metadata": {},
   "source": [
    "### Look for interactions"
   ]
  },
  {
   "cell_type": "markdown",
   "metadata": {},
   "source": [
    "Use custom function `price_diff_by_variables` to calculate price differences by given variables"
   ]
  },
  {
   "cell_type": "code",
   "execution_count": null,
   "metadata": {},
   "outputs": [
    {
     "name": "stdout",
     "output_type": "stream",
     "text": [
      "Help on function price_diff_by_variables in module py_helper_functions:\n",
      "\n",
      "price_diff_by_variables(df: pandas.core.frame.DataFrame, factor_var: str, dummy_var: str, factor_lab: str, dummy_lab: str) -> plotnine.ggplot.ggplot\n",
      "    Price difference by selected factor and dummy variables.\n",
      "\n",
      "    This function creates a barplots looking for interactions.\n",
      "    Used in `ch14-airbnb-prediction.ipynb`.\n",
      "\n",
      "        Parameters\n",
      "    ----------\n",
      "    df : pd.DataFrame\n",
      "        Your dataframe.\n",
      "    factor_var : str\n",
      "        Your factor variable (like room_type).\n",
      "    dummy_var : str\n",
      "        The dummy variable you are interested in (like TV).\n",
      "    factor_lab : str\n",
      "        The label on the final plot for the `factor_var`.\n",
      "    dummy_lab : str\n",
      "        The label on the final plot for the `dummy_var`.\n",
      "\n"
     ]
    }
   ],
   "source": [
    "help(price_diff_by_variables)"
   ]
  },
  {
   "cell_type": "markdown",
   "metadata": {},
   "source": [
    "Room type"
   ]
  },
  {
   "cell_type": "code",
   "execution_count": null,
   "metadata": {},
   "outputs": [],
   "source": [
    "p1 = price_diff_by_variables(\n",
    "    data, \"f_room_type\", \"d_familykidfriendly\", \"Room type\", \"Family kid friendly\"\n",
    ")\n",
    "p2 = price_diff_by_variables(\n",
    "    data, \"f_room_type\", \"f_property_type\", \"Room type\", \"Property type\"\n",
    ")"
   ]
  },
  {
   "cell_type": "markdown",
   "metadata": {},
   "source": [
    "Look up canelation policy\n"
   ]
  },
  {
   "cell_type": "code",
   "execution_count": null,
   "metadata": {},
   "outputs": [],
   "source": [
    "p3 = price_diff_by_variables(\n",
    "    data,\n",
    "    \"f_cancellation_policy\",\n",
    "    \"d_familykidfriendly\",\n",
    "    \"Cancellation policy\",\n",
    "    \"Family kid friendly\",\n",
    ")\n",
    "p4 = price_diff_by_variables(\n",
    "    data, \"f_cancellation_policy\", \"d_tv\", \"Cancellation policy\", \"TV\"\n",
    ")"
   ]
  },
  {
   "cell_type": "markdown",
   "metadata": {},
   "source": [
    "Look up property type"
   ]
  },
  {
   "cell_type": "code",
   "execution_count": null,
   "metadata": {},
   "outputs": [],
   "source": [
    "p5 = price_diff_by_variables(data, \"f_property_type\", \"d_cats\", \"Property type\", \"Cats\")\n",
    "\n",
    "p6 = price_diff_by_variables(data, \"f_property_type\", \"d_dogs\", \"Property type\", \"Dogs\")"
   ]
  },
  {
   "cell_type": "code",
   "execution_count": null,
   "metadata": {},
   "outputs": [],
   "source": [
    "g1 = pw.load_ggplot(p1, figsize=(3, 3))\n",
    "g2 = pw.load_ggplot(p2, figsize=(3, 3))\n",
    "g3 = pw.load_ggplot(p3, figsize=(3, 3))\n",
    "g4 = pw.load_ggplot(p4, figsize=(3, 3))\n",
    "g5 = pw.load_ggplot(p5, figsize=(3, 3))\n",
    "g6 = pw.load_ggplot(p6, figsize=(3, 3))\n",
    "\n",
    "interactions = (g1 | g2) / (g3 | g4 ) / (g5 | g6)"
   ]
  },
  {
   "cell_type": "code",
   "execution_count": null,
   "metadata": {},
   "outputs": [
    {
     "data": {
      "image/png": "[encoded data removed]",
      "text/plain": [
       "<Figure size 100x100 with 17 Axes>"
      ]
     },
     "execution_count": 89,
     "metadata": {},
     "output_type": "execute_result"
    }
   ],
   "source": [
    "interactions.savefig()"
   ]
  },
  {
   "cell_type": "markdown",
   "metadata": {},
   "source": [
    "Dummies suggested by graphs"
   ]
  },
  {
   "cell_type": "code",
   "execution_count": null,
   "metadata": {},
   "outputs": [],
   "source": [
    "X1 = (\"f_room_type*f_property_type\", \"f_room_type*d_familykidfriendly\")"
   ]
  },
  {
   "cell_type": "markdown",
   "metadata": {},
   "source": [
    " Additional interactions of factors and dummies"
   ]
  },
  {
   "cell_type": "code",
   "execution_count": null,
   "metadata": {},
   "outputs": [],
   "source": [
    "X2 = (\n",
    "    \"d_airconditioning*f_property_type\",\n",
    "    \"d_cats*f_property_type\",\n",
    "    \"d_dogs*f_property_type\",\n",
    ")\n",
    "X3 = (\n",
    "    \"(f_property_type + f_room_type + f_cancellation_policy + f_bed_type) * (\"\n",
    "    + \"+\".join(amenities)\n",
    "    + \")\"\n",
    ")\n"
   ]
  },
  {
   "cell_type": "markdown",
   "metadata": {},
   "source": [
    "Create estimation equations"
   ]
  },
  {
   "cell_type": "code",
   "execution_count": null,
   "metadata": {},
   "outputs": [],
   "source": [
    "modellev1 = \"~ n_accommodates\"\n",
    "modellev2 = \"~\" + \" + \".join(basic_lev)\n",
    "modellev3 = \"~\" + \" + \".join(basic_lev + basic_add + reviews)\n",
    "modellev4 = \"~\" + \" + \".join(basic_lev + basic_add + reviews + poly_lev)\n",
    "modellev5 = \"~\" + \" + \".join(basic_lev + basic_add + reviews + poly_lev + X1)\n",
    "modellev6 = \"~\" + \" + \".join(basic_lev + basic_add + reviews + poly_lev + X1 + X2)\n",
    "modellev7 = \"~\" + \" + \".join(\n",
    "    basic_lev + basic_add + reviews + poly_lev + X1 + X2 + amenities\n",
    ")\n",
    "modellev8 = (\n",
    "    \"~\"\n",
    "    + \"+\".join(basic_lev + basic_add + reviews + poly_lev + X1 + X2 + amenities)\n",
    "    + \"+\"\n",
    "    + X3\n",
    ")\n",
    "\n",
    "model_equations = [\n",
    "    modellev1,\n",
    "    modellev2,\n",
    "    modellev3,\n",
    "    modellev4,\n",
    "    modellev5,\n",
    "    modellev6,\n",
    "    modellev7,\n",
    "    modellev8,\n",
    "]"
   ]
  },
  {
   "cell_type": "markdown",
   "metadata": {},
   "source": [
    "### Create separate holdout set"
   ]
  },
  {
   "cell_type": "code",
   "execution_count": null,
   "metadata": {},
   "outputs": [],
   "source": [
    "sample_size = round(0.2 * data.shape[0]) - 1"
   ]
  },
  {
   "cell_type": "markdown",
   "metadata": {},
   "source": [
    " Set the random number generator: It will make results reproducable"
   ]
  },
  {
   "cell_type": "code",
   "execution_count": null,
   "metadata": {},
   "outputs": [],
   "source": [
    "np.random.seed(20180123)"
   ]
  },
  {
   "cell_type": "code",
   "execution_count": null,
   "metadata": {},
   "outputs": [],
   "source": [
    "from sklearn.model_selection import train_test_split\n",
    "\n",
    "data_work, data_holdout = train_test_split(data, test_size=sample_size)"
   ]
  },
  {
   "cell_type": "markdown",
   "metadata": {},
   "source": [
    "### Crossvalidation"
   ]
  },
  {
   "cell_type": "markdown",
   "metadata": {},
   "source": [
    "Use custom function `ols_crossvalidator` for cross validation"
   ]
  },
  {
   "cell_type": "code",
   "execution_count": null,
   "metadata": {},
   "outputs": [
    {
     "name": "stdout",
     "output_type": "stream",
     "text": [
      "Help on function ols_crossvalidator in module py_helper_functions:\n",
      "\n",
      "ols_crossvalidator(formula: str, data: pandas.core.frame.DataFrame, n_folds=5, average_rmse=True) -> dict\n",
      "    OLS cross-validator\n",
      "\n",
      "\n",
      "    Estimates `formula` equation with OLS and returns values of RMSE, R`2, No. coefficients,\n",
      "    BIC on `data`. Does k-fold cross-validation and either returns train and test RMSE for each\n",
      "    fold, or return averarage train and test RMSEs.\n",
      "\n",
      "    Parameters\n",
      "    ----------\n",
      "    formula : str\n",
      "        Equation that is estimated by OLS.\n",
      "    data : pd.DataFrame\n",
      "        Database in a wide format.\n",
      "    n_folds : int, default=5\n",
      "        Number of folds. Must be at least 2.\n",
      "    average_rmse : bool, default=True\n",
      "        Whether to return the average train and test RMSE of the k-fold CV, or return\n",
      "        train and test RMSE-s for each fold.\n",
      "\n"
     ]
    }
   ],
   "source": [
    "help(ols_crossvalidator)"
   ]
  },
  {
   "cell_type": "markdown",
   "metadata": {},
   "source": [
    "Set number of folds"
   ]
  },
  {
   "cell_type": "code",
   "execution_count": null,
   "metadata": {},
   "outputs": [],
   "source": [
    "n_folds = 5"
   ]
  },
  {
   "cell_type": "markdown",
   "metadata": {},
   "source": [
    "Cross validate for each model and save results in `cv_list`"
   ]
  },
  {
   "cell_type": "code",
   "execution_count": null,
   "metadata": {},
   "outputs": [],
   "source": [
    "cv_list = []\n",
    "for model in model_equations:\n",
    "    cv_list += [ols_crossvalidator(\"price\" + model, data_work, n_folds)]"
   ]
  },
  {
   "cell_type": "markdown",
   "metadata": {},
   "source": [
    "### Table 14.3 Comparing model fit measures"
   ]
  },
  {
   "cell_type": "code",
   "execution_count": null,
   "metadata": {},
   "outputs": [
    {
     "data": {
      "text/html": [
       "<div>\n",
       "<style scoped>\n",
       "    .dataframe tbody tr th:only-of-type {\n",
       "        vertical-align: middle;\n",
       "    }\n",
       "\n",
       "    .dataframe tbody tr th {\n",
       "        vertical-align: top;\n",
       "    }\n",
       "\n",
       "    .dataframe thead th {\n",
       "        text-align: right;\n",
       "    }\n",
       "</style>\n",
       "<table border=\"1\" class=\"dataframe\">\n",
       "  <thead>\n",
       "    <tr style=\"text-align: right;\">\n",
       "      <th></th>\n",
       "      <th>Model</th>\n",
       "      <th>Coefficients</th>\n",
       "      <th>R-squared</th>\n",
       "      <th>BIC</th>\n",
       "      <th>Training RMSE</th>\n",
       "      <th>Test RMSE</th>\n",
       "    </tr>\n",
       "  </thead>\n",
       "  <tbody>\n",
       "    <tr>\n",
       "      <th>0</th>\n",
       "      <td>M1</td>\n",
       "      <td>2</td>\n",
       "      <td>0.40</td>\n",
       "      <td>36132</td>\n",
       "      <td>41.18</td>\n",
       "      <td>40.96</td>\n",
       "    </tr>\n",
       "    <tr>\n",
       "      <th>1</th>\n",
       "      <td>M2</td>\n",
       "      <td>8</td>\n",
       "      <td>0.48</td>\n",
       "      <td>35703</td>\n",
       "      <td>38.46</td>\n",
       "      <td>38.23</td>\n",
       "    </tr>\n",
       "    <tr>\n",
       "      <th>2</th>\n",
       "      <td>M3</td>\n",
       "      <td>15</td>\n",
       "      <td>0.51</td>\n",
       "      <td>35563</td>\n",
       "      <td>37.38</td>\n",
       "      <td>37.26</td>\n",
       "    </tr>\n",
       "    <tr>\n",
       "      <th>3</th>\n",
       "      <td>M4</td>\n",
       "      <td>18</td>\n",
       "      <td>0.51</td>\n",
       "      <td>35551</td>\n",
       "      <td>37.18</td>\n",
       "      <td>37.15</td>\n",
       "    </tr>\n",
       "    <tr>\n",
       "      <th>4</th>\n",
       "      <td>M5</td>\n",
       "      <td>23</td>\n",
       "      <td>0.52</td>\n",
       "      <td>35575</td>\n",
       "      <td>37.09</td>\n",
       "      <td>37.07</td>\n",
       "    </tr>\n",
       "    <tr>\n",
       "      <th>5</th>\n",
       "      <td>M6</td>\n",
       "      <td>29</td>\n",
       "      <td>0.52</td>\n",
       "      <td>35607</td>\n",
       "      <td>36.99</td>\n",
       "      <td>37.03</td>\n",
       "    </tr>\n",
       "    <tr>\n",
       "      <th>6</th>\n",
       "      <td>M7</td>\n",
       "      <td>74</td>\n",
       "      <td>0.54</td>\n",
       "      <td>35775</td>\n",
       "      <td>35.92</td>\n",
       "      <td>36.49</td>\n",
       "    </tr>\n",
       "    <tr>\n",
       "      <th>7</th>\n",
       "      <td>M8</td>\n",
       "      <td>310</td>\n",
       "      <td>0.57</td>\n",
       "      <td>37458</td>\n",
       "      <td>34.45</td>\n",
       "      <td>38.71</td>\n",
       "    </tr>\n",
       "  </tbody>\n",
       "</table>\n",
       "</div>"
      ],
      "text/plain": [
       "  Model  Coefficients  R-squared    BIC  Training RMSE  Test RMSE\n",
       "0    M1             2       0.40  36132          41.18      40.96\n",
       "1    M2             8       0.48  35703          38.46      38.23\n",
       "2    M3            15       0.51  35563          37.38      37.26\n",
       "3    M4            18       0.51  35551          37.18      37.15\n",
       "4    M5            23       0.52  35575          37.09      37.07\n",
       "5    M6            29       0.52  35607          36.99      37.03\n",
       "6    M7            74       0.54  35775          35.92      36.49\n",
       "7    M8           310       0.57  37458          34.45      38.71"
      ]
     },
     "execution_count": 99,
     "metadata": {},
     "output_type": "execute_result"
    }
   ],
   "source": [
    "compare_model_fits = (\n",
    "    pd.DataFrame(cv_list)\n",
    "    .round(2)\n",
    "    .assign(\n",
    "        Model=[\"M\" + str(i + 1) for i in range(len(cv_list))],\n",
    "        BIC=lambda x: x[\"BIC\"].astype(int),\n",
    "        Coefficients=lambda x: x[\"Coefficients\"].astype(int),\n",
    "    )\n",
    "    .filter([\"Model\", \"Coefficients\", \"R-squared\", \"BIC\", \"Training RMSE\", \"Test RMSE\"])\n",
    ")\n",
    "compare_model_fits"
   ]
  },
  {
   "cell_type": "markdown",
   "metadata": {},
   "source": [
    "### Figure 14.7 Training and test set RMSE for the eight regression models"
   ]
  },
  {
   "cell_type": "code",
   "execution_count": null,
   "metadata": {},
   "outputs": [
    {
     "data": {
      "image/png": "[encoded data removed]",
      "text/plain": [
       "<Figure size 640x480 with 1 Axes>"
      ]
     },
     "metadata": {},
     "output_type": "display_data"
    },
    {
     "data": {
      "text/plain": [
       "<Figure Size: (640 x 480)>"
      ]
     },
     "execution_count": 100,
     "metadata": {},
     "output_type": "execute_result"
    }
   ],
   "source": [
    "(\n",
    "    ggplot(\n",
    "        compare_model_fits.melt(\n",
    "            id_vars=\"Coefficients\", value_vars=[\"Training RMSE\", \"Test RMSE\"]\n",
    "        ),\n",
    "        aes(x=\"factor(Coefficients)\", y=\"value\", color=\"variable\", group=\"variable\"),\n",
    "    )\n",
    "    + geom_line(size=1, show_legend=True, na_rm=True)\n",
    "    + scale_color_manual(name=\" \", values=(color[0], color[1]))\n",
    "    + scale_y_continuous(name=\"RMSE\", limits=(30, 43), breaks=np.arange(30, 44, 2))\n",
    "    + scale_x_discrete(name=\"Number of coefficients\", expand=(0.01, 0.01))\n",
    "    + theme_bw()\n",
    ")"
   ]
  },
  {
   "cell_type": "markdown",
   "metadata": {},
   "source": [
    "**NOTE:** Because the way we created the work and holdout sets relies on randomization, these results (eg. the number of coefficients) differ from R and book results. Even running the cross validation with exactly the same work set would result in slightly different RMSE results because we cannot control for the randomisation within the cross validation. Using exactly the same work set as R, the number of coefficients match though."
   ]
  },
  {
   "cell_type": "markdown",
   "metadata": {},
   "source": [
    "### Lasso"
   ]
  },
  {
   "cell_type": "code",
   "execution_count": null,
   "metadata": {},
   "outputs": [],
   "source": [
    "from sklearn.linear_model import LassoCV\n",
    "from sklearn.preprocessing import StandardScaler"
   ]
  },
  {
   "cell_type": "markdown",
   "metadata": {},
   "source": [
    "Define Lasso equation from most complicated model"
   ]
  },
  {
   "cell_type": "code",
   "execution_count": null,
   "metadata": {},
   "outputs": [],
   "source": [
    "vars_model_8 = modellev8"
   ]
  },
  {
   "cell_type": "markdown",
   "metadata": {},
   "source": [
    "Define range for lambdas – the algo will look only in this set"
   ]
  },
  {
   "cell_type": "code",
   "execution_count": null,
   "metadata": {},
   "outputs": [
    {
     "name": "stdout",
     "output_type": "stream",
     "text": [
      "[0.05 0.1  0.15 0.2  0.25 0.3  0.35 0.4  0.45 0.5  0.55 0.6  0.65 0.7\n",
      " 0.75 0.8  0.85 0.9  0.95 1.  ]\n"
     ]
    }
   ],
   "source": [
    "lambdas = np.arange(0.05, 1.01, 0.05)\n",
    "print(lambdas)"
   ]
  },
  {
   "cell_type": "markdown",
   "metadata": {},
   "source": [
    "To cross-validate lambda-s (which is Lasso's hyperparameter) one has to standardise the feature matrix."
   ]
  },
  {
   "cell_type": "code",
   "execution_count": null,
   "metadata": {},
   "outputs": [],
   "source": [
    "y, X = patsy.dmatrices(\"price\" + vars_model_8, data_work)\n",
    "X_featnames = X.design_info.column_names\n",
    "scaler = StandardScaler()\n",
    "X = scaler.fit_transform(X)"
   ]
  },
  {
   "cell_type": "code",
   "execution_count": null,
   "metadata": {},
   "outputs": [],
   "source": [
    "lasso_fit = LassoCV(alphas=lambdas, cv=5, random_state=42).fit(X, y)"
   ]
  },
  {
   "cell_type": "markdown",
   "metadata": {},
   "source": [
    "Best alpha the algorithm found"
   ]
  },
  {
   "cell_type": "code",
   "execution_count": null,
   "metadata": {},
   "outputs": [
    {
     "data": {
      "text/plain": [
       "0.35000000000000003"
      ]
     },
     "execution_count": 109,
     "metadata": {},
     "output_type": "execute_result"
    }
   ],
   "source": [
    "lasso_fit.alpha_"
   ]
  },
  {
   "cell_type": "code",
   "execution_count": null,
   "metadata": {},
   "outputs": [
    {
     "data": {
      "text/html": [
       "<div>\n",
       "<style scoped>\n",
       "    .dataframe tbody tr th:only-of-type {\n",
       "        vertical-align: middle;\n",
       "    }\n",
       "\n",
       "    .dataframe tbody tr th {\n",
       "        vertical-align: top;\n",
       "    }\n",
       "\n",
       "    .dataframe thead th {\n",
       "        text-align: right;\n",
       "    }\n",
       "</style>\n",
       "<table border=\"1\" class=\"dataframe\">\n",
       "  <thead>\n",
       "    <tr style=\"text-align: right;\">\n",
       "      <th></th>\n",
       "      <th>Test RMSE</th>\n",
       "    </tr>\n",
       "  </thead>\n",
       "  <tbody>\n",
       "    <tr>\n",
       "      <th>1.00</th>\n",
       "      <td>36.52</td>\n",
       "    </tr>\n",
       "    <tr>\n",
       "      <th>0.95</th>\n",
       "      <td>36.49</td>\n",
       "    </tr>\n",
       "    <tr>\n",
       "      <th>0.90</th>\n",
       "      <td>36.47</td>\n",
       "    </tr>\n",
       "    <tr>\n",
       "      <th>0.85</th>\n",
       "      <td>36.45</td>\n",
       "    </tr>\n",
       "    <tr>\n",
       "      <th>0.80</th>\n",
       "      <td>36.43</td>\n",
       "    </tr>\n",
       "    <tr>\n",
       "      <th>0.75</th>\n",
       "      <td>36.41</td>\n",
       "    </tr>\n",
       "    <tr>\n",
       "      <th>0.70</th>\n",
       "      <td>36.39</td>\n",
       "    </tr>\n",
       "    <tr>\n",
       "      <th>0.65</th>\n",
       "      <td>36.38</td>\n",
       "    </tr>\n",
       "    <tr>\n",
       "      <th>0.60</th>\n",
       "      <td>36.37</td>\n",
       "    </tr>\n",
       "    <tr>\n",
       "      <th>0.55</th>\n",
       "      <td>36.37</td>\n",
       "    </tr>\n",
       "    <tr>\n",
       "      <th>0.50</th>\n",
       "      <td>36.36</td>\n",
       "    </tr>\n",
       "    <tr>\n",
       "      <th>0.45</th>\n",
       "      <td>36.35</td>\n",
       "    </tr>\n",
       "    <tr>\n",
       "      <th>0.40</th>\n",
       "      <td>36.34</td>\n",
       "    </tr>\n",
       "    <tr>\n",
       "      <th>0.35</th>\n",
       "      <td>36.33</td>\n",
       "    </tr>\n",
       "    <tr>\n",
       "      <th>0.30</th>\n",
       "      <td>36.34</td>\n",
       "    </tr>\n",
       "    <tr>\n",
       "      <th>0.25</th>\n",
       "      <td>36.37</td>\n",
       "    </tr>\n",
       "    <tr>\n",
       "      <th>0.20</th>\n",
       "      <td>36.45</td>\n",
       "    </tr>\n",
       "    <tr>\n",
       "      <th>0.15</th>\n",
       "      <td>36.58</td>\n",
       "    </tr>\n",
       "    <tr>\n",
       "      <th>0.10</th>\n",
       "      <td>36.75</td>\n",
       "    </tr>\n",
       "    <tr>\n",
       "      <th>0.05</th>\n",
       "      <td>37.07</td>\n",
       "    </tr>\n",
       "  </tbody>\n",
       "</table>\n",
       "</div>"
      ],
      "text/plain": [
       "      Test RMSE\n",
       "1.00      36.52\n",
       "0.95      36.49\n",
       "0.90      36.47\n",
       "0.85      36.45\n",
       "0.80      36.43\n",
       "0.75      36.41\n",
       "0.70      36.39\n",
       "0.65      36.38\n",
       "0.60      36.37\n",
       "0.55      36.37\n",
       "0.50      36.36\n",
       "0.45      36.35\n",
       "0.40      36.34\n",
       "0.35      36.33\n",
       "0.30      36.34\n",
       "0.25      36.37\n",
       "0.20      36.45\n",
       "0.15      36.58\n",
       "0.10      36.75\n",
       "0.05      37.07"
      ]
     },
     "execution_count": 110,
     "metadata": {},
     "output_type": "execute_result"
    }
   ],
   "source": [
    "rmse_lambda_folds = (\n",
    "    pd.DataFrame(lasso_fit.mse_path_, index=lambdas[::-1])\n",
    "    .apply(np.sqrt)\n",
    "    .mean(axis=1)\n",
    "    .to_frame(name=\"Test RMSE\")\n",
    "    .round(2)\n",
    ")\n",
    "rmse_lambda_folds"
   ]
  },
  {
   "cell_type": "markdown",
   "metadata": {},
   "source": [
    "Non-zero coefficients"
   ]
  },
  {
   "cell_type": "code",
   "execution_count": null,
   "metadata": {},
   "outputs": [
    {
     "data": {
      "text/html": [
       "<div>\n",
       "<style scoped>\n",
       "    .dataframe tbody tr th:only-of-type {\n",
       "        vertical-align: middle;\n",
       "    }\n",
       "\n",
       "    .dataframe tbody tr th {\n",
       "        vertical-align: top;\n",
       "    }\n",
       "\n",
       "    .dataframe thead th {\n",
       "        text-align: right;\n",
       "    }\n",
       "</style>\n",
       "<table border=\"1\" class=\"dataframe\">\n",
       "  <thead>\n",
       "    <tr style=\"text-align: right;\">\n",
       "      <th></th>\n",
       "      <th>coefficient</th>\n",
       "    </tr>\n",
       "  </thead>\n",
       "  <tbody>\n",
       "    <tr>\n",
       "      <th>f_room_type[T.Private room]</th>\n",
       "      <td>-13.159</td>\n",
       "    </tr>\n",
       "    <tr>\n",
       "      <th>f_room_type[T.Shared room]</th>\n",
       "      <td>-2.401</td>\n",
       "    </tr>\n",
       "    <tr>\n",
       "      <th>f_bed_type[T.Real Bed]</th>\n",
       "      <td>0.355</td>\n",
       "    </tr>\n",
       "    <tr>\n",
       "      <th>f_room_type[T.Private room]:f_property_type[T.House]</th>\n",
       "      <td>-2.373</td>\n",
       "    </tr>\n",
       "    <tr>\n",
       "      <th>n_days_since</th>\n",
       "      <td>0.786</td>\n",
       "    </tr>\n",
       "    <tr>\n",
       "      <th>...</th>\n",
       "      <td>...</td>\n",
       "    </tr>\n",
       "    <tr>\n",
       "      <th>f_room_type[T.Shared room]:d_washer</th>\n",
       "      <td>-0.017</td>\n",
       "    </tr>\n",
       "    <tr>\n",
       "      <th>d_washerdryer</th>\n",
       "      <td>2.944</td>\n",
       "    </tr>\n",
       "    <tr>\n",
       "      <th>f_cancellation_policy[T.moderate]:d_wheelchairaccessible</th>\n",
       "      <td>-0.053</td>\n",
       "    </tr>\n",
       "    <tr>\n",
       "      <th>f_cancellation_policy[T.strict]:d_wheelchairaccessible</th>\n",
       "      <td>0.734</td>\n",
       "    </tr>\n",
       "    <tr>\n",
       "      <th>f_room_type[T.Shared room]:d_wirelessinternet</th>\n",
       "      <td>-0.442</td>\n",
       "    </tr>\n",
       "  </tbody>\n",
       "</table>\n",
       "<p>107 rows × 1 columns</p>\n",
       "</div>"
      ],
      "text/plain": [
       "                                                    coefficient\n",
       "f_room_type[T.Private room]                             -13.159\n",
       "f_room_type[T.Shared room]                               -2.401\n",
       "f_bed_type[T.Real Bed]                                    0.355\n",
       "f_room_type[T.Private room]:f_property_type[T.H...       -2.373\n",
       "n_days_since                                              0.786\n",
       "...                                                         ...\n",
       "f_room_type[T.Shared room]:d_washer                      -0.017\n",
       "d_washerdryer                                             2.944\n",
       "f_cancellation_policy[T.moderate]:d_wheelchaira...       -0.053\n",
       "f_cancellation_policy[T.strict]:d_wheelchairacc...        0.734\n",
       "f_room_type[T.Shared room]:d_wirelessinternet            -0.442\n",
       "\n",
       "[107 rows x 1 columns]"
      ]
     },
     "execution_count": 111,
     "metadata": {},
     "output_type": "execute_result"
    }
   ],
   "source": [
    "notnull_lasso_coefs = (\n",
    "    pd.DataFrame(lasso_fit.coef_, index=X_featnames, columns=[\"coefficient\"])\n",
    "    .loc[lambda x: x[\"coefficient\"].round(3) != 0]\n",
    "    .round(3)\n",
    ")\n",
    "notnull_lasso_coefs"
   ]
  },
  {
   "cell_type": "code",
   "execution_count": null,
   "metadata": {},
   "outputs": [
    {
     "data": {
      "text/html": [
       "<div>\n",
       "<style scoped>\n",
       "    .dataframe tbody tr th:only-of-type {\n",
       "        vertical-align: middle;\n",
       "    }\n",
       "\n",
       "    .dataframe tbody tr th {\n",
       "        vertical-align: top;\n",
       "    }\n",
       "\n",
       "    .dataframe thead th {\n",
       "        text-align: right;\n",
       "    }\n",
       "</style>\n",
       "<table border=\"1\" class=\"dataframe\">\n",
       "  <thead>\n",
       "    <tr style=\"text-align: right;\">\n",
       "      <th></th>\n",
       "      <th>Model</th>\n",
       "      <th>Coefficients</th>\n",
       "      <th>R-squared</th>\n",
       "      <th>BIC</th>\n",
       "      <th>Training RMSE</th>\n",
       "      <th>Test RMSE</th>\n",
       "    </tr>\n",
       "  </thead>\n",
       "  <tbody>\n",
       "    <tr>\n",
       "      <th>0</th>\n",
       "      <td>M1</td>\n",
       "      <td>2.0</td>\n",
       "      <td>0.40</td>\n",
       "      <td>36132.0</td>\n",
       "      <td>41.18</td>\n",
       "      <td>40.96</td>\n",
       "    </tr>\n",
       "    <tr>\n",
       "      <th>1</th>\n",
       "      <td>M2</td>\n",
       "      <td>8.0</td>\n",
       "      <td>0.48</td>\n",
       "      <td>35703.0</td>\n",
       "      <td>38.46</td>\n",
       "      <td>38.23</td>\n",
       "    </tr>\n",
       "    <tr>\n",
       "      <th>2</th>\n",
       "      <td>M3</td>\n",
       "      <td>15.0</td>\n",
       "      <td>0.51</td>\n",
       "      <td>35563.0</td>\n",
       "      <td>37.38</td>\n",
       "      <td>37.26</td>\n",
       "    </tr>\n",
       "    <tr>\n",
       "      <th>3</th>\n",
       "      <td>M4</td>\n",
       "      <td>18.0</td>\n",
       "      <td>0.51</td>\n",
       "      <td>35551.0</td>\n",
       "      <td>37.18</td>\n",
       "      <td>37.15</td>\n",
       "    </tr>\n",
       "    <tr>\n",
       "      <th>4</th>\n",
       "      <td>M5</td>\n",
       "      <td>23.0</td>\n",
       "      <td>0.52</td>\n",
       "      <td>35575.0</td>\n",
       "      <td>37.09</td>\n",
       "      <td>37.07</td>\n",
       "    </tr>\n",
       "    <tr>\n",
       "      <th>5</th>\n",
       "      <td>M6</td>\n",
       "      <td>29.0</td>\n",
       "      <td>0.52</td>\n",
       "      <td>35607.0</td>\n",
       "      <td>36.99</td>\n",
       "      <td>37.03</td>\n",
       "    </tr>\n",
       "    <tr>\n",
       "      <th>6</th>\n",
       "      <td>M7</td>\n",
       "      <td>74.0</td>\n",
       "      <td>0.54</td>\n",
       "      <td>35775.0</td>\n",
       "      <td>35.92</td>\n",
       "      <td>36.49</td>\n",
       "    </tr>\n",
       "    <tr>\n",
       "      <th>7</th>\n",
       "      <td>M8</td>\n",
       "      <td>310.0</td>\n",
       "      <td>0.57</td>\n",
       "      <td>37458.0</td>\n",
       "      <td>34.45</td>\n",
       "      <td>38.71</td>\n",
       "    </tr>\n",
       "    <tr>\n",
       "      <th>8</th>\n",
       "      <td>Lasso</td>\n",
       "      <td>107.0</td>\n",
       "      <td>NaN</td>\n",
       "      <td>NaN</td>\n",
       "      <td>NaN</td>\n",
       "      <td>36.33</td>\n",
       "    </tr>\n",
       "  </tbody>\n",
       "</table>\n",
       "</div>"
      ],
      "text/plain": [
       "   Model  Coefficients  R-squared      BIC  Training RMSE  Test RMSE\n",
       "0     M1           2.0       0.40  36132.0          41.18      40.96\n",
       "1     M2           8.0       0.48  35703.0          38.46      38.23\n",
       "2     M3          15.0       0.51  35563.0          37.38      37.26\n",
       "3     M4          18.0       0.51  35551.0          37.18      37.15\n",
       "4     M5          23.0       0.52  35575.0          37.09      37.07\n",
       "5     M6          29.0       0.52  35607.0          36.99      37.03\n",
       "6     M7          74.0       0.54  35775.0          35.92      36.49\n",
       "7     M8         310.0       0.57  37458.0          34.45      38.71\n",
       "8  Lasso         107.0        NaN      NaN            NaN      36.33"
      ]
     },
     "execution_count": 112,
     "metadata": {},
     "output_type": "execute_result"
    }
   ],
   "source": [
    "compare_model_fits.loc[8, :] = {\n",
    "    \"Model\": \"Lasso\",\n",
    "    \"Coefficients\": notnull_lasso_coefs.shape[0],\n",
    "    \"Test RMSE\": rmse_lambda_folds.loc[lasso_fit.alpha_].round(2).values[0],\n",
    "}\n",
    "\n",
    "compare_model_fits"
   ]
  },
  {
   "cell_type": "markdown",
   "metadata": {},
   "source": [
    "The overall RMSE across the five test sets for the LASSO regression is 36.3. It is 36.49 for M7,\n",
    "suggesting that our hand-picked M7 is almost as good as the LASSO regression. Our decision is to have the model M7 as our preferred\n",
    "model, because it may be easier to explain which variables are included."
   ]
  },
  {
   "cell_type": "markdown",
   "metadata": {},
   "source": [
    "### Part3\n",
    "\n",
    "#### Model diagnostics"
   ]
  },
  {
   "cell_type": "code",
   "execution_count": null,
   "metadata": {},
   "outputs": [],
   "source": [
    "model7 = smf.ols(\"price\" + modellev7, data=data_work).fit()"
   ]
  },
  {
   "cell_type": "markdown",
   "metadata": {},
   "source": [
    "Save the predicted values of model 7 ton data_holdout"
   ]
  },
  {
   "cell_type": "code",
   "execution_count": null,
   "metadata": {},
   "outputs": [],
   "source": [
    "data_holdout[\"predicted_price\"] = model7.predict(data_holdout)"
   ]
  },
  {
   "cell_type": "markdown",
   "metadata": {},
   "source": [
    "Look at holdout RMSE of M7"
   ]
  },
  {
   "cell_type": "code",
   "execution_count": null,
   "metadata": {},
   "outputs": [
    {
     "data": {
      "text/plain": [
       "37.37301355724473"
      ]
     },
     "execution_count": 115,
     "metadata": {},
     "output_type": "execute_result"
    }
   ],
   "source": [
    "rmse(data_holdout[\"predicted_price\"], data_holdout[\"price\"])"
   ]
  },
  {
   "cell_type": "markdown",
   "metadata": {},
   "source": [
    "work set RMSE refitted on the whole work set"
   ]
  },
  {
   "cell_type": "code",
   "execution_count": null,
   "metadata": {},
   "outputs": [
    {
     "data": {
      "text/plain": [
       "36.02053192939207"
      ]
     },
     "execution_count": 116,
     "metadata": {},
     "output_type": "execute_result"
    }
   ],
   "source": [
    "rmse(model7.predict(data_work), data_work[\"price\"])"
   ]
  },
  {
   "cell_type": "markdown",
   "metadata": {},
   "source": [
    "### Fitted vs actual outcome"
   ]
  },
  {
   "cell_type": "markdown",
   "metadata": {},
   "source": [
    "### Figure 14.8 Airbnb prediction – model diagnostics\n",
    "\n",
    "(a) Predicted price vs. actual price"
   ]
  },
  {
   "cell_type": "code",
   "execution_count": null,
   "metadata": {},
   "outputs": [
    {
     "data": {
      "image/png": "[encoded data removed]",
      "text/plain": [
       "<Figure size 640x480 with 1 Axes>"
      ]
     },
     "metadata": {},
     "output_type": "display_data"
    },
    {
     "data": {
      "text/plain": [
       "<Figure Size: (640 x 480)>"
      ]
     },
     "execution_count": 117,
     "metadata": {},
     "output_type": "execute_result"
    }
   ],
   "source": [
    "(\n",
    "    ggplot(data=data_holdout)\n",
    "    + geom_point(\n",
    "        aes(y=\"price\", x=\"predicted_price\"),\n",
    "        color=color[0],\n",
    "        size=1,\n",
    "        alpha=0.7,\n",
    "        show_legend=False,\n",
    "        na_rm=True,\n",
    "    )\n",
    "    + geom_segment(\n",
    "        aes(x=0, y=0, xend=350, yend=350), size=0.5, linetype=\"dashed\", color=color[1]\n",
    "    )\n",
    "    # + coord_equal() to get equally lengthed y and x axis\n",
    "    + scale_x_continuous(\n",
    "        expand=(0.01, 0.01), limits=(0, 350), breaks=seq(0, 350, by=50)\n",
    "    )\n",
    "    + scale_y_continuous(\n",
    "        expand=(0.01, 0.01), limits=(0, 350), breaks=seq(0, 350, by=50)\n",
    "    )\n",
    "    + labs(y=\"Price (US dollars)\", x=\"Predicted price  (US dollars)\")\n",
    "    + theme_bw()\n",
    ")"
   ]
  },
  {
   "cell_type": "markdown",
   "metadata": {},
   "source": [
    "Redo predicted values at 80% PI\n"
   ]
  },
  {
   "cell_type": "code",
   "execution_count": null,
   "metadata": {},
   "outputs": [],
   "source": [
    "prediction_agg_by_nacc = (\n",
    "    model7.get_prediction(data_holdout)\n",
    "    .summary_frame(alpha=0.2)\n",
    "    .filter([\"mean\", \"obs_ci_lower\", \"obs_ci_upper\"])\n",
    "    .rename(columns={\"mean\": \"predicted_price\"})\n",
    "    .assign(n_accommodates=data_holdout[\"n_accommodates\"].values)\n",
    "    .groupby(by=[\"n_accommodates\"])\n",
    "    .mean()\n",
    "    .reset_index()\n",
    ")"
   ]
  },
  {
   "cell_type": "markdown",
   "metadata": {},
   "source": [
    "(b) Prediction interval by apartment size"
   ]
  },
  {
   "cell_type": "code",
   "execution_count": null,
   "metadata": {},
   "outputs": [
    {
     "data": {
      "image/png": "[encoded data removed]",
      "text/plain": [
       "<Figure size 640x480 with 1 Axes>"
      ]
     },
     "metadata": {},
     "output_type": "display_data"
    },
    {
     "data": {
      "text/plain": [
       "<Figure Size: (640 x 480)>"
      ]
     },
     "execution_count": 119,
     "metadata": {},
     "output_type": "execute_result"
    }
   ],
   "source": [
    "(\n",
    "    ggplot(prediction_agg_by_nacc, aes(x=\"n_accommodates\"))\n",
    "    + geom_bar(aes(y=\"predicted_price\"), stat=\"identity\", fill=color[0], alpha=0.7)\n",
    "    + geom_errorbar(\n",
    "        aes(ymin=\"obs_ci_lower\", ymax=\"obs_ci_upper\"), color=color[1], width=0.2\n",
    "    )\n",
    "    + scale_y_continuous(name=\"Predicted price (US dollars)\")\n",
    "    + scale_x_continuous(name=\"Accomodates (Persons)\", breaks=seq(1, 7, 1))\n",
    "    + scale_color_manual(values=(color[1], color[1]))\n",
    "    + theme_bw()\n",
    "    + theme(legend_title=element_blank(), legend_position=\"none\")\n",
    ")"
   ]
  },
  {
   "cell_type": "markdown",
   "metadata": {},
   "source": [
    "Density chart (not in book)"
   ]
  },
  {
   "cell_type": "code",
   "execution_count": null,
   "metadata": {},
   "outputs": [
    {
     "data": {
      "image/png": "[encoded data removed]",
      "text/plain": [
       "<Figure size 640x480 with 1 Axes>"
      ]
     },
     "metadata": {},
     "output_type": "display_data"
    },
    {
     "data": {
      "text/plain": [
       "<Figure Size: (640 x 480)>"
      ]
     },
     "execution_count": 120,
     "metadata": {},
     "output_type": "execute_result"
    }
   ],
   "source": [
    "(\n",
    "    ggplot(datau, aes(x=\"price\", color=\"factor(f_room_type)\"))\n",
    "    + geom_density(na_rm=True, alpha=0.3)\n",
    "    + scale_color_manual(name=\"\", values=(color[1], color[0], color[2]))\n",
    "    + labs(x=\"Price (US dollars)\", y=\"Density\", color=\"\")\n",
    "    + theme_bw()\n",
    "    + theme(\n",
    "        legend_position=\"right\",\n",
    "        legend_title=element_blank(),\n",
    "        legend_direction=\"vertical\",\n",
    "        legend_background=element_blank(),\n",
    "        legend_box_background=element_rect(color=\"white\"),\n",
    "    )\n",
    ")"
   ]
  },
  {
   "cell_type": "markdown",
   "metadata": {},
   "source": [
    "Barchart  (not in book)"
   ]
  },
  {
   "cell_type": "code",
   "execution_count": null,
   "metadata": {},
   "outputs": [
    {
     "data": {
      "image/png": "[encoded data removed]",
      "text/plain": [
       "<Figure size 640x480 with 1 Axes>"
      ]
     },
     "metadata": {},
     "output_type": "display_data"
    },
    {
     "data": {
      "text/plain": [
       "<Figure Size: (640 x 480)>"
      ]
     },
     "execution_count": 121,
     "metadata": {},
     "output_type": "execute_result"
    }
   ],
   "source": [
    "(\n",
    "    ggplot(datau, aes(x=\"factor(n_accommodates)\", color=\"f_room_type\"))\n",
    "    + geom_bar(alpha=0.8, na_rm=True, width=0.8, fill=None)\n",
    "    + scale_color_manual(name=\"\", values=(color[1], color[0], color[2]))\n",
    "    + labs(x=\"Accomodates (Persons)\", y=\"Frequency\")\n",
    "    + theme_bw()\n",
    "    + theme(\n",
    "        legend_position=\"right\",\n",
    "        legend_title=element_blank(),\n",
    "        legend_direction=\"vertical\",\n",
    "        legend_background=element_blank(),\n",
    "        legend_box_background=element_rect(color=\"white\"),\n",
    "    )\n",
    ")"
   ]
  },
  {
   "cell_type": "code",
   "execution_count": null,
   "metadata": {},
   "outputs": [],
   "source": []
  }
 ],
 "metadata": {
  "kernelspec": {
   "display_name": "Python 3",
   "language": "python",
   "name": "python3"
  },
  "language_info": {
   "codemirror_mode": {
    "name": "ipython",
    "version": 3
   },
   "file_extension": ".py",
   "mimetype": "text/x-python",
   "name": "python",
   "nbconvert_exporter": "python",
   "pygments_lexer": "ipython3",
   "version": "3.12.1"
  }
 },
 "nbformat": 4,
 "nbformat_minor": 4
}
