{
 "cells": [
  {
   "cell_type": "markdown",
   "metadata": {},
   "source": [
    "#### Prepared for Gabor's Data Analysis\n",
    "\n",
    "### Data Analysis for Business, Economics, and Policy\n",
    "by Gabor Bekes and Gabor Kezdi\n",
    " \n",
    "Cambridge University Press 2021\n",
    "\n",
    "**[gabors-data-analysis.com ](https://gabors-data-analysis.com/)**\n",
    "\n",
    " License: Free to share, modify and use for educational purposes. \n",
    " Not to be used for commercial purposes.\n",
    "\n",
    "### Chapter 16\n",
    "**CH16A Predicting apartment prices with random forest**\n",
    "\n",
    "using the airbnb dataset\n",
    "\n",
    "version 0.92 2021-07-05"
   ]
  },
  {
   "cell_type": "code",
   "execution_count": 1,
   "metadata": {},
   "outputs": [],
   "source": [
    "import os\n",
    "import re\n",
    "import sys\n",
    "import warnings\n",
    "from datetime import datetime\n",
    "from pathlib import Path\n",
    "\n",
    "import numpy as np\n",
    "import pandas as pd\n",
    "\n"
   ]
  },
  {
   "cell_type": "markdown",
   "metadata": {},
   "source": [
    "-------------------------------------------------------\n",
    "### Import data"
   ]
  },
  {
   "cell_type": "code",
   "execution_count": 2,
   "metadata": {},
   "outputs": [
    {
     "name": "stderr",
     "output_type": "stream",
     "text": [
      "/tmp/ipykernel_4136/1100752973.py:2: DtypeWarning: Columns (65) have mixed types. Specify dtype option on import or set low_memory=False.\n",
      "  data = pd.read_csv(\"/workspaces/codespaces-jupyter/data/airbnb_london_cleaned_book.csv\", index_col=0)\n"
     ]
    }
   ],
   "source": [
    "area = \"london\"\n",
    "data = pd.read_csv(\"/workspaces/codespaces-jupyter/data/airbnb_london_cleaned_book.csv\", index_col=0)\n",
    "#data = pd.read_csv(\"https://osf.io/download/7n96w/\", index_col=0)"
   ]
  },
  {
   "cell_type": "code",
   "execution_count": 3,
   "metadata": {},
   "outputs": [
    {
     "data": {
      "text/plain": [
       "(53904, 121)"
      ]
     },
     "execution_count": 3,
     "metadata": {},
     "output_type": "execute_result"
    }
   ],
   "source": [
    "data.shape"
   ]
  },
  {
   "cell_type": "code",
   "execution_count": 4,
   "metadata": {},
   "outputs": [
    {
     "data": {
      "text/plain": [
       "property_type\n",
       "Apartment             38270\n",
       "House                 13055\n",
       "Bed & Breakfast        1066\n",
       "Townhouse               372\n",
       "Other                   267\n",
       "Loft                    254\n",
       "Dorm                    127\n",
       "Guesthouse               81\n",
       "Boat                     69\n",
       "Serviced apartment       65\n",
       "Condominium              56\n",
       "Bungalow                 47\n",
       "Boutique hotel           35\n",
       "Hostel                   32\n",
       "Cabin                    32\n",
       "Villa                    12\n",
       "Camper/RV                 9\n",
       "Chalet                    9\n",
       "Yurt                      4\n",
       "Castle                    3\n",
       "Hut                       3\n",
       "Tent                      2\n",
       "Parking Space             2\n",
       "Lighthouse                1\n",
       "Ryokan (Japan)            1\n",
       "Igloo                     1\n",
       "Cave                      1\n",
       "Name: count, dtype: int64"
      ]
     },
     "execution_count": 4,
     "metadata": {},
     "output_type": "execute_result"
    }
   ],
   "source": [
    "data[\"property_type\"].value_counts()"
   ]
  },
  {
   "cell_type": "code",
   "execution_count": 5,
   "metadata": {},
   "outputs": [],
   "source": [
    "# keep if property type is Apartment, House or Townhouse\n",
    "data = data.loc[lambda x: x[\"property_type\"].isin([\"Apartment\", \"House\", \"Townhouse\"])]"
   ]
  },
  {
   "cell_type": "code",
   "execution_count": 6,
   "metadata": {},
   "outputs": [
    {
     "data": {
      "text/html": [
       "<div>\n",
       "<style scoped>\n",
       "    .dataframe tbody tr th:only-of-type {\n",
       "        vertical-align: middle;\n",
       "    }\n",
       "\n",
       "    .dataframe tbody tr th {\n",
       "        vertical-align: top;\n",
       "    }\n",
       "\n",
       "    .dataframe thead th {\n",
       "        text-align: right;\n",
       "    }\n",
       "</style>\n",
       "<table border=\"1\" class=\"dataframe\">\n",
       "  <thead>\n",
       "    <tr style=\"text-align: right;\">\n",
       "      <th></th>\n",
       "      <th>id</th>\n",
       "      <th>scrape_id</th>\n",
       "      <th>host_id</th>\n",
       "      <th>host_name</th>\n",
       "      <th>host_since</th>\n",
       "      <th>host_response_rate</th>\n",
       "      <th>host_acceptance_rate</th>\n",
       "      <th>host_is_superhost</th>\n",
       "      <th>host_neighbourhood</th>\n",
       "      <th>host_listings_count</th>\n",
       "      <th>...</th>\n",
       "      <th>Shampoo</th>\n",
       "      <th>Smartlock</th>\n",
       "      <th>Smoke detector</th>\n",
       "      <th>Smoking allowed</th>\n",
       "      <th>Suitable for events</th>\n",
       "      <th>TV</th>\n",
       "      <th>Washer</th>\n",
       "      <th>Washer / Dryer</th>\n",
       "      <th>Wheelchair accessible</th>\n",
       "      <th>Wireless Internet</th>\n",
       "    </tr>\n",
       "  </thead>\n",
       "  <tbody>\n",
       "    <tr>\n",
       "      <th>1</th>\n",
       "      <td>15896822</td>\n",
       "      <td>20170304065726</td>\n",
       "      <td>69018624</td>\n",
       "      <td>Dafina</td>\n",
       "      <td>2016-04-26</td>\n",
       "      <td>100.0</td>\n",
       "      <td>NaN</td>\n",
       "      <td>0.0</td>\n",
       "      <td>RB of Kingston upon Thames</td>\n",
       "      <td>1.0</td>\n",
       "      <td>...</td>\n",
       "      <td>0</td>\n",
       "      <td>0</td>\n",
       "      <td>1</td>\n",
       "      <td>0</td>\n",
       "      <td>0</td>\n",
       "      <td>0</td>\n",
       "      <td>1</td>\n",
       "      <td>0</td>\n",
       "      <td>0</td>\n",
       "      <td>1</td>\n",
       "    </tr>\n",
       "    <tr>\n",
       "      <th>2</th>\n",
       "      <td>4836957</td>\n",
       "      <td>20170304065726</td>\n",
       "      <td>18154504</td>\n",
       "      <td>Anas</td>\n",
       "      <td>2014-07-15</td>\n",
       "      <td>100.0</td>\n",
       "      <td>NaN</td>\n",
       "      <td>0.0</td>\n",
       "      <td>RB of Kingston upon Thames</td>\n",
       "      <td>1.0</td>\n",
       "      <td>...</td>\n",
       "      <td>0</td>\n",
       "      <td>0</td>\n",
       "      <td>1</td>\n",
       "      <td>0</td>\n",
       "      <td>0</td>\n",
       "      <td>1</td>\n",
       "      <td>0</td>\n",
       "      <td>0</td>\n",
       "      <td>0</td>\n",
       "      <td>1</td>\n",
       "    </tr>\n",
       "    <tr>\n",
       "      <th>3</th>\n",
       "      <td>13355982</td>\n",
       "      <td>20170304065726</td>\n",
       "      <td>75741819</td>\n",
       "      <td>Maria</td>\n",
       "      <td>2016-06-04</td>\n",
       "      <td>NaN</td>\n",
       "      <td>NaN</td>\n",
       "      <td>0.0</td>\n",
       "      <td>RB of Kingston upon Thames</td>\n",
       "      <td>1.0</td>\n",
       "      <td>...</td>\n",
       "      <td>0</td>\n",
       "      <td>0</td>\n",
       "      <td>1</td>\n",
       "      <td>0</td>\n",
       "      <td>0</td>\n",
       "      <td>0</td>\n",
       "      <td>1</td>\n",
       "      <td>0</td>\n",
       "      <td>0</td>\n",
       "      <td>1</td>\n",
       "    </tr>\n",
       "    <tr>\n",
       "      <th>4</th>\n",
       "      <td>13472704</td>\n",
       "      <td>20170304065726</td>\n",
       "      <td>77078182</td>\n",
       "      <td>Hannah</td>\n",
       "      <td>2016-06-11</td>\n",
       "      <td>NaN</td>\n",
       "      <td>NaN</td>\n",
       "      <td>0.0</td>\n",
       "      <td>RB of Kingston upon Thames</td>\n",
       "      <td>1.0</td>\n",
       "      <td>...</td>\n",
       "      <td>0</td>\n",
       "      <td>0</td>\n",
       "      <td>1</td>\n",
       "      <td>0</td>\n",
       "      <td>0</td>\n",
       "      <td>1</td>\n",
       "      <td>1</td>\n",
       "      <td>0</td>\n",
       "      <td>0</td>\n",
       "      <td>1</td>\n",
       "    </tr>\n",
       "    <tr>\n",
       "      <th>5</th>\n",
       "      <td>17430865</td>\n",
       "      <td>20170304065726</td>\n",
       "      <td>113972982</td>\n",
       "      <td>Jung Kyung</td>\n",
       "      <td>2017-01-30</td>\n",
       "      <td>100.0</td>\n",
       "      <td>NaN</td>\n",
       "      <td>0.0</td>\n",
       "      <td>RB of Kingston upon Thames</td>\n",
       "      <td>1.0</td>\n",
       "      <td>...</td>\n",
       "      <td>1</td>\n",
       "      <td>0</td>\n",
       "      <td>0</td>\n",
       "      <td>0</td>\n",
       "      <td>0</td>\n",
       "      <td>0</td>\n",
       "      <td>1</td>\n",
       "      <td>0</td>\n",
       "      <td>0</td>\n",
       "      <td>1</td>\n",
       "    </tr>\n",
       "    <tr>\n",
       "      <th>...</th>\n",
       "      <td>...</td>\n",
       "      <td>...</td>\n",
       "      <td>...</td>\n",
       "      <td>...</td>\n",
       "      <td>...</td>\n",
       "      <td>...</td>\n",
       "      <td>...</td>\n",
       "      <td>...</td>\n",
       "      <td>...</td>\n",
       "      <td>...</td>\n",
       "      <td>...</td>\n",
       "      <td>...</td>\n",
       "      <td>...</td>\n",
       "      <td>...</td>\n",
       "      <td>...</td>\n",
       "      <td>...</td>\n",
       "      <td>...</td>\n",
       "      <td>...</td>\n",
       "      <td>...</td>\n",
       "      <td>...</td>\n",
       "      <td>...</td>\n",
       "    </tr>\n",
       "    <tr>\n",
       "      <th>53936</th>\n",
       "      <td>14565735</td>\n",
       "      <td>20170304065726</td>\n",
       "      <td>59310710</td>\n",
       "      <td>Angelos</td>\n",
       "      <td>2016-02-18</td>\n",
       "      <td>81.0</td>\n",
       "      <td>NaN</td>\n",
       "      <td>0.0</td>\n",
       "      <td>Hammersmith</td>\n",
       "      <td>22.0</td>\n",
       "      <td>...</td>\n",
       "      <td>1</td>\n",
       "      <td>0</td>\n",
       "      <td>1</td>\n",
       "      <td>0</td>\n",
       "      <td>0</td>\n",
       "      <td>0</td>\n",
       "      <td>1</td>\n",
       "      <td>0</td>\n",
       "      <td>0</td>\n",
       "      <td>1</td>\n",
       "    </tr>\n",
       "    <tr>\n",
       "      <th>53937</th>\n",
       "      <td>7312985</td>\n",
       "      <td>20170304065726</td>\n",
       "      <td>38314213</td>\n",
       "      <td>Paul</td>\n",
       "      <td>2015-07-13</td>\n",
       "      <td>NaN</td>\n",
       "      <td>NaN</td>\n",
       "      <td>0.0</td>\n",
       "      <td>NaN</td>\n",
       "      <td>1.0</td>\n",
       "      <td>...</td>\n",
       "      <td>0</td>\n",
       "      <td>0</td>\n",
       "      <td>1</td>\n",
       "      <td>0</td>\n",
       "      <td>0</td>\n",
       "      <td>1</td>\n",
       "      <td>1</td>\n",
       "      <td>0</td>\n",
       "      <td>0</td>\n",
       "      <td>1</td>\n",
       "    </tr>\n",
       "    <tr>\n",
       "      <th>53938</th>\n",
       "      <td>17248546</td>\n",
       "      <td>20170304065726</td>\n",
       "      <td>29211630</td>\n",
       "      <td>Junior</td>\n",
       "      <td>2015-03-12</td>\n",
       "      <td>75.0</td>\n",
       "      <td>NaN</td>\n",
       "      <td>0.0</td>\n",
       "      <td>Knightsbridge</td>\n",
       "      <td>3.0</td>\n",
       "      <td>...</td>\n",
       "      <td>0</td>\n",
       "      <td>0</td>\n",
       "      <td>0</td>\n",
       "      <td>0</td>\n",
       "      <td>0</td>\n",
       "      <td>1</td>\n",
       "      <td>1</td>\n",
       "      <td>0</td>\n",
       "      <td>0</td>\n",
       "      <td>1</td>\n",
       "    </tr>\n",
       "    <tr>\n",
       "      <th>53939</th>\n",
       "      <td>17184388</td>\n",
       "      <td>20170304065726</td>\n",
       "      <td>115648419</td>\n",
       "      <td>Dee</td>\n",
       "      <td>2017-02-09</td>\n",
       "      <td>NaN</td>\n",
       "      <td>NaN</td>\n",
       "      <td>0.0</td>\n",
       "      <td>LB of Hounslow</td>\n",
       "      <td>1.0</td>\n",
       "      <td>...</td>\n",
       "      <td>0</td>\n",
       "      <td>0</td>\n",
       "      <td>1</td>\n",
       "      <td>0</td>\n",
       "      <td>0</td>\n",
       "      <td>1</td>\n",
       "      <td>1</td>\n",
       "      <td>0</td>\n",
       "      <td>0</td>\n",
       "      <td>1</td>\n",
       "    </tr>\n",
       "    <tr>\n",
       "      <th>53940</th>\n",
       "      <td>17215094</td>\n",
       "      <td>20170304065726</td>\n",
       "      <td>51762442</td>\n",
       "      <td>Lance</td>\n",
       "      <td>2015-12-19</td>\n",
       "      <td>50.0</td>\n",
       "      <td>NaN</td>\n",
       "      <td>0.0</td>\n",
       "      <td>Isle of Dogs</td>\n",
       "      <td>3.0</td>\n",
       "      <td>...</td>\n",
       "      <td>0</td>\n",
       "      <td>0</td>\n",
       "      <td>0</td>\n",
       "      <td>0</td>\n",
       "      <td>0</td>\n",
       "      <td>0</td>\n",
       "      <td>0</td>\n",
       "      <td>0</td>\n",
       "      <td>0</td>\n",
       "      <td>0</td>\n",
       "    </tr>\n",
       "  </tbody>\n",
       "</table>\n",
       "<p>51697 rows × 121 columns</p>\n",
       "</div>"
      ],
      "text/plain": [
       "             id       scrape_id    host_id   host_name  host_since  \\\n",
       "1      15896822  20170304065726   69018624      Dafina  2016-04-26   \n",
       "2       4836957  20170304065726   18154504        Anas  2014-07-15   \n",
       "3      13355982  20170304065726   75741819       Maria  2016-06-04   \n",
       "4      13472704  20170304065726   77078182      Hannah  2016-06-11   \n",
       "5      17430865  20170304065726  113972982  Jung Kyung  2017-01-30   \n",
       "...         ...             ...        ...         ...         ...   \n",
       "53936  14565735  20170304065726   59310710     Angelos  2016-02-18   \n",
       "53937   7312985  20170304065726   38314213        Paul  2015-07-13   \n",
       "53938  17248546  20170304065726   29211630      Junior  2015-03-12   \n",
       "53939  17184388  20170304065726  115648419         Dee  2017-02-09   \n",
       "53940  17215094  20170304065726   51762442       Lance  2015-12-19   \n",
       "\n",
       "       host_response_rate  host_acceptance_rate  host_is_superhost  \\\n",
       "1                   100.0                   NaN                0.0   \n",
       "2                   100.0                   NaN                0.0   \n",
       "3                     NaN                   NaN                0.0   \n",
       "4                     NaN                   NaN                0.0   \n",
       "5                   100.0                   NaN                0.0   \n",
       "...                   ...                   ...                ...   \n",
       "53936                81.0                   NaN                0.0   \n",
       "53937                 NaN                   NaN                0.0   \n",
       "53938                75.0                   NaN                0.0   \n",
       "53939                 NaN                   NaN                0.0   \n",
       "53940                50.0                   NaN                0.0   \n",
       "\n",
       "               host_neighbourhood  host_listings_count  ...  Shampoo  \\\n",
       "1      RB of Kingston upon Thames                  1.0  ...        0   \n",
       "2      RB of Kingston upon Thames                  1.0  ...        0   \n",
       "3      RB of Kingston upon Thames                  1.0  ...        0   \n",
       "4      RB of Kingston upon Thames                  1.0  ...        0   \n",
       "5      RB of Kingston upon Thames                  1.0  ...        1   \n",
       "...                           ...                  ...  ...      ...   \n",
       "53936                 Hammersmith                 22.0  ...        1   \n",
       "53937                         NaN                  1.0  ...        0   \n",
       "53938               Knightsbridge                  3.0  ...        0   \n",
       "53939              LB of Hounslow                  1.0  ...        0   \n",
       "53940                Isle of Dogs                  3.0  ...        0   \n",
       "\n",
       "      Smartlock  Smoke detector  Smoking allowed Suitable for events TV  \\\n",
       "1             0               1                0                   0  0   \n",
       "2             0               1                0                   0  1   \n",
       "3             0               1                0                   0  0   \n",
       "4             0               1                0                   0  1   \n",
       "5             0               0                0                   0  0   \n",
       "...         ...             ...              ...                 ... ..   \n",
       "53936         0               1                0                   0  0   \n",
       "53937         0               1                0                   0  1   \n",
       "53938         0               0                0                   0  1   \n",
       "53939         0               1                0                   0  1   \n",
       "53940         0               0                0                   0  0   \n",
       "\n",
       "      Washer  Washer / Dryer Wheelchair accessible Wireless Internet  \n",
       "1          1               0                     0                 1  \n",
       "2          0               0                     0                 1  \n",
       "3          1               0                     0                 1  \n",
       "4          1               0                     0                 1  \n",
       "5          1               0                     0                 1  \n",
       "...      ...             ...                   ...               ...  \n",
       "53936      1               0                     0                 1  \n",
       "53937      1               0                     0                 1  \n",
       "53938      1               0                     0                 1  \n",
       "53939      1               0                     0                 1  \n",
       "53940      0               0                     0                 0  \n",
       "\n",
       "[51697 rows x 121 columns]"
      ]
     },
     "execution_count": 6,
     "metadata": {},
     "output_type": "execute_result"
    }
   ],
   "source": [
    "data"
   ]
  },
  {
   "cell_type": "code",
   "execution_count": 7,
   "metadata": {},
   "outputs": [],
   "source": [
    "# rename Townhouse to House\n",
    "\n",
    "data[\"property_type\"] = np.where(\n",
    "    data[\"property_type\"] == \"Townhouse\", \"House\", data[\"property_type\"]\n",
    ")\n",
    "data[\"f_property_type\"] = data[\"property_type\"].astype(\"category\")\n"
   ]
  },
  {
   "cell_type": "code",
   "execution_count": 8,
   "metadata": {},
   "outputs": [
    {
     "data": {
      "text/plain": [
       "room_type\n",
       "Entire home/apt    26742\n",
       "Private room       24415\n",
       "Shared room          540\n",
       "Name: count, dtype: int64"
      ]
     },
     "execution_count": 8,
     "metadata": {},
     "output_type": "execute_result"
    }
   ],
   "source": [
    "data[\"room_type\"].value_counts()"
   ]
  },
  {
   "cell_type": "code",
   "execution_count": 9,
   "metadata": {},
   "outputs": [],
   "source": [
    "# Room type as factor\n",
    "\n",
    "data[\"f_room_type\"] = data[\"room_type\"].astype(\"category\")"
   ]
  },
  {
   "cell_type": "code",
   "execution_count": 10,
   "metadata": {},
   "outputs": [],
   "source": [
    "# Rename roomt type because it is too long\n",
    "data[\"f_room_type2\"] = data[\"f_room_type\"].map(\n",
    "    {\n",
    "        \"Entire home/apt\": \"Entire/Apt\",\n",
    "        \"Private room\": \"Private\",\n",
    "        \"Shared room\": \"Shared\",\n",
    "    }\n",
    ")\n"
   ]
  },
  {
   "cell_type": "code",
   "execution_count": 11,
   "metadata": {},
   "outputs": [
    {
     "data": {
      "text/plain": [
       "cancellation_policy\n",
       "strict             21287\n",
       "flexible           18435\n",
       "moderate           11959\n",
       "super_strict_30       15\n",
       "super_strict_60        1\n",
       "Name: count, dtype: int64"
      ]
     },
     "execution_count": 11,
     "metadata": {},
     "output_type": "execute_result"
    }
   ],
   "source": [
    "# cancellation policy as factor\n",
    "data[\"cancellation_policy\"].value_counts()"
   ]
  },
  {
   "cell_type": "code",
   "execution_count": 12,
   "metadata": {},
   "outputs": [],
   "source": [
    "# if cancellation policy is super strict 30 or 60, rename it as strict\n",
    "data[\"cancellation_policy\"] = np.where(\n",
    "    (data[\"cancellation_policy\"] == \"super_strict_30\")\n",
    "    | (data[\"cancellation_policy\"] == \"super_strict_60\"),\n",
    "    \"strict\",\n",
    "    data[\"cancellation_policy\"],\n",
    ")\n",
    "data[\"f_cancellation_policy\"] = data[\"cancellation_policy\"].astype(\"category\")\n"
   ]
  },
  {
   "cell_type": "code",
   "execution_count": 13,
   "metadata": {},
   "outputs": [],
   "source": [
    "# bed_type and neighbourhood_cleansed as factors\n",
    "\n",
    "data[\"bed_type\"] = np.where(\n",
    "    data[\"bed_type\"].isin([\"Futon\", \"Pull-out Sofa\", \"Airbed\"]),\n",
    "    \"Couch\",\n",
    "    data[\"bed_type\"],\n",
    ")\n",
    "\n",
    "data[\"f_bed_type\"] = data[\"bed_type\"].astype(\"category\")\n",
    "data[\"f_neighbourhood_cleansed\"] = data[\"neighbourhood_cleansed\"].astype(\"category\")\n"
   ]
  },
  {
   "cell_type": "markdown",
   "metadata": {},
   "source": [
    "---------\n",
    "\n",
    "### Create Numerical variables"
   ]
  },
  {
   "cell_type": "code",
   "execution_count": 14,
   "metadata": {},
   "outputs": [],
   "source": [
    "data[\"usd_price_day\"] = data[\"price\"]\n",
    "data[\"p_host_response_rate\"] = data[\"host_response_rate\"].fillna(0).astype(int)\n",
    "# rename cleaning_fee column\n",
    "\n",
    "data = data.rename(columns={\"cleaning_fee\": \"usd_cleaning_fee\"})\n"
   ]
  },
  {
   "cell_type": "code",
   "execution_count": 15,
   "metadata": {},
   "outputs": [],
   "source": [
    "# add new numeric columns from certain columns\n",
    "\n",
    "numericals = [\n",
    "    \"accommodates\",\n",
    "    \"bathrooms\",\n",
    "    \"review_scores_rating\",\n",
    "    \"number_of_reviews\",\n",
    "    \"guests_included\",\n",
    "    \"reviews_per_month\",\n",
    "    \"extra_people\",\n",
    "    \"minimum_nights\",\n",
    "    \"beds\",\n",
    "]\n",
    "\n",
    "for col in numericals:\n",
    "    data[\"n_\" + col] = pd.to_numeric(data[col], errors=\"coerce\")\n"
   ]
  },
  {
   "cell_type": "code",
   "execution_count": 16,
   "metadata": {},
   "outputs": [],
   "source": [
    "# create days since first review\n",
    "\n",
    "data[\"n_days_since\"] = (\n",
    "    data.calendar_last_scraped.apply(lambda x: datetime.strptime(x, \"%Y-%m-%d\"))\n",
    "    - data.first_review.fillna(\"1950-01-01\").apply(\n",
    "        lambda x: datetime.strptime(x, \"%Y-%m-%d\")\n",
    "    )\n",
    ").dt.days\n",
    "\n",
    "data[\"n_days_since\"] = np.where(data.first_review.isnull(), np.nan, data.n_days_since)\n"
   ]
  },
  {
   "cell_type": "code",
   "execution_count": 17,
   "metadata": {},
   "outputs": [
    {
     "name": "stderr",
     "output_type": "stream",
     "text": [
      "<>:5: SyntaxWarning: invalid escape sequence '\\s'\n",
      "<>:5: SyntaxWarning: invalid escape sequence '\\s'\n",
      "/tmp/ipykernel_4136/114913027.py:5: SyntaxWarning: invalid escape sequence '\\s'\n",
      "  data[\"d_\" + (re.sub(\"/|\\s|-\", \"\", col)).replace(\"(s)\", \"s\").lower()] = data[col]\n"
     ]
    }
   ],
   "source": [
    "# create dummy vars\n",
    "dummies = data.columns[71:121]\n",
    "\n",
    "for col in dummies:\n",
    "    data[\"d_\" + (re.sub(\"/|\\s|-\", \"\", col)).replace(\"(s)\", \"s\").lower()] = data[col]\n"
   ]
  },
  {
   "cell_type": "code",
   "execution_count": 23,
   "metadata": {},
   "outputs": [],
   "source": [
    "# keep columns if contain d_, n_,f_, p_, usd_ and some others\n",
    "\n",
    "data = pd.concat(\n",
    "    [\n",
    "        data.filter(\n",
    "            regex=\"^d_.*|^n_.*|^f_.*|^p_.*|^usd_.*\",\n",
    "        ),\n",
    "        data[\n",
    "            [\n",
    "                \"price\",\n",
    "                \"id\",\n",
    "                \"neighbourhood_cleansed\",\n",
    "                \"cancellation_policy\",\n",
    "                \"room_type\",\n",
    "                \"property_type\",\n",
    "            ]\n",
    "        ],\n",
    "    ],\n",
    "    axis=1,\n",
    ")\n"
   ]
  },
  {
   "cell_type": "code",
   "execution_count": 25,
   "metadata": {},
   "outputs": [],
   "source": [
    "#####################\n",
    "### look at price ###\n",
    "#####################\n",
    "\n",
    "data = data.loc[lambda x: x.price < 1000]\n"
   ]
  },
  {
   "cell_type": "code",
   "execution_count": 26,
   "metadata": {},
   "outputs": [
    {
     "name": "stderr",
     "output_type": "stream",
     "text": [
      "/usr/local/python/3.12.1/lib/python3.12/site-packages/pandas/core/arraylike.py:399: RuntimeWarning: divide by zero encountered in log\n",
      "  result = getattr(ufunc, method)(*inputs, **kwargs)\n"
     ]
    }
   ],
   "source": [
    "# Squares and further values to create\n",
    "data = data.assign(\n",
    "    n_accommodates2=lambda x: x[\"n_accommodates\"] ** 2,\n",
    "    ln_accommodates=lambda x: np.log(x[\"n_accommodates\"]),\n",
    "    ln_accommodates2=lambda x: np.log(x[\"n_accommodates\"]) ** 2,\n",
    "    ln_beds=lambda x: np.log(x[\"n_beds\"]),\n",
    "    ln_number_of_reviews=lambda x: np.log(x[\"n_number_of_reviews\"] + 1),\n",
    ")"
   ]
  },
  {
   "cell_type": "code",
   "execution_count": 28,
   "metadata": {},
   "outputs": [
    {
     "data": {
      "text/plain": [
       "[0.0, 1.0)       364\n",
       "[1.0, 2.0)     41417\n",
       "[2.0, 10.0)     9628\n",
       "NaN              237\n",
       "Name: count, dtype: int64"
      ]
     },
     "execution_count": 28,
     "metadata": {},
     "output_type": "execute_result"
    }
   ],
   "source": [
    "# Pool accomodations with 0,1,2,10 bathrooms\n",
    "\n",
    "bins = pd.IntervalIndex.from_tuples([(0, 1), (1, 2), (2, 10)], closed=\"left\")\n",
    "f_bath = pd.cut(data[\"n_bathrooms\"].to_list(), bins, labels=[0, 1, 2])\n",
    "data[\"f_bathroom\"] = f_bath\n",
    "\n",
    "f_bath.value_counts(dropna=False)\n"
   ]
  },
  {
   "cell_type": "code",
   "execution_count": 30,
   "metadata": {},
   "outputs": [
    {
     "data": {
      "text/plain": [
       "f_number_of_reviews\n",
       "[1.0, 51.0)      32683\n",
       "[0.0, 1.0)       15741\n",
       "[51.0, 396.0)     3221\n",
       "NaN                  1\n",
       "Name: count, dtype: int64"
      ]
     },
     "execution_count": 30,
     "metadata": {},
     "output_type": "execute_result"
    }
   ],
   "source": [
    "# Pool num of reviews to 3 categories: none, 1-51 and >51\n",
    "\n",
    "bins = pd.IntervalIndex.from_tuples(\n",
    "    [(0, 1), (1, 51), (51, max(data.n_number_of_reviews))], closed=\"left\"\n",
    ")\n",
    "fnor = pd.cut(data[\"n_number_of_reviews\"].to_list(), bins, labels=[0, 1, 2])\n",
    "data[\"f_number_of_reviews\"] = fnor\n",
    "data[\"f_number_of_reviews\"].value_counts(dropna=False)\n"
   ]
  },
  {
   "cell_type": "code",
   "execution_count": 32,
   "metadata": {},
   "outputs": [
    {
     "data": {
      "text/plain": [
       "f_minimum_nights\n",
       "[1.0, 2.0)       19454\n",
       "[3.0, 5000.0)    18075\n",
       "[2.0, 3.0)       14116\n",
       "NaN                  1\n",
       "Name: count, dtype: int64"
      ]
     },
     "execution_count": 32,
     "metadata": {},
     "output_type": "execute_result"
    }
   ],
   "source": [
    "# Pool and categorize the number of minimum nights: 1,2,3, 3+\n",
    "\n",
    "bins = pd.IntervalIndex.from_tuples(\n",
    "    [(1, 2), (2, 3), (3, max(data.n_minimum_nights))], closed=\"left\"\n",
    ")\n",
    "f_min_n = pd.cut(data[\"n_minimum_nights\"].to_list(), bins, labels=[1, 2, 3])\n",
    "data[\"f_minimum_nights\"] = f_min_n\n",
    "data[\"f_minimum_nights\"].value_counts(dropna=False)\n"
   ]
  },
  {
   "cell_type": "code",
   "execution_count": 33,
   "metadata": {},
   "outputs": [],
   "source": [
    "# Change Infinite values with NaNs\n",
    "data = data.replace([np.inf, -np.inf], np.nan)"
   ]
  },
  {
   "cell_type": "code",
   "execution_count": 34,
   "metadata": {},
   "outputs": [
    {
     "data": {
      "text/plain": [
       "usd_cleaning_fee          20017\n",
       "n_bathrooms                 237\n",
       "n_review_scores_rating    16501\n",
       "n_reviews_per_month       15741\n",
       "n_beds                      167\n",
       "n_days_since              15741\n",
       "ln_beds                     168\n",
       "f_bathroom                  237\n",
       "f_number_of_reviews           1\n",
       "f_minimum_nights              1\n",
       "dtype: int64"
      ]
     },
     "execution_count": 34,
     "metadata": {},
     "output_type": "execute_result"
    }
   ],
   "source": [
    "# ------------------------------------------------------------------------------------------------\n",
    "# where do we have missing variables now?\n",
    "to_filter = data.isna().sum()\n",
    "to_filter[to_filter > 0]"
   ]
  },
  {
   "cell_type": "code",
   "execution_count": 35,
   "metadata": {},
   "outputs": [],
   "source": [
    "# what to do with missing values?\n",
    "# 1. drop if no target\n",
    "data = data.loc[lambda x: x.price.notnull()]"
   ]
  },
  {
   "cell_type": "code",
   "execution_count": 36,
   "metadata": {},
   "outputs": [
    {
     "ename": "TypeError",
     "evalue": "Cannot setitem on a Categorical with a new category (1), set the categories first",
     "output_type": "error",
     "traceback": [
      "\u001b[31m---------------------------------------------------------------------------\u001b[39m",
      "\u001b[31mTypeError\u001b[39m                                 Traceback (most recent call last)",
      "\u001b[36mCell\u001b[39m\u001b[36m \u001b[39m\u001b[32mIn[36]\u001b[39m\u001b[32m, line 2\u001b[39m\n\u001b[32m      1\u001b[39m \u001b[38;5;66;03m# 2. imput when few, not that important\u001b[39;00m\n\u001b[32m----> \u001b[39m\u001b[32m2\u001b[39m data = \u001b[43mdata\u001b[49m\u001b[43m.\u001b[49m\u001b[43massign\u001b[49m\u001b[43m(\u001b[49m\n\u001b[32m      3\u001b[39m \u001b[43m    \u001b[49m\u001b[43mn_bathrooms\u001b[49m\u001b[43m=\u001b[49m\u001b[38;5;28;43;01mlambda\u001b[39;49;00m\u001b[43m \u001b[49m\u001b[43mx\u001b[49m\u001b[43m:\u001b[49m\u001b[43m \u001b[49m\u001b[43mx\u001b[49m\u001b[43m[\u001b[49m\u001b[33;43m\"\u001b[39;49m\u001b[33;43mn_bathrooms\u001b[39;49m\u001b[33;43m\"\u001b[39;49m\u001b[43m]\u001b[49m\u001b[43m.\u001b[49m\u001b[43mfillna\u001b[49m\u001b[43m(\u001b[49m\u001b[43mnp\u001b[49m\u001b[43m.\u001b[49m\u001b[43mmedian\u001b[49m\u001b[43m(\u001b[49m\u001b[43mx\u001b[49m\u001b[43m[\u001b[49m\u001b[33;43m\"\u001b[39;49m\u001b[33;43mn_bathrooms\u001b[39;49m\u001b[33;43m\"\u001b[39;49m\u001b[43m]\u001b[49m\u001b[43m.\u001b[49m\u001b[43mdropna\u001b[49m\u001b[43m(\u001b[49m\u001b[43m)\u001b[49m\u001b[43m)\u001b[49m\u001b[43m)\u001b[49m\u001b[43m,\u001b[49m\n\u001b[32m      4\u001b[39m \u001b[43m    \u001b[49m\u001b[43mn_beds\u001b[49m\u001b[43m=\u001b[49m\u001b[38;5;28;43;01mlambda\u001b[39;49;00m\u001b[43m \u001b[49m\u001b[43mx\u001b[49m\u001b[43m:\u001b[49m\u001b[43m \u001b[49m\u001b[43mnp\u001b[49m\u001b[43m.\u001b[49m\u001b[43mwhere\u001b[49m\u001b[43m(\u001b[49m\u001b[43mx\u001b[49m\u001b[43m[\u001b[49m\u001b[33;43m\"\u001b[39;49m\u001b[33;43mn_beds\u001b[39;49m\u001b[33;43m\"\u001b[39;49m\u001b[43m]\u001b[49m\u001b[43m.\u001b[49m\u001b[43misnull\u001b[49m\u001b[43m(\u001b[49m\u001b[43m)\u001b[49m\u001b[43m,\u001b[49m\u001b[43m \u001b[49m\u001b[43mx\u001b[49m\u001b[43m[\u001b[49m\u001b[33;43m\"\u001b[39;49m\u001b[33;43mn_accommodates\u001b[39;49m\u001b[33;43m\"\u001b[39;49m\u001b[43m]\u001b[49m\u001b[43m,\u001b[49m\u001b[43m \u001b[49m\u001b[43mx\u001b[49m\u001b[43m[\u001b[49m\u001b[33;43m\"\u001b[39;49m\u001b[33;43mn_beds\u001b[39;49m\u001b[33;43m\"\u001b[39;49m\u001b[43m]\u001b[49m\u001b[43m)\u001b[49m\u001b[43m,\u001b[49m\n\u001b[32m      5\u001b[39m \u001b[43m    \u001b[49m\u001b[43mf_bathroom\u001b[49m\u001b[43m=\u001b[49m\u001b[38;5;28;43;01mlambda\u001b[39;49;00m\u001b[43m \u001b[49m\u001b[43mx\u001b[49m\u001b[43m:\u001b[49m\u001b[43m \u001b[49m\u001b[43mx\u001b[49m\u001b[43m[\u001b[49m\u001b[33;43m\"\u001b[39;49m\u001b[33;43mf_bathroom\u001b[39;49m\u001b[33;43m\"\u001b[39;49m\u001b[43m]\u001b[49m\u001b[43m.\u001b[49m\u001b[43mfillna\u001b[49m\u001b[43m(\u001b[49m\u001b[32;43m1\u001b[39;49m\u001b[43m)\u001b[49m\u001b[43m,\u001b[49m\n\u001b[32m      6\u001b[39m \u001b[43m    \u001b[49m\u001b[43mf_minimum_nights\u001b[49m\u001b[43m=\u001b[49m\u001b[38;5;28;43;01mlambda\u001b[39;49;00m\u001b[43m \u001b[49m\u001b[43mx\u001b[49m\u001b[43m:\u001b[49m\u001b[43m \u001b[49m\u001b[43mx\u001b[49m\u001b[43m[\u001b[49m\u001b[33;43m\"\u001b[39;49m\u001b[33;43mf_minimum_nights\u001b[39;49m\u001b[33;43m\"\u001b[39;49m\u001b[43m]\u001b[49m\u001b[43m.\u001b[49m\u001b[43mfillna\u001b[49m\u001b[43m(\u001b[49m\u001b[32;43m1\u001b[39;49m\u001b[43m)\u001b[49m\u001b[43m,\u001b[49m\n\u001b[32m      7\u001b[39m \u001b[43m    \u001b[49m\u001b[43mf_number_of_reviews\u001b[49m\u001b[43m=\u001b[49m\u001b[38;5;28;43;01mlambda\u001b[39;49;00m\u001b[43m \u001b[49m\u001b[43mx\u001b[49m\u001b[43m:\u001b[49m\u001b[43m \u001b[49m\u001b[43mx\u001b[49m\u001b[43m[\u001b[49m\u001b[33;43m\"\u001b[39;49m\u001b[33;43mf_number_of_reviews\u001b[39;49m\u001b[33;43m\"\u001b[39;49m\u001b[43m]\u001b[49m\u001b[43m.\u001b[49m\u001b[43mfillna\u001b[49m\u001b[43m(\u001b[49m\u001b[32;43m1\u001b[39;49m\u001b[43m)\u001b[49m\u001b[43m,\u001b[49m\n\u001b[32m      8\u001b[39m \u001b[43m    \u001b[49m\u001b[43mln_beds\u001b[49m\u001b[43m=\u001b[49m\u001b[38;5;28;43;01mlambda\u001b[39;49;00m\u001b[43m \u001b[49m\u001b[43mx\u001b[49m\u001b[43m:\u001b[49m\u001b[43m \u001b[49m\u001b[43mx\u001b[49m\u001b[43m[\u001b[49m\u001b[33;43m\"\u001b[39;49m\u001b[33;43mln_beds\u001b[39;49m\u001b[33;43m\"\u001b[39;49m\u001b[43m]\u001b[49m\u001b[43m.\u001b[49m\u001b[43mfillna\u001b[49m\u001b[43m(\u001b[49m\u001b[32;43m0\u001b[39;49m\u001b[43m)\u001b[49m\u001b[43m,\u001b[49m\n\u001b[32m      9\u001b[39m \u001b[43m)\u001b[49m\n",
      "\u001b[36mFile \u001b[39m\u001b[32m/usr/local/python/3.12.1/lib/python3.12/site-packages/pandas/core/frame.py:5239\u001b[39m, in \u001b[36mDataFrame.assign\u001b[39m\u001b[34m(self, **kwargs)\u001b[39m\n\u001b[32m   5236\u001b[39m data = \u001b[38;5;28mself\u001b[39m.copy(deep=\u001b[38;5;28;01mNone\u001b[39;00m)\n\u001b[32m   5238\u001b[39m \u001b[38;5;28;01mfor\u001b[39;00m k, v \u001b[38;5;129;01min\u001b[39;00m kwargs.items():\n\u001b[32m-> \u001b[39m\u001b[32m5239\u001b[39m     data[k] = \u001b[43mcom\u001b[49m\u001b[43m.\u001b[49m\u001b[43mapply_if_callable\u001b[49m\u001b[43m(\u001b[49m\u001b[43mv\u001b[49m\u001b[43m,\u001b[49m\u001b[43m \u001b[49m\u001b[43mdata\u001b[49m\u001b[43m)\u001b[49m\n\u001b[32m   5240\u001b[39m \u001b[38;5;28;01mreturn\u001b[39;00m data\n",
      "\u001b[36mFile \u001b[39m\u001b[32m/usr/local/python/3.12.1/lib/python3.12/site-packages/pandas/core/common.py:384\u001b[39m, in \u001b[36mapply_if_callable\u001b[39m\u001b[34m(maybe_callable, obj, **kwargs)\u001b[39m\n\u001b[32m    373\u001b[39m \u001b[38;5;250m\u001b[39m\u001b[33;03m\"\"\"\u001b[39;00m\n\u001b[32m    374\u001b[39m \u001b[33;03mEvaluate possibly callable input using obj and kwargs if it is callable,\u001b[39;00m\n\u001b[32m    375\u001b[39m \u001b[33;03motherwise return as it is.\u001b[39;00m\n\u001b[32m   (...)\u001b[39m\u001b[32m    381\u001b[39m \u001b[33;03m**kwargs\u001b[39;00m\n\u001b[32m    382\u001b[39m \u001b[33;03m\"\"\"\u001b[39;00m\n\u001b[32m    383\u001b[39m \u001b[38;5;28;01mif\u001b[39;00m \u001b[38;5;28mcallable\u001b[39m(maybe_callable):\n\u001b[32m--> \u001b[39m\u001b[32m384\u001b[39m     \u001b[38;5;28;01mreturn\u001b[39;00m \u001b[43mmaybe_callable\u001b[49m\u001b[43m(\u001b[49m\u001b[43mobj\u001b[49m\u001b[43m,\u001b[49m\u001b[43m \u001b[49m\u001b[43m*\u001b[49m\u001b[43m*\u001b[49m\u001b[43mkwargs\u001b[49m\u001b[43m)\u001b[49m\n\u001b[32m    386\u001b[39m \u001b[38;5;28;01mreturn\u001b[39;00m maybe_callable\n",
      "\u001b[36mCell\u001b[39m\u001b[36m \u001b[39m\u001b[32mIn[36]\u001b[39m\u001b[32m, line 5\u001b[39m, in \u001b[36m<lambda>\u001b[39m\u001b[34m(x)\u001b[39m\n\u001b[32m      1\u001b[39m \u001b[38;5;66;03m# 2. imput when few, not that important\u001b[39;00m\n\u001b[32m      2\u001b[39m data = data.assign(\n\u001b[32m      3\u001b[39m     n_bathrooms=\u001b[38;5;28;01mlambda\u001b[39;00m x: x[\u001b[33m\"\u001b[39m\u001b[33mn_bathrooms\u001b[39m\u001b[33m\"\u001b[39m].fillna(np.median(x[\u001b[33m\"\u001b[39m\u001b[33mn_bathrooms\u001b[39m\u001b[33m\"\u001b[39m].dropna())),\n\u001b[32m      4\u001b[39m     n_beds=\u001b[38;5;28;01mlambda\u001b[39;00m x: np.where(x[\u001b[33m\"\u001b[39m\u001b[33mn_beds\u001b[39m\u001b[33m\"\u001b[39m].isnull(), x[\u001b[33m\"\u001b[39m\u001b[33mn_accommodates\u001b[39m\u001b[33m\"\u001b[39m], x[\u001b[33m\"\u001b[39m\u001b[33mn_beds\u001b[39m\u001b[33m\"\u001b[39m]),\n\u001b[32m----> \u001b[39m\u001b[32m5\u001b[39m     f_bathroom=\u001b[38;5;28;01mlambda\u001b[39;00m x: \u001b[43mx\u001b[49m\u001b[43m[\u001b[49m\u001b[33;43m\"\u001b[39;49m\u001b[33;43mf_bathroom\u001b[39;49m\u001b[33;43m\"\u001b[39;49m\u001b[43m]\u001b[49m\u001b[43m.\u001b[49m\u001b[43mfillna\u001b[49m\u001b[43m(\u001b[49m\u001b[32;43m1\u001b[39;49m\u001b[43m)\u001b[49m,\n\u001b[32m      6\u001b[39m     f_minimum_nights=\u001b[38;5;28;01mlambda\u001b[39;00m x: x[\u001b[33m\"\u001b[39m\u001b[33mf_minimum_nights\u001b[39m\u001b[33m\"\u001b[39m].fillna(\u001b[32m1\u001b[39m),\n\u001b[32m      7\u001b[39m     f_number_of_reviews=\u001b[38;5;28;01mlambda\u001b[39;00m x: x[\u001b[33m\"\u001b[39m\u001b[33mf_number_of_reviews\u001b[39m\u001b[33m\"\u001b[39m].fillna(\u001b[32m1\u001b[39m),\n\u001b[32m      8\u001b[39m     ln_beds=\u001b[38;5;28;01mlambda\u001b[39;00m x: x[\u001b[33m\"\u001b[39m\u001b[33mln_beds\u001b[39m\u001b[33m\"\u001b[39m].fillna(\u001b[32m0\u001b[39m),\n\u001b[32m      9\u001b[39m )\n",
      "\u001b[36mFile \u001b[39m\u001b[32m/usr/local/python/3.12.1/lib/python3.12/site-packages/pandas/core/generic.py:7349\u001b[39m, in \u001b[36mNDFrame.fillna\u001b[39m\u001b[34m(self, value, method, axis, inplace, limit, downcast)\u001b[39m\n\u001b[32m   7342\u001b[39m     \u001b[38;5;28;01melse\u001b[39;00m:\n\u001b[32m   7343\u001b[39m         \u001b[38;5;28;01mraise\u001b[39;00m \u001b[38;5;167;01mTypeError\u001b[39;00m(\n\u001b[32m   7344\u001b[39m             \u001b[33m'\u001b[39m\u001b[33m\"\u001b[39m\u001b[33mvalue\u001b[39m\u001b[33m\"\u001b[39m\u001b[33m parameter must be a scalar, dict \u001b[39m\u001b[33m'\u001b[39m\n\u001b[32m   7345\u001b[39m             \u001b[33m\"\u001b[39m\u001b[33mor Series, but you passed a \u001b[39m\u001b[33m\"\u001b[39m\n\u001b[32m   7346\u001b[39m             \u001b[33mf\u001b[39m\u001b[33m'\u001b[39m\u001b[33m\"\u001b[39m\u001b[38;5;132;01m{\u001b[39;00m\u001b[38;5;28mtype\u001b[39m(value).\u001b[34m__name__\u001b[39m\u001b[38;5;132;01m}\u001b[39;00m\u001b[33m\"\u001b[39m\u001b[33m'\u001b[39m\n\u001b[32m   7347\u001b[39m         )\n\u001b[32m-> \u001b[39m\u001b[32m7349\u001b[39m     new_data = \u001b[38;5;28;43mself\u001b[39;49m\u001b[43m.\u001b[49m\u001b[43m_mgr\u001b[49m\u001b[43m.\u001b[49m\u001b[43mfillna\u001b[49m\u001b[43m(\u001b[49m\n\u001b[32m   7350\u001b[39m \u001b[43m        \u001b[49m\u001b[43mvalue\u001b[49m\u001b[43m=\u001b[49m\u001b[43mvalue\u001b[49m\u001b[43m,\u001b[49m\u001b[43m \u001b[49m\u001b[43mlimit\u001b[49m\u001b[43m=\u001b[49m\u001b[43mlimit\u001b[49m\u001b[43m,\u001b[49m\u001b[43m \u001b[49m\u001b[43minplace\u001b[49m\u001b[43m=\u001b[49m\u001b[43minplace\u001b[49m\u001b[43m,\u001b[49m\u001b[43m \u001b[49m\u001b[43mdowncast\u001b[49m\u001b[43m=\u001b[49m\u001b[43mdowncast\u001b[49m\n\u001b[32m   7351\u001b[39m \u001b[43m    \u001b[49m\u001b[43m)\u001b[49m\n\u001b[32m   7353\u001b[39m \u001b[38;5;28;01melif\u001b[39;00m \u001b[38;5;28misinstance\u001b[39m(value, (\u001b[38;5;28mdict\u001b[39m, ABCSeries)):\n\u001b[32m   7354\u001b[39m     \u001b[38;5;28;01mif\u001b[39;00m axis == \u001b[32m1\u001b[39m:\n",
      "\u001b[36mFile \u001b[39m\u001b[32m/usr/local/python/3.12.1/lib/python3.12/site-packages/pandas/core/internals/base.py:186\u001b[39m, in \u001b[36mDataManager.fillna\u001b[39m\u001b[34m(self, value, limit, inplace, downcast)\u001b[39m\n\u001b[32m    182\u001b[39m \u001b[38;5;28;01mif\u001b[39;00m limit \u001b[38;5;129;01mis\u001b[39;00m \u001b[38;5;129;01mnot\u001b[39;00m \u001b[38;5;28;01mNone\u001b[39;00m:\n\u001b[32m    183\u001b[39m     \u001b[38;5;66;03m# Do this validation even if we go through one of the no-op paths\u001b[39;00m\n\u001b[32m    184\u001b[39m     limit = libalgos.validate_limit(\u001b[38;5;28;01mNone\u001b[39;00m, limit=limit)\n\u001b[32m--> \u001b[39m\u001b[32m186\u001b[39m \u001b[38;5;28;01mreturn\u001b[39;00m \u001b[38;5;28;43mself\u001b[39;49m\u001b[43m.\u001b[49m\u001b[43mapply_with_block\u001b[49m\u001b[43m(\u001b[49m\n\u001b[32m    187\u001b[39m \u001b[43m    \u001b[49m\u001b[33;43m\"\u001b[39;49m\u001b[33;43mfillna\u001b[39;49m\u001b[33;43m\"\u001b[39;49m\u001b[43m,\u001b[49m\n\u001b[32m    188\u001b[39m \u001b[43m    \u001b[49m\u001b[43mvalue\u001b[49m\u001b[43m=\u001b[49m\u001b[43mvalue\u001b[49m\u001b[43m,\u001b[49m\n\u001b[32m    189\u001b[39m \u001b[43m    \u001b[49m\u001b[43mlimit\u001b[49m\u001b[43m=\u001b[49m\u001b[43mlimit\u001b[49m\u001b[43m,\u001b[49m\n\u001b[32m    190\u001b[39m \u001b[43m    \u001b[49m\u001b[43minplace\u001b[49m\u001b[43m=\u001b[49m\u001b[43minplace\u001b[49m\u001b[43m,\u001b[49m\n\u001b[32m    191\u001b[39m \u001b[43m    \u001b[49m\u001b[43mdowncast\u001b[49m\u001b[43m=\u001b[49m\u001b[43mdowncast\u001b[49m\u001b[43m,\u001b[49m\n\u001b[32m    192\u001b[39m \u001b[43m    \u001b[49m\u001b[43musing_cow\u001b[49m\u001b[43m=\u001b[49m\u001b[43musing_copy_on_write\u001b[49m\u001b[43m(\u001b[49m\u001b[43m)\u001b[49m\u001b[43m,\u001b[49m\n\u001b[32m    193\u001b[39m \u001b[43m    \u001b[49m\u001b[43malready_warned\u001b[49m\u001b[43m=\u001b[49m\u001b[43m_AlreadyWarned\u001b[49m\u001b[43m(\u001b[49m\u001b[43m)\u001b[49m\u001b[43m,\u001b[49m\n\u001b[32m    194\u001b[39m \u001b[43m\u001b[49m\u001b[43m)\u001b[49m\n",
      "\u001b[36mFile \u001b[39m\u001b[32m/usr/local/python/3.12.1/lib/python3.12/site-packages/pandas/core/internals/managers.py:363\u001b[39m, in \u001b[36mBaseBlockManager.apply\u001b[39m\u001b[34m(self, f, align_keys, **kwargs)\u001b[39m\n\u001b[32m    361\u001b[39m         applied = b.apply(f, **kwargs)\n\u001b[32m    362\u001b[39m     \u001b[38;5;28;01melse\u001b[39;00m:\n\u001b[32m--> \u001b[39m\u001b[32m363\u001b[39m         applied = \u001b[38;5;28;43mgetattr\u001b[39;49m\u001b[43m(\u001b[49m\u001b[43mb\u001b[49m\u001b[43m,\u001b[49m\u001b[43m \u001b[49m\u001b[43mf\u001b[49m\u001b[43m)\u001b[49m\u001b[43m(\u001b[49m\u001b[43m*\u001b[49m\u001b[43m*\u001b[49m\u001b[43mkwargs\u001b[49m\u001b[43m)\u001b[49m\n\u001b[32m    364\u001b[39m     result_blocks = extend_blocks(applied, result_blocks)\n\u001b[32m    366\u001b[39m out = \u001b[38;5;28mtype\u001b[39m(\u001b[38;5;28mself\u001b[39m).from_blocks(result_blocks, \u001b[38;5;28mself\u001b[39m.axes)\n",
      "\u001b[36mFile \u001b[39m\u001b[32m/usr/local/python/3.12.1/lib/python3.12/site-packages/pandas/core/internals/blocks.py:2334\u001b[39m, in \u001b[36mExtensionBlock.fillna\u001b[39m\u001b[34m(self, value, limit, inplace, downcast, using_cow, already_warned)\u001b[39m\n\u001b[32m   2331\u001b[39m \u001b[38;5;28;01mexcept\u001b[39;00m \u001b[38;5;167;01mTypeError\u001b[39;00m:\n\u001b[32m   2332\u001b[39m     \u001b[38;5;66;03m# 3rd party EA that has not implemented copy keyword yet\u001b[39;00m\n\u001b[32m   2333\u001b[39m     refs = \u001b[38;5;28;01mNone\u001b[39;00m\n\u001b[32m-> \u001b[39m\u001b[32m2334\u001b[39m     new_values = \u001b[38;5;28;43mself\u001b[39;49m\u001b[43m.\u001b[49m\u001b[43mvalues\u001b[49m\u001b[43m.\u001b[49m\u001b[43mfillna\u001b[49m\u001b[43m(\u001b[49m\u001b[43mvalue\u001b[49m\u001b[43m=\u001b[49m\u001b[43mvalue\u001b[49m\u001b[43m,\u001b[49m\u001b[43m \u001b[49m\u001b[43mmethod\u001b[49m\u001b[43m=\u001b[49m\u001b[38;5;28;43;01mNone\u001b[39;49;00m\u001b[43m,\u001b[49m\u001b[43m \u001b[49m\u001b[43mlimit\u001b[49m\u001b[43m=\u001b[49m\u001b[43mlimit\u001b[49m\u001b[43m)\u001b[49m\n\u001b[32m   2335\u001b[39m     \u001b[38;5;66;03m# issue the warning *after* retrying, in case the TypeError\u001b[39;00m\n\u001b[32m   2336\u001b[39m     \u001b[38;5;66;03m#  was caused by an invalid fill_value\u001b[39;00m\n\u001b[32m   2337\u001b[39m     warnings.warn(\n\u001b[32m   2338\u001b[39m         \u001b[38;5;66;03m# GH#53278\u001b[39;00m\n\u001b[32m   2339\u001b[39m         \u001b[33m\"\u001b[39m\u001b[33mExtensionArray.fillna added a \u001b[39m\u001b[33m'\u001b[39m\u001b[33mcopy\u001b[39m\u001b[33m'\u001b[39m\u001b[33m keyword in pandas \u001b[39m\u001b[33m\"\u001b[39m\n\u001b[32m   (...)\u001b[39m\u001b[32m   2345\u001b[39m         stacklevel=find_stack_level(),\n\u001b[32m   2346\u001b[39m     )\n",
      "\u001b[36mFile \u001b[39m\u001b[32m/usr/local/python/3.12.1/lib/python3.12/site-packages/pandas/core/arrays/_mixins.py:372\u001b[39m, in \u001b[36mNDArrayBackedExtensionArray.fillna\u001b[39m\u001b[34m(self, value, method, limit, copy)\u001b[39m\n\u001b[32m    370\u001b[39m         \u001b[38;5;28;01melse\u001b[39;00m:\n\u001b[32m    371\u001b[39m             new_values = \u001b[38;5;28mself\u001b[39m[:]\n\u001b[32m--> \u001b[39m\u001b[32m372\u001b[39m         \u001b[43mnew_values\u001b[49m\u001b[43m[\u001b[49m\u001b[43mmask\u001b[49m\u001b[43m]\u001b[49m = value\n\u001b[32m    373\u001b[39m \u001b[38;5;28;01melse\u001b[39;00m:\n\u001b[32m    374\u001b[39m     \u001b[38;5;66;03m# We validate the fill_value even if there is nothing to fill\u001b[39;00m\n\u001b[32m    375\u001b[39m     \u001b[38;5;28;01mif\u001b[39;00m value \u001b[38;5;129;01mis\u001b[39;00m \u001b[38;5;129;01mnot\u001b[39;00m \u001b[38;5;28;01mNone\u001b[39;00m:\n",
      "\u001b[36mFile \u001b[39m\u001b[32m/usr/local/python/3.12.1/lib/python3.12/site-packages/pandas/core/arrays/_mixins.py:261\u001b[39m, in \u001b[36mNDArrayBackedExtensionArray.__setitem__\u001b[39m\u001b[34m(self, key, value)\u001b[39m\n\u001b[32m    259\u001b[39m \u001b[38;5;28;01mdef\u001b[39;00m\u001b[38;5;250m \u001b[39m\u001b[34m__setitem__\u001b[39m(\u001b[38;5;28mself\u001b[39m, key, value) -> \u001b[38;5;28;01mNone\u001b[39;00m:\n\u001b[32m    260\u001b[39m     key = check_array_indexer(\u001b[38;5;28mself\u001b[39m, key)\n\u001b[32m--> \u001b[39m\u001b[32m261\u001b[39m     value = \u001b[38;5;28;43mself\u001b[39;49m\u001b[43m.\u001b[49m\u001b[43m_validate_setitem_value\u001b[49m\u001b[43m(\u001b[49m\u001b[43mvalue\u001b[49m\u001b[43m)\u001b[49m\n\u001b[32m    262\u001b[39m     \u001b[38;5;28mself\u001b[39m._ndarray[key] = value\n",
      "\u001b[36mFile \u001b[39m\u001b[32m/usr/local/python/3.12.1/lib/python3.12/site-packages/pandas/core/arrays/categorical.py:1589\u001b[39m, in \u001b[36mCategorical._validate_setitem_value\u001b[39m\u001b[34m(self, value)\u001b[39m\n\u001b[32m   1587\u001b[39m     \u001b[38;5;28;01mreturn\u001b[39;00m \u001b[38;5;28mself\u001b[39m._validate_listlike(value)\n\u001b[32m   1588\u001b[39m \u001b[38;5;28;01melse\u001b[39;00m:\n\u001b[32m-> \u001b[39m\u001b[32m1589\u001b[39m     \u001b[38;5;28;01mreturn\u001b[39;00m \u001b[38;5;28;43mself\u001b[39;49m\u001b[43m.\u001b[49m\u001b[43m_validate_scalar\u001b[49m\u001b[43m(\u001b[49m\u001b[43mvalue\u001b[49m\u001b[43m)\u001b[49m\n",
      "\u001b[36mFile \u001b[39m\u001b[32m/usr/local/python/3.12.1/lib/python3.12/site-packages/pandas/core/arrays/categorical.py:1614\u001b[39m, in \u001b[36mCategorical._validate_scalar\u001b[39m\u001b[34m(self, fill_value)\u001b[39m\n\u001b[32m   1612\u001b[39m     fill_value = \u001b[38;5;28mself\u001b[39m._unbox_scalar(fill_value)\n\u001b[32m   1613\u001b[39m \u001b[38;5;28;01melse\u001b[39;00m:\n\u001b[32m-> \u001b[39m\u001b[32m1614\u001b[39m     \u001b[38;5;28;01mraise\u001b[39;00m \u001b[38;5;167;01mTypeError\u001b[39;00m(\n\u001b[32m   1615\u001b[39m         \u001b[33m\"\u001b[39m\u001b[33mCannot setitem on a Categorical with a new \u001b[39m\u001b[33m\"\u001b[39m\n\u001b[32m   1616\u001b[39m         \u001b[33mf\u001b[39m\u001b[33m\"\u001b[39m\u001b[33mcategory (\u001b[39m\u001b[38;5;132;01m{\u001b[39;00mfill_value\u001b[38;5;132;01m}\u001b[39;00m\u001b[33m), set the categories first\u001b[39m\u001b[33m\"\u001b[39m\n\u001b[32m   1617\u001b[39m     ) \u001b[38;5;28;01mfrom\u001b[39;00m\u001b[38;5;250m \u001b[39m\u001b[38;5;28;01mNone\u001b[39;00m\n\u001b[32m   1618\u001b[39m \u001b[38;5;28;01mreturn\u001b[39;00m fill_value\n",
      "\u001b[31mTypeError\u001b[39m: Cannot setitem on a Categorical with a new category (1), set the categories first"
     ]
    }
   ],
   "source": [
    "# 2. imput when few, not that important\n",
    "data = data.assign(\n",
    "    n_bathrooms=lambda x: x[\"n_bathrooms\"].fillna(np.median(x[\"n_bathrooms\"].dropna())),\n",
    "    n_beds=lambda x: np.where(x[\"n_beds\"].isnull(), x[\"n_accommodates\"], x[\"n_beds\"]),\n",
    "    f_bathroom=lambda x: x[\"f_bathroom\"].fillna(1),\n",
    "    f_minimum_nights=lambda x: x[\"f_minimum_nights\"].fillna(1),\n",
    "    f_number_of_reviews=lambda x: x[\"f_number_of_reviews\"].fillna(1),\n",
    "    ln_beds=lambda x: x[\"ln_beds\"].fillna(0),\n",
    ")"
   ]
  },
  {
   "cell_type": "code",
   "execution_count": null,
   "metadata": {},
   "outputs": [],
   "source": [
    "# 3. drop columns when many missing not important\n",
    "data = data.drop([\"usd_cleaning_fee\", \"p_host_response_rate\"], axis=1)\n"
   ]
  },
  {
   "cell_type": "code",
   "execution_count": null,
   "metadata": {},
   "outputs": [
    {
     "data": {
      "text/plain": [
       "n_review_scores_rating    16501\n",
       "n_reviews_per_month       15741\n",
       "n_days_since              15741\n",
       "dtype: int64"
      ]
     },
     "execution_count": 28,
     "metadata": {},
     "output_type": "execute_result"
    }
   ],
   "source": [
    "to_filter = data.isna().sum()\n",
    "to_filter[to_filter > 0]\n"
   ]
  },
  {
   "cell_type": "code",
   "execution_count": null,
   "metadata": {},
   "outputs": [],
   "source": [
    "# 4. Replace missing variables re reviews with zero, when no review + add flags\n",
    "data = data.assign(\n",
    "    flag_days_since=np.multiply(data.n_days_since.isna(), 1),\n",
    "    n_days_since=data.n_days_since.fillna(np.median(data.n_days_since.dropna())),\n",
    "    flag_review_scores_rating=np.multiply(data.n_review_scores_rating.isna(), 1),\n",
    "    n_review_scores_rating=data.n_review_scores_rating.fillna(\n",
    "        np.median(data.n_review_scores_rating.dropna())\n",
    "    ),\n",
    "    flag_reviews_per_month=np.multiply(data.n_reviews_per_month.isna(), 1),\n",
    "    n_reviews_per_month=data.n_reviews_per_month.fillna(\n",
    "        np.median(data.n_reviews_per_month.dropna())\n",
    "    ),\n",
    "    flag_n_number_of_reviews=np.multiply(data.n_number_of_reviews.isna(), 1),\n",
    ")\n"
   ]
  },
  {
   "cell_type": "code",
   "execution_count": null,
   "metadata": {},
   "outputs": [
    {
     "data": {
      "text/plain": [
       "0    35905\n",
       "1    15741\n",
       "Name: flag_days_since, dtype: int64"
      ]
     },
     "execution_count": 30,
     "metadata": {},
     "output_type": "execute_result"
    }
   ],
   "source": [
    "data.flag_days_since.value_counts()\n"
   ]
  },
  {
   "cell_type": "code",
   "execution_count": null,
   "metadata": {},
   "outputs": [],
   "source": [
    "# redo features\n",
    "# Create variables, measuring the time since: squared, cubic, logs\n",
    "data = data.assign(\n",
    "    ln_days_since=lambda x: np.log(x[\"n_days_since\"] + 1),\n",
    "    ln_days_since2=lambda x: np.log(x[\"n_days_since\"] + 1) ** 2,\n",
    "    ln_days_since3=lambda x: np.log(x[\"n_days_since\"] + 1) ** 3,\n",
    "    n_days_since2=lambda x: x[\"n_days_since\"] ** 2,\n",
    "    n_days_since3=lambda x: x[\"n_days_since\"] ** 3,\n",
    "    ln_review_scores_rating=lambda x: np.log(x[\"n_review_scores_rating\"]),\n",
    ")\n"
   ]
  },
  {
   "cell_type": "code",
   "execution_count": null,
   "metadata": {},
   "outputs": [],
   "source": [
    "data.ln_days_since = data[\"ln_days_since\"].fillna(0)\n",
    "data.ln_days_since2 = data[\"ln_days_since2\"].fillna(0)\n",
    "data.ln_days_since3 = data[\"ln_days_since3\"].fillna(0)\n"
   ]
  },
  {
   "cell_type": "code",
   "execution_count": null,
   "metadata": {},
   "outputs": [
    {
     "data": {
      "text/plain": [
       "Series([], dtype: int64)"
      ]
     },
     "execution_count": 33,
     "metadata": {},
     "output_type": "execute_result"
    }
   ],
   "source": [
    "to_filter = data.isna().sum()\n",
    "to_filter[to_filter > 0]\n"
   ]
  },
  {
   "cell_type": "code",
   "execution_count": null,
   "metadata": {},
   "outputs": [
    {
     "data": {
      "text/html": [
       "<div>\n",
       "<style scoped>\n",
       "    .dataframe tbody tr th:only-of-type {\n",
       "        vertical-align: middle;\n",
       "    }\n",
       "\n",
       "    .dataframe tbody tr th {\n",
       "        vertical-align: top;\n",
       "    }\n",
       "\n",
       "    .dataframe thead th {\n",
       "        text-align: right;\n",
       "    }\n",
       "</style>\n",
       "<table border=\"1\" class=\"dataframe\">\n",
       "  <thead>\n",
       "    <tr style=\"text-align: right;\">\n",
       "      <th></th>\n",
       "      <th>n_accommodates</th>\n",
       "      <th>n_bathrooms</th>\n",
       "      <th>n_review_scores_rating</th>\n",
       "      <th>n_number_of_reviews</th>\n",
       "      <th>n_guests_included</th>\n",
       "      <th>n_reviews_per_month</th>\n",
       "      <th>n_extra_people</th>\n",
       "      <th>n_minimum_nights</th>\n",
       "      <th>n_beds</th>\n",
       "      <th>n_days_since</th>\n",
       "      <th>...</th>\n",
       "      <th>flag_days_since</th>\n",
       "      <th>flag_review_scores_rating</th>\n",
       "      <th>flag_reviews_per_month</th>\n",
       "      <th>flag_n_number_of_reviews</th>\n",
       "      <th>ln_days_since</th>\n",
       "      <th>ln_days_since2</th>\n",
       "      <th>ln_days_since3</th>\n",
       "      <th>n_days_since2</th>\n",
       "      <th>n_days_since3</th>\n",
       "      <th>ln_review_scores_rating</th>\n",
       "    </tr>\n",
       "  </thead>\n",
       "  <tbody>\n",
       "    <tr>\n",
       "      <th>count</th>\n",
       "      <td>51646.000000</td>\n",
       "      <td>51646.000000</td>\n",
       "      <td>51646.000000</td>\n",
       "      <td>51646.000000</td>\n",
       "      <td>51646.000000</td>\n",
       "      <td>51646.000000</td>\n",
       "      <td>51646.000000</td>\n",
       "      <td>51646.000000</td>\n",
       "      <td>51646.000000</td>\n",
       "      <td>51646.000000</td>\n",
       "      <td>...</td>\n",
       "      <td>51646.000000</td>\n",
       "      <td>51646.000000</td>\n",
       "      <td>51646.000000</td>\n",
       "      <td>51646.0</td>\n",
       "      <td>51646.000000</td>\n",
       "      <td>51646.000000</td>\n",
       "      <td>51646.000000</td>\n",
       "      <td>5.164600e+04</td>\n",
       "      <td>5.164600e+04</td>\n",
       "      <td>51646.000000</td>\n",
       "    </tr>\n",
       "    <tr>\n",
       "      <th>mean</th>\n",
       "      <td>3.057178</td>\n",
       "      <td>1.260708</td>\n",
       "      <td>92.439627</td>\n",
       "      <td>12.350327</td>\n",
       "      <td>1.415773</td>\n",
       "      <td>1.138970</td>\n",
       "      <td>6.665550</td>\n",
       "      <td>3.310266</td>\n",
       "      <td>1.708884</td>\n",
       "      <td>418.132595</td>\n",
       "      <td>...</td>\n",
       "      <td>0.304786</td>\n",
       "      <td>0.319502</td>\n",
       "      <td>0.304786</td>\n",
       "      <td>0.0</td>\n",
       "      <td>5.714039</td>\n",
       "      <td>33.464400</td>\n",
       "      <td>199.676817</td>\n",
       "      <td>2.936171e+05</td>\n",
       "      <td>3.051141e+08</td>\n",
       "      <td>4.520661</td>\n",
       "    </tr>\n",
       "    <tr>\n",
       "      <th>std</th>\n",
       "      <td>1.888509</td>\n",
       "      <td>0.527094</td>\n",
       "      <td>8.438353</td>\n",
       "      <td>25.860475</td>\n",
       "      <td>1.044884</td>\n",
       "      <td>1.236552</td>\n",
       "      <td>12.691355</td>\n",
       "      <td>29.083719</td>\n",
       "      <td>1.168387</td>\n",
       "      <td>344.651296</td>\n",
       "      <td>...</td>\n",
       "      <td>0.460321</td>\n",
       "      <td>0.466288</td>\n",
       "      <td>0.460321</td>\n",
       "      <td>0.0</td>\n",
       "      <td>0.902317</td>\n",
       "      <td>9.507929</td>\n",
       "      <td>80.289121</td>\n",
       "      <td>5.640849e+05</td>\n",
       "      <td>9.621195e+08</td>\n",
       "      <td>0.120946</td>\n",
       "    </tr>\n",
       "    <tr>\n",
       "      <th>min</th>\n",
       "      <td>1.000000</td>\n",
       "      <td>0.000000</td>\n",
       "      <td>20.000000</td>\n",
       "      <td>0.000000</td>\n",
       "      <td>1.000000</td>\n",
       "      <td>0.010000</td>\n",
       "      <td>0.000000</td>\n",
       "      <td>1.000000</td>\n",
       "      <td>0.000000</td>\n",
       "      <td>0.000000</td>\n",
       "      <td>...</td>\n",
       "      <td>0.000000</td>\n",
       "      <td>0.000000</td>\n",
       "      <td>0.000000</td>\n",
       "      <td>0.0</td>\n",
       "      <td>0.000000</td>\n",
       "      <td>0.000000</td>\n",
       "      <td>0.000000</td>\n",
       "      <td>0.000000e+00</td>\n",
       "      <td>0.000000e+00</td>\n",
       "      <td>2.995732</td>\n",
       "    </tr>\n",
       "    <tr>\n",
       "      <th>25%</th>\n",
       "      <td>2.000000</td>\n",
       "      <td>1.000000</td>\n",
       "      <td>92.000000</td>\n",
       "      <td>0.000000</td>\n",
       "      <td>1.000000</td>\n",
       "      <td>0.470000</td>\n",
       "      <td>0.000000</td>\n",
       "      <td>1.000000</td>\n",
       "      <td>1.000000</td>\n",
       "      <td>228.000000</td>\n",
       "      <td>...</td>\n",
       "      <td>0.000000</td>\n",
       "      <td>0.000000</td>\n",
       "      <td>0.000000</td>\n",
       "      <td>0.0</td>\n",
       "      <td>5.433722</td>\n",
       "      <td>29.525335</td>\n",
       "      <td>160.432461</td>\n",
       "      <td>5.198400e+04</td>\n",
       "      <td>1.185235e+07</td>\n",
       "      <td>4.521789</td>\n",
       "    </tr>\n",
       "    <tr>\n",
       "      <th>50%</th>\n",
       "      <td>2.000000</td>\n",
       "      <td>1.000000</td>\n",
       "      <td>94.000000</td>\n",
       "      <td>3.000000</td>\n",
       "      <td>1.000000</td>\n",
       "      <td>0.770000</td>\n",
       "      <td>0.000000</td>\n",
       "      <td>2.000000</td>\n",
       "      <td>1.000000</td>\n",
       "      <td>327.000000</td>\n",
       "      <td>...</td>\n",
       "      <td>0.000000</td>\n",
       "      <td>0.000000</td>\n",
       "      <td>0.000000</td>\n",
       "      <td>0.0</td>\n",
       "      <td>5.793014</td>\n",
       "      <td>33.559007</td>\n",
       "      <td>194.407782</td>\n",
       "      <td>1.069290e+05</td>\n",
       "      <td>3.496578e+07</td>\n",
       "      <td>4.543295</td>\n",
       "    </tr>\n",
       "    <tr>\n",
       "      <th>75%</th>\n",
       "      <td>4.000000</td>\n",
       "      <td>1.500000</td>\n",
       "      <td>97.000000</td>\n",
       "      <td>12.000000</td>\n",
       "      <td>1.000000</td>\n",
       "      <td>1.170000</td>\n",
       "      <td>10.000000</td>\n",
       "      <td>3.000000</td>\n",
       "      <td>2.000000</td>\n",
       "      <td>504.000000</td>\n",
       "      <td>...</td>\n",
       "      <td>1.000000</td>\n",
       "      <td>1.000000</td>\n",
       "      <td>1.000000</td>\n",
       "      <td>0.0</td>\n",
       "      <td>6.224558</td>\n",
       "      <td>38.745128</td>\n",
       "      <td>241.171311</td>\n",
       "      <td>2.540160e+05</td>\n",
       "      <td>1.280241e+08</td>\n",
       "      <td>4.574711</td>\n",
       "    </tr>\n",
       "    <tr>\n",
       "      <th>max</th>\n",
       "      <td>16.000000</td>\n",
       "      <td>8.000000</td>\n",
       "      <td>100.000000</td>\n",
       "      <td>396.000000</td>\n",
       "      <td>16.000000</td>\n",
       "      <td>15.000000</td>\n",
       "      <td>240.000000</td>\n",
       "      <td>5000.000000</td>\n",
       "      <td>16.000000</td>\n",
       "      <td>2722.000000</td>\n",
       "      <td>...</td>\n",
       "      <td>1.000000</td>\n",
       "      <td>1.000000</td>\n",
       "      <td>1.000000</td>\n",
       "      <td>0.0</td>\n",
       "      <td>7.909489</td>\n",
       "      <td>62.560024</td>\n",
       "      <td>494.817853</td>\n",
       "      <td>7.409284e+06</td>\n",
       "      <td>2.016807e+10</td>\n",
       "      <td>4.605170</td>\n",
       "    </tr>\n",
       "  </tbody>\n",
       "</table>\n",
       "<p>8 rows × 77 columns</p>\n",
       "</div>"
      ],
      "text/plain": [
       "       n_accommodates   n_bathrooms  n_review_scores_rating  \\\n",
       "count    51646.000000  51646.000000            51646.000000   \n",
       "mean         3.057178      1.260708               92.439627   \n",
       "std          1.888509      0.527094                8.438353   \n",
       "min          1.000000      0.000000               20.000000   \n",
       "25%          2.000000      1.000000               92.000000   \n",
       "50%          2.000000      1.000000               94.000000   \n",
       "75%          4.000000      1.500000               97.000000   \n",
       "max         16.000000      8.000000              100.000000   \n",
       "\n",
       "       n_number_of_reviews  n_guests_included  n_reviews_per_month  \\\n",
       "count         51646.000000       51646.000000         51646.000000   \n",
       "mean             12.350327           1.415773             1.138970   \n",
       "std              25.860475           1.044884             1.236552   \n",
       "min               0.000000           1.000000             0.010000   \n",
       "25%               0.000000           1.000000             0.470000   \n",
       "50%               3.000000           1.000000             0.770000   \n",
       "75%              12.000000           1.000000             1.170000   \n",
       "max             396.000000          16.000000            15.000000   \n",
       "\n",
       "       n_extra_people  n_minimum_nights        n_beds  n_days_since  ...  \\\n",
       "count    51646.000000      51646.000000  51646.000000  51646.000000  ...   \n",
       "mean         6.665550          3.310266      1.708884    418.132595  ...   \n",
       "std         12.691355         29.083719      1.168387    344.651296  ...   \n",
       "min          0.000000          1.000000      0.000000      0.000000  ...   \n",
       "25%          0.000000          1.000000      1.000000    228.000000  ...   \n",
       "50%          0.000000          2.000000      1.000000    327.000000  ...   \n",
       "75%         10.000000          3.000000      2.000000    504.000000  ...   \n",
       "max        240.000000       5000.000000     16.000000   2722.000000  ...   \n",
       "\n",
       "       flag_days_since  flag_review_scores_rating  flag_reviews_per_month  \\\n",
       "count     51646.000000               51646.000000            51646.000000   \n",
       "mean          0.304786                   0.319502                0.304786   \n",
       "std           0.460321                   0.466288                0.460321   \n",
       "min           0.000000                   0.000000                0.000000   \n",
       "25%           0.000000                   0.000000                0.000000   \n",
       "50%           0.000000                   0.000000                0.000000   \n",
       "75%           1.000000                   1.000000                1.000000   \n",
       "max           1.000000                   1.000000                1.000000   \n",
       "\n",
       "       flag_n_number_of_reviews  ln_days_since  ln_days_since2  \\\n",
       "count                   51646.0   51646.000000    51646.000000   \n",
       "mean                        0.0       5.714039       33.464400   \n",
       "std                         0.0       0.902317        9.507929   \n",
       "min                         0.0       0.000000        0.000000   \n",
       "25%                         0.0       5.433722       29.525335   \n",
       "50%                         0.0       5.793014       33.559007   \n",
       "75%                         0.0       6.224558       38.745128   \n",
       "max                         0.0       7.909489       62.560024   \n",
       "\n",
       "       ln_days_since3  n_days_since2  n_days_since3  ln_review_scores_rating  \n",
       "count    51646.000000   5.164600e+04   5.164600e+04             51646.000000  \n",
       "mean       199.676817   2.936171e+05   3.051141e+08                 4.520661  \n",
       "std         80.289121   5.640849e+05   9.621195e+08                 0.120946  \n",
       "min          0.000000   0.000000e+00   0.000000e+00                 2.995732  \n",
       "25%        160.432461   5.198400e+04   1.185235e+07                 4.521789  \n",
       "50%        194.407782   1.069290e+05   3.496578e+07                 4.543295  \n",
       "75%        241.171311   2.540160e+05   1.280241e+08                 4.574711  \n",
       "max        494.817853   7.409284e+06   2.016807e+10                 4.605170  \n",
       "\n",
       "[8 rows x 77 columns]"
      ]
     },
     "execution_count": 34,
     "metadata": {},
     "output_type": "execute_result"
    }
   ],
   "source": [
    "data.describe()\n"
   ]
  },
  {
   "cell_type": "code",
   "execution_count": null,
   "metadata": {},
   "outputs": [],
   "source": [
    "data.to_csv(data_out + \"airbnb_london_workfile_adj.csv\", index=False)\n"
   ]
  },
  {
   "cell_type": "code",
   "execution_count": null,
   "metadata": {},
   "outputs": [],
   "source": []
  }
 ],
 "metadata": {
  "kernelspec": {
   "display_name": "Python 3",
   "language": "python",
   "name": "python3"
  },
  "language_info": {
   "codemirror_mode": {
    "name": "ipython",
    "version": 3
   },
   "file_extension": ".py",
   "mimetype": "text/x-python",
   "name": "python",
   "nbconvert_exporter": "python",
   "pygments_lexer": "ipython3",
   "version": "3.12.1"
  }
 },
 "nbformat": 4,
 "nbformat_minor": 4
}
