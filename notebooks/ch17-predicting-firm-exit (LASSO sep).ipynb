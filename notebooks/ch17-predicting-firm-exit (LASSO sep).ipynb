{
 "cells": [
  {
   "cell_type": "markdown",
   "metadata": {},
   "source": [
    "#### Prepared for Gabor's Data Analysis\n",
    "\n",
    "# Data Analysis for Business, Economics, and Policy\n",
    "by Gabor Bekes and  Gabor Kezdi\n",
    " \n",
    "Cambridge University Press 2021\n",
    "\n",
    "**[gabors-data-analysis.com ](https://gabors-data-analysis.com/)**\n",
    "\n",
    " License: Free to share, modify and use for educational purposes. \n",
    " Not to be used for commercial purposes.\n",
    "\n",
    "# Chapter 17\n",
    "\n",
    "## Predicting firm exit"
   ]
  },
  {
   "cell_type": "code",
   "execution_count": 2,
   "metadata": {},
   "outputs": [],
   "source": [
    "import os\n",
    "import sys\n",
    "import warnings\n",
    "\n",
    "import matplotlib.pyplot as plt\n",
    "import numpy as np\n",
    "import pandas as pd\n",
    "import patsy\n",
    "import sklearn.metrics as metrics\n",
    "import statsmodels.formula.api as smf\n",
    "from plotnine import *\n",
    "from sklearn.ensemble import RandomForestClassifier\n",
    "from sklearn.linear_model import (\n",
    "    LinearRegression,\n",
    "    LogisticRegression,\n",
    "    LogisticRegressionCV,\n",
    ")\n",
    "from sklearn.metrics import (\n",
    "    auc,\n",
    "    brier_score_loss,\n",
    "    confusion_matrix,\n",
    "    mean_squared_error,\n",
    "    roc_auc_score,\n",
    "    roc_curve,\n",
    ")\n",
    "from sklearn.model_selection import GridSearchCV, KFold, train_test_split\n",
    "from sklearn.preprocessing import StandardScaler\n",
    "from statsmodels.tools.eval_measures import rmse\n",
    "\n",
    "warnings.filterwarnings(\"ignore\")"
   ]
  },
  {
   "cell_type": "code",
   "execution_count": 3,
   "metadata": {},
   "outputs": [],
   "source": [
    "# Current script folder\n",
    "path = os.getcwd()\n",
    "base_dir = path.split(\"da_case_studies\")[0]\n",
    "\n",
    "# Set the location of your data directory\n",
    "data_dir = base_dir + \"da_data_repo\"\n",
    "\n",
    "# location folders\n",
    "data_in = os.path.join(data_dir, \"bisnode-firms/clean/\")\n",
    "data_out = os.path.join(data_dir, \"bisnode-firms/\")\n",
    "output = os.path.join(data_out, \"output/\")\n",
    "func = os.path.join(base_dir, \"da_case_studies/ch00-tech-prep/\")\n",
    "sys.path.append(func)\n",
    "\n"
   ]
  },
  {
   "cell_type": "markdown",
   "metadata": {},
   "source": [
    "## Import data"
   ]
  },
  {
   "cell_type": "code",
   "execution_count": 4,
   "metadata": {},
   "outputs": [],
   "source": [
    "# !!! make sure you have run ch17-firm-exit-data-prep.ipynb before\n",
    "data = pd.read_csv(\"/workspaces/codespaces-jupyter/data/bisnode_firms_clean.csv\")"
   ]
  },
  {
   "cell_type": "code",
   "execution_count": 5,
   "metadata": {},
   "outputs": [
    {
     "data": {
      "text/html": [
       "<div>\n",
       "<style scoped>\n",
       "    .dataframe tbody tr th:only-of-type {\n",
       "        vertical-align: middle;\n",
       "    }\n",
       "\n",
       "    .dataframe tbody tr th {\n",
       "        vertical-align: top;\n",
       "    }\n",
       "\n",
       "    .dataframe thead th {\n",
       "        text-align: right;\n",
       "    }\n",
       "</style>\n",
       "<table border=\"1\" class=\"dataframe\">\n",
       "  <thead>\n",
       "    <tr style=\"text-align: right;\">\n",
       "      <th></th>\n",
       "      <th>year</th>\n",
       "      <th>comp_id</th>\n",
       "      <th>amort</th>\n",
       "      <th>curr_assets</th>\n",
       "      <th>curr_liab</th>\n",
       "      <th>extra_exp</th>\n",
       "      <th>extra_inc</th>\n",
       "      <th>extra_profit_loss</th>\n",
       "      <th>fixed_assets</th>\n",
       "      <th>inc_bef_tax</th>\n",
       "      <th>...</th>\n",
       "      <th>flag_high_ceo_age</th>\n",
       "      <th>flag_miss_ceo_age</th>\n",
       "      <th>ceo_young</th>\n",
       "      <th>labor_avg_mod</th>\n",
       "      <th>flag_miss_labor_avg</th>\n",
       "      <th>sales_mil_log_sq</th>\n",
       "      <th>flag_low_d1_sales_mil_log</th>\n",
       "      <th>flag_high_d1_sales_mil_log</th>\n",
       "      <th>d1_sales_mil_log_mod</th>\n",
       "      <th>d1_sales_mil_log_mod_sq</th>\n",
       "    </tr>\n",
       "  </thead>\n",
       "  <tbody>\n",
       "    <tr>\n",
       "      <th>count</th>\n",
       "      <td>19036.0</td>\n",
       "      <td>1.903600e+04</td>\n",
       "      <td>1.903600e+04</td>\n",
       "      <td>1.903600e+04</td>\n",
       "      <td>1.903600e+04</td>\n",
       "      <td>19036.000000</td>\n",
       "      <td>1.903600e+04</td>\n",
       "      <td>1.903600e+04</td>\n",
       "      <td>1.903600e+04</td>\n",
       "      <td>1.903600e+04</td>\n",
       "      <td>...</td>\n",
       "      <td>19036.000000</td>\n",
       "      <td>19036.000000</td>\n",
       "      <td>19036.000000</td>\n",
       "      <td>19036.000000</td>\n",
       "      <td>19036.000000</td>\n",
       "      <td>1.903600e+04</td>\n",
       "      <td>19036.000000</td>\n",
       "      <td>19036.000000</td>\n",
       "      <td>19036.000000</td>\n",
       "      <td>19036.000000</td>\n",
       "    </tr>\n",
       "    <tr>\n",
       "      <th>mean</th>\n",
       "      <td>2012.0</td>\n",
       "      <td>1.529275e+11</td>\n",
       "      <td>9.274374e+03</td>\n",
       "      <td>9.914862e+04</td>\n",
       "      <td>8.567028e+04</td>\n",
       "      <td>418.017165</td>\n",
       "      <td>1.641894e+03</td>\n",
       "      <td>1.220200e+03</td>\n",
       "      <td>1.451590e+05</td>\n",
       "      <td>5.869079e+03</td>\n",
       "      <td>...</td>\n",
       "      <td>0.004150</td>\n",
       "      <td>0.145619</td>\n",
       "      <td>0.267388</td>\n",
       "      <td>0.627548</td>\n",
       "      <td>0.135900</td>\n",
       "      <td>1.225573e+01</td>\n",
       "      <td>0.038926</td>\n",
       "      <td>0.021538</td>\n",
       "      <td>-0.048296</td>\n",
       "      <td>0.287703</td>\n",
       "    </tr>\n",
       "    <tr>\n",
       "      <th>std</th>\n",
       "      <td>0.0</td>\n",
       "      <td>1.377319e+11</td>\n",
       "      <td>4.975021e+04</td>\n",
       "      <td>4.377075e+05</td>\n",
       "      <td>4.202974e+05</td>\n",
       "      <td>7141.930068</td>\n",
       "      <td>3.283540e+04</td>\n",
       "      <td>3.212567e+04</td>\n",
       "      <td>1.105861e+06</td>\n",
       "      <td>1.305634e+05</td>\n",
       "      <td>...</td>\n",
       "      <td>0.064289</td>\n",
       "      <td>0.352733</td>\n",
       "      <td>0.442608</td>\n",
       "      <td>1.473032</td>\n",
       "      <td>0.342692</td>\n",
       "      <td>1.042676e+01</td>\n",
       "      <td>0.193424</td>\n",
       "      <td>0.145174</td>\n",
       "      <td>0.534214</td>\n",
       "      <td>0.602235</td>\n",
       "    </tr>\n",
       "    <tr>\n",
       "      <th>min</th>\n",
       "      <td>2012.0</td>\n",
       "      <td>1.001541e+06</td>\n",
       "      <td>-1.489630e+04</td>\n",
       "      <td>0.000000e+00</td>\n",
       "      <td>-8.759259e+03</td>\n",
       "      <td>-1418.518555</td>\n",
       "      <td>-1.740741e+02</td>\n",
       "      <td>-2.484481e+05</td>\n",
       "      <td>0.000000e+00</td>\n",
       "      <td>-1.091879e+07</td>\n",
       "      <td>...</td>\n",
       "      <td>0.000000</td>\n",
       "      <td>0.000000</td>\n",
       "      <td>0.000000</td>\n",
       "      <td>0.083333</td>\n",
       "      <td>0.000000</td>\n",
       "      <td>2.074996e-07</td>\n",
       "      <td>0.000000</td>\n",
       "      <td>0.000000</td>\n",
       "      <td>-1.500000</td>\n",
       "      <td>0.000000</td>\n",
       "    </tr>\n",
       "    <tr>\n",
       "      <th>25%</th>\n",
       "      <td>2012.0</td>\n",
       "      <td>2.868348e+10</td>\n",
       "      <td>1.185185e+02</td>\n",
       "      <td>3.314815e+03</td>\n",
       "      <td>3.822222e+03</td>\n",
       "      <td>0.000000</td>\n",
       "      <td>0.000000e+00</td>\n",
       "      <td>0.000000e+00</td>\n",
       "      <td>1.074074e+02</td>\n",
       "      <td>-6.519444e+03</td>\n",
       "      <td>...</td>\n",
       "      <td>0.000000</td>\n",
       "      <td>0.000000</td>\n",
       "      <td>0.000000</td>\n",
       "      <td>0.125000</td>\n",
       "      <td>0.000000</td>\n",
       "      <td>4.049695e+00</td>\n",
       "      <td>0.000000</td>\n",
       "      <td>0.000000</td>\n",
       "      <td>-0.194249</td>\n",
       "      <td>0.000654</td>\n",
       "    </tr>\n",
       "    <tr>\n",
       "      <th>50%</th>\n",
       "      <td>2012.0</td>\n",
       "      <td>1.142688e+11</td>\n",
       "      <td>8.814815e+02</td>\n",
       "      <td>1.146852e+04</td>\n",
       "      <td>1.485185e+04</td>\n",
       "      <td>0.000000</td>\n",
       "      <td>0.000000e+00</td>\n",
       "      <td>0.000000e+00</td>\n",
       "      <td>4.600000e+03</td>\n",
       "      <td>2.407407e+02</td>\n",
       "      <td>...</td>\n",
       "      <td>0.000000</td>\n",
       "      <td>0.000000</td>\n",
       "      <td>0.000000</td>\n",
       "      <td>0.291667</td>\n",
       "      <td>0.000000</td>\n",
       "      <td>9.767982e+00</td>\n",
       "      <td>0.000000</td>\n",
       "      <td>0.000000</td>\n",
       "      <td>0.000000</td>\n",
       "      <td>0.025531</td>\n",
       "    </tr>\n",
       "    <tr>\n",
       "      <th>75%</th>\n",
       "      <td>2012.0</td>\n",
       "      <td>2.556061e+11</td>\n",
       "      <td>4.070370e+03</td>\n",
       "      <td>4.023333e+04</td>\n",
       "      <td>4.803796e+04</td>\n",
       "      <td>0.000000</td>\n",
       "      <td>0.000000e+00</td>\n",
       "      <td>0.000000e+00</td>\n",
       "      <td>3.940926e+04</td>\n",
       "      <td>4.066667e+03</td>\n",
       "      <td>...</td>\n",
       "      <td>0.000000</td>\n",
       "      <td>0.000000</td>\n",
       "      <td>1.000000</td>\n",
       "      <td>0.621691</td>\n",
       "      <td>0.000000</td>\n",
       "      <td>1.754330e+01</td>\n",
       "      <td>0.000000</td>\n",
       "      <td>0.000000</td>\n",
       "      <td>0.130772</td>\n",
       "      <td>0.188141</td>\n",
       "    </tr>\n",
       "    <tr>\n",
       "      <th>max</th>\n",
       "      <td>2012.0</td>\n",
       "      <td>4.641050e+11</td>\n",
       "      <td>3.570863e+06</td>\n",
       "      <td>1.874527e+07</td>\n",
       "      <td>3.660118e+07</td>\n",
       "      <td>666300.000000</td>\n",
       "      <td>3.266667e+06</td>\n",
       "      <td>3.253704e+06</td>\n",
       "      <td>1.036673e+08</td>\n",
       "      <td>4.378226e+06</td>\n",
       "      <td>...</td>\n",
       "      <td>1.000000</td>\n",
       "      <td>1.000000</td>\n",
       "      <td>1.000000</td>\n",
       "      <td>42.118057</td>\n",
       "      <td>1.000000</td>\n",
       "      <td>4.771708e+01</td>\n",
       "      <td>1.000000</td>\n",
       "      <td>1.000000</td>\n",
       "      <td>1.500000</td>\n",
       "      <td>2.250000</td>\n",
       "    </tr>\n",
       "  </tbody>\n",
       "</table>\n",
       "<p>8 rows × 108 columns</p>\n",
       "</div>"
      ],
      "text/plain": [
       "          year       comp_id         amort   curr_assets     curr_liab  \\\n",
       "count  19036.0  1.903600e+04  1.903600e+04  1.903600e+04  1.903600e+04   \n",
       "mean    2012.0  1.529275e+11  9.274374e+03  9.914862e+04  8.567028e+04   \n",
       "std        0.0  1.377319e+11  4.975021e+04  4.377075e+05  4.202974e+05   \n",
       "min     2012.0  1.001541e+06 -1.489630e+04  0.000000e+00 -8.759259e+03   \n",
       "25%     2012.0  2.868348e+10  1.185185e+02  3.314815e+03  3.822222e+03   \n",
       "50%     2012.0  1.142688e+11  8.814815e+02  1.146852e+04  1.485185e+04   \n",
       "75%     2012.0  2.556061e+11  4.070370e+03  4.023333e+04  4.803796e+04   \n",
       "max     2012.0  4.641050e+11  3.570863e+06  1.874527e+07  3.660118e+07   \n",
       "\n",
       "           extra_exp     extra_inc  extra_profit_loss  fixed_assets  \\\n",
       "count   19036.000000  1.903600e+04       1.903600e+04  1.903600e+04   \n",
       "mean      418.017165  1.641894e+03       1.220200e+03  1.451590e+05   \n",
       "std      7141.930068  3.283540e+04       3.212567e+04  1.105861e+06   \n",
       "min     -1418.518555 -1.740741e+02      -2.484481e+05  0.000000e+00   \n",
       "25%         0.000000  0.000000e+00       0.000000e+00  1.074074e+02   \n",
       "50%         0.000000  0.000000e+00       0.000000e+00  4.600000e+03   \n",
       "75%         0.000000  0.000000e+00       0.000000e+00  3.940926e+04   \n",
       "max    666300.000000  3.266667e+06       3.253704e+06  1.036673e+08   \n",
       "\n",
       "        inc_bef_tax  ...  flag_high_ceo_age  flag_miss_ceo_age     ceo_young  \\\n",
       "count  1.903600e+04  ...       19036.000000       19036.000000  19036.000000   \n",
       "mean   5.869079e+03  ...           0.004150           0.145619      0.267388   \n",
       "std    1.305634e+05  ...           0.064289           0.352733      0.442608   \n",
       "min   -1.091879e+07  ...           0.000000           0.000000      0.000000   \n",
       "25%   -6.519444e+03  ...           0.000000           0.000000      0.000000   \n",
       "50%    2.407407e+02  ...           0.000000           0.000000      0.000000   \n",
       "75%    4.066667e+03  ...           0.000000           0.000000      1.000000   \n",
       "max    4.378226e+06  ...           1.000000           1.000000      1.000000   \n",
       "\n",
       "       labor_avg_mod  flag_miss_labor_avg  sales_mil_log_sq  \\\n",
       "count   19036.000000         19036.000000      1.903600e+04   \n",
       "mean        0.627548             0.135900      1.225573e+01   \n",
       "std         1.473032             0.342692      1.042676e+01   \n",
       "min         0.083333             0.000000      2.074996e-07   \n",
       "25%         0.125000             0.000000      4.049695e+00   \n",
       "50%         0.291667             0.000000      9.767982e+00   \n",
       "75%         0.621691             0.000000      1.754330e+01   \n",
       "max        42.118057             1.000000      4.771708e+01   \n",
       "\n",
       "       flag_low_d1_sales_mil_log  flag_high_d1_sales_mil_log  \\\n",
       "count               19036.000000                19036.000000   \n",
       "mean                    0.038926                    0.021538   \n",
       "std                     0.193424                    0.145174   \n",
       "min                     0.000000                    0.000000   \n",
       "25%                     0.000000                    0.000000   \n",
       "50%                     0.000000                    0.000000   \n",
       "75%                     0.000000                    0.000000   \n",
       "max                     1.000000                    1.000000   \n",
       "\n",
       "       d1_sales_mil_log_mod  d1_sales_mil_log_mod_sq  \n",
       "count          19036.000000             19036.000000  \n",
       "mean              -0.048296                 0.287703  \n",
       "std                0.534214                 0.602235  \n",
       "min               -1.500000                 0.000000  \n",
       "25%               -0.194249                 0.000654  \n",
       "50%                0.000000                 0.025531  \n",
       "75%                0.130772                 0.188141  \n",
       "max                1.500000                 2.250000  \n",
       "\n",
       "[8 rows x 108 columns]"
      ]
     },
     "execution_count": 5,
     "metadata": {},
     "output_type": "execute_result"
    }
   ],
   "source": [
    "data.describe()"
   ]
  },
  {
   "cell_type": "markdown",
   "metadata": {},
   "source": [
    "## Define helper functions"
   ]
  },
  {
   "cell_type": "code",
   "execution_count": 6,
   "metadata": {},
   "outputs": [],
   "source": [
    "def regression_results(y_true, y_pred):\n",
    "\n",
    "    # Regression metrics\n",
    "    explained_variance = metrics.explained_variance_score(y_true, y_pred)\n",
    "    mean_absolute_error = metrics.mean_absolute_error(y_true, y_pred)\n",
    "    mse = metrics.mean_squared_error(y_true, y_pred)\n",
    "    median_absolute_error = metrics.median_absolute_error(y_true, y_pred)\n",
    "    r2 = metrics.r2_score(y_true, y_pred)\n",
    "\n",
    "    print(\"explained_variance: \", round(explained_variance, 4))\n",
    "    print(\"r2: \", round(r2, 4))\n",
    "    print(\"MAE: \", round(mean_absolute_error, 4))\n",
    "    print(\"MSE: \", round(mse, 4))\n",
    "    print(\"RMSE: \", round(np.sqrt(mse), 4))\n",
    "\n",
    "\n",
    "def coef_matrix(X, model):\n",
    "\n",
    "    coef_matrix = pd.concat(\n",
    "        [pd.DataFrame(X.columns), pd.DataFrame(np.transpose(model.coef_))], axis=1\n",
    "    )\n",
    "    coef_matrix.columns = [\"variable\", \"coefficient\"]\n",
    "    coef_matrix = coef_matrix.append(\n",
    "        {\"variable\": \"Intercept\", \"coefficient\": model.intercept_},\n",
    "        ignore_index=True,\n",
    "    )\n",
    "    return coef_matrix\n",
    "\n",
    "\n",
    "def cv_summary(lambdas, C_values, model):\n",
    "    d = {\n",
    "        \"lambdas\": lambdas,\n",
    "        \"C_values\": C_values,\n",
    "        \"mean_cv_score\": model.scores_[1].mean(axis=0),\n",
    "    }\n",
    "    return pd.DataFrame(data=d)\n"
   ]
  },
  {
   "cell_type": "code",
   "execution_count": 7,
   "metadata": {},
   "outputs": [],
   "source": [
    "import seaborn as sns\n",
    "\n",
    "def create_roc_plot(y_true, y_pred):\n",
    "    fpr, tpr, thresholds = roc_curve(y_true, y_pred)\n",
    "    plt.figure(figsize=(8, 6))\n",
    "    plt.plot(fpr, tpr, color=\"blue\", label=\"ROC Curve\")\n",
    "    plt.fill_between(fpr, tpr, alpha=0.3, color=\"mediumaquamarine\")\n",
    "    plt.plot([0, 1], [0, 1], linestyle=\"--\", color=\"black\", label=\"Random Guess\")\n",
    "    plt.xlabel(\"False Positive Rate (1-Specificity)\")\n",
    "    plt.ylabel(\"True Positive Rate (Sensitivity)\")\n",
    "    plt.title(\"ROC Curve\")\n",
    "    plt.legend()\n",
    "    plt.grid(True)\n",
    "    plt.show()\n",
    "\n",
    "\n",
    "def sigmoid_array(x):\n",
    "    return 1 / (1 + np.exp(-x))\n",
    "\n",
    "\n",
    "def generate_fold_prediction(model, X, fold, param_index):\n",
    "    fold_coef = model.coefs_paths_[1][fold, param_index, :]\n",
    "    return sigmoid_array(\n",
    "        np.dot(X, np.transpose(fold_coef)[:-1]) + np.transpose(fold_coef)[-1]\n",
    "    )\n",
    "\n",
    "\n",
    "def create_loss_plot(all_coords, optimal_threshold, curr_exp_loss):\n",
    "    all_coords_copy = all_coords.copy()\n",
    "    all_coords_copy[\"loss\"] = (\n",
    "        all_coords_copy.false_pos * FP + all_coords_copy.false_neg * FN\n",
    "    ) / all_coords_copy.n\n",
    "\n",
    "    plt.figure(figsize=(8, 6))\n",
    "    sns.lineplot(x=\"thresholds\", y=\"loss\", data=all_coords_copy, color=\"blue\")\n",
    "    plt.axvline(x=optimal_threshold, color=\"red\", linestyle=\"--\", label=\"Optimal Threshold\")\n",
    "    plt.text(\n",
    "        optimal_threshold - 0.01,\n",
    "        max(all_coords_copy[\"loss\"]) - 0.4,\n",
    "        f\"Best Threshold: {round(optimal_threshold, 2)}\",\n",
    "        rotation=90,\n",
    "        color=\"red\",\n",
    "    )\n",
    "    plt.text(optimal_threshold + 0.06, curr_exp_loss, f\"{round(curr_exp_loss, 2)}\", color=\"black\")\n",
    "    plt.xlabel(\"Thresholds\")\n",
    "    plt.ylabel(\"Loss\")\n",
    "    plt.title(\"Loss Plot\")\n",
    "    plt.legend()\n",
    "    plt.grid(True)\n",
    "    plt.show()\n",
    "\n",
    "\n",
    "def create_roc_plot_with_optimal(all_coords, optimal_threshold):\n",
    "    all_coords_copy = all_coords.copy()\n",
    "    all_coords_copy[\"sp\"] = 1 - all_coords_copy.true_neg / all_coords_copy.neg\n",
    "    all_coords_copy[\"se\"] = all_coords_copy.true_pos / all_coords_copy.pos\n",
    "\n",
    "    best_coords = all_coords_copy[all_coords_copy.thresholds == optimal_threshold]\n",
    "    sp = best_coords.sp.values[0]\n",
    "    se = best_coords.se.values[0]\n",
    "\n",
    "    plt.figure(figsize=(8, 6))\n",
    "    sns.lineplot(x=\"sp\", y=\"se\", data=all_coords_copy, color=\"blue\", label=\"ROC Curve\")\n",
    "    plt.scatter([sp], [se], color=\"red\", label=f\"Optimal Point ({round(sp, 2)}, {round(se, 2)})\")\n",
    "    plt.fill_between(all_coords_copy[\"sp\"], all_coords_copy[\"se\"], alpha=0.3, color=\"mediumaquamarine\")\n",
    "    plt.plot([0, 1], [0, 1], linestyle=\"--\", color=\"black\", label=\"Random Guess\")\n",
    "    plt.xlabel(\"False Positive Rate (1-Specificity)\")\n",
    "    plt.ylabel(\"True Positive Rate (Sensitivity)\")\n",
    "    plt.title(\"ROC Curve with Optimal Threshold\")\n",
    "    plt.legend()\n",
    "    plt.grid(True)\n",
    "    plt.show()\n"
   ]
  },
  {
   "cell_type": "markdown",
   "metadata": {},
   "source": [
    "## Model building\n",
    "\n",
    "### Define variable sets "
   ]
  },
  {
   "cell_type": "markdown",
   "metadata": {},
   "source": [
    " Main firm variables"
   ]
  },
  {
   "cell_type": "code",
   "execution_count": 8,
   "metadata": {},
   "outputs": [],
   "source": [
    "rawvars = [\n",
    "    \"curr_assets\",\n",
    "    \"curr_liab\",\n",
    "    \"extra_exp\",\n",
    "    \"extra_inc\",\n",
    "    \"extra_profit_loss\",\n",
    "    \"fixed_assets\",\n",
    "    \"inc_bef_tax\",\n",
    "    \"intang_assets\",\n",
    "    \"inventories\",\n",
    "    \"liq_assets\",\n",
    "    \"material_exp\",\n",
    "    \"personnel_exp\",\n",
    "    \"profit_loss_year\",\n",
    "    \"sales\",\n",
    "    \"share_eq\",\n",
    "    \"subscribed_cap\",\n",
    "]"
   ]
  },
  {
   "cell_type": "markdown",
   "metadata": {},
   "source": [
    "Further financial variables"
   ]
  },
  {
   "cell_type": "code",
   "execution_count": 9,
   "metadata": {},
   "outputs": [],
   "source": [
    "qualityvars = [\"balsheet_flag\", \"balsheet_length\", \"balsheet_notfullyear\"]\n",
    "engvar = [\n",
    "    \"total_assets_bs\",\n",
    "    \"fixed_assets_bs\",\n",
    "    \"liq_assets_bs\",\n",
    "    \"curr_assets_bs\",\n",
    "    \"share_eq_bs\",\n",
    "    \"subscribed_cap_bs\",\n",
    "    \"intang_assets_bs\",\n",
    "    \"extra_exp_pl\",\n",
    "    \"extra_inc_pl\",\n",
    "    \"extra_profit_loss_pl\",\n",
    "    \"inc_bef_tax_pl\",\n",
    "    \"inventories_pl\",\n",
    "    \"material_exp_pl\",\n",
    "    \"profit_loss_year_pl\",\n",
    "    \"personnel_exp_pl\",\n",
    "]\n",
    "engvar2 = [\n",
    "    \"extra_profit_loss_pl_quad\",\n",
    "    \"inc_bef_tax_pl_quad\",\n",
    "    \"profit_loss_year_pl_quad\",\n",
    "    \"share_eq_bs_quad\",\n",
    "]"
   ]
  },
  {
   "cell_type": "markdown",
   "metadata": {},
   "source": [
    " Flag variables"
   ]
  },
  {
   "cell_type": "code",
   "execution_count": 10,
   "metadata": {},
   "outputs": [],
   "source": [
    "engvar3 = []\n",
    "for col in data.columns:\n",
    "    if (\n",
    "        col.endswith(\"flag_low\")\n",
    "        or col.endswith(\"flag_high\")\n",
    "        or col.endswith(\"flag_error\")\n",
    "        or col.endswith(\"flag_zero\")\n",
    "    ):\n",
    "        engvar3.append(col)"
   ]
  },
  {
   "cell_type": "markdown",
   "metadata": {},
   "source": [
    "Growth variables"
   ]
  },
  {
   "cell_type": "code",
   "execution_count": 11,
   "metadata": {},
   "outputs": [],
   "source": [
    "d1 = [\n",
    "    \"d1_sales_mil_log_mod\",\n",
    "    \"d1_sales_mil_log_mod_sq\",\n",
    "    \"flag_low_d1_sales_mil_log\",\n",
    "    \"flag_high_d1_sales_mil_log\",\n",
    "]"
   ]
  },
  {
   "cell_type": "markdown",
   "metadata": {},
   "source": [
    "Human capital related variables"
   ]
  },
  {
   "cell_type": "code",
   "execution_count": 12,
   "metadata": {},
   "outputs": [],
   "source": [
    "hr = [\n",
    "    \"female\",\n",
    "    \"ceo_age\",\n",
    "    \"flag_high_ceo_age\",\n",
    "    \"flag_low_ceo_age\",\n",
    "    \"flag_miss_ceo_age\",\n",
    "    \"ceo_count\",\n",
    "    \"labor_avg_mod\",\n",
    "    \"flag_miss_labor_avg\",\n",
    "    \"foreign_management\",\n",
    "]"
   ]
  },
  {
   "cell_type": "markdown",
   "metadata": {},
   "source": [
    " Firms history related variables"
   ]
  },
  {
   "cell_type": "code",
   "execution_count": 13,
   "metadata": {},
   "outputs": [],
   "source": [
    "firm = [\"age\", \"age2\", \"new\", \"C(ind2_cat)\", \"C(m_region_loc)\", \"C(urban_m)\"]"
   ]
  },
  {
   "cell_type": "markdown",
   "metadata": {},
   "source": [
    "interactions for logit, LASSO"
   ]
  },
  {
   "cell_type": "code",
   "execution_count": 14,
   "metadata": {},
   "outputs": [],
   "source": [
    "interactions1 = [\n",
    "    \"C(ind2_cat)*age\",\n",
    "    \"C(ind2_cat)*age2\",\n",
    "    \"C(ind2_cat)*d1_sales_mil_log_mod\",\n",
    "    \"C(ind2_cat)*sales_mil_log\",\n",
    "    \"C(ind2_cat)*ceo_age\",\n",
    "    \"C(ind2_cat)*foreign_management\",\n",
    "    \"C(ind2_cat)*female\",\n",
    "    \"C(ind2_cat)*C(urban_m)\",\n",
    "    \"C(ind2_cat)*labor_avg_mod\",\n",
    "]\n",
    "interactions2 = [\n",
    "    \"sales_mil_log*age\",\n",
    "    \"sales_mil_log*female\",\n",
    "    \"sales_mil_log*profit_loss_year_pl\",\n",
    "    \"sales_mil_log*foreign_management\",\n",
    "]"
   ]
  },
  {
   "cell_type": "markdown",
   "metadata": {},
   "source": [
    "## Model setups"
   ]
  },
  {
   "cell_type": "markdown",
   "metadata": {},
   "source": [
    "1. Simple logit models"
   ]
  },
  {
   "cell_type": "code",
   "execution_count": 15,
   "metadata": {},
   "outputs": [],
   "source": [
    "M1 = [\n",
    "    \"sales_mil_log\",\n",
    "    \"sales_mil_log_sq\",\n",
    "    \"d1_sales_mil_log_mod\",\n",
    "    \"profit_loss_year_pl\",\n",
    "    \"C(ind2_cat)\",\n",
    "]\n",
    "M2 = [\n",
    "    \"sales_mil_log\",\n",
    "    \"sales_mil_log_sq\",\n",
    "    \"d1_sales_mil_log_mod\",\n",
    "    \"profit_loss_year_pl\",\n",
    "    \"fixed_assets_bs\",\n",
    "    \"share_eq_bs\",\n",
    "    \"curr_liab_bs \",\n",
    "    \"curr_liab_bs_flag_high \",\n",
    "    \"curr_liab_bs_flag_error\",\n",
    "    \"age\",\n",
    "    \"foreign_management\",\n",
    "    \"C(ind2_cat)\",\n",
    "]\n",
    "M3 = [\"sales_mil_log\", \"sales_mil_log_sq\"] + firm + engvar + d1\n",
    "M4 = (\n",
    "    [\"sales_mil_log\", \"sales_mil_log_sq\"]\n",
    "    + firm\n",
    "    + engvar\n",
    "    + engvar2\n",
    "    + engvar3\n",
    "    + d1\n",
    "    + hr\n",
    "    + qualityvars\n",
    ")\n",
    "M5 = (\n",
    "    [\"sales_mil_log\", \"sales_mil_log_sq\"]\n",
    "    + firm\n",
    "    + engvar\n",
    "    + engvar2\n",
    "    + engvar3\n",
    "    + d1\n",
    "    + hr\n",
    "    + qualityvars\n",
    "    + interactions1\n",
    "    + interactions2\n",
    ")"
   ]
  },
  {
   "cell_type": "markdown",
   "metadata": {},
   "source": [
    "2. logit+LASSO"
   ]
  },
  {
   "cell_type": "code",
   "execution_count": 16,
   "metadata": {
    "scrolled": true
   },
   "outputs": [],
   "source": [
    "logit_lasso_vars = (\n",
    "    [\"sales_mil_log\", \"sales_mil_log_sq\"]\n",
    "    + engvar\n",
    "    + engvar2\n",
    "    + engvar3\n",
    "    + d1\n",
    "    + hr\n",
    "    + firm\n",
    "    + qualityvars\n",
    "    + interactions1\n",
    "    + interactions2\n",
    ")"
   ]
  },
  {
   "cell_type": "markdown",
   "metadata": {},
   "source": [
    "3. CART and RF (no interactions, no modified features)"
   ]
  },
  {
   "cell_type": "code",
   "execution_count": 17,
   "metadata": {},
   "outputs": [],
   "source": [
    "rfvars = [\"sales_mil\", \"d1_sales_mil_log\"] + rawvars + hr + firm + qualityvars"
   ]
  },
  {
   "cell_type": "markdown",
   "metadata": {},
   "source": [
    "## 0. Separate train and holdout data"
   ]
  },
  {
   "cell_type": "code",
   "execution_count": 28,
   "metadata": {},
   "outputs": [],
   "source": [
    "data_train, data_holdout = train_test_split(data, train_size=0.8, random_state=42)"
   ]
  },
  {
   "cell_type": "code",
   "execution_count": 29,
   "metadata": {},
   "outputs": [
    {
     "name": "stdout",
     "output_type": "stream",
     "text": [
      "Total\n",
      "default\n",
      "0    0.797857\n",
      "1    0.202143\n",
      "Name: proportion, dtype: float64\n",
      "Train\n",
      "default\n",
      "0    0.799186\n",
      "1    0.200814\n",
      "Name: proportion, dtype: float64\n",
      "Holdout\n",
      "default\n",
      "0    0.792542\n",
      "1    0.207458\n",
      "Name: proportion, dtype: float64\n"
     ]
    }
   ],
   "source": [
    "print(\"Total\")\n",
    "print(data[\"default\"].value_counts(normalize=True))\n",
    "print(\"Train\")\n",
    "print(data_train[\"default\"].value_counts(normalize=True))\n",
    "print(\"Holdout\")\n",
    "print(data_holdout[\"default\"].value_counts(normalize=True))\n"
   ]
  },
  {
   "cell_type": "markdown",
   "metadata": {},
   "source": [
    "## 1. Predict probabilities with logit and Lasso with CV\n",
    "\n",
    "Specify 5 fold cross-validation method"
   ]
  },
  {
   "cell_type": "code",
   "execution_count": 30,
   "metadata": {},
   "outputs": [],
   "source": [
    "k = KFold(n_splits=5, shuffle=True, random_state=42)"
   ]
  },
  {
   "cell_type": "markdown",
   "metadata": {},
   "source": [
    "### a) cross validate logit models"
   ]
  },
  {
   "cell_type": "markdown",
   "metadata": {},
   "source": [
    "Set up X-vars"
   ]
  },
  {
   "cell_type": "code",
   "execution_count": 31,
   "metadata": {},
   "outputs": [],
   "source": [
    "logit_model_vars = [M1, M2, M3, M4, M5]"
   ]
  },
  {
   "cell_type": "markdown",
   "metadata": {},
   "source": [
    "Set up Logit model object\n",
    "\n",
    "No regularisation needed so setting the paremeter to very high value"
   ]
  },
  {
   "cell_type": "code",
   "execution_count": 32,
   "metadata": {},
   "outputs": [],
   "source": [
    "C_value_logit = [1e20]"
   ]
  },
  {
   "cell_type": "code",
   "execution_count": 34,
   "metadata": {},
   "outputs": [],
   "source": [
    "logit_models = dict()\n",
    "CV_RMSE_folds = dict()\n",
    "\n",
    "for i, model_vars in enumerate(logit_model_vars):\n",
    "\n",
    "    model_equation = \"default~\" + \"+\".join(model_vars)\n",
    "    y_train, X_train = patsy.dmatrices(model_equation, data_train)\n",
    "\n",
    "    LRCV_brier = LogisticRegressionCV(\n",
    "        Cs=C_value_logit,\n",
    "        cv=k,\n",
    "        refit=True,\n",
    "        scoring=\"neg_brier_score\",\n",
    "        solver=\"newton-cg\",\n",
    "        tol=1e-7,\n",
    "        random_state=42,\n",
    "    )\n",
    "\n",
    "    logit_models[\"M\" + str(i + 1)] = LRCV_brier.fit(X_train, y_train)\n",
    "\n",
    "    # Calculate RMSE on test for each fold\n",
    "    CV_RMSE_folds[\"M\" + str(i + 1)] = np.sqrt(\n",
    "        -1 * logit_models[\"M\" + str(i + 1)].scores_[1].ravel()\n",
    "    )"
   ]
  },
  {
   "cell_type": "markdown",
   "metadata": {},
   "source": [
    "### b) Logit + LASSO"
   ]
  },
  {
   "cell_type": "code",
   "execution_count": 35,
   "metadata": {},
   "outputs": [],
   "source": [
    "model_equation = \"default~\" + \"+\".join(logit_lasso_vars)\n",
    "y_train, X_train = patsy.dmatrices(model_equation, data_train)"
   ]
  },
  {
   "cell_type": "markdown",
   "metadata": {},
   "source": [
    "Normalise X vars for Lasso"
   ]
  },
  {
   "cell_type": "code",
   "execution_count": null,
   "metadata": {},
   "outputs": [],
   "source": [
    "# we skip it here - do the logit+lasso w/o normalization\n",
    "\n",
    "#normalized_logitvars = pd.DataFrame(\n",
    "#    StandardScaler().fit_transform(X_train),\n",
    "#    columns=X_train.design_info.column_names,\n",
    "#)"
   ]
  },
  {
   "cell_type": "markdown",
   "metadata": {},
   "source": [
    "Set regularization parameters"
   ]
  },
  {
   "cell_type": "code",
   "execution_count": null,
   "metadata": {},
   "outputs": [],
   "source": [
    "lambdas = list(10 ** np.arange(-1, -4.01, -1 / 3))\n",
    "n_obs = X_train.shape[0] * 4 / 5  # same logic\n",
    "# n_obs = normalized_logitvars.shape[0] * 4 / 5 - old\n",
    "#C_values = [1 / (l * n_obs) for l in lambdas]  # Cs are the inverse of regularization strength // old, but apperently the same formula yes\n",
    "C_values_no_std = [1 / (l * n_obs) for l in lambdas]"
   ]
  },
  {
   "cell_type": "code",
   "execution_count": 40,
   "metadata": {},
   "outputs": [
    {
     "data": {
      "text/plain": [
       "[np.float64(0.1),\n",
       " np.float64(0.046415888336127795),\n",
       " np.float64(0.021544346900318846),\n",
       " np.float64(0.010000000000000005),\n",
       " np.float64(0.004641588833612782),\n",
       " np.float64(0.002154434690031887),\n",
       " np.float64(0.001000000000000001),\n",
       " np.float64(0.0004641588833612782),\n",
       " np.float64(0.00021544346900318867),\n",
       " np.float64(0.00010000000000000021)]"
      ]
     },
     "execution_count": 40,
     "metadata": {},
     "output_type": "execute_result"
    }
   ],
   "source": [
    "lambdas"
   ]
  },
  {
   "cell_type": "code",
   "execution_count": 39,
   "metadata": {},
   "outputs": [
    {
     "data": {
      "text/plain": [
       "[np.float64(0.000820856317310218),\n",
       " np.float64(0.0017684813255449529),\n",
       " np.float64(0.0038100775164276145),\n",
       " np.float64(0.008208563173102175),\n",
       " np.float64(0.01768481325544952),\n",
       " np.float64(0.0381007751642761),\n",
       " np.float64(0.08208563173102171),\n",
       " np.float64(0.1768481325544952),\n",
       " np.float64(0.3810077516427611),\n",
       " np.float64(0.8208563173102164)]"
      ]
     },
     "execution_count": 39,
     "metadata": {},
     "output_type": "execute_result"
    }
   ],
   "source": [
    "C_values_no_std"
   ]
  },
  {
   "cell_type": "markdown",
   "metadata": {},
   "source": [
    "Initialize and fit Logit Lasso"
   ]
  },
  {
   "cell_type": "code",
   "execution_count": 42,
   "metadata": {},
   "outputs": [],
   "source": [
    "logLasso_brier_no_std = LogisticRegressionCV(\n",
    "    Cs=C_values_no_std,\n",
    "    penalty=\"l1\",\n",
    "    cv=k,\n",
    "    refit=True,\n",
    "    scoring=\"neg_brier_score\",\n",
    "    solver=\"liblinear\",\n",
    "    random_state=42,\n",
    ")\n",
    "\n",
    "logit_models[\"LASSO_no_std\"] = logLasso_brier_no_std.fit(X_train, y_train)"
   ]
  },
  {
   "cell_type": "markdown",
   "metadata": {},
   "source": [
    "See CV-fold RMSE-s (negative brier score)"
   ]
  },
  {
   "cell_type": "code",
   "execution_count": 46,
   "metadata": {
    "scrolled": true
   },
   "outputs": [
    {
     "data": {
      "text/html": [
       "<div>\n",
       "<style scoped>\n",
       "    .dataframe tbody tr th:only-of-type {\n",
       "        vertical-align: middle;\n",
       "    }\n",
       "\n",
       "    .dataframe tbody tr th {\n",
       "        vertical-align: top;\n",
       "    }\n",
       "\n",
       "    .dataframe thead th {\n",
       "        text-align: right;\n",
       "    }\n",
       "</style>\n",
       "<table border=\"1\" class=\"dataframe\">\n",
       "  <thead>\n",
       "    <tr style=\"text-align: right;\">\n",
       "      <th></th>\n",
       "      <th>lambdas</th>\n",
       "      <th>C_values</th>\n",
       "      <th>mean_cv_score</th>\n",
       "    </tr>\n",
       "  </thead>\n",
       "  <tbody>\n",
       "    <tr>\n",
       "      <th>0</th>\n",
       "      <td>0.100000</td>\n",
       "      <td>0.000821</td>\n",
       "      <td>0.380698</td>\n",
       "    </tr>\n",
       "    <tr>\n",
       "      <th>1</th>\n",
       "      <td>0.046416</td>\n",
       "      <td>0.001768</td>\n",
       "      <td>0.377827</td>\n",
       "    </tr>\n",
       "    <tr>\n",
       "      <th>2</th>\n",
       "      <td>0.021544</td>\n",
       "      <td>0.003810</td>\n",
       "      <td>0.373519</td>\n",
       "    </tr>\n",
       "    <tr>\n",
       "      <th>3</th>\n",
       "      <td>0.010000</td>\n",
       "      <td>0.008209</td>\n",
       "      <td>0.368393</td>\n",
       "    </tr>\n",
       "    <tr>\n",
       "      <th>4</th>\n",
       "      <td>0.004642</td>\n",
       "      <td>0.017685</td>\n",
       "      <td>0.364579</td>\n",
       "    </tr>\n",
       "    <tr>\n",
       "      <th>5</th>\n",
       "      <td>0.002154</td>\n",
       "      <td>0.038101</td>\n",
       "      <td>0.363081</td>\n",
       "    </tr>\n",
       "    <tr>\n",
       "      <th>6</th>\n",
       "      <td>0.001000</td>\n",
       "      <td>0.082086</td>\n",
       "      <td>0.362112</td>\n",
       "    </tr>\n",
       "    <tr>\n",
       "      <th>7</th>\n",
       "      <td>0.000464</td>\n",
       "      <td>0.176848</td>\n",
       "      <td>0.361609</td>\n",
       "    </tr>\n",
       "    <tr>\n",
       "      <th>8</th>\n",
       "      <td>0.000215</td>\n",
       "      <td>0.381008</td>\n",
       "      <td>0.362004</td>\n",
       "    </tr>\n",
       "    <tr>\n",
       "      <th>9</th>\n",
       "      <td>0.000100</td>\n",
       "      <td>0.820856</td>\n",
       "      <td>0.361822</td>\n",
       "    </tr>\n",
       "  </tbody>\n",
       "</table>\n",
       "</div>"
      ],
      "text/plain": [
       "    lambdas  C_values  mean_cv_score\n",
       "0  0.100000  0.000821       0.380698\n",
       "1  0.046416  0.001768       0.377827\n",
       "2  0.021544  0.003810       0.373519\n",
       "3  0.010000  0.008209       0.368393\n",
       "4  0.004642  0.017685       0.364579\n",
       "5  0.002154  0.038101       0.363081\n",
       "6  0.001000  0.082086       0.362112\n",
       "7  0.000464  0.176848       0.361609\n",
       "8  0.000215  0.381008       0.362004\n",
       "9  0.000100  0.820856       0.361822"
      ]
     },
     "execution_count": 46,
     "metadata": {},
     "output_type": "execute_result"
    }
   ],
   "source": [
    "cv_summary_lasso = cv_summary(lambdas, C_values_no_std, logit_models[\"LASSO_no_std\"])\n",
    "cv_summary_lasso[\"mean_cv_score\"] = np.sqrt(cv_summary_lasso[\"mean_cv_score\"] * -1)\n",
    "cv_summary_lasso\n",
    "\n",
    "#without normalization"
   ]
  },
  {
   "cell_type": "markdown",
   "metadata": {},
   "source": [
    "Save best lambda's index for later use"
   ]
  },
  {
   "cell_type": "code",
   "execution_count": 45,
   "metadata": {},
   "outputs": [
    {
     "data": {
      "text/plain": [
       "7"
      ]
     },
     "execution_count": 45,
     "metadata": {},
     "output_type": "execute_result"
    }
   ],
   "source": [
    "cv_summary_lasso[\"mean_cv_score\"].idxmin()"
   ]
  },
  {
   "cell_type": "code",
   "execution_count": 47,
   "metadata": {},
   "outputs": [
    {
     "data": {
      "image/png": "[encoded data removed]",
      "text/plain": [
       "<Figure size 1000x600 with 1 Axes>"
      ]
     },
     "metadata": {},
     "output_type": "display_data"
    }
   ],
   "source": [
    "# Plot lambdas vs mean CV RMSE with zoomed-in Y-axis\n",
    "plt.figure(figsize=(10, 6))\n",
    "plt.plot(-np.log10(lambdas), cv_summary_lasso[\"mean_cv_score\"], marker='o', label=\"Mean CV RMSE\")\n",
    "plt.xlabel(\"-log10(lambda)\")\n",
    "plt.ylabel(\"Mean CV RMSE\")\n",
    "plt.title(\"LASSO: Mean CV RMSE vs Lambda\")\n",
    "plt.ylim(cv_summary_lasso[\"mean_cv_score\"].min() - 0.01, cv_summary_lasso[\"mean_cv_score\"].max() + 0.01)  # Adjust Y-axis limits\n",
    "plt.grid(True)\n",
    "plt.legend()\n",
    "plt.tight_layout()\n",
    "plt.show()"
   ]
  },
  {
   "cell_type": "code",
   "execution_count": null,
   "metadata": {},
   "outputs": [],
   "source": [
    "best_lambda_i = cv_summary_lasso[\"mean_cv_score\"].idxmin()"
   ]
  },
  {
   "cell_type": "code",
   "execution_count": 1,
   "metadata": {},
   "outputs": [
    {
     "name": "stdout",
     "output_type": "stream",
     "text": [
      "MSE: 0.375\n",
      "RMSE: 0.6123724356957945\n"
     ]
    }
   ],
   "source": [
    "from sklearn.metrics import mean_squared_error\n",
    "import numpy as np\n",
    "\n",
    "y_true = [3, -0.5, 2, 7]\n",
    "y_pred = [2.5, 0.0, 2, 8]\n",
    "\n",
    "mse = mean_squared_error(y_true, y_pred)\n",
    "rmse = np.sqrt(mse)\n",
    "\n",
    "print(\"MSE:\", mse)\n",
    "print(\"RMSE:\", rmse)"
   ]
  }
 ],
 "metadata": {
  "kernelspec": {
   "display_name": "Python 3",
   "language": "python",
   "name": "python3"
  },
  "language_info": {
   "codemirror_mode": {
    "name": "ipython",
    "version": 3
   },
   "file_extension": ".py",
   "mimetype": "text/x-python",
   "name": "python",
   "nbconvert_exporter": "python",
   "pygments_lexer": "ipython3",
   "version": "3.12.1"
  }
 },
 "nbformat": 4,
 "nbformat_minor": 4
}
