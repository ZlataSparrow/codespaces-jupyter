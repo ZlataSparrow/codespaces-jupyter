{
 "cells": [
  {
   "cell_type": "markdown",
   "metadata": {},
   "source": [
    "#### Prepared for Gabor's Data Analysis\n",
    "\n",
    "# Data Analysis for Business, Economics, and Policy\n",
    "by Gabor Bekes and  Gabor Kezdi\n",
    " \n",
    "Cambridge University Press 2021\n",
    "\n",
    "**[gabors-data-analysis.com ](https://gabors-data-analysis.com/)**\n",
    "\n",
    " License: Free to share, modify and use for educational purposes. \n",
    " Not to be used for commercial purposes.\n",
    "\n",
    "# Chapter 17\n",
    "\n",
    "Data preparation"
   ]
  },
  {
   "cell_type": "code",
   "execution_count": 51,
   "metadata": {},
   "outputs": [],
   "source": [
    "import os\n",
    "import sys\n",
    "import warnings\n",
    "\n",
    "import numpy as np\n",
    "import pandas as pd\n",
    "import statsmodels.formula.api as smf\n",
    "from plotnine import *\n",
    "\n",
    "from sklearn.linear_model import LinearRegression\n",
    "from sklearn.preprocessing import PolynomialFeatures\n",
    "from sklearn.utils import resample\n",
    "from statsmodels.nonparametric.smoothers_lowess import lowess\n",
    "\n",
    "import matplotlib.pyplot as plt"
   ]
  },
  {
   "cell_type": "markdown",
   "metadata": {},
   "source": [
    "# Import data"
   ]
  },
  {
   "cell_type": "code",
   "execution_count": 52,
   "metadata": {},
   "outputs": [
    {
     "data": {
      "text/html": [
       "<div>\n",
       "<style scoped>\n",
       "    .dataframe tbody tr th:only-of-type {\n",
       "        vertical-align: middle;\n",
       "    }\n",
       "\n",
       "    .dataframe tbody tr th {\n",
       "        vertical-align: top;\n",
       "    }\n",
       "\n",
       "    .dataframe thead th {\n",
       "        text-align: right;\n",
       "    }\n",
       "</style>\n",
       "<table border=\"1\" class=\"dataframe\">\n",
       "  <thead>\n",
       "    <tr style=\"text-align: right;\">\n",
       "      <th></th>\n",
       "      <th>comp_id</th>\n",
       "      <th>begin</th>\n",
       "      <th>end</th>\n",
       "      <th>COGS</th>\n",
       "      <th>amort</th>\n",
       "      <th>curr_assets</th>\n",
       "      <th>curr_liab</th>\n",
       "      <th>extra_exp</th>\n",
       "      <th>extra_inc</th>\n",
       "      <th>extra_profit_loss</th>\n",
       "      <th>...</th>\n",
       "      <th>gender</th>\n",
       "      <th>origin</th>\n",
       "      <th>nace_main</th>\n",
       "      <th>ind2</th>\n",
       "      <th>ind</th>\n",
       "      <th>urban_m</th>\n",
       "      <th>region_m</th>\n",
       "      <th>founded_date</th>\n",
       "      <th>exit_date</th>\n",
       "      <th>labor_avg</th>\n",
       "    </tr>\n",
       "  </thead>\n",
       "  <tbody>\n",
       "    <tr>\n",
       "      <th>0</th>\n",
       "      <td>1.001034e+06</td>\n",
       "      <td>2005-01-01</td>\n",
       "      <td>2005-12-31</td>\n",
       "      <td>NaN</td>\n",
       "      <td>692.592590</td>\n",
       "      <td>7266.666504</td>\n",
       "      <td>7574.074219</td>\n",
       "      <td>0.0</td>\n",
       "      <td>0.0</td>\n",
       "      <td>0.0</td>\n",
       "      <td>...</td>\n",
       "      <td>mix</td>\n",
       "      <td>Domestic</td>\n",
       "      <td>5630.0</td>\n",
       "      <td>56.0</td>\n",
       "      <td>3.0</td>\n",
       "      <td>1</td>\n",
       "      <td>Central</td>\n",
       "      <td>1990-11-19</td>\n",
       "      <td>NaN</td>\n",
       "      <td>NaN</td>\n",
       "    </tr>\n",
       "    <tr>\n",
       "      <th>1</th>\n",
       "      <td>1.001034e+06</td>\n",
       "      <td>2006-01-01</td>\n",
       "      <td>2006-12-31</td>\n",
       "      <td>NaN</td>\n",
       "      <td>603.703674</td>\n",
       "      <td>13122.222656</td>\n",
       "      <td>12211.111328</td>\n",
       "      <td>0.0</td>\n",
       "      <td>0.0</td>\n",
       "      <td>0.0</td>\n",
       "      <td>...</td>\n",
       "      <td>mix</td>\n",
       "      <td>Domestic</td>\n",
       "      <td>5630.0</td>\n",
       "      <td>56.0</td>\n",
       "      <td>3.0</td>\n",
       "      <td>1</td>\n",
       "      <td>Central</td>\n",
       "      <td>1990-11-19</td>\n",
       "      <td>NaN</td>\n",
       "      <td>NaN</td>\n",
       "    </tr>\n",
       "    <tr>\n",
       "      <th>2</th>\n",
       "      <td>1.001034e+06</td>\n",
       "      <td>2007-01-01</td>\n",
       "      <td>2007-12-31</td>\n",
       "      <td>NaN</td>\n",
       "      <td>425.925934</td>\n",
       "      <td>8196.295898</td>\n",
       "      <td>7800.000000</td>\n",
       "      <td>0.0</td>\n",
       "      <td>0.0</td>\n",
       "      <td>0.0</td>\n",
       "      <td>...</td>\n",
       "      <td>mix</td>\n",
       "      <td>Domestic</td>\n",
       "      <td>5630.0</td>\n",
       "      <td>56.0</td>\n",
       "      <td>3.0</td>\n",
       "      <td>1</td>\n",
       "      <td>Central</td>\n",
       "      <td>1990-11-19</td>\n",
       "      <td>NaN</td>\n",
       "      <td>NaN</td>\n",
       "    </tr>\n",
       "    <tr>\n",
       "      <th>3</th>\n",
       "      <td>1.001034e+06</td>\n",
       "      <td>2008-01-01</td>\n",
       "      <td>2008-12-31</td>\n",
       "      <td>NaN</td>\n",
       "      <td>300.000000</td>\n",
       "      <td>8485.185547</td>\n",
       "      <td>7781.481445</td>\n",
       "      <td>0.0</td>\n",
       "      <td>0.0</td>\n",
       "      <td>0.0</td>\n",
       "      <td>...</td>\n",
       "      <td>mix</td>\n",
       "      <td>Domestic</td>\n",
       "      <td>5630.0</td>\n",
       "      <td>56.0</td>\n",
       "      <td>3.0</td>\n",
       "      <td>1</td>\n",
       "      <td>Central</td>\n",
       "      <td>1990-11-19</td>\n",
       "      <td>NaN</td>\n",
       "      <td>NaN</td>\n",
       "    </tr>\n",
       "    <tr>\n",
       "      <th>4</th>\n",
       "      <td>1.001034e+06</td>\n",
       "      <td>2009-01-01</td>\n",
       "      <td>2009-12-31</td>\n",
       "      <td>NaN</td>\n",
       "      <td>207.407410</td>\n",
       "      <td>5137.037109</td>\n",
       "      <td>15300.000000</td>\n",
       "      <td>0.0</td>\n",
       "      <td>0.0</td>\n",
       "      <td>0.0</td>\n",
       "      <td>...</td>\n",
       "      <td>mix</td>\n",
       "      <td>Domestic</td>\n",
       "      <td>5630.0</td>\n",
       "      <td>56.0</td>\n",
       "      <td>3.0</td>\n",
       "      <td>1</td>\n",
       "      <td>Central</td>\n",
       "      <td>1990-11-19</td>\n",
       "      <td>NaN</td>\n",
       "      <td>0.083333</td>\n",
       "    </tr>\n",
       "    <tr>\n",
       "      <th>...</th>\n",
       "      <td>...</td>\n",
       "      <td>...</td>\n",
       "      <td>...</td>\n",
       "      <td>...</td>\n",
       "      <td>...</td>\n",
       "      <td>...</td>\n",
       "      <td>...</td>\n",
       "      <td>...</td>\n",
       "      <td>...</td>\n",
       "      <td>...</td>\n",
       "      <td>...</td>\n",
       "      <td>...</td>\n",
       "      <td>...</td>\n",
       "      <td>...</td>\n",
       "      <td>...</td>\n",
       "      <td>...</td>\n",
       "      <td>...</td>\n",
       "      <td>...</td>\n",
       "      <td>...</td>\n",
       "      <td>...</td>\n",
       "      <td>...</td>\n",
       "    </tr>\n",
       "    <tr>\n",
       "      <th>287824</th>\n",
       "      <td>4.641209e+11</td>\n",
       "      <td>2011-01-01</td>\n",
       "      <td>2011-12-31</td>\n",
       "      <td>NaN</td>\n",
       "      <td>0.000000</td>\n",
       "      <td>1807.407349</td>\n",
       "      <td>3.703704</td>\n",
       "      <td>0.0</td>\n",
       "      <td>0.0</td>\n",
       "      <td>0.0</td>\n",
       "      <td>...</td>\n",
       "      <td>female</td>\n",
       "      <td>Domestic</td>\n",
       "      <td>5510.0</td>\n",
       "      <td>55.0</td>\n",
       "      <td>3.0</td>\n",
       "      <td>2</td>\n",
       "      <td>East</td>\n",
       "      <td>1990-08-22</td>\n",
       "      <td>NaN</td>\n",
       "      <td>NaN</td>\n",
       "    </tr>\n",
       "    <tr>\n",
       "      <th>287825</th>\n",
       "      <td>4.641209e+11</td>\n",
       "      <td>2012-01-01</td>\n",
       "      <td>2012-12-31</td>\n",
       "      <td>NaN</td>\n",
       "      <td>0.000000</td>\n",
       "      <td>1518.518555</td>\n",
       "      <td>96.296295</td>\n",
       "      <td>0.0</td>\n",
       "      <td>0.0</td>\n",
       "      <td>0.0</td>\n",
       "      <td>...</td>\n",
       "      <td>female</td>\n",
       "      <td>Domestic</td>\n",
       "      <td>5510.0</td>\n",
       "      <td>55.0</td>\n",
       "      <td>3.0</td>\n",
       "      <td>2</td>\n",
       "      <td>East</td>\n",
       "      <td>1990-08-22</td>\n",
       "      <td>NaN</td>\n",
       "      <td>NaN</td>\n",
       "    </tr>\n",
       "    <tr>\n",
       "      <th>287826</th>\n",
       "      <td>4.641209e+11</td>\n",
       "      <td>2013-01-01</td>\n",
       "      <td>2013-12-31</td>\n",
       "      <td>NaN</td>\n",
       "      <td>0.000000</td>\n",
       "      <td>988.888916</td>\n",
       "      <td>77.777779</td>\n",
       "      <td>0.0</td>\n",
       "      <td>0.0</td>\n",
       "      <td>0.0</td>\n",
       "      <td>...</td>\n",
       "      <td>NaN</td>\n",
       "      <td>NaN</td>\n",
       "      <td>5510.0</td>\n",
       "      <td>55.0</td>\n",
       "      <td>3.0</td>\n",
       "      <td>2</td>\n",
       "      <td>East</td>\n",
       "      <td>1990-08-22</td>\n",
       "      <td>NaN</td>\n",
       "      <td>NaN</td>\n",
       "    </tr>\n",
       "    <tr>\n",
       "      <th>287827</th>\n",
       "      <td>4.641209e+11</td>\n",
       "      <td>2014-01-01</td>\n",
       "      <td>2014-12-31</td>\n",
       "      <td>NaN</td>\n",
       "      <td>0.000000</td>\n",
       "      <td>644.444458</td>\n",
       "      <td>233.333328</td>\n",
       "      <td>0.0</td>\n",
       "      <td>0.0</td>\n",
       "      <td>0.0</td>\n",
       "      <td>...</td>\n",
       "      <td>female</td>\n",
       "      <td>Domestic</td>\n",
       "      <td>5510.0</td>\n",
       "      <td>55.0</td>\n",
       "      <td>3.0</td>\n",
       "      <td>2</td>\n",
       "      <td>East</td>\n",
       "      <td>1990-08-22</td>\n",
       "      <td>NaN</td>\n",
       "      <td>NaN</td>\n",
       "    </tr>\n",
       "    <tr>\n",
       "      <th>287828</th>\n",
       "      <td>4.641209e+11</td>\n",
       "      <td>2015-01-01</td>\n",
       "      <td>2015-12-31</td>\n",
       "      <td>NaN</td>\n",
       "      <td>0.000000</td>\n",
       "      <td>166.666672</td>\n",
       "      <td>270.370361</td>\n",
       "      <td>0.0</td>\n",
       "      <td>0.0</td>\n",
       "      <td>0.0</td>\n",
       "      <td>...</td>\n",
       "      <td>female</td>\n",
       "      <td>Domestic</td>\n",
       "      <td>5510.0</td>\n",
       "      <td>55.0</td>\n",
       "      <td>3.0</td>\n",
       "      <td>2</td>\n",
       "      <td>East</td>\n",
       "      <td>1990-08-22</td>\n",
       "      <td>NaN</td>\n",
       "      <td>NaN</td>\n",
       "    </tr>\n",
       "  </tbody>\n",
       "</table>\n",
       "<p>287829 rows × 48 columns</p>\n",
       "</div>"
      ],
      "text/plain": [
       "             comp_id       begin         end  COGS       amort   curr_assets  \\\n",
       "0       1.001034e+06  2005-01-01  2005-12-31   NaN  692.592590   7266.666504   \n",
       "1       1.001034e+06  2006-01-01  2006-12-31   NaN  603.703674  13122.222656   \n",
       "2       1.001034e+06  2007-01-01  2007-12-31   NaN  425.925934   8196.295898   \n",
       "3       1.001034e+06  2008-01-01  2008-12-31   NaN  300.000000   8485.185547   \n",
       "4       1.001034e+06  2009-01-01  2009-12-31   NaN  207.407410   5137.037109   \n",
       "...              ...         ...         ...   ...         ...           ...   \n",
       "287824  4.641209e+11  2011-01-01  2011-12-31   NaN    0.000000   1807.407349   \n",
       "287825  4.641209e+11  2012-01-01  2012-12-31   NaN    0.000000   1518.518555   \n",
       "287826  4.641209e+11  2013-01-01  2013-12-31   NaN    0.000000    988.888916   \n",
       "287827  4.641209e+11  2014-01-01  2014-12-31   NaN    0.000000    644.444458   \n",
       "287828  4.641209e+11  2015-01-01  2015-12-31   NaN    0.000000    166.666672   \n",
       "\n",
       "           curr_liab  extra_exp  extra_inc  extra_profit_loss  ...  gender  \\\n",
       "0        7574.074219        0.0        0.0                0.0  ...     mix   \n",
       "1       12211.111328        0.0        0.0                0.0  ...     mix   \n",
       "2        7800.000000        0.0        0.0                0.0  ...     mix   \n",
       "3        7781.481445        0.0        0.0                0.0  ...     mix   \n",
       "4       15300.000000        0.0        0.0                0.0  ...     mix   \n",
       "...              ...        ...        ...                ...  ...     ...   \n",
       "287824      3.703704        0.0        0.0                0.0  ...  female   \n",
       "287825     96.296295        0.0        0.0                0.0  ...  female   \n",
       "287826     77.777779        0.0        0.0                0.0  ...     NaN   \n",
       "287827    233.333328        0.0        0.0                0.0  ...  female   \n",
       "287828    270.370361        0.0        0.0                0.0  ...  female   \n",
       "\n",
       "          origin  nace_main  ind2  ind  urban_m  region_m  founded_date  \\\n",
       "0       Domestic     5630.0  56.0  3.0        1   Central    1990-11-19   \n",
       "1       Domestic     5630.0  56.0  3.0        1   Central    1990-11-19   \n",
       "2       Domestic     5630.0  56.0  3.0        1   Central    1990-11-19   \n",
       "3       Domestic     5630.0  56.0  3.0        1   Central    1990-11-19   \n",
       "4       Domestic     5630.0  56.0  3.0        1   Central    1990-11-19   \n",
       "...          ...        ...   ...  ...      ...       ...           ...   \n",
       "287824  Domestic     5510.0  55.0  3.0        2      East    1990-08-22   \n",
       "287825  Domestic     5510.0  55.0  3.0        2      East    1990-08-22   \n",
       "287826       NaN     5510.0  55.0  3.0        2      East    1990-08-22   \n",
       "287827  Domestic     5510.0  55.0  3.0        2      East    1990-08-22   \n",
       "287828  Domestic     5510.0  55.0  3.0        2      East    1990-08-22   \n",
       "\n",
       "        exit_date  labor_avg  \n",
       "0             NaN        NaN  \n",
       "1             NaN        NaN  \n",
       "2             NaN        NaN  \n",
       "3             NaN        NaN  \n",
       "4             NaN   0.083333  \n",
       "...           ...        ...  \n",
       "287824        NaN        NaN  \n",
       "287825        NaN        NaN  \n",
       "287826        NaN        NaN  \n",
       "287827        NaN        NaN  \n",
       "287828        NaN        NaN  \n",
       "\n",
       "[287829 rows x 48 columns]"
      ]
     },
     "execution_count": 52,
     "metadata": {},
     "output_type": "execute_result"
    }
   ],
   "source": [
    "data = pd.read_csv(\"/workspaces/codespaces-jupyter/data/cs_bisnode_panel.csv\")\n",
    "data"
   ]
  },
  {
   "cell_type": "code",
   "execution_count": 53,
   "metadata": {},
   "outputs": [
    {
     "data": {
      "text/plain": [
       "Index(['comp_id', 'begin', 'end', 'COGS', 'amort', 'curr_assets', 'curr_liab',\n",
       "       'extra_exp', 'extra_inc', 'extra_profit_loss', 'finished_prod',\n",
       "       'fixed_assets', 'inc_bef_tax', 'intang_assets', 'inventories',\n",
       "       'liq_assets', 'material_exp', 'net_dom_sales', 'net_exp_sales',\n",
       "       'personnel_exp', 'profit_loss_year', 'sales', 'share_eq',\n",
       "       'subscribed_cap', 'tang_assets', 'wages', 'D', 'balsheet_flag',\n",
       "       'balsheet_length', 'balsheet_notfullyear', 'year', 'founded_year',\n",
       "       'exit_year', 'ceo_count', 'foreign', 'female', 'birth_year',\n",
       "       'inoffice_days', 'gender', 'origin', 'nace_main', 'ind2', 'ind',\n",
       "       'urban_m', 'region_m', 'founded_date', 'exit_date', 'labor_avg'],\n",
       "      dtype='object')"
      ]
     },
     "execution_count": 53,
     "metadata": {},
     "output_type": "execute_result"
    }
   ],
   "source": [
    "data.columns"
   ]
  },
  {
   "cell_type": "code",
   "execution_count": 54,
   "metadata": {},
   "outputs": [
    {
     "data": {
      "text/plain": [
       "year\n",
       "2016     9743\n",
       "2005    19147\n",
       "2006    20200\n",
       "2007    21804\n",
       "2008    23733\n",
       "2009    25596\n",
       "2010    26784\n",
       "2015    27506\n",
       "2014    28151\n",
       "2011    28222\n",
       "2012    28469\n",
       "2013    28474\n",
       "Name: count, dtype: int64"
      ]
     },
     "execution_count": 54,
     "metadata": {},
     "output_type": "execute_result"
    }
   ],
   "source": [
    "data[\"year\"].value_counts().sort_values(ascending=True)"
   ]
  },
  {
   "cell_type": "code",
   "execution_count": 55,
   "metadata": {},
   "outputs": [],
   "source": [
    "# drop variables with many NAs\n",
    "data = data.drop(\n",
    "    columns=[\"COGS\", \"finished_prod\", \"net_dom_sales\", \"net_exp_sales\", \"wages\"]\n",
    ")\n",
    "data = data.query(\"year !=2016\")"
   ]
  },
  {
   "cell_type": "code",
   "execution_count": 56,
   "metadata": {},
   "outputs": [
    {
     "data": {
      "text/plain": [
       "Index(['comp_id', 'begin', 'end', 'amort', 'curr_assets', 'curr_liab',\n",
       "       'extra_exp', 'extra_inc', 'extra_profit_loss', 'fixed_assets',\n",
       "       'inc_bef_tax', 'intang_assets', 'inventories', 'liq_assets',\n",
       "       'material_exp', 'personnel_exp', 'profit_loss_year', 'sales',\n",
       "       'share_eq', 'subscribed_cap', 'tang_assets', 'D', 'balsheet_flag',\n",
       "       'balsheet_length', 'balsheet_notfullyear', 'year', 'founded_year',\n",
       "       'exit_year', 'ceo_count', 'foreign', 'female', 'birth_year',\n",
       "       'inoffice_days', 'gender', 'origin', 'nace_main', 'ind2', 'ind',\n",
       "       'urban_m', 'region_m', 'founded_date', 'exit_date', 'labor_avg'],\n",
       "      dtype='object')"
      ]
     },
     "execution_count": 56,
     "metadata": {},
     "output_type": "execute_result"
    }
   ],
   "source": [
    "data.columns"
   ]
  },
  {
   "cell_type": "code",
   "execution_count": 57,
   "metadata": {},
   "outputs": [
    {
     "data": {
      "text/plain": [
       "year\n",
       "2013    28474\n",
       "2012    28469\n",
       "2011    28222\n",
       "2014    28151\n",
       "2015    27506\n",
       "2010    26784\n",
       "2009    25596\n",
       "2008    23733\n",
       "2007    21804\n",
       "2006    20200\n",
       "2005    19147\n",
       "Name: count, dtype: int64"
      ]
     },
     "execution_count": 57,
     "metadata": {},
     "output_type": "execute_result"
    }
   ],
   "source": [
    "data[\"year\"].value_counts()"
   ]
  },
  {
   "cell_type": "markdown",
   "metadata": {},
   "source": [
    "\n",
    "# Label engineering\n"
   ]
  },
  {
   "cell_type": "code",
   "execution_count": 58,
   "metadata": {},
   "outputs": [
    {
     "data": {
      "text/plain": [
       "(278086, 43)"
      ]
     },
     "execution_count": 58,
     "metadata": {},
     "output_type": "execute_result"
    }
   ],
   "source": [
    "data.shape"
   ]
  },
  {
   "cell_type": "code",
   "execution_count": 59,
   "metadata": {},
   "outputs": [
    {
     "name": "stdout",
     "output_type": "stream",
     "text": [
      "Firms with missing years:\n",
      "comp_id\n",
      "1.001541e+06     7\n",
      "1.002029e+06     9\n",
      "1.003200e+06     8\n",
      "1.004012e+06     8\n",
      "1.004898e+06     1\n",
      "                ..\n",
      "4.640212e+11     9\n",
      "4.640446e+11     8\n",
      "4.640568e+11     3\n",
      "4.640793e+11     1\n",
      "4.641209e+11    10\n",
      "Name: year, Length: 36503, dtype: int64\n"
     ]
    }
   ],
   "source": [
    "# 1. Count number of years for each company\n",
    "years_per_firm = data.groupby(\"comp_id\")[\"year\"].nunique()\n",
    "\n",
    "# 2. Find companies with fewer years than the full range\n",
    "full_year_range = data[\"year\"].nunique()\n",
    "incomplete_firms = years_per_firm[years_per_firm < full_year_range]\n",
    "\n",
    "# 3. Display those firms\n",
    "print(\"Firms with missing years:\")\n",
    "print(incomplete_firms)"
   ]
  },
  {
   "cell_type": "code",
   "execution_count": 60,
   "metadata": {},
   "outputs": [
    {
     "data": {
      "text/plain": [
       "11    2009\n",
       "12    2010\n",
       "13    2011\n",
       "14    2012\n",
       "15    2013\n",
       "16    2014\n",
       "17    2015\n",
       "Name: year, dtype: int64"
      ]
     },
     "execution_count": 60,
     "metadata": {},
     "output_type": "execute_result"
    }
   ],
   "source": [
    "data.loc[data[\"comp_id\"] == 1.001541e+06, \"year\"]"
   ]
  },
  {
   "cell_type": "code",
   "execution_count": 61,
   "metadata": {},
   "outputs": [
    {
     "data": {
      "text/html": [
       "<div>\n",
       "<style scoped>\n",
       "    .dataframe tbody tr th:only-of-type {\n",
       "        vertical-align: middle;\n",
       "    }\n",
       "\n",
       "    .dataframe tbody tr th {\n",
       "        vertical-align: top;\n",
       "    }\n",
       "\n",
       "    .dataframe thead th {\n",
       "        text-align: right;\n",
       "    }\n",
       "</style>\n",
       "<table border=\"1\" class=\"dataframe\">\n",
       "  <thead>\n",
       "    <tr style=\"text-align: right;\">\n",
       "      <th></th>\n",
       "      <th>comp_id</th>\n",
       "      <th>begin</th>\n",
       "      <th>end</th>\n",
       "      <th>amort</th>\n",
       "      <th>curr_assets</th>\n",
       "      <th>curr_liab</th>\n",
       "      <th>extra_exp</th>\n",
       "      <th>extra_inc</th>\n",
       "      <th>extra_profit_loss</th>\n",
       "      <th>fixed_assets</th>\n",
       "      <th>...</th>\n",
       "      <th>gender</th>\n",
       "      <th>origin</th>\n",
       "      <th>nace_main</th>\n",
       "      <th>ind2</th>\n",
       "      <th>ind</th>\n",
       "      <th>urban_m</th>\n",
       "      <th>region_m</th>\n",
       "      <th>founded_date</th>\n",
       "      <th>exit_date</th>\n",
       "      <th>labor_avg</th>\n",
       "    </tr>\n",
       "  </thead>\n",
       "  <tbody>\n",
       "    <tr>\n",
       "      <th>11</th>\n",
       "      <td>1001541.0</td>\n",
       "      <td>2009-01-01</td>\n",
       "      <td>2009-12-31</td>\n",
       "      <td>0.000000</td>\n",
       "      <td>2040.740723</td>\n",
       "      <td>933.333313</td>\n",
       "      <td>0.0</td>\n",
       "      <td>0.000000</td>\n",
       "      <td>0.000000</td>\n",
       "      <td>0.000000</td>\n",
       "      <td>...</td>\n",
       "      <td>male</td>\n",
       "      <td>Domestic</td>\n",
       "      <td>5610.0</td>\n",
       "      <td>56.0</td>\n",
       "      <td>3.0</td>\n",
       "      <td>3</td>\n",
       "      <td>Central</td>\n",
       "      <td>2008-02-24</td>\n",
       "      <td>NaN</td>\n",
       "      <td>NaN</td>\n",
       "    </tr>\n",
       "    <tr>\n",
       "      <th>12</th>\n",
       "      <td>1001541.0</td>\n",
       "      <td>2010-01-01</td>\n",
       "      <td>2010-12-31</td>\n",
       "      <td>0.000000</td>\n",
       "      <td>1740.740723</td>\n",
       "      <td>844.444458</td>\n",
       "      <td>0.0</td>\n",
       "      <td>0.000000</td>\n",
       "      <td>0.000000</td>\n",
       "      <td>0.000000</td>\n",
       "      <td>...</td>\n",
       "      <td>male</td>\n",
       "      <td>Domestic</td>\n",
       "      <td>5610.0</td>\n",
       "      <td>56.0</td>\n",
       "      <td>3.0</td>\n",
       "      <td>3</td>\n",
       "      <td>Central</td>\n",
       "      <td>2008-02-24</td>\n",
       "      <td>NaN</td>\n",
       "      <td>NaN</td>\n",
       "    </tr>\n",
       "    <tr>\n",
       "      <th>13</th>\n",
       "      <td>1001541.0</td>\n",
       "      <td>2011-01-01</td>\n",
       "      <td>2011-12-31</td>\n",
       "      <td>0.000000</td>\n",
       "      <td>127403.703125</td>\n",
       "      <td>127325.929688</td>\n",
       "      <td>0.0</td>\n",
       "      <td>0.000000</td>\n",
       "      <td>0.000000</td>\n",
       "      <td>0.000000</td>\n",
       "      <td>...</td>\n",
       "      <td>male</td>\n",
       "      <td>Domestic</td>\n",
       "      <td>5610.0</td>\n",
       "      <td>56.0</td>\n",
       "      <td>3.0</td>\n",
       "      <td>3</td>\n",
       "      <td>Central</td>\n",
       "      <td>2008-02-24</td>\n",
       "      <td>NaN</td>\n",
       "      <td>NaN</td>\n",
       "    </tr>\n",
       "    <tr>\n",
       "      <th>14</th>\n",
       "      <td>1001541.0</td>\n",
       "      <td>2012-01-01</td>\n",
       "      <td>2012-12-31</td>\n",
       "      <td>481.481476</td>\n",
       "      <td>9629.629883</td>\n",
       "      <td>1303.703735</td>\n",
       "      <td>0.0</td>\n",
       "      <td>0.000000</td>\n",
       "      <td>0.000000</td>\n",
       "      <td>190566.671875</td>\n",
       "      <td>...</td>\n",
       "      <td>male</td>\n",
       "      <td>Domestic</td>\n",
       "      <td>5610.0</td>\n",
       "      <td>56.0</td>\n",
       "      <td>3.0</td>\n",
       "      <td>3</td>\n",
       "      <td>Central</td>\n",
       "      <td>2008-02-24</td>\n",
       "      <td>NaN</td>\n",
       "      <td>NaN</td>\n",
       "    </tr>\n",
       "    <tr>\n",
       "      <th>15</th>\n",
       "      <td>1001541.0</td>\n",
       "      <td>2013-01-01</td>\n",
       "      <td>2013-12-31</td>\n",
       "      <td>2292.592529</td>\n",
       "      <td>4811.111328</td>\n",
       "      <td>925.925903</td>\n",
       "      <td>0.0</td>\n",
       "      <td>74.074074</td>\n",
       "      <td>74.074074</td>\n",
       "      <td>188274.078125</td>\n",
       "      <td>...</td>\n",
       "      <td>male</td>\n",
       "      <td>Domestic</td>\n",
       "      <td>5610.0</td>\n",
       "      <td>56.0</td>\n",
       "      <td>3.0</td>\n",
       "      <td>3</td>\n",
       "      <td>Central</td>\n",
       "      <td>2008-02-24</td>\n",
       "      <td>NaN</td>\n",
       "      <td>NaN</td>\n",
       "    </tr>\n",
       "    <tr>\n",
       "      <th>16</th>\n",
       "      <td>1001541.0</td>\n",
       "      <td>2014-01-01</td>\n",
       "      <td>2014-12-31</td>\n",
       "      <td>2292.592529</td>\n",
       "      <td>6500.000000</td>\n",
       "      <td>296.296295</td>\n",
       "      <td>0.0</td>\n",
       "      <td>0.000000</td>\n",
       "      <td>0.000000</td>\n",
       "      <td>185981.484375</td>\n",
       "      <td>...</td>\n",
       "      <td>male</td>\n",
       "      <td>Domestic</td>\n",
       "      <td>5610.0</td>\n",
       "      <td>56.0</td>\n",
       "      <td>3.0</td>\n",
       "      <td>3</td>\n",
       "      <td>Central</td>\n",
       "      <td>2008-02-24</td>\n",
       "      <td>NaN</td>\n",
       "      <td>NaN</td>\n",
       "    </tr>\n",
       "    <tr>\n",
       "      <th>17</th>\n",
       "      <td>1001541.0</td>\n",
       "      <td>2015-01-01</td>\n",
       "      <td>2015-12-31</td>\n",
       "      <td>2292.592529</td>\n",
       "      <td>8729.629883</td>\n",
       "      <td>0.000000</td>\n",
       "      <td>0.0</td>\n",
       "      <td>0.000000</td>\n",
       "      <td>0.000000</td>\n",
       "      <td>183688.890625</td>\n",
       "      <td>...</td>\n",
       "      <td>male</td>\n",
       "      <td>Domestic</td>\n",
       "      <td>5610.0</td>\n",
       "      <td>56.0</td>\n",
       "      <td>3.0</td>\n",
       "      <td>3</td>\n",
       "      <td>Central</td>\n",
       "      <td>2008-02-24</td>\n",
       "      <td>NaN</td>\n",
       "      <td>NaN</td>\n",
       "    </tr>\n",
       "  </tbody>\n",
       "</table>\n",
       "<p>7 rows × 43 columns</p>\n",
       "</div>"
      ],
      "text/plain": [
       "      comp_id       begin         end        amort    curr_assets  \\\n",
       "11  1001541.0  2009-01-01  2009-12-31     0.000000    2040.740723   \n",
       "12  1001541.0  2010-01-01  2010-12-31     0.000000    1740.740723   \n",
       "13  1001541.0  2011-01-01  2011-12-31     0.000000  127403.703125   \n",
       "14  1001541.0  2012-01-01  2012-12-31   481.481476    9629.629883   \n",
       "15  1001541.0  2013-01-01  2013-12-31  2292.592529    4811.111328   \n",
       "16  1001541.0  2014-01-01  2014-12-31  2292.592529    6500.000000   \n",
       "17  1001541.0  2015-01-01  2015-12-31  2292.592529    8729.629883   \n",
       "\n",
       "        curr_liab  extra_exp  extra_inc  extra_profit_loss   fixed_assets  \\\n",
       "11     933.333313        0.0   0.000000           0.000000       0.000000   \n",
       "12     844.444458        0.0   0.000000           0.000000       0.000000   \n",
       "13  127325.929688        0.0   0.000000           0.000000       0.000000   \n",
       "14    1303.703735        0.0   0.000000           0.000000  190566.671875   \n",
       "15     925.925903        0.0  74.074074          74.074074  188274.078125   \n",
       "16     296.296295        0.0   0.000000           0.000000  185981.484375   \n",
       "17       0.000000        0.0   0.000000           0.000000  183688.890625   \n",
       "\n",
       "    ...  gender    origin  nace_main  ind2  ind  urban_m  region_m  \\\n",
       "11  ...    male  Domestic     5610.0  56.0  3.0        3   Central   \n",
       "12  ...    male  Domestic     5610.0  56.0  3.0        3   Central   \n",
       "13  ...    male  Domestic     5610.0  56.0  3.0        3   Central   \n",
       "14  ...    male  Domestic     5610.0  56.0  3.0        3   Central   \n",
       "15  ...    male  Domestic     5610.0  56.0  3.0        3   Central   \n",
       "16  ...    male  Domestic     5610.0  56.0  3.0        3   Central   \n",
       "17  ...    male  Domestic     5610.0  56.0  3.0        3   Central   \n",
       "\n",
       "    founded_date  exit_date  labor_avg  \n",
       "11    2008-02-24        NaN        NaN  \n",
       "12    2008-02-24        NaN        NaN  \n",
       "13    2008-02-24        NaN        NaN  \n",
       "14    2008-02-24        NaN        NaN  \n",
       "15    2008-02-24        NaN        NaN  \n",
       "16    2008-02-24        NaN        NaN  \n",
       "17    2008-02-24        NaN        NaN  \n",
       "\n",
       "[7 rows x 43 columns]"
      ]
     },
     "execution_count": 61,
     "metadata": {},
     "output_type": "execute_result"
    }
   ],
   "source": [
    "data[data[\"comp_id\"] == 1.001541e+06]"
   ]
  },
  {
   "cell_type": "code",
   "execution_count": 62,
   "metadata": {},
   "outputs": [
    {
     "name": "stderr",
     "output_type": "stream",
     "text": [
      "/tmp/ipykernel_1829/1426590344.py:6: FutureWarning: The previous implementation of stack is deprecated and will be removed in a future version of pandas. See the What's New notes for pandas 2.1.0 for details. Specify future_stack=True to adopt the new implementation and silence this warning.\n",
      "/tmp/ipykernel_1829/1426590344.py:9: FutureWarning: Downcasting behavior in `replace` is deprecated and will be removed in a future version. To retain the old behavior, explicitly call `result.infer_objects(copy=False)`. To opt-in to the future behavior, set `pd.set_option('future.no_silent_downcasting', True)`\n"
     ]
    }
   ],
   "source": [
    "# add all missing year and comp_id combinations -\n",
    "# originally missing combinations will have NAs in all other columns\n",
    "data = (\n",
    "    data.set_index([\"year\", \"comp_id\"])\n",
    "    .unstack(fill_value=\"toReplace\")\n",
    "    .stack()\n",
    "    .reset_index()\n",
    ")\n",
    "data = data.replace(\"toReplace\", np.nan)  # only way I could define it as NaN"
   ]
  },
  {
   "cell_type": "code",
   "execution_count": 63,
   "metadata": {},
   "outputs": [
    {
     "data": {
      "text/plain": [
       "1         2005\n",
       "46413     2006\n",
       "92825     2007\n",
       "139237    2008\n",
       "185649    2009\n",
       "232061    2010\n",
       "278473    2011\n",
       "324885    2012\n",
       "371297    2013\n",
       "417709    2014\n",
       "464121    2015\n",
       "Name: year, dtype: int64"
      ]
     },
     "execution_count": 63,
     "metadata": {},
     "output_type": "execute_result"
    }
   ],
   "source": [
    "data.loc[data[\"comp_id\"] == 1.001541e+06, \"year\"]"
   ]
  },
  {
   "cell_type": "code",
   "execution_count": 64,
   "metadata": {},
   "outputs": [
    {
     "data": {
      "text/html": [
       "<div>\n",
       "<style scoped>\n",
       "    .dataframe tbody tr th:only-of-type {\n",
       "        vertical-align: middle;\n",
       "    }\n",
       "\n",
       "    .dataframe tbody tr th {\n",
       "        vertical-align: top;\n",
       "    }\n",
       "\n",
       "    .dataframe thead th {\n",
       "        text-align: right;\n",
       "    }\n",
       "</style>\n",
       "<table border=\"1\" class=\"dataframe\">\n",
       "  <thead>\n",
       "    <tr style=\"text-align: right;\">\n",
       "      <th></th>\n",
       "      <th>year</th>\n",
       "      <th>comp_id</th>\n",
       "      <th>begin</th>\n",
       "      <th>end</th>\n",
       "      <th>amort</th>\n",
       "      <th>curr_assets</th>\n",
       "      <th>curr_liab</th>\n",
       "      <th>extra_exp</th>\n",
       "      <th>extra_inc</th>\n",
       "      <th>extra_profit_loss</th>\n",
       "      <th>...</th>\n",
       "      <th>gender</th>\n",
       "      <th>origin</th>\n",
       "      <th>nace_main</th>\n",
       "      <th>ind2</th>\n",
       "      <th>ind</th>\n",
       "      <th>urban_m</th>\n",
       "      <th>region_m</th>\n",
       "      <th>founded_date</th>\n",
       "      <th>exit_date</th>\n",
       "      <th>labor_avg</th>\n",
       "    </tr>\n",
       "  </thead>\n",
       "  <tbody>\n",
       "    <tr>\n",
       "      <th>1</th>\n",
       "      <td>2005</td>\n",
       "      <td>1001541.0</td>\n",
       "      <td>NaN</td>\n",
       "      <td>NaN</td>\n",
       "      <td>NaN</td>\n",
       "      <td>NaN</td>\n",
       "      <td>NaN</td>\n",
       "      <td>NaN</td>\n",
       "      <td>NaN</td>\n",
       "      <td>NaN</td>\n",
       "      <td>...</td>\n",
       "      <td>NaN</td>\n",
       "      <td>NaN</td>\n",
       "      <td>NaN</td>\n",
       "      <td>NaN</td>\n",
       "      <td>NaN</td>\n",
       "      <td>NaN</td>\n",
       "      <td>NaN</td>\n",
       "      <td>NaN</td>\n",
       "      <td>NaN</td>\n",
       "      <td>NaN</td>\n",
       "    </tr>\n",
       "    <tr>\n",
       "      <th>46413</th>\n",
       "      <td>2006</td>\n",
       "      <td>1001541.0</td>\n",
       "      <td>NaN</td>\n",
       "      <td>NaN</td>\n",
       "      <td>NaN</td>\n",
       "      <td>NaN</td>\n",
       "      <td>NaN</td>\n",
       "      <td>NaN</td>\n",
       "      <td>NaN</td>\n",
       "      <td>NaN</td>\n",
       "      <td>...</td>\n",
       "      <td>NaN</td>\n",
       "      <td>NaN</td>\n",
       "      <td>NaN</td>\n",
       "      <td>NaN</td>\n",
       "      <td>NaN</td>\n",
       "      <td>NaN</td>\n",
       "      <td>NaN</td>\n",
       "      <td>NaN</td>\n",
       "      <td>NaN</td>\n",
       "      <td>NaN</td>\n",
       "    </tr>\n",
       "    <tr>\n",
       "      <th>92825</th>\n",
       "      <td>2007</td>\n",
       "      <td>1001541.0</td>\n",
       "      <td>NaN</td>\n",
       "      <td>NaN</td>\n",
       "      <td>NaN</td>\n",
       "      <td>NaN</td>\n",
       "      <td>NaN</td>\n",
       "      <td>NaN</td>\n",
       "      <td>NaN</td>\n",
       "      <td>NaN</td>\n",
       "      <td>...</td>\n",
       "      <td>NaN</td>\n",
       "      <td>NaN</td>\n",
       "      <td>NaN</td>\n",
       "      <td>NaN</td>\n",
       "      <td>NaN</td>\n",
       "      <td>NaN</td>\n",
       "      <td>NaN</td>\n",
       "      <td>NaN</td>\n",
       "      <td>NaN</td>\n",
       "      <td>NaN</td>\n",
       "    </tr>\n",
       "    <tr>\n",
       "      <th>139237</th>\n",
       "      <td>2008</td>\n",
       "      <td>1001541.0</td>\n",
       "      <td>NaN</td>\n",
       "      <td>NaN</td>\n",
       "      <td>NaN</td>\n",
       "      <td>NaN</td>\n",
       "      <td>NaN</td>\n",
       "      <td>NaN</td>\n",
       "      <td>NaN</td>\n",
       "      <td>NaN</td>\n",
       "      <td>...</td>\n",
       "      <td>NaN</td>\n",
       "      <td>NaN</td>\n",
       "      <td>NaN</td>\n",
       "      <td>NaN</td>\n",
       "      <td>NaN</td>\n",
       "      <td>NaN</td>\n",
       "      <td>NaN</td>\n",
       "      <td>NaN</td>\n",
       "      <td>NaN</td>\n",
       "      <td>NaN</td>\n",
       "    </tr>\n",
       "    <tr>\n",
       "      <th>185649</th>\n",
       "      <td>2009</td>\n",
       "      <td>1001541.0</td>\n",
       "      <td>2009-01-01</td>\n",
       "      <td>2009-12-31</td>\n",
       "      <td>0.000000</td>\n",
       "      <td>2040.740723</td>\n",
       "      <td>933.333313</td>\n",
       "      <td>0.0</td>\n",
       "      <td>0.000000</td>\n",
       "      <td>0.000000</td>\n",
       "      <td>...</td>\n",
       "      <td>male</td>\n",
       "      <td>Domestic</td>\n",
       "      <td>5610.0</td>\n",
       "      <td>56.0</td>\n",
       "      <td>3.0</td>\n",
       "      <td>3.0</td>\n",
       "      <td>Central</td>\n",
       "      <td>2008-02-24</td>\n",
       "      <td>NaN</td>\n",
       "      <td>NaN</td>\n",
       "    </tr>\n",
       "    <tr>\n",
       "      <th>232061</th>\n",
       "      <td>2010</td>\n",
       "      <td>1001541.0</td>\n",
       "      <td>2010-01-01</td>\n",
       "      <td>2010-12-31</td>\n",
       "      <td>0.000000</td>\n",
       "      <td>1740.740723</td>\n",
       "      <td>844.444458</td>\n",
       "      <td>0.0</td>\n",
       "      <td>0.000000</td>\n",
       "      <td>0.000000</td>\n",
       "      <td>...</td>\n",
       "      <td>male</td>\n",
       "      <td>Domestic</td>\n",
       "      <td>5610.0</td>\n",
       "      <td>56.0</td>\n",
       "      <td>3.0</td>\n",
       "      <td>3.0</td>\n",
       "      <td>Central</td>\n",
       "      <td>2008-02-24</td>\n",
       "      <td>NaN</td>\n",
       "      <td>NaN</td>\n",
       "    </tr>\n",
       "    <tr>\n",
       "      <th>278473</th>\n",
       "      <td>2011</td>\n",
       "      <td>1001541.0</td>\n",
       "      <td>2011-01-01</td>\n",
       "      <td>2011-12-31</td>\n",
       "      <td>0.000000</td>\n",
       "      <td>127403.703125</td>\n",
       "      <td>127325.929688</td>\n",
       "      <td>0.0</td>\n",
       "      <td>0.000000</td>\n",
       "      <td>0.000000</td>\n",
       "      <td>...</td>\n",
       "      <td>male</td>\n",
       "      <td>Domestic</td>\n",
       "      <td>5610.0</td>\n",
       "      <td>56.0</td>\n",
       "      <td>3.0</td>\n",
       "      <td>3.0</td>\n",
       "      <td>Central</td>\n",
       "      <td>2008-02-24</td>\n",
       "      <td>NaN</td>\n",
       "      <td>NaN</td>\n",
       "    </tr>\n",
       "    <tr>\n",
       "      <th>324885</th>\n",
       "      <td>2012</td>\n",
       "      <td>1001541.0</td>\n",
       "      <td>2012-01-01</td>\n",
       "      <td>2012-12-31</td>\n",
       "      <td>481.481476</td>\n",
       "      <td>9629.629883</td>\n",
       "      <td>1303.703735</td>\n",
       "      <td>0.0</td>\n",
       "      <td>0.000000</td>\n",
       "      <td>0.000000</td>\n",
       "      <td>...</td>\n",
       "      <td>male</td>\n",
       "      <td>Domestic</td>\n",
       "      <td>5610.0</td>\n",
       "      <td>56.0</td>\n",
       "      <td>3.0</td>\n",
       "      <td>3.0</td>\n",
       "      <td>Central</td>\n",
       "      <td>2008-02-24</td>\n",
       "      <td>NaN</td>\n",
       "      <td>NaN</td>\n",
       "    </tr>\n",
       "    <tr>\n",
       "      <th>371297</th>\n",
       "      <td>2013</td>\n",
       "      <td>1001541.0</td>\n",
       "      <td>2013-01-01</td>\n",
       "      <td>2013-12-31</td>\n",
       "      <td>2292.592529</td>\n",
       "      <td>4811.111328</td>\n",
       "      <td>925.925903</td>\n",
       "      <td>0.0</td>\n",
       "      <td>74.074074</td>\n",
       "      <td>74.074074</td>\n",
       "      <td>...</td>\n",
       "      <td>male</td>\n",
       "      <td>Domestic</td>\n",
       "      <td>5610.0</td>\n",
       "      <td>56.0</td>\n",
       "      <td>3.0</td>\n",
       "      <td>3.0</td>\n",
       "      <td>Central</td>\n",
       "      <td>2008-02-24</td>\n",
       "      <td>NaN</td>\n",
       "      <td>NaN</td>\n",
       "    </tr>\n",
       "    <tr>\n",
       "      <th>417709</th>\n",
       "      <td>2014</td>\n",
       "      <td>1001541.0</td>\n",
       "      <td>2014-01-01</td>\n",
       "      <td>2014-12-31</td>\n",
       "      <td>2292.592529</td>\n",
       "      <td>6500.000000</td>\n",
       "      <td>296.296295</td>\n",
       "      <td>0.0</td>\n",
       "      <td>0.000000</td>\n",
       "      <td>0.000000</td>\n",
       "      <td>...</td>\n",
       "      <td>male</td>\n",
       "      <td>Domestic</td>\n",
       "      <td>5610.0</td>\n",
       "      <td>56.0</td>\n",
       "      <td>3.0</td>\n",
       "      <td>3.0</td>\n",
       "      <td>Central</td>\n",
       "      <td>2008-02-24</td>\n",
       "      <td>NaN</td>\n",
       "      <td>NaN</td>\n",
       "    </tr>\n",
       "    <tr>\n",
       "      <th>464121</th>\n",
       "      <td>2015</td>\n",
       "      <td>1001541.0</td>\n",
       "      <td>2015-01-01</td>\n",
       "      <td>2015-12-31</td>\n",
       "      <td>2292.592529</td>\n",
       "      <td>8729.629883</td>\n",
       "      <td>0.000000</td>\n",
       "      <td>0.0</td>\n",
       "      <td>0.000000</td>\n",
       "      <td>0.000000</td>\n",
       "      <td>...</td>\n",
       "      <td>male</td>\n",
       "      <td>Domestic</td>\n",
       "      <td>5610.0</td>\n",
       "      <td>56.0</td>\n",
       "      <td>3.0</td>\n",
       "      <td>3.0</td>\n",
       "      <td>Central</td>\n",
       "      <td>2008-02-24</td>\n",
       "      <td>NaN</td>\n",
       "      <td>NaN</td>\n",
       "    </tr>\n",
       "  </tbody>\n",
       "</table>\n",
       "<p>11 rows × 43 columns</p>\n",
       "</div>"
      ],
      "text/plain": [
       "        year    comp_id       begin         end        amort    curr_assets  \\\n",
       "1       2005  1001541.0         NaN         NaN          NaN            NaN   \n",
       "46413   2006  1001541.0         NaN         NaN          NaN            NaN   \n",
       "92825   2007  1001541.0         NaN         NaN          NaN            NaN   \n",
       "139237  2008  1001541.0         NaN         NaN          NaN            NaN   \n",
       "185649  2009  1001541.0  2009-01-01  2009-12-31     0.000000    2040.740723   \n",
       "232061  2010  1001541.0  2010-01-01  2010-12-31     0.000000    1740.740723   \n",
       "278473  2011  1001541.0  2011-01-01  2011-12-31     0.000000  127403.703125   \n",
       "324885  2012  1001541.0  2012-01-01  2012-12-31   481.481476    9629.629883   \n",
       "371297  2013  1001541.0  2013-01-01  2013-12-31  2292.592529    4811.111328   \n",
       "417709  2014  1001541.0  2014-01-01  2014-12-31  2292.592529    6500.000000   \n",
       "464121  2015  1001541.0  2015-01-01  2015-12-31  2292.592529    8729.629883   \n",
       "\n",
       "            curr_liab  extra_exp  extra_inc  extra_profit_loss  ...  gender  \\\n",
       "1                 NaN        NaN        NaN                NaN  ...     NaN   \n",
       "46413             NaN        NaN        NaN                NaN  ...     NaN   \n",
       "92825             NaN        NaN        NaN                NaN  ...     NaN   \n",
       "139237            NaN        NaN        NaN                NaN  ...     NaN   \n",
       "185649     933.333313        0.0   0.000000           0.000000  ...    male   \n",
       "232061     844.444458        0.0   0.000000           0.000000  ...    male   \n",
       "278473  127325.929688        0.0   0.000000           0.000000  ...    male   \n",
       "324885    1303.703735        0.0   0.000000           0.000000  ...    male   \n",
       "371297     925.925903        0.0  74.074074          74.074074  ...    male   \n",
       "417709     296.296295        0.0   0.000000           0.000000  ...    male   \n",
       "464121       0.000000        0.0   0.000000           0.000000  ...    male   \n",
       "\n",
       "          origin  nace_main  ind2  ind  urban_m  region_m  founded_date  \\\n",
       "1            NaN        NaN   NaN  NaN      NaN       NaN           NaN   \n",
       "46413        NaN        NaN   NaN  NaN      NaN       NaN           NaN   \n",
       "92825        NaN        NaN   NaN  NaN      NaN       NaN           NaN   \n",
       "139237       NaN        NaN   NaN  NaN      NaN       NaN           NaN   \n",
       "185649  Domestic     5610.0  56.0  3.0      3.0   Central    2008-02-24   \n",
       "232061  Domestic     5610.0  56.0  3.0      3.0   Central    2008-02-24   \n",
       "278473  Domestic     5610.0  56.0  3.0      3.0   Central    2008-02-24   \n",
       "324885  Domestic     5610.0  56.0  3.0      3.0   Central    2008-02-24   \n",
       "371297  Domestic     5610.0  56.0  3.0      3.0   Central    2008-02-24   \n",
       "417709  Domestic     5610.0  56.0  3.0      3.0   Central    2008-02-24   \n",
       "464121  Domestic     5610.0  56.0  3.0      3.0   Central    2008-02-24   \n",
       "\n",
       "        exit_date  labor_avg  \n",
       "1             NaN        NaN  \n",
       "46413         NaN        NaN  \n",
       "92825         NaN        NaN  \n",
       "139237        NaN        NaN  \n",
       "185649        NaN        NaN  \n",
       "232061        NaN        NaN  \n",
       "278473        NaN        NaN  \n",
       "324885        NaN        NaN  \n",
       "371297        NaN        NaN  \n",
       "417709        NaN        NaN  \n",
       "464121        NaN        NaN  \n",
       "\n",
       "[11 rows x 43 columns]"
      ]
     },
     "execution_count": 64,
     "metadata": {},
     "output_type": "execute_result"
    }
   ],
   "source": [
    "data[data[\"comp_id\"] == 1.001541e+06]"
   ]
  },
  {
   "cell_type": "code",
   "execution_count": 65,
   "metadata": {},
   "outputs": [
    {
     "data": {
      "text/plain": [
       "(510532, 43)"
      ]
     },
     "execution_count": 65,
     "metadata": {},
     "output_type": "execute_result"
    }
   ],
   "source": [
    "data.shape"
   ]
  },
  {
   "cell_type": "code",
   "execution_count": 66,
   "metadata": {},
   "outputs": [],
   "source": [
    "# generate status_alive; if sales larger than zero and not-NA, then firm is alive\n",
    "data[\"status_alive\"] = (data[\"sales\"] > 0 & (False == data[\"sales\"].isna())).astype(int)\n",
    "\n",
    "\n",
    "# defaults in two years if there are sales in this year but no sales two years later\n",
    "# Status_in_two_years: data.groupby('comp_id')['status_alive'].shift(-2)\n",
    "data[\"default\"] = (\n",
    "    (data[\"status_alive\"] == 1)\n",
    "    & (data.groupby(\"comp_id\")[\"status_alive\"].shift(-2) == 0)\n",
    ").astype(int)\n"
   ]
  },
  {
   "cell_type": "code",
   "execution_count": 67,
   "metadata": {},
   "outputs": [
    {
     "data": {
      "text/html": [
       "<div>\n",
       "<style scoped>\n",
       "    .dataframe tbody tr th:only-of-type {\n",
       "        vertical-align: middle;\n",
       "    }\n",
       "\n",
       "    .dataframe tbody tr th {\n",
       "        vertical-align: top;\n",
       "    }\n",
       "\n",
       "    .dataframe thead th {\n",
       "        text-align: right;\n",
       "    }\n",
       "</style>\n",
       "<table border=\"1\" class=\"dataframe\">\n",
       "  <thead>\n",
       "    <tr style=\"text-align: right;\">\n",
       "      <th></th>\n",
       "      <th>year</th>\n",
       "      <th>sales</th>\n",
       "      <th>status_alive</th>\n",
       "      <th>default</th>\n",
       "    </tr>\n",
       "  </thead>\n",
       "  <tbody>\n",
       "    <tr>\n",
       "      <th>1</th>\n",
       "      <td>2005</td>\n",
       "      <td>NaN</td>\n",
       "      <td>0</td>\n",
       "      <td>0</td>\n",
       "    </tr>\n",
       "    <tr>\n",
       "      <th>46413</th>\n",
       "      <td>2006</td>\n",
       "      <td>NaN</td>\n",
       "      <td>0</td>\n",
       "      <td>0</td>\n",
       "    </tr>\n",
       "    <tr>\n",
       "      <th>92825</th>\n",
       "      <td>2007</td>\n",
       "      <td>NaN</td>\n",
       "      <td>0</td>\n",
       "      <td>0</td>\n",
       "    </tr>\n",
       "    <tr>\n",
       "      <th>139237</th>\n",
       "      <td>2008</td>\n",
       "      <td>NaN</td>\n",
       "      <td>0</td>\n",
       "      <td>0</td>\n",
       "    </tr>\n",
       "    <tr>\n",
       "      <th>185649</th>\n",
       "      <td>2009</td>\n",
       "      <td>925.925903</td>\n",
       "      <td>1</td>\n",
       "      <td>1</td>\n",
       "    </tr>\n",
       "    <tr>\n",
       "      <th>232061</th>\n",
       "      <td>2010</td>\n",
       "      <td>0.000000</td>\n",
       "      <td>0</td>\n",
       "      <td>0</td>\n",
       "    </tr>\n",
       "    <tr>\n",
       "      <th>278473</th>\n",
       "      <td>2011</td>\n",
       "      <td>0.000000</td>\n",
       "      <td>0</td>\n",
       "      <td>0</td>\n",
       "    </tr>\n",
       "    <tr>\n",
       "      <th>324885</th>\n",
       "      <td>2012</td>\n",
       "      <td>1203.703735</td>\n",
       "      <td>1</td>\n",
       "      <td>0</td>\n",
       "    </tr>\n",
       "    <tr>\n",
       "      <th>371297</th>\n",
       "      <td>2013</td>\n",
       "      <td>5555.555664</td>\n",
       "      <td>1</td>\n",
       "      <td>0</td>\n",
       "    </tr>\n",
       "    <tr>\n",
       "      <th>417709</th>\n",
       "      <td>2014</td>\n",
       "      <td>4888.888672</td>\n",
       "      <td>1</td>\n",
       "      <td>0</td>\n",
       "    </tr>\n",
       "    <tr>\n",
       "      <th>464121</th>\n",
       "      <td>2015</td>\n",
       "      <td>4888.888672</td>\n",
       "      <td>1</td>\n",
       "      <td>0</td>\n",
       "    </tr>\n",
       "  </tbody>\n",
       "</table>\n",
       "</div>"
      ],
      "text/plain": [
       "        year        sales  status_alive  default\n",
       "1       2005          NaN             0        0\n",
       "46413   2006          NaN             0        0\n",
       "92825   2007          NaN             0        0\n",
       "139237  2008          NaN             0        0\n",
       "185649  2009   925.925903             1        1\n",
       "232061  2010     0.000000             0        0\n",
       "278473  2011     0.000000             0        0\n",
       "324885  2012  1203.703735             1        0\n",
       "371297  2013  5555.555664             1        0\n",
       "417709  2014  4888.888672             1        0\n",
       "464121  2015  4888.888672             1        0"
      ]
     },
     "execution_count": 67,
     "metadata": {},
     "output_type": "execute_result"
    }
   ],
   "source": [
    "data.loc[data[\"comp_id\"] == 1.001541e+06, [\"year\", \"sales\", \"status_alive\", \"default\"]]"
   ]
  },
  {
   "cell_type": "code",
   "execution_count": 68,
   "metadata": {},
   "outputs": [
    {
     "data": {
      "text/plain": [
       "status_alive\n",
       "0    281576\n",
       "1    228956\n",
       "Name: count, dtype: int64"
      ]
     },
     "execution_count": 68,
     "metadata": {},
     "output_type": "execute_result"
    }
   ],
   "source": [
    "data[\"status_alive\"].value_counts()"
   ]
  },
  {
   "cell_type": "code",
   "execution_count": 69,
   "metadata": {},
   "outputs": [
    {
     "data": {
      "text/plain": [
       "default\n",
       "0    474076\n",
       "1     36456\n",
       "Name: count, dtype: int64"
      ]
     },
     "execution_count": 69,
     "metadata": {},
     "output_type": "execute_result"
    }
   ],
   "source": [
    "data[\"default\"].value_counts()"
   ]
  },
  {
   "cell_type": "code",
   "execution_count": 70,
   "metadata": {},
   "outputs": [
    {
     "data": {
      "text/plain": [
       "1         2005\n",
       "46413     2006\n",
       "92825     2007\n",
       "139237    2008\n",
       "185649    2009\n",
       "232061    2010\n",
       "278473    2011\n",
       "324885    2012\n",
       "371297    2013\n",
       "417709    2014\n",
       "464121    2015\n",
       "Name: year, dtype: int64"
      ]
     },
     "execution_count": 70,
     "metadata": {},
     "output_type": "execute_result"
    }
   ],
   "source": [
    "data.loc[data[\"comp_id\"] == 1.001541e+06, \"year\"]"
   ]
  },
  {
   "cell_type": "code",
   "execution_count": 71,
   "metadata": {},
   "outputs": [],
   "source": [
    "data = data.query(\"year <= 2013\")"
   ]
  },
  {
   "cell_type": "code",
   "execution_count": 72,
   "metadata": {},
   "outputs": [
    {
     "data": {
      "text/plain": [
       "1         2005\n",
       "46413     2006\n",
       "92825     2007\n",
       "139237    2008\n",
       "185649    2009\n",
       "232061    2010\n",
       "278473    2011\n",
       "324885    2012\n",
       "371297    2013\n",
       "Name: year, dtype: int64"
      ]
     },
     "execution_count": 72,
     "metadata": {},
     "output_type": "execute_result"
    }
   ],
   "source": [
    "data.loc[data[\"comp_id\"] == 1.001541e+06, \"year\"]"
   ]
  },
  {
   "cell_type": "code",
   "execution_count": 73,
   "metadata": {},
   "outputs": [
    {
     "data": {
      "text/plain": [
       "count    417708.000000\n",
       "mean          0.087276\n",
       "std           0.282240\n",
       "min           0.000000\n",
       "25%           0.000000\n",
       "50%           0.000000\n",
       "75%           0.000000\n",
       "max           1.000000\n",
       "Name: default, dtype: float64"
      ]
     },
     "execution_count": 73,
     "metadata": {},
     "output_type": "execute_result"
    }
   ],
   "source": [
    "data[\"default\"].describe()"
   ]
  },
  {
   "cell_type": "code",
   "execution_count": 74,
   "metadata": {},
   "outputs": [
    {
     "data": {
      "text/plain": [
       "count    2.151190e+05\n",
       "mean     4.860478e+05\n",
       "std      3.885493e+06\n",
       "min     -1.472559e+07\n",
       "25%      5.344444e+03\n",
       "50%      3.055555e+04\n",
       "75%      1.083537e+05\n",
       "max      1.110294e+08\n",
       "Name: sales, dtype: float64"
      ]
     },
     "execution_count": 74,
     "metadata": {},
     "output_type": "execute_result"
    }
   ],
   "source": [
    "data[\"sales\"].describe()"
   ]
  },
  {
   "cell_type": "code",
   "execution_count": 75,
   "metadata": {},
   "outputs": [
    {
     "name": "stderr",
     "output_type": "stream",
     "text": [
      "/usr/local/python/3.12.1/lib/python3.12/site-packages/pandas/core/arraylike.py:399: RuntimeWarning: divide by zero encountered in log\n"
     ]
    }
   ],
   "source": [
    "data[\"sales\"] = np.where(\n",
    "    data[\"sales\"] < 0, 1, data[\"sales\"]\n",
    ")  # has to be outside of assin()\n",
    "data = data.assign(\n",
    "    ln_sales=np.where(data[\"sales\"] > 0,np.log(data[\"sales\"]),(np.where(data[\"sales\"].isna(), np.nan, 0)),\n",
    "    ),  # NaN remain NaN\n",
    "    sales_mil=data[\"sales\"] / 1000000,\n",
    "    sales_mil_log=np.where(data[\"sales\"] > 0, np.log(data[\"sales\"] / 1000000),(np.where(data[\"sales\"].isna(), np.nan, 0)),\n",
    "    ),\n",
    ")\n"
   ]
  },
  {
   "cell_type": "code",
   "execution_count": 76,
   "metadata": {},
   "outputs": [
    {
     "data": {
      "text/plain": [
       "(417708, 48)"
      ]
     },
     "execution_count": 76,
     "metadata": {},
     "output_type": "execute_result"
    }
   ],
   "source": [
    "data.shape"
   ]
  },
  {
   "cell_type": "code",
   "execution_count": 77,
   "metadata": {},
   "outputs": [
    {
     "data": {
      "text/html": [
       "<div>\n",
       "<style scoped>\n",
       "    .dataframe tbody tr th:only-of-type {\n",
       "        vertical-align: middle;\n",
       "    }\n",
       "\n",
       "    .dataframe tbody tr th {\n",
       "        vertical-align: top;\n",
       "    }\n",
       "\n",
       "    .dataframe thead th {\n",
       "        text-align: right;\n",
       "    }\n",
       "</style>\n",
       "<table border=\"1\" class=\"dataframe\">\n",
       "  <thead>\n",
       "    <tr style=\"text-align: right;\">\n",
       "      <th></th>\n",
       "      <th>sales</th>\n",
       "      <th>sales_mil</th>\n",
       "      <th>sales_mil_log</th>\n",
       "    </tr>\n",
       "  </thead>\n",
       "  <tbody>\n",
       "    <tr>\n",
       "      <th>0</th>\n",
       "      <td>6.275185e+04</td>\n",
       "      <td>0.062752</td>\n",
       "      <td>-2.768567</td>\n",
       "    </tr>\n",
       "    <tr>\n",
       "      <th>1</th>\n",
       "      <td>NaN</td>\n",
       "      <td>NaN</td>\n",
       "      <td>NaN</td>\n",
       "    </tr>\n",
       "    <tr>\n",
       "      <th>2</th>\n",
       "      <td>NaN</td>\n",
       "      <td>NaN</td>\n",
       "      <td>NaN</td>\n",
       "    </tr>\n",
       "    <tr>\n",
       "      <th>3</th>\n",
       "      <td>1.111852e+04</td>\n",
       "      <td>0.011119</td>\n",
       "      <td>-4.499143</td>\n",
       "    </tr>\n",
       "    <tr>\n",
       "      <th>4</th>\n",
       "      <td>5.833333e+03</td>\n",
       "      <td>0.005833</td>\n",
       "      <td>-5.144167</td>\n",
       "    </tr>\n",
       "    <tr>\n",
       "      <th>...</th>\n",
       "      <td>...</td>\n",
       "      <td>...</td>\n",
       "      <td>...</td>\n",
       "    </tr>\n",
       "    <tr>\n",
       "      <th>417703</th>\n",
       "      <td>8.638381e+06</td>\n",
       "      <td>8.638381</td>\n",
       "      <td>2.156215</td>\n",
       "    </tr>\n",
       "    <tr>\n",
       "      <th>417704</th>\n",
       "      <td>NaN</td>\n",
       "      <td>NaN</td>\n",
       "      <td>NaN</td>\n",
       "    </tr>\n",
       "    <tr>\n",
       "      <th>417705</th>\n",
       "      <td>NaN</td>\n",
       "      <td>NaN</td>\n",
       "      <td>NaN</td>\n",
       "    </tr>\n",
       "    <tr>\n",
       "      <th>417706</th>\n",
       "      <td>1.579148e+05</td>\n",
       "      <td>0.157915</td>\n",
       "      <td>-1.845700</td>\n",
       "    </tr>\n",
       "    <tr>\n",
       "      <th>417707</th>\n",
       "      <td>0.000000e+00</td>\n",
       "      <td>0.000000</td>\n",
       "      <td>0.000000</td>\n",
       "    </tr>\n",
       "  </tbody>\n",
       "</table>\n",
       "<p>417708 rows × 3 columns</p>\n",
       "</div>"
      ],
      "text/plain": [
       "               sales  sales_mil  sales_mil_log\n",
       "0       6.275185e+04   0.062752      -2.768567\n",
       "1                NaN        NaN            NaN\n",
       "2                NaN        NaN            NaN\n",
       "3       1.111852e+04   0.011119      -4.499143\n",
       "4       5.833333e+03   0.005833      -5.144167\n",
       "...              ...        ...            ...\n",
       "417703  8.638381e+06   8.638381       2.156215\n",
       "417704           NaN        NaN            NaN\n",
       "417705           NaN        NaN            NaN\n",
       "417706  1.579148e+05   0.157915      -1.845700\n",
       "417707  0.000000e+00   0.000000       0.000000\n",
       "\n",
       "[417708 rows x 3 columns]"
      ]
     },
     "execution_count": 77,
     "metadata": {},
     "output_type": "execute_result"
    }
   ],
   "source": [
    "data[[\"sales\", \"sales_mil\", \"sales_mil_log\"]]"
   ]
  },
  {
   "cell_type": "code",
   "execution_count": 78,
   "metadata": {},
   "outputs": [
    {
     "data": {
      "text/plain": [
       "count    2.151190e+05\n",
       "mean     4.861430e+05\n",
       "std      3.885338e+06\n",
       "min      0.000000e+00\n",
       "25%      5.344444e+03\n",
       "50%      3.055555e+04\n",
       "75%      1.083537e+05\n",
       "max      1.110294e+08\n",
       "Name: sales, dtype: float64"
      ]
     },
     "execution_count": 78,
     "metadata": {},
     "output_type": "execute_result"
    }
   ],
   "source": [
    "data[\"sales\"].describe()"
   ]
  },
  {
   "cell_type": "code",
   "execution_count": 79,
   "metadata": {},
   "outputs": [
    {
     "data": {
      "text/plain": [
       "0         11.046943\n",
       "1               NaN\n",
       "2               NaN\n",
       "3          9.316367\n",
       "4          8.671344\n",
       "            ...    \n",
       "417703    15.971726\n",
       "417704          NaN\n",
       "417705          NaN\n",
       "417706    11.969811\n",
       "417707     0.000000\n",
       "Name: ln_sales, Length: 417708, dtype: float64"
      ]
     },
     "execution_count": 79,
     "metadata": {},
     "output_type": "execute_result"
    }
   ],
   "source": [
    "data[\"ln_sales\"]"
   ]
  },
  {
   "cell_type": "code",
   "execution_count": 80,
   "metadata": {},
   "outputs": [],
   "source": [
    "data[\"d1_sales_mil_log\"] = data[\"sales_mil_log\"] - data.groupby(\"comp_id\")[\n",
    "    \"sales_mil_log\"\n",
    "].shift(1)\n"
   ]
  },
  {
   "cell_type": "code",
   "execution_count": 81,
   "metadata": {},
   "outputs": [],
   "source": [
    "# replace w 0 for new firms + add dummy to capture it\n",
    "data[\"age\"] = np.where(\n",
    "    data[\"year\"] - data[\"founded_year\"] < 0, 0, data[\"year\"] - data[\"founded_year\"]\n",
    ")\n",
    "data[\"new\"] = np.where(\n",
    "    ((data[\"age\"] <= 1) | (data[\"balsheet_notfullyear\"] == 1)),\n",
    "    1,\n",
    "    (np.where(data[\"age\"].isna(), np.nan, 0)),\n",
    ")\n",
    "data[\"d1_sales_mil_log\"] = np.where(\n",
    "    data[\"new\"] == 1, 0, np.where(data[\"new\"].isna(), np.nan, data[\"d1_sales_mil_log\"])\n",
    ")\n",
    "data[\"new\"] = np.where(data[\"d1_sales_mil_log\"].isna(), 1, data[\"new\"])\n",
    "data[\"d1_sales_mil_log\"] = np.where(\n",
    "    data[\"d1_sales_mil_log\"].isna(), 0, data[\"d1_sales_mil_log\"]\n",
    ")\n"
   ]
  },
  {
   "cell_type": "code",
   "execution_count": 82,
   "metadata": {},
   "outputs": [
    {
     "data": {
      "text/plain": [
       "count    417708.000000\n",
       "mean          0.704597\n",
       "std           0.456224\n",
       "min           0.000000\n",
       "25%           0.000000\n",
       "50%           1.000000\n",
       "75%           1.000000\n",
       "max           1.000000\n",
       "Name: new, dtype: float64"
      ]
     },
     "execution_count": 82,
     "metadata": {},
     "output_type": "execute_result"
    }
   ],
   "source": [
    "data[\"new\"].describe()"
   ]
  },
  {
   "cell_type": "markdown",
   "metadata": {},
   "source": [
    "# Sample design"
   ]
  },
  {
   "cell_type": "code",
   "execution_count": 84,
   "metadata": {},
   "outputs": [
    {
     "data": {
      "text/plain": [
       "year\n",
       "2005    46412\n",
       "2006    46412\n",
       "2007    46412\n",
       "2008    46412\n",
       "2009    46412\n",
       "2010    46412\n",
       "2011    46412\n",
       "2012    46412\n",
       "2013    46412\n",
       "Name: count, dtype: int64"
      ]
     },
     "execution_count": 84,
     "metadata": {},
     "output_type": "execute_result"
    }
   ],
   "source": [
    "data[\"year\"].value_counts()"
   ]
  },
  {
   "cell_type": "code",
   "execution_count": 85,
   "metadata": {},
   "outputs": [
    {
     "data": {
      "text/plain": [
       "(417708, 51)"
      ]
     },
     "execution_count": 85,
     "metadata": {},
     "output_type": "execute_result"
    }
   ],
   "source": [
    "data.shape"
   ]
  },
  {
   "cell_type": "code",
   "execution_count": 87,
   "metadata": {},
   "outputs": [],
   "source": [
    "# look at cross section\n",
    "data = data.query(\"year==2010 & status_alive == 1\")\n",
    "# look at firms below 10m euro revenues and above 1000 euros\n",
    "data = data.query(\"sales_mil<=10 & sales_mil>=0.001\") # - will not be doing this for practice"
   ]
  },
  {
   "cell_type": "code",
   "execution_count": 88,
   "metadata": {},
   "outputs": [
    {
     "data": {
      "text/plain": [
       "(21166, 51)"
      ]
     },
     "execution_count": 88,
     "metadata": {},
     "output_type": "execute_result"
    }
   ],
   "source": [
    "data.shape"
   ]
  },
  {
   "cell_type": "code",
   "execution_count": 89,
   "metadata": {},
   "outputs": [
    {
     "data": {
      "text/plain": [
       "year\n",
       "2010    21166\n",
       "Name: count, dtype: int64"
      ]
     },
     "execution_count": 89,
     "metadata": {},
     "output_type": "execute_result"
    }
   ],
   "source": [
    "data[\"year\"].value_counts()"
   ]
  },
  {
   "cell_type": "code",
   "execution_count": 90,
   "metadata": {},
   "outputs": [
    {
     "data": {
      "text/plain": [
       "count    21166.000000\n",
       "mean         0.214920\n",
       "std          0.410777\n",
       "min          0.000000\n",
       "25%          0.000000\n",
       "50%          0.000000\n",
       "75%          0.000000\n",
       "max          1.000000\n",
       "Name: default, dtype: float64"
      ]
     },
     "execution_count": 90,
     "metadata": {},
     "output_type": "execute_result"
    }
   ],
   "source": [
    "data[\"default\"].describe()"
   ]
  },
  {
   "cell_type": "code",
   "execution_count": 91,
   "metadata": {},
   "outputs": [],
   "source": [
    "data.to_csv(\"work7.csv\", index=False)"
   ]
  },
  {
   "cell_type": "markdown",
   "metadata": {},
   "source": [
    "# Feature engineering"
   ]
  },
  {
   "cell_type": "code",
   "execution_count": 92,
   "metadata": {},
   "outputs": [],
   "source": [
    "data = pd.read_csv(\"/workspaces/codespaces-jupyter/data/work7.csv\")"
   ]
  },
  {
   "cell_type": "code",
   "execution_count": 93,
   "metadata": {},
   "outputs": [],
   "source": [
    "# change some industry category codes\n",
    "data[\"ind2_cat\"] = data[\"ind2\"].copy()\n",
    "data[\"ind2_cat\"] = np.where(data[\"ind2\"] > 56, 60, data[\"ind2_cat\"])\n",
    "data[\"ind2_cat\"] = np.where(data[\"ind2\"] < 26, 20, data[\"ind2_cat\"])\n",
    "data[\"ind2_cat\"] = np.where(\n",
    "    (data[\"ind2\"] < 55) & (data[\"ind2\"] > 35), 40, data[\"ind2_cat\"]\n",
    ")\n",
    "data[\"ind2_cat\"] = np.where(data[\"ind2\"] == 31, 30, data[\"ind2_cat\"])\n",
    "data[\"ind2_cat\"] = np.where(data[\"ind2\"].isna(), 99, data[\"ind2_cat\"])\n"
   ]
  },
  {
   "cell_type": "code",
   "execution_count": 94,
   "metadata": {},
   "outputs": [
    {
     "data": {
      "text/plain": [
       "ind2_cat\n",
       "20.0       52\n",
       "26.0     1128\n",
       "27.0      676\n",
       "28.0     1989\n",
       "29.0      289\n",
       "30.0      163\n",
       "32.0      155\n",
       "33.0     1734\n",
       "40.0      210\n",
       "55.0     2117\n",
       "56.0    12399\n",
       "60.0      242\n",
       "99.0       12\n",
       "Name: comp_id, dtype: int64"
      ]
     },
     "execution_count": 94,
     "metadata": {},
     "output_type": "execute_result"
    }
   ],
   "source": [
    "data.groupby(\"ind2_cat\").count()[\"comp_id\"]"
   ]
  },
  {
   "cell_type": "code",
   "execution_count": 95,
   "metadata": {},
   "outputs": [],
   "source": [
    "# Firm characteristics\n",
    "data[\"age2\"] = data[\"age\"] ** 2\n",
    "data[\"foreign_management\"] = np.where(\n",
    "    data[\"foreign\"] >= 0.5, 1, np.where(data[\"foreign\"].isna(), np.nan, 0)\n",
    ")\n",
    "data[\"gender_m\"] = data[\"gender\"].astype(\"category\")\n",
    "data[\"m_region_loc\"] = data[\"region_m\"].astype(\"category\")"
   ]
  },
  {
   "cell_type": "code",
   "execution_count": 96,
   "metadata": {},
   "outputs": [
    {
     "data": {
      "text/plain": [
       "flag_asset_problem\n",
       "0.0    21150\n",
       "1.0       13\n",
       "Name: comp_id, dtype: int64"
      ]
     },
     "execution_count": 96,
     "metadata": {},
     "output_type": "execute_result"
    }
   ],
   "source": [
    "###########################################################\n",
    "# look at more financial variables, create ratios\n",
    "###########################################################\n",
    "\n",
    "# assets can't be negative. Change them to 0 and add a flag.\n",
    "data[\"flag_asset_problem\"] = np.where(\n",
    "    (\n",
    "        (data[\"intang_assets\"] < 0)\n",
    "        | (data[\"curr_assets\"] < 0)\n",
    "        | (data[\"fixed_assets\"] < 0)\n",
    "    ),\n",
    "    1,\n",
    "    0,\n",
    ")\n",
    "data[\"flag_asset_problem\"] = np.where(\n",
    "    (\n",
    "        (data[\"intang_assets\"].isna())\n",
    "        | (data[\"curr_assets\"].isna())\n",
    "        | (data[\"fixed_assets\"].isna())\n",
    "    ),\n",
    "    np.nan,\n",
    "    data[\"flag_asset_problem\"],\n",
    ")\n",
    "data.groupby(\"flag_asset_problem\").count()[\"comp_id\"]\n"
   ]
  },
  {
   "cell_type": "code",
   "execution_count": 97,
   "metadata": {},
   "outputs": [],
   "source": [
    "data[\"intang_assets\"] = np.where(data[\"intang_assets\"] < 0, 0, data[\"intang_assets\"])\n",
    "data[\"curr_assets\"] = np.where(data[\"curr_assets\"] < 0, 0, data[\"curr_assets\"])\n",
    "data[\"fixed_assets\"] = np.where(data[\"fixed_assets\"] < 0, 0, data[\"fixed_assets\"])"
   ]
  },
  {
   "cell_type": "code",
   "execution_count": 98,
   "metadata": {},
   "outputs": [
    {
     "data": {
      "text/plain": [
       "count    2.116300e+04\n",
       "mean     2.506338e+05\n",
       "std      1.433437e+06\n",
       "min      0.000000e+00\n",
       "25%      6.687037e+03\n",
       "50%      2.376296e+04\n",
       "75%      9.369630e+04\n",
       "max      9.503740e+07\n",
       "Name: total_assets_bs, dtype: float64"
      ]
     },
     "execution_count": 98,
     "metadata": {},
     "output_type": "execute_result"
    }
   ],
   "source": [
    "# generate total assets\n",
    "data[\"total_assets_bs\"] = (\n",
    "    data[\"intang_assets\"] + data[\"curr_assets\"] + data[\"fixed_assets\"]\n",
    ")\n",
    "data[\"total_assets_bs\"].describe()"
   ]
  },
  {
   "cell_type": "code",
   "execution_count": 99,
   "metadata": {},
   "outputs": [],
   "source": [
    "# P&L List of variables\n",
    "\n",
    "pl_names = [\n",
    "    \"extra_exp\",\n",
    "    \"extra_inc\",\n",
    "    \"extra_profit_loss\",\n",
    "    \"inc_bef_tax\",\n",
    "    \"inventories\",\n",
    "    \"material_exp\",\n",
    "    \"profit_loss_year\",\n",
    "    \"personnel_exp\",\n",
    "]\n",
    "\n",
    "# Balance Sheet List of variables\n",
    "bs_names = [\n",
    "    \"intang_assets\",\n",
    "    \"curr_liab\",\n",
    "    \"fixed_assets\",\n",
    "    \"liq_assets\",\n",
    "    \"curr_assets\",\n",
    "    \"share_eq\",\n",
    "    \"subscribed_cap\",\n",
    "    \"tang_assets\",\n",
    "]"
   ]
  },
  {
   "cell_type": "code",
   "execution_count": 100,
   "metadata": {},
   "outputs": [],
   "source": [
    "# divide all pl_names elements by sales and create new column for it\n",
    "data[[col + \"_pl\" for col in pl_names]] = data[pl_names].div(\n",
    "    data[\"sales\"], axis=\"index\"\n",
    ")"
   ]
  },
  {
   "cell_type": "code",
   "execution_count": 101,
   "metadata": {},
   "outputs": [],
   "source": [
    "# divide all bs_names elements by total_assets_bs and create new column for it\n",
    "data[[col + \"_bs\" for col in bs_names]] = (\n",
    "    data[bs_names]\n",
    "    .div(data[\"total_assets_bs\"], axis=\"index\")\n",
    "    .replace((np.inf, -np.inf, np.nan), (0, 0, 0))\n",
    ")\n",
    "# get Nan values where total_assets_bs is NaN\n",
    "for col in bs_names:\n",
    "    data[col + \"_bs\"] = np.where(\n",
    "        data[\"total_assets_bs\"].isna(), np.nan, data[col + \"_bs\"]\n",
    "    )"
   ]
  },
  {
   "cell_type": "code",
   "execution_count": 102,
   "metadata": {},
   "outputs": [],
   "source": [
    "########################################################################\n",
    "# creating flags, and winsorizing tails\n",
    "########################################################################\n",
    "\n",
    "# Variables that represent accounting items that cannot be negative (e.g. materials)\n",
    "zero = [\n",
    "    \"extra_exp_pl\",\n",
    "    \"extra_inc_pl\",\n",
    "    \"inventories_pl\",\n",
    "    \"material_exp_pl\",\n",
    "    \"personnel_exp_pl\",\n",
    "    \"curr_liab_bs\",\n",
    "    \"fixed_assets_bs\",\n",
    "    \"liq_assets_bs\",\n",
    "    \"curr_assets_bs\",\n",
    "    \"subscribed_cap_bs\",\n",
    "    \"intang_assets_bs\",\n",
    "]\n",
    "\n",
    "data[[col + \"_flag_high\" for col in zero]] = np.where(\n",
    "    data[zero].isna(), np.nan, (data[zero] > 1).astype(int)\n",
    ")\n",
    "data[[col for col in zero]] = np.where(\n",
    "    data[zero].isna(), np.nan, np.where(data[zero] > 1, 1, data[zero])\n",
    ")\n",
    "data[[col + \"_flag_error\" for col in zero]] = np.where(\n",
    "    data[zero].isna(), np.nan, (data[zero] < 0).astype(int)\n",
    ")\n",
    "data[[col for col in zero]] = np.where(\n",
    "    data[zero].isna(), np.nan, np.where(data[zero] < 0, 0, data[zero])\n",
    ")"
   ]
  },
  {
   "cell_type": "code",
   "execution_count": 103,
   "metadata": {},
   "outputs": [],
   "source": [
    "# for vars that could be any, but are mostly between -1 and 1\n",
    "anyof = [\"extra_profit_loss_pl\", \"inc_bef_tax_pl\", \"profit_loss_year_pl\", \"share_eq_bs\"]\n",
    "\n",
    "data[[col + \"_flag_low\" for col in anyof]] = np.where(\n",
    "    data[anyof].isna(), np.nan, (data[anyof] < -1).astype(int)\n",
    ")\n",
    "data[[col for col in anyof]] = np.where(\n",
    "    data[anyof].isna(), np.nan, np.where((data[anyof] < -1), -1, data[anyof])\n",
    ")\n",
    "data[[col + \"_flag_high\" for col in anyof]] = np.where(\n",
    "    data[anyof].isna(), np.nan, (data[anyof] > 1).astype(int)\n",
    ")\n",
    "data[[col for col in anyof]] = np.where(\n",
    "    data[anyof].isna(), np.nan, np.where((data[anyof] > 1), 1, data[anyof])\n",
    ")\n",
    "data[[col + \"_flag_zero\" for col in anyof]] = np.where(\n",
    "    data[anyof].isna(), np.nan, (data[anyof] == 0).astype(int)\n",
    ")\n",
    "data[[col + \"_quad\" for col in anyof]] = np.where(\n",
    "    data[anyof].isna(), np.nan, data[anyof] ** 2\n",
    ")\n"
   ]
  },
  {
   "cell_type": "code",
   "execution_count": 104,
   "metadata": {},
   "outputs": [],
   "source": [
    "# dropping flags with no variation\n",
    "flag_columns = [col for col in data.columns if \"flag\" in col]\n",
    "data = data.drop(\n",
    "    data[flag_columns].std()[(data[flag_columns].std() == 0)].index, axis=1\n",
    ")"
   ]
  },
  {
   "cell_type": "code",
   "execution_count": 105,
   "metadata": {},
   "outputs": [],
   "source": [
    "########################################################################\n",
    "# additional\n",
    "# including some imputation\n",
    "########################################################################\n",
    "\n",
    "# CEO age\n",
    "data[\"ceo_age\"] = data[\"year\"] - data[\"birth_year\"]\n",
    "data = data.assign(\n",
    "    flag_low_ceo_age=(data[\"ceo_age\"] < 25).astype(int),\n",
    "    flag_high_ceo_age=(data[\"ceo_age\"] > 75).astype(int),\n",
    "    flag_miss_ceo_age=(data[\"ceo_age\"].isna()).astype(int),\n",
    ")\n",
    "\n",
    "\n",
    "data[\"ceo_age\"] = np.where(data[\"ceo_age\"] < 25, 25, data[\"ceo_age\"])\n",
    "data[\"ceo_age\"] = np.where(data[\"ceo_age\"] > 75, 75, data[\"ceo_age\"])\n",
    "data[\"ceo_age\"] = np.where(\n",
    "    data[\"ceo_age\"].isna(), data[\"ceo_age\"].mean(), data[\"ceo_age\"]\n",
    ")\n",
    "data[\"ceo_young\"] = (data[\"ceo_age\"] < 40).astype(int)"
   ]
  },
  {
   "cell_type": "code",
   "execution_count": 106,
   "metadata": {},
   "outputs": [
    {
     "data": {
      "text/plain": [
       "Index(['year', 'comp_id', 'begin', 'end', 'amort', 'curr_assets', 'curr_liab',\n",
       "       'extra_exp', 'extra_inc', 'extra_profit_loss',\n",
       "       ...\n",
       "       'share_eq_bs_flag_zero', 'extra_profit_loss_pl_quad',\n",
       "       'inc_bef_tax_pl_quad', 'profit_loss_year_pl_quad', 'share_eq_bs_quad',\n",
       "       'ceo_age', 'flag_low_ceo_age', 'flag_high_ceo_age', 'flag_miss_ceo_age',\n",
       "       'ceo_young'],\n",
       "      dtype='object', length=109)"
      ]
     },
     "execution_count": 106,
     "metadata": {},
     "output_type": "execute_result"
    }
   ],
   "source": [
    "data.columns"
   ]
  },
  {
   "cell_type": "code",
   "execution_count": 107,
   "metadata": {},
   "outputs": [
    {
     "data": {
      "text/plain": [
       "0        0.083333\n",
       "1        0.479167\n",
       "2             NaN\n",
       "3        0.083333\n",
       "4             NaN\n",
       "           ...   \n",
       "21161    0.138889\n",
       "21162    0.812500\n",
       "21163    0.083333\n",
       "21164    1.750000\n",
       "21165    1.375000\n",
       "Name: labor_avg, Length: 21166, dtype: float64"
      ]
     },
     "execution_count": 107,
     "metadata": {},
     "output_type": "execute_result"
    }
   ],
   "source": [
    "data[\"labor_avg\"]"
   ]
  },
  {
   "cell_type": "code",
   "execution_count": 108,
   "metadata": {},
   "outputs": [],
   "source": [
    "# number emp, very noisy measure\n",
    "data[\"labor_avg_mod\"] = np.where(\n",
    "    data[\"labor_avg\"].isna(), data[\"labor_avg\"].mean(), data[\"labor_avg\"]\n",
    ")\n",
    "data[\"flag_miss_labor_avg\"] = (data[\"labor_avg\"].isna()).astype(int)"
   ]
  },
  {
   "cell_type": "code",
   "execution_count": 109,
   "metadata": {},
   "outputs": [
    {
     "data": {
      "text/plain": [
       "count    17460.000000\n",
       "mean         0.681054\n",
       "std          1.821649\n",
       "min          0.083333\n",
       "25%          0.104167\n",
       "50%          0.250000\n",
       "75%          0.552083\n",
       "max         51.958332\n",
       "Name: labor_avg, dtype: float64"
      ]
     },
     "execution_count": 109,
     "metadata": {},
     "output_type": "execute_result"
    }
   ],
   "source": [
    "data[\"labor_avg\"].describe()"
   ]
  },
  {
   "cell_type": "code",
   "execution_count": 110,
   "metadata": {},
   "outputs": [
    {
     "data": {
      "text/plain": [
       "count    21166.000000\n",
       "mean         0.681054\n",
       "std          1.654494\n",
       "min          0.083333\n",
       "25%          0.145833\n",
       "50%          0.333333\n",
       "75%          0.681054\n",
       "max         51.958332\n",
       "Name: labor_avg_mod, dtype: float64"
      ]
     },
     "execution_count": 110,
     "metadata": {},
     "output_type": "execute_result"
    }
   ],
   "source": [
    "data[\"labor_avg_mod\"].describe()"
   ]
  },
  {
   "cell_type": "code",
   "execution_count": 111,
   "metadata": {},
   "outputs": [],
   "source": [
    "data = data.drop([\"labor_avg\"], axis=1)"
   ]
  },
  {
   "cell_type": "code",
   "execution_count": 112,
   "metadata": {},
   "outputs": [
    {
     "data": {
      "text/plain": [
       "default\n",
       "0    16617\n",
       "1     4549\n",
       "Name: count, dtype: int64"
      ]
     },
     "execution_count": 112,
     "metadata": {},
     "output_type": "execute_result"
    }
   ],
   "source": [
    "data[\"default\"].value_counts()"
   ]
  },
  {
   "cell_type": "code",
   "execution_count": 113,
   "metadata": {},
   "outputs": [
    {
     "data": {
      "text/plain": [
       "count    21166.000000\n",
       "mean         0.214920\n",
       "std          0.410777\n",
       "min          0.000000\n",
       "25%          0.000000\n",
       "50%          0.000000\n",
       "75%          0.000000\n",
       "max          1.000000\n",
       "Name: default, dtype: float64"
      ]
     },
     "execution_count": 113,
     "metadata": {},
     "output_type": "execute_result"
    }
   ],
   "source": [
    "data[\"default\"].describe()"
   ]
  },
  {
   "cell_type": "code",
   "execution_count": 114,
   "metadata": {},
   "outputs": [],
   "source": [
    "# create category type variables\n",
    "data[\"urban_m\"] = data[\"urban_m\"].astype(\"category\")\n",
    "data[\"ind2_cat\"] = data[\"ind2_cat\"].astype(\"category\")\n",
    "data[\"default_f\"] = data[\"default\"].astype(\"category\")\n",
    "data[\"default_f\"] = data[\"default_f\"].cat.rename_categories([\"no_default\", \"default\"])"
   ]
  },
  {
   "cell_type": "code",
   "execution_count": 115,
   "metadata": {},
   "outputs": [],
   "source": [
    "########################################################################\n",
    "# sales\n",
    "########################################################################\n",
    "data[\"sales_mil_log_sq\"] = data[\"sales_mil_log\"] ** 2\n"
   ]
  },
  {
   "cell_type": "code",
   "execution_count": 116,
   "metadata": {},
   "outputs": [
    {
     "data": {
      "image/png": "[encoded data removed]",
      "text/plain": [
       "<Figure size 640x480 with 1 Axes>"
      ]
     },
     "metadata": {},
     "output_type": "display_data"
    }
   ],
   "source": [
    "# Scatter plot\n",
    "plt.scatter(data[\"sales_mil_log\"], data[\"default\"], color=\"blue\", alpha=0.5, label=\"Data Points\")\n",
    "\n",
    "# Linear regression with quadratic term\n",
    "X = data[\"sales_mil_log\"].dropna().values.reshape(-1, 1)\n",
    "y = data[\"default\"].dropna().values\n",
    "poly = PolynomialFeatures(degree=2)\n",
    "X_poly = poly.fit_transform(X)\n",
    "model = LinearRegression().fit(X_poly, y)\n",
    "X_range = np.linspace(X.min(), X.max(), 500).reshape(-1, 1)\n",
    "y_pred = model.predict(poly.transform(X_range))\n",
    "plt.plot(X_range, y_pred, color=\"orange\", label=\"Linear Regression (with x²)\")\n",
    "\n",
    "# LOESS smoothing\n",
    "lowess_result = lowess(y, X.flatten(), frac=0.9)\n",
    "plt.plot(lowess_result[:, 0], lowess_result[:, 1], color=\"green\", linewidth=1.5, label=\"LOESS Smoothing\")\n",
    "\n",
    "# Labels and theme\n",
    "plt.xlabel(\"sales_mil_log\")\n",
    "plt.ylabel(\"default\")\n",
    "plt.legend()\n",
    "plt.grid(True)\n",
    "plt.show()\n"
   ]
  },
  {
   "cell_type": "code",
   "execution_count": 117,
   "metadata": {},
   "outputs": [
    {
     "data": {
      "text/html": [
       "<div>\n",
       "<style scoped>\n",
       "    .dataframe tbody tr th:only-of-type {\n",
       "        vertical-align: middle;\n",
       "    }\n",
       "\n",
       "    .dataframe tbody tr th {\n",
       "        vertical-align: top;\n",
       "    }\n",
       "\n",
       "    .dataframe thead th {\n",
       "        text-align: right;\n",
       "    }\n",
       "</style>\n",
       "<table border=\"1\" class=\"dataframe\">\n",
       "  <thead>\n",
       "    <tr style=\"text-align: right;\">\n",
       "      <th></th>\n",
       "      <th>sales</th>\n",
       "      <th>sales_mil</th>\n",
       "      <th>sales_mil_log</th>\n",
       "    </tr>\n",
       "  </thead>\n",
       "  <tbody>\n",
       "    <tr>\n",
       "      <th>4749</th>\n",
       "      <td>9909137.0</td>\n",
       "      <td>9.909137</td>\n",
       "      <td>2.293457</td>\n",
       "    </tr>\n",
       "    <tr>\n",
       "      <th>7113</th>\n",
       "      <td>9905000.0</td>\n",
       "      <td>9.905000</td>\n",
       "      <td>2.293040</td>\n",
       "    </tr>\n",
       "    <tr>\n",
       "      <th>267</th>\n",
       "      <td>9836644.0</td>\n",
       "      <td>9.836644</td>\n",
       "      <td>2.286115</td>\n",
       "    </tr>\n",
       "    <tr>\n",
       "      <th>2360</th>\n",
       "      <td>9835889.0</td>\n",
       "      <td>9.835889</td>\n",
       "      <td>2.286038</td>\n",
       "    </tr>\n",
       "    <tr>\n",
       "      <th>11661</th>\n",
       "      <td>9748274.0</td>\n",
       "      <td>9.748274</td>\n",
       "      <td>2.277090</td>\n",
       "    </tr>\n",
       "  </tbody>\n",
       "</table>\n",
       "</div>"
      ],
      "text/plain": [
       "           sales  sales_mil  sales_mil_log\n",
       "4749   9909137.0   9.909137       2.293457\n",
       "7113   9905000.0   9.905000       2.293040\n",
       "267    9836644.0   9.836644       2.286115\n",
       "2360   9835889.0   9.835889       2.286038\n",
       "11661  9748274.0   9.748274       2.277090"
      ]
     },
     "execution_count": 117,
     "metadata": {},
     "output_type": "execute_result"
    }
   ],
   "source": [
    "def new_func():\n",
    "    return data.loc[data[\"default\"] == 0, [\"sales\", \"sales_mil\", \"sales_mil_log\"]].assign(\n",
    "        sales=lambda x: x[\"sales\"].round(3)\n",
    "    ).sort_values(by=\"sales\", ascending=False).head()\n",
    "\n",
    "new_func()"
   ]
  },
  {
   "cell_type": "code",
   "execution_count": 118,
   "metadata": {},
   "outputs": [
    {
     "data": {
      "text/html": [
       "<div>\n",
       "<style scoped>\n",
       "    .dataframe tbody tr th:only-of-type {\n",
       "        vertical-align: middle;\n",
       "    }\n",
       "\n",
       "    .dataframe tbody tr th {\n",
       "        vertical-align: top;\n",
       "    }\n",
       "\n",
       "    .dataframe thead th {\n",
       "        text-align: right;\n",
       "    }\n",
       "</style>\n",
       "<table border=\"1\" class=\"dataframe\">\n",
       "  <thead>\n",
       "    <tr style=\"text-align: right;\">\n",
       "      <th></th>\n",
       "      <th>comp_id</th>\n",
       "      <th>default</th>\n",
       "      <th>sales</th>\n",
       "      <th>sales_mil</th>\n",
       "      <th>sales_mil_log</th>\n",
       "    </tr>\n",
       "  </thead>\n",
       "  <tbody>\n",
       "    <tr>\n",
       "      <th>4749</th>\n",
       "      <td>2.292958e+10</td>\n",
       "      <td>0</td>\n",
       "      <td>9909137.0</td>\n",
       "      <td>9.909137</td>\n",
       "      <td>2.293457</td>\n",
       "    </tr>\n",
       "    <tr>\n",
       "      <th>7113</th>\n",
       "      <td>5.169306e+10</td>\n",
       "      <td>0</td>\n",
       "      <td>9905000.0</td>\n",
       "      <td>9.905000</td>\n",
       "      <td>2.293040</td>\n",
       "    </tr>\n",
       "    <tr>\n",
       "      <th>267</th>\n",
       "      <td>7.999399e+07</td>\n",
       "      <td>0</td>\n",
       "      <td>9836644.0</td>\n",
       "      <td>9.836644</td>\n",
       "      <td>2.286115</td>\n",
       "    </tr>\n",
       "    <tr>\n",
       "      <th>2360</th>\n",
       "      <td>5.750829e+09</td>\n",
       "      <td>0</td>\n",
       "      <td>9835889.0</td>\n",
       "      <td>9.835889</td>\n",
       "      <td>2.286038</td>\n",
       "    </tr>\n",
       "    <tr>\n",
       "      <th>11661</th>\n",
       "      <td>1.386644e+11</td>\n",
       "      <td>0</td>\n",
       "      <td>9748274.0</td>\n",
       "      <td>9.748274</td>\n",
       "      <td>2.277090</td>\n",
       "    </tr>\n",
       "  </tbody>\n",
       "</table>\n",
       "</div>"
      ],
      "text/plain": [
       "            comp_id  default      sales  sales_mil  sales_mil_log\n",
       "4749   2.292958e+10        0  9909137.0   9.909137       2.293457\n",
       "7113   5.169306e+10        0  9905000.0   9.905000       2.293040\n",
       "267    7.999399e+07        0  9836644.0   9.836644       2.286115\n",
       "2360   5.750829e+09        0  9835889.0   9.835889       2.286038\n",
       "11661  1.386644e+11        0  9748274.0   9.748274       2.277090"
      ]
     },
     "execution_count": 118,
     "metadata": {},
     "output_type": "execute_result"
    }
   ],
   "source": [
    "def new_func():\n",
    "    return data.loc[data[\"default\"] == 0, [\"comp_id\",\"default\", \"sales\", \"sales_mil\", \"sales_mil_log\"]].assign(\n",
    "        sales=lambda x: x[\"sales\"].round(3)\n",
    "    ).sort_values(by=\"sales\", ascending=False).head()\n",
    "\n",
    "new_func()"
   ]
  },
  {
   "cell_type": "code",
   "execution_count": 119,
   "metadata": {},
   "outputs": [
    {
     "data": {
      "text/html": [
       "<div>\n",
       "<style scoped>\n",
       "    .dataframe tbody tr th:only-of-type {\n",
       "        vertical-align: middle;\n",
       "    }\n",
       "\n",
       "    .dataframe tbody tr th {\n",
       "        vertical-align: top;\n",
       "    }\n",
       "\n",
       "    .dataframe thead th {\n",
       "        text-align: right;\n",
       "    }\n",
       "</style>\n",
       "<table border=\"1\" class=\"dataframe\">\n",
       "  <thead>\n",
       "    <tr style=\"text-align: right;\">\n",
       "      <th></th>\n",
       "      <th>comp_id</th>\n",
       "      <th>default</th>\n",
       "      <th>sales</th>\n",
       "      <th>sales_mil</th>\n",
       "      <th>sales_mil_log</th>\n",
       "    </tr>\n",
       "  </thead>\n",
       "  <tbody>\n",
       "    <tr>\n",
       "      <th>4749</th>\n",
       "      <td>2.292958e+10</td>\n",
       "      <td>0</td>\n",
       "      <td>9909137.0</td>\n",
       "      <td>9.909137</td>\n",
       "      <td>2.293457</td>\n",
       "    </tr>\n",
       "    <tr>\n",
       "      <th>7113</th>\n",
       "      <td>5.169306e+10</td>\n",
       "      <td>0</td>\n",
       "      <td>9905000.0</td>\n",
       "      <td>9.905000</td>\n",
       "      <td>2.293040</td>\n",
       "    </tr>\n",
       "    <tr>\n",
       "      <th>267</th>\n",
       "      <td>7.999399e+07</td>\n",
       "      <td>0</td>\n",
       "      <td>9836644.0</td>\n",
       "      <td>9.836644</td>\n",
       "      <td>2.286115</td>\n",
       "    </tr>\n",
       "    <tr>\n",
       "      <th>2360</th>\n",
       "      <td>5.750829e+09</td>\n",
       "      <td>0</td>\n",
       "      <td>9835889.0</td>\n",
       "      <td>9.835889</td>\n",
       "      <td>2.286038</td>\n",
       "    </tr>\n",
       "    <tr>\n",
       "      <th>11661</th>\n",
       "      <td>1.386644e+11</td>\n",
       "      <td>0</td>\n",
       "      <td>9748274.0</td>\n",
       "      <td>9.748274</td>\n",
       "      <td>2.277090</td>\n",
       "    </tr>\n",
       "  </tbody>\n",
       "</table>\n",
       "</div>"
      ],
      "text/plain": [
       "            comp_id  default      sales  sales_mil  sales_mil_log\n",
       "4749   2.292958e+10        0  9909137.0   9.909137       2.293457\n",
       "7113   5.169306e+10        0  9905000.0   9.905000       2.293040\n",
       "267    7.999399e+07        0  9836644.0   9.836644       2.286115\n",
       "2360   5.750829e+09        0  9835889.0   9.835889       2.286038\n",
       "11661  1.386644e+11        0  9748274.0   9.748274       2.277090"
      ]
     },
     "execution_count": 119,
     "metadata": {},
     "output_type": "execute_result"
    }
   ],
   "source": [
    "def new_func():\n",
    "    return data.loc[data[\"default\"] == 0, [\"comp_id\",\"default\", \"sales\", \"sales_mil\", \"sales_mil_log\"]].assign(\n",
    "        sales=lambda x: x[\"sales\"].round(3)\n",
    "    ).sort_values(by=\"sales\", ascending=False).head()\n",
    "\n",
    "new_func()"
   ]
  },
  {
   "cell_type": "code",
   "execution_count": 120,
   "metadata": {},
   "outputs": [
    {
     "data": {
      "text/html": [
       "<div>\n",
       "<style scoped>\n",
       "    .dataframe tbody tr th:only-of-type {\n",
       "        vertical-align: middle;\n",
       "    }\n",
       "\n",
       "    .dataframe tbody tr th {\n",
       "        vertical-align: top;\n",
       "    }\n",
       "\n",
       "    .dataframe thead th {\n",
       "        text-align: right;\n",
       "    }\n",
       "</style>\n",
       "<table border=\"1\" class=\"dataframe\">\n",
       "  <thead>\n",
       "    <tr style=\"text-align: right;\">\n",
       "      <th></th>\n",
       "      <th>sales</th>\n",
       "      <th>sales_mil</th>\n",
       "      <th>sales_mil_log</th>\n",
       "      <th>default</th>\n",
       "      <th>status_alive</th>\n",
       "    </tr>\n",
       "  </thead>\n",
       "  <tbody>\n",
       "  </tbody>\n",
       "</table>\n",
       "</div>"
      ],
      "text/plain": [
       "Empty DataFrame\n",
       "Columns: [sales, sales_mil, sales_mil_log, default, status_alive]\n",
       "Index: []"
      ]
     },
     "execution_count": 120,
     "metadata": {},
     "output_type": "execute_result"
    }
   ],
   "source": [
    "data.loc[data[\"comp_id\"] == 623687744.0, [\"sales\", \"sales_mil\", \"sales_mil_log\", \"default\", \"status_alive\"]]"
   ]
  },
  {
   "cell_type": "code",
   "execution_count": 121,
   "metadata": {},
   "outputs": [
    {
     "data": {
      "text/plain": [
       "0"
      ]
     },
     "execution_count": 121,
     "metadata": {},
     "output_type": "execute_result"
    }
   ],
   "source": [
    "len(data.loc[(data[\"default\"] == 0) & (data[\"sales_mil_log\"] > 2.5), [\"sales\", \"sales_mil\", \"sales_mil_log\"]])"
   ]
  },
  {
   "cell_type": "code",
   "execution_count": 122,
   "metadata": {},
   "outputs": [
    {
     "data": {
      "text/plain": [
       "878"
      ]
     },
     "execution_count": 122,
     "metadata": {},
     "output_type": "execute_result"
    }
   ],
   "source": [
    "len(data.loc[(data[\"default\"] == 0) & (data[\"sales_mil_log\"] > 0 & (data[\"sales_mil_log\"] < 2.5)), [\"sales\", \"sales_mil\", \"sales_mil_log\"]])"
   ]
  },
  {
   "cell_type": "code",
   "execution_count": 123,
   "metadata": {},
   "outputs": [
    {
     "data": {
      "text/html": [
       "<div>\n",
       "<style scoped>\n",
       "    .dataframe tbody tr th:only-of-type {\n",
       "        vertical-align: middle;\n",
       "    }\n",
       "\n",
       "    .dataframe tbody tr th {\n",
       "        vertical-align: top;\n",
       "    }\n",
       "\n",
       "    .dataframe thead th {\n",
       "        text-align: right;\n",
       "    }\n",
       "</style>\n",
       "<table border=\"1\" class=\"dataframe\">\n",
       "  <thead>\n",
       "    <tr style=\"text-align: right;\">\n",
       "      <th></th>\n",
       "      <th>comp_id</th>\n",
       "      <th>default</th>\n",
       "      <th>sales</th>\n",
       "      <th>sales_mil</th>\n",
       "      <th>sales_mil_log</th>\n",
       "    </tr>\n",
       "  </thead>\n",
       "  <tbody>\n",
       "    <tr>\n",
       "      <th>count</th>\n",
       "      <td>1.661700e+04</td>\n",
       "      <td>16617.0</td>\n",
       "      <td>1.661700e+04</td>\n",
       "      <td>16617.000000</td>\n",
       "      <td>16617.000000</td>\n",
       "    </tr>\n",
       "    <tr>\n",
       "      <th>mean</th>\n",
       "      <td>1.531301e+11</td>\n",
       "      <td>0.0</td>\n",
       "      <td>2.607911e+05</td>\n",
       "      <td>0.260791</td>\n",
       "      <td>-2.907352</td>\n",
       "    </tr>\n",
       "    <tr>\n",
       "      <th>std</th>\n",
       "      <td>1.376179e+11</td>\n",
       "      <td>0.0</td>\n",
       "      <td>8.276480e+05</td>\n",
       "      <td>0.827648</td>\n",
       "      <td>1.661115</td>\n",
       "    </tr>\n",
       "    <tr>\n",
       "      <th>min</th>\n",
       "      <td>1.002029e+06</td>\n",
       "      <td>0.0</td>\n",
       "      <td>1.007407e+03</td>\n",
       "      <td>0.001007</td>\n",
       "      <td>-6.900375</td>\n",
       "    </tr>\n",
       "    <tr>\n",
       "      <th>25%</th>\n",
       "      <td>2.865001e+10</td>\n",
       "      <td>0.0</td>\n",
       "      <td>1.823333e+04</td>\n",
       "      <td>0.018233</td>\n",
       "      <td>-4.004504</td>\n",
       "    </tr>\n",
       "    <tr>\n",
       "      <th>50%</th>\n",
       "      <td>1.144135e+11</td>\n",
       "      <td>0.0</td>\n",
       "      <td>5.108889e+04</td>\n",
       "      <td>0.051089</td>\n",
       "      <td>-2.974188</td>\n",
       "    </tr>\n",
       "    <tr>\n",
       "      <th>75%</th>\n",
       "      <td>2.562315e+11</td>\n",
       "      <td>0.0</td>\n",
       "      <td>1.465407e+05</td>\n",
       "      <td>0.146541</td>\n",
       "      <td>-1.920452</td>\n",
       "    </tr>\n",
       "    <tr>\n",
       "      <th>max</th>\n",
       "      <td>4.641050e+11</td>\n",
       "      <td>0.0</td>\n",
       "      <td>9.909137e+06</td>\n",
       "      <td>9.909137</td>\n",
       "      <td>2.293457</td>\n",
       "    </tr>\n",
       "  </tbody>\n",
       "</table>\n",
       "</div>"
      ],
      "text/plain": [
       "            comp_id  default         sales     sales_mil  sales_mil_log\n",
       "count  1.661700e+04  16617.0  1.661700e+04  16617.000000   16617.000000\n",
       "mean   1.531301e+11      0.0  2.607911e+05      0.260791      -2.907352\n",
       "std    1.376179e+11      0.0  8.276480e+05      0.827648       1.661115\n",
       "min    1.002029e+06      0.0  1.007407e+03      0.001007      -6.900375\n",
       "25%    2.865001e+10      0.0  1.823333e+04      0.018233      -4.004504\n",
       "50%    1.144135e+11      0.0  5.108889e+04      0.051089      -2.974188\n",
       "75%    2.562315e+11      0.0  1.465407e+05      0.146541      -1.920452\n",
       "max    4.641050e+11      0.0  9.909137e+06      9.909137       2.293457"
      ]
     },
     "execution_count": 123,
     "metadata": {},
     "output_type": "execute_result"
    }
   ],
   "source": [
    "def new_func():\n",
    "    return data.loc[data[\"default\"] == 0, [\"comp_id\", \"default\", \"sales\", \"sales_mil\", \"sales_mil_log\"]].assign(\n",
    "        sales=lambda x: x[\"sales\"].round(3)\n",
    "    ).describe()\n",
    "\n",
    "new_func()"
   ]
  },
  {
   "cell_type": "code",
   "execution_count": 124,
   "metadata": {},
   "outputs": [
    {
     "data": {
      "text/html": [
       "<div>\n",
       "<style scoped>\n",
       "    .dataframe tbody tr th:only-of-type {\n",
       "        vertical-align: middle;\n",
       "    }\n",
       "\n",
       "    .dataframe tbody tr th {\n",
       "        vertical-align: top;\n",
       "    }\n",
       "\n",
       "    .dataframe thead th {\n",
       "        text-align: right;\n",
       "    }\n",
       "</style>\n",
       "<table border=\"1\" class=\"dataframe\">\n",
       "  <thead>\n",
       "    <tr style=\"text-align: right;\">\n",
       "      <th></th>\n",
       "      <th>comp_id</th>\n",
       "      <th>default</th>\n",
       "      <th>sales</th>\n",
       "      <th>sales_mil</th>\n",
       "      <th>sales_mil_log</th>\n",
       "    </tr>\n",
       "  </thead>\n",
       "  <tbody>\n",
       "    <tr>\n",
       "      <th>count</th>\n",
       "      <td>4.549000e+03</td>\n",
       "      <td>4549.0</td>\n",
       "      <td>4.549000e+03</td>\n",
       "      <td>4549.000000</td>\n",
       "      <td>4549.000000</td>\n",
       "    </tr>\n",
       "    <tr>\n",
       "      <th>mean</th>\n",
       "      <td>1.553391e+11</td>\n",
       "      <td>1.0</td>\n",
       "      <td>9.579219e+04</td>\n",
       "      <td>0.095792</td>\n",
       "      <td>-3.802889</td>\n",
       "    </tr>\n",
       "    <tr>\n",
       "      <th>std</th>\n",
       "      <td>1.399679e+11</td>\n",
       "      <td>0.0</td>\n",
       "      <td>3.616340e+05</td>\n",
       "      <td>0.361634</td>\n",
       "      <td>1.555191</td>\n",
       "    </tr>\n",
       "    <tr>\n",
       "      <th>min</th>\n",
       "      <td>1.001034e+06</td>\n",
       "      <td>1.0</td>\n",
       "      <td>1.000000e+03</td>\n",
       "      <td>0.001000</td>\n",
       "      <td>-6.907755</td>\n",
       "    </tr>\n",
       "    <tr>\n",
       "      <th>25%</th>\n",
       "      <td>2.764007e+10</td>\n",
       "      <td>1.0</td>\n",
       "      <td>7.496296e+03</td>\n",
       "      <td>0.007496</td>\n",
       "      <td>-4.893346</td>\n",
       "    </tr>\n",
       "    <tr>\n",
       "      <th>50%</th>\n",
       "      <td>1.129232e+11</td>\n",
       "      <td>1.0</td>\n",
       "      <td>2.069259e+04</td>\n",
       "      <td>0.020693</td>\n",
       "      <td>-3.877980</td>\n",
       "    </tr>\n",
       "    <tr>\n",
       "      <th>75%</th>\n",
       "      <td>2.674441e+11</td>\n",
       "      <td>1.0</td>\n",
       "      <td>6.033704e+04</td>\n",
       "      <td>0.060337</td>\n",
       "      <td>-2.807809</td>\n",
       "    </tr>\n",
       "    <tr>\n",
       "      <th>max</th>\n",
       "      <td>4.637736e+11</td>\n",
       "      <td>1.0</td>\n",
       "      <td>7.331660e+06</td>\n",
       "      <td>7.331659</td>\n",
       "      <td>1.992202</td>\n",
       "    </tr>\n",
       "  </tbody>\n",
       "</table>\n",
       "</div>"
      ],
      "text/plain": [
       "            comp_id  default         sales    sales_mil  sales_mil_log\n",
       "count  4.549000e+03   4549.0  4.549000e+03  4549.000000    4549.000000\n",
       "mean   1.553391e+11      1.0  9.579219e+04     0.095792      -3.802889\n",
       "std    1.399679e+11      0.0  3.616340e+05     0.361634       1.555191\n",
       "min    1.001034e+06      1.0  1.000000e+03     0.001000      -6.907755\n",
       "25%    2.764007e+10      1.0  7.496296e+03     0.007496      -4.893346\n",
       "50%    1.129232e+11      1.0  2.069259e+04     0.020693      -3.877980\n",
       "75%    2.674441e+11      1.0  6.033704e+04     0.060337      -2.807809\n",
       "max    4.637736e+11      1.0  7.331660e+06     7.331659       1.992202"
      ]
     },
     "execution_count": 124,
     "metadata": {},
     "output_type": "execute_result"
    }
   ],
   "source": [
    "def new_func():\n",
    "    return data.loc[data[\"default\"] == 1, [\"comp_id\", \"default\", \"sales\", \"sales_mil\", \"sales_mil_log\"]].assign(\n",
    "        sales=lambda x: x[\"sales\"].round(3)\n",
    "    ).describe()\n",
    "\n",
    "new_func()"
   ]
  },
  {
   "cell_type": "code",
   "execution_count": 125,
   "metadata": {},
   "outputs": [
    {
     "name": "stdout",
     "output_type": "stream",
     "text": [
      "                            OLS Regression Results                            \n",
      "==============================================================================\n",
      "Dep. Variable:                default   R-squared:                       0.052\n",
      "Model:                            OLS   Adj. R-squared:                  0.052\n",
      "Method:                 Least Squares   F-statistic:                     575.9\n",
      "Date:                Sun, 17 Aug 2025   Prob (F-statistic):          2.84e-244\n",
      "Time:                        03:36:37   Log-Likelihood:                -10640.\n",
      "No. Observations:               21166   AIC:                         2.129e+04\n",
      "Df Residuals:                   21163   BIC:                         2.131e+04\n",
      "Df Model:                           2                                         \n",
      "Covariance Type:            nonrobust                                         \n",
      "====================================================================================\n",
      "                       coef    std err          t      P>|t|      [0.025      0.975]\n",
      "------------------------------------------------------------------------------------\n",
      "Intercept            0.0804      0.007     11.921      0.000       0.067       0.094\n",
      "sales_mil_log       -0.0187      0.004     -4.473      0.000      -0.027      -0.011\n",
      "sales_mil_log_sq     0.0061      0.001      9.027      0.000       0.005       0.007\n",
      "==============================================================================\n",
      "Omnibus:                     3599.605   Durbin-Watson:                   2.010\n",
      "Prob(Omnibus):                  0.000   Jarque-Bera (JB):             5845.138\n",
      "Skew:                           1.287   Prob(JB):                         0.00\n",
      "Kurtosis:                       2.975   Cond. No.                         45.6\n",
      "==============================================================================\n",
      "\n",
      "Notes:\n",
      "[1] Standard Errors assume that the covariance matrix of the errors is correctly specified.\n"
     ]
    }
   ],
   "source": [
    "# Linear regressions\n",
    "ols_s = smf.ols(\"default ~ sales_mil_log + sales_mil_log_sq\", data=data).fit()\n",
    "print(ols_s.summary())\n"
   ]
  },
  {
   "cell_type": "code",
   "execution_count": 126,
   "metadata": {},
   "outputs": [
    {
     "data": {
      "text/plain": [
       "count    21166.000000\n",
       "mean        -0.053316\n",
       "std          0.829605\n",
       "min         -7.967947\n",
       "25%         -0.141667\n",
       "50%          0.000000\n",
       "75%          0.059986\n",
       "max         11.012669\n",
       "Name: d1_sales_mil_log, dtype: float64"
      ]
     },
     "execution_count": 126,
     "metadata": {},
     "output_type": "execute_result"
    }
   ],
   "source": [
    "########################################################################\n",
    "# sales change\n",
    "########################################################################\n",
    "# Note: graphs not in book\n",
    "\n",
    "# lowess\n",
    "data[\"d1_sales_mil_log\"].describe()\n"
   ]
  },
  {
   "cell_type": "code",
   "execution_count": 127,
   "metadata": {},
   "outputs": [
    {
     "name": "stderr",
     "output_type": "stream",
     "text": [
      "/usr/local/python/3.12.1/lib/python3.12/site-packages/plotnine/layer.py:364: PlotnineWarning: geom_point : Removed 45 rows containing missing values.\n"
     ]
    },
    {
     "data": {
      "image/png": "[encoded data removed]"
     },
     "metadata": {
      "image/png": {
       "height": 480,
       "width": 640
      }
     },
     "output_type": "display_data"
    }
   ],
   "source": [
    "(\n",
    "    ggplot(data, aes(x=\"d1_sales_mil_log\", y=\"default\"))\n",
    "    + geom_point(color=\"blue\")\n",
    "    + geom_smooth(method=\"loess\", color=\"green\", se=False, size=1.5, span=0.9)\n",
    "    + labs(x=\"Growth rate (Diff of ln sales)\", y=\"default\")\n",
    "    + scale_x_continuous(limits=(-6, 10), breaks=np.arange(-5, 10, 5))\n",
    "    + theme_bw()\n",
    ")\n"
   ]
  },
  {
   "cell_type": "code",
   "execution_count": 128,
   "metadata": {},
   "outputs": [
    {
     "name": "stderr",
     "output_type": "stream",
     "text": [
      "/usr/local/python/3.12.1/lib/python3.12/site-packages/statsmodels/nonparametric/smoothers_lowess.py:226: RuntimeWarning: invalid value encountered in divide\n"
     ]
    },
    {
     "data": {
      "image/png": "[encoded data removed]",
      "text/plain": [
       "<Figure size 1000x600 with 1 Axes>"
      ]
     },
     "metadata": {},
     "output_type": "display_data"
    }
   ],
   "source": [
    "from statsmodels.nonparametric.smoothers_lowess import lowess\n",
    "\n",
    "# Drop NaNs explicitly\n",
    "df = data[[\"d1_sales_mil_log\", \"default\"]].dropna()\n",
    "\n",
    "# Try smaller span\n",
    "lowess_result = lowess(df[\"default\"], df[\"d1_sales_mil_log\"], frac=0.2)\n",
    "\n",
    "plt.figure(figsize=(10, 6))\n",
    "plt.scatter(df[\"d1_sales_mil_log\"], df[\"default\"], color=\"blue\", alpha=0.2, s=10, label=\"Data Points\")\n",
    "plt.plot(lowess_result[:, 0], lowess_result[:, 1], color=\"green\", linewidth=2, label=\"LOESS Smoothing\")\n",
    "plt.xlabel(\"Growth rate (Diff of ln sales)\")\n",
    "plt.ylabel(\"default\")\n",
    "plt.xlim(-6, 10)\n",
    "plt.xticks(np.arange(-5, 10, 5))\n",
    "plt.grid(True)\n",
    "plt.legend()\n",
    "plt.show()"
   ]
  },
  {
   "cell_type": "code",
   "execution_count": 129,
   "metadata": {},
   "outputs": [
    {
     "data": {
      "image/png": "[encoded data removed]",
      "text/plain": [
       "<Figure size 1000x600 with 1 Axes>"
      ]
     },
     "metadata": {},
     "output_type": "display_data"
    }
   ],
   "source": [
    "import seaborn as sns\n",
    "from statsmodels.nonparametric.smoothers_lowess import lowess\n",
    "\n",
    "# Scatter plot\n",
    "plt.figure(figsize=(10, 6))\n",
    "sns.scatterplot(x=\"d1_sales_mil_log\", y=\"default\", data=data, color=\"blue\", alpha=0.5, label=\"Data Points\")\n",
    "\n",
    "# Calculate LOESS smoothing\n",
    "lowess_result = lowess(data[\"default\"], data[\"d1_sales_mil_log\"], frac=0.9)\n",
    "\n",
    "# Plot LOESS smoothing\n",
    "plt.plot(lowess_result[:, 0], lowess_result[:, 1], color=\"green\", linewidth=1.5, label=\"LOESS Smoothing\")\n",
    "\n",
    "# Labels and theme\n",
    "plt.xlabel(\"Growth rate (Diff of ln sales)\")\n",
    "plt.ylabel(\"default\")\n",
    "plt.xlim(-6, 10)\n",
    "plt.xticks(np.arange(-5, 10, 5))\n",
    "plt.grid(True)\n",
    "plt.legend()\n",
    "plt.show()\n"
   ]
  },
  {
   "cell_type": "code",
   "execution_count": 130,
   "metadata": {},
   "outputs": [],
   "source": [
    "# generate variables ---------------------------------------------------\n",
    "\n",
    "data[\"flag_low_d1_sales_mil_log\"] = np.where(data[\"d1_sales_mil_log\"] < -1.5, 1, 0)\n",
    "data[\"flag_high_d1_sales_mil_log\"] = np.where(data[\"d1_sales_mil_log\"] > 1.5, 1, 0)\n",
    "data[\"d1_sales_mil_log_mod\"] = np.where(\n",
    "    data[\"d1_sales_mil_log\"] < -1.5,\n",
    "    -1.5,\n",
    "    np.where(data[\"d1_sales_mil_log\"] > 1.5, 1.5, data[\"d1_sales_mil_log\"]),\n",
    ")\n",
    "data[\"d1_sales_mil_log_mod_sq\"] = data[\"d1_sales_mil_log_mod\"] ** 2\n"
   ]
  },
  {
   "cell_type": "code",
   "execution_count": 131,
   "metadata": {},
   "outputs": [],
   "source": [
    "# no more imputation, drop obs if key vars missing\n",
    "data = data.dropna(subset=[\"liq_assets_bs\", \"foreign\", \"ind\"])\n"
   ]
  },
  {
   "cell_type": "code",
   "execution_count": 132,
   "metadata": {},
   "outputs": [
    {
     "data": {
      "text/plain": [
       "count    17367.000000\n",
       "mean         8.307595\n",
       "std          6.328291\n",
       "min          0.000000\n",
       "25%          2.000000\n",
       "50%          8.000000\n",
       "75%         14.000000\n",
       "max         32.000000\n",
       "Name: age, dtype: float64"
      ]
     },
     "execution_count": 132,
     "metadata": {},
     "output_type": "execute_result"
    }
   ],
   "source": [
    "# drop missing\n",
    "data = data.dropna(subset=[\"age\", \"foreign\", \"material_exp_pl\", \"m_region_loc\"])\n",
    "data[\"age\"].describe()\n"
   ]
  },
  {
   "cell_type": "code",
   "execution_count": 133,
   "metadata": {},
   "outputs": [],
   "source": [
    "# drop unused factor levels\n",
    "for col in data.select_dtypes(include=[\"category\"]).columns:\n",
    "    data[col] = data[col].cat.remove_unused_categories()\n"
   ]
  },
  {
   "cell_type": "code",
   "execution_count": 134,
   "metadata": {},
   "outputs": [
    {
     "name": "stderr",
     "output_type": "stream",
     "text": [
      "/usr/local/python/3.12.1/lib/python3.12/site-packages/plotnine/layer.py:364: PlotnineWarning: geom_point : Removed 990 rows containing missing values.\n"
     ]
    },
    {
     "data": {
      "image/png": "[encoded data removed]"
     },
     "metadata": {
      "image/png": {
       "height": 480,
       "width": 640
      }
     },
     "output_type": "display_data"
    }
   ],
   "source": [
    "(\n",
    "    ggplot(data, aes(x=\"d1_sales_mil_log\", y=\"default\"))\n",
    "    + geom_point(size=0.1, color=\"blue\")\n",
    "    + geom_smooth(method=\"loess\", color=\"green\", se=False, size=1.5, span=0.9)\n",
    "    + labs(x=\"Growth rate (Diff of ln sales)\", y=\"default\")\n",
    "    + scale_x_continuous(limits=(-1.5, 1.5), breaks=np.arange(-1.5, 1.5,0.5))\n",
    "    + theme_bw()\n",
    ")\n"
   ]
  },
  {
   "cell_type": "code",
   "execution_count": 135,
   "metadata": {},
   "outputs": [
    {
     "name": "stderr",
     "output_type": "stream",
     "text": [
      "/usr/local/python/3.12.1/lib/python3.12/site-packages/plotnine/layer.py:364: PlotnineWarning: geom_point : Removed 136 rows containing missing values.\n"
     ]
    },
    {
     "data": {
      "image/png": "[encoded data removed]"
     },
     "metadata": {
      "image/png": {
       "height": 480,
       "width": 640
      }
     },
     "output_type": "display_data"
    }
   ],
   "source": [
    "(\n",
    "    ggplot(data, aes(x=\"d1_sales_mil_log\", y=\"d1_sales_mil_log_mod\"))\n",
    "    + geom_point(size=0.1, color=\"blue\")\n",
    "    + labs(\n",
    "        x=\"Growth rate (Diff of ln sales) (original)\",\n",
    "        y=\"Growth rate (Diff of ln sales) (winsorized)\",\n",
    "    )\n",
    "    + scale_x_continuous(limits=(-5, 5), breaks=np.arange(-5, 5, 1))\n",
    "    + scale_y_continuous(limits=(-3, 3), breaks=np.arange(-3, 3, 1))\n",
    "    + theme_bw()\n",
    ")\n"
   ]
  },
  {
   "cell_type": "code",
   "execution_count": 136,
   "metadata": {},
   "outputs": [],
   "source": [
    "data.to_csv(\"bisnode_firms_clean3.csv\", index=False)"
   ]
  }
 ],
 "metadata": {
  "kernelspec": {
   "display_name": "Python 3",
   "language": "python",
   "name": "python3"
  },
  "language_info": {
   "codemirror_mode": {
    "name": "ipython",
    "version": 3
   },
   "file_extension": ".py",
   "mimetype": "text/x-python",
   "name": "python",
   "nbconvert_exporter": "python",
   "pygments_lexer": "ipython3",
   "version": "3.12.1"
  }
 },
 "nbformat": 4,
 "nbformat_minor": 2
}
