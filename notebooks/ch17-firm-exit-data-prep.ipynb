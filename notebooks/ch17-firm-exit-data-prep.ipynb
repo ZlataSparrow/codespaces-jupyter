{
 "cells": [
  {
   "cell_type": "markdown",
   "metadata": {},
   "source": [
    "#### Prepared for Gabor's Data Analysis\n",
    "\n",
    "# Data Analysis for Business, Economics, and Policy\n",
    "by Gabor Bekes and  Gabor Kezdi\n",
    " \n",
    "Cambridge University Press 2021\n",
    "\n",
    "**[gabors-data-analysis.com ](https://gabors-data-analysis.com/)**\n",
    "\n",
    " License: Free to share, modify and use for educational purposes. \n",
    " Not to be used for commercial purposes.\n",
    "\n",
    "# Chapter 17\n",
    "\n",
    "Data preparation"
   ]
  },
  {
   "cell_type": "code",
   "execution_count": 51,
   "metadata": {},
   "outputs": [],
   "source": [
    "import os\n",
    "import sys\n",
    "import warnings\n",
    "\n",
    "import numpy as np\n",
    "import pandas as pd\n",
    "import statsmodels.formula.api as smf\n",
    "from plotnine import *\n",
    "\n",
    "from sklearn.linear_model import LinearRegression\n",
    "from sklearn.preprocessing import PolynomialFeatures\n",
    "from sklearn.utils import resample\n",
    "from statsmodels.nonparametric.smoothers_lowess import lowess\n",
    "\n",
    "import matplotlib.pyplot as plt"
   ]
  },
  {
   "cell_type": "markdown",
   "metadata": {},
   "source": [
    "# Import data"
   ]
  },
  {
   "cell_type": "code",
   "execution_count": 52,
   "metadata": {},
   "outputs": [
    {
     "data": {
      "text/html": [
       "<div>\n",
       "<style scoped>\n",
       "    .dataframe tbody tr th:only-of-type {\n",
       "        vertical-align: middle;\n",
       "    }\n",
       "\n",
       "    .dataframe tbody tr th {\n",
       "        vertical-align: top;\n",
       "    }\n",
       "\n",
       "    .dataframe thead th {\n",
       "        text-align: right;\n",
       "    }\n",
       "</style>\n",
       "<table border=\"1\" class=\"dataframe\">\n",
       "  <thead>\n",
       "    <tr style=\"text-align: right;\">\n",
       "      <th></th>\n",
       "      <th>comp_id</th>\n",
       "      <th>begin</th>\n",
       "      <th>end</th>\n",
       "      <th>COGS</th>\n",
       "      <th>amort</th>\n",
       "      <th>curr_assets</th>\n",
       "      <th>curr_liab</th>\n",
       "      <th>extra_exp</th>\n",
       "      <th>extra_inc</th>\n",
       "      <th>extra_profit_loss</th>\n",
       "      <th>...</th>\n",
       "      <th>gender</th>\n",
       "      <th>origin</th>\n",
       "      <th>nace_main</th>\n",
       "      <th>ind2</th>\n",
       "      <th>ind</th>\n",
       "      <th>urban_m</th>\n",
       "      <th>region_m</th>\n",
       "      <th>founded_date</th>\n",
       "      <th>exit_date</th>\n",
       "      <th>labor_avg</th>\n",
       "    </tr>\n",
       "  </thead>\n",
       "  <tbody>\n",
       "    <tr>\n",
       "      <th>0</th>\n",
       "      <td>1.001034e+06</td>\n",
       "      <td>2005-01-01</td>\n",
       "      <td>2005-12-31</td>\n",
       "      <td>NaN</td>\n",
       "      <td>692.592590</td>\n",
       "      <td>7266.666504</td>\n",
       "      <td>7574.074219</td>\n",
       "      <td>0.0</td>\n",
       "      <td>0.0</td>\n",
       "      <td>0.0</td>\n",
       "      <td>...</td>\n",
       "      <td>mix</td>\n",
       "      <td>Domestic</td>\n",
       "      <td>5630.0</td>\n",
       "      <td>56.0</td>\n",
       "      <td>3.0</td>\n",
       "      <td>1</td>\n",
       "      <td>Central</td>\n",
       "      <td>1990-11-19</td>\n",
       "      <td>NaN</td>\n",
       "      <td>NaN</td>\n",
       "    </tr>\n",
       "    <tr>\n",
       "      <th>1</th>\n",
       "      <td>1.001034e+06</td>\n",
       "      <td>2006-01-01</td>\n",
       "      <td>2006-12-31</td>\n",
       "      <td>NaN</td>\n",
       "      <td>603.703674</td>\n",
       "      <td>13122.222656</td>\n",
       "      <td>12211.111328</td>\n",
       "      <td>0.0</td>\n",
       "      <td>0.0</td>\n",
       "      <td>0.0</td>\n",
       "      <td>...</td>\n",
       "      <td>mix</td>\n",
       "      <td>Domestic</td>\n",
       "      <td>5630.0</td>\n",
       "      <td>56.0</td>\n",
       "      <td>3.0</td>\n",
       "      <td>1</td>\n",
       "      <td>Central</td>\n",
       "      <td>1990-11-19</td>\n",
       "      <td>NaN</td>\n",
       "      <td>NaN</td>\n",
       "    </tr>\n",
       "    <tr>\n",
       "      <th>2</th>\n",
       "      <td>1.001034e+06</td>\n",
       "      <td>2007-01-01</td>\n",
       "      <td>2007-12-31</td>\n",
       "      <td>NaN</td>\n",
       "      <td>425.925934</td>\n",
       "      <td>8196.295898</td>\n",
       "      <td>7800.000000</td>\n",
       "      <td>0.0</td>\n",
       "      <td>0.0</td>\n",
       "      <td>0.0</td>\n",
       "      <td>...</td>\n",
       "      <td>mix</td>\n",
       "      <td>Domestic</td>\n",
       "      <td>5630.0</td>\n",
       "      <td>56.0</td>\n",
       "      <td>3.0</td>\n",
       "      <td>1</td>\n",
       "      <td>Central</td>\n",
       "      <td>1990-11-19</td>\n",
       "      <td>NaN</td>\n",
       "      <td>NaN</td>\n",
       "    </tr>\n",
       "    <tr>\n",
       "      <th>3</th>\n",
       "      <td>1.001034e+06</td>\n",
       "      <td>2008-01-01</td>\n",
       "      <td>2008-12-31</td>\n",
       "      <td>NaN</td>\n",
       "      <td>300.000000</td>\n",
       "      <td>8485.185547</td>\n",
       "      <td>7781.481445</td>\n",
       "      <td>0.0</td>\n",
       "      <td>0.0</td>\n",
       "      <td>0.0</td>\n",
       "      <td>...</td>\n",
       "      <td>mix</td>\n",
       "      <td>Domestic</td>\n",
       "      <td>5630.0</td>\n",
       "      <td>56.0</td>\n",
       "      <td>3.0</td>\n",
       "      <td>1</td>\n",
       "      <td>Central</td>\n",
       "      <td>1990-11-19</td>\n",
       "      <td>NaN</td>\n",
       "      <td>NaN</td>\n",
       "    </tr>\n",
       "    <tr>\n",
       "      <th>4</th>\n",
       "      <td>1.001034e+06</td>\n",
       "      <td>2009-01-01</td>\n",
       "      <td>2009-12-31</td>\n",
       "      <td>NaN</td>\n",
       "      <td>207.407410</td>\n",
       "      <td>5137.037109</td>\n",
       "      <td>15300.000000</td>\n",
       "      <td>0.0</td>\n",
       "      <td>0.0</td>\n",
       "      <td>0.0</td>\n",
       "      <td>...</td>\n",
       "      <td>mix</td>\n",
       "      <td>Domestic</td>\n",
       "      <td>5630.0</td>\n",
       "      <td>56.0</td>\n",
       "      <td>3.0</td>\n",
       "      <td>1</td>\n",
       "      <td>Central</td>\n",
       "      <td>1990-11-19</td>\n",
       "      <td>NaN</td>\n",
       "      <td>0.083333</td>\n",
       "    </tr>\n",
       "    <tr>\n",
       "      <th>...</th>\n",
       "      <td>...</td>\n",
       "      <td>...</td>\n",
       "      <td>...</td>\n",
       "      <td>...</td>\n",
       "      <td>...</td>\n",
       "      <td>...</td>\n",
       "      <td>...</td>\n",
       "      <td>...</td>\n",
       "      <td>...</td>\n",
       "      <td>...</td>\n",
       "      <td>...</td>\n",
       "      <td>...</td>\n",
       "      <td>...</td>\n",
       "      <td>...</td>\n",
       "      <td>...</td>\n",
       "      <td>...</td>\n",
       "      <td>...</td>\n",
       "      <td>...</td>\n",
       "      <td>...</td>\n",
       "      <td>...</td>\n",
       "      <td>...</td>\n",
       "    </tr>\n",
       "    <tr>\n",
       "      <th>287824</th>\n",
       "      <td>4.641209e+11</td>\n",
       "      <td>2011-01-01</td>\n",
       "      <td>2011-12-31</td>\n",
       "      <td>NaN</td>\n",
       "      <td>0.000000</td>\n",
       "      <td>1807.407349</td>\n",
       "      <td>3.703704</td>\n",
       "      <td>0.0</td>\n",
       "      <td>0.0</td>\n",
       "      <td>0.0</td>\n",
       "      <td>...</td>\n",
       "      <td>female</td>\n",
       "      <td>Domestic</td>\n",
       "      <td>5510.0</td>\n",
       "      <td>55.0</td>\n",
       "      <td>3.0</td>\n",
       "      <td>2</td>\n",
       "      <td>East</td>\n",
       "      <td>1990-08-22</td>\n",
       "      <td>NaN</td>\n",
       "      <td>NaN</td>\n",
       "    </tr>\n",
       "    <tr>\n",
       "      <th>287825</th>\n",
       "      <td>4.641209e+11</td>\n",
       "      <td>2012-01-01</td>\n",
       "      <td>2012-12-31</td>\n",
       "      <td>NaN</td>\n",
       "      <td>0.000000</td>\n",
       "      <td>1518.518555</td>\n",
       "      <td>96.296295</td>\n",
       "      <td>0.0</td>\n",
       "      <td>0.0</td>\n",
       "      <td>0.0</td>\n",
       "      <td>...</td>\n",
       "      <td>female</td>\n",
       "      <td>Domestic</td>\n",
       "      <td>5510.0</td>\n",
       "      <td>55.0</td>\n",
       "      <td>3.0</td>\n",
       "      <td>2</td>\n",
       "      <td>East</td>\n",
       "      <td>1990-08-22</td>\n",
       "      <td>NaN</td>\n",
       "      <td>NaN</td>\n",
       "    </tr>\n",
       "    <tr>\n",
       "      <th>287826</th>\n",
       "      <td>4.641209e+11</td>\n",
       "      <td>2013-01-01</td>\n",
       "      <td>2013-12-31</td>\n",
       "      <td>NaN</td>\n",
       "      <td>0.000000</td>\n",
       "      <td>988.888916</td>\n",
       "      <td>77.777779</td>\n",
       "      <td>0.0</td>\n",
       "      <td>0.0</td>\n",
       "      <td>0.0</td>\n",
       "      <td>...</td>\n",
       "      <td>NaN</td>\n",
       "      <td>NaN</td>\n",
       "      <td>5510.0</td>\n",
       "      <td>55.0</td>\n",
       "      <td>3.0</td>\n",
       "      <td>2</td>\n",
       "      <td>East</td>\n",
       "      <td>1990-08-22</td>\n",
       "      <td>NaN</td>\n",
       "      <td>NaN</td>\n",
       "    </tr>\n",
       "    <tr>\n",
       "      <th>287827</th>\n",
       "      <td>4.641209e+11</td>\n",
       "      <td>2014-01-01</td>\n",
       "      <td>2014-12-31</td>\n",
       "      <td>NaN</td>\n",
       "      <td>0.000000</td>\n",
       "      <td>644.444458</td>\n",
       "      <td>233.333328</td>\n",
       "      <td>0.0</td>\n",
       "      <td>0.0</td>\n",
       "      <td>0.0</td>\n",
       "      <td>...</td>\n",
       "      <td>female</td>\n",
       "      <td>Domestic</td>\n",
       "      <td>5510.0</td>\n",
       "      <td>55.0</td>\n",
       "      <td>3.0</td>\n",
       "      <td>2</td>\n",
       "      <td>East</td>\n",
       "      <td>1990-08-22</td>\n",
       "      <td>NaN</td>\n",
       "      <td>NaN</td>\n",
       "    </tr>\n",
       "    <tr>\n",
       "      <th>287828</th>\n",
       "      <td>4.641209e+11</td>\n",
       "      <td>2015-01-01</td>\n",
       "      <td>2015-12-31</td>\n",
       "      <td>NaN</td>\n",
       "      <td>0.000000</td>\n",
       "      <td>166.666672</td>\n",
       "      <td>270.370361</td>\n",
       "      <td>0.0</td>\n",
       "      <td>0.0</td>\n",
       "      <td>0.0</td>\n",
       "      <td>...</td>\n",
       "      <td>female</td>\n",
       "      <td>Domestic</td>\n",
       "      <td>5510.0</td>\n",
       "      <td>55.0</td>\n",
       "      <td>3.0</td>\n",
       "      <td>2</td>\n",
       "      <td>East</td>\n",
       "      <td>1990-08-22</td>\n",
       "      <td>NaN</td>\n",
       "      <td>NaN</td>\n",
       "    </tr>\n",
       "  </tbody>\n",
       "</table>\n",
       "<p>287829 rows × 48 columns</p>\n",
       "</div>"
      ],
      "text/plain": [
       "             comp_id       begin         end  COGS       amort   curr_assets  \\\n",
       "0       1.001034e+06  2005-01-01  2005-12-31   NaN  692.592590   7266.666504   \n",
       "1       1.001034e+06  2006-01-01  2006-12-31   NaN  603.703674  13122.222656   \n",
       "2       1.001034e+06  2007-01-01  2007-12-31   NaN  425.925934   8196.295898   \n",
       "3       1.001034e+06  2008-01-01  2008-12-31   NaN  300.000000   8485.185547   \n",
       "4       1.001034e+06  2009-01-01  2009-12-31   NaN  207.407410   5137.037109   \n",
       "...              ...         ...         ...   ...         ...           ...   \n",
       "287824  4.641209e+11  2011-01-01  2011-12-31   NaN    0.000000   1807.407349   \n",
       "287825  4.641209e+11  2012-01-01  2012-12-31   NaN    0.000000   1518.518555   \n",
       "287826  4.641209e+11  2013-01-01  2013-12-31   NaN    0.000000    988.888916   \n",
       "287827  4.641209e+11  2014-01-01  2014-12-31   NaN    0.000000    644.444458   \n",
       "287828  4.641209e+11  2015-01-01  2015-12-31   NaN    0.000000    166.666672   \n",
       "\n",
       "           curr_liab  extra_exp  extra_inc  extra_profit_loss  ...  gender  \\\n",
       "0        7574.074219        0.0        0.0                0.0  ...     mix   \n",
       "1       12211.111328        0.0        0.0                0.0  ...     mix   \n",
       "2        7800.000000        0.0        0.0                0.0  ...     mix   \n",
       "3        7781.481445        0.0        0.0                0.0  ...     mix   \n",
       "4       15300.000000        0.0        0.0                0.0  ...     mix   \n",
       "...              ...        ...        ...                ...  ...     ...   \n",
       "287824      3.703704        0.0        0.0                0.0  ...  female   \n",
       "287825     96.296295        0.0        0.0                0.0  ...  female   \n",
       "287826     77.777779        0.0        0.0                0.0  ...     NaN   \n",
       "287827    233.333328        0.0        0.0                0.0  ...  female   \n",
       "287828    270.370361        0.0        0.0                0.0  ...  female   \n",
       "\n",
       "          origin  nace_main  ind2  ind  urban_m  region_m  founded_date  \\\n",
       "0       Domestic     5630.0  56.0  3.0        1   Central    1990-11-19   \n",
       "1       Domestic     5630.0  56.0  3.0        1   Central    1990-11-19   \n",
       "2       Domestic     5630.0  56.0  3.0        1   Central    1990-11-19   \n",
       "3       Domestic     5630.0  56.0  3.0        1   Central    1990-11-19   \n",
       "4       Domestic     5630.0  56.0  3.0        1   Central    1990-11-19   \n",
       "...          ...        ...   ...  ...      ...       ...           ...   \n",
       "287824  Domestic     5510.0  55.0  3.0        2      East    1990-08-22   \n",
       "287825  Domestic     5510.0  55.0  3.0        2      East    1990-08-22   \n",
       "287826       NaN     5510.0  55.0  3.0        2      East    1990-08-22   \n",
       "287827  Domestic     5510.0  55.0  3.0        2      East    1990-08-22   \n",
       "287828  Domestic     5510.0  55.0  3.0        2      East    1990-08-22   \n",
       "\n",
       "        exit_date  labor_avg  \n",
       "0             NaN        NaN  \n",
       "1             NaN        NaN  \n",
       "2             NaN        NaN  \n",
       "3             NaN        NaN  \n",
       "4             NaN   0.083333  \n",
       "...           ...        ...  \n",
       "287824        NaN        NaN  \n",
       "287825        NaN        NaN  \n",
       "287826        NaN        NaN  \n",
       "287827        NaN        NaN  \n",
       "287828        NaN        NaN  \n",
       "\n",
       "[287829 rows x 48 columns]"
      ]
     },
     "execution_count": 52,
     "metadata": {},
     "output_type": "execute_result"
    }
   ],
   "source": [
    "data = pd.read_csv(\"/workspaces/codespaces-jupyter/data/cs_bisnode_panel.csv\")\n",
    "data"
   ]
  },
  {
   "cell_type": "code",
   "execution_count": 53,
   "metadata": {},
   "outputs": [
    {
     "data": {
      "text/plain": [
       "Index(['comp_id', 'begin', 'end', 'COGS', 'amort', 'curr_assets', 'curr_liab',\n",
       "       'extra_exp', 'extra_inc', 'extra_profit_loss', 'finished_prod',\n",
       "       'fixed_assets', 'inc_bef_tax', 'intang_assets', 'inventories',\n",
       "       'liq_assets', 'material_exp', 'net_dom_sales', 'net_exp_sales',\n",
       "       'personnel_exp', 'profit_loss_year', 'sales', 'share_eq',\n",
       "       'subscribed_cap', 'tang_assets', 'wages', 'D', 'balsheet_flag',\n",
       "       'balsheet_length', 'balsheet_notfullyear', 'year', 'founded_year',\n",
       "       'exit_year', 'ceo_count', 'foreign', 'female', 'birth_year',\n",
       "       'inoffice_days', 'gender', 'origin', 'nace_main', 'ind2', 'ind',\n",
       "       'urban_m', 'region_m', 'founded_date', 'exit_date', 'labor_avg'],\n",
       "      dtype='object')"
      ]
     },
     "execution_count": 53,
     "metadata": {},
     "output_type": "execute_result"
    }
   ],
   "source": [
    "data.columns"
   ]
  },
  {
   "cell_type": "code",
   "execution_count": 54,
   "metadata": {},
   "outputs": [
    {
     "data": {
      "text/plain": [
       "year\n",
       "2016     9743\n",
       "2005    19147\n",
       "2006    20200\n",
       "2007    21804\n",
       "2008    23733\n",
       "2009    25596\n",
       "2010    26784\n",
       "2015    27506\n",
       "2014    28151\n",
       "2011    28222\n",
       "2012    28469\n",
       "2013    28474\n",
       "Name: count, dtype: int64"
      ]
     },
     "execution_count": 54,
     "metadata": {},
     "output_type": "execute_result"
    }
   ],
   "source": [
    "data[\"year\"].value_counts().sort_values(ascending=True)"
   ]
  },
  {
   "cell_type": "code",
   "execution_count": 55,
   "metadata": {},
   "outputs": [],
   "source": [
    "# drop variables with many NAs\n",
    "data = data.drop(\n",
    "    columns=[\"COGS\", \"finished_prod\", \"net_dom_sales\", \"net_exp_sales\", \"wages\"]\n",
    ")\n",
    "data = data.query(\"year !=2016\")"
   ]
  },
  {
   "cell_type": "code",
   "execution_count": 56,
   "metadata": {},
   "outputs": [
    {
     "data": {
      "text/plain": [
       "Index(['comp_id', 'begin', 'end', 'amort', 'curr_assets', 'curr_liab',\n",
       "       'extra_exp', 'extra_inc', 'extra_profit_loss', 'fixed_assets',\n",
       "       'inc_bef_tax', 'intang_assets', 'inventories', 'liq_assets',\n",
       "       'material_exp', 'personnel_exp', 'profit_loss_year', 'sales',\n",
       "       'share_eq', 'subscribed_cap', 'tang_assets', 'D', 'balsheet_flag',\n",
       "       'balsheet_length', 'balsheet_notfullyear', 'year', 'founded_year',\n",
       "       'exit_year', 'ceo_count', 'foreign', 'female', 'birth_year',\n",
       "       'inoffice_days', 'gender', 'origin', 'nace_main', 'ind2', 'ind',\n",
       "       'urban_m', 'region_m', 'founded_date', 'exit_date', 'labor_avg'],\n",
       "      dtype='object')"
      ]
     },
     "execution_count": 56,
     "metadata": {},
     "output_type": "execute_result"
    }
   ],
   "source": [
    "data.columns"
   ]
  },
  {
   "cell_type": "code",
   "execution_count": 57,
   "metadata": {},
   "outputs": [
    {
     "data": {
      "text/plain": [
       "year\n",
       "2013    28474\n",
       "2012    28469\n",
       "2011    28222\n",
       "2014    28151\n",
       "2015    27506\n",
       "2010    26784\n",
       "2009    25596\n",
       "2008    23733\n",
       "2007    21804\n",
       "2006    20200\n",
       "2005    19147\n",
       "Name: count, dtype: int64"
      ]
     },
     "execution_count": 57,
     "metadata": {},
     "output_type": "execute_result"
    }
   ],
   "source": [
    "data[\"year\"].value_counts()"
   ]
  },
  {
   "cell_type": "markdown",
   "metadata": {},
   "source": [
    "\n",
    "# Label engineering\n"
   ]
  },
  {
   "cell_type": "code",
   "execution_count": 58,
   "metadata": {},
   "outputs": [
    {
     "data": {
      "text/plain": [
       "(278086, 43)"
      ]
     },
     "execution_count": 58,
     "metadata": {},
     "output_type": "execute_result"
    }
   ],
   "source": [
    "data.shape"
   ]
  },
  {
   "cell_type": "code",
   "execution_count": 59,
   "metadata": {},
   "outputs": [
    {
     "name": "stdout",
     "output_type": "stream",
     "text": [
      "Firms with missing years:\n",
      "comp_id\n",
      "1.001541e+06     7\n",
      "1.002029e+06     9\n",
      "1.003200e+06     8\n",
      "1.004012e+06     8\n",
      "1.004898e+06     1\n",
      "                ..\n",
      "4.640212e+11     9\n",
      "4.640446e+11     8\n",
      "4.640568e+11     3\n",
      "4.640793e+11     1\n",
      "4.641209e+11    10\n",
      "Name: year, Length: 36503, dtype: int64\n"
     ]
    }
   ],
   "source": [
    "# 1. Count number of years for each company\n",
    "years_per_firm = data.groupby(\"comp_id\")[\"year\"].nunique()\n",
    "\n",
    "# 2. Find companies with fewer years than the full range\n",
    "full_year_range = data[\"year\"].nunique()\n",
    "incomplete_firms = years_per_firm[years_per_firm < full_year_range]\n",
    "\n",
    "# 3. Display those firms\n",
    "print(\"Firms with missing years:\")\n",
    "print(incomplete_firms)"
   ]
  },
  {
   "cell_type": "code",
   "execution_count": 60,
   "metadata": {},
   "outputs": [
    {
     "data": {
      "text/plain": [
       "11    2009\n",
       "12    2010\n",
       "13    2011\n",
       "14    2012\n",
       "15    2013\n",
       "16    2014\n",
       "17    2015\n",
       "Name: year, dtype: int64"
      ]
     },
     "execution_count": 60,
     "metadata": {},
     "output_type": "execute_result"
    }
   ],
   "source": [
    "data.loc[data[\"comp_id\"] == 1.001541e+06, \"year\"]"
   ]
  },
  {
   "cell_type": "code",
   "execution_count": 61,
   "metadata": {},
   "outputs": [
    {
     "data": {
      "text/html": [
       "<div>\n",
       "<style scoped>\n",
       "    .dataframe tbody tr th:only-of-type {\n",
       "        vertical-align: middle;\n",
       "    }\n",
       "\n",
       "    .dataframe tbody tr th {\n",
       "        vertical-align: top;\n",
       "    }\n",
       "\n",
       "    .dataframe thead th {\n",
       "        text-align: right;\n",
       "    }\n",
       "</style>\n",
       "<table border=\"1\" class=\"dataframe\">\n",
       "  <thead>\n",
       "    <tr style=\"text-align: right;\">\n",
       "      <th></th>\n",
       "      <th>comp_id</th>\n",
       "      <th>begin</th>\n",
       "      <th>end</th>\n",
       "      <th>amort</th>\n",
       "      <th>curr_assets</th>\n",
       "      <th>curr_liab</th>\n",
       "      <th>extra_exp</th>\n",
       "      <th>extra_inc</th>\n",
       "      <th>extra_profit_loss</th>\n",
       "      <th>fixed_assets</th>\n",
       "      <th>...</th>\n",
       "      <th>gender</th>\n",
       "      <th>origin</th>\n",
       "      <th>nace_main</th>\n",
       "      <th>ind2</th>\n",
       "      <th>ind</th>\n",
       "      <th>urban_m</th>\n",
       "      <th>region_m</th>\n",
       "      <th>founded_date</th>\n",
       "      <th>exit_date</th>\n",
       "      <th>labor_avg</th>\n",
       "    </tr>\n",
       "  </thead>\n",
       "  <tbody>\n",
       "    <tr>\n",
       "      <th>11</th>\n",
       "      <td>1001541.0</td>\n",
       "      <td>2009-01-01</td>\n",
       "      <td>2009-12-31</td>\n",
       "      <td>0.000000</td>\n",
       "      <td>2040.740723</td>\n",
       "      <td>933.333313</td>\n",
       "      <td>0.0</td>\n",
       "      <td>0.000000</td>\n",
       "      <td>0.000000</td>\n",
       "      <td>0.000000</td>\n",
       "      <td>...</td>\n",
       "      <td>male</td>\n",
       "      <td>Domestic</td>\n",
       "      <td>5610.0</td>\n",
       "      <td>56.0</td>\n",
       "      <td>3.0</td>\n",
       "      <td>3</td>\n",
       "      <td>Central</td>\n",
       "      <td>2008-02-24</td>\n",
       "      <td>NaN</td>\n",
       "      <td>NaN</td>\n",
       "    </tr>\n",
       "    <tr>\n",
       "      <th>12</th>\n",
       "      <td>1001541.0</td>\n",
       "      <td>2010-01-01</td>\n",
       "      <td>2010-12-31</td>\n",
       "      <td>0.000000</td>\n",
       "      <td>1740.740723</td>\n",
       "      <td>844.444458</td>\n",
       "      <td>0.0</td>\n",
       "      <td>0.000000</td>\n",
       "      <td>0.000000</td>\n",
       "      <td>0.000000</td>\n",
       "      <td>...</td>\n",
       "      <td>male</td>\n",
       "      <td>Domestic</td>\n",
       "      <td>5610.0</td>\n",
       "      <td>56.0</td>\n",
       "      <td>3.0</td>\n",
       "      <td>3</td>\n",
       "      <td>Central</td>\n",
       "      <td>2008-02-24</td>\n",
       "      <td>NaN</td>\n",
       "      <td>NaN</td>\n",
       "    </tr>\n",
       "    <tr>\n",
       "      <th>13</th>\n",
       "      <td>1001541.0</td>\n",
       "      <td>2011-01-01</td>\n",
       "      <td>2011-12-31</td>\n",
       "      <td>0.000000</td>\n",
       "      <td>127403.703125</td>\n",
       "      <td>127325.929688</td>\n",
       "      <td>0.0</td>\n",
       "      <td>0.000000</td>\n",
       "      <td>0.000000</td>\n",
       "      <td>0.000000</td>\n",
       "      <td>...</td>\n",
       "      <td>male</td>\n",
       "      <td>Domestic</td>\n",
       "      <td>5610.0</td>\n",
       "      <td>56.0</td>\n",
       "      <td>3.0</td>\n",
       "      <td>3</td>\n",
       "      <td>Central</td>\n",
       "      <td>2008-02-24</td>\n",
       "      <td>NaN</td>\n",
       "      <td>NaN</td>\n",
       "    </tr>\n",
       "    <tr>\n",
       "      <th>14</th>\n",
       "      <td>1001541.0</td>\n",
       "      <td>2012-01-01</td>\n",
       "      <td>2012-12-31</td>\n",
       "      <td>481.481476</td>\n",
       "      <td>9629.629883</td>\n",
       "      <td>1303.703735</td>\n",
       "      <td>0.0</td>\n",
       "      <td>0.000000</td>\n",
       "      <td>0.000000</td>\n",
       "      <td>190566.671875</td>\n",
       "      <td>...</td>\n",
       "      <td>male</td>\n",
       "      <td>Domestic</td>\n",
       "      <td>5610.0</td>\n",
       "      <td>56.0</td>\n",
       "      <td>3.0</td>\n",
       "      <td>3</td>\n",
       "      <td>Central</td>\n",
       "      <td>2008-02-24</td>\n",
       "      <td>NaN</td>\n",
       "      <td>NaN</td>\n",
       "    </tr>\n",
       "    <tr>\n",
       "      <th>15</th>\n",
       "      <td>1001541.0</td>\n",
       "      <td>2013-01-01</td>\n",
       "      <td>2013-12-31</td>\n",
       "      <td>2292.592529</td>\n",
       "      <td>4811.111328</td>\n",
       "      <td>925.925903</td>\n",
       "      <td>0.0</td>\n",
       "      <td>74.074074</td>\n",
       "      <td>74.074074</td>\n",
       "      <td>188274.078125</td>\n",
       "      <td>...</td>\n",
       "      <td>male</td>\n",
       "      <td>Domestic</td>\n",
       "      <td>5610.0</td>\n",
       "      <td>56.0</td>\n",
       "      <td>3.0</td>\n",
       "      <td>3</td>\n",
       "      <td>Central</td>\n",
       "      <td>2008-02-24</td>\n",
       "      <td>NaN</td>\n",
       "      <td>NaN</td>\n",
       "    </tr>\n",
       "    <tr>\n",
       "      <th>16</th>\n",
       "      <td>1001541.0</td>\n",
       "      <td>2014-01-01</td>\n",
       "      <td>2014-12-31</td>\n",
       "      <td>2292.592529</td>\n",
       "      <td>6500.000000</td>\n",
       "      <td>296.296295</td>\n",
       "      <td>0.0</td>\n",
       "      <td>0.000000</td>\n",
       "      <td>0.000000</td>\n",
       "      <td>185981.484375</td>\n",
       "      <td>...</td>\n",
       "      <td>male</td>\n",
       "      <td>Domestic</td>\n",
       "      <td>5610.0</td>\n",
       "      <td>56.0</td>\n",
       "      <td>3.0</td>\n",
       "      <td>3</td>\n",
       "      <td>Central</td>\n",
       "      <td>2008-02-24</td>\n",
       "      <td>NaN</td>\n",
       "      <td>NaN</td>\n",
       "    </tr>\n",
       "    <tr>\n",
       "      <th>17</th>\n",
       "      <td>1001541.0</td>\n",
       "      <td>2015-01-01</td>\n",
       "      <td>2015-12-31</td>\n",
       "      <td>2292.592529</td>\n",
       "      <td>8729.629883</td>\n",
       "      <td>0.000000</td>\n",
       "      <td>0.0</td>\n",
       "      <td>0.000000</td>\n",
       "      <td>0.000000</td>\n",
       "      <td>183688.890625</td>\n",
       "      <td>...</td>\n",
       "      <td>male</td>\n",
       "      <td>Domestic</td>\n",
       "      <td>5610.0</td>\n",
       "      <td>56.0</td>\n",
       "      <td>3.0</td>\n",
       "      <td>3</td>\n",
       "      <td>Central</td>\n",
       "      <td>2008-02-24</td>\n",
       "      <td>NaN</td>\n",
       "      <td>NaN</td>\n",
       "    </tr>\n",
       "  </tbody>\n",
       "</table>\n",
       "<p>7 rows × 43 columns</p>\n",
       "</div>"
      ],
      "text/plain": [
       "      comp_id       begin         end        amort    curr_assets  \\\n",
       "11  1001541.0  2009-01-01  2009-12-31     0.000000    2040.740723   \n",
       "12  1001541.0  2010-01-01  2010-12-31     0.000000    1740.740723   \n",
       "13  1001541.0  2011-01-01  2011-12-31     0.000000  127403.703125   \n",
       "14  1001541.0  2012-01-01  2012-12-31   481.481476    9629.629883   \n",
       "15  1001541.0  2013-01-01  2013-12-31  2292.592529    4811.111328   \n",
       "16  1001541.0  2014-01-01  2014-12-31  2292.592529    6500.000000   \n",
       "17  1001541.0  2015-01-01  2015-12-31  2292.592529    8729.629883   \n",
       "\n",
       "        curr_liab  extra_exp  extra_inc  extra_profit_loss   fixed_assets  \\\n",
       "11     933.333313        0.0   0.000000           0.000000       0.000000   \n",
       "12     844.444458        0.0   0.000000           0.000000       0.000000   \n",
       "13  127325.929688        0.0   0.000000           0.000000       0.000000   \n",
       "14    1303.703735        0.0   0.000000           0.000000  190566.671875   \n",
       "15     925.925903        0.0  74.074074          74.074074  188274.078125   \n",
       "16     296.296295        0.0   0.000000           0.000000  185981.484375   \n",
       "17       0.000000        0.0   0.000000           0.000000  183688.890625   \n",
       "\n",
       "    ...  gender    origin  nace_main  ind2  ind  urban_m  region_m  \\\n",
       "11  ...    male  Domestic     5610.0  56.0  3.0        3   Central   \n",
       "12  ...    male  Domestic     5610.0  56.0  3.0        3   Central   \n",
       "13  ...    male  Domestic     5610.0  56.0  3.0        3   Central   \n",
       "14  ...    male  Domestic     5610.0  56.0  3.0        3   Central   \n",
       "15  ...    male  Domestic     5610.0  56.0  3.0        3   Central   \n",
       "16  ...    male  Domestic     5610.0  56.0  3.0        3   Central   \n",
       "17  ...    male  Domestic     5610.0  56.0  3.0        3   Central   \n",
       "\n",
       "    founded_date  exit_date  labor_avg  \n",
       "11    2008-02-24        NaN        NaN  \n",
       "12    2008-02-24        NaN        NaN  \n",
       "13    2008-02-24        NaN        NaN  \n",
       "14    2008-02-24        NaN        NaN  \n",
       "15    2008-02-24        NaN        NaN  \n",
       "16    2008-02-24        NaN        NaN  \n",
       "17    2008-02-24        NaN        NaN  \n",
       "\n",
       "[7 rows x 43 columns]"
      ]
     },
     "execution_count": 61,
     "metadata": {},
     "output_type": "execute_result"
    }
   ],
   "source": [
    "data[data[\"comp_id\"] == 1.001541e+06]"
   ]
  },
  {
   "cell_type": "code",
   "execution_count": null,
   "metadata": {},
   "outputs": [
    {
     "name": "stderr",
     "output_type": "stream",
     "text": [
      "/tmp/ipykernel_1829/1426590344.py:6: FutureWarning: The previous implementation of stack is deprecated and will be removed in a future version of pandas. See the What's New notes for pandas 2.1.0 for details. Specify future_stack=True to adopt the new implementation and silence this warning.\n"
     ]
    }
   ],
   "source": [
    "# add all missing year and comp_id combinations -\n",
    "# originally missing combinations will have NAs in all other columns\n",
    "data = (\n",
    "    data.set_index([\"year\", \"comp_id\"])\n",
    "    .unstack(fill_value=\"toReplace\")\n",
    "    .stack()\n",
    "    .reset_index()\n",
    ")\n",
    "data = data.replace(\"toReplace\", np.nan)  # only way I could define it as NaN"
   ]
  },
  {
   "cell_type": "code",
   "execution_count": null,
   "metadata": {},
   "outputs": [
    {
     "data": {
      "text/plain": [
       "1         2005\n",
       "46413     2006\n",
       "92825     2007\n",
       "139237    2008\n",
       "185649    2009\n",
       "232061    2010\n",
       "278473    2011\n",
       "324885    2012\n",
       "371297    2013\n",
       "417709    2014\n",
       "464121    2015\n",
       "Name: year, dtype: int64"
      ]
     },
     "execution_count": 48,
     "metadata": {},
     "output_type": "execute_result"
    }
   ],
   "source": [
    "data.loc[data[\"comp_id\"] == 1.001541e+06, \"year\"]"
   ]
  },
  {
   "cell_type": "code",
   "execution_count": null,
   "metadata": {},
   "outputs": [
    {
     "data": {
      "text/html": [
       "<div>\n",
       "<style scoped>\n",
       "    .dataframe tbody tr th:only-of-type {\n",
       "        vertical-align: middle;\n",
       "    }\n",
       "\n",
       "    .dataframe tbody tr th {\n",
       "        vertical-align: top;\n",
       "    }\n",
       "\n",
       "    .dataframe thead th {\n",
       "        text-align: right;\n",
       "    }\n",
       "</style>\n",
       "<table border=\"1\" class=\"dataframe\">\n",
       "  <thead>\n",
       "    <tr style=\"text-align: right;\">\n",
       "      <th></th>\n",
       "      <th>year</th>\n",
       "      <th>comp_id</th>\n",
       "      <th>begin</th>\n",
       "      <th>end</th>\n",
       "      <th>amort</th>\n",
       "      <th>curr_assets</th>\n",
       "      <th>curr_liab</th>\n",
       "      <th>extra_exp</th>\n",
       "      <th>extra_inc</th>\n",
       "      <th>extra_profit_loss</th>\n",
       "      <th>...</th>\n",
       "      <th>share_eq_bs_quad</th>\n",
       "      <th>ceo_age</th>\n",
       "      <th>flag_low_ceo_age</th>\n",
       "      <th>flag_high_ceo_age</th>\n",
       "      <th>flag_miss_ceo_age</th>\n",
       "      <th>ceo_young</th>\n",
       "      <th>labor_avg_mod</th>\n",
       "      <th>flag_miss_labor_avg</th>\n",
       "      <th>default_f</th>\n",
       "      <th>sales_mil_log_sq</th>\n",
       "    </tr>\n",
       "  </thead>\n",
       "  <tbody>\n",
       "    <tr>\n",
       "      <th>0</th>\n",
       "      <td>2012</td>\n",
       "      <td>1001541.0</td>\n",
       "      <td>2012-01-01</td>\n",
       "      <td>2012-12-31</td>\n",
       "      <td>481.481476</td>\n",
       "      <td>9629.629883</td>\n",
       "      <td>1303.703735</td>\n",
       "      <td>0.0</td>\n",
       "      <td>0.0</td>\n",
       "      <td>0.0</td>\n",
       "      <td>...</td>\n",
       "      <td>0.912745</td>\n",
       "      <td>38.0</td>\n",
       "      <td>0</td>\n",
       "      <td>0</td>\n",
       "      <td>0</td>\n",
       "      <td>1</td>\n",
       "      <td>0.948443</td>\n",
       "      <td>1</td>\n",
       "      <td>no_default</td>\n",
       "      <td>45.190017</td>\n",
       "    </tr>\n",
       "  </tbody>\n",
       "</table>\n",
       "<p>1 rows × 114 columns</p>\n",
       "</div>"
      ],
      "text/plain": [
       "   year    comp_id       begin         end       amort  curr_assets  \\\n",
       "0  2012  1001541.0  2012-01-01  2012-12-31  481.481476  9629.629883   \n",
       "\n",
       "     curr_liab  extra_exp  extra_inc  extra_profit_loss  ...  \\\n",
       "0  1303.703735        0.0        0.0                0.0  ...   \n",
       "\n",
       "   share_eq_bs_quad  ceo_age  flag_low_ceo_age  flag_high_ceo_age  \\\n",
       "0          0.912745     38.0                 0                  0   \n",
       "\n",
       "   flag_miss_ceo_age  ceo_young  labor_avg_mod  flag_miss_labor_avg  \\\n",
       "0                  0          1       0.948443                    1   \n",
       "\n",
       "    default_f  sales_mil_log_sq  \n",
       "0  no_default         45.190017  \n",
       "\n",
       "[1 rows x 114 columns]"
      ]
     },
     "execution_count": 149,
     "metadata": {},
     "output_type": "execute_result"
    }
   ],
   "source": [
    "data[data[\"comp_id\"] == 1.001541e+06]"
   ]
  },
  {
   "cell_type": "code",
   "execution_count": null,
   "metadata": {},
   "outputs": [
    {
     "data": {
      "text/plain": [
       "(510532, 43)"
      ]
     },
     "execution_count": 50,
     "metadata": {},
     "output_type": "execute_result"
    }
   ],
   "source": [
    "data.shape"
   ]
  },
  {
   "cell_type": "code",
   "execution_count": null,
   "metadata": {},
   "outputs": [],
   "source": [
    "# generate status_alive; if sales larger than zero and not-NA, then firm is alive\n",
    "data[\"status_alive\"] = (data[\"sales\"] > 0 & (False == data[\"sales\"].isna())).astype(int)\n",
    "\n",
    "\n",
    "# defaults in two years if there are sales in this year but no sales two years later\n",
    "# Status_in_two_years: data.groupby('comp_id')['status_alive'].shift(-2)\n",
    "data[\"default\"] = (\n",
    "    (data[\"status_alive\"] == 1)\n",
    "    & (data.groupby(\"comp_id\")[\"status_alive\"].shift(-2) == 0)\n",
    ").astype(int)\n"
   ]
  },
  {
   "cell_type": "code",
   "execution_count": null,
   "metadata": {},
   "outputs": [
    {
     "data": {
      "text/html": [
       "<div>\n",
       "<style scoped>\n",
       "    .dataframe tbody tr th:only-of-type {\n",
       "        vertical-align: middle;\n",
       "    }\n",
       "\n",
       "    .dataframe tbody tr th {\n",
       "        vertical-align: top;\n",
       "    }\n",
       "\n",
       "    .dataframe thead th {\n",
       "        text-align: right;\n",
       "    }\n",
       "</style>\n",
       "<table border=\"1\" class=\"dataframe\">\n",
       "  <thead>\n",
       "    <tr style=\"text-align: right;\">\n",
       "      <th></th>\n",
       "      <th>year</th>\n",
       "      <th>sales</th>\n",
       "      <th>status_alive</th>\n",
       "      <th>default</th>\n",
       "    </tr>\n",
       "  </thead>\n",
       "  <tbody>\n",
       "    <tr>\n",
       "      <th>0</th>\n",
       "      <td>2012</td>\n",
       "      <td>1203.703735</td>\n",
       "      <td>1</td>\n",
       "      <td>0</td>\n",
       "    </tr>\n",
       "  </tbody>\n",
       "</table>\n",
       "</div>"
      ],
      "text/plain": [
       "   year        sales  status_alive  default\n",
       "0  2012  1203.703735             1        0"
      ]
     },
     "execution_count": 159,
     "metadata": {},
     "output_type": "execute_result"
    }
   ],
   "source": [
    "data.loc[data[\"comp_id\"] == 1.001541e+06, [\"year\", \"sales\", \"status_alive\", \"default\"]]"
   ]
  },
  {
   "cell_type": "code",
   "execution_count": null,
   "metadata": {},
   "outputs": [
    {
     "data": {
      "text/plain": [
       "status_alive\n",
       "0    281576\n",
       "1    228956\n",
       "Name: count, dtype: int64"
      ]
     },
     "execution_count": 55,
     "metadata": {},
     "output_type": "execute_result"
    }
   ],
   "source": [
    "data[\"status_alive\"].value_counts()"
   ]
  },
  {
   "cell_type": "code",
   "execution_count": null,
   "metadata": {},
   "outputs": [
    {
     "data": {
      "text/plain": [
       "default\n",
       "0    474076\n",
       "1     36456\n",
       "Name: count, dtype: int64"
      ]
     },
     "execution_count": 56,
     "metadata": {},
     "output_type": "execute_result"
    }
   ],
   "source": [
    "data[\"default\"].value_counts()"
   ]
  },
  {
   "cell_type": "code",
   "execution_count": null,
   "metadata": {},
   "outputs": [
    {
     "data": {
      "text/plain": [
       "1         2005\n",
       "46413     2006\n",
       "92825     2007\n",
       "139237    2008\n",
       "185649    2009\n",
       "232061    2010\n",
       "278473    2011\n",
       "324885    2012\n",
       "371297    2013\n",
       "417709    2014\n",
       "464121    2015\n",
       "Name: year, dtype: int64"
      ]
     },
     "execution_count": 57,
     "metadata": {},
     "output_type": "execute_result"
    }
   ],
   "source": [
    "data.loc[data[\"comp_id\"] == 1.001541e+06, \"year\"]"
   ]
  },
  {
   "cell_type": "code",
   "execution_count": null,
   "metadata": {},
   "outputs": [],
   "source": [
    "data = data.query(\"year <= 2013\")"
   ]
  },
  {
   "cell_type": "code",
   "execution_count": null,
   "metadata": {},
   "outputs": [
    {
     "data": {
      "text/plain": [
       "1         2005\n",
       "46413     2006\n",
       "92825     2007\n",
       "139237    2008\n",
       "185649    2009\n",
       "232061    2010\n",
       "278473    2011\n",
       "324885    2012\n",
       "371297    2013\n",
       "Name: year, dtype: int64"
      ]
     },
     "execution_count": 59,
     "metadata": {},
     "output_type": "execute_result"
    }
   ],
   "source": [
    "data.loc[data[\"comp_id\"] == 1.001541e+06, \"year\"]"
   ]
  },
  {
   "cell_type": "code",
   "execution_count": null,
   "metadata": {},
   "outputs": [
    {
     "data": {
      "text/plain": [
       "count    417708.000000\n",
       "mean          0.087276\n",
       "std           0.282240\n",
       "min           0.000000\n",
       "25%           0.000000\n",
       "50%           0.000000\n",
       "75%           0.000000\n",
       "max           1.000000\n",
       "Name: default, dtype: float64"
      ]
     },
     "execution_count": 60,
     "metadata": {},
     "output_type": "execute_result"
    }
   ],
   "source": [
    "data[\"default\"].describe()"
   ]
  },
  {
   "cell_type": "code",
   "execution_count": null,
   "metadata": {},
   "outputs": [
    {
     "data": {
      "text/plain": [
       "count    2.151190e+05\n",
       "mean     4.860478e+05\n",
       "std      3.885493e+06\n",
       "min     -1.472559e+07\n",
       "25%      5.344444e+03\n",
       "50%      3.055555e+04\n",
       "75%      1.083537e+05\n",
       "max      1.110294e+08\n",
       "Name: sales, dtype: float64"
      ]
     },
     "execution_count": 61,
     "metadata": {},
     "output_type": "execute_result"
    }
   ],
   "source": [
    "data[\"sales\"].describe()"
   ]
  },
  {
   "cell_type": "code",
   "execution_count": null,
   "metadata": {},
   "outputs": [
    {
     "name": "stderr",
     "output_type": "stream",
     "text": [
      "/tmp/ipykernel_15370/2765429909.py:1: SettingWithCopyWarning: \n",
      "A value is trying to be set on a copy of a slice from a DataFrame.\n",
      "Try using .loc[row_indexer,col_indexer] = value instead\n",
      "\n",
      "See the caveats in the documentation: https://pandas.pydata.org/pandas-docs/stable/user_guide/indexing.html#returning-a-view-versus-a-copy\n",
      "/usr/local/python/3.12.1/lib/python3.12/site-packages/pandas/core/arraylike.py:399: RuntimeWarning: divide by zero encountered in log\n"
     ]
    }
   ],
   "source": [
    "data[\"sales\"] = np.where(\n",
    "    data[\"sales\"] < 0, 1, data[\"sales\"]\n",
    ")  # has to be outside of assin()\n",
    "data = data.assign(\n",
    "    ln_sales=np.where(data[\"sales\"] > 0,np.log(data[\"sales\"]),(np.where(data[\"sales\"].isna(), np.nan, 0)),\n",
    "    ),  # NaN remain NaN\n",
    "    sales_mil=data[\"sales\"] / 1000000,\n",
    "    sales_mil_log=np.where(data[\"sales\"] > 0, np.log(data[\"sales\"] / 1000000),(np.where(data[\"sales\"].isna(), np.nan, 0)),\n",
    "    ),\n",
    ")\n"
   ]
  },
  {
   "cell_type": "code",
   "execution_count": null,
   "metadata": {},
   "outputs": [
    {
     "data": {
      "text/plain": [
       "(417708, 48)"
      ]
     },
     "execution_count": 63,
     "metadata": {},
     "output_type": "execute_result"
    }
   ],
   "source": [
    "data.shape"
   ]
  },
  {
   "cell_type": "code",
   "execution_count": null,
   "metadata": {},
   "outputs": [
    {
     "data": {
      "text/html": [
       "<div>\n",
       "<style scoped>\n",
       "    .dataframe tbody tr th:only-of-type {\n",
       "        vertical-align: middle;\n",
       "    }\n",
       "\n",
       "    .dataframe tbody tr th {\n",
       "        vertical-align: top;\n",
       "    }\n",
       "\n",
       "    .dataframe thead th {\n",
       "        text-align: right;\n",
       "    }\n",
       "</style>\n",
       "<table border=\"1\" class=\"dataframe\">\n",
       "  <thead>\n",
       "    <tr style=\"text-align: right;\">\n",
       "      <th></th>\n",
       "      <th>sales</th>\n",
       "      <th>sales_mil</th>\n",
       "      <th>sales_mil_log</th>\n",
       "    </tr>\n",
       "  </thead>\n",
       "  <tbody>\n",
       "    <tr>\n",
       "      <th>0</th>\n",
       "      <td>6.275185e+04</td>\n",
       "      <td>0.062752</td>\n",
       "      <td>-2.768567</td>\n",
       "    </tr>\n",
       "    <tr>\n",
       "      <th>1</th>\n",
       "      <td>NaN</td>\n",
       "      <td>NaN</td>\n",
       "      <td>NaN</td>\n",
       "    </tr>\n",
       "    <tr>\n",
       "      <th>2</th>\n",
       "      <td>NaN</td>\n",
       "      <td>NaN</td>\n",
       "      <td>NaN</td>\n",
       "    </tr>\n",
       "    <tr>\n",
       "      <th>3</th>\n",
       "      <td>1.111852e+04</td>\n",
       "      <td>0.011119</td>\n",
       "      <td>-4.499143</td>\n",
       "    </tr>\n",
       "    <tr>\n",
       "      <th>4</th>\n",
       "      <td>5.833333e+03</td>\n",
       "      <td>0.005833</td>\n",
       "      <td>-5.144167</td>\n",
       "    </tr>\n",
       "    <tr>\n",
       "      <th>...</th>\n",
       "      <td>...</td>\n",
       "      <td>...</td>\n",
       "      <td>...</td>\n",
       "    </tr>\n",
       "    <tr>\n",
       "      <th>417703</th>\n",
       "      <td>8.638381e+06</td>\n",
       "      <td>8.638381</td>\n",
       "      <td>2.156215</td>\n",
       "    </tr>\n",
       "    <tr>\n",
       "      <th>417704</th>\n",
       "      <td>NaN</td>\n",
       "      <td>NaN</td>\n",
       "      <td>NaN</td>\n",
       "    </tr>\n",
       "    <tr>\n",
       "      <th>417705</th>\n",
       "      <td>NaN</td>\n",
       "      <td>NaN</td>\n",
       "      <td>NaN</td>\n",
       "    </tr>\n",
       "    <tr>\n",
       "      <th>417706</th>\n",
       "      <td>1.579148e+05</td>\n",
       "      <td>0.157915</td>\n",
       "      <td>-1.845700</td>\n",
       "    </tr>\n",
       "    <tr>\n",
       "      <th>417707</th>\n",
       "      <td>0.000000e+00</td>\n",
       "      <td>0.000000</td>\n",
       "      <td>0.000000</td>\n",
       "    </tr>\n",
       "  </tbody>\n",
       "</table>\n",
       "<p>417708 rows × 3 columns</p>\n",
       "</div>"
      ],
      "text/plain": [
       "               sales  sales_mil  sales_mil_log\n",
       "0       6.275185e+04   0.062752      -2.768567\n",
       "1                NaN        NaN            NaN\n",
       "2                NaN        NaN            NaN\n",
       "3       1.111852e+04   0.011119      -4.499143\n",
       "4       5.833333e+03   0.005833      -5.144167\n",
       "...              ...        ...            ...\n",
       "417703  8.638381e+06   8.638381       2.156215\n",
       "417704           NaN        NaN            NaN\n",
       "417705           NaN        NaN            NaN\n",
       "417706  1.579148e+05   0.157915      -1.845700\n",
       "417707  0.000000e+00   0.000000       0.000000\n",
       "\n",
       "[417708 rows x 3 columns]"
      ]
     },
     "execution_count": 64,
     "metadata": {},
     "output_type": "execute_result"
    }
   ],
   "source": [
    "data[[\"sales\", \"sales_mil\", \"sales_mil_log\"]]"
   ]
  },
  {
   "cell_type": "code",
   "execution_count": null,
   "metadata": {},
   "outputs": [
    {
     "data": {
      "text/plain": [
       "count    2.151190e+05\n",
       "mean     4.861430e+05\n",
       "std      3.885338e+06\n",
       "min      0.000000e+00\n",
       "25%      5.344444e+03\n",
       "50%      3.055555e+04\n",
       "75%      1.083537e+05\n",
       "max      1.110294e+08\n",
       "Name: sales, dtype: float64"
      ]
     },
     "execution_count": 25,
     "metadata": {},
     "output_type": "execute_result"
    }
   ],
   "source": [
    "data[\"sales\"].describe()"
   ]
  },
  {
   "cell_type": "code",
   "execution_count": null,
   "metadata": {},
   "outputs": [
    {
     "data": {
      "text/plain": [
       "0         11.046943\n",
       "1               NaN\n",
       "2               NaN\n",
       "3          9.316367\n",
       "4          8.671344\n",
       "            ...    \n",
       "417703    15.971726\n",
       "417704          NaN\n",
       "417705          NaN\n",
       "417706    11.969811\n",
       "417707     0.000000\n",
       "Name: ln_sales, Length: 417708, dtype: float64"
      ]
     },
     "execution_count": 26,
     "metadata": {},
     "output_type": "execute_result"
    }
   ],
   "source": [
    "data[\"ln_sales\"]"
   ]
  },
  {
   "cell_type": "code",
   "execution_count": null,
   "metadata": {},
   "outputs": [],
   "source": [
    "data[\"d1_sales_mil_log\"] = data[\"sales_mil_log\"] - data.groupby(\"comp_id\")[\n",
    "    \"sales_mil_log\"\n",
    "].shift(1)\n"
   ]
  },
  {
   "cell_type": "code",
   "execution_count": null,
   "metadata": {},
   "outputs": [],
   "source": [
    "# replace w 0 for new firms + add dummy to capture it\n",
    "data[\"age\"] = np.where(\n",
    "    data[\"year\"] - data[\"founded_year\"] < 0, 0, data[\"year\"] - data[\"founded_year\"]\n",
    ")\n",
    "data[\"new\"] = np.where(\n",
    "    ((data[\"age\"] <= 1) | (data[\"balsheet_notfullyear\"] == 1)),\n",
    "    1,\n",
    "    (np.where(data[\"age\"].isna(), np.nan, 0)),\n",
    ")\n",
    "data[\"d1_sales_mil_log\"] = np.where(\n",
    "    data[\"new\"] == 1, 0, np.where(data[\"new\"].isna(), np.nan, data[\"d1_sales_mil_log\"])\n",
    ")\n",
    "data[\"new\"] = np.where(data[\"d1_sales_mil_log\"].isna(), 1, data[\"new\"])\n",
    "data[\"d1_sales_mil_log\"] = np.where(\n",
    "    data[\"d1_sales_mil_log\"].isna(), 0, data[\"d1_sales_mil_log\"]\n",
    ")\n"
   ]
  },
  {
   "cell_type": "code",
   "execution_count": null,
   "metadata": {},
   "outputs": [
    {
     "data": {
      "text/plain": [
       "count    417708.000000\n",
       "mean          0.704597\n",
       "std           0.456224\n",
       "min           0.000000\n",
       "25%           0.000000\n",
       "50%           1.000000\n",
       "75%           1.000000\n",
       "max           1.000000\n",
       "Name: new, dtype: float64"
      ]
     },
     "execution_count": 67,
     "metadata": {},
     "output_type": "execute_result"
    }
   ],
   "source": [
    "data[\"new\"].describe()"
   ]
  },
  {
   "cell_type": "markdown",
   "metadata": {},
   "source": [
    "# Sample design"
   ]
  },
  {
   "cell_type": "code",
   "execution_count": 68,
   "metadata": {},
   "outputs": [
    {
     "data": {
      "text/plain": [
       "(417708, 51)"
      ]
     },
     "execution_count": 68,
     "metadata": {},
     "output_type": "execute_result"
    }
   ],
   "source": [
    "data.shape"
   ]
  },
  {
   "cell_type": "code",
   "execution_count": null,
   "metadata": {},
   "outputs": [],
   "source": [
    "# look at cross section\n",
    "data = data.query(\"year==2012 & status_alive == 1\")\n",
    "# look at firms below 10m euro revenues and above 1000 euros\n",
    "data = data.query(\"sales_mil<=10 & sales_mil>=0.001\") - will not be doing this for practice"
   ]
  },
  {
   "cell_type": "code",
   "execution_count": 70,
   "metadata": {},
   "outputs": [
    {
     "data": {
      "text/plain": [
       "(22845, 51)"
      ]
     },
     "execution_count": 70,
     "metadata": {},
     "output_type": "execute_result"
    }
   ],
   "source": [
    "data.shape"
   ]
  },
  {
   "cell_type": "code",
   "execution_count": 74,
   "metadata": {},
   "outputs": [
    {
     "data": {
      "text/plain": [
       "year\n",
       "2012    22845\n",
       "Name: count, dtype: int64"
      ]
     },
     "execution_count": 74,
     "metadata": {},
     "output_type": "execute_result"
    }
   ],
   "source": [
    "data[\"year\"].value_counts()"
   ]
  },
  {
   "cell_type": "code",
   "execution_count": 75,
   "metadata": {},
   "outputs": [
    {
     "data": {
      "text/plain": [
       "count    22845.000000\n",
       "mean         0.215277\n",
       "std          0.411023\n",
       "min          0.000000\n",
       "25%          0.000000\n",
       "50%          0.000000\n",
       "75%          0.000000\n",
       "max          1.000000\n",
       "Name: default, dtype: float64"
      ]
     },
     "execution_count": 75,
     "metadata": {},
     "output_type": "execute_result"
    }
   ],
   "source": [
    "data[\"default\"].describe()"
   ]
  },
  {
   "cell_type": "code",
   "execution_count": 76,
   "metadata": {},
   "outputs": [],
   "source": [
    "data.to_csv(\"work6.csv\", index=False)"
   ]
  },
  {
   "cell_type": "markdown",
   "metadata": {},
   "source": [
    "# Feature engineering"
   ]
  },
  {
   "cell_type": "code",
   "execution_count": 3,
   "metadata": {},
   "outputs": [],
   "source": [
    "data = pd.read_csv(\"/workspaces/codespaces-jupyter/data/work6.csv\")"
   ]
  },
  {
   "cell_type": "code",
   "execution_count": 4,
   "metadata": {},
   "outputs": [],
   "source": [
    "# change some industry category codes\n",
    "data[\"ind2_cat\"] = data[\"ind2\"].copy()\n",
    "data[\"ind2_cat\"] = np.where(data[\"ind2\"] > 56, 60, data[\"ind2_cat\"])\n",
    "data[\"ind2_cat\"] = np.where(data[\"ind2\"] < 26, 20, data[\"ind2_cat\"])\n",
    "data[\"ind2_cat\"] = np.where(\n",
    "    (data[\"ind2\"] < 55) & (data[\"ind2\"] > 35), 40, data[\"ind2_cat\"]\n",
    ")\n",
    "data[\"ind2_cat\"] = np.where(data[\"ind2\"] == 31, 30, data[\"ind2_cat\"])\n",
    "data[\"ind2_cat\"] = np.where(data[\"ind2\"].isna(), 99, data[\"ind2_cat\"])\n"
   ]
  },
  {
   "cell_type": "code",
   "execution_count": 5,
   "metadata": {},
   "outputs": [
    {
     "data": {
      "text/plain": [
       "ind2_cat\n",
       "20.0       52\n",
       "26.0     1172\n",
       "27.0      717\n",
       "28.0     2056\n",
       "29.0      358\n",
       "30.0      182\n",
       "32.0      148\n",
       "33.0     2009\n",
       "40.0      223\n",
       "55.0     2443\n",
       "56.0    13219\n",
       "60.0      260\n",
       "99.0        6\n",
       "Name: comp_id, dtype: int64"
      ]
     },
     "execution_count": 5,
     "metadata": {},
     "output_type": "execute_result"
    }
   ],
   "source": [
    "data.groupby(\"ind2_cat\").count()[\"comp_id\"]"
   ]
  },
  {
   "cell_type": "code",
   "execution_count": 6,
   "metadata": {},
   "outputs": [],
   "source": [
    "# Firm characteristics\n",
    "data[\"age2\"] = data[\"age\"] ** 2\n",
    "data[\"foreign_management\"] = np.where(\n",
    "    data[\"foreign\"] >= 0.5, 1, np.where(data[\"foreign\"].isna(), np.nan, 0)\n",
    ")\n",
    "data[\"gender_m\"] = data[\"gender\"].astype(\"category\")\n",
    "data[\"m_region_loc\"] = data[\"region_m\"].astype(\"category\")"
   ]
  },
  {
   "cell_type": "code",
   "execution_count": 7,
   "metadata": {},
   "outputs": [
    {
     "data": {
      "text/plain": [
       "flag_asset_problem\n",
       "0.0    22821\n",
       "1.0       14\n",
       "Name: comp_id, dtype: int64"
      ]
     },
     "execution_count": 7,
     "metadata": {},
     "output_type": "execute_result"
    }
   ],
   "source": [
    "###########################################################\n",
    "# look at more financial variables, create ratios\n",
    "###########################################################\n",
    "\n",
    "# assets can't be negative. Change them to 0 and add a flag.\n",
    "data[\"flag_asset_problem\"] = np.where(\n",
    "    (\n",
    "        (data[\"intang_assets\"] < 0)\n",
    "        | (data[\"curr_assets\"] < 0)\n",
    "        | (data[\"fixed_assets\"] < 0)\n",
    "    ),\n",
    "    1,\n",
    "    0,\n",
    ")\n",
    "data[\"flag_asset_problem\"] = np.where(\n",
    "    (\n",
    "        (data[\"intang_assets\"].isna())\n",
    "        | (data[\"curr_assets\"].isna())\n",
    "        | (data[\"fixed_assets\"].isna())\n",
    "    ),\n",
    "    np.nan,\n",
    "    data[\"flag_asset_problem\"],\n",
    ")\n",
    "data.groupby(\"flag_asset_problem\").count()[\"comp_id\"]\n"
   ]
  },
  {
   "cell_type": "code",
   "execution_count": 8,
   "metadata": {},
   "outputs": [],
   "source": [
    "data[\"intang_assets\"] = np.where(data[\"intang_assets\"] < 0, 0, data[\"intang_assets\"])\n",
    "data[\"curr_assets\"] = np.where(data[\"curr_assets\"] < 0, 0, data[\"curr_assets\"])\n",
    "data[\"fixed_assets\"] = np.where(data[\"fixed_assets\"] < 0, 0, data[\"fixed_assets\"])"
   ]
  },
  {
   "cell_type": "code",
   "execution_count": 9,
   "metadata": {},
   "outputs": [
    {
     "data": {
      "text/plain": [
       "count    2.283500e+04\n",
       "mean     5.233946e+05\n",
       "std      5.523226e+06\n",
       "min      0.000000e+00\n",
       "25%      5.918519e+03\n",
       "50%      2.281852e+04\n",
       "75%      9.340185e+04\n",
       "max      4.918527e+08\n",
       "Name: total_assets_bs, dtype: float64"
      ]
     },
     "execution_count": 9,
     "metadata": {},
     "output_type": "execute_result"
    }
   ],
   "source": [
    "# generate total assets\n",
    "data[\"total_assets_bs\"] = (\n",
    "    data[\"intang_assets\"] + data[\"curr_assets\"] + data[\"fixed_assets\"]\n",
    ")\n",
    "data[\"total_assets_bs\"].describe()"
   ]
  },
  {
   "cell_type": "code",
   "execution_count": 10,
   "metadata": {},
   "outputs": [],
   "source": [
    "# P&L List of variables\n",
    "\n",
    "pl_names = [\n",
    "    \"extra_exp\",\n",
    "    \"extra_inc\",\n",
    "    \"extra_profit_loss\",\n",
    "    \"inc_bef_tax\",\n",
    "    \"inventories\",\n",
    "    \"material_exp\",\n",
    "    \"profit_loss_year\",\n",
    "    \"personnel_exp\",\n",
    "]\n",
    "\n",
    "# Balance Sheet List of variables\n",
    "bs_names = [\n",
    "    \"intang_assets\",\n",
    "    \"curr_liab\",\n",
    "    \"fixed_assets\",\n",
    "    \"liq_assets\",\n",
    "    \"curr_assets\",\n",
    "    \"share_eq\",\n",
    "    \"subscribed_cap\",\n",
    "    \"tang_assets\",\n",
    "]"
   ]
  },
  {
   "cell_type": "code",
   "execution_count": 11,
   "metadata": {},
   "outputs": [],
   "source": [
    "# divide all pl_names elements by sales and create new column for it\n",
    "data[[col + \"_pl\" for col in pl_names]] = data[pl_names].div(\n",
    "    data[\"sales\"], axis=\"index\"\n",
    ")"
   ]
  },
  {
   "cell_type": "code",
   "execution_count": 12,
   "metadata": {},
   "outputs": [],
   "source": [
    "# divide all bs_names elements by total_assets_bs and create new column for it\n",
    "data[[col + \"_bs\" for col in bs_names]] = (\n",
    "    data[bs_names]\n",
    "    .div(data[\"total_assets_bs\"], axis=\"index\")\n",
    "    .replace((np.inf, -np.inf, np.nan), (0, 0, 0))\n",
    ")\n",
    "# get Nan values where total_assets_bs is NaN\n",
    "for col in bs_names:\n",
    "    data[col + \"_bs\"] = np.where(\n",
    "        data[\"total_assets_bs\"].isna(), np.nan, data[col + \"_bs\"]\n",
    "    )"
   ]
  },
  {
   "cell_type": "code",
   "execution_count": 13,
   "metadata": {},
   "outputs": [],
   "source": [
    "########################################################################\n",
    "# creating flags, and winsorizing tails\n",
    "########################################################################\n",
    "\n",
    "# Variables that represent accounting items that cannot be negative (e.g. materials)\n",
    "zero = [\n",
    "    \"extra_exp_pl\",\n",
    "    \"extra_inc_pl\",\n",
    "    \"inventories_pl\",\n",
    "    \"material_exp_pl\",\n",
    "    \"personnel_exp_pl\",\n",
    "    \"curr_liab_bs\",\n",
    "    \"fixed_assets_bs\",\n",
    "    \"liq_assets_bs\",\n",
    "    \"curr_assets_bs\",\n",
    "    \"subscribed_cap_bs\",\n",
    "    \"intang_assets_bs\",\n",
    "]\n",
    "\n",
    "data[[col + \"_flag_high\" for col in zero]] = np.where(\n",
    "    data[zero].isna(), np.nan, (data[zero] > 1).astype(int)\n",
    ")\n",
    "data[[col for col in zero]] = np.where(\n",
    "    data[zero].isna(), np.nan, np.where(data[zero] > 1, 1, data[zero])\n",
    ")\n",
    "data[[col + \"_flag_error\" for col in zero]] = np.where(\n",
    "    data[zero].isna(), np.nan, (data[zero] < 0).astype(int)\n",
    ")\n",
    "data[[col for col in zero]] = np.where(\n",
    "    data[zero].isna(), np.nan, np.where(data[zero] < 0, 0, data[zero])\n",
    ")"
   ]
  },
  {
   "cell_type": "code",
   "execution_count": 14,
   "metadata": {},
   "outputs": [],
   "source": [
    "# for vars that could be any, but are mostly between -1 and 1\n",
    "anyof = [\"extra_profit_loss_pl\", \"inc_bef_tax_pl\", \"profit_loss_year_pl\", \"share_eq_bs\"]\n",
    "\n",
    "data[[col + \"_flag_low\" for col in anyof]] = np.where(\n",
    "    data[anyof].isna(), np.nan, (data[anyof] < -1).astype(int)\n",
    ")\n",
    "data[[col for col in anyof]] = np.where(\n",
    "    data[anyof].isna(), np.nan, np.where((data[anyof] < -1), -1, data[anyof])\n",
    ")\n",
    "data[[col + \"_flag_high\" for col in anyof]] = np.where(\n",
    "    data[anyof].isna(), np.nan, (data[anyof] > 1).astype(int)\n",
    ")\n",
    "data[[col for col in anyof]] = np.where(\n",
    "    data[anyof].isna(), np.nan, np.where((data[anyof] > 1), 1, data[anyof])\n",
    ")\n",
    "data[[col + \"_flag_zero\" for col in anyof]] = np.where(\n",
    "    data[anyof].isna(), np.nan, (data[anyof] == 0).astype(int)\n",
    ")\n",
    "data[[col + \"_quad\" for col in anyof]] = np.where(\n",
    "    data[anyof].isna(), np.nan, data[anyof] ** 2\n",
    ")\n"
   ]
  },
  {
   "cell_type": "code",
   "execution_count": 15,
   "metadata": {},
   "outputs": [],
   "source": [
    "# dropping flags with no variation\n",
    "flag_columns = [col for col in data.columns if \"flag\" in col]\n",
    "data = data.drop(\n",
    "    data[flag_columns].std()[(data[flag_columns].std() == 0)].index, axis=1\n",
    ")"
   ]
  },
  {
   "cell_type": "code",
   "execution_count": 16,
   "metadata": {},
   "outputs": [],
   "source": [
    "########################################################################\n",
    "# additional\n",
    "# including some imputation\n",
    "########################################################################\n",
    "\n",
    "# CEO age\n",
    "data[\"ceo_age\"] = data[\"year\"] - data[\"birth_year\"]\n",
    "data = data.assign(\n",
    "    flag_low_ceo_age=(data[\"ceo_age\"] < 25).astype(int),\n",
    "    flag_high_ceo_age=(data[\"ceo_age\"] > 75).astype(int),\n",
    "    flag_miss_ceo_age=(data[\"ceo_age\"].isna()).astype(int),\n",
    ")\n",
    "\n",
    "\n",
    "data[\"ceo_age\"] = np.where(data[\"ceo_age\"] < 25, 25, data[\"ceo_age\"])\n",
    "data[\"ceo_age\"] = np.where(data[\"ceo_age\"] > 75, 75, data[\"ceo_age\"])\n",
    "data[\"ceo_age\"] = np.where(\n",
    "    data[\"ceo_age\"].isna(), data[\"ceo_age\"].mean(), data[\"ceo_age\"]\n",
    ")\n",
    "data[\"ceo_young\"] = (data[\"ceo_age\"] < 40).astype(int)"
   ]
  },
  {
   "cell_type": "code",
   "execution_count": 17,
   "metadata": {},
   "outputs": [
    {
     "data": {
      "text/plain": [
       "Index(['year', 'comp_id', 'begin', 'end', 'amort', 'curr_assets', 'curr_liab',\n",
       "       'extra_exp', 'extra_inc', 'extra_profit_loss',\n",
       "       ...\n",
       "       'share_eq_bs_flag_zero', 'extra_profit_loss_pl_quad',\n",
       "       'inc_bef_tax_pl_quad', 'profit_loss_year_pl_quad', 'share_eq_bs_quad',\n",
       "       'ceo_age', 'flag_low_ceo_age', 'flag_high_ceo_age', 'flag_miss_ceo_age',\n",
       "       'ceo_young'],\n",
       "      dtype='object', length=111)"
      ]
     },
     "execution_count": 17,
     "metadata": {},
     "output_type": "execute_result"
    }
   ],
   "source": [
    "data.columns"
   ]
  },
  {
   "cell_type": "code",
   "execution_count": 18,
   "metadata": {},
   "outputs": [
    {
     "data": {
      "text/plain": [
       "0             NaN\n",
       "1        0.458333\n",
       "2             NaN\n",
       "3        1.621212\n",
       "4        0.715278\n",
       "           ...   \n",
       "22840    0.121212\n",
       "22841    0.548611\n",
       "22842    0.083333\n",
       "22843    1.840278\n",
       "22844    1.060606\n",
       "Name: labor_avg, Length: 22845, dtype: float64"
      ]
     },
     "execution_count": 18,
     "metadata": {},
     "output_type": "execute_result"
    }
   ],
   "source": [
    "data[\"labor_avg\"]"
   ]
  },
  {
   "cell_type": "code",
   "execution_count": 19,
   "metadata": {},
   "outputs": [],
   "source": [
    "# number emp, very noisy measure\n",
    "data[\"labor_avg_mod\"] = np.where(\n",
    "    data[\"labor_avg\"].isna(), data[\"labor_avg\"].mean(), data[\"labor_avg\"]\n",
    ")\n",
    "data[\"flag_miss_labor_avg\"] = (data[\"labor_avg\"].isna()).astype(int)"
   ]
  },
  {
   "cell_type": "code",
   "execution_count": 20,
   "metadata": {},
   "outputs": [
    {
     "data": {
      "text/plain": [
       "count    19166.000000\n",
       "mean         0.948443\n",
       "std          4.618272\n",
       "min          0.083333\n",
       "25%          0.092593\n",
       "50%          0.226190\n",
       "75%          0.520833\n",
       "max        190.000000\n",
       "Name: labor_avg, dtype: float64"
      ]
     },
     "execution_count": 20,
     "metadata": {},
     "output_type": "execute_result"
    }
   ],
   "source": [
    "data[\"labor_avg\"].describe()"
   ]
  },
  {
   "cell_type": "code",
   "execution_count": 21,
   "metadata": {},
   "outputs": [
    {
     "data": {
      "text/plain": [
       "count    22845.000000\n",
       "mean         0.948443\n",
       "std          4.230073\n",
       "min          0.083333\n",
       "25%          0.125000\n",
       "50%          0.298611\n",
       "75%          0.948443\n",
       "max        190.000000\n",
       "Name: labor_avg_mod, dtype: float64"
      ]
     },
     "execution_count": 21,
     "metadata": {},
     "output_type": "execute_result"
    }
   ],
   "source": [
    "data[\"labor_avg_mod\"].describe()"
   ]
  },
  {
   "cell_type": "code",
   "execution_count": 22,
   "metadata": {},
   "outputs": [],
   "source": [
    "data = data.drop([\"labor_avg\"], axis=1)"
   ]
  },
  {
   "cell_type": "code",
   "execution_count": 23,
   "metadata": {},
   "outputs": [
    {
     "data": {
      "text/plain": [
       "default\n",
       "0    17927\n",
       "1     4918\n",
       "Name: count, dtype: int64"
      ]
     },
     "execution_count": 23,
     "metadata": {},
     "output_type": "execute_result"
    }
   ],
   "source": [
    "data[\"default\"].value_counts()"
   ]
  },
  {
   "cell_type": "code",
   "execution_count": 24,
   "metadata": {},
   "outputs": [
    {
     "data": {
      "text/plain": [
       "count    22845.000000\n",
       "mean         0.215277\n",
       "std          0.411023\n",
       "min          0.000000\n",
       "25%          0.000000\n",
       "50%          0.000000\n",
       "75%          0.000000\n",
       "max          1.000000\n",
       "Name: default, dtype: float64"
      ]
     },
     "execution_count": 24,
     "metadata": {},
     "output_type": "execute_result"
    }
   ],
   "source": [
    "data[\"default\"].describe()"
   ]
  },
  {
   "cell_type": "code",
   "execution_count": 25,
   "metadata": {},
   "outputs": [],
   "source": [
    "# create category type variables\n",
    "data[\"urban_m\"] = data[\"urban_m\"].astype(\"category\")\n",
    "data[\"ind2_cat\"] = data[\"ind2_cat\"].astype(\"category\")\n",
    "data[\"default_f\"] = data[\"default\"].astype(\"category\")\n",
    "data[\"default_f\"] = data[\"default_f\"].cat.rename_categories([\"no_default\", \"default\"])"
   ]
  },
  {
   "cell_type": "code",
   "execution_count": 26,
   "metadata": {},
   "outputs": [],
   "source": [
    "########################################################################\n",
    "# sales\n",
    "########################################################################\n",
    "data[\"sales_mil_log_sq\"] = data[\"sales_mil_log\"] ** 2\n"
   ]
  },
  {
   "cell_type": "code",
   "execution_count": 27,
   "metadata": {},
   "outputs": [
    {
     "data": {
      "image/png": "[encoded data removed]",
      "text/plain": [
       "<Figure size 640x480 with 1 Axes>"
      ]
     },
     "metadata": {},
     "output_type": "display_data"
    }
   ],
   "source": [
    "# Scatter plot\n",
    "plt.scatter(data[\"sales_mil_log\"], data[\"default\"], color=\"blue\", alpha=0.5, label=\"Data Points\")\n",
    "\n",
    "# Linear regression with quadratic term\n",
    "X = data[\"sales_mil_log\"].dropna().values.reshape(-1, 1)\n",
    "y = data[\"default\"].dropna().values\n",
    "poly = PolynomialFeatures(degree=2)\n",
    "X_poly = poly.fit_transform(X)\n",
    "model = LinearRegression().fit(X_poly, y)\n",
    "X_range = np.linspace(X.min(), X.max(), 500).reshape(-1, 1)\n",
    "y_pred = model.predict(poly.transform(X_range))\n",
    "plt.plot(X_range, y_pred, color=\"orange\", label=\"Linear Regression (with x²)\")\n",
    "\n",
    "# LOESS smoothing\n",
    "lowess_result = lowess(y, X.flatten(), frac=0.9)\n",
    "plt.plot(lowess_result[:, 0], lowess_result[:, 1], color=\"green\", linewidth=1.5, label=\"LOESS Smoothing\")\n",
    "\n",
    "# Labels and theme\n",
    "plt.xlabel(\"sales_mil_log\")\n",
    "plt.ylabel(\"default\")\n",
    "plt.legend()\n",
    "plt.grid(True)\n",
    "plt.show()\n"
   ]
  },
  {
   "cell_type": "code",
   "execution_count": 28,
   "metadata": {},
   "outputs": [
    {
     "data": {
      "text/html": [
       "<div>\n",
       "<style scoped>\n",
       "    .dataframe tbody tr th:only-of-type {\n",
       "        vertical-align: middle;\n",
       "    }\n",
       "\n",
       "    .dataframe tbody tr th {\n",
       "        vertical-align: top;\n",
       "    }\n",
       "\n",
       "    .dataframe thead th {\n",
       "        text-align: right;\n",
       "    }\n",
       "</style>\n",
       "<table border=\"1\" class=\"dataframe\">\n",
       "  <thead>\n",
       "    <tr style=\"text-align: right;\">\n",
       "      <th></th>\n",
       "      <th>sales</th>\n",
       "      <th>sales_mil</th>\n",
       "      <th>sales_mil_log</th>\n",
       "    </tr>\n",
       "  </thead>\n",
       "  <tbody>\n",
       "    <tr>\n",
       "      <th>799</th>\n",
       "      <td>105289968.0</td>\n",
       "      <td>105.289968</td>\n",
       "      <td>4.656718</td>\n",
       "    </tr>\n",
       "    <tr>\n",
       "      <th>13210</th>\n",
       "      <td>104126024.0</td>\n",
       "      <td>104.126024</td>\n",
       "      <td>4.645602</td>\n",
       "    </tr>\n",
       "    <tr>\n",
       "      <th>15018</th>\n",
       "      <td>98936480.0</td>\n",
       "      <td>98.936480</td>\n",
       "      <td>4.594478</td>\n",
       "    </tr>\n",
       "    <tr>\n",
       "      <th>8152</th>\n",
       "      <td>88897816.0</td>\n",
       "      <td>88.897816</td>\n",
       "      <td>4.487488</td>\n",
       "    </tr>\n",
       "    <tr>\n",
       "      <th>20125</th>\n",
       "      <td>85951488.0</td>\n",
       "      <td>85.951488</td>\n",
       "      <td>4.453783</td>\n",
       "    </tr>\n",
       "  </tbody>\n",
       "</table>\n",
       "</div>"
      ],
      "text/plain": [
       "             sales   sales_mil  sales_mil_log\n",
       "799    105289968.0  105.289968       4.656718\n",
       "13210  104126024.0  104.126024       4.645602\n",
       "15018   98936480.0   98.936480       4.594478\n",
       "8152    88897816.0   88.897816       4.487488\n",
       "20125   85951488.0   85.951488       4.453783"
      ]
     },
     "execution_count": 28,
     "metadata": {},
     "output_type": "execute_result"
    }
   ],
   "source": [
    "def new_func():\n",
    "    return data.loc[data[\"default\"] == 0, [\"sales\", \"sales_mil\", \"sales_mil_log\"]].assign(\n",
    "        sales=lambda x: x[\"sales\"].round(3)\n",
    "    ).sort_values(by=\"sales\", ascending=False).head()\n",
    "\n",
    "new_func()"
   ]
  },
  {
   "cell_type": "code",
   "execution_count": 29,
   "metadata": {},
   "outputs": [
    {
     "data": {
      "text/html": [
       "<div>\n",
       "<style scoped>\n",
       "    .dataframe tbody tr th:only-of-type {\n",
       "        vertical-align: middle;\n",
       "    }\n",
       "\n",
       "    .dataframe tbody tr th {\n",
       "        vertical-align: top;\n",
       "    }\n",
       "\n",
       "    .dataframe thead th {\n",
       "        text-align: right;\n",
       "    }\n",
       "</style>\n",
       "<table border=\"1\" class=\"dataframe\">\n",
       "  <thead>\n",
       "    <tr style=\"text-align: right;\">\n",
       "      <th></th>\n",
       "      <th>comp_id</th>\n",
       "      <th>default</th>\n",
       "      <th>sales</th>\n",
       "      <th>sales_mil</th>\n",
       "      <th>sales_mil_log</th>\n",
       "    </tr>\n",
       "  </thead>\n",
       "  <tbody>\n",
       "    <tr>\n",
       "      <th>799</th>\n",
       "      <td>6.236877e+08</td>\n",
       "      <td>0</td>\n",
       "      <td>105289968.0</td>\n",
       "      <td>105.289968</td>\n",
       "      <td>4.656718</td>\n",
       "    </tr>\n",
       "    <tr>\n",
       "      <th>13210</th>\n",
       "      <td>1.532003e+11</td>\n",
       "      <td>0</td>\n",
       "      <td>104126024.0</td>\n",
       "      <td>104.126024</td>\n",
       "      <td>4.645602</td>\n",
       "    </tr>\n",
       "    <tr>\n",
       "      <th>15018</th>\n",
       "      <td>1.979482e+11</td>\n",
       "      <td>0</td>\n",
       "      <td>98936480.0</td>\n",
       "      <td>98.936480</td>\n",
       "      <td>4.594478</td>\n",
       "    </tr>\n",
       "    <tr>\n",
       "      <th>8152</th>\n",
       "      <td>5.827688e+10</td>\n",
       "      <td>0</td>\n",
       "      <td>88897816.0</td>\n",
       "      <td>88.897816</td>\n",
       "      <td>4.487488</td>\n",
       "    </tr>\n",
       "    <tr>\n",
       "      <th>20125</th>\n",
       "      <td>3.596180e+11</td>\n",
       "      <td>0</td>\n",
       "      <td>85951488.0</td>\n",
       "      <td>85.951488</td>\n",
       "      <td>4.453783</td>\n",
       "    </tr>\n",
       "  </tbody>\n",
       "</table>\n",
       "</div>"
      ],
      "text/plain": [
       "            comp_id  default        sales   sales_mil  sales_mil_log\n",
       "799    6.236877e+08        0  105289968.0  105.289968       4.656718\n",
       "13210  1.532003e+11        0  104126024.0  104.126024       4.645602\n",
       "15018  1.979482e+11        0   98936480.0   98.936480       4.594478\n",
       "8152   5.827688e+10        0   88897816.0   88.897816       4.487488\n",
       "20125  3.596180e+11        0   85951488.0   85.951488       4.453783"
      ]
     },
     "execution_count": 29,
     "metadata": {},
     "output_type": "execute_result"
    }
   ],
   "source": [
    "def new_func():\n",
    "    return data.loc[data[\"default\"] == 0, [\"comp_id\",\"default\", \"sales\", \"sales_mil\", \"sales_mil_log\"]].assign(\n",
    "        sales=lambda x: x[\"sales\"].round(3)\n",
    "    ).sort_values(by=\"sales\", ascending=False).head()\n",
    "\n",
    "new_func()"
   ]
  },
  {
   "cell_type": "code",
   "execution_count": 30,
   "metadata": {},
   "outputs": [
    {
     "data": {
      "text/html": [
       "<div>\n",
       "<style scoped>\n",
       "    .dataframe tbody tr th:only-of-type {\n",
       "        vertical-align: middle;\n",
       "    }\n",
       "\n",
       "    .dataframe tbody tr th {\n",
       "        vertical-align: top;\n",
       "    }\n",
       "\n",
       "    .dataframe thead th {\n",
       "        text-align: right;\n",
       "    }\n",
       "</style>\n",
       "<table border=\"1\" class=\"dataframe\">\n",
       "  <thead>\n",
       "    <tr style=\"text-align: right;\">\n",
       "      <th></th>\n",
       "      <th>comp_id</th>\n",
       "      <th>default</th>\n",
       "      <th>sales</th>\n",
       "      <th>sales_mil</th>\n",
       "      <th>sales_mil_log</th>\n",
       "    </tr>\n",
       "  </thead>\n",
       "  <tbody>\n",
       "    <tr>\n",
       "      <th>799</th>\n",
       "      <td>6.236877e+08</td>\n",
       "      <td>0</td>\n",
       "      <td>105289968.0</td>\n",
       "      <td>105.289968</td>\n",
       "      <td>4.656718</td>\n",
       "    </tr>\n",
       "    <tr>\n",
       "      <th>13210</th>\n",
       "      <td>1.532003e+11</td>\n",
       "      <td>0</td>\n",
       "      <td>104126024.0</td>\n",
       "      <td>104.126024</td>\n",
       "      <td>4.645602</td>\n",
       "    </tr>\n",
       "    <tr>\n",
       "      <th>15018</th>\n",
       "      <td>1.979482e+11</td>\n",
       "      <td>0</td>\n",
       "      <td>98936480.0</td>\n",
       "      <td>98.936480</td>\n",
       "      <td>4.594478</td>\n",
       "    </tr>\n",
       "    <tr>\n",
       "      <th>8152</th>\n",
       "      <td>5.827688e+10</td>\n",
       "      <td>0</td>\n",
       "      <td>88897816.0</td>\n",
       "      <td>88.897816</td>\n",
       "      <td>4.487488</td>\n",
       "    </tr>\n",
       "    <tr>\n",
       "      <th>20125</th>\n",
       "      <td>3.596180e+11</td>\n",
       "      <td>0</td>\n",
       "      <td>85951488.0</td>\n",
       "      <td>85.951488</td>\n",
       "      <td>4.453783</td>\n",
       "    </tr>\n",
       "  </tbody>\n",
       "</table>\n",
       "</div>"
      ],
      "text/plain": [
       "            comp_id  default        sales   sales_mil  sales_mil_log\n",
       "799    6.236877e+08        0  105289968.0  105.289968       4.656718\n",
       "13210  1.532003e+11        0  104126024.0  104.126024       4.645602\n",
       "15018  1.979482e+11        0   98936480.0   98.936480       4.594478\n",
       "8152   5.827688e+10        0   88897816.0   88.897816       4.487488\n",
       "20125  3.596180e+11        0   85951488.0   85.951488       4.453783"
      ]
     },
     "execution_count": 30,
     "metadata": {},
     "output_type": "execute_result"
    }
   ],
   "source": [
    "def new_func():\n",
    "    return data.loc[data[\"default\"] == 0, [\"comp_id\",\"default\", \"sales\", \"sales_mil\", \"sales_mil_log\"]].assign(\n",
    "        sales=lambda x: x[\"sales\"].round(3)\n",
    "    ).sort_values(by=\"sales\", ascending=False).head()\n",
    "\n",
    "new_func()"
   ]
  },
  {
   "cell_type": "code",
   "execution_count": 31,
   "metadata": {},
   "outputs": [
    {
     "data": {
      "text/html": [
       "<div>\n",
       "<style scoped>\n",
       "    .dataframe tbody tr th:only-of-type {\n",
       "        vertical-align: middle;\n",
       "    }\n",
       "\n",
       "    .dataframe tbody tr th {\n",
       "        vertical-align: top;\n",
       "    }\n",
       "\n",
       "    .dataframe thead th {\n",
       "        text-align: right;\n",
       "    }\n",
       "</style>\n",
       "<table border=\"1\" class=\"dataframe\">\n",
       "  <thead>\n",
       "    <tr style=\"text-align: right;\">\n",
       "      <th></th>\n",
       "      <th>sales</th>\n",
       "      <th>sales_mil</th>\n",
       "      <th>sales_mil_log</th>\n",
       "      <th>default</th>\n",
       "      <th>status_alive</th>\n",
       "    </tr>\n",
       "  </thead>\n",
       "  <tbody>\n",
       "    <tr>\n",
       "      <th>799</th>\n",
       "      <td>105289968.0</td>\n",
       "      <td>105.289968</td>\n",
       "      <td>4.656718</td>\n",
       "      <td>0</td>\n",
       "      <td>1</td>\n",
       "    </tr>\n",
       "  </tbody>\n",
       "</table>\n",
       "</div>"
      ],
      "text/plain": [
       "           sales   sales_mil  sales_mil_log  default  status_alive\n",
       "799  105289968.0  105.289968       4.656718        0             1"
      ]
     },
     "execution_count": 31,
     "metadata": {},
     "output_type": "execute_result"
    }
   ],
   "source": [
    "data.loc[data[\"comp_id\"] == 623687744.0, [\"sales\", \"sales_mil\", \"sales_mil_log\", \"default\", \"status_alive\"]]"
   ]
  },
  {
   "cell_type": "code",
   "execution_count": 32,
   "metadata": {},
   "outputs": [
    {
     "data": {
      "text/plain": [
       "178"
      ]
     },
     "execution_count": 32,
     "metadata": {},
     "output_type": "execute_result"
    }
   ],
   "source": [
    "len(data.loc[(data[\"default\"] == 0) & (data[\"sales_mil_log\"] > 2.5), [\"sales\", \"sales_mil\", \"sales_mil_log\"]])"
   ]
  },
  {
   "cell_type": "code",
   "execution_count": 33,
   "metadata": {},
   "outputs": [
    {
     "data": {
      "text/plain": [
       "1174"
      ]
     },
     "execution_count": 33,
     "metadata": {},
     "output_type": "execute_result"
    }
   ],
   "source": [
    "len(data.loc[(data[\"default\"] == 0) & (data[\"sales_mil_log\"] > 0 & (data[\"sales_mil_log\"] < 2.5)), [\"sales\", \"sales_mil\", \"sales_mil_log\"]])"
   ]
  },
  {
   "cell_type": "code",
   "execution_count": 34,
   "metadata": {},
   "outputs": [
    {
     "data": {
      "text/html": [
       "<div>\n",
       "<style scoped>\n",
       "    .dataframe tbody tr th:only-of-type {\n",
       "        vertical-align: middle;\n",
       "    }\n",
       "\n",
       "    .dataframe tbody tr th {\n",
       "        vertical-align: top;\n",
       "    }\n",
       "\n",
       "    .dataframe thead th {\n",
       "        text-align: right;\n",
       "    }\n",
       "</style>\n",
       "<table border=\"1\" class=\"dataframe\">\n",
       "  <thead>\n",
       "    <tr style=\"text-align: right;\">\n",
       "      <th></th>\n",
       "      <th>comp_id</th>\n",
       "      <th>default</th>\n",
       "      <th>sales</th>\n",
       "      <th>sales_mil</th>\n",
       "      <th>sales_mil_log</th>\n",
       "    </tr>\n",
       "  </thead>\n",
       "  <tbody>\n",
       "    <tr>\n",
       "      <th>count</th>\n",
       "      <td>1.792700e+04</td>\n",
       "      <td>17927.0</td>\n",
       "      <td>1.792700e+04</td>\n",
       "      <td>17927.000000</td>\n",
       "      <td>17927.000000</td>\n",
       "    </tr>\n",
       "    <tr>\n",
       "      <th>mean</th>\n",
       "      <td>1.540340e+11</td>\n",
       "      <td>0.0</td>\n",
       "      <td>5.939393e+05</td>\n",
       "      <td>0.593939</td>\n",
       "      <td>-2.952293</td>\n",
       "    </tr>\n",
       "    <tr>\n",
       "      <th>std</th>\n",
       "      <td>1.380195e+11</td>\n",
       "      <td>0.0</td>\n",
       "      <td>3.839371e+06</td>\n",
       "      <td>3.839371</td>\n",
       "      <td>1.979384</td>\n",
       "    </tr>\n",
       "    <tr>\n",
       "      <th>min</th>\n",
       "      <td>1.001541e+06</td>\n",
       "      <td>0.0</td>\n",
       "      <td>3.704000e+00</td>\n",
       "      <td>0.000004</td>\n",
       "      <td>-12.506177</td>\n",
       "    </tr>\n",
       "    <tr>\n",
       "      <th>25%</th>\n",
       "      <td>2.907700e+10</td>\n",
       "      <td>0.0</td>\n",
       "      <td>1.668889e+04</td>\n",
       "      <td>0.016689</td>\n",
       "      <td>-4.093012</td>\n",
       "    </tr>\n",
       "    <tr>\n",
       "      <th>50%</th>\n",
       "      <td>1.152356e+11</td>\n",
       "      <td>0.0</td>\n",
       "      <td>5.082222e+04</td>\n",
       "      <td>0.050822</td>\n",
       "      <td>-2.979422</td>\n",
       "    </tr>\n",
       "    <tr>\n",
       "      <th>75%</th>\n",
       "      <td>2.587703e+11</td>\n",
       "      <td>0.0</td>\n",
       "      <td>1.589056e+05</td>\n",
       "      <td>0.158906</td>\n",
       "      <td>-1.839445</td>\n",
       "    </tr>\n",
       "    <tr>\n",
       "      <th>max</th>\n",
       "      <td>4.641050e+11</td>\n",
       "      <td>0.0</td>\n",
       "      <td>1.052900e+08</td>\n",
       "      <td>105.289968</td>\n",
       "      <td>4.656718</td>\n",
       "    </tr>\n",
       "  </tbody>\n",
       "</table>\n",
       "</div>"
      ],
      "text/plain": [
       "            comp_id  default         sales     sales_mil  sales_mil_log\n",
       "count  1.792700e+04  17927.0  1.792700e+04  17927.000000   17927.000000\n",
       "mean   1.540340e+11      0.0  5.939393e+05      0.593939      -2.952293\n",
       "std    1.380195e+11      0.0  3.839371e+06      3.839371       1.979384\n",
       "min    1.001541e+06      0.0  3.704000e+00      0.000004     -12.506177\n",
       "25%    2.907700e+10      0.0  1.668889e+04      0.016689      -4.093012\n",
       "50%    1.152356e+11      0.0  5.082222e+04      0.050822      -2.979422\n",
       "75%    2.587703e+11      0.0  1.589056e+05      0.158906      -1.839445\n",
       "max    4.641050e+11      0.0  1.052900e+08    105.289968       4.656718"
      ]
     },
     "execution_count": 34,
     "metadata": {},
     "output_type": "execute_result"
    }
   ],
   "source": [
    "def new_func():\n",
    "    return data.loc[data[\"default\"] == 0, [\"comp_id\", \"default\", \"sales\", \"sales_mil\", \"sales_mil_log\"]].assign(\n",
    "        sales=lambda x: x[\"sales\"].round(3)\n",
    "    ).describe()\n",
    "\n",
    "new_func()"
   ]
  },
  {
   "cell_type": "code",
   "execution_count": 35,
   "metadata": {},
   "outputs": [
    {
     "data": {
      "text/html": [
       "<div>\n",
       "<style scoped>\n",
       "    .dataframe tbody tr th:only-of-type {\n",
       "        vertical-align: middle;\n",
       "    }\n",
       "\n",
       "    .dataframe tbody tr th {\n",
       "        vertical-align: top;\n",
       "    }\n",
       "\n",
       "    .dataframe thead th {\n",
       "        text-align: right;\n",
       "    }\n",
       "</style>\n",
       "<table border=\"1\" class=\"dataframe\">\n",
       "  <thead>\n",
       "    <tr style=\"text-align: right;\">\n",
       "      <th></th>\n",
       "      <th>comp_id</th>\n",
       "      <th>default</th>\n",
       "      <th>sales</th>\n",
       "      <th>sales_mil</th>\n",
       "      <th>sales_mil_log</th>\n",
       "    </tr>\n",
       "  </thead>\n",
       "  <tbody>\n",
       "    <tr>\n",
       "      <th>count</th>\n",
       "      <td>4.918000e+03</td>\n",
       "      <td>4918.0</td>\n",
       "      <td>4.918000e+03</td>\n",
       "      <td>4918.000000</td>\n",
       "      <td>4918.000000</td>\n",
       "    </tr>\n",
       "    <tr>\n",
       "      <th>mean</th>\n",
       "      <td>1.529940e+11</td>\n",
       "      <td>1.0</td>\n",
       "      <td>2.705881e+05</td>\n",
       "      <td>0.270588</td>\n",
       "      <td>-4.281443</td>\n",
       "    </tr>\n",
       "    <tr>\n",
       "      <th>std</th>\n",
       "      <td>1.379960e+11</td>\n",
       "      <td>0.0</td>\n",
       "      <td>3.948041e+06</td>\n",
       "      <td>3.948041</td>\n",
       "      <td>1.952725</td>\n",
       "    </tr>\n",
       "    <tr>\n",
       "      <th>min</th>\n",
       "      <td>1.003200e+06</td>\n",
       "      <td>1.0</td>\n",
       "      <td>3.704000e+00</td>\n",
       "      <td>0.000004</td>\n",
       "      <td>-12.506177</td>\n",
       "    </tr>\n",
       "    <tr>\n",
       "      <th>25%</th>\n",
       "      <td>2.834276e+10</td>\n",
       "      <td>1.0</td>\n",
       "      <td>4.538889e+03</td>\n",
       "      <td>0.004539</td>\n",
       "      <td>-5.395075</td>\n",
       "    </tr>\n",
       "    <tr>\n",
       "      <th>50%</th>\n",
       "      <td>1.136436e+11</td>\n",
       "      <td>1.0</td>\n",
       "      <td>1.565185e+04</td>\n",
       "      <td>0.015652</td>\n",
       "      <td>-4.157166</td>\n",
       "    </tr>\n",
       "    <tr>\n",
       "      <th>75%</th>\n",
       "      <td>2.572682e+11</td>\n",
       "      <td>1.0</td>\n",
       "      <td>4.403426e+04</td>\n",
       "      <td>0.044034</td>\n",
       "      <td>-3.122788</td>\n",
       "    </tr>\n",
       "    <tr>\n",
       "      <th>max</th>\n",
       "      <td>4.638292e+11</td>\n",
       "      <td>1.0</td>\n",
       "      <td>1.058662e+08</td>\n",
       "      <td>105.866208</td>\n",
       "      <td>4.662176</td>\n",
       "    </tr>\n",
       "  </tbody>\n",
       "</table>\n",
       "</div>"
      ],
      "text/plain": [
       "            comp_id  default         sales    sales_mil  sales_mil_log\n",
       "count  4.918000e+03   4918.0  4.918000e+03  4918.000000    4918.000000\n",
       "mean   1.529940e+11      1.0  2.705881e+05     0.270588      -4.281443\n",
       "std    1.379960e+11      0.0  3.948041e+06     3.948041       1.952725\n",
       "min    1.003200e+06      1.0  3.704000e+00     0.000004     -12.506177\n",
       "25%    2.834276e+10      1.0  4.538889e+03     0.004539      -5.395075\n",
       "50%    1.136436e+11      1.0  1.565185e+04     0.015652      -4.157166\n",
       "75%    2.572682e+11      1.0  4.403426e+04     0.044034      -3.122788\n",
       "max    4.638292e+11      1.0  1.058662e+08   105.866208       4.662176"
      ]
     },
     "execution_count": 35,
     "metadata": {},
     "output_type": "execute_result"
    }
   ],
   "source": [
    "def new_func():\n",
    "    return data.loc[data[\"default\"] == 1, [\"comp_id\", \"default\", \"sales\", \"sales_mil\", \"sales_mil_log\"]].assign(\n",
    "        sales=lambda x: x[\"sales\"].round(3)\n",
    "    ).describe()\n",
    "\n",
    "new_func()"
   ]
  },
  {
   "cell_type": "code",
   "execution_count": 36,
   "metadata": {},
   "outputs": [
    {
     "name": "stdout",
     "output_type": "stream",
     "text": [
      "                            OLS Regression Results                            \n",
      "==============================================================================\n",
      "Dep. Variable:                default   R-squared:                       0.073\n",
      "Model:                            OLS   Adj. R-squared:                  0.073\n",
      "Method:                 Least Squares   F-statistic:                     905.2\n",
      "Date:                Sat, 16 Aug 2025   Prob (F-statistic):               0.00\n",
      "Time:                        23:45:41   Log-Likelihood:                -11232.\n",
      "No. Observations:               22845   AIC:                         2.247e+04\n",
      "Df Residuals:                   22842   BIC:                         2.249e+04\n",
      "Df Model:                           2                                         \n",
      "Covariance Type:            nonrobust                                         \n",
      "====================================================================================\n",
      "                       coef    std err          t      P>|t|      [0.025      0.975]\n",
      "------------------------------------------------------------------------------------\n",
      "Intercept            0.0582      0.005     10.857      0.000       0.048       0.069\n",
      "sales_mil_log       -0.0368      0.003    -14.283      0.000      -0.042      -0.032\n",
      "sales_mil_log_sq     0.0026      0.000      7.483      0.000       0.002       0.003\n",
      "==============================================================================\n",
      "Omnibus:                     3693.943   Durbin-Watson:                   2.000\n",
      "Prob(Omnibus):                  0.000   Jarque-Bera (JB):             5863.931\n",
      "Skew:                           1.241   Prob(JB):                         0.00\n",
      "Kurtosis:                       2.992   Cond. No.                         47.1\n",
      "==============================================================================\n",
      "\n",
      "Notes:\n",
      "[1] Standard Errors assume that the covariance matrix of the errors is correctly specified.\n"
     ]
    }
   ],
   "source": [
    "# Linear regressions\n",
    "ols_s = smf.ols(\"default ~ sales_mil_log + sales_mil_log_sq\", data=data).fit()\n",
    "print(ols_s.summary())\n"
   ]
  },
  {
   "cell_type": "code",
   "execution_count": 37,
   "metadata": {},
   "outputs": [
    {
     "data": {
      "text/plain": [
       "count    22845.000000\n",
       "mean        -0.129744\n",
       "std          1.006222\n",
       "min        -12.506177\n",
       "25%         -0.167302\n",
       "50%          0.000000\n",
       "75%          0.095806\n",
       "max          8.522544\n",
       "Name: d1_sales_mil_log, dtype: float64"
      ]
     },
     "execution_count": 37,
     "metadata": {},
     "output_type": "execute_result"
    }
   ],
   "source": [
    "########################################################################\n",
    "# sales change\n",
    "########################################################################\n",
    "# Note: graphs not in book\n",
    "\n",
    "# lowess\n",
    "data[\"d1_sales_mil_log\"].describe()\n"
   ]
  },
  {
   "cell_type": "code",
   "execution_count": 38,
   "metadata": {},
   "outputs": [
    {
     "name": "stderr",
     "output_type": "stream",
     "text": [
      "/usr/local/python/3.12.1/lib/python3.12/site-packages/plotnine/layer.py:364: PlotnineWarning: geom_point : Removed 143 rows containing missing values.\n"
     ]
    },
    {
     "data": {
      "image/png": "[encoded data removed]"
     },
     "metadata": {
      "image/png": {
       "height": 480,
       "width": 640
      }
     },
     "output_type": "display_data"
    }
   ],
   "source": [
    "(\n",
    "    ggplot(data, aes(x=\"d1_sales_mil_log\", y=\"default\"))\n",
    "    + geom_point(color=\"blue\")\n",
    "    + geom_smooth(method=\"loess\", color=\"green\", se=False, size=1.5, span=0.9)\n",
    "    + labs(x=\"Growth rate (Diff of ln sales)\", y=\"default\")\n",
    "    + scale_x_continuous(limits=(-6, 10), breaks=np.arange(-5, 10, 5))\n",
    "    + theme_bw()\n",
    ")\n"
   ]
  },
  {
   "cell_type": "code",
   "execution_count": 39,
   "metadata": {},
   "outputs": [
    {
     "name": "stderr",
     "output_type": "stream",
     "text": [
      "/usr/local/python/3.12.1/lib/python3.12/site-packages/statsmodels/nonparametric/smoothers_lowess.py:226: RuntimeWarning: invalid value encountered in divide\n"
     ]
    },
    {
     "data": {
      "image/png": "[encoded data removed]",
      "text/plain": [
       "<Figure size 1000x600 with 1 Axes>"
      ]
     },
     "metadata": {},
     "output_type": "display_data"
    }
   ],
   "source": [
    "from statsmodels.nonparametric.smoothers_lowess import lowess\n",
    "\n",
    "# Drop NaNs explicitly\n",
    "df = data[[\"d1_sales_mil_log\", \"default\"]].dropna()\n",
    "\n",
    "# Try smaller span\n",
    "lowess_result = lowess(df[\"default\"], df[\"d1_sales_mil_log\"], frac=0.2)\n",
    "\n",
    "plt.figure(figsize=(10, 6))\n",
    "plt.scatter(df[\"d1_sales_mil_log\"], df[\"default\"], color=\"blue\", alpha=0.2, s=10, label=\"Data Points\")\n",
    "plt.plot(lowess_result[:, 0], lowess_result[:, 1], color=\"green\", linewidth=2, label=\"LOESS Smoothing\")\n",
    "plt.xlabel(\"Growth rate (Diff of ln sales)\")\n",
    "plt.ylabel(\"default\")\n",
    "plt.xlim(-6, 10)\n",
    "plt.xticks(np.arange(-5, 10, 5))\n",
    "plt.grid(True)\n",
    "plt.legend()\n",
    "plt.show()"
   ]
  },
  {
   "cell_type": "code",
   "execution_count": 40,
   "metadata": {},
   "outputs": [
    {
     "data": {
      "image/png": "[encoded data removed]",
      "text/plain": [
       "<Figure size 1000x600 with 1 Axes>"
      ]
     },
     "metadata": {},
     "output_type": "display_data"
    }
   ],
   "source": [
    "import seaborn as sns\n",
    "from statsmodels.nonparametric.smoothers_lowess import lowess\n",
    "\n",
    "# Scatter plot\n",
    "plt.figure(figsize=(10, 6))\n",
    "sns.scatterplot(x=\"d1_sales_mil_log\", y=\"default\", data=data, color=\"blue\", alpha=0.5, label=\"Data Points\")\n",
    "\n",
    "# Calculate LOESS smoothing\n",
    "lowess_result = lowess(data[\"default\"], data[\"d1_sales_mil_log\"], frac=0.9)\n",
    "\n",
    "# Plot LOESS smoothing\n",
    "plt.plot(lowess_result[:, 0], lowess_result[:, 1], color=\"green\", linewidth=1.5, label=\"LOESS Smoothing\")\n",
    "\n",
    "# Labels and theme\n",
    "plt.xlabel(\"Growth rate (Diff of ln sales)\")\n",
    "plt.ylabel(\"default\")\n",
    "plt.xlim(-6, 10)\n",
    "plt.xticks(np.arange(-5, 10, 5))\n",
    "plt.grid(True)\n",
    "plt.legend()\n",
    "plt.show()\n"
   ]
  },
  {
   "cell_type": "code",
   "execution_count": 41,
   "metadata": {},
   "outputs": [],
   "source": [
    "# generate variables ---------------------------------------------------\n",
    "\n",
    "data[\"flag_low_d1_sales_mil_log\"] = np.where(data[\"d1_sales_mil_log\"] < -1.5, 1, 0)\n",
    "data[\"flag_high_d1_sales_mil_log\"] = np.where(data[\"d1_sales_mil_log\"] > 1.5, 1, 0)\n",
    "data[\"d1_sales_mil_log_mod\"] = np.where(\n",
    "    data[\"d1_sales_mil_log\"] < -1.5,\n",
    "    -1.5,\n",
    "    np.where(data[\"d1_sales_mil_log\"] > 1.5, 1.5, data[\"d1_sales_mil_log\"]),\n",
    ")\n",
    "data[\"d1_sales_mil_log_mod_sq\"] = data[\"d1_sales_mil_log_mod\"] ** 2\n"
   ]
  },
  {
   "cell_type": "code",
   "execution_count": 42,
   "metadata": {},
   "outputs": [],
   "source": [
    "# no more imputation, drop obs if key vars missing\n",
    "data = data.dropna(subset=[\"liq_assets_bs\", \"foreign\", \"ind\"])\n"
   ]
  },
  {
   "cell_type": "code",
   "execution_count": 43,
   "metadata": {},
   "outputs": [
    {
     "data": {
      "text/plain": [
       "count    19942.000000\n",
       "mean         8.705747\n",
       "std          6.939425\n",
       "min          0.000000\n",
       "25%          2.000000\n",
       "50%          7.000000\n",
       "75%         15.000000\n",
       "max         34.000000\n",
       "Name: age, dtype: float64"
      ]
     },
     "execution_count": 43,
     "metadata": {},
     "output_type": "execute_result"
    }
   ],
   "source": [
    "# drop missing\n",
    "data = data.dropna(subset=[\"age\", \"foreign\", \"material_exp_pl\", \"m_region_loc\"])\n",
    "data[\"age\"].describe()\n"
   ]
  },
  {
   "cell_type": "code",
   "execution_count": 44,
   "metadata": {},
   "outputs": [],
   "source": [
    "# drop unused factor levels\n",
    "for col in data.select_dtypes(include=[\"category\"]).columns:\n",
    "    data[col] = data[col].cat.remove_unused_categories()\n"
   ]
  },
  {
   "cell_type": "code",
   "execution_count": 45,
   "metadata": {},
   "outputs": [
    {
     "name": "stderr",
     "output_type": "stream",
     "text": [
      "/usr/local/python/3.12.1/lib/python3.12/site-packages/plotnine/layer.py:364: PlotnineWarning: geom_point : Removed 1437 rows containing missing values.\n"
     ]
    },
    {
     "data": {
      "image/png": "[encoded data removed]"
     },
     "metadata": {
      "image/png": {
       "height": 480,
       "width": 640
      }
     },
     "output_type": "display_data"
    }
   ],
   "source": [
    "(\n",
    "    ggplot(data, aes(x=\"d1_sales_mil_log\", y=\"default\"))\n",
    "    + geom_point(size=0.1, color=\"blue\")\n",
    "    + geom_smooth(method=\"loess\", color=\"green\", se=False, size=1.5, span=0.9)\n",
    "    + labs(x=\"Growth rate (Diff of ln sales)\", y=\"default\")\n",
    "    + scale_x_continuous(limits=(-1.5, 1.5), breaks=np.arange(-1.5, 1.5,0.5))\n",
    "    + theme_bw()\n",
    ")\n"
   ]
  },
  {
   "cell_type": "code",
   "execution_count": 49,
   "metadata": {},
   "outputs": [
    {
     "name": "stderr",
     "output_type": "stream",
     "text": [
      "/usr/local/python/3.12.1/lib/python3.12/site-packages/plotnine/layer.py:364: PlotnineWarning: geom_point : Removed 235 rows containing missing values.\n"
     ]
    },
    {
     "data": {
      "image/png": "[encoded data removed]"
     },
     "metadata": {
      "image/png": {
       "height": 480,
       "width": 640
      }
     },
     "output_type": "display_data"
    }
   ],
   "source": [
    "(\n",
    "    ggplot(data, aes(x=\"d1_sales_mil_log\", y=\"d1_sales_mil_log_mod\"))\n",
    "    + geom_point(size=0.1, color=\"blue\")\n",
    "    + labs(\n",
    "        x=\"Growth rate (Diff of ln sales) (original)\",\n",
    "        y=\"Growth rate (Diff of ln sales) (winsorized)\",\n",
    "    )\n",
    "    + scale_x_continuous(limits=(-5, 5), breaks=np.arange(-5, 5, 1))\n",
    "    + scale_y_continuous(limits=(-3, 3), breaks=np.arange(-3, 3, 1))\n",
    "    + theme_bw()\n",
    ")\n"
   ]
  },
  {
   "cell_type": "code",
   "execution_count": 50,
   "metadata": {},
   "outputs": [],
   "source": [
    "data.to_csv(\"bisnode_firms_clean2.csv\", index=False)"
   ]
  }
 ],
 "metadata": {
  "kernelspec": {
   "display_name": "Python 3",
   "language": "python",
   "name": "python3"
  },
  "language_info": {
   "codemirror_mode": {
    "name": "ipython",
    "version": 3
   },
   "file_extension": ".py",
   "mimetype": "text/x-python",
   "name": "python",
   "nbconvert_exporter": "python",
   "pygments_lexer": "ipython3",
   "version": "3.12.1"
  }
 },
 "nbformat": 4,
 "nbformat_minor": 2
}
