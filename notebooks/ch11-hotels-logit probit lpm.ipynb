{
 "cells": [
  {
   "cell_type": "code",
   "execution_count": null,
   "metadata": {},
   "outputs": [],
   "source": []
  },
  {
   "cell_type": "markdown",
   "metadata": {},
   "source": [
    "#### Prepared for Gabor's Data Analysis\n",
    "\n",
    "### Data Analysis for Business, Economics, and Policy\n",
    "by Gabor Bekes and Gabor Kezdi\n",
    " \n",
    "Cambridge University Press 2021\n",
    "\n",
    "**[gabors-data-analysis.com ](https://gabors-data-analysis.com/)**\n",
    "\n",
    " License: Free to share, modify and use for educational purposes. \n",
    " Not to be used for commercial purposes.\n",
    "\n",
    "### Chapter 10\n",
    "**CH10B Finding a good deal among hotels with multiple regression**\n",
    "\n",
    "using the hotels-vienna dataset\n",
    "\n",
    "version 1.0 2021-05-05"
   ]
  },
  {
   "cell_type": "code",
   "execution_count": null,
   "metadata": {},
   "outputs": [],
   "source": [
    "import os\n",
    "from pathlib import Path\n",
    "import sys\n",
    "import warnings\n",
    "\n",
    "import numpy as np\n",
    "import pandas as pd\n",
    "from mizani.formatters import percent_format\n",
    "from plotnine import *\n",
    "from patsy import dmatrices\n",
    "import statsmodels.api as sm\n",
    "import statsmodels.formula.api as smf\n",
    "from stargazer.stargazer import Stargazer\n",
    "from IPython.core.display import HTML\n",
    "\n",
    "import seaborn as sns\n",
    "import matplotlib.pyplot as plt\n",
    "\n",
    "warnings.filterwarnings(\"ignore\")\n"
   ]
  },
  {
   "cell_type": "code",
   "execution_count": 44,
   "metadata": {},
   "outputs": [],
   "source": [
    "hotels = pd.read_csv(os.path.join(\"/workspaces/codespaces-jupyter/data/hotels-europe_features.csv\"))\n",
    "price = pd.read_csv(os.path.join(\"/workspaces/codespaces-jupyter/data/hotels-europe_price.csv\"))\n",
    "hotels = hotels.merge(price, on=\"hotel_id\", how=\"left\")"
   ]
  },
  {
   "cell_type": "code",
   "execution_count": 45,
   "metadata": {},
   "outputs": [
    {
     "data": {
      "text/plain": [
       "accommodation_type\n",
       "Hotel                  100722\n",
       "Apartment               16992\n",
       "Guest House              9927\n",
       "Bed and breakfast        6316\n",
       "Hostel                   6226\n",
       "Apart-hotel              3672\n",
       "Vacation home Condo      1536\n",
       "Pension                  1084\n",
       "Inn                      1010\n",
       "Country House              89\n",
       "Palace                     67\n",
       "Villa                      64\n",
       "Caravan Park               60\n",
       "Resort                     60\n",
       "House boat                 31\n",
       "Pousada                    28\n",
       "Motel                      25\n",
       "Cabin / Lodge              14\n",
       "Cottage                    12\n",
       "Chalet                     11\n",
       "All inclusive               5\n",
       "Castle                      5\n",
       "Name: count, dtype: int64"
      ]
     },
     "execution_count": 45,
     "metadata": {},
     "output_type": "execute_result"
    }
   ],
   "source": [
    "hotels[\"accommodation_type\"].value_counts()"
   ]
  },
  {
   "cell_type": "code",
   "execution_count": 46,
   "metadata": {},
   "outputs": [
    {
     "data": {
      "text/plain": [
       "Index(['hotel_id', 'city', 'distance', 'stars', 'rating', 'country',\n",
       "       'city_actual', 'rating_reviewcount', 'center1label', 'center2label',\n",
       "       'neighbourhood', 'ratingta', 'ratingta_count', 'distance_alter',\n",
       "       'accommodation_type', 'price', 'offer', 'offer_cat', 'year', 'month',\n",
       "       'weekend', 'holiday', 'nnights', 'scarce_room'],\n",
       "      dtype='object')"
      ]
     },
     "execution_count": 46,
     "metadata": {},
     "output_type": "execute_result"
    }
   ],
   "source": [
    "hotels.columns"
   ]
  },
  {
   "cell_type": "code",
   "execution_count": 47,
   "metadata": {},
   "outputs": [],
   "source": [
    "hotels = hotels.loc[\n",
    "    lambda x: (x[\"accommodation_type\"] == \"Hotel\")\n",
    "    & (x[\"city_actual\"] == \"Rome\")\n",
    "    & (x[\"stars\"] >= 3)\n",
    "    & (x[\"stars\"] <= 4)\n",
    "    #& (x[\"price\"] <= 600)\n",
    "    & (x[\"stars\"].notnull())\n",
    "]"
   ]
  },
  {
   "cell_type": "code",
   "execution_count": 48,
   "metadata": {},
   "outputs": [
    {
     "data": {
      "text/plain": [
       "4138"
      ]
     },
     "execution_count": 48,
     "metadata": {},
     "output_type": "execute_result"
    }
   ],
   "source": [
    "len(hotels)"
   ]
  },
  {
   "cell_type": "code",
   "execution_count": 49,
   "metadata": {},
   "outputs": [
    {
     "data": {
      "text/plain": [
       "count    4112.000000\n",
       "mean        3.884655\n",
       "std         0.443725\n",
       "min         2.500000\n",
       "25%         3.700000\n",
       "50%         3.900000\n",
       "75%         4.100000\n",
       "max         4.800000\n",
       "Name: rating, dtype: float64"
      ]
     },
     "execution_count": 49,
     "metadata": {},
     "output_type": "execute_result"
    }
   ],
   "source": [
    "hotels[\"rating\"].describe()"
   ]
  },
  {
   "cell_type": "code",
   "execution_count": 50,
   "metadata": {},
   "outputs": [
    {
     "data": {
      "image/png": "[encoded data removed]",
      "text/plain": [
       "<Figure size 800x500 with 1 Axes>"
      ]
     },
     "metadata": {},
     "output_type": "display_data"
    }
   ],
   "source": [
    "plt.figure(figsize=(8, 5))\n",
    "sns.histplot(hotels[\"rating\"], bins=20, color=\"blue\", edgecolor=\"black\")\n",
    "plt.title(\"Histogram of Hotel Ratings\")\n",
    "plt.xlabel(\"Rating\")\n",
    "plt.ylabel(\"Count\")\n",
    "plt.tight_layout()\n",
    "plt.show()"
   ]
  },
  {
   "cell_type": "code",
   "execution_count": 55,
   "metadata": {},
   "outputs": [
    {
     "data": {
      "text/plain": [
       "count    4112.000000\n",
       "mean        3.884655\n",
       "std         0.443725\n",
       "min         2.500000\n",
       "25%         3.700000\n",
       "50%         3.900000\n",
       "75%         4.100000\n",
       "max         4.800000\n",
       "Name: rating, dtype: float64"
      ]
     },
     "execution_count": 55,
     "metadata": {},
     "output_type": "execute_result"
    }
   ],
   "source": [
    "hotels.dropna(inplace=True)\n",
    "hotels\n",
    "hotels[\"rating\"].describe()"
   ]
  },
  {
   "cell_type": "code",
   "execution_count": 60,
   "metadata": {},
   "outputs": [
    {
     "data": {
      "text/plain": [
       "high_rating\n",
       "0    2089\n",
       "1    2023\n",
       "Name: count, dtype: int64"
      ]
     },
     "execution_count": 60,
     "metadata": {},
     "output_type": "execute_result"
    }
   ],
   "source": [
    "hotels[\"high_rating\"] = np.where(hotels[\"rating\"] >= 4, 1, 0)\n",
    "hotels[\"high_rating\"].value_counts()"
   ]
  },
  {
   "cell_type": "code",
   "execution_count": 63,
   "metadata": {},
   "outputs": [
    {
     "data": {
      "text/html": [
       "<div>\n",
       "<style scoped>\n",
       "    .dataframe tbody tr th:only-of-type {\n",
       "        vertical-align: middle;\n",
       "    }\n",
       "\n",
       "    .dataframe tbody tr th {\n",
       "        vertical-align: top;\n",
       "    }\n",
       "\n",
       "    .dataframe thead th {\n",
       "        text-align: right;\n",
       "    }\n",
       "</style>\n",
       "<table border=\"1\" class=\"dataframe\">\n",
       "  <thead>\n",
       "    <tr style=\"text-align: right;\">\n",
       "      <th></th>\n",
       "      <th>111312</th>\n",
       "      <th>111313</th>\n",
       "      <th>111314</th>\n",
       "      <th>111315</th>\n",
       "      <th>111316</th>\n",
       "    </tr>\n",
       "  </thead>\n",
       "  <tbody>\n",
       "    <tr>\n",
       "      <th>hotel_id</th>\n",
       "      <td>15166</td>\n",
       "      <td>15166</td>\n",
       "      <td>15166</td>\n",
       "      <td>15166</td>\n",
       "      <td>15167</td>\n",
       "    </tr>\n",
       "    <tr>\n",
       "      <th>city</th>\n",
       "      <td>Rome</td>\n",
       "      <td>Rome</td>\n",
       "      <td>Rome</td>\n",
       "      <td>Rome</td>\n",
       "      <td>Rome</td>\n",
       "    </tr>\n",
       "    <tr>\n",
       "      <th>distance</th>\n",
       "      <td>3.2</td>\n",
       "      <td>3.2</td>\n",
       "      <td>3.2</td>\n",
       "      <td>3.2</td>\n",
       "      <td>3.2</td>\n",
       "    </tr>\n",
       "    <tr>\n",
       "      <th>stars</th>\n",
       "      <td>4.0</td>\n",
       "      <td>4.0</td>\n",
       "      <td>4.0</td>\n",
       "      <td>4.0</td>\n",
       "      <td>4.0</td>\n",
       "    </tr>\n",
       "    <tr>\n",
       "      <th>rating</th>\n",
       "      <td>3.5</td>\n",
       "      <td>3.5</td>\n",
       "      <td>3.5</td>\n",
       "      <td>3.5</td>\n",
       "      <td>3.5</td>\n",
       "    </tr>\n",
       "    <tr>\n",
       "      <th>country</th>\n",
       "      <td>Italy</td>\n",
       "      <td>Italy</td>\n",
       "      <td>Italy</td>\n",
       "      <td>Italy</td>\n",
       "      <td>Italy</td>\n",
       "    </tr>\n",
       "    <tr>\n",
       "      <th>city_actual</th>\n",
       "      <td>Rome</td>\n",
       "      <td>Rome</td>\n",
       "      <td>Rome</td>\n",
       "      <td>Rome</td>\n",
       "      <td>Rome</td>\n",
       "    </tr>\n",
       "    <tr>\n",
       "      <th>rating_reviewcount</th>\n",
       "      <td>19.0</td>\n",
       "      <td>19.0</td>\n",
       "      <td>19.0</td>\n",
       "      <td>19.0</td>\n",
       "      <td>19.0</td>\n",
       "    </tr>\n",
       "    <tr>\n",
       "      <th>center1label</th>\n",
       "      <td>City centre</td>\n",
       "      <td>City centre</td>\n",
       "      <td>City centre</td>\n",
       "      <td>City centre</td>\n",
       "      <td>City centre</td>\n",
       "    </tr>\n",
       "    <tr>\n",
       "      <th>center2label</th>\n",
       "      <td>Palazzo Madama</td>\n",
       "      <td>Palazzo Madama</td>\n",
       "      <td>Palazzo Madama</td>\n",
       "      <td>Palazzo Madama</td>\n",
       "      <td>Grotta del Bue Marino</td>\n",
       "    </tr>\n",
       "    <tr>\n",
       "      <th>neighbourhood</th>\n",
       "      <td>Aurelio</td>\n",
       "      <td>Aurelio</td>\n",
       "      <td>Aurelio</td>\n",
       "      <td>Aurelio</td>\n",
       "      <td>Aurelio</td>\n",
       "    </tr>\n",
       "    <tr>\n",
       "      <th>ratingta</th>\n",
       "      <td>3.5</td>\n",
       "      <td>3.5</td>\n",
       "      <td>3.5</td>\n",
       "      <td>3.5</td>\n",
       "      <td>3.5</td>\n",
       "    </tr>\n",
       "    <tr>\n",
       "      <th>ratingta_count</th>\n",
       "      <td>300.0</td>\n",
       "      <td>300.0</td>\n",
       "      <td>300.0</td>\n",
       "      <td>300.0</td>\n",
       "      <td>300.0</td>\n",
       "    </tr>\n",
       "    <tr>\n",
       "      <th>distance_alter</th>\n",
       "      <td>2.9</td>\n",
       "      <td>2.9</td>\n",
       "      <td>2.9</td>\n",
       "      <td>2.9</td>\n",
       "      <td>4.2</td>\n",
       "    </tr>\n",
       "    <tr>\n",
       "      <th>accommodation_type</th>\n",
       "      <td>Hotel</td>\n",
       "      <td>Hotel</td>\n",
       "      <td>Hotel</td>\n",
       "      <td>Hotel</td>\n",
       "      <td>Hotel</td>\n",
       "    </tr>\n",
       "    <tr>\n",
       "      <th>price</th>\n",
       "      <td>119</td>\n",
       "      <td>128</td>\n",
       "      <td>385</td>\n",
       "      <td>119</td>\n",
       "      <td>69</td>\n",
       "    </tr>\n",
       "    <tr>\n",
       "      <th>offer</th>\n",
       "      <td>1</td>\n",
       "      <td>0</td>\n",
       "      <td>1</td>\n",
       "      <td>1</td>\n",
       "      <td>1</td>\n",
       "    </tr>\n",
       "    <tr>\n",
       "      <th>offer_cat</th>\n",
       "      <td>1-15% offer</td>\n",
       "      <td>0% no offer</td>\n",
       "      <td>15-50% offer</td>\n",
       "      <td>1-15% offer</td>\n",
       "      <td>15-50% offer</td>\n",
       "    </tr>\n",
       "    <tr>\n",
       "      <th>year</th>\n",
       "      <td>2018</td>\n",
       "      <td>2018</td>\n",
       "      <td>2017</td>\n",
       "      <td>2018</td>\n",
       "      <td>2018</td>\n",
       "    </tr>\n",
       "    <tr>\n",
       "      <th>month</th>\n",
       "      <td>6</td>\n",
       "      <td>5</td>\n",
       "      <td>12</td>\n",
       "      <td>3</td>\n",
       "      <td>2</td>\n",
       "    </tr>\n",
       "    <tr>\n",
       "      <th>weekend</th>\n",
       "      <td>1</td>\n",
       "      <td>1</td>\n",
       "      <td>0</td>\n",
       "      <td>1</td>\n",
       "      <td>1</td>\n",
       "    </tr>\n",
       "    <tr>\n",
       "      <th>holiday</th>\n",
       "      <td>0</td>\n",
       "      <td>0</td>\n",
       "      <td>1</td>\n",
       "      <td>0</td>\n",
       "      <td>0</td>\n",
       "    </tr>\n",
       "    <tr>\n",
       "      <th>nnights</th>\n",
       "      <td>1</td>\n",
       "      <td>1</td>\n",
       "      <td>4</td>\n",
       "      <td>1</td>\n",
       "      <td>1</td>\n",
       "    </tr>\n",
       "    <tr>\n",
       "      <th>scarce_room</th>\n",
       "      <td>0</td>\n",
       "      <td>0</td>\n",
       "      <td>0</td>\n",
       "      <td>0</td>\n",
       "      <td>0</td>\n",
       "    </tr>\n",
       "    <tr>\n",
       "      <th>high_rating</th>\n",
       "      <td>0</td>\n",
       "      <td>0</td>\n",
       "      <td>0</td>\n",
       "      <td>0</td>\n",
       "      <td>0</td>\n",
       "    </tr>\n",
       "  </tbody>\n",
       "</table>\n",
       "</div>"
      ],
      "text/plain": [
       "                            111312          111313          111314  \\\n",
       "hotel_id                     15166           15166           15166   \n",
       "city                          Rome            Rome            Rome   \n",
       "distance                       3.2             3.2             3.2   \n",
       "stars                          4.0             4.0             4.0   \n",
       "rating                         3.5             3.5             3.5   \n",
       "country                      Italy           Italy           Italy   \n",
       "city_actual                   Rome            Rome            Rome   \n",
       "rating_reviewcount            19.0            19.0            19.0   \n",
       "center1label           City centre     City centre     City centre   \n",
       "center2label        Palazzo Madama  Palazzo Madama  Palazzo Madama   \n",
       "neighbourhood              Aurelio         Aurelio         Aurelio   \n",
       "ratingta                       3.5             3.5             3.5   \n",
       "ratingta_count               300.0           300.0           300.0   \n",
       "distance_alter                 2.9             2.9             2.9   \n",
       "accommodation_type           Hotel           Hotel           Hotel   \n",
       "price                          119             128             385   \n",
       "offer                            1               0               1   \n",
       "offer_cat              1-15% offer     0% no offer    15-50% offer   \n",
       "year                          2018            2018            2017   \n",
       "month                            6               5              12   \n",
       "weekend                          1               1               0   \n",
       "holiday                          0               0               1   \n",
       "nnights                          1               1               4   \n",
       "scarce_room                      0               0               0   \n",
       "high_rating                      0               0               0   \n",
       "\n",
       "                            111315                 111316  \n",
       "hotel_id                     15166                  15167  \n",
       "city                          Rome                   Rome  \n",
       "distance                       3.2                    3.2  \n",
       "stars                          4.0                    4.0  \n",
       "rating                         3.5                    3.5  \n",
       "country                      Italy                  Italy  \n",
       "city_actual                   Rome                   Rome  \n",
       "rating_reviewcount            19.0                   19.0  \n",
       "center1label           City centre            City centre  \n",
       "center2label        Palazzo Madama  Grotta del Bue Marino  \n",
       "neighbourhood              Aurelio                Aurelio  \n",
       "ratingta                       3.5                    3.5  \n",
       "ratingta_count               300.0                  300.0  \n",
       "distance_alter                 2.9                    4.2  \n",
       "accommodation_type           Hotel                  Hotel  \n",
       "price                          119                     69  \n",
       "offer                            1                      1  \n",
       "offer_cat              1-15% offer           15-50% offer  \n",
       "year                          2018                   2018  \n",
       "month                            3                      2  \n",
       "weekend                          1                      1  \n",
       "holiday                          0                      0  \n",
       "nnights                          1                      1  \n",
       "scarce_room                      0                      0  \n",
       "high_rating                      0                      0  "
      ]
     },
     "execution_count": 63,
     "metadata": {},
     "output_type": "execute_result"
    }
   ],
   "source": [
    "hotels.head().T"
   ]
  },
  {
   "cell_type": "markdown",
   "metadata": {},
   "source": [
    "### Linear Probability"
   ]
  },
  {
   "cell_type": "code",
   "execution_count": null,
   "metadata": {},
   "outputs": [
    {
     "data": {
      "text/plain": [
       "(<class 'statsmodels.iolib.summary.Summary'>\n",
       " \"\"\"\n",
       "                             OLS Regression Results                            \n",
       " ==============================================================================\n",
       " Dep. Variable:            high_rating   R-squared:                       0.030\n",
       " Model:                            OLS   Adj. R-squared:                  0.029\n",
       " Method:                 Least Squares   F-statistic:                     194.8\n",
       " Date:                Wed, 16 Jul 2025   Prob (F-statistic):           2.72e-43\n",
       " Time:                        18:18:10   Log-Likelihood:                -2922.2\n",
       " No. Observations:                4112   AIC:                             5848.\n",
       " Df Residuals:                    4110   BIC:                             5861.\n",
       " Df Model:                           1                                         \n",
       " Covariance Type:                  HC1                                         \n",
       " ==============================================================================\n",
       "                  coef    std err          z      P>|z|      [0.025      0.975]\n",
       " ------------------------------------------------------------------------------\n",
       " Intercept      0.5660      0.010     58.319      0.000       0.547       0.585\n",
       " distance      -0.0394      0.003    -13.957      0.000      -0.045      -0.034\n",
       " ==============================================================================\n",
       " Omnibus:                    15142.848   Durbin-Watson:                   0.255\n",
       " Prob(Omnibus):                  0.000   Jarque-Bera (JB):              626.782\n",
       " Skew:                           0.006   Prob(JB):                    7.87e-137\n",
       " Kurtosis:                       1.087   Cond. No.                         4.01\n",
       " ==============================================================================\n",
       " \n",
       " Notes:\n",
       " [1] Standard Errors are heteroscedasticity robust (HC1)\n",
       " \"\"\",)"
      ]
     },
     "execution_count": 68,
     "metadata": {},
     "output_type": "execute_result"
    }
   ],
   "source": [
    "# does distance affect probablity of being high rated hotel?\n",
    "\n",
    "lpm_hr1 = smf.ols(\"high_rating ~ distance\", data=hotels).fit(cov_type=\"HC1\")\n",
    "lpm_hr1.summary(),"
   ]
  },
  {
   "cell_type": "code",
   "execution_count": 69,
   "metadata": {},
   "outputs": [
    {
     "data": {
      "text/plain": [
       "(<class 'statsmodels.iolib.summary.Summary'>\n",
       " \"\"\"\n",
       "                             OLS Regression Results                            \n",
       " ==============================================================================\n",
       " Dep. Variable:            high_rating   R-squared:                       0.019\n",
       " Model:                            OLS   Adj. R-squared:                  0.019\n",
       " Method:                 Least Squares   F-statistic:                     81.02\n",
       " Date:                Wed, 16 Jul 2025   Prob (F-statistic):           3.34e-19\n",
       " Time:                        18:19:29   Log-Likelihood:                -2943.8\n",
       " No. Observations:                4112   AIC:                             5892.\n",
       " Df Residuals:                    4110   BIC:                             5904.\n",
       " Df Model:                           1                                         \n",
       " Covariance Type:                  HC1                                         \n",
       " ==============================================================================\n",
       "                  coef    std err          z      P>|z|      [0.025      0.975]\n",
       " ------------------------------------------------------------------------------\n",
       " Intercept      0.0059      0.055      0.109      0.913      -0.101       0.113\n",
       " stars          0.1393      0.015      9.001      0.000       0.109       0.170\n",
       " ==============================================================================\n",
       " Omnibus:                    15068.680   Durbin-Watson:                   0.251\n",
       " Prob(Omnibus):                  0.000   Jarque-Bera (JB):              632.365\n",
       " Skew:                           0.032   Prob(JB):                    4.83e-138\n",
       " Kurtosis:                       1.080   Cond. No.                         26.9\n",
       " ==============================================================================\n",
       " \n",
       " Notes:\n",
       " [1] Standard Errors are heteroscedasticity robust (HC1)\n",
       " \"\"\",)"
      ]
     },
     "execution_count": 69,
     "metadata": {},
     "output_type": "execute_result"
    }
   ],
   "source": [
    "# does stars affect probablity of being high rated hotel?\n",
    "\n",
    "lpm_hr2 = smf.ols(\"high_rating ~ stars\", data=hotels).fit(cov_type=\"HC1\")\n",
    "lpm_hr2.summary(),"
   ]
  },
  {
   "cell_type": "code",
   "execution_count": 70,
   "metadata": {},
   "outputs": [
    {
     "data": {
      "text/plain": [
       "(<class 'statsmodels.iolib.summary.Summary'>\n",
       " \"\"\"\n",
       "                             OLS Regression Results                            \n",
       " ==============================================================================\n",
       " Dep. Variable:            high_rating   R-squared:                       0.038\n",
       " Model:                            OLS   Adj. R-squared:                  0.038\n",
       " Method:                 Least Squares   F-statistic:                     195.6\n",
       " Date:                Wed, 16 Jul 2025   Prob (F-statistic):           1.91e-43\n",
       " Time:                        18:20:15   Log-Likelihood:                -2903.8\n",
       " No. Observations:                4112   AIC:                             5812.\n",
       " Df Residuals:                    4110   BIC:                             5824.\n",
       " Df Model:                           1                                         \n",
       " Covariance Type:                  HC1                                         \n",
       " ==============================================================================\n",
       "                  coef    std err          z      P>|z|      [0.025      0.975]\n",
       " ------------------------------------------------------------------------------\n",
       " Intercept      0.3843      0.011     35.071      0.000       0.363       0.406\n",
       " price          0.0005   3.92e-05     13.984      0.000       0.000       0.001\n",
       " ==============================================================================\n",
       " Omnibus:                    15511.093   Durbin-Watson:                   0.322\n",
       " Prob(Omnibus):                  0.000   Jarque-Bera (JB):              605.958\n",
       " Skew:                           0.050   Prob(JB):                    2.62e-132\n",
       " Kurtosis:                       1.122   Cond. No.                         395.\n",
       " ==============================================================================\n",
       " \n",
       " Notes:\n",
       " [1] Standard Errors are heteroscedasticity robust (HC1)\n",
       " \"\"\",)"
      ]
     },
     "execution_count": 70,
     "metadata": {},
     "output_type": "execute_result"
    }
   ],
   "source": [
    "# does price affect probablity of being high rated hotel?\n",
    "\n",
    "lpm_hr3 = smf.ols(\"high_rating ~ price\", data=hotels).fit(cov_type=\"HC1\")\n",
    "lpm_hr3.summary(),"
   ]
  },
  {
   "cell_type": "code",
   "execution_count": 73,
   "metadata": {},
   "outputs": [
    {
     "data": {
      "text/plain": [
       "(<class 'statsmodels.iolib.summary.Summary'>\n",
       " \"\"\"\n",
       "                             OLS Regression Results                            \n",
       " ==============================================================================\n",
       " Dep. Variable:            high_rating   R-squared:                       0.071\n",
       " Model:                            OLS   Adj. R-squared:                  0.070\n",
       " Method:                 Least Squares   F-statistic:                     144.3\n",
       " Date:                Wed, 16 Jul 2025   Prob (F-statistic):           6.35e-89\n",
       " Time:                        18:21:17   Log-Likelihood:                -2832.3\n",
       " No. Observations:                4112   AIC:                             5673.\n",
       " Df Residuals:                    4108   BIC:                             5698.\n",
       " Df Model:                           3                                         \n",
       " Covariance Type:                  HC1                                         \n",
       " ==============================================================================\n",
       "                  coef    std err          z      P>|z|      [0.025      0.975]\n",
       " ------------------------------------------------------------------------------\n",
       " Intercept      0.0377      0.053      0.706      0.480      -0.067       0.142\n",
       " distance      -0.0338      0.003    -11.724      0.000      -0.039      -0.028\n",
       " price          0.0004    3.9e-05     10.391      0.000       0.000       0.000\n",
       " stars          0.1257      0.015      8.217      0.000       0.096       0.156\n",
       " ==============================================================================\n",
       " Omnibus:                    17052.523   Durbin-Watson:                   0.296\n",
       " Prob(Omnibus):                  0.000   Jarque-Bera (JB):              532.659\n",
       " Skew:                           0.030   Prob(JB):                    2.16e-116\n",
       " Kurtosis:                       1.238   Cond. No.                     1.95e+03\n",
       " ==============================================================================\n",
       " \n",
       " Notes:\n",
       " [1] Standard Errors are heteroscedasticity robust (HC1)\n",
       " [2] The condition number is large, 1.95e+03. This might indicate that there are\n",
       " strong multicollinearity or other numerical problems.\n",
       " \"\"\",)"
      ]
     },
     "execution_count": 73,
     "metadata": {},
     "output_type": "execute_result"
    }
   ],
   "source": [
    "# commine all\n",
    "\n",
    "lpm_hr4 = smf.ols(\"high_rating ~ distance + price + stars\", data=hotels).fit(cov_type=\"HC1\")\n",
    "lpm_hr4.summary(),"
   ]
  },
  {
   "cell_type": "markdown",
   "metadata": {},
   "source": [
    "### Logit Model"
   ]
  },
  {
   "cell_type": "code",
   "execution_count": 75,
   "metadata": {},
   "outputs": [],
   "source": [
    "# creating matrixes for regressions\n",
    "\n",
    "y1, X1 = dmatrices(\"high_rating ~ distance\",hotels)\n",
    "y2, X2 = dmatrices(\"high_rating ~ price\",hotels)\n",
    "y3, X3 = dmatrices(\"high_rating ~ stars\",hotels)\n",
    "y4, X4 = dmatrices(\"high_rating ~ distance + price + rating\",hotels)"
   ]
  },
  {
   "cell_type": "code",
   "execution_count": null,
   "metadata": {},
   "outputs": [],
   "source": [
    "# GLM logit\n",
    "logit1 = sm.GLM(y1, X1, family=sm.families.Binomial(link=sm.genmod.families.links.logit()))\n",
    "logit1 = logit.fit()\n",
    "\n",
    "\n",
    "logit2 = sm.GLM(y2, X2, family=sm.families.Binomial(link=sm.genmod.families.links.logit()))\n",
    "logit2 = logit2.fit()\n",
    "\n",
    "\n",
    "logit3 = sm.GLM(y3, X3, family=sm.families.Binomial(link=sm.genmod.families.links.logit()))\n",
    "logit3 = logit3.fit()\n",
    "\n",
    "\n",
    "logit4 = sm.GLM(y4, X4, family=sm.families.Binomial(link=sm.genmod.families.links.logit()))\n",
    "logit4 = logit4.fit()\n"
   ]
  },
  {
   "cell_type": "code",
   "execution_count": 82,
   "metadata": {},
   "outputs": [
    {
     "data": {
      "text/plain": [
       "(np.float64(0.24252460191159034),\n",
       " np.float64(0.23943876472078562),\n",
       " np.float64(0.24510257698808405),\n",
       " np.float64(1.0431723178816166e-24))"
      ]
     },
     "execution_count": 82,
     "metadata": {},
     "output_type": "execute_result"
    }
   ],
   "source": [
    "from sklearn.metrics import brier_score_loss\n",
    "\n",
    "# Get predicted probabilities for each model\n",
    "probs1 = logit1.predict(X1)\n",
    "probs2 = logit2.predict(X2)\n",
    "probs3 = logit3.predict(X3)\n",
    "probs4 = logit4.predict(X4)\n",
    "\n",
    "# True labels\n",
    "y_true = y1.ravel()\n",
    "\n",
    "# Calculate Brier scores\n",
    "brier1 = brier_score_loss(y_true, probs1)\n",
    "brier2 = brier_score_loss(y_true, probs2)\n",
    "brier3 = brier_score_loss(y_true, probs3)\n",
    "brier4 = brier_score_loss(y_true, probs4)\n",
    "\n",
    "brier1, brier2, brier3, brier4"
   ]
  },
  {
   "cell_type": "code",
   "execution_count": 84,
   "metadata": {},
   "outputs": [
    {
     "data": {
      "text/plain": [
       "(<class 'statsmodels.iolib.summary.Summary'>\n",
       " \"\"\"\n",
       "                  Generalized Linear Model Regression Results                  \n",
       " ==============================================================================\n",
       " Dep. Variable:            high_rating   No. Observations:                 4112\n",
       " Model:                            GLM   Df Residuals:                     4110\n",
       " Model Family:                Binomial   Df Model:                            1\n",
       " Link Function:                  logit   Scale:                          1.0000\n",
       " Method:                          IRLS   Log-Likelihood:                -2762.7\n",
       " Date:                Wed, 16 Jul 2025   Deviance:                       5525.5\n",
       " Time:                        18:30:51   Pearson chi2:                 4.14e+03\n",
       " No. Iterations:                     4   Pseudo R-squ. (CS):            0.04141\n",
       " Covariance Type:            nonrobust                                         \n",
       " ==============================================================================\n",
       "                  coef    std err          z      P>|z|      [0.025      0.975]\n",
       " ------------------------------------------------------------------------------\n",
       " Intercept     -0.5398      0.052    -10.392      0.000      -0.642      -0.438\n",
       " price          0.0027      0.000     11.751      0.000       0.002       0.003\n",
       " ==============================================================================\n",
       " \"\"\",)"
      ]
     },
     "execution_count": 84,
     "metadata": {},
     "output_type": "execute_result"
    }
   ],
   "source": [
    "logit2.summary(),"
   ]
  },
  {
   "cell_type": "markdown",
   "metadata": {},
   "source": [
    "### Probit Model"
   ]
  },
  {
   "cell_type": "code",
   "execution_count": 85,
   "metadata": {},
   "outputs": [],
   "source": [
    "# GLM logit\n",
    "probit1 = sm.GLM(y1, X1, family=sm.families.Binomial(link=sm.genmod.families.links.probit()))\n",
    "probit1 = probit1.fit()\n",
    "\n",
    "\n",
    "probit2 = sm.GLM(y2, X2, family=sm.families.Binomial(link=sm.genmod.families.links.probit()))\n",
    "probit2 = probit2.fit()\n",
    "\n",
    "\n",
    "probit3 = sm.GLM(y3, X3, family=sm.families.Binomial(link=sm.genmod.families.links.probit()))\n",
    "probit3 = probit3.fit()\n",
    "\n",
    "\n",
    "probit4 = sm.GLM(y4, X4, family=sm.families.Binomial(link=sm.genmod.families.links.probit()))\n",
    "probit4 = probit4.fit()"
   ]
  },
  {
   "cell_type": "code",
   "execution_count": 86,
   "metadata": {},
   "outputs": [
    {
     "data": {
      "text/plain": [
       "(<class 'statsmodels.iolib.summary.Summary'>\n",
       " \"\"\"\n",
       "                  Generalized Linear Model Regression Results                  \n",
       " ==============================================================================\n",
       " Dep. Variable:            high_rating   No. Observations:                 4112\n",
       " Model:                            GLM   Df Residuals:                     4110\n",
       " Model Family:                Binomial   Df Model:                            1\n",
       " Link Function:                 probit   Scale:                          1.0000\n",
       " Method:                          IRLS   Log-Likelihood:                -2783.7\n",
       " Date:                Wed, 16 Jul 2025   Deviance:                       5567.5\n",
       " Time:                        18:42:49   Pearson chi2:                 4.10e+03\n",
       " No. Iterations:                     4   Pseudo R-squ. (CS):            0.03158\n",
       " Covariance Type:            nonrobust                                         \n",
       " ==============================================================================\n",
       "                  coef    std err          z      P>|z|      [0.025      0.975]\n",
       " ------------------------------------------------------------------------------\n",
       " Intercept      0.1852      0.027      6.917      0.000       0.133       0.238\n",
       " distance      -0.1126      0.010    -10.940      0.000      -0.133      -0.092\n",
       " ==============================================================================\n",
       " \"\"\",)"
      ]
     },
     "execution_count": 86,
     "metadata": {},
     "output_type": "execute_result"
    }
   ],
   "source": [
    "probit1.summary(),"
   ]
  },
  {
   "cell_type": "code",
   "execution_count": 88,
   "metadata": {},
   "outputs": [
    {
     "data": {
      "text/plain": [
       "(<class 'statsmodels.iolib.summary.Summary'>\n",
       " \"\"\"\n",
       "                  Generalized Linear Model Regression Results                  \n",
       " ==============================================================================\n",
       " Dep. Variable:            high_rating   No. Observations:                 4112\n",
       " Model:                            GLM   Df Residuals:                     4110\n",
       " Model Family:                Binomial   Df Model:                            1\n",
       " Link Function:                 probit   Scale:                          1.0000\n",
       " Method:                          IRLS   Log-Likelihood:                -2764.0\n",
       " Date:                Wed, 16 Jul 2025   Deviance:                       5528.0\n",
       " Time:                        18:43:27   Pearson chi2:                 4.14e+03\n",
       " No. Iterations:                     4   Pseudo R-squ. (CS):            0.04082\n",
       " Covariance Type:            nonrobust                                         \n",
       " ==============================================================================\n",
       "                  coef    std err          z      P>|z|      [0.025      0.975]\n",
       " ------------------------------------------------------------------------------\n",
       " Intercept     -0.3256      0.031    -10.347      0.000      -0.387      -0.264\n",
       " price          0.0016      0.000     12.009      0.000       0.001       0.002\n",
       " ==============================================================================\n",
       " \"\"\",)"
      ]
     },
     "execution_count": 88,
     "metadata": {},
     "output_type": "execute_result"
    }
   ],
   "source": [
    "probit2.summary(),"
   ]
  },
  {
   "cell_type": "code",
   "execution_count": 89,
   "metadata": {},
   "outputs": [
    {
     "data": {
      "text/plain": [
       "(<class 'statsmodels.iolib.summary.Summary'>\n",
       " \"\"\"\n",
       "                  Generalized Linear Model Regression Results                  \n",
       " ==============================================================================\n",
       " Dep. Variable:            high_rating   No. Observations:                 4112\n",
       " Model:                            GLM   Df Residuals:                     4110\n",
       " Model Family:                Binomial   Df Model:                            1\n",
       " Link Function:                 probit   Scale:                          1.0000\n",
       " Method:                          IRLS   Log-Likelihood:                -2809.8\n",
       " Date:                Wed, 16 Jul 2025   Deviance:                       5619.6\n",
       " Time:                        18:43:37   Pearson chi2:                 4.11e+03\n",
       " No. Iterations:                     4   Pseudo R-squ. (CS):            0.01921\n",
       " Covariance Type:            nonrobust                                         \n",
       " ==============================================================================\n",
       "                  coef    std err          z      P>|z|      [0.025      0.975]\n",
       " ------------------------------------------------------------------------------\n",
       " Intercept     -1.2451      0.139     -8.966      0.000      -1.517      -0.973\n",
       " stars          0.3511      0.039      8.912      0.000       0.274       0.428\n",
       " ==============================================================================\n",
       " \"\"\",)"
      ]
     },
     "execution_count": 89,
     "metadata": {},
     "output_type": "execute_result"
    }
   ],
   "source": [
    "probit3.summary(),"
   ]
  },
  {
   "cell_type": "code",
   "execution_count": 91,
   "metadata": {},
   "outputs": [
    {
     "data": {
      "text/plain": [
       "(<class 'statsmodels.iolib.summary.Summary'>\n",
       " \"\"\"\n",
       "                  Generalized Linear Model Regression Results                  \n",
       " ==============================================================================\n",
       " Dep. Variable:            high_rating   No. Observations:                 4112\n",
       " Model:                            GLM   Df Residuals:                     4108\n",
       " Model Family:                Binomial   Df Model:                            3\n",
       " Link Function:                 probit   Scale:                          1.0000\n",
       " Method:                          IRLS   Log-Likelihood:                    nan\n",
       " Date:                Wed, 16 Jul 2025   Deviance:                   3.2870e-09\n",
       " Time:                        18:43:51   Pearson chi2:                 1.64e-09\n",
       " No. Iterations:                    30   Pseudo R-squ. (CS):                nan\n",
       " Covariance Type:            nonrobust                                         \n",
       " ==============================================================================\n",
       "                  coef    std err          z      P>|z|      [0.025      0.975]\n",
       " ------------------------------------------------------------------------------\n",
       " Intercept   -551.4647   1.69e+05     -0.003      0.997   -3.31e+05     3.3e+05\n",
       " distance      -0.0043    913.440  -4.76e-06      1.000   -1790.313    1790.304\n",
       " price       5.355e-06     14.705   3.64e-07      1.000     -28.821      28.821\n",
       " rating       139.6223   4.27e+04      0.003      0.997   -8.35e+04    8.38e+04\n",
       " ==============================================================================\n",
       " \"\"\",)"
      ]
     },
     "execution_count": 91,
     "metadata": {},
     "output_type": "execute_result"
    }
   ],
   "source": [
    "probit4.summary(),"
   ]
  },
  {
   "cell_type": "markdown",
   "metadata": {},
   "source": [
    "### Marginal Differencies"
   ]
  },
  {
   "cell_type": "code",
   "execution_count": 97,
   "metadata": {},
   "outputs": [
    {
     "name": "stdout",
     "output_type": "stream",
     "text": [
      "         GLM Marginal Effects        \n",
      "=====================================\n",
      "Dep. Variable:            high_rating\n",
      "Method:                          dydx\n",
      "At:                           overall\n",
      "==============================================================================\n",
      "                dy/dx    std err          z      P>|z|      [0.025      0.975]\n",
      "------------------------------------------------------------------------------\n",
      "distance      -0.0438      0.004    -11.439      0.000      -0.051      -0.036\n",
      "==============================================================================\n",
      "         GLM Marginal Effects        \n",
      "=====================================\n",
      "Dep. Variable:            high_rating\n",
      "Method:                          dydx\n",
      "At:                           overall\n",
      "==============================================================================\n",
      "                dy/dx    std err          z      P>|z|      [0.025      0.975]\n",
      "------------------------------------------------------------------------------\n",
      "price          0.0006   4.83e-05     12.676      0.000       0.001       0.001\n",
      "==============================================================================\n",
      "         GLM Marginal Effects        \n",
      "=====================================\n",
      "Dep. Variable:            high_rating\n",
      "Method:                          dydx\n",
      "At:                           overall\n",
      "==============================================================================\n",
      "                dy/dx    std err          z      P>|z|      [0.025      0.975]\n",
      "------------------------------------------------------------------------------\n",
      "stars          0.1379      0.015      9.194      0.000       0.109       0.167\n",
      "==============================================================================\n",
      "         GLM Marginal Effects        \n",
      "=====================================\n",
      "Dep. Variable:            high_rating\n",
      "Method:                          dydx\n",
      "At:                           overall\n",
      "==============================================================================\n",
      "                dy/dx    std err          z      P>|z|      [0.025      0.975]\n",
      "------------------------------------------------------------------------------\n",
      "distance   -1.237e-14   2.61e-09  -4.75e-06      1.000   -5.11e-09    5.11e-09\n",
      "price       1.524e-17   4.18e-11   3.64e-07      1.000    -8.2e-11     8.2e-11\n",
      "rating      3.973e-10   5.79e-06   6.86e-05      1.000   -1.14e-05    1.14e-05\n",
      "==============================================================================\n"
     ]
    }
   ],
   "source": [
    "probit_margef_results1 = probit1.get_margeff()\n",
    "print(probit_margef_results1.summary())\n",
    "\n",
    "probit_margef_results2 = probit2.get_margeff()\n",
    "print(probit_margef_results2.summary())\n",
    "\n",
    "probit_margef_results3 = probit3.get_margeff()\n",
    "print(probit_margef_results3.summary())\n",
    "\n",
    "probit_margef_results4 = probit4.get_margeff()\n",
    "print(probit_margef_results4.summary())\n",
    "\n"
   ]
  },
  {
   "cell_type": "markdown",
   "metadata": {},
   "source": [
    "### Maximum Likelihood"
   ]
  },
  {
   "cell_type": "code",
   "execution_count": 3,
   "metadata": {},
   "outputs": [
    {
     "name": "stdout",
     "output_type": "stream",
     "text": [
      "MLE coefficients:\n",
      "Intercept (beta0): -0.9662\n",
      "Slope (beta1): 1.8991\n",
      "\n",
      "Sklearn coefficients:\n",
      "Intercept: -0.8946\n",
      "Slope: 1.6659\n"
     ]
    }
   ],
   "source": [
    "import numpy as np\n",
    "import pandas as pd\n",
    "import matplotlib.pyplot as plt\n",
    "from scipy.optimize import minimize\n",
    "from sklearn.linear_model import LogisticRegression\n",
    "\n",
    "# 1. Generate synthetic data\n",
    "np.random.seed(0)\n",
    "n = 100\n",
    "x = np.random.normal(0, 1, n)\n",
    "true_beta0 = -1\n",
    "true_beta1 = 2\n",
    "logit = true_beta0 + true_beta1 * x\n",
    "p = 1 / (1 + np.exp(-logit))\n",
    "y = np.random.binomial(1, p)\n",
    "\n",
    "# 2. Define negative log-likelihood function for logistic regression\n",
    "def neg_log_likelihood(beta):\n",
    "    beta0, beta1 = beta\n",
    "    linear_term = beta0 + beta1 * x\n",
    "    log_likelihood = y * np.log(1 / (1 + np.exp(-linear_term))) + \\\n",
    "                     (1 - y) * np.log(1 - 1 / (1 + np.exp(-linear_term)))\n",
    "    return -np.sum(log_likelihood)\n",
    "\n",
    "# 3. Minimize the negative log-likelihood to find MLE\n",
    "result = minimize(neg_log_likelihood, [0, 0])\n",
    "beta_mle = result.x\n",
    "\n",
    "print(\"MLE coefficients:\")\n",
    "print(f\"Intercept (beta0): {beta_mle[0]:.4f}\")\n",
    "print(f\"Slope (beta1): {beta_mle[1]:.4f}\")\n",
    "\n",
    "# 4. Compare with sklearn's LogisticRegression\n",
    "model = LogisticRegression()\n",
    "model.fit(x.reshape(-1, 1), y)\n",
    "\n",
    "print(\"\\nSklearn coefficients:\")\n",
    "print(f\"Intercept: {model.intercept_[0]:.4f}\")\n",
    "print(f\"Slope: {model.coef_[0][0]:.4f}\")\n"
   ]
  },
  {
   "cell_type": "code",
   "execution_count": 4,
   "metadata": {},
   "outputs": [
    {
     "data": {
      "image/png": "[encoded data removed]",
      "text/plain": [
       "<Figure size 800x500 with 1 Axes>"
      ]
     },
     "metadata": {},
     "output_type": "display_data"
    }
   ],
   "source": [
    "# Plot the data and the fitted logistic regression curve (MLE)\n",
    "plt.figure(figsize=(8, 5))\n",
    "plt.scatter(x, y, label=\"Data\", alpha=0.6)\n",
    "\n",
    "# Sort x for a smooth curve\n",
    "x_sorted = np.sort(x)\n",
    "logit_curve = beta_mle[0] + beta_mle[1] * x_sorted\n",
    "p_curve = 1 / (1 + np.exp(-logit_curve))\n",
    "plt.plot(x_sorted, p_curve, color=\"red\", label=\"MLE Logistic Curve\", linewidth=2)\n",
    "\n",
    "plt.xlabel(\"x\")\n",
    "plt.ylabel(\"Probability / Outcome\")\n",
    "plt.title(\"Logistic Regression Fit (MLE)\")\n",
    "plt.legend()\n",
    "plt.tight_layout()\n",
    "plt.show()"
   ]
  }
 ],
 "metadata": {
  "kernelspec": {
   "display_name": "Python 3",
   "language": "python",
   "name": "python3"
  },
  "language_info": {
   "codemirror_mode": {
    "name": "ipython",
    "version": 3
   },
   "file_extension": ".py",
   "mimetype": "text/x-python",
   "name": "python",
   "nbconvert_exporter": "python",
   "pygments_lexer": "ipython3",
   "version": "3.12.1"
  }
 },
 "nbformat": 4,
 "nbformat_minor": 2
}
