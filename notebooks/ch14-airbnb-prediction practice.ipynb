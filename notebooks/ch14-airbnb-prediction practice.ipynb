{
 "cells": [
  {
   "cell_type": "markdown",
   "metadata": {},
   "source": [
    "#### Prepared for Gabor's Data Analysis\n",
    "\n",
    "### Data Analysis for Business, Economics, and Policy\n",
    "by Gabor Bekes and  Gabor Kezdi\n",
    " \n",
    "Cambridge University Press 2021\n",
    "\n",
    "**[gabors-data-analysis.com ](https://gabors-data-analysis.com/)**\n",
    "\n",
    " License: Free to share, modify and use for educational purposes. \n",
    " Not to be used for commercial purposes.\n",
    "\n",
    "### Chapter 14\n",
    "**CH14B Predicting AirBnB apartment prices: selecting a regression model**\n",
    "\n",
    "using the airbnb dataset\n",
    "\n",
    "version 1.0 2022-10-06"
   ]
  },
  {
   "cell_type": "code",
   "execution_count": 1,
   "metadata": {},
   "outputs": [],
   "source": [
    "import os\n",
    "import sys\n",
    "import warnings\n",
    "\n",
    "import numpy as np\n",
    "import patsy\n",
    "import pandas as pd\n",
    "import statsmodels.formula.api as smf\n",
    "from mizani.formatters import percent_format\n",
    "from plotnine import *\n",
    "\n",
    "import matplotlib.pyplot as plt\n",
    "import seaborn as sns\n",
    "\n",
    "from statsmodels.tools.eval_measures import mse, rmse\n",
    "from sklearn.linear_model import LinearRegression\n",
    "from sklearn.model_selection import cross_val_score\n",
    "from sklearn.metrics import make_scorer, mean_squared_error\n",
    "from sklearn.model_selection import KFold\n",
    "import statsmodels.api as smf\n",
    "import statsmodels.formula.api as smf\n",
    "\n",
    "warnings.filterwarnings(\"ignore\")\n"
   ]
  },
  {
   "cell_type": "markdown",
   "metadata": {},
   "source": [
    "### Part 1"
   ]
  },
  {
   "cell_type": "code",
   "execution_count": 2,
   "metadata": {},
   "outputs": [],
   "source": [
    "# !!! make sure you have run ch14_airbnb_prepare.ipynb before\n",
    "data = pd.read_csv(\"/workspaces/codespaces-jupyter/data/airbnb_hackney_workfile_adj.csv\")"
   ]
  },
  {
   "cell_type": "markdown",
   "metadata": {},
   "source": [
    "Quick look at data"
   ]
  },
  {
   "cell_type": "code",
   "execution_count": 3,
   "metadata": {},
   "outputs": [
    {
     "data": {
      "text/html": [
       "<div>\n",
       "<style scoped>\n",
       "    .dataframe tbody tr th:only-of-type {\n",
       "        vertical-align: middle;\n",
       "    }\n",
       "\n",
       "    .dataframe tbody tr th {\n",
       "        vertical-align: top;\n",
       "    }\n",
       "\n",
       "    .dataframe thead th {\n",
       "        text-align: right;\n",
       "    }\n",
       "</style>\n",
       "<table border=\"1\" class=\"dataframe\">\n",
       "  <thead>\n",
       "    <tr style=\"text-align: right;\">\n",
       "      <th></th>\n",
       "      <th>usd_cleaning_fee</th>\n",
       "      <th>usd_price_day</th>\n",
       "      <th>p_host_response_rate</th>\n",
       "      <th>n_accommodates</th>\n",
       "      <th>n_bathrooms</th>\n",
       "      <th>n_review_scores_rating</th>\n",
       "      <th>n_number_of_reviews</th>\n",
       "      <th>n_guests_included</th>\n",
       "      <th>n_reviews_per_month</th>\n",
       "      <th>n_extra_people</th>\n",
       "      <th>...</th>\n",
       "      <th>f_bathroom</th>\n",
       "      <th>ln_number_of_reviews</th>\n",
       "      <th>f_number_of_reviews</th>\n",
       "      <th>ln_days_since</th>\n",
       "      <th>ln_days_since2</th>\n",
       "      <th>ln_days_since3</th>\n",
       "      <th>n_days_since2</th>\n",
       "      <th>n_days_since3</th>\n",
       "      <th>ln_review_scores_rating</th>\n",
       "      <th>f_minimum_nights</th>\n",
       "    </tr>\n",
       "  </thead>\n",
       "  <tbody>\n",
       "    <tr>\n",
       "      <th>count</th>\n",
       "      <td>2769.000000</td>\n",
       "      <td>4496.000000</td>\n",
       "      <td>2970.000000</td>\n",
       "      <td>4496.000000</td>\n",
       "      <td>4487.000000</td>\n",
       "      <td>3073.000000</td>\n",
       "      <td>4496.000000</td>\n",
       "      <td>4496.000000</td>\n",
       "      <td>3147.000000</td>\n",
       "      <td>4496.000000</td>\n",
       "      <td>...</td>\n",
       "      <td>4487.000000</td>\n",
       "      <td>4496.000000</td>\n",
       "      <td>4495.000000</td>\n",
       "      <td>3146.000000</td>\n",
       "      <td>3146.000000</td>\n",
       "      <td>3146.000000</td>\n",
       "      <td>3.147000e+03</td>\n",
       "      <td>3.147000e+03</td>\n",
       "      <td>3073.000000</td>\n",
       "      <td>4495.000000</td>\n",
       "    </tr>\n",
       "    <tr>\n",
       "      <th>mean</th>\n",
       "      <td>31.439870</td>\n",
       "      <td>80.556940</td>\n",
       "      <td>90.924579</td>\n",
       "      <td>2.864324</td>\n",
       "      <td>1.225986</td>\n",
       "      <td>93.323788</td>\n",
       "      <td>10.141904</td>\n",
       "      <td>1.385454</td>\n",
       "      <td>0.946295</td>\n",
       "      <td>5.991770</td>\n",
       "      <td>...</td>\n",
       "      <td>1.150435</td>\n",
       "      <td>1.414416</td>\n",
       "      <td>0.745050</td>\n",
       "      <td>5.813246</td>\n",
       "      <td>34.920619</td>\n",
       "      <td>214.912424</td>\n",
       "      <td>4.386975e+05</td>\n",
       "      <td>5.008933e+08</td>\n",
       "      <td>4.529253</td>\n",
       "      <td>2.029366</td>\n",
       "    </tr>\n",
       "    <tr>\n",
       "      <th>std</th>\n",
       "      <td>25.871418</td>\n",
       "      <td>58.915794</td>\n",
       "      <td>21.642376</td>\n",
       "      <td>1.722148</td>\n",
       "      <td>0.480064</td>\n",
       "      <td>9.133501</td>\n",
       "      <td>22.342473</td>\n",
       "      <td>0.996658</td>\n",
       "      <td>1.143208</td>\n",
       "      <td>11.255617</td>\n",
       "      <td>...</td>\n",
       "      <td>0.379318</td>\n",
       "      <td>1.318117</td>\n",
       "      <td>0.529467</td>\n",
       "      <td>1.061670</td>\n",
       "      <td>11.357470</td>\n",
       "      <td>96.884368</td>\n",
       "      <td>6.959114e+05</td>\n",
       "      <td>1.179754e+09</td>\n",
       "      <td>0.130507</td>\n",
       "      <td>0.838032</td>\n",
       "    </tr>\n",
       "    <tr>\n",
       "      <th>min</th>\n",
       "      <td>4.000000</td>\n",
       "      <td>10.000000</td>\n",
       "      <td>0.000000</td>\n",
       "      <td>1.000000</td>\n",
       "      <td>0.000000</td>\n",
       "      <td>20.000000</td>\n",
       "      <td>0.000000</td>\n",
       "      <td>1.000000</td>\n",
       "      <td>0.020000</td>\n",
       "      <td>0.000000</td>\n",
       "      <td>...</td>\n",
       "      <td>0.000000</td>\n",
       "      <td>0.000000</td>\n",
       "      <td>0.000000</td>\n",
       "      <td>0.000000</td>\n",
       "      <td>0.000000</td>\n",
       "      <td>0.000000</td>\n",
       "      <td>0.000000e+00</td>\n",
       "      <td>0.000000e+00</td>\n",
       "      <td>2.995732</td>\n",
       "      <td>1.000000</td>\n",
       "    </tr>\n",
       "    <tr>\n",
       "      <th>25%</th>\n",
       "      <td>15.000000</td>\n",
       "      <td>40.000000</td>\n",
       "      <td>96.000000</td>\n",
       "      <td>2.000000</td>\n",
       "      <td>1.000000</td>\n",
       "      <td>90.000000</td>\n",
       "      <td>0.000000</td>\n",
       "      <td>1.000000</td>\n",
       "      <td>0.210000</td>\n",
       "      <td>0.000000</td>\n",
       "      <td>...</td>\n",
       "      <td>1.000000</td>\n",
       "      <td>0.000000</td>\n",
       "      <td>0.000000</td>\n",
       "      <td>5.269144</td>\n",
       "      <td>27.763878</td>\n",
       "      <td>146.291911</td>\n",
       "      <td>3.763600e+04</td>\n",
       "      <td>7.301384e+06</td>\n",
       "      <td>4.499810</td>\n",
       "      <td>1.000000</td>\n",
       "    </tr>\n",
       "    <tr>\n",
       "      <th>50%</th>\n",
       "      <td>25.000000</td>\n",
       "      <td>65.000000</td>\n",
       "      <td>100.000000</td>\n",
       "      <td>2.000000</td>\n",
       "      <td>1.000000</td>\n",
       "      <td>96.000000</td>\n",
       "      <td>2.000000</td>\n",
       "      <td>1.000000</td>\n",
       "      <td>0.520000</td>\n",
       "      <td>0.000000</td>\n",
       "      <td>...</td>\n",
       "      <td>1.000000</td>\n",
       "      <td>1.098612</td>\n",
       "      <td>1.000000</td>\n",
       "      <td>6.006350</td>\n",
       "      <td>36.076248</td>\n",
       "      <td>216.686649</td>\n",
       "      <td>1.640250e+05</td>\n",
       "      <td>6.643012e+07</td>\n",
       "      <td>4.564348</td>\n",
       "      <td>2.000000</td>\n",
       "    </tr>\n",
       "    <tr>\n",
       "      <th>75%</th>\n",
       "      <td>40.000000</td>\n",
       "      <td>100.000000</td>\n",
       "      <td>100.000000</td>\n",
       "      <td>4.000000</td>\n",
       "      <td>1.500000</td>\n",
       "      <td>100.000000</td>\n",
       "      <td>10.000000</td>\n",
       "      <td>1.000000</td>\n",
       "      <td>1.190000</td>\n",
       "      <td>10.000000</td>\n",
       "      <td>...</td>\n",
       "      <td>1.000000</td>\n",
       "      <td>2.397895</td>\n",
       "      <td>1.000000</td>\n",
       "      <td>6.512487</td>\n",
       "      <td>42.412491</td>\n",
       "      <td>276.210824</td>\n",
       "      <td>4.529300e+05</td>\n",
       "      <td>3.048232e+08</td>\n",
       "      <td>4.605170</td>\n",
       "      <td>3.000000</td>\n",
       "    </tr>\n",
       "    <tr>\n",
       "      <th>max</th>\n",
       "      <td>500.000000</td>\n",
       "      <td>850.000000</td>\n",
       "      <td>100.000000</td>\n",
       "      <td>16.000000</td>\n",
       "      <td>8.000000</td>\n",
       "      <td>100.000000</td>\n",
       "      <td>290.000000</td>\n",
       "      <td>12.000000</td>\n",
       "      <td>9.729999</td>\n",
       "      <td>200.000000</td>\n",
       "      <td>...</td>\n",
       "      <td>2.000000</td>\n",
       "      <td>5.673323</td>\n",
       "      <td>2.000000</td>\n",
       "      <td>7.773594</td>\n",
       "      <td>60.428771</td>\n",
       "      <td>469.748759</td>\n",
       "      <td>5.650129e+06</td>\n",
       "      <td>1.343036e+10</td>\n",
       "      <td>4.605170</td>\n",
       "      <td>3.000000</td>\n",
       "    </tr>\n",
       "  </tbody>\n",
       "</table>\n",
       "<p>8 rows × 80 columns</p>\n",
       "</div>"
      ],
      "text/plain": [
       "       usd_cleaning_fee  usd_price_day  p_host_response_rate  n_accommodates  \\\n",
       "count       2769.000000    4496.000000           2970.000000     4496.000000   \n",
       "mean          31.439870      80.556940             90.924579        2.864324   \n",
       "std           25.871418      58.915794             21.642376        1.722148   \n",
       "min            4.000000      10.000000              0.000000        1.000000   \n",
       "25%           15.000000      40.000000             96.000000        2.000000   \n",
       "50%           25.000000      65.000000            100.000000        2.000000   \n",
       "75%           40.000000     100.000000            100.000000        4.000000   \n",
       "max          500.000000     850.000000            100.000000       16.000000   \n",
       "\n",
       "       n_bathrooms  n_review_scores_rating  n_number_of_reviews  \\\n",
       "count  4487.000000             3073.000000          4496.000000   \n",
       "mean      1.225986               93.323788            10.141904   \n",
       "std       0.480064                9.133501            22.342473   \n",
       "min       0.000000               20.000000             0.000000   \n",
       "25%       1.000000               90.000000             0.000000   \n",
       "50%       1.000000               96.000000             2.000000   \n",
       "75%       1.500000              100.000000            10.000000   \n",
       "max       8.000000              100.000000           290.000000   \n",
       "\n",
       "       n_guests_included  n_reviews_per_month  n_extra_people  ...  \\\n",
       "count        4496.000000          3147.000000     4496.000000  ...   \n",
       "mean            1.385454             0.946295        5.991770  ...   \n",
       "std             0.996658             1.143208       11.255617  ...   \n",
       "min             1.000000             0.020000        0.000000  ...   \n",
       "25%             1.000000             0.210000        0.000000  ...   \n",
       "50%             1.000000             0.520000        0.000000  ...   \n",
       "75%             1.000000             1.190000       10.000000  ...   \n",
       "max            12.000000             9.729999      200.000000  ...   \n",
       "\n",
       "        f_bathroom  ln_number_of_reviews  f_number_of_reviews  ln_days_since  \\\n",
       "count  4487.000000           4496.000000          4495.000000    3146.000000   \n",
       "mean      1.150435              1.414416             0.745050       5.813246   \n",
       "std       0.379318              1.318117             0.529467       1.061670   \n",
       "min       0.000000              0.000000             0.000000       0.000000   \n",
       "25%       1.000000              0.000000             0.000000       5.269144   \n",
       "50%       1.000000              1.098612             1.000000       6.006350   \n",
       "75%       1.000000              2.397895             1.000000       6.512487   \n",
       "max       2.000000              5.673323             2.000000       7.773594   \n",
       "\n",
       "       ln_days_since2  ln_days_since3  n_days_since2  n_days_since3  \\\n",
       "count     3146.000000     3146.000000   3.147000e+03   3.147000e+03   \n",
       "mean        34.920619      214.912424   4.386975e+05   5.008933e+08   \n",
       "std         11.357470       96.884368   6.959114e+05   1.179754e+09   \n",
       "min          0.000000        0.000000   0.000000e+00   0.000000e+00   \n",
       "25%         27.763878      146.291911   3.763600e+04   7.301384e+06   \n",
       "50%         36.076248      216.686649   1.640250e+05   6.643012e+07   \n",
       "75%         42.412491      276.210824   4.529300e+05   3.048232e+08   \n",
       "max         60.428771      469.748759   5.650129e+06   1.343036e+10   \n",
       "\n",
       "       ln_review_scores_rating  f_minimum_nights  \n",
       "count              3073.000000       4495.000000  \n",
       "mean                  4.529253          2.029366  \n",
       "std                   0.130507          0.838032  \n",
       "min                   2.995732          1.000000  \n",
       "25%                   4.499810          1.000000  \n",
       "50%                   4.564348          2.000000  \n",
       "75%                   4.605170          3.000000  \n",
       "max                   4.605170          3.000000  \n",
       "\n",
       "[8 rows x 80 columns]"
      ]
     },
     "execution_count": 3,
     "metadata": {},
     "output_type": "execute_result"
    }
   ],
   "source": [
    "data.describe()"
   ]
  },
  {
   "cell_type": "markdown",
   "metadata": {},
   "source": [
    "where do we have missing variables now?"
   ]
  },
  {
   "cell_type": "code",
   "execution_count": 4,
   "metadata": {},
   "outputs": [
    {
     "data": {
      "text/plain": [
       "usd_cleaning_fee           1727\n",
       "p_host_response_rate       1526\n",
       "n_bathrooms                   9\n",
       "n_review_scores_rating     1423\n",
       "n_reviews_per_month        1349\n",
       "n_beds                       12\n",
       "n_days_since               1349\n",
       "ln_beds                      12\n",
       "f_bathroom                    9\n",
       "f_number_of_reviews           1\n",
       "ln_days_since              1350\n",
       "ln_days_since2             1350\n",
       "ln_days_since3             1350\n",
       "n_days_since2              1349\n",
       "n_days_since3              1349\n",
       "ln_review_scores_rating    1423\n",
       "f_minimum_nights              1\n",
       "dtype: int64"
      ]
     },
     "execution_count": 4,
     "metadata": {},
     "output_type": "execute_result"
    }
   ],
   "source": [
    "data.isnull().sum().loc[lambda x: x > 0]"
   ]
  },
  {
   "cell_type": "markdown",
   "metadata": {},
   "source": [
    "What to do with missing values?\n",
    "\n",
    "   1. drop if no target (already did)"
   ]
  },
  {
   "cell_type": "code",
   "execution_count": 5,
   "metadata": {},
   "outputs": [],
   "source": [
    "data = data.dropna(subset=[\"price\"])"
   ]
  },
  {
   "cell_type": "markdown",
   "metadata": {},
   "source": [
    " 2. imput when few, not that important"
   ]
  },
  {
   "cell_type": "code",
   "execution_count": 6,
   "metadata": {},
   "outputs": [],
   "source": [
    "data[\"n_bathrooms\"] = data[\"n_bathrooms\"].fillna(np.nanmedian(data[\"n_bathrooms\"]))\n",
    "data[\"n_beds\"] = data[\"n_beds\"].fillna(data[\"n_accommodates\"])\n",
    "data[\"f_bathroom\"] = data[\"f_bathroom\"].fillna(1)\n",
    "data[\"f_minimum_nights\"] = data[\"f_minimum_nights\"].fillna(1)\n",
    "data[\"f_number_of_reviews\"] = data[\"f_number_of_reviews\"].fillna(1)\n",
    "data[\"ln_beds\"] = data[\"ln_beds\"].fillna(0)\n"
   ]
  },
  {
   "cell_type": "code",
   "execution_count": 7,
   "metadata": {},
   "outputs": [
    {
     "data": {
      "text/plain": [
       "count    4496.000000\n",
       "mean        1.225534\n",
       "std         0.479690\n",
       "min         0.000000\n",
       "25%         1.000000\n",
       "50%         1.000000\n",
       "75%         1.500000\n",
       "max         8.000000\n",
       "Name: n_bathrooms, dtype: float64"
      ]
     },
     "execution_count": 7,
     "metadata": {},
     "output_type": "execute_result"
    }
   ],
   "source": [
    "data[\"n_bathrooms\"].describe()\n"
   ]
  },
  {
   "cell_type": "markdown",
   "metadata": {},
   "source": [
    " 3. drop columns when many missing not imortant"
   ]
  },
  {
   "cell_type": "code",
   "execution_count": 8,
   "metadata": {},
   "outputs": [],
   "source": [
    "data = data.drop([\"usd_cleaning_fee\", \"p_host_response_rate\"], axis=1)"
   ]
  },
  {
   "cell_type": "markdown",
   "metadata": {},
   "source": [
    " where do we have missing variables now?"
   ]
  },
  {
   "cell_type": "code",
   "execution_count": 9,
   "metadata": {},
   "outputs": [
    {
     "data": {
      "text/plain": [
       "n_review_scores_rating     1423\n",
       "n_reviews_per_month        1349\n",
       "n_days_since               1349\n",
       "ln_days_since              1350\n",
       "ln_days_since2             1350\n",
       "ln_days_since3             1350\n",
       "n_days_since2              1349\n",
       "n_days_since3              1349\n",
       "ln_review_scores_rating    1423\n",
       "dtype: int64"
      ]
     },
     "execution_count": 9,
     "metadata": {},
     "output_type": "execute_result"
    }
   ],
   "source": [
    "data.isnull().sum().loc[lambda x: x > 0]"
   ]
  },
  {
   "cell_type": "markdown",
   "metadata": {},
   "source": [
    " 4. Replace missing variables re reviews with zero, when no review + add flags"
   ]
  },
  {
   "cell_type": "code",
   "execution_count": 10,
   "metadata": {},
   "outputs": [],
   "source": [
    "for var in [\"flag_days_since\", \"flag_review_scores_rating\", \"flag_reviews_per_month\"]:\n",
    "    data[var] = [int(x) for x in data[var.replace(\"flag\", \"n\")].isna()]"
   ]
  },
  {
   "cell_type": "code",
   "execution_count": 11,
   "metadata": {},
   "outputs": [],
   "source": [
    "data[\"n_days_since\"] = data[\"n_days_since\"].fillna(np.nanmedian(data[\"n_days_since\"]))\n",
    "data[\"n_review_scores_rating\"] = data[\"n_review_scores_rating\"].fillna(\n",
    "    np.nanmedian(data[\"n_review_scores_rating\"])\n",
    ")\n",
    "data[\"n_reviews_per_month\"] = data[\"n_reviews_per_month\"].fillna(\n",
    "    np.nanmedian(data[\"n_reviews_per_month\"])\n",
    ")\n"
   ]
  },
  {
   "cell_type": "code",
   "execution_count": 12,
   "metadata": {},
   "outputs": [
    {
     "data": {
      "text/plain": [
       "flag_days_since\n",
       "0    3147\n",
       "1    1349\n",
       "Name: count, dtype: int64"
      ]
     },
     "execution_count": 12,
     "metadata": {},
     "output_type": "execute_result"
    }
   ],
   "source": [
    "data.flag_days_since.value_counts()"
   ]
  },
  {
   "cell_type": "markdown",
   "metadata": {},
   "source": [
    "Add features -> different functional forms\n",
    "\n",
    "Create variables, measuring the time since: squared, cubic, logs\n"
   ]
  },
  {
   "cell_type": "code",
   "execution_count": 13,
   "metadata": {},
   "outputs": [],
   "source": [
    "data = data.assign(\n",
    "    ln_days_since=lambda x: np.log(x[\"n_days_since\"] + 1),\n",
    "    ln_days_since2=lambda x: np.log(x[\"n_days_since\"] + 1) ** 2,\n",
    "    ln_days_since3=lambda x: np.log(x[\"n_days_since\"] + 1) ** 3,\n",
    "    n_days_since2=lambda x: x[\"n_days_since\"] ** 2,\n",
    "    n_days_since3=lambda x: x[\"n_days_since\"] ** 3,\n",
    "    ln_review_scores_rating=lambda x: np.log(x[\"n_review_scores_rating\"]),\n",
    ").assign(\n",
    "    ln_days_since=lambda x: np.where(\n",
    "        x[\"ln_days_since\"].isnull(), 0, x[\"ln_days_since\"]\n",
    "    ),\n",
    "    ln_days_since2=lambda x: np.where(\n",
    "        x[\"ln_days_since2\"].isnull(), 0, x[\"ln_days_since2\"]\n",
    "    ),\n",
    "    ln_days_since3=lambda x: np.where(\n",
    "        x[\"ln_days_since3\"].isnull(), 0, x[\"ln_days_since3\"]\n",
    "    ),\n",
    ")"
   ]
  },
  {
   "cell_type": "markdown",
   "metadata": {},
   "source": [
    "Look at data"
   ]
  },
  {
   "cell_type": "code",
   "execution_count": 14,
   "metadata": {},
   "outputs": [
    {
     "data": {
      "text/html": [
       "<div>\n",
       "<style scoped>\n",
       "    .dataframe tbody tr th:only-of-type {\n",
       "        vertical-align: middle;\n",
       "    }\n",
       "\n",
       "    .dataframe tbody tr th {\n",
       "        vertical-align: top;\n",
       "    }\n",
       "\n",
       "    .dataframe thead th {\n",
       "        text-align: right;\n",
       "    }\n",
       "</style>\n",
       "<table border=\"1\" class=\"dataframe\">\n",
       "  <thead>\n",
       "    <tr style=\"text-align: right;\">\n",
       "      <th></th>\n",
       "      <th>usd_price_day</th>\n",
       "      <th>n_accommodates</th>\n",
       "      <th>n_bathrooms</th>\n",
       "      <th>n_review_scores_rating</th>\n",
       "      <th>n_number_of_reviews</th>\n",
       "      <th>n_guests_included</th>\n",
       "      <th>n_reviews_per_month</th>\n",
       "      <th>n_extra_people</th>\n",
       "      <th>n_minimum_nights</th>\n",
       "      <th>n_beds</th>\n",
       "      <th>...</th>\n",
       "      <th>ln_days_since</th>\n",
       "      <th>ln_days_since2</th>\n",
       "      <th>ln_days_since3</th>\n",
       "      <th>n_days_since2</th>\n",
       "      <th>n_days_since3</th>\n",
       "      <th>ln_review_scores_rating</th>\n",
       "      <th>f_minimum_nights</th>\n",
       "      <th>flag_days_since</th>\n",
       "      <th>flag_review_scores_rating</th>\n",
       "      <th>flag_reviews_per_month</th>\n",
       "    </tr>\n",
       "  </thead>\n",
       "  <tbody>\n",
       "    <tr>\n",
       "      <th>count</th>\n",
       "      <td>4496.000000</td>\n",
       "      <td>4496.000000</td>\n",
       "      <td>4496.000000</td>\n",
       "      <td>4496.000000</td>\n",
       "      <td>4496.000000</td>\n",
       "      <td>4496.000000</td>\n",
       "      <td>4496.000000</td>\n",
       "      <td>4496.000000</td>\n",
       "      <td>4496.000000</td>\n",
       "      <td>4496.000000</td>\n",
       "      <td>...</td>\n",
       "      <td>4496.000000</td>\n",
       "      <td>4496.000000</td>\n",
       "      <td>4496.000000</td>\n",
       "      <td>4.496000e+03</td>\n",
       "      <td>4.496000e+03</td>\n",
       "      <td>4496.000000</td>\n",
       "      <td>4496.000000</td>\n",
       "      <td>4496.000000</td>\n",
       "      <td>4496.000000</td>\n",
       "      <td>4496.000000</td>\n",
       "    </tr>\n",
       "    <tr>\n",
       "      <th>mean</th>\n",
       "      <td>80.556940</td>\n",
       "      <td>2.864324</td>\n",
       "      <td>1.225534</td>\n",
       "      <td>94.170819</td>\n",
       "      <td>10.141904</td>\n",
       "      <td>1.385454</td>\n",
       "      <td>0.818387</td>\n",
       "      <td>5.991770</td>\n",
       "      <td>3.127002</td>\n",
       "      <td>1.577847</td>\n",
       "      <td>...</td>\n",
       "      <td>5.874549</td>\n",
       "      <td>35.296294</td>\n",
       "      <td>215.650102</td>\n",
       "      <td>3.562836e+05</td>\n",
       "      <td>3.705350e+08</td>\n",
       "      <td>4.540361</td>\n",
       "      <td>2.029137</td>\n",
       "      <td>0.300044</td>\n",
       "      <td>0.316504</td>\n",
       "      <td>0.300044</td>\n",
       "    </tr>\n",
       "    <tr>\n",
       "      <th>std</th>\n",
       "      <td>58.915794</td>\n",
       "      <td>1.722148</td>\n",
       "      <td>0.479690</td>\n",
       "      <td>7.652561</td>\n",
       "      <td>22.342473</td>\n",
       "      <td>0.996658</td>\n",
       "      <td>0.976154</td>\n",
       "      <td>11.255617</td>\n",
       "      <td>6.160668</td>\n",
       "      <td>1.044372</td>\n",
       "      <td>...</td>\n",
       "      <td>0.886647</td>\n",
       "      <td>9.482548</td>\n",
       "      <td>80.906146</td>\n",
       "      <td>5.956503e+05</td>\n",
       "      <td>1.006861e+09</td>\n",
       "      <td>0.109118</td>\n",
       "      <td>0.838079</td>\n",
       "      <td>0.458328</td>\n",
       "      <td>0.465164</td>\n",
       "      <td>0.458328</td>\n",
       "    </tr>\n",
       "    <tr>\n",
       "      <th>min</th>\n",
       "      <td>10.000000</td>\n",
       "      <td>1.000000</td>\n",
       "      <td>0.000000</td>\n",
       "      <td>20.000000</td>\n",
       "      <td>0.000000</td>\n",
       "      <td>1.000000</td>\n",
       "      <td>0.020000</td>\n",
       "      <td>0.000000</td>\n",
       "      <td>1.000000</td>\n",
       "      <td>1.000000</td>\n",
       "      <td>...</td>\n",
       "      <td>0.000000</td>\n",
       "      <td>0.000000</td>\n",
       "      <td>0.000000</td>\n",
       "      <td>0.000000e+00</td>\n",
       "      <td>0.000000e+00</td>\n",
       "      <td>2.995732</td>\n",
       "      <td>1.000000</td>\n",
       "      <td>0.000000</td>\n",
       "      <td>0.000000</td>\n",
       "      <td>0.000000</td>\n",
       "    </tr>\n",
       "    <tr>\n",
       "      <th>25%</th>\n",
       "      <td>40.000000</td>\n",
       "      <td>2.000000</td>\n",
       "      <td>1.000000</td>\n",
       "      <td>93.000000</td>\n",
       "      <td>0.000000</td>\n",
       "      <td>1.000000</td>\n",
       "      <td>0.330000</td>\n",
       "      <td>0.000000</td>\n",
       "      <td>1.000000</td>\n",
       "      <td>1.000000</td>\n",
       "      <td>...</td>\n",
       "      <td>5.551989</td>\n",
       "      <td>30.824581</td>\n",
       "      <td>171.137760</td>\n",
       "      <td>6.592075e+04</td>\n",
       "      <td>1.692525e+07</td>\n",
       "      <td>4.532599</td>\n",
       "      <td>1.000000</td>\n",
       "      <td>0.000000</td>\n",
       "      <td>0.000000</td>\n",
       "      <td>0.000000</td>\n",
       "    </tr>\n",
       "    <tr>\n",
       "      <th>50%</th>\n",
       "      <td>65.000000</td>\n",
       "      <td>2.000000</td>\n",
       "      <td>1.000000</td>\n",
       "      <td>96.000000</td>\n",
       "      <td>2.000000</td>\n",
       "      <td>1.000000</td>\n",
       "      <td>0.520000</td>\n",
       "      <td>0.000000</td>\n",
       "      <td>2.000000</td>\n",
       "      <td>1.000000</td>\n",
       "      <td>...</td>\n",
       "      <td>6.006353</td>\n",
       "      <td>36.076278</td>\n",
       "      <td>216.686868</td>\n",
       "      <td>1.640250e+05</td>\n",
       "      <td>6.643012e+07</td>\n",
       "      <td>4.564348</td>\n",
       "      <td>2.000000</td>\n",
       "      <td>0.000000</td>\n",
       "      <td>0.000000</td>\n",
       "      <td>0.000000</td>\n",
       "    </tr>\n",
       "    <tr>\n",
       "      <th>75%</th>\n",
       "      <td>100.000000</td>\n",
       "      <td>4.000000</td>\n",
       "      <td>1.500000</td>\n",
       "      <td>98.000000</td>\n",
       "      <td>10.000000</td>\n",
       "      <td>1.000000</td>\n",
       "      <td>0.860000</td>\n",
       "      <td>10.000000</td>\n",
       "      <td>3.000000</td>\n",
       "      <td>2.000000</td>\n",
       "      <td>...</td>\n",
       "      <td>6.335054</td>\n",
       "      <td>40.132912</td>\n",
       "      <td>254.244177</td>\n",
       "      <td>3.169690e+05</td>\n",
       "      <td>1.784535e+08</td>\n",
       "      <td>4.584967</td>\n",
       "      <td>3.000000</td>\n",
       "      <td>1.000000</td>\n",
       "      <td>1.000000</td>\n",
       "      <td>1.000000</td>\n",
       "    </tr>\n",
       "    <tr>\n",
       "      <th>max</th>\n",
       "      <td>850.000000</td>\n",
       "      <td>16.000000</td>\n",
       "      <td>8.000000</td>\n",
       "      <td>100.000000</td>\n",
       "      <td>290.000000</td>\n",
       "      <td>12.000000</td>\n",
       "      <td>9.729999</td>\n",
       "      <td>200.000000</td>\n",
       "      <td>180.000000</td>\n",
       "      <td>16.000000</td>\n",
       "      <td>...</td>\n",
       "      <td>7.774015</td>\n",
       "      <td>60.435310</td>\n",
       "      <td>469.825014</td>\n",
       "      <td>5.650129e+06</td>\n",
       "      <td>1.343036e+10</td>\n",
       "      <td>4.605170</td>\n",
       "      <td>3.000000</td>\n",
       "      <td>1.000000</td>\n",
       "      <td>1.000000</td>\n",
       "      <td>1.000000</td>\n",
       "    </tr>\n",
       "  </tbody>\n",
       "</table>\n",
       "<p>8 rows × 81 columns</p>\n",
       "</div>"
      ],
      "text/plain": [
       "       usd_price_day  n_accommodates  n_bathrooms  n_review_scores_rating  \\\n",
       "count    4496.000000     4496.000000  4496.000000             4496.000000   \n",
       "mean       80.556940        2.864324     1.225534               94.170819   \n",
       "std        58.915794        1.722148     0.479690                7.652561   \n",
       "min        10.000000        1.000000     0.000000               20.000000   \n",
       "25%        40.000000        2.000000     1.000000               93.000000   \n",
       "50%        65.000000        2.000000     1.000000               96.000000   \n",
       "75%       100.000000        4.000000     1.500000               98.000000   \n",
       "max       850.000000       16.000000     8.000000              100.000000   \n",
       "\n",
       "       n_number_of_reviews  n_guests_included  n_reviews_per_month  \\\n",
       "count          4496.000000        4496.000000          4496.000000   \n",
       "mean             10.141904           1.385454             0.818387   \n",
       "std              22.342473           0.996658             0.976154   \n",
       "min               0.000000           1.000000             0.020000   \n",
       "25%               0.000000           1.000000             0.330000   \n",
       "50%               2.000000           1.000000             0.520000   \n",
       "75%              10.000000           1.000000             0.860000   \n",
       "max             290.000000          12.000000             9.729999   \n",
       "\n",
       "       n_extra_people  n_minimum_nights       n_beds  ...  ln_days_since  \\\n",
       "count     4496.000000       4496.000000  4496.000000  ...    4496.000000   \n",
       "mean         5.991770          3.127002     1.577847  ...       5.874549   \n",
       "std         11.255617          6.160668     1.044372  ...       0.886647   \n",
       "min          0.000000          1.000000     1.000000  ...       0.000000   \n",
       "25%          0.000000          1.000000     1.000000  ...       5.551989   \n",
       "50%          0.000000          2.000000     1.000000  ...       6.006353   \n",
       "75%         10.000000          3.000000     2.000000  ...       6.335054   \n",
       "max        200.000000        180.000000    16.000000  ...       7.774015   \n",
       "\n",
       "       ln_days_since2  ln_days_since3  n_days_since2  n_days_since3  \\\n",
       "count     4496.000000     4496.000000   4.496000e+03   4.496000e+03   \n",
       "mean        35.296294      215.650102   3.562836e+05   3.705350e+08   \n",
       "std          9.482548       80.906146   5.956503e+05   1.006861e+09   \n",
       "min          0.000000        0.000000   0.000000e+00   0.000000e+00   \n",
       "25%         30.824581      171.137760   6.592075e+04   1.692525e+07   \n",
       "50%         36.076278      216.686868   1.640250e+05   6.643012e+07   \n",
       "75%         40.132912      254.244177   3.169690e+05   1.784535e+08   \n",
       "max         60.435310      469.825014   5.650129e+06   1.343036e+10   \n",
       "\n",
       "       ln_review_scores_rating  f_minimum_nights  flag_days_since  \\\n",
       "count              4496.000000       4496.000000      4496.000000   \n",
       "mean                  4.540361          2.029137         0.300044   \n",
       "std                   0.109118          0.838079         0.458328   \n",
       "min                   2.995732          1.000000         0.000000   \n",
       "25%                   4.532599          1.000000         0.000000   \n",
       "50%                   4.564348          2.000000         0.000000   \n",
       "75%                   4.584967          3.000000         1.000000   \n",
       "max                   4.605170          3.000000         1.000000   \n",
       "\n",
       "       flag_review_scores_rating  flag_reviews_per_month  \n",
       "count                4496.000000             4496.000000  \n",
       "mean                    0.316504                0.300044  \n",
       "std                     0.465164                0.458328  \n",
       "min                     0.000000                0.000000  \n",
       "25%                     0.000000                0.000000  \n",
       "50%                     0.000000                0.000000  \n",
       "75%                     1.000000                1.000000  \n",
       "max                     1.000000                1.000000  \n",
       "\n",
       "[8 rows x 81 columns]"
      ]
     },
     "execution_count": 14,
     "metadata": {},
     "output_type": "execute_result"
    }
   ],
   "source": [
    "data.describe()"
   ]
  },
  {
   "cell_type": "markdown",
   "metadata": {},
   "source": [
    " where do we have missing variables now?"
   ]
  },
  {
   "cell_type": "code",
   "execution_count": 15,
   "metadata": {},
   "outputs": [
    {
     "data": {
      "text/plain": [
       "Series([], dtype: int64)"
      ]
     },
     "execution_count": 15,
     "metadata": {},
     "output_type": "execute_result"
    }
   ],
   "source": [
    "data.isnull().sum().loc[lambda x: x > 0]"
   ]
  },
  {
   "cell_type": "markdown",
   "metadata": {},
   "source": [
    "### Business logic - define our prediction problem"
   ]
  },
  {
   "cell_type": "markdown",
   "metadata": {},
   "source": [
    "Decision\n",
    "\n",
    "Size, we need a normal apartment, 1-7persons"
   ]
  },
  {
   "cell_type": "code",
   "execution_count": 16,
   "metadata": {},
   "outputs": [],
   "source": [
    "data = data.loc[data.n_accommodates < 8]"
   ]
  },
  {
   "cell_type": "code",
   "execution_count": 17,
   "metadata": {},
   "outputs": [],
   "source": [
    "data.to_csv(\"airbnb_hackney_work.csv\", index=False)"
   ]
  },
  {
   "cell_type": "markdown",
   "metadata": {},
   "source": [
    "### Look at some descriptive statistics\n",
    "\n",
    "How is the average price changing in my district by `property_type`, `room_type` and the `bed_type`?"
   ]
  },
  {
   "cell_type": "code",
   "execution_count": 18,
   "metadata": {},
   "outputs": [
    {
     "data": {
      "text/html": [
       "<div>\n",
       "<style scoped>\n",
       "    .dataframe tbody tr th:only-of-type {\n",
       "        vertical-align: middle;\n",
       "    }\n",
       "\n",
       "    .dataframe tbody tr th {\n",
       "        vertical-align: top;\n",
       "    }\n",
       "\n",
       "    .dataframe thead th {\n",
       "        text-align: right;\n",
       "    }\n",
       "</style>\n",
       "<table border=\"1\" class=\"dataframe\">\n",
       "  <thead>\n",
       "    <tr style=\"text-align: right;\">\n",
       "      <th></th>\n",
       "      <th></th>\n",
       "      <th>mean_price</th>\n",
       "    </tr>\n",
       "    <tr>\n",
       "      <th>f_property_type</th>\n",
       "      <th>f_room_type</th>\n",
       "      <th></th>\n",
       "    </tr>\n",
       "  </thead>\n",
       "  <tbody>\n",
       "    <tr>\n",
       "      <th rowspan=\"3\" valign=\"top\">Apartment</th>\n",
       "      <th>Entire home/apt</th>\n",
       "      <td>106.364341</td>\n",
       "    </tr>\n",
       "    <tr>\n",
       "      <th>Private room</th>\n",
       "      <td>48.034439</td>\n",
       "    </tr>\n",
       "    <tr>\n",
       "      <th>Shared room</th>\n",
       "      <td>50.708333</td>\n",
       "    </tr>\n",
       "    <tr>\n",
       "      <th rowspan=\"3\" valign=\"top\">House</th>\n",
       "      <th>Entire home/apt</th>\n",
       "      <td>134.794118</td>\n",
       "    </tr>\n",
       "    <tr>\n",
       "      <th>Private room</th>\n",
       "      <td>42.931487</td>\n",
       "    </tr>\n",
       "    <tr>\n",
       "      <th>Shared room</th>\n",
       "      <td>38.666667</td>\n",
       "    </tr>\n",
       "  </tbody>\n",
       "</table>\n",
       "</div>"
      ],
      "text/plain": [
       "                                 mean_price\n",
       "f_property_type f_room_type                \n",
       "Apartment       Entire home/apt  106.364341\n",
       "                Private room      48.034439\n",
       "                Shared room       50.708333\n",
       "House           Entire home/apt  134.794118\n",
       "                Private room      42.931487\n",
       "                Shared room       38.666667"
      ]
     },
     "execution_count": 18,
     "metadata": {},
     "output_type": "execute_result"
    }
   ],
   "source": [
    "data.groupby([\"f_property_type\", \"f_room_type\"]).agg(mean_price=(\"price\", np.mean))"
   ]
  },
  {
   "cell_type": "code",
   "execution_count": 19,
   "metadata": {},
   "outputs": [
    {
     "data": {
      "text/html": [
       "<div>\n",
       "<style scoped>\n",
       "    .dataframe tbody tr th:only-of-type {\n",
       "        vertical-align: middle;\n",
       "    }\n",
       "\n",
       "    .dataframe tbody tr th {\n",
       "        vertical-align: top;\n",
       "    }\n",
       "\n",
       "    .dataframe thead th {\n",
       "        text-align: right;\n",
       "    }\n",
       "</style>\n",
       "<table border=\"1\" class=\"dataframe\">\n",
       "  <thead>\n",
       "    <tr style=\"text-align: right;\">\n",
       "      <th></th>\n",
       "      <th>mean_price</th>\n",
       "    </tr>\n",
       "    <tr>\n",
       "      <th>f_bed_type</th>\n",
       "      <th></th>\n",
       "    </tr>\n",
       "  </thead>\n",
       "  <tbody>\n",
       "    <tr>\n",
       "      <th>Couch</th>\n",
       "      <td>49.091954</td>\n",
       "    </tr>\n",
       "    <tr>\n",
       "      <th>Real Bed</th>\n",
       "      <td>77.838365</td>\n",
       "    </tr>\n",
       "  </tbody>\n",
       "</table>\n",
       "</div>"
      ],
      "text/plain": [
       "            mean_price\n",
       "f_bed_type            \n",
       "Couch        49.091954\n",
       "Real Bed     77.838365"
      ]
     },
     "execution_count": 19,
     "metadata": {},
     "output_type": "execute_result"
    }
   ],
   "source": [
    "data.groupby([\"f_bed_type\"]).agg(mean_price=(\"price\", np.mean))"
   ]
  },
  {
   "cell_type": "code",
   "execution_count": 20,
   "metadata": {},
   "outputs": [
    {
     "data": {
      "text/plain": [
       "count    4393.000000\n",
       "mean       77.269064\n",
       "std        53.265471\n",
       "min        10.000000\n",
       "25%        40.000000\n",
       "50%        65.000000\n",
       "75%        99.000000\n",
       "max       850.000000\n",
       "Name: price, dtype: float64"
      ]
     },
     "execution_count": 20,
     "metadata": {},
     "output_type": "execute_result"
    }
   ],
   "source": [
    "data.price.describe()"
   ]
  },
  {
   "cell_type": "markdown",
   "metadata": {},
   "source": [
    " NB all graphs, we exclude  extreme values of price"
   ]
  },
  {
   "cell_type": "code",
   "execution_count": 21,
   "metadata": {},
   "outputs": [],
   "source": [
    "datau = data.loc[data.price < 400]"
   ]
  },
  {
   "cell_type": "markdown",
   "metadata": {},
   "source": [
    "Histograms price\n",
    "\n",
    "Distribution of price by type below 400"
   ]
  },
  {
   "cell_type": "markdown",
   "metadata": {},
   "source": [
    "### Figure 14.3 Airbnb apartment price and ln price distributions.\n",
    "\n",
    "(a) Price"
   ]
  },
  {
   "cell_type": "code",
   "execution_count": 22,
   "metadata": {},
   "outputs": [
    {
     "data": {
      "image/png": "[encoded data removed]",
      "text/plain": [
       "<Figure size 800x500 with 1 Axes>"
      ]
     },
     "metadata": {},
     "output_type": "display_data"
    }
   ],
   "source": [
    "plt.figure(figsize=(8, 5))\n",
    "plt.hist(datau[\"price\"], bins=40, color=\"skyblue\", edgecolor=\"black\", alpha=0.8, weights=np.ones(len(datau)) / len(datau))\n",
    "plt.xlabel(\"Price (US dollars)\")\n",
    "plt.ylabel(\"Percent\")\n",
    "plt.title(\"Price Distribution (%)\")\n",
    "plt.xlim(0, 400)\n",
    "plt.ylim(0, 0.15)\n",
    "plt.yticks(np.arange(0, 0.16, 0.03), [f\"{int(x*100)}%\" \n",
    "                                      for x in np.arange(0, 0.16, 0.03)])\n",
    "plt.xticks(np.arange(0, 401, 50))\n",
    "plt.tight_layout()\n",
    "plt.show()\n"
   ]
  },
  {
   "cell_type": "code",
   "execution_count": 23,
   "metadata": {},
   "outputs": [
    {
     "data": {
      "image/png": "[encoded data removed]",
      "text/plain": [
       "<Figure size 800x500 with 1 Axes>"
      ]
     },
     "metadata": {},
     "output_type": "display_data"
    }
   ],
   "source": [
    "plt.figure(figsize=(8, 5))\n",
    "plt.hist(datau[\"ln_price\"], bins=20, color=\"skyblue\", edgecolor=\"black\", alpha=0.8, weights=np.ones(len(datau)) / len(datau))\n",
    "plt.xlabel(\"Price (US dollars)\")\n",
    "plt.ylabel(\"Percent\")\n",
    "plt.title(\"Price Distribution (%)\")\n",
    "plt.xlim(2, 6)\n",
    "plt.ylim(0, 0.15)\n",
    "plt.yticks(np.arange(0, 0.16, 0.03), [f\"{int(x*100)}%\" \n",
    "                                      for x in np.arange(0, 0.16, 0.03)])\n",
    "plt.xticks(np.arange(2.4, 6,0.6))\n",
    "plt.tight_layout()\n",
    "plt.show()\n"
   ]
  },
  {
   "cell_type": "markdown",
   "metadata": {},
   "source": [
    "### Figure 14.4 Airbnb apartment price distribution by important features\n",
    "\n",
    "(a) Price by room type"
   ]
  },
  {
   "cell_type": "code",
   "execution_count": 24,
   "metadata": {},
   "outputs": [
    {
     "data": {
      "image/png": "[encoded data removed]",
      "text/plain": [
       "<Figure size 640x480 with 1 Axes>"
      ]
     },
     "metadata": {},
     "output_type": "display_data"
    }
   ],
   "source": [
    "import seaborn as sns\n",
    "import matplotlib as mpl\n",
    "import matplotlib.pyplot as plt\n",
    "import matplotlib.ticker as mtick\n",
    "sns.set_style(\"whitegrid\")\n",
    "\n",
    "datau[\"f_room_type\"] = pd.Categorical(\n",
    "    datau[\"f_room_type\"], categories=sorted(set(datau[\"f_room_type\"]), reverse=False)\n",
    ")\n",
    "\n",
    "fig, ax = plt.subplots()\n",
    "sns.boxplot(data=datau, x=\"f_room_type\", y=\"price\", width=0.8, ax=ax, showfliers=False)\n",
    "\n",
    "box_line_col = [\"green\", \"navy\", \"purple\"]\n",
    "for i, box_col in enumerate(box_line_col):\n",
    "    mybox = ax.patches[i]\n",
    "    mybox.set_facecolor(mpl.colors.to_rgba(box_col, 0.3))\n",
    "    mybox.set_edgecolor(box_col)\n",
    "    for j in range(i * 5, i * 5 + 5):\n",
    "        line = ax.lines[j]\n",
    "        line.set_color(box_col)\n",
    "\n",
    "plt.ylabel(\"Price (US dollars)\", size=12)\n",
    "plt.xlabel(\"Room type\", size=12)\n",
    "plt.yticks(np.arange(0, 300, 50))\n",
    "plt.show()"
   ]
  },
  {
   "cell_type": "markdown",
   "metadata": {},
   "source": [
    "(b) Price by number of people accommodated and apartment versus house in US dollars"
   ]
  },
  {
   "cell_type": "code",
   "execution_count": 25,
   "metadata": {},
   "outputs": [],
   "source": [
    "datau[\"n_accommodates\"] = datau[\"n_accommodates\"].astype(int).astype(\"category\")"
   ]
  },
  {
   "cell_type": "code",
   "execution_count": 26,
   "metadata": {},
   "outputs": [
    {
     "data": {
      "image/png": "[encoded data removed]",
      "text/plain": [
       "<Figure size 640x480 with 1 Axes>"
      ]
     },
     "metadata": {},
     "output_type": "display_data"
    }
   ],
   "source": [
    "fig, ax = plt.subplots()\n",
    "# Create the boxplot\n",
    "sns.boxplot(\n",
    "    x='n_accommodates',\n",
    "    y='price',\n",
    "    hue='f_property_type',\n",
    "    data=datau,\n",
    "    showfliers = False,\n",
    "    palette={'Apartment': \"green\", 'House': \"navy\"}\n",
    ")\n",
    "\n",
    "\n",
    "for patch in ax.patches:\n",
    "    r, g, b, _ = patch.get_facecolor()\n",
    "    patch.set_facecolor((r, g, b, 0.7))\n",
    "    patch.set_edgecolor((r, g, b, 0.7))\n",
    "\n",
    "\n",
    "for i in range(0,int(len(ax.lines)/2)):\n",
    "    ax.lines[i].set_color(\"green\")\n",
    "\n",
    "for i in range(int(len(ax.lines)/2),len(ax.lines)):\n",
    "    ax.lines[i].set_color(\"navy\")\n",
    "\n",
    "ax.legend(bbox_to_anchor=(0.4, 0.85), framealpha=0)\n",
    "leg = ax.get_legend()\n",
    "leg.set_title(None)\n",
    "leg.legend_handles[0].set_color(\"green\")\n",
    "leg.legend_handles[1].set_color(\"navy\")\n",
    "\n",
    "plt.ylabel(\"Price (US dollars)\", size=12)\n",
    "plt.xlabel(\"Guests accommodated\", size=12)\n",
    "plt.yticks(np.arange(0, 401, 50))\n",
    "plt.show()"
   ]
  },
  {
   "cell_type": "markdown",
   "metadata": {},
   "source": [
    "### Part2"
   ]
  },
  {
   "cell_type": "code",
   "execution_count": 27,
   "metadata": {},
   "outputs": [],
   "source": [
    "data = pd.read_csv(\"airbnb_hackney_work.csv\")"
   ]
  },
  {
   "cell_type": "code",
   "execution_count": 28,
   "metadata": {},
   "outputs": [
    {
     "data": {
      "text/plain": [
       "Index(['f_property_type', 'f_room_type', 'f_room_type2',\n",
       "       'f_cancellation_policy', 'f_bed_type', 'f_neighbourhood_cleansed',\n",
       "       'usd_price_day', 'n_accommodates', 'n_bathrooms',\n",
       "       'n_review_scores_rating', 'n_number_of_reviews', 'n_guests_included',\n",
       "       'n_reviews_per_month', 'n_extra_people', 'n_minimum_nights', 'n_beds',\n",
       "       'n_days_since', 'd_reviews_per_month', 'd_24-hour check-in',\n",
       "       'd_air conditioning', 'd_breakfast', 'd_buzzer/wireless intercom',\n",
       "       'd_cable tv', 'd_carbon monoxide detector', 'd_cat(s)', 'd_dog(s)',\n",
       "       'd_doorman', 'd_doorman entry', 'd_dryer', 'd_elevator in building',\n",
       "       'd_essentials', 'd_family/kid friendly', 'd_fire extinguisher',\n",
       "       'd_first aid kit', 'd_free parking on premises',\n",
       "       'd_free parking on street', 'd_gym', 'd_hair dryer', 'd_hangers',\n",
       "       'd_heating', 'd_hot tub', 'd_indoor fireplace', 'd_internet', 'd_iron',\n",
       "       'd_keypad', 'd_kitchen', 'd_laptop friendly workspace',\n",
       "       'd_lock on bedroom door', 'd_lockbox', 'd_other pet(s)',\n",
       "       'd_paid parking off premises', 'd_pets allowed',\n",
       "       'd_pets live on this property', 'd_pool', 'd_private entrance',\n",
       "       'd_private living room', 'd_safety card', 'd_self check-in',\n",
       "       'd_shampoo', 'd_smartlock', 'd_smoke detector', 'd_smoking allowed',\n",
       "       'd_suitable for events', 'd_tv', 'd_washer', 'd_washer / dryer',\n",
       "       'd_wheelchair accessible', 'price', 'id', 'neighbourhood_cleansed',\n",
       "       'cancellation_policy', 'room_type', 'property_type', 'ln_price',\n",
       "       'n_accommodates2', 'ln_accommodates', 'ln_accommodates2', 'ln_beds',\n",
       "       'f_bathroom', 'ln_number_of_reviews', 'f_number_of_reviews',\n",
       "       'ln_days_since', 'ln_days_since2', 'ln_days_since3', 'n_days_since2',\n",
       "       'n_days_since3', 'ln_review_scores_rating', 'f_minimum_nights',\n",
       "       'flag_days_since', 'flag_review_scores_rating',\n",
       "       'flag_reviews_per_month'],\n",
       "      dtype='object')"
      ]
     },
     "execution_count": 28,
     "metadata": {},
     "output_type": "execute_result"
    }
   ],
   "source": [
    "data.columns"
   ]
  },
  {
   "cell_type": "code",
   "execution_count": 61,
   "metadata": {},
   "outputs": [],
   "source": [
    "data[\"ln_price\"] = np.log(data[\"price\"])"
   ]
  },
  {
   "cell_type": "code",
   "execution_count": 62,
   "metadata": {},
   "outputs": [
    {
     "data": {
      "text/plain": [
       "Index(['f_property_type', 'f_room_type', 'f_room_type2',\n",
       "       'f_cancellation_policy', 'f_bed_type', 'f_neighbourhood_cleansed',\n",
       "       'usd_price_day', 'n_accommodates', 'n_bathrooms',\n",
       "       'n_review_scores_rating', 'n_number_of_reviews', 'n_guests_included',\n",
       "       'n_reviews_per_month', 'n_extra_people', 'n_minimum_nights', 'n_beds',\n",
       "       'n_days_since', 'd_reviews_per_month', 'd_24hour_checkin',\n",
       "       'd_air_conditioning', 'd_breakfast', 'd_buzzerwireless_intercom',\n",
       "       'd_cable_tv', 'd_carbon_monoxide_detector', 'd_cat', 'd_dog',\n",
       "       'd_doorman', 'd_doorman_entry', 'd_dryer', 'd_elevator_in_building',\n",
       "       'd_essentials', 'd_familykid_friendly', 'd_fire_extinguisher',\n",
       "       'd_first_aid_kit', 'd_free_parking_on_premises',\n",
       "       'd_free_parking_on_street', 'd_gym', 'd_hair_dryer', 'd_hangers',\n",
       "       'd_heating', 'd_hot_tub', 'd_indoor_fireplace', 'd_internet', 'd_iron',\n",
       "       'd_keypad', 'd_kitchen', 'd_laptop_friendly_workspace',\n",
       "       'd_lock_on_bedroom_door', 'd_lockbox', 'd_other_pet',\n",
       "       'd_paid_parking_off_premises', 'd_pets_allowed',\n",
       "       'd_pets_live_on_this_property', 'd_pool', 'd_private_entrance',\n",
       "       'd_private_living_room', 'd_safety_card', 'd_self_checkin', 'd_shampoo',\n",
       "       'd_smartlock', 'd_smoke_detector', 'd_smoking_allowed',\n",
       "       'd_suitable_for_events', 'd_tv', 'd_washer', 'd_washer__dryer',\n",
       "       'd_wheelchair_accessible', 'price', 'id', 'neighbourhood_cleansed',\n",
       "       'cancellation_policy', 'room_type', 'property_type', 'ln_price',\n",
       "       'n_accommodates2', 'ln_accommodates', 'ln_accommodates2', 'ln_beds',\n",
       "       'f_bathroom', 'ln_number_of_reviews', 'f_number_of_reviews',\n",
       "       'ln_days_since', 'ln_days_since2', 'ln_days_since3', 'n_days_since2',\n",
       "       'n_days_since3', 'ln_review_scores_rating', 'f_minimum_nights',\n",
       "       'flag_days_since', 'flag_review_scores_rating',\n",
       "       'flag_reviews_per_month'],\n",
       "      dtype='object')"
      ]
     },
     "execution_count": 62,
     "metadata": {},
     "output_type": "execute_result"
    }
   ],
   "source": [
    "data.columns = data.columns.str.replace('/', '')\n",
    "data.columns = data.columns.str.replace('-', '')\n",
    "data.columns = data.columns.str.replace(' ', '_')\n",
    "data.columns = data.columns.str.replace('(s)', '')\n",
    "\n",
    "\n",
    "data.columns\n"
   ]
  },
  {
   "cell_type": "code",
   "execution_count": 63,
   "metadata": {},
   "outputs": [],
   "source": [
    "data[\"f_number_of_reviews\"] = data[\"f_number_of_reviews\"].astype(\"category\")"
   ]
  },
  {
   "cell_type": "markdown",
   "metadata": {},
   "source": [
    "### Setting up models\n",
    "\n",
    "Basic variables"
   ]
  },
  {
   "cell_type": "code",
   "execution_count": 64,
   "metadata": {},
   "outputs": [],
   "source": [
    "basic_lev = (\n",
    "    \"n_accommodates\",\n",
    "    \"n_beds\",\n",
    "    \"n_days_since\",\n",
    "    \"f_property_type\",\n",
    "    \"f_room_type\",\n",
    "    \"f_bed_type\"\n",
    "#    \"flag_days_since\",\n",
    ")\n",
    "basic_add = (\"f_bathroom\", \"f_cancellation_policy\")\n",
    "reviews = (\"n_review_scores_rating\", \"f_number_of_reviews\", \"flag_review_scores_rating\")\n",
    "poly_lev = (\"n_accommodates2\", \"n_days_since2\", \"n_days_since3\")\n",
    "# not use p_host_response_rate due to missing obs\n",
    "amenities = tuple(list(data.filter(regex=\"^d_.*\")))\n"
   ]
  },
  {
   "cell_type": "markdown",
   "metadata": {},
   "source": [
    "### Look for interactions"
   ]
  },
  {
   "cell_type": "markdown",
   "metadata": {},
   "source": [
    "Use custom function `price_diff_by_variables` to calculate price differences by given variables"
   ]
  },
  {
   "cell_type": "code",
   "execution_count": 65,
   "metadata": {},
   "outputs": [],
   "source": [
    "def price_diff_by_variables(df, var1, var2, var1_label, var2_label):\n",
    "    \"\"\"\n",
    "    Calculate mean price for each combination of var1 and var2.\n",
    "    Returns a DataFrame with the results and appropriate labels.\n",
    "    \"\"\"\n",
    "    # Group by the two variables and calculate mean price\n",
    "    result = (\n",
    "        df.groupby([var1, var2])\n",
    "        .agg(mean_price=('price', 'mean'), count=('price', 'size'))\n",
    "        .reset_index()\n",
    "    )\n",
    "    # Rename columns for clarity\n",
    "    result = result.rename(\n",
    "        columns={\n",
    "            var1: var1_label,\n",
    "            var2: var2_label,\n",
    "            'mean_price': 'Mean Price',\n",
    "            'count': 'Count'\n",
    "        }\n",
    "    )\n",
    "    return result"
   ]
  },
  {
   "cell_type": "code",
   "execution_count": 66,
   "metadata": {},
   "outputs": [],
   "source": [
    "p1 = price_diff_by_variables(\n",
    "    data, \"f_room_type\", \"d_familykid_friendly\", \"Room type\", \"Family kid friendly\"\n",
    ")\n",
    "p2 = price_diff_by_variables(\n",
    "    data, \"f_room_type\", \"f_property_type\", \"Room type\", \"Property type\"\n",
    ")\n",
    "p3 = price_diff_by_variables(\n",
    "    data,\n",
    "    \"f_cancellation_policy\",\n",
    "    \"d_familykid_friendly\",\n",
    "    \"Cancellation policy\",\n",
    "    \"Family kid friendly\",\n",
    ")\n",
    "p4 = price_diff_by_variables(\n",
    "    data, \"f_cancellation_policy\", \"d_tv\", \"Cancellation policy\", \"TV\"\n",
    ")\n",
    "p5 = price_diff_by_variables(data, \"f_property_type\", \"d_cat\", \"Property type\", \"Cats\")\n",
    "\n",
    "p6 = price_diff_by_variables(data, \"f_property_type\", \"d_dog\", \"Property type\", \"Dogs\")"
   ]
  },
  {
   "cell_type": "code",
   "execution_count": 67,
   "metadata": {},
   "outputs": [
    {
     "data": {
      "text/plain": [
       "Index(['f_property_type', 'f_room_type', 'f_room_type2',\n",
       "       'f_cancellation_policy', 'f_bed_type', 'f_neighbourhood_cleansed',\n",
       "       'usd_price_day', 'n_accommodates', 'n_bathrooms',\n",
       "       'n_review_scores_rating', 'n_number_of_reviews', 'n_guests_included',\n",
       "       'n_reviews_per_month', 'n_extra_people', 'n_minimum_nights', 'n_beds',\n",
       "       'n_days_since', 'd_reviews_per_month', 'd_24hour_checkin',\n",
       "       'd_air_conditioning', 'd_breakfast', 'd_buzzerwireless_intercom',\n",
       "       'd_cable_tv', 'd_carbon_monoxide_detector', 'd_cat', 'd_dog',\n",
       "       'd_doorman', 'd_doorman_entry', 'd_dryer', 'd_elevator_in_building',\n",
       "       'd_essentials', 'd_familykid_friendly', 'd_fire_extinguisher',\n",
       "       'd_first_aid_kit', 'd_free_parking_on_premises',\n",
       "       'd_free_parking_on_street', 'd_gym', 'd_hair_dryer', 'd_hangers',\n",
       "       'd_heating', 'd_hot_tub', 'd_indoor_fireplace', 'd_internet', 'd_iron',\n",
       "       'd_keypad', 'd_kitchen', 'd_laptop_friendly_workspace',\n",
       "       'd_lock_on_bedroom_door', 'd_lockbox', 'd_other_pet',\n",
       "       'd_paid_parking_off_premises', 'd_pets_allowed',\n",
       "       'd_pets_live_on_this_property', 'd_pool', 'd_private_entrance',\n",
       "       'd_private_living_room', 'd_safety_card', 'd_self_checkin', 'd_shampoo',\n",
       "       'd_smartlock', 'd_smoke_detector', 'd_smoking_allowed',\n",
       "       'd_suitable_for_events', 'd_tv', 'd_washer', 'd_washer__dryer',\n",
       "       'd_wheelchair_accessible', 'price', 'id', 'neighbourhood_cleansed',\n",
       "       'cancellation_policy', 'room_type', 'property_type', 'ln_price',\n",
       "       'n_accommodates2', 'ln_accommodates', 'ln_accommodates2', 'ln_beds',\n",
       "       'f_bathroom', 'ln_number_of_reviews', 'f_number_of_reviews',\n",
       "       'ln_days_since', 'ln_days_since2', 'ln_days_since3', 'n_days_since2',\n",
       "       'n_days_since3', 'ln_review_scores_rating', 'f_minimum_nights',\n",
       "       'flag_days_since', 'flag_review_scores_rating',\n",
       "       'flag_reviews_per_month'],\n",
       "      dtype='object')"
      ]
     },
     "execution_count": 67,
     "metadata": {},
     "output_type": "execute_result"
    }
   ],
   "source": [
    "data.columns"
   ]
  },
  {
   "cell_type": "code",
   "execution_count": 58,
   "metadata": {},
   "outputs": [
    {
     "data": {
      "image/png": "[encoded data removed]",
      "text/plain": [
       "<Figure size 1200x1200 with 6 Axes>"
      ]
     },
     "metadata": {},
     "output_type": "display_data"
    }
   ],
   "source": [
    "fig, axes = plt.subplots(3, 2, figsize=(12, 12))\n",
    "\n",
    "# Plot 1: Room type vs Family kid friendly\n",
    "sns.barplot(\n",
    "    data=p1, x=\"Room type\", y=\"Mean Price\", hue=\"Family kid friendly\", ax=axes[0, 0]\n",
    ")\n",
    "axes[0, 0].set_title(\"Room type x Family kid friendly\")\n",
    "\n",
    "# Plot 2: Room type vs Property type\n",
    "sns.barplot(\n",
    "    data=p2, x=\"Room type\", y=\"Mean Price\", hue=\"Property type\", ax=axes[0, 1]\n",
    ")\n",
    "axes[0, 1].set_title(\"Room type x Property type\")\n",
    "\n",
    "# Plot 3: Cancellation policy vs Family kid friendly\n",
    "sns.barplot(\n",
    "    data=p3, x=\"Cancellation policy\", y=\"Mean Price\", hue=\"Family kid friendly\", ax=axes[1, 0]\n",
    ")\n",
    "axes[1, 0].set_title(\"Cancellation policy x Family kid friendly\")\n",
    "\n",
    "# Plot 4: Cancellation policy vs TV\n",
    "sns.barplot(\n",
    "    data=p4, x=\"Cancellation policy\", y=\"Mean Price\", hue=\"TV\", ax=axes[1, 1]\n",
    ")\n",
    "axes[1, 1].set_title(\"Cancellation policy x TV\")\n",
    "\n",
    "# Plot 5: Property type vs Cats\n",
    "sns.barplot(\n",
    "    data=p5, x=\"Property type\", y=\"Mean Price\", hue=\"Cats\", ax=axes[2, 0]\n",
    ")\n",
    "axes[2, 0].set_title(\"Property type x Cats\")\n",
    "\n",
    "# Plot 6: Property type vs Dogs\n",
    "sns.barplot(\n",
    "    data=p6, x=\"Property type\", y=\"Mean Price\", hue=\"Dogs\", ax=axes[2, 1]\n",
    ")\n",
    "axes[2, 1].set_title(\"Property type x Dogs\")\n",
    "\n",
    "plt.tight_layout()\n",
    "plt.show()"
   ]
  },
  {
   "cell_type": "markdown",
   "metadata": {},
   "source": [
    "Dummies suggested by graphs"
   ]
  },
  {
   "cell_type": "code",
   "execution_count": 68,
   "metadata": {},
   "outputs": [
    {
     "data": {
      "text/plain": [
       "array(['Real Bed', 'Couch'], dtype=object)"
      ]
     },
     "execution_count": 68,
     "metadata": {},
     "output_type": "execute_result"
    }
   ],
   "source": [
    "data[\"f_bed_type\"].unique()"
   ]
  },
  {
   "cell_type": "code",
   "execution_count": 69,
   "metadata": {},
   "outputs": [],
   "source": [
    "X1 = (\n",
    "    \"f_room_type*f_property_type\",\n",
    "    \"f_number_of_reviews*f_property_type\",\n",
    ")\n",
    "\n",
    "X2 = (\n",
    "    \"d_air_conditioning*f_property_type\",\n",
    "    \"d_pets_allowed*f_property_type\",\n",
    ")\n",
    "\n",
    "X3 = (\n",
    "    \"(f_property_type + f_bed_type) * (\"\n",
    "    + \"+\".join(amenities)\n",
    "    + \")\"\n",
    ")"
   ]
  },
  {
   "cell_type": "markdown",
   "metadata": {},
   "source": [
    "Create estimation equations"
   ]
  },
  {
   "cell_type": "code",
   "execution_count": 70,
   "metadata": {},
   "outputs": [],
   "source": [
    "modellev1 = \"~ n_accommodates\"\n",
    "modellev2 = \"~\" + \" + \".join(basic_lev)\n",
    "modellev3 = \"~\" + \" + \".join(basic_lev + basic_add + reviews)\n",
    "modellev4 = \"~\" + \" + \".join(basic_lev + basic_add + reviews + poly_lev)\n",
    "modellev5 = \"~\" + \" + \".join(basic_lev + basic_add + reviews + poly_lev + X1)\n",
    "modellev6 = \"~\" + \" + \".join(basic_lev + basic_add + reviews + poly_lev + X1 + X2)\n",
    "modellev7 = \"~\" + \" + \".join(\n",
    "    basic_lev + basic_add + reviews + poly_lev + X1 + X2 + amenities\n",
    ")\n",
    "modellev8 = (\n",
    "    \"~\"\n",
    "    + \"+\".join(basic_lev + basic_add + reviews + poly_lev + X1 + X2 + amenities)\n",
    "    + \"+\"\n",
    "    + X3\n",
    ")\n",
    "\n",
    "model_equations = [\n",
    "    modellev1,\n",
    "    modellev2,\n",
    "    modellev3,\n",
    "    modellev4,\n",
    "    modellev5,\n",
    "    modellev6,\n",
    "    modellev7,\n",
    "    modellev8,\n",
    "]"
   ]
  },
  {
   "cell_type": "markdown",
   "metadata": {},
   "source": [
    "### Create separate holdout set"
   ]
  },
  {
   "cell_type": "code",
   "execution_count": 42,
   "metadata": {},
   "outputs": [],
   "source": [
    "sample_size = round(0.2 * data.shape[0]) - 1"
   ]
  },
  {
   "cell_type": "markdown",
   "metadata": {},
   "source": [
    " Set the random number generator: It will make results reproducable"
   ]
  },
  {
   "cell_type": "code",
   "execution_count": 71,
   "metadata": {},
   "outputs": [],
   "source": [
    "np.random.seed(20180123)"
   ]
  },
  {
   "cell_type": "code",
   "execution_count": 44,
   "metadata": {},
   "outputs": [],
   "source": [
    "from sklearn.model_selection import train_test_split\n",
    "\n",
    "data_work, data_holdout = train_test_split(data, test_size=sample_size)"
   ]
  },
  {
   "cell_type": "markdown",
   "metadata": {},
   "source": [
    "### Crossvalidation"
   ]
  },
  {
   "cell_type": "markdown",
   "metadata": {},
   "source": [
    "Use custom function `ols_crossvalidator` for cross validation"
   ]
  },
  {
   "cell_type": "code",
   "execution_count": 45,
   "metadata": {},
   "outputs": [],
   "source": [
    "n_folds = 5"
   ]
  },
  {
   "cell_type": "code",
   "execution_count": 72,
   "metadata": {},
   "outputs": [],
   "source": [
    "def ols_crossvalidator(equation, data, n_fold=n_folds):\n",
    "    kf = KFold(n_splits=n_folds, shuffle=True, random_state=42)\n",
    "\n",
    "    train_r2_list = []\n",
    "    bic_list = []\n",
    "    coef_count_list = []\n",
    "    train_rmse_list = []\n",
    "    test_rmse_list = []\n",
    "\n",
    "    for train_index, test_index in kf.split(data):\n",
    "        train_data = data.iloc[train_index]\n",
    "        test_data = data.iloc[test_index]\n",
    "\n",
    "        model = smf.ols(equation, data=train_data).fit()\n",
    "\n",
    "        # Predictions\n",
    "        y_train = train_data[equation.split(\"~\")[0].strip()]\n",
    "        y_test = test_data[equation.split(\"~\")[0].strip()]\n",
    "        y_train_pred = model.predict(train_data)\n",
    "        y_test_pred = model.predict(test_data)\n",
    "\n",
    "        # Metrics\n",
    "        train_r2_list.append(model.rsquared)\n",
    "        bic_list.append(model.bic)\n",
    "        coef_count_list.append(len(model.params))\n",
    "        train_rmse_list.append(np.sqrt(mean_squared_error(y_train, y_train_pred)))\n",
    "        test_rmse_list.append(np.sqrt(mean_squared_error(y_test, y_test_pred)))\n",
    "\n",
    "    # Average across folds\n",
    "    return {\n",
    "        \"R-squared\": np.mean(train_r2_list),\n",
    "        \"BIC\": np.mean(bic_list),\n",
    "        \"Coefficients\": int(np.mean(coef_count_list)),\n",
    "        \"Training RMSE\": np.mean(train_rmse_list),\n",
    "        \"Test RMSE\": np.mean(test_rmse_list)\n",
    "    }"
   ]
  },
  {
   "cell_type": "code",
   "execution_count": 73,
   "metadata": {},
   "outputs": [
    {
     "data": {
      "text/plain": [
       "Index(['f_property_type', 'f_room_type', 'f_room_type2',\n",
       "       'f_cancellation_policy', 'f_bed_type', 'f_neighbourhood_cleansed',\n",
       "       'usd_price_day', 'n_accommodates', 'n_bathrooms',\n",
       "       'n_review_scores_rating', 'n_number_of_reviews', 'n_guests_included',\n",
       "       'n_reviews_per_month', 'n_extra_people', 'n_minimum_nights', 'n_beds',\n",
       "       'n_days_since', 'd_reviews_per_month', 'd_24hour_checkin',\n",
       "       'd_air_conditioning', 'd_breakfast', 'd_buzzerwireless_intercom',\n",
       "       'd_cable_tv', 'd_carbon_monoxide_detector', 'd_cat', 'd_dog',\n",
       "       'd_doorman', 'd_doorman_entry', 'd_dryer', 'd_elevator_in_building',\n",
       "       'd_essentials', 'd_familykid_friendly', 'd_fire_extinguisher',\n",
       "       'd_first_aid_kit', 'd_free_parking_on_premises',\n",
       "       'd_free_parking_on_street', 'd_gym', 'd_hair_dryer', 'd_hangers',\n",
       "       'd_heating', 'd_hot_tub', 'd_indoor_fireplace', 'd_internet', 'd_iron',\n",
       "       'd_keypad', 'd_kitchen', 'd_laptop_friendly_workspace',\n",
       "       'd_lock_on_bedroom_door', 'd_lockbox', 'd_other_pet',\n",
       "       'd_paid_parking_off_premises', 'd_pets_allowed',\n",
       "       'd_pets_live_on_this_property', 'd_pool', 'd_private_entrance',\n",
       "       'd_private_living_room', 'd_safety_card', 'd_self_checkin', 'd_shampoo',\n",
       "       'd_smartlock', 'd_smoke_detector', 'd_smoking_allowed',\n",
       "       'd_suitable_for_events', 'd_tv', 'd_washer', 'd_washer__dryer',\n",
       "       'd_wheelchair_accessible', 'price', 'id', 'neighbourhood_cleansed',\n",
       "       'cancellation_policy', 'room_type', 'property_type', 'ln_price',\n",
       "       'n_accommodates2', 'ln_accommodates', 'ln_accommodates2', 'ln_beds',\n",
       "       'f_bathroom', 'ln_number_of_reviews', 'f_number_of_reviews',\n",
       "       'ln_days_since', 'ln_days_since2', 'ln_days_since3', 'n_days_since2',\n",
       "       'n_days_since3', 'ln_review_scores_rating', 'f_minimum_nights',\n",
       "       'flag_days_since', 'flag_review_scores_rating',\n",
       "       'flag_reviews_per_month'],\n",
       "      dtype='object')"
      ]
     },
     "execution_count": 73,
     "metadata": {},
     "output_type": "execute_result"
    }
   ],
   "source": [
    "data_work.columns"
   ]
  },
  {
   "cell_type": "markdown",
   "metadata": {},
   "source": [
    "Set number of folds"
   ]
  },
  {
   "cell_type": "markdown",
   "metadata": {},
   "source": [
    "Cross validate for each model and save results in `cv_list`"
   ]
  },
  {
   "cell_type": "code",
   "execution_count": 74,
   "metadata": {},
   "outputs": [],
   "source": [
    "cv_list = []\n",
    "for equation in model_equations:\n",
    "    result = ols_crossvalidator(\"ln_price\" + equation, data_work, n_fold=n_folds)\n",
    "    cv_list.append(result)"
   ]
  },
  {
   "cell_type": "markdown",
   "metadata": {},
   "source": [
    "### Table 14.3 Comparing model fit measures"
   ]
  },
  {
   "cell_type": "code",
   "execution_count": 78,
   "metadata": {},
   "outputs": [
    {
     "name": "stdout",
     "output_type": "stream",
     "text": [
      "                            OLS Regression Results                            \n",
      "==============================================================================\n",
      "Dep. Variable:               ln_price   R-squared:                       0.641\n",
      "Model:                            OLS   Adj. R-squared:                  0.640\n",
      "Method:                 Least Squares   F-statistic:                     558.2\n",
      "Date:                Fri, 01 Aug 2025   Prob (F-statistic):               0.00\n",
      "Time:                        03:02:55   Log-Likelihood:                -1676.2\n",
      "No. Observations:                4393   AIC:                             3382.\n",
      "Df Residuals:                    4378   BIC:                             3478.\n",
      "Df Model:                          14                                         \n",
      "Covariance Type:            nonrobust                                         \n",
      "=====================================================================================================\n",
      "                                        coef    std err          t      P>|t|      [0.025      0.975]\n",
      "-----------------------------------------------------------------------------------------------------\n",
      "Intercept                             3.3749      0.093     36.316      0.000       3.193       3.557\n",
      "f_property_type[T.House]             -0.0800      0.014     -5.859      0.000      -0.107      -0.053\n",
      "f_room_type[T.Private room]          -0.5946      0.015    -40.540      0.000      -0.623      -0.566\n",
      "f_room_type[T.Shared room]           -0.6648      0.070     -9.502      0.000      -0.802      -0.528\n",
      "f_bed_type[T.Real Bed]                0.1392      0.039      3.579      0.000       0.063       0.215\n",
      "f_cancellation_policy[T.moderate]    -0.0080      0.014     -0.560      0.576      -0.036       0.020\n",
      "f_cancellation_policy[T.strict]       0.0225      0.014      1.665      0.096      -0.004       0.049\n",
      "f_number_of_reviews[T.1.0]           -0.1545      0.043     -3.615      0.000      -0.238      -0.071\n",
      "f_number_of_reviews[T.2.0]           -0.0982      0.051     -1.926      0.054      -0.198       0.002\n",
      "n_accommodates                        0.1474      0.007     20.713      0.000       0.133       0.161\n",
      "n_beds                               -0.0099      0.010     -0.987      0.324      -0.030       0.010\n",
      "n_days_since                       5.958e-05   1.66e-05      3.598      0.000    2.71e-05     9.2e-05\n",
      "f_bathroom                            0.1366      0.015      8.922      0.000       0.107       0.167\n",
      "n_review_scores_rating                0.0056      0.001      7.759      0.000       0.004       0.007\n",
      "flag_review_scores_rating            -0.0429      0.042     -1.012      0.312      -0.126       0.040\n",
      "==============================================================================\n",
      "Omnibus:                      505.458   Durbin-Watson:                   1.950\n",
      "Prob(Omnibus):                  0.000   Jarque-Bera (JB):             1590.619\n",
      "Skew:                           0.592   Prob(JB):                         0.00\n",
      "Kurtosis:                       5.700   Cond. No.                     1.16e+04\n",
      "==============================================================================\n",
      "\n",
      "Notes:\n",
      "[1] Standard Errors assume that the covariance matrix of the errors is correctly specified.\n",
      "[2] The condition number is large, 1.16e+04. This might indicate that there are\n",
      "strong multicollinearity or other numerical problems.\n"
     ]
    }
   ],
   "source": [
    "import statsmodels.formula.api as smf\n",
    "\n",
    "model3 = smf.ols(\"ln_price\" + modellev3, data=data).fit()\n",
    "print(model3.summary())"
   ]
  },
  {
   "cell_type": "code",
   "execution_count": 79,
   "metadata": {},
   "outputs": [
    {
     "name": "stdout",
     "output_type": "stream",
     "text": [
      "Intercept                      3.890891\n",
      "f_property_type[T.House]      -0.056426\n",
      "f_room_type[T.Private room]   -0.576685\n",
      "f_room_type[T.Shared room]    -0.623187\n",
      "f_bed_type[T.Real Bed]         0.150466\n",
      "n_accommodates                 0.153183\n",
      "n_beds                        -0.001719\n",
      "n_days_since                   0.000053\n",
      "dtype: float64\n",
      "8\n"
     ]
    }
   ],
   "source": [
    "model = smf.ols(formula=\"ln_price ~ \" + \" + \".join(basic_lev), data=data).fit()\n",
    "print(model.params)\n",
    "print(len(model.params))  # Should be 16"
   ]
  },
  {
   "cell_type": "code",
   "execution_count": 80,
   "metadata": {},
   "outputs": [
    {
     "name": "stdout",
     "output_type": "stream",
     "text": [
      "Intercept                            3.374861\n",
      "f_property_type[T.House]            -0.080046\n",
      "f_room_type[T.Private room]         -0.594580\n",
      "f_room_type[T.Shared room]          -0.664800\n",
      "f_bed_type[T.Real Bed]               0.139152\n",
      "f_cancellation_policy[T.moderate]   -0.007990\n",
      "f_cancellation_policy[T.strict]      0.022546\n",
      "f_number_of_reviews[T.1.0]          -0.154511\n",
      "f_number_of_reviews[T.2.0]          -0.098247\n",
      "n_accommodates                       0.147386\n",
      "n_beds                              -0.009936\n",
      "n_days_since                         0.000060\n",
      "f_bathroom                           0.136624\n",
      "n_review_scores_rating               0.005575\n",
      "flag_review_scores_rating           -0.042931\n",
      "dtype: float64\n",
      "15\n"
     ]
    }
   ],
   "source": [
    "model = smf.ols(formula=\"ln_price ~ \" + \" + \".join(basic_lev + basic_add + reviews), data=data).fit()\n",
    "print(model.params)\n",
    "print(len(model.params))  # Should be 16"
   ]
  },
  {
   "cell_type": "code",
   "execution_count": 81,
   "metadata": {},
   "outputs": [
    {
     "data": {
      "text/html": [
       "<div>\n",
       "<style scoped>\n",
       "    .dataframe tbody tr th:only-of-type {\n",
       "        vertical-align: middle;\n",
       "    }\n",
       "\n",
       "    .dataframe tbody tr th {\n",
       "        vertical-align: top;\n",
       "    }\n",
       "\n",
       "    .dataframe thead th {\n",
       "        text-align: right;\n",
       "    }\n",
       "</style>\n",
       "<table border=\"1\" class=\"dataframe\">\n",
       "  <thead>\n",
       "    <tr style=\"text-align: right;\">\n",
       "      <th></th>\n",
       "      <th>Model</th>\n",
       "      <th>Coefficients</th>\n",
       "      <th>R-squared</th>\n",
       "      <th>BIC</th>\n",
       "      <th>Training RMSE</th>\n",
       "      <th>Test RMSE</th>\n",
       "    </tr>\n",
       "  </thead>\n",
       "  <tbody>\n",
       "    <tr>\n",
       "      <th>0</th>\n",
       "      <td>M1</td>\n",
       "      <td>2</td>\n",
       "      <td>0.47</td>\n",
       "      <td>3264.44</td>\n",
       "      <td>0.43</td>\n",
       "      <td>0.43</td>\n",
       "    </tr>\n",
       "    <tr>\n",
       "      <th>1</th>\n",
       "      <td>M2</td>\n",
       "      <td>8</td>\n",
       "      <td>0.63</td>\n",
       "      <td>2333.74</td>\n",
       "      <td>0.36</td>\n",
       "      <td>0.36</td>\n",
       "    </tr>\n",
       "    <tr>\n",
       "      <th>2</th>\n",
       "      <td>M3</td>\n",
       "      <td>15</td>\n",
       "      <td>0.65</td>\n",
       "      <td>2208.59</td>\n",
       "      <td>0.35</td>\n",
       "      <td>0.35</td>\n",
       "    </tr>\n",
       "    <tr>\n",
       "      <th>3</th>\n",
       "      <td>M4</td>\n",
       "      <td>18</td>\n",
       "      <td>0.65</td>\n",
       "      <td>2225.55</td>\n",
       "      <td>0.35</td>\n",
       "      <td>0.35</td>\n",
       "    </tr>\n",
       "    <tr>\n",
       "      <th>4</th>\n",
       "      <td>M5</td>\n",
       "      <td>22</td>\n",
       "      <td>0.65</td>\n",
       "      <td>2236.33</td>\n",
       "      <td>0.35</td>\n",
       "      <td>0.35</td>\n",
       "    </tr>\n",
       "    <tr>\n",
       "      <th>5</th>\n",
       "      <td>M6</td>\n",
       "      <td>26</td>\n",
       "      <td>0.65</td>\n",
       "      <td>2257.50</td>\n",
       "      <td>0.35</td>\n",
       "      <td>0.35</td>\n",
       "    </tr>\n",
       "    <tr>\n",
       "      <th>6</th>\n",
       "      <td>M7</td>\n",
       "      <td>74</td>\n",
       "      <td>0.68</td>\n",
       "      <td>2372.02</td>\n",
       "      <td>0.33</td>\n",
       "      <td>0.34</td>\n",
       "    </tr>\n",
       "    <tr>\n",
       "      <th>7</th>\n",
       "      <td>M8</td>\n",
       "      <td>172</td>\n",
       "      <td>0.69</td>\n",
       "      <td>2918.40</td>\n",
       "      <td>0.33</td>\n",
       "      <td>0.37</td>\n",
       "    </tr>\n",
       "  </tbody>\n",
       "</table>\n",
       "</div>"
      ],
      "text/plain": [
       "  Model  Coefficients  R-squared      BIC  Training RMSE  Test RMSE\n",
       "0    M1             2       0.47  3264.44           0.43       0.43\n",
       "1    M2             8       0.63  2333.74           0.36       0.36\n",
       "2    M3            15       0.65  2208.59           0.35       0.35\n",
       "3    M4            18       0.65  2225.55           0.35       0.35\n",
       "4    M5            22       0.65  2236.33           0.35       0.35\n",
       "5    M6            26       0.65  2257.50           0.35       0.35\n",
       "6    M7            74       0.68  2372.02           0.33       0.34\n",
       "7    M8           172       0.69  2918.40           0.33       0.37"
      ]
     },
     "execution_count": 81,
     "metadata": {},
     "output_type": "execute_result"
    }
   ],
   "source": [
    "compare_model_fits = (\n",
    "    pd.DataFrame(cv_list)\n",
    "    .round(2)\n",
    "    .assign(Model=[\"M\" + str(i + 1) for i in range(len(cv_list))])\n",
    "    .loc[:, [\"Model\", \"Coefficients\", \"R-squared\", \"BIC\", \"Training RMSE\", \"Test RMSE\"]]\n",
    ")\n",
    "\n",
    "compare_model_fits"
   ]
  },
  {
   "cell_type": "markdown",
   "metadata": {},
   "source": [
    "### Figure 14.7 Training and test set RMSE for the eight regression models"
   ]
  },
  {
   "cell_type": "code",
   "execution_count": 84,
   "metadata": {},
   "outputs": [
    {
     "data": {
      "image/png": "[encoded data removed]",
      "text/plain": [
       "<Figure size 800x500 with 1 Axes>"
      ]
     },
     "metadata": {},
     "output_type": "display_data"
    }
   ],
   "source": [
    "import seaborn as sns\n",
    "\n",
    "import matplotlib.pyplot as plt\n",
    "\n",
    "melted = compare_model_fits.melt(\n",
    "    id_vars=\"Coefficients\", value_vars=[\"Training RMSE\", \"Test RMSE\"]\n",
    ")\n",
    "\n",
    "plt.figure(figsize=(8, 5))\n",
    "sns.lineplot(\n",
    "    data=melted,\n",
    "    x=\"Coefficients\",\n",
    "    y=\"value\",\n",
    "    hue=\"variable\",\n",
    "    marker=\"o\"\n",
    ")\n",
    "plt.xlabel(\"Number of coefficients\")\n",
    "plt.ylabel(\"RMSE\")\n",
    "plt.ylim(0, 0.5)\n",
    "plt.yticks(np.arange(0, 0.5, 0.05))\n",
    "plt.title(\"Training and Test RMSE by Model Complexity\")\n",
    "plt.legend(title=\"\")\n",
    "plt.tight_layout()\n",
    "plt.show()"
   ]
  },
  {
   "cell_type": "markdown",
   "metadata": {},
   "source": [
    "**NOTE:** Because the way we created the work and holdout sets relies on randomization, these results (eg. the number of coefficients) differ from R and book results. Even running the cross validation with exactly the same work set would result in slightly different RMSE results because we cannot control for the randomisation within the cross validation. Using exactly the same work set as R, the number of coefficients match though."
   ]
  },
  {
   "cell_type": "markdown",
   "metadata": {},
   "source": [
    "### Lasso"
   ]
  },
  {
   "cell_type": "code",
   "execution_count": 85,
   "metadata": {},
   "outputs": [],
   "source": [
    "from sklearn.linear_model import LassoCV\n",
    "from sklearn.preprocessing import StandardScaler"
   ]
  },
  {
   "cell_type": "code",
   "execution_count": 86,
   "metadata": {},
   "outputs": [
    {
     "data": {
      "text/plain": [
       "50"
      ]
     },
     "execution_count": 86,
     "metadata": {},
     "output_type": "execute_result"
    }
   ],
   "source": [
    "len(amenities)"
   ]
  },
  {
   "cell_type": "markdown",
   "metadata": {},
   "source": [
    "Define Lasso equation from most complicated model"
   ]
  },
  {
   "cell_type": "code",
   "execution_count": 87,
   "metadata": {},
   "outputs": [],
   "source": [
    "vars_model_8 = modellev8"
   ]
  },
  {
   "cell_type": "markdown",
   "metadata": {},
   "source": [
    "Define range for lambdas – the algo will look only in this set"
   ]
  },
  {
   "cell_type": "code",
   "execution_count": 88,
   "metadata": {},
   "outputs": [
    {
     "name": "stdout",
     "output_type": "stream",
     "text": [
      "[0.05 0.1  0.15 0.2  0.25 0.3  0.35 0.4  0.45 0.5  0.55 0.6  0.65 0.7\n",
      " 0.75 0.8  0.85 0.9  0.95 1.  ]\n"
     ]
    }
   ],
   "source": [
    "lambdas = np.arange(0.05, 1.01, 0.05)\n",
    "print(lambdas)"
   ]
  },
  {
   "cell_type": "markdown",
   "metadata": {},
   "source": [
    "To cross-validate lambda-s (which is Lasso's hyperparameter) one has to standardise the feature matrix."
   ]
  },
  {
   "cell_type": "code",
   "execution_count": 89,
   "metadata": {},
   "outputs": [],
   "source": [
    "y, X = patsy.dmatrices(\"ln_price\" + vars_model_8, data_work)\n",
    "X_featnames = X.design_info.column_names\n",
    "scaler = StandardScaler()\n",
    "X = scaler.fit_transform(X)"
   ]
  },
  {
   "cell_type": "code",
   "execution_count": 90,
   "metadata": {},
   "outputs": [],
   "source": [
    "lasso_fit = LassoCV(alphas=lambdas, cv=5, random_state=42).fit(X, y)"
   ]
  },
  {
   "cell_type": "markdown",
   "metadata": {},
   "source": [
    "Best alpha the algorithm found"
   ]
  },
  {
   "cell_type": "code",
   "execution_count": 91,
   "metadata": {},
   "outputs": [
    {
     "data": {
      "text/plain": [
       "np.float64(0.05)"
      ]
     },
     "execution_count": 91,
     "metadata": {},
     "output_type": "execute_result"
    }
   ],
   "source": [
    "lasso_fit.alpha_"
   ]
  },
  {
   "cell_type": "code",
   "execution_count": 92,
   "metadata": {},
   "outputs": [
    {
     "data": {
      "text/html": [
       "<div>\n",
       "<style scoped>\n",
       "    .dataframe tbody tr th:only-of-type {\n",
       "        vertical-align: middle;\n",
       "    }\n",
       "\n",
       "    .dataframe tbody tr th {\n",
       "        vertical-align: top;\n",
       "    }\n",
       "\n",
       "    .dataframe thead th {\n",
       "        text-align: right;\n",
       "    }\n",
       "</style>\n",
       "<table border=\"1\" class=\"dataframe\">\n",
       "  <thead>\n",
       "    <tr style=\"text-align: right;\">\n",
       "      <th></th>\n",
       "      <th>Test RMSE</th>\n",
       "    </tr>\n",
       "  </thead>\n",
       "  <tbody>\n",
       "    <tr>\n",
       "      <th>1.00</th>\n",
       "      <td>0.59</td>\n",
       "    </tr>\n",
       "    <tr>\n",
       "      <th>0.95</th>\n",
       "      <td>0.59</td>\n",
       "    </tr>\n",
       "    <tr>\n",
       "      <th>0.90</th>\n",
       "      <td>0.59</td>\n",
       "    </tr>\n",
       "    <tr>\n",
       "      <th>0.85</th>\n",
       "      <td>0.59</td>\n",
       "    </tr>\n",
       "    <tr>\n",
       "      <th>0.80</th>\n",
       "      <td>0.59</td>\n",
       "    </tr>\n",
       "    <tr>\n",
       "      <th>0.75</th>\n",
       "      <td>0.59</td>\n",
       "    </tr>\n",
       "    <tr>\n",
       "      <th>0.70</th>\n",
       "      <td>0.59</td>\n",
       "    </tr>\n",
       "    <tr>\n",
       "      <th>0.65</th>\n",
       "      <td>0.59</td>\n",
       "    </tr>\n",
       "    <tr>\n",
       "      <th>0.60</th>\n",
       "      <td>0.59</td>\n",
       "    </tr>\n",
       "    <tr>\n",
       "      <th>0.55</th>\n",
       "      <td>0.59</td>\n",
       "    </tr>\n",
       "    <tr>\n",
       "      <th>0.50</th>\n",
       "      <td>0.59</td>\n",
       "    </tr>\n",
       "    <tr>\n",
       "      <th>0.45</th>\n",
       "      <td>0.59</td>\n",
       "    </tr>\n",
       "    <tr>\n",
       "      <th>0.40</th>\n",
       "      <td>0.57</td>\n",
       "    </tr>\n",
       "    <tr>\n",
       "      <th>0.35</th>\n",
       "      <td>0.53</td>\n",
       "    </tr>\n",
       "    <tr>\n",
       "      <th>0.30</th>\n",
       "      <td>0.50</td>\n",
       "    </tr>\n",
       "    <tr>\n",
       "      <th>0.25</th>\n",
       "      <td>0.46</td>\n",
       "    </tr>\n",
       "    <tr>\n",
       "      <th>0.20</th>\n",
       "      <td>0.43</td>\n",
       "    </tr>\n",
       "    <tr>\n",
       "      <th>0.15</th>\n",
       "      <td>0.40</td>\n",
       "    </tr>\n",
       "    <tr>\n",
       "      <th>0.10</th>\n",
       "      <td>0.38</td>\n",
       "    </tr>\n",
       "    <tr>\n",
       "      <th>0.05</th>\n",
       "      <td>0.37</td>\n",
       "    </tr>\n",
       "  </tbody>\n",
       "</table>\n",
       "</div>"
      ],
      "text/plain": [
       "      Test RMSE\n",
       "1.00       0.59\n",
       "0.95       0.59\n",
       "0.90       0.59\n",
       "0.85       0.59\n",
       "0.80       0.59\n",
       "0.75       0.59\n",
       "0.70       0.59\n",
       "0.65       0.59\n",
       "0.60       0.59\n",
       "0.55       0.59\n",
       "0.50       0.59\n",
       "0.45       0.59\n",
       "0.40       0.57\n",
       "0.35       0.53\n",
       "0.30       0.50\n",
       "0.25       0.46\n",
       "0.20       0.43\n",
       "0.15       0.40\n",
       "0.10       0.38\n",
       "0.05       0.37"
      ]
     },
     "execution_count": 92,
     "metadata": {},
     "output_type": "execute_result"
    }
   ],
   "source": [
    "rmse_lambda_folds = (\n",
    "    pd.DataFrame(lasso_fit.mse_path_, index=lambdas[::-1])\n",
    "    .apply(np.sqrt)\n",
    "    .mean(axis=1)\n",
    "    .to_frame(name=\"Test RMSE\")\n",
    "    .round(2)\n",
    ")\n",
    "rmse_lambda_folds"
   ]
  },
  {
   "cell_type": "markdown",
   "metadata": {},
   "source": [
    "Non-zero coefficients"
   ]
  },
  {
   "cell_type": "code",
   "execution_count": 93,
   "metadata": {},
   "outputs": [
    {
     "data": {
      "text/html": [
       "<div>\n",
       "<style scoped>\n",
       "    .dataframe tbody tr th:only-of-type {\n",
       "        vertical-align: middle;\n",
       "    }\n",
       "\n",
       "    .dataframe tbody tr th {\n",
       "        vertical-align: top;\n",
       "    }\n",
       "\n",
       "    .dataframe thead th {\n",
       "        text-align: right;\n",
       "    }\n",
       "</style>\n",
       "<table border=\"1\" class=\"dataframe\">\n",
       "  <thead>\n",
       "    <tr style=\"text-align: right;\">\n",
       "      <th></th>\n",
       "      <th>coefficient</th>\n",
       "    </tr>\n",
       "  </thead>\n",
       "  <tbody>\n",
       "    <tr>\n",
       "      <th>f_room_type[T.Private room]</th>\n",
       "      <td>-0.257</td>\n",
       "    </tr>\n",
       "    <tr>\n",
       "      <th>f_room_type[T.Shared room]</th>\n",
       "      <td>-0.003</td>\n",
       "    </tr>\n",
       "    <tr>\n",
       "      <th>f_room_type[T.Private room]:f_property_type[T.House]</th>\n",
       "      <td>-0.003</td>\n",
       "    </tr>\n",
       "    <tr>\n",
       "      <th>n_accommodates</th>\n",
       "      <td>0.185</td>\n",
       "    </tr>\n",
       "    <tr>\n",
       "      <th>f_bathroom</th>\n",
       "      <td>0.011</td>\n",
       "    </tr>\n",
       "    <tr>\n",
       "      <th>f_bed_type[T.Real Bed]:d_dryer</th>\n",
       "      <td>0.003</td>\n",
       "    </tr>\n",
       "    <tr>\n",
       "      <th>f_bed_type[T.Real Bed]:d_tv</th>\n",
       "      <td>0.018</td>\n",
       "    </tr>\n",
       "  </tbody>\n",
       "</table>\n",
       "</div>"
      ],
      "text/plain": [
       "                                                    coefficient\n",
       "f_room_type[T.Private room]                              -0.257\n",
       "f_room_type[T.Shared room]                               -0.003\n",
       "f_room_type[T.Private room]:f_property_type[T.H...       -0.003\n",
       "n_accommodates                                            0.185\n",
       "f_bathroom                                                0.011\n",
       "f_bed_type[T.Real Bed]:d_dryer                            0.003\n",
       "f_bed_type[T.Real Bed]:d_tv                               0.018"
      ]
     },
     "execution_count": 93,
     "metadata": {},
     "output_type": "execute_result"
    }
   ],
   "source": [
    "notnull_lasso_coefs = (\n",
    "    pd.DataFrame(lasso_fit.coef_, index=X_featnames, columns=[\"coefficient\"])\n",
    "    .loc[lambda x: x[\"coefficient\"].round(3) != 0]\n",
    "    .round(3)\n",
    ")\n",
    "notnull_lasso_coefs"
   ]
  },
  {
   "cell_type": "code",
   "execution_count": 94,
   "metadata": {},
   "outputs": [
    {
     "data": {
      "text/html": [
       "<div>\n",
       "<style scoped>\n",
       "    .dataframe tbody tr th:only-of-type {\n",
       "        vertical-align: middle;\n",
       "    }\n",
       "\n",
       "    .dataframe tbody tr th {\n",
       "        vertical-align: top;\n",
       "    }\n",
       "\n",
       "    .dataframe thead th {\n",
       "        text-align: right;\n",
       "    }\n",
       "</style>\n",
       "<table border=\"1\" class=\"dataframe\">\n",
       "  <thead>\n",
       "    <tr style=\"text-align: right;\">\n",
       "      <th></th>\n",
       "      <th>Model</th>\n",
       "      <th>Coefficients</th>\n",
       "      <th>R-squared</th>\n",
       "      <th>BIC</th>\n",
       "      <th>Training RMSE</th>\n",
       "      <th>Test RMSE</th>\n",
       "    </tr>\n",
       "  </thead>\n",
       "  <tbody>\n",
       "    <tr>\n",
       "      <th>0</th>\n",
       "      <td>M1</td>\n",
       "      <td>2.0</td>\n",
       "      <td>0.47</td>\n",
       "      <td>3264.44</td>\n",
       "      <td>0.43</td>\n",
       "      <td>0.43</td>\n",
       "    </tr>\n",
       "    <tr>\n",
       "      <th>1</th>\n",
       "      <td>M2</td>\n",
       "      <td>8.0</td>\n",
       "      <td>0.63</td>\n",
       "      <td>2333.74</td>\n",
       "      <td>0.36</td>\n",
       "      <td>0.36</td>\n",
       "    </tr>\n",
       "    <tr>\n",
       "      <th>2</th>\n",
       "      <td>M3</td>\n",
       "      <td>15.0</td>\n",
       "      <td>0.65</td>\n",
       "      <td>2208.59</td>\n",
       "      <td>0.35</td>\n",
       "      <td>0.35</td>\n",
       "    </tr>\n",
       "    <tr>\n",
       "      <th>3</th>\n",
       "      <td>M4</td>\n",
       "      <td>18.0</td>\n",
       "      <td>0.65</td>\n",
       "      <td>2225.55</td>\n",
       "      <td>0.35</td>\n",
       "      <td>0.35</td>\n",
       "    </tr>\n",
       "    <tr>\n",
       "      <th>4</th>\n",
       "      <td>M5</td>\n",
       "      <td>22.0</td>\n",
       "      <td>0.65</td>\n",
       "      <td>2236.33</td>\n",
       "      <td>0.35</td>\n",
       "      <td>0.35</td>\n",
       "    </tr>\n",
       "    <tr>\n",
       "      <th>5</th>\n",
       "      <td>M6</td>\n",
       "      <td>26.0</td>\n",
       "      <td>0.65</td>\n",
       "      <td>2257.50</td>\n",
       "      <td>0.35</td>\n",
       "      <td>0.35</td>\n",
       "    </tr>\n",
       "    <tr>\n",
       "      <th>6</th>\n",
       "      <td>M7</td>\n",
       "      <td>74.0</td>\n",
       "      <td>0.68</td>\n",
       "      <td>2372.02</td>\n",
       "      <td>0.33</td>\n",
       "      <td>0.34</td>\n",
       "    </tr>\n",
       "    <tr>\n",
       "      <th>7</th>\n",
       "      <td>M8</td>\n",
       "      <td>172.0</td>\n",
       "      <td>0.69</td>\n",
       "      <td>2918.40</td>\n",
       "      <td>0.33</td>\n",
       "      <td>0.37</td>\n",
       "    </tr>\n",
       "    <tr>\n",
       "      <th>8</th>\n",
       "      <td>Lasso</td>\n",
       "      <td>7.0</td>\n",
       "      <td>NaN</td>\n",
       "      <td>NaN</td>\n",
       "      <td>NaN</td>\n",
       "      <td>0.37</td>\n",
       "    </tr>\n",
       "  </tbody>\n",
       "</table>\n",
       "</div>"
      ],
      "text/plain": [
       "   Model  Coefficients  R-squared      BIC  Training RMSE  Test RMSE\n",
       "0     M1           2.0       0.47  3264.44           0.43       0.43\n",
       "1     M2           8.0       0.63  2333.74           0.36       0.36\n",
       "2     M3          15.0       0.65  2208.59           0.35       0.35\n",
       "3     M4          18.0       0.65  2225.55           0.35       0.35\n",
       "4     M5          22.0       0.65  2236.33           0.35       0.35\n",
       "5     M6          26.0       0.65  2257.50           0.35       0.35\n",
       "6     M7          74.0       0.68  2372.02           0.33       0.34\n",
       "7     M8         172.0       0.69  2918.40           0.33       0.37\n",
       "8  Lasso           7.0        NaN      NaN            NaN       0.37"
      ]
     },
     "execution_count": 94,
     "metadata": {},
     "output_type": "execute_result"
    }
   ],
   "source": [
    "compare_model_fits.loc[8, :] = {\n",
    "    \"Model\": \"Lasso\",\n",
    "    \"Coefficients\": notnull_lasso_coefs.shape[0],\n",
    "    \"Test RMSE\": rmse_lambda_folds.loc[lasso_fit.alpha_].round(2).values[0],\n",
    "}\n",
    "\n",
    "compare_model_fits"
   ]
  },
  {
   "cell_type": "markdown",
   "metadata": {},
   "source": [
    "The overall RMSE across the five test sets for the LASSO regression is 36.3. It is 36.49 for M7,\n",
    "suggesting that our hand-picked M7 is almost as good as the LASSO regression. Our decision is to have the model M7 as our preferred\n",
    "model, because it may be easier to explain which variables are included."
   ]
  },
  {
   "cell_type": "markdown",
   "metadata": {},
   "source": [
    "### Part3\n",
    "\n",
    "#### Model diagnostics"
   ]
  },
  {
   "cell_type": "code",
   "execution_count": 95,
   "metadata": {},
   "outputs": [],
   "source": [
    "model7 = smf.ols(\"ln_price\" + modellev7, data=data_work).fit()"
   ]
  },
  {
   "cell_type": "markdown",
   "metadata": {},
   "source": [
    "Save the predicted values of model 7 ton data_holdout"
   ]
  },
  {
   "cell_type": "code",
   "execution_count": 96,
   "metadata": {},
   "outputs": [],
   "source": [
    "data_holdout[\"predicted_price\"] = model7.predict(data_holdout)"
   ]
  },
  {
   "cell_type": "markdown",
   "metadata": {},
   "source": [
    "Look at holdout RMSE of M7"
   ]
  },
  {
   "cell_type": "code",
   "execution_count": 98,
   "metadata": {},
   "outputs": [
    {
     "data": {
      "text/plain": [
       "np.float64(0.35384580723880704)"
      ]
     },
     "execution_count": 98,
     "metadata": {},
     "output_type": "execute_result"
    }
   ],
   "source": [
    "rmse(data_holdout[\"predicted_price\"], data_holdout[\"ln_price\"])"
   ]
  },
  {
   "cell_type": "markdown",
   "metadata": {},
   "source": [
    "work set RMSE refitted on the whole work set"
   ]
  },
  {
   "cell_type": "code",
   "execution_count": 99,
   "metadata": {},
   "outputs": [
    {
     "data": {
      "text/plain": [
       "np.float64(0.33383532764636925)"
      ]
     },
     "execution_count": 99,
     "metadata": {},
     "output_type": "execute_result"
    }
   ],
   "source": [
    "rmse(model7.predict(data_work), data_work[\"ln_price\"])"
   ]
  },
  {
   "cell_type": "markdown",
   "metadata": {},
   "source": [
    "### Fitted vs actual outcome"
   ]
  },
  {
   "cell_type": "markdown",
   "metadata": {},
   "source": [
    "### Figure 14.8 Airbnb prediction – model diagnostics\n",
    "\n",
    "(a) Predicted price vs. actual price"
   ]
  },
  {
   "cell_type": "code",
   "execution_count": 103,
   "metadata": {},
   "outputs": [
    {
     "data": {
      "image/png": "[encoded data removed]",
      "text/plain": [
       "<Figure size 800x800 with 1 Axes>"
      ]
     },
     "metadata": {},
     "output_type": "display_data"
    }
   ],
   "source": [
    "plt.figure(figsize=(8,8))\n",
    "sns.scatterplot(\n",
    "    data=data_holdout,\n",
    "    x=\"predicted_price\",\n",
    "    y=\"ln_price\",\n",
    "    color=\"navy\",\n",
    "    s=10,\n",
    "    alpha=0.7,\n",
    "    legend=False\n",
    ")\n",
    "\n",
    "# Plot y=x reference line\n",
    "plt.plot([0, 350], [0, 0.5], linestyle=\"dashed\", color=\"green\", linewidth=1)\n",
    "\n",
    "plt.xlim(0, 0.5)\n",
    "plt.ylim(0, 0.5)\n",
    "plt.xticks(np.arange(0, 0.5, 50))\n",
    "plt.yticks(np.arange(0, 0.5, 0.05))\n",
    "plt.xlabel(\"Predicted price  (US dollars)\")\n",
    "plt.ylabel(\"Price (US dollars)\")\n",
    "plt.title(\"Predicted price vs. actual price\")\n",
    "plt.grid(True, linestyle=':', alpha=0.3)\n",
    "plt.tight_layout()\n",
    "plt.show()"
   ]
  },
  {
   "cell_type": "markdown",
   "metadata": {},
   "source": [
    "Redo predicted values at 80% PI\n"
   ]
  },
  {
   "cell_type": "code",
   "execution_count": null,
   "metadata": {},
   "outputs": [],
   "source": [
    "prediction_agg_by_nacc = (\n",
    "    model7.get_prediction(data_holdout)\n",
    "    .summary_frame(alpha=0.2)\n",
    "    .filter([\"mean\", \"obs_ci_lower\", \"obs_ci_upper\"])\n",
    "    .rename(columns={\"mean\": \"predicted_price\"})\n",
    "    .assign(n_accommodates=data_holdout[\"n_accommodates\"].values)\n",
    "    .groupby(by=[\"n_accommodates\"])\n",
    "    .mean()\n",
    "    .reset_index()\n",
    ")"
   ]
  },
  {
   "cell_type": "markdown",
   "metadata": {},
   "source": [
    "(b) Prediction interval by apartment size"
   ]
  },
  {
   "cell_type": "code",
   "execution_count": null,
   "metadata": {},
   "outputs": [
    {
     "ename": "NameError",
     "evalue": "name 'prediction_agg_by_nacc' is not defined",
     "output_type": "error",
     "traceback": [
      "\u001b[31m---------------------------------------------------------------------------\u001b[39m",
      "\u001b[31mNameError\u001b[39m                                 Traceback (most recent call last)",
      "\u001b[36mCell\u001b[39m\u001b[36m \u001b[39m\u001b[32mIn[209]\u001b[39m\u001b[32m, line 2\u001b[39m\n\u001b[32m      1\u001b[39m (\n\u001b[32m----> \u001b[39m\u001b[32m2\u001b[39m     ggplot(\u001b[43mprediction_agg_by_nacc\u001b[49m, aes(x=\u001b[33m\"\u001b[39m\u001b[33mn_accommodates\u001b[39m\u001b[33m\"\u001b[39m))\n\u001b[32m      3\u001b[39m     + geom_bar(aes(y=\u001b[33m\"\u001b[39m\u001b[33mpredicted_price\u001b[39m\u001b[33m\"\u001b[39m), stat=\u001b[33m\"\u001b[39m\u001b[33midentity\u001b[39m\u001b[33m\"\u001b[39m, fill=color[\u001b[32m0\u001b[39m], alpha=\u001b[32m0.7\u001b[39m)\n\u001b[32m      4\u001b[39m     + geom_errorbar(\n\u001b[32m      5\u001b[39m         aes(ymin=\u001b[33m\"\u001b[39m\u001b[33mobs_ci_lower\u001b[39m\u001b[33m\"\u001b[39m, ymax=\u001b[33m\"\u001b[39m\u001b[33mobs_ci_upper\u001b[39m\u001b[33m\"\u001b[39m), color=color[\u001b[32m1\u001b[39m], width=\u001b[32m0.2\u001b[39m\n\u001b[32m      6\u001b[39m     )\n\u001b[32m      7\u001b[39m     + scale_y_continuous(name=\u001b[33m\"\u001b[39m\u001b[33mPredicted price (US dollars)\u001b[39m\u001b[33m\"\u001b[39m)\n\u001b[32m      8\u001b[39m     + scale_x_continuous(name=\u001b[33m\"\u001b[39m\u001b[33mAccomodates (Persons)\u001b[39m\u001b[33m\"\u001b[39m, breaks=seq(\u001b[32m1\u001b[39m, \u001b[32m7\u001b[39m, \u001b[32m1\u001b[39m))\n\u001b[32m      9\u001b[39m     + scale_color_manual(values=(color[\u001b[32m1\u001b[39m], color[\u001b[32m1\u001b[39m]))\n\u001b[32m     10\u001b[39m     + theme_bw()\n\u001b[32m     11\u001b[39m     + theme(legend_title=element_blank(), legend_position=\u001b[33m\"\u001b[39m\u001b[33mnone\u001b[39m\u001b[33m\"\u001b[39m)\n\u001b[32m     12\u001b[39m )\n",
      "\u001b[31mNameError\u001b[39m: name 'prediction_agg_by_nacc' is not defined"
     ]
    }
   ],
   "source": [
    "(\n",
    "    ggplot(prediction_agg_by_nacc, aes(x=\"n_accommodates\"))\n",
    "    + geom_bar(aes(y=\"predicted_price\"), stat=\"identity\", fill=color[0], alpha=0.7)\n",
    "    + geom_errorbar(\n",
    "        aes(ymin=\"obs_ci_lower\", ymax=\"obs_ci_upper\"), color=color[1], width=0.2\n",
    "    )\n",
    "    + scale_y_continuous(name=\"Predicted price (US dollars)\")\n",
    "    + scale_x_continuous(name=\"Accomodates (Persons)\", breaks=seq(1, 7, 1))\n",
    "    + scale_color_manual(values=(color[1], color[1]))\n",
    "    + theme_bw()\n",
    "    + theme(legend_title=element_blank(), legend_position=\"none\")\n",
    ")"
   ]
  },
  {
   "cell_type": "markdown",
   "metadata": {},
   "source": [
    "Density chart (not in book)"
   ]
  },
  {
   "cell_type": "code",
   "execution_count": null,
   "metadata": {},
   "outputs": [
    {
     "data": {
      "image/png": "[encoded data removed]",
      "text/plain": [
       "<Figure size 640x480 with 1 Axes>"
      ]
     },
     "metadata": {},
     "output_type": "display_data"
    },
    {
     "data": {
      "text/plain": [
       "<Figure Size: (640 x 480)>"
      ]
     },
     "execution_count": 120,
     "metadata": {},
     "output_type": "execute_result"
    }
   ],
   "source": [
    "(\n",
    "    ggplot(datau, aes(x=\"price\", color=\"factor(f_room_type)\"))\n",
    "    + geom_density(na_rm=True, alpha=0.3)\n",
    "    + scale_color_manual(name=\"\", values=(color[1], color[0], color[2]))\n",
    "    + labs(x=\"Price (US dollars)\", y=\"Density\", color=\"\")\n",
    "    + theme_bw()\n",
    "    + theme(\n",
    "        legend_position=\"right\",\n",
    "        legend_title=element_blank(),\n",
    "        legend_direction=\"vertical\",\n",
    "        legend_background=element_blank(),\n",
    "        legend_box_background=element_rect(color=\"white\"),\n",
    "    )\n",
    ")"
   ]
  },
  {
   "cell_type": "markdown",
   "metadata": {},
   "source": [
    "Barchart  (not in book)"
   ]
  },
  {
   "cell_type": "code",
   "execution_count": null,
   "metadata": {},
   "outputs": [
    {
     "data": {
      "image/png": "[encoded data removed]",
      "text/plain": [
       "<Figure size 640x480 with 1 Axes>"
      ]
     },
     "metadata": {},
     "output_type": "display_data"
    },
    {
     "data": {
      "text/plain": [
       "<Figure Size: (640 x 480)>"
      ]
     },
     "execution_count": 121,
     "metadata": {},
     "output_type": "execute_result"
    }
   ],
   "source": [
    "(\n",
    "    ggplot(datau, aes(x=\"factor(n_accommodates)\", color=\"f_room_type\"))\n",
    "    + geom_bar(alpha=0.8, na_rm=True, width=0.8, fill=None)\n",
    "    + scale_color_manual(name=\"\", values=(color[1], color[0], color[2]))\n",
    "    + labs(x=\"Accomodates (Persons)\", y=\"Frequency\")\n",
    "    + theme_bw()\n",
    "    + theme(\n",
    "        legend_position=\"right\",\n",
    "        legend_title=element_blank(),\n",
    "        legend_direction=\"vertical\",\n",
    "        legend_background=element_blank(),\n",
    "        legend_box_background=element_rect(color=\"white\"),\n",
    "    )\n",
    ")"
   ]
  },
  {
   "cell_type": "code",
   "execution_count": null,
   "metadata": {},
   "outputs": [],
   "source": []
  }
 ],
 "metadata": {
  "kernelspec": {
   "display_name": "Python 3",
   "language": "python",
   "name": "python3"
  },
  "language_info": {
   "codemirror_mode": {
    "name": "ipython",
    "version": 3
   },
   "file_extension": ".py",
   "mimetype": "text/x-python",
   "name": "python",
   "nbconvert_exporter": "python",
   "pygments_lexer": "ipython3",
   "version": "3.12.1"
  }
 },
 "nbformat": 4,
 "nbformat_minor": 4
}
